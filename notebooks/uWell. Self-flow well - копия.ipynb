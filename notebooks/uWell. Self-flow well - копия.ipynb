{
 "cells": [
  {
   "cell_type": "markdown",
   "metadata": {},
   "source": [
    "Кобзарь О.С. Хабибуллин Р.А. 2019 г.\n",
    "\n",
    "# Модель фонтанирующей скважины"
   ]
  },
  {
   "cell_type": "markdown",
   "metadata": {},
   "source": []
  },
  {
   "cell_type": "code",
   "execution_count": null,
   "metadata": {},
   "outputs": [],
   "source": [
    "import sys\n",
    "sys.path.append('../')\n",
    "\n",
    "import uniflocpy.uWell.deviation_survey as dev_sev\n",
    "import uniflocpy.uTools.data_workflow as utool\n",
    "import uniflocpy.uWell.uPipe as Pipe\n",
    "import uniflocpy.uWell.Self_flow_well as self_flow_well\n",
    "import plotly.graph_objs as go\n",
    "import numpy as np\n",
    "from plotly.offline import download_plotlyjs, init_notebook_mode, plot, iplot\n",
    "from plotly import tools\n",
    "import pandas as pd\n",
    "init_notebook_mode(connected=True)\n",
    "import scipy.interpolate as interpolate\n",
    "import matplotlib.pyplot as plt\n"
   ]
  },
  {
   "cell_type": "code",
   "execution_count": null,
   "metadata": {},
   "outputs": [],
   "source": [
    "simple_well = self_flow_well.self_flow_well(h_intake_mes_m=999,h_intake_vert_m=999,\n",
    "                                            h_bottomhole_mes_m=1000,h_bottomhole_vert_m=1000,\n",
    "                                            t_earth_init_in_reservoir_c=90, t_bottomhole_c=92,\n",
    "                                            p_bottomhole_bar=30)\n",
    "simple_well.well_work_time_sec = 1 "
   ]
  },
  {
   "cell_type": "code",
   "execution_count": null,
   "metadata": {},
   "outputs": [],
   "source": [
    "simple_well.calc_all_from_down_to_up()"
   ]
  },
  {
   "cell_type": "code",
   "execution_count": null,
   "metadata": {},
   "outputs": [],
   "source": [
    "result_df = simple_well.data.combine_df_from_objects(simple_well.data.df_list)"
   ]
  },
  {
   "cell_type": "code",
   "execution_count": null,
   "metadata": {},
   "outputs": [],
   "source": [
    "result_df.to_excel('test.xlsx')"
   ]
  },
  {
   "cell_type": "code",
   "execution_count": null,
   "metadata": {},
   "outputs": [],
   "source": [
    "for i in result_df.columns:\n",
    "    print(i)"
   ]
  },
  {
   "cell_type": "code",
   "execution_count": null,
   "metadata": {},
   "outputs": [],
   "source": [
    "result_df.index = result_df['well.h_calculated_mes_m']\n",
    "patterns = [\"d_m\"]"
   ]
  },
  {
   "cell_type": "code",
   "execution_count": null,
   "metadata": {},
   "outputs": [],
   "source": [
    "def find_by_patterns(patterns, list_to_search):\n",
    "    res = [x for x in list_to_search if re.search(patterns[0], x)] \n",
    "    if len(patterns) >1:\n",
    "        for i in patterns[1:]:\n",
    "            res = [x for x in res if re.search(i, x)] \n",
    "    return res"
   ]
  },
  {
   "cell_type": "code",
   "execution_count": null,
   "metadata": {},
   "outputs": [],
   "source": [
    "res = find_by_patterns(patterns, list(result_df.columns))\n",
    "res"
   ]
  },
  {
   "cell_type": "code",
   "execution_count": null,
   "metadata": {},
   "outputs": [],
   "source": [
    "re.findall(\"mu\", result_df.columns[0])"
   ]
  },
  {
   "cell_type": "code",
   "execution_count": null,
   "metadata": {},
   "outputs": [],
   "source": [
    "result_df[res].plot()"
   ]
  },
  {
   "cell_type": "code",
   "execution_count": null,
   "metadata": {},
   "outputs": [],
   "source": [
    "result_df['well.p_calculated_bar'].T.plot()"
   ]
  },
  {
   "cell_type": "code",
   "execution_count": null,
   "metadata": {},
   "outputs": [],
   "source": [
    "def extract_data(this_class, init_class_name):\n",
    "    all_class_dicts_well = []\n",
    "    def extract_recursicely_data_from_obj(this_class):\n",
    "        this_class_dict = this_class.__dict__\n",
    "        for i, j in this_class_dict.items():\n",
    "            if \"uniflocpy\" in str(type(j)):\n",
    "                this_class_dict = extract_recursicely_data_from_obj(j)\n",
    "                all_class_dicts_well.append({i:this_class_dict})\n",
    "        return this_class_dict\n",
    "    ___ = extract_recursicely_data_from_obj(this_class)\n",
    "    all_class_dicts_well.append({init_class_name: this_class.__dict__})\n",
    "    return all_class_dicts_well\n",
    "\n",
    "\n",
    "def combine_object_dicts_into_one(data):\n",
    "    super_dict = {}\n",
    "    casing_pipe_object_not_passed = True\n",
    "    for i in data:\n",
    "        if list(i.keys())[0] != 'data':\n",
    "            object_name = list(i.keys())[0]\n",
    "            if object_name == \"casing_pipe\":\n",
    "                casing_pipe_object_not_passed = False\n",
    "            if object_name != \"well_profile\" and object_name != \"well\" and casing_pipe_object_not_passed:\n",
    "                parameter_mark = f\"casing_pipe.{object_name}.\"\n",
    "            elif object_name != \"well_profile\" and object_name != \"well\" and not casing_pipe_object_not_passed:\n",
    "                parameter_mark = f\"tube_pipe.{object_name}.\"\n",
    "            else:\n",
    "                parameter_mark = f\"{object_name}.\"\n",
    "            for j,k in i[object_name].items():\n",
    "                super_dict[parameter_mark+j] = k\n",
    "    return super_dict\n",
    "\n",
    "def leave_numbers(data):\n",
    "    new_data = {}\n",
    "    for i, j in data.items():\n",
    "        if str(type(j)) == \"<class 'numpy.ndarray'>\":\n",
    "            \n",
    "            if len(j) == 1:\n",
    "                new_data[i] = float(j)\n",
    "            else:\n",
    "                pass\n",
    "        elif type(j) == int or type(j) == float or str(type(j)) == \"<class 'numpy.float64'>\" or str(type(j)) == \"<class 'NoneType'>\" or type(j) == bool:\n",
    "            new_data[i] = j\n",
    "        else:\n",
    "            pass\n",
    "    return new_data\n",
    "\n",
    "def extract_data_from_object(this_object, object_name, index_to_df = [0]):\n",
    "    data = extract_data(simple_well, object_name)\n",
    "    data = combine_object_dicts_into_one(data)\n",
    "    data = leave_numbers(data)\n",
    "    df = pd.DataFrame(data, index = index_to_df)\n",
    "    return df\n",
    "\n",
    "def combine_df_from_objects(df_list):\n",
    "    for i in df_list:\n",
    "        try:\n",
    "            result_df = result_df.append(i)\n",
    "        except:\n",
    "            result_df = df_list[0]\n",
    "    return result_df"
   ]
  },
  {
   "cell_type": "code",
   "execution_count": null,
   "metadata": {},
   "outputs": [],
   "source": []
  },
  {
   "cell_type": "code",
   "execution_count": null,
   "metadata": {},
   "outputs": [],
   "source": []
  },
  {
   "cell_type": "code",
   "execution_count": null,
   "metadata": {},
   "outputs": [],
   "source": []
  },
  {
   "cell_type": "code",
   "execution_count": null,
   "metadata": {},
   "outputs": [],
   "source": []
  },
  {
   "cell_type": "code",
   "execution_count": null,
   "metadata": {},
   "outputs": [],
   "source": [
    "\n",
    "        "
   ]
  },
  {
   "cell_type": "code",
   "execution_count": null,
   "metadata": {},
   "outputs": [],
   "source": [
    "df = extract_data_from_object(simple_well, 'well', [0])"
   ]
  },
  {
   "cell_type": "code",
   "execution_count": null,
   "metadata": {},
   "outputs": [],
   "source": [
    "df"
   ]
  },
  {
   "cell_type": "code",
   "execution_count": null,
   "metadata": {},
   "outputs": [],
   "source": [
    "for i in df.columns:\n",
    "    print(i)"
   ]
  },
  {
   "cell_type": "code",
   "execution_count": null,
   "metadata": {},
   "outputs": [],
   "source": [
    "simple_well.data.print_all_names()"
   ]
  },
  {
   "cell_type": "code",
   "execution_count": null,
   "metadata": {},
   "outputs": [],
   "source": [
    "def trace(data_x, data_y, namexy):\n",
    "    tracep = go.Scattergl(\n",
    "        x = data_x,\n",
    "        y = data_y,\n",
    "        name = namexy,\n",
    "        mode = 'lines'\n",
    "    )\n",
    "    return tracep\n",
    "\n",
    "def plot():\n",
    "    layout = dict(title = 'Расчет фонтанирующей скважины',  yaxis=dict(title = 'Измеренная глубина, м', autorange='reversed'))\n",
    "\n",
    "    fig = dict(data=data, layout=layout)\n",
    "\n",
    "    iplot(fig, filename='basic-scatter')"
   ]
  },
  {
   "cell_type": "code",
   "execution_count": null,
   "metadata": {},
   "outputs": [],
   "source": [
    "wells = []\n",
    "dfs = []\n",
    "for i in range(1, 300, 50):\n",
    "    simple_well = self_flow_well.self_flow_well(h_intake_mes_m=999,h_intake_vert_m=999,\n",
    "                                            h_bottomhole_mes_m=1000,h_bottomhole_vert_m=1000,\n",
    "                                            t_earth_init_in_reservoir_c=90, t_bottomhole_c=92,\n",
    "                                            d_casing_inner_m=0.12,\n",
    "                                            d_tube_inner_m=0.062,\n",
    "                                            qliq_on_surface_m3day = 50,\n",
    "                                                p_bottomhole_bar=50\n",
    "                                       )\n",
    "    simple_well.casing_pipe.fluid_flow.rsb_m3m3 = 10 * i\n",
    "    simple_well.tube_pipe.fluid_flow.rsb_m3m3 = 10 * i\n",
    "    simple_well.casing_pipe.fluid_flow.fl.rsb_m3m3 = 10 * i\n",
    "    simple_well.tube_pipe.fluid_flow.fl.rsb_m3m3 = 10 * i\n",
    "    simple_well.well_work_time_sec = 1 \n",
    "    simple_well.calc_all_from_down_to_up()\n",
    "    df = extract_data_from_object(simple_well, 'well', [i])\n",
    "    dfs.append(df)\n",
    "    wells.append(simple_well)"
   ]
  },
  {
   "cell_type": "code",
   "execution_count": null,
   "metadata": {},
   "outputs": [],
   "source": [
    "result_df =combine_df_from_objects(dfs)"
   ]
  },
  {
   "cell_type": "code",
   "execution_count": null,
   "metadata": {},
   "outputs": [],
   "source": [
    "result_df"
   ]
  },
  {
   "cell_type": "code",
   "execution_count": null,
   "metadata": {},
   "outputs": [],
   "source": [
    "traces = []\n",
    "for simple_well in wells:\n",
    "    trace1 = trace(simple_well.data.get_values(25), simple_well.data.get_values(24),  \"Давление, бар\")\n",
    "    traces.append(trace1)\n",
    "data=traces\n",
    "plot()    "
   ]
  },
  {
   "cell_type": "code",
   "execution_count": null,
   "metadata": {},
   "outputs": [],
   "source": [
    "trace1 = trace(simple_well.data.get_values(28), simple_well.data.get_values(24),  \"Температурный градиент, С/м\")\n",
    "trace2 = trace(simple_well.data.get_values(29), simple_well.data.get_values(24),  \"Градиент давления, бар/м\")\n",
    "data=[trace1,trace2]\n",
    "plot()"
   ]
  },
  {
   "cell_type": "code",
   "execution_count": null,
   "metadata": {},
   "outputs": [],
   "source": [
    "trace1 = trace(simple_well.data.get_values(25), simple_well.data.get_values(24),  \"Давление, бар\")\n",
    "trace2 = trace(simple_well.data.get_values(26), simple_well.data.get_values(24),  \"Температура флюида, С\")\n",
    "trace3 = trace(simple_well.data.get_values(27), simple_well.data.get_values(24),  \"Температура земли, С\")\n",
    "data=[trace1,trace2,trace3]\n",
    "plot()"
   ]
  },
  {
   "cell_type": "code",
   "execution_count": null,
   "metadata": {},
   "outputs": [],
   "source": [
    "trace1 = go.Scatter3d(\n",
    "    x=simple_well.well_profile.x_displacement_m,\n",
    "    y=simple_well.well_profile.x_displacement_m * 0,\n",
    "    z=simple_well.well_profile.h_vert_m * (-1),  # перевод в альтитуду,\n",
    "    marker=dict(\n",
    "        size=4,\n",
    "        colorscale='Viridis',\n",
    "    ),\n",
    "    name = 'Построенный профиль',\n",
    "    )\n",
    "\n",
    "trace2 = go.Scatter3d(\n",
    "    x=simple_well.well_profile.get_x_displacement_m(simple_well.well_profile.h_mes_init_data_for_interpolation_m),\n",
    "    y=simple_well.well_profile.get_x_displacement_m(simple_well.well_profile.h_mes_init_data_for_interpolation_m) * 0,\n",
    "    z=simple_well.well_profile.h_vert_init_data_for_interpolation_m * (-1),\n",
    "    mode = 'markers',\n",
    "    marker = dict(\n",
    "        size=10\n",
    "    ),\n",
    "    name = 'Исходные точки',\n",
    "    )\n",
    "\n",
    "data = [trace1, trace2]\n",
    "\n",
    "\n",
    "layout = dict(title = '3D профиль простой скважины',  yaxis=dict(autorange='reversed'))\n",
    "fig = dict(data=data, layout=layout)\n",
    "iplot(fig, filename='simple-3d-scatter')"
   ]
  },
  {
   "cell_type": "code",
   "execution_count": null,
   "metadata": {},
   "outputs": [],
   "source": []
  }
 ],
 "metadata": {
  "kernelspec": {
   "display_name": "Python 3",
   "language": "python",
   "name": "python3"
  },
  "language_info": {
   "codemirror_mode": {
    "name": "ipython",
    "version": 3
   },
   "file_extension": ".py",
   "mimetype": "text/x-python",
   "name": "python",
   "nbconvert_exporter": "python",
   "pygments_lexer": "ipython3",
   "version": "3.7.6"
  }
 },
 "nbformat": 4,
 "nbformat_minor": 2
}
