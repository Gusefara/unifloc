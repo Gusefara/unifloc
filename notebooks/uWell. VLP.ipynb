{
 "cells": [
  {
   "cell_type": "markdown",
   "metadata": {},
   "source": [
    "# uWell. VLP\n",
    "\n",
    "Vertical lift perfomance - vertical flow perfomance - кривая лифта - кривая оттока\n",
    "\n",
    "В данном ноутбуке проводится анализ чувствительности от различных параметров для простой вертикальной скважины\n",
    "\n",
    "Т.к. расчеты идут долго, для ускорения применяется многопоточность"
   ]
  },
  {
   "cell_type": "code",
   "execution_count": null,
   "metadata": {},
   "outputs": [],
   "source": [
    "import sys\n",
    "sys.path.append('../')\n",
    "\n",
    "import uniflocpy.uWell.deviation_survey as dev_sev\n",
    "import uniflocpy.uTools.data_workflow as utool\n",
    "import uniflocpy.uWell.uPipe as Pipe\n",
    "import uniflocpy.uWell.Self_flow_well as self_flow_well\n",
    "import plotly.graph_objs as go\n",
    "import numpy as np\n",
    "from plotly.offline import download_plotlyjs, init_notebook_mode, plot, iplot\n",
    "from plotly import tools\n",
    "import pandas as pd\n",
    "init_notebook_mode(connected=True)\n",
    "import scipy.interpolate as interpolate\n",
    "import matplotlib.pyplot as plt\n",
    "data = utool.Data()\n",
    "from uniflocpy.uTools import plotly_workflow\n",
    "import re\n",
    "import uniflocpy.uPVT.BlackOil_model as BlackOil_model\n",
    "import uniflocpy.uTemperature as uTemperature\n",
    "import uniflocpy.uReservoir.IPR_simple_line as IPR_simple_line\n",
    "import uniflocpy.uTools.plotly_workflow as plotly_workflow \n",
    "import uniflocpy.uValidation.python_api as python_api"
   ]
  },
  {
   "cell_type": "code",
   "execution_count": null,
   "metadata": {},
   "outputs": [],
   "source": [
    "amount_of_threads = 6\n",
    "from multiprocessing import Pool"
   ]
  },
  {
   "cell_type": "code",
   "execution_count": null,
   "metadata": {},
   "outputs": [],
   "source": [
    "import uniflocpy.uWell.mp_test as mp_test"
   ]
  },
  {
   "cell_type": "code",
   "execution_count": null,
   "metadata": {},
   "outputs": [],
   "source": [
    "well_data = {\"rsb_m3m3\" : 56,\n",
    "\"gamma_oil\" : 0.86,\n",
    "\"gamma_gas\" : 0.7,\n",
    "\n",
    "\"h_intake_mes_m\" :1211,\n",
    "\"h_intake_vert_m\" : 1211,\n",
    "\"h_bottomhole_mes_m\" : 1757, \n",
    "\"h_bottomhole_vert_m\": 1757,\n",
    "             \n",
    "\"geothermal_grad_cm\":0.02,\n",
    "\"t_bottomhole_c\" :40,\n",
    "\"t_earth_init_in_reservoir_c\" : 40,\n",
    "'p_bottomhole_bar':155.5,\n",
    "\"d_casing_inner_m\" : 0.133,\n",
    "\"d_tube_inner_m\" : 0.0503,\n",
    "\"qliq_on_surface_m3day\":240,\n",
    "\"fw_on_surface_perc\":25,\n",
    "            \n",
    "\"step_lenth_in_calc_along_wellbore_m\":50,\n",
    "                \"without_annulus_space\":False,\n",
    "            \n",
    "\"fluid\":1, \n",
    " \"reservoir\":0,\n",
    "\"pipe\":0,\n",
    "\"temp_corr\":1,\n",
    "\"solver_using\":1}"
   ]
  },
  {
   "cell_type": "code",
   "execution_count": null,
   "metadata": {},
   "outputs": [],
   "source": [
    "def create_data_to_mp(parameter_name_to_fill, parameter_values_to_fill, \n",
    "                      parameter_name_to_iterate=\"qliq_on_surface_m3day\",\n",
    "                      parameter_name_to_extract='p_bottomhole_bar',\n",
    "                      well_data=well_data, \n",
    "                      amount_of_threads=amount_of_threads, defined_range=range(1, 300, 15)):\n",
    "    to_mp = []\n",
    "    for i,j in zip(range(amount_of_threads), parameter_values_to_fill):\n",
    "        this_well_data = well_data.copy()\n",
    "        this_well_data[parameter_name_to_fill] = j\n",
    "        data = [self_flow_well.self_flow_well, this_well_data,defined_range , parameter_name_to_iterate,\n",
    "                                     parameter_name_to_extract, parameter_name_to_fill, j]\n",
    "        to_mp.append(data)\n",
    "    return to_mp\n",
    "\n",
    "def run_calculation(to_mp, func = mp_test.calc_well_with_one_parameter, amount_of_threads=amount_of_threads):\n",
    "    if __name__ == '__main__':\n",
    "        with Pool(amount_of_threads) as p:\n",
    "            result = p.map(func, to_mp)\n",
    "            \n",
    "    result_df  = None\n",
    "    for i in result:\n",
    "        try:\n",
    "            result_df = result_df.join(i, how = 'outer')\n",
    "        except:\n",
    "            result_df = i.copy()\n",
    "    return result_df"
   ]
  },
  {
   "cell_type": "code",
   "execution_count": null,
   "metadata": {},
   "outputs": [],
   "source": [
    "to_mp = create_data_to_mp(\"fw_on_surface_perc\", [0, 10, 25, 50, 70, 100],defined_range = range(1,300,50)) "
   ]
  },
  {
   "cell_type": "code",
   "execution_count": null,
   "metadata": {},
   "outputs": [],
   "source": [
    "result_df = run_calculation(to_mp)"
   ]
  },
  {
   "cell_type": "code",
   "execution_count": null,
   "metadata": {},
   "outputs": [],
   "source": [
    "all_traces = plotly_workflow.create_traces_list_for_all_columms(result_df, 'lines+markers')\n",
    "plotly_workflow.plot_func(all_traces, 'Анализ чувствительности', 'check.html', iplot_option = True)\n"
   ]
  },
  {
   "cell_type": "code",
   "execution_count": null,
   "metadata": {},
   "outputs": [],
   "source": [
    "to_mp = create_data_to_mp(\"rsb_m3m3\", [20, 30, 50,  100, 200,400],defined_range = range(1,300,25)) "
   ]
  },
  {
   "cell_type": "code",
   "execution_count": null,
   "metadata": {},
   "outputs": [],
   "source": [
    "result_df = run_calculation(to_mp)"
   ]
  },
  {
   "cell_type": "code",
   "execution_count": null,
   "metadata": {},
   "outputs": [],
   "source": [
    "all_traces = plotly_workflow.create_traces_list_for_all_columms(result_df, 'lines+markers')\n",
    "plotly_workflow.plot_func(all_traces, 'Анализ чувствительности', 'check.html', iplot_option = True)\n"
   ]
  },
  {
   "cell_type": "code",
   "execution_count": null,
   "metadata": {},
   "outputs": [],
   "source": [
    "to_mp = create_data_to_mp(\"d_tube_inner_m\", [0.04, 0.05, 0.06,  0.07, 0.08,0.09],defined_range = range(1,300,15)) "
   ]
  },
  {
   "cell_type": "code",
   "execution_count": null,
   "metadata": {},
   "outputs": [],
   "source": [
    "result_df = run_calculation(to_mp)"
   ]
  },
  {
   "cell_type": "code",
   "execution_count": null,
   "metadata": {},
   "outputs": [],
   "source": [
    "all_traces = plotly_workflow.create_traces_list_for_all_columms(result_df, 'lines+markers')\n",
    "plotly_workflow.plot_func(all_traces, 'Анализ чувствительности', 'check.html', iplot_option = True)\n"
   ]
  },
  {
   "cell_type": "code",
   "execution_count": null,
   "metadata": {},
   "outputs": [],
   "source": [
    "to_mp = create_data_to_mp(\"step_lenth_in_calc_along_wellbore_m\", \n",
    "                          [10, 20, 40,  80, 150,300],defined_range = range(1,300,15)) \n"
   ]
  },
  {
   "cell_type": "code",
   "execution_count": null,
   "metadata": {},
   "outputs": [],
   "source": [
    "result_df = run_calculation(to_mp)"
   ]
  },
  {
   "cell_type": "code",
   "execution_count": null,
   "metadata": {},
   "outputs": [],
   "source": [
    "all_traces = plotly_workflow.create_traces_list_for_all_columms(result_df, 'lines+markers')\n",
    "plotly_workflow.plot_func(all_traces, 'Анализ чувствительности', 'check.html', iplot_option = True)\n"
   ]
  },
  {
   "cell_type": "code",
   "execution_count": null,
   "metadata": {},
   "outputs": [],
   "source": [
    "to_mp = create_data_to_mp(\"t_bottomhole_c\", \n",
    "                          [20,  40, 60, 80, 100,120],defined_range = range(1,300,15)) \n"
   ]
  },
  {
   "cell_type": "code",
   "execution_count": null,
   "metadata": {},
   "outputs": [],
   "source": [
    "result_df = run_calculation(to_mp)"
   ]
  },
  {
   "cell_type": "code",
   "execution_count": null,
   "metadata": {},
   "outputs": [],
   "source": [
    "all_traces = plotly_workflow.create_traces_list_for_all_columms(result_df, 'lines+markers')\n",
    "plotly_workflow.plot_func(all_traces, 'Анализ чувствительности', 'check.html', iplot_option = True)\n"
   ]
  },
  {
   "cell_type": "code",
   "execution_count": null,
   "metadata": {},
   "outputs": [],
   "source": [
    "to_mp = create_data_to_mp(\"gamma_oil\", \n",
    "                          [0.65,  0.7, 0.8,0.85, 0.9, 0.95],defined_range = range(1,300,20)) \n"
   ]
  },
  {
   "cell_type": "code",
   "execution_count": null,
   "metadata": {},
   "outputs": [],
   "source": [
    "result_df = run_calculation(to_mp)"
   ]
  },
  {
   "cell_type": "code",
   "execution_count": null,
   "metadata": {},
   "outputs": [],
   "source": [
    "all_traces = plotly_workflow.create_traces_list_for_all_columms(result_df, 'lines+markers')\n",
    "plotly_workflow.plot_func(all_traces, 'Анализ чувствительности', 'check.html', iplot_option = True)\n"
   ]
  },
  {
   "cell_type": "code",
   "execution_count": null,
   "metadata": {},
   "outputs": [],
   "source": []
  }
 ],
 "metadata": {
  "kernelspec": {
   "display_name": "Python 3",
   "language": "python",
   "name": "python3"
  },
  "language_info": {
   "codemirror_mode": {
    "name": "ipython",
    "version": 3
   },
   "file_extension": ".py",
   "mimetype": "text/x-python",
   "name": "python",
   "nbconvert_exporter": "python",
   "pygments_lexer": "ipython3",
   "version": "3.7.6"
  }
 },
 "nbformat": 4,
 "nbformat_minor": 4
}
