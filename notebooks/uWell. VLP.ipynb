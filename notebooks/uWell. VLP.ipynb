{
 "cells": [
  {
   "cell_type": "code",
   "execution_count": null,
   "metadata": {},
   "outputs": [],
   "source": [
    "import sys\n",
    "sys.path.append('../')\n",
    "\n",
    "import uniflocpy.uWell.deviation_survey as dev_sev\n",
    "import uniflocpy.uTools.data_workflow as utool\n",
    "import uniflocpy.uWell.uPipe as Pipe\n",
    "import uniflocpy.uWell.Self_flow_well as self_flow_well\n",
    "import plotly.graph_objs as go\n",
    "import numpy as np\n",
    "from plotly.offline import download_plotlyjs, init_notebook_mode, plot, iplot\n",
    "from plotly import tools\n",
    "import pandas as pd\n",
    "init_notebook_mode(connected=True)\n",
    "import scipy.interpolate as interpolate\n",
    "import matplotlib.pyplot as plt\n",
    "data = utool.Data()\n",
    "from uniflocpy.uTools import plotly_workflow\n",
    "import re\n",
    "import uniflocpy.uPVT.BlackOil_model as BlackOil_model\n",
    "import uniflocpy.uTemperature as uTemperature\n",
    "import uniflocpy.uReservoir.IPR_simple_line as IPR_simple_line\n",
    "import uniflocpy.uTools.plotly_workflow as plotly_workflow \n",
    "import uniflocpy.uValidation.python_api as python_api"
   ]
  },
  {
   "cell_type": "code",
   "execution_count": null,
   "metadata": {},
   "outputs": [],
   "source": [
    "pb_bar = 9 * 10**5\n",
    "fluid_data = {\"rsb_m3m3\" : 56,\n",
    "\"gamma_oil\" : 0.86,\n",
    "\"gamma_gas\" : 1.45/1.293}\n",
    "\n",
    "well_data = {\"h_intake_mes_m\" :1211,\n",
    "\"h_intake_vert_m\" : 1211,\n",
    "\"h_bottomhole_mes_m\" : 1757, \n",
    "\"h_bottomhole_vert_m\": 1757,\n",
    "             \n",
    "\"geothermal_grad_cm\":0.02,\n",
    "\"t_bottomhole_c\" :40,\n",
    "\"t_earth_init_in_reservoir_c\" : 40,\n",
    "'p_bottomhole_bar':155.5,\n",
    "\"d_casing_inner_m\" : 0.133,\n",
    "\"d_tube_inner_m\" : 0.0503,\n",
    "\"qliq_on_surface_m3day\":240,\n",
    "\"fw_on_surface_perc\":25,\n",
    "            \n",
    "'t_wellhead_c':20,\n",
    "'p_wellhead_bar':9.75}\n",
    "real_measurements = pd.DataFrame({'p_survey_mpa': [0.975, 8.495, 9.44, 10.365, 10.902, 11.272, 12.085, 12.907, 13.785, 14.67, 15.55],\n",
    "                                 'h_mes_survey_m': [0, 957, 1057, 1157, 1211, 1257, 1357, 1457, 1557, 1657, 1757]})"
   ]
  },
  {
   "cell_type": "code",
   "execution_count": null,
   "metadata": {},
   "outputs": [],
   "source": [
    "real_measurements[\"p_survey_bar\"] = real_measurements[\"p_survey_mpa\"] * 10\n",
    "real_measurements = real_measurements.set_index(real_measurements['h_mes_survey_m'])\n",
    "real_measurements.index.name = 'well.h_calculated_mes_m'"
   ]
  },
  {
   "cell_type": "code",
   "execution_count": null,
   "metadata": {},
   "outputs": [],
   "source": [
    "calc_options ={\"step_lenth_in_calc_along_wellbore_m\":24.35,\n",
    "                \"without_annulus_space\":False}"
   ]
  },
  {
   "cell_type": "code",
   "execution_count": null,
   "metadata": {},
   "outputs": [],
   "source": [
    "reservoir = IPR_simple_line.IPRSimpleLine()\n",
    "ipr_m3daybar = reservoir.calc_pi_m3daybar(well_data['qliq_on_surface_m3day'], well_data['p_bottomhole_bar'], 250)"
   ]
  },
  {
   "cell_type": "code",
   "execution_count": null,
   "metadata": {},
   "outputs": [],
   "source": [
    "fluid_data = {\"rsb_m3m3\" : 56,\n",
    "\"gamma_oil\" : 0.86,\n",
    "\"gamma_gas\" : 0.9}"
   ]
  },
  {
   "cell_type": "code",
   "execution_count": null,
   "metadata": {},
   "outputs": [],
   "source": [
    "pipe = Pipe.Pipe()"
   ]
  },
  {
   "cell_type": "code",
   "execution_count": null,
   "metadata": {},
   "outputs": [],
   "source": [
    "pipe = Pipe.Pipe(temp_cor=uTemperature.temp_cor_simple_line.SimpleLineCor())\n"
   ]
  },
  {
   "cell_type": "code",
   "execution_count": null,
   "metadata": {},
   "outputs": [],
   "source": [
    "blackoil_option = BlackOil_model.BlackOil_option()"
   ]
  },
  {
   "cell_type": "code",
   "execution_count": null,
   "metadata": {},
   "outputs": [],
   "source": [
    "\n",
    "\n",
    "blackoil_option.b_wat_cor_number = 1\n",
    "blackoil_option.mu_wat_cor_number = 1\n",
    "blackoil_option.rho_wat_cor_number = 1"
   ]
  },
  {
   "cell_type": "code",
   "execution_count": null,
   "metadata": {},
   "outputs": [],
   "source": [
    "fluid = BlackOil_model.Fluid(**fluid_data, option = blackoil_option)\n"
   ]
  },
  {
   "cell_type": "code",
   "execution_count": null,
   "metadata": {},
   "outputs": [],
   "source": [
    "\n",
    "simple_well = self_flow_well.self_flow_well(fluid=fluid, reservoir = reservoir, pipe=pipe,\n",
    "                                            **well_data, **calc_options)\n",
    "simple_well.well_work_time_sec = 1"
   ]
  },
  {
   "cell_type": "code",
   "execution_count": null,
   "metadata": {},
   "outputs": [],
   "source": [
    "#simple_well.calc_all_from_down_to_up()"
   ]
  },
  {
   "cell_type": "code",
   "execution_count": null,
   "metadata": {},
   "outputs": [],
   "source": [
    "simple_well.calc_all_from_up_to_down()"
   ]
  },
  {
   "cell_type": "code",
   "execution_count": null,
   "metadata": {},
   "outputs": [],
   "source": [
    "result_df = simple_well.data.get_data_as_df()\n",
    "result_df.to_excel('test.xlsx')\n",
    "result_df = result_df.set_index('well.h_calculated_mes_m')\n",
    "result_df.head()"
   ]
  },
  {
   "cell_type": "code",
   "execution_count": null,
   "metadata": {},
   "outputs": [],
   "source": [
    "result_df = result_df.join(real_measurements, how = 'outer')"
   ]
  },
  {
   "cell_type": "code",
   "execution_count": null,
   "metadata": {},
   "outputs": [],
   "source": [
    "group_patterns = [[\"p_bar\", 'fl'], ['t_c', 'fl'], ['well.t_calculated_earth_init'], ['survey']]\n",
    "antipatterns = ['mu', 'h_mes_survey', 'mpa']\n",
    "plotly_workflow.plot_by_patterns(result_df, group_patterns, antipatterns, plot_name='Распределение свойств по глубине')"
   ]
  },
  {
   "cell_type": "code",
   "execution_count": null,
   "metadata": {},
   "outputs": [],
   "source": [
    "simple_well.save_all = True\n",
    "results = []\n",
    "for i in range(1, 300, 15):\n",
    "\n",
    "    print(i)\n",
    "    simple_well.data.clear_data()\n",
    "    simple_well.qliq_on_surface_m3day = i\n",
    "    simple_well.calc_all_from_up_to_down()\n",
    "    this_result_df = simple_well.data.get_data_as_df()\n",
    "    this_result_df = this_result_df.set_index('well.h_calculated_mes_m')\n",
    "    results.append(this_result_df)\n",
    "    \n",
    "    this_result_df = this_result_df.add_prefix(f\"qliq_m3day: {i}, \")\n",
    "    try:\n",
    "        result_df_to_plot = result_df_to_plot.join(this_result_df)\n",
    "    except:\n",
    "        result_df_to_plot = this_result_df.copy()"
   ]
  },
  {
   "cell_type": "code",
   "execution_count": null,
   "metadata": {},
   "outputs": [],
   "source": [
    "result_df_analysis = None\n",
    "for i in results:\n",
    "    qliq_on_surface_m3day = i['well.qliq_on_surface_m3day'][0]\n",
    "    this_df = pd.DataFrame({'well.p_bottomhole_bar': i['well.p_bottomhole_bar'][0]}, index = [qliq_on_surface_m3day])\n",
    "    try:\n",
    "        result_df_analysis = result_df_analysis.append(this_df)\n",
    "    except:\n",
    "        result_df_analysis = this_df.copy()"
   ]
  },
  {
   "cell_type": "code",
   "execution_count": null,
   "metadata": {},
   "outputs": [],
   "source": [
    "all_traces = plotly_workflow.create_traces_list_for_all_columms(result_df_analysis, 'lines+markers')\n",
    "plotly_workflow.plot_func(all_traces, 'Распределение свойств по глубине', 'check.html', iplot_option = True)\n"
   ]
  },
  {
   "cell_type": "code",
   "execution_count": null,
   "metadata": {},
   "outputs": [],
   "source": [
    "\n"
   ]
  },
  {
   "cell_type": "code",
   "execution_count": null,
   "metadata": {},
   "outputs": [],
   "source": [
    "simple_well.save_all = False\n",
    "result_df_analysis = None\n",
    "for j in range(1, 99, 20):\n",
    "    simple_well.fw_on_surface_perc = j\n",
    "    results_q = []\n",
    "    results_p = []\n",
    "    for i in range(1, 300, 40):\n",
    "        simple_well.p_wellhead_bar = 20\n",
    "        simple_well.data.clear_data()\n",
    "        simple_well.qliq_on_surface_m3day = i\n",
    "        simple_well.calc_all_from_up_to_down()\n",
    "        results_q.append(i)\n",
    "        results_p.append(simple_well.p_bottomhole_bar)\n",
    "    one_df = pd.DataFrame({f\"p_bottomhole_bar {j}\": results_p}, index = results_q)\n",
    "\n",
    "    try:\n",
    "        result_df_analysis = result_df_analysis.append(one_df)\n",
    "    except:\n",
    "        result_df_analysis = one_df.copy()"
   ]
  },
  {
   "cell_type": "code",
   "execution_count": null,
   "metadata": {},
   "outputs": [],
   "source": [
    "all_traces = plotly_workflow.create_traces_list_for_all_columms(result_df_analysis, 'lines+markers')\n",
    "plotly_workflow.plot_func(all_traces, 'Распределение свойств по глубине', 'check.html', iplot_option = True)\n"
   ]
  },
  {
   "cell_type": "code",
   "execution_count": null,
   "metadata": {},
   "outputs": [],
   "source": []
  },
  {
   "cell_type": "code",
   "execution_count": null,
   "metadata": {},
   "outputs": [],
   "source": [
    "simple_well.save_all = False\n",
    "result_df_analysis = None\n",
    "for j in range(1, 500, 50):\n",
    "    simple_well.fw_on_surface_perc = 20\n",
    "    simple_well.pipe.fluid_flow.fl.rsb_m3m3 = j\n",
    "    results_q = []\n",
    "    results_p = []\n",
    "    for i in range(1, 300, 40):\n",
    "        simple_well.p_wellhead_bar = 20\n",
    "        simple_well.data.clear_data()\n",
    "        simple_well.qliq_on_surface_m3day = i\n",
    "        simple_well.calc_all_from_up_to_down()\n",
    "        results_q.append(i)\n",
    "        results_p.append(simple_well.p_bottomhole_bar)\n",
    "    one_df = pd.DataFrame({f\"p_bottomhole_bar {j}\": results_p}, index = results_q)\n",
    "\n",
    "    try:\n",
    "        result_df_analysis = result_df_analysis.append(one_df)\n",
    "    except:\n",
    "        result_df_analysis = one_df.copy()"
   ]
  },
  {
   "cell_type": "code",
   "execution_count": null,
   "metadata": {},
   "outputs": [],
   "source": [
    "all_traces = plotly_workflow.create_traces_list_for_all_columms(result_df_analysis, 'lines+markers')\n",
    "plotly_workflow.plot_func(all_traces, 'Распределение свойств по глубине', 'check.html', iplot_option = True)\n"
   ]
  },
  {
   "cell_type": "code",
   "execution_count": null,
   "metadata": {},
   "outputs": [],
   "source": [
    "amount_of_threads = 6\n",
    "from multiprocessing import Pool"
   ]
  },
  {
   "cell_type": "code",
   "execution_count": null,
   "metadata": {},
   "outputs": [],
   "source": [
    "import uniflocpy.uWell.mp_test as mp_test"
   ]
  },
  {
   "cell_type": "code",
   "execution_count": null,
   "metadata": {},
   "outputs": [],
   "source": [
    "if __name__ == '__main__':\n",
    "    with Pool(6) as p:\n",
    "        result = p.map(mp_test.calc_well_with_one_parameter, [1, 20, 50, 200, 500, 1000])"
   ]
  },
  {
   "cell_type": "code",
   "execution_count": null,
   "metadata": {},
   "outputs": [],
   "source": [
    "result_df  = None\n",
    "for i in result:\n",
    "    try:\n",
    "        result_df = result_df.join(i)\n",
    "    except:\n",
    "        result_df = i.copy()\n",
    "    "
   ]
  },
  {
   "cell_type": "code",
   "execution_count": null,
   "metadata": {},
   "outputs": [],
   "source": [
    "result_df"
   ]
  },
  {
   "cell_type": "code",
   "execution_count": null,
   "metadata": {},
   "outputs": [],
   "source": [
    "all_traces = plotly_workflow.create_traces_list_for_all_columms(result_df, 'lines+markers')\n",
    "plotly_workflow.plot_func(all_traces, 'Распределение свойств по глубине', 'check.html', iplot_option = True)\n"
   ]
  },
  {
   "cell_type": "code",
   "execution_count": null,
   "metadata": {},
   "outputs": [],
   "source": []
  }
 ],
 "metadata": {
  "kernelspec": {
   "display_name": "Python 3",
   "language": "python",
   "name": "python3"
  },
  "language_info": {
   "codemirror_mode": {
    "name": "ipython",
    "version": 3
   },
   "file_extension": ".py",
   "mimetype": "text/x-python",
   "name": "python",
   "nbconvert_exporter": "python",
   "pygments_lexer": "ipython3",
   "version": "3.7.6"
  }
 },
 "nbformat": 4,
 "nbformat_minor": 4
}
