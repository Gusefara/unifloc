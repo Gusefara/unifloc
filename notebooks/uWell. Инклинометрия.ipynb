{
 "cells": [
  {
   "cell_type": "markdown",
   "metadata": {},
   "source": [
    "Кобзарь О.С. Хабибуллин Р.А. 2019 г.\n",
    "\n",
    "# Инклинометрия и конструкция скважин"
   ]
  },
  {
   "cell_type": "markdown",
   "metadata": {},
   "source": [
    "Уточнить параметры!!!\n",
    "\n",
    "Геометрия профиля ствола скважины значительно влияет на процесс добычи. При горизонтальной конструкции скважины дебит ее как правило увеличивается, за счет большей площади контакта с пластом.\n",
    "\n",
    "На процесс расчета модели скважины, в частности для получения КРД и КРТ, необходимо знать абсолютную глубину при различных глубинах вдоль ствола скважины и угол наклона рассматриваемого участка.\n",
    "\n",
    "Кроме того, профиль ствола скважины накладывает свои ограничения на установку погружного оборудования. Процесс добычи с помощью УШГН в наклонно-направленных скважинах может быть значительно осложнен или невозможен. При применении УЭЦН необходимо учитывать два фактора:\n",
    "\n",
    "* ЭЦН должен быть размещен на неискривлённом участке (slant section) с темпом набора кривизны не более 2 минут на 10 м. В противном случае возникающие при работе насоса вибрации и напряжения на валу быстро выведут его из строя. При строительстве скважин данный участок делают длиной порядка 100 м.\n",
    "\n",
    "* При самом спуске ЭЦН до предполагаемой глубины размещения не должно быть участков с темпом набора кривизны более 2 градусов на 10 м. Иначе при установке оборудования произойдут необратимые деформации, которые приведут к скорому отказу.\n",
    "\n",
    "При отсутствии инклинометрии можно воспользоваться простой моделью конструкции скважины. По известным точкам - данным по глубине и удлинению в точке - проинтерполировать значения и получить примерный профиль скважины. Исходными данными будут являться глубины и удлинения: кондуктора (по умолчанию 500 м - вертикальный), спуска оборудования, забоя скважины."
   ]
  },
  {
   "cell_type": "code",
   "execution_count": null,
   "metadata": {},
   "outputs": [],
   "source": [
    "import sys\n",
    "sys.path.append('../')\n",
    "\n",
    "import uniflocpy.uWell.deviation_survey as dev_sev\n",
    "import uniflocpy.uTools.data_workflow as utool\n",
    "import uniflocpy.uWell.uPipe as Pipe\n",
    "import plotly.graph_objs as go\n",
    "import numpy as np\n",
    "from plotly.offline import download_plotlyjs, init_notebook_mode, plot, iplot\n",
    "from plotly import tools\n",
    "import pandas as pd\n",
    "init_notebook_mode(connected=True)\n",
    "import scipy.interpolate as interpolate\n",
    "import matplotlib.pyplot as plt"
   ]
  },
  {
   "cell_type": "markdown",
   "metadata": {},
   "source": [
    "## Профиль реальной скважины по инклинометрии"
   ]
  },
  {
   "cell_type": "code",
   "execution_count": null,
   "metadata": {},
   "outputs": [],
   "source": [
    "path_to_file = './data/test_deviation_survey_data.xls'\n",
    "\n",
    "wds = dev_sev.well_deviation_survey()\n",
    "\n",
    "wds.load_deviation_survey(path_to_file)\n",
    "\n",
    "wds.calc_all()"
   ]
  },
  {
   "cell_type": "code",
   "execution_count": null,
   "metadata": {},
   "outputs": [],
   "source": [
    "x = wds.deviation_survey_dataframe['Координата Х (инклинометрия)']\n",
    "y = wds.deviation_survey_dataframe['Координата Y (инклинометрия)']\n",
    "z = wds.deviation_survey_dataframe['Вертикальная отметка'] * (-1)  # перевод в альтитуду\n",
    "trace1 = go.Scatter3d(\n",
    "    x=x,\n",
    "    y=y,\n",
    "    z=z,\n",
    "    marker=dict(\n",
    "        size=4,\n",
    "        color=z,\n",
    "        colorscale='Viridis',\n",
    "    )\n",
    "    )\n",
    "\n",
    "data = [trace1]\n",
    "\n",
    "\n",
    "layout = dict(title = '3D профиль скважины',  yaxis=dict(autorange='reversed'))\n",
    "fig = dict(data=data, layout=layout)\n",
    "iplot(fig, filename='simple-3d-scatter')"
   ]
  },
  {
   "cell_type": "code",
   "execution_count": null,
   "metadata": {},
   "outputs": [],
   "source": [
    "def trace(data_x, data_y, namexy):\n",
    "    tracep = go.Scattergl(\n",
    "        x = data_x,\n",
    "        y = data_y,\n",
    "        name = namexy,\n",
    "        mode = 'lines'\n",
    "    )\n",
    "    return tracep\n",
    "\n",
    "def plot():\n",
    "    layout = dict(title = 'Параметры скважины вдоль ствола',  yaxis=dict(title = 'Кривизна, град/10м'), \n",
    "                  xaxis=dict(title = 'Глубина скважины, м'))\n",
    "\n",
    "    fig = dict(data=data, layout=layout)\n",
    "\n",
    "    iplot(fig, filename='basic-scatter')\n",
    "def plot_along_depth(this_title):\n",
    "    layout = dict(title = this_title,  yaxis=dict(title = 'Измеренная глубина, м', autorange='reversed'))\n",
    "\n",
    "    fig = dict(data=data, layout=layout)\n",
    "\n",
    "    iplot(fig, filename='basic-scatter')"
   ]
  },
  {
   "cell_type": "code",
   "execution_count": null,
   "metadata": {},
   "outputs": [],
   "source": [
    "h_vert_m = wds.column_h_mes_m\n",
    "trace1 = trace(h_vert_m, wds.curvature_rate_interpolate_func(h_vert_m),'Кривизна, град/10м')\n",
    "data=[trace1]\n",
    "plot()"
   ]
  },
  {
   "cell_type": "code",
   "execution_count": null,
   "metadata": {},
   "outputs": [],
   "source": [
    "h_vert_m = wds.column_h_mes_m\n",
    "trace1 = trace(wds.get_vert_angle_grad(h_vert_m),h_vert_m,'Измеренная глубина, м')\n",
    "data=[trace1]\n",
    "plot_along_depth(\"Угол наклона от вертикали, град\")"
   ]
  },
  {
   "cell_type": "markdown",
   "metadata": {},
   "source": [
    "# Простой профиль скважины по точкам"
   ]
  },
  {
   "cell_type": "code",
   "execution_count": null,
   "metadata": {},
   "outputs": [],
   "source": [
    "simple_dev_sev = dev_sev.simple_well_deviation_survey()\n",
    "simple_dev_sev.calc_all()\n",
    "x_displacement_init_data = simple_dev_sev.interpolation_x_displacement_by_h_mes(\n",
    "    simple_dev_sev.h_mes_init_data_for_interpolation_m)"
   ]
  },
  {
   "cell_type": "code",
   "execution_count": null,
   "metadata": {},
   "outputs": [],
   "source": [
    "trace1 = go.Scatter3d(\n",
    "    x=simple_dev_sev.x_displacement_m,\n",
    "    y=simple_dev_sev.y_displacement_m,\n",
    "    z=simple_dev_sev.h_vert_m * (-1),  # перевод в альтитуду,\n",
    "    marker=dict(\n",
    "        size=4,\n",
    "        color=z,\n",
    "        colorscale='Viridis',\n",
    "    ),\n",
    "    name = 'Построенный профиль',\n",
    "    )\n",
    "\n",
    "trace2 = go.Scatter3d(\n",
    "    x=x_displacement_init_data,\n",
    "    y=x_displacement_init_data * 0,\n",
    "    z=simple_dev_sev.h_vert_init_data_for_interpolation_m * (-1),\n",
    "    mode = 'markers',\n",
    "    marker = dict(\n",
    "        size=10\n",
    "    ),\n",
    "    name = 'Исходные точки',\n",
    "    )\n",
    "\n",
    "data = [trace1, trace2]\n",
    "\n",
    "\n",
    "layout = dict(title = '3D профиль простой скважины',  yaxis=dict(autorange='reversed'))\n",
    "fig = dict(data=data, layout=layout)\n",
    "iplot(fig, filename='simple-3d-scatter')"
   ]
  },
  {
   "cell_type": "code",
   "execution_count": null,
   "metadata": {},
   "outputs": [],
   "source": [
    "h_vert_m = simple_dev_sev.h_mes_m\n",
    "trace1 = trace(h_vert_m, simple_dev_sev.get_curvature_rate_grad10m(h_vert_m),'Кривизна, град/10м')\n",
    "data=[trace1]\n",
    "plot()"
   ]
  },
  {
   "cell_type": "code",
   "execution_count": null,
   "metadata": {},
   "outputs": [],
   "source": [
    "h_vert_m = simple_dev_sev.h_mes_m\n",
    "trace1 = trace(simple_dev_sev.get_angle_to_horizontal_grad(h_vert_m),h_vert_m,'Измеренная глубина, м')\n",
    "data=[trace1]\n",
    "plot_along_depth(\"Угол наклона от горизонтали, град\")"
   ]
  }
 ],
 "metadata": {
  "kernelspec": {
   "display_name": "Python 3",
   "language": "python",
   "name": "python3"
  },
  "language_info": {
   "codemirror_mode": {
    "name": "ipython",
    "version": 3
   },
   "file_extension": ".py",
   "mimetype": "text/x-python",
   "name": "python",
   "nbconvert_exporter": "python",
   "pygments_lexer": "ipython3",
   "version": "3.7.6"
  }
 },
 "nbformat": 4,
 "nbformat_minor": 2
}
