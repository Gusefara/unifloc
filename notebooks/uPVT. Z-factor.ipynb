{
 "cells": [
  {
   "cell_type": "markdown",
   "metadata": {},
   "source": [
    "Водопьян А.О. Хабибуллин Р.А. 2019 г. \n",
    "\n",
    "# Z - фактор"
   ]
  },
  {
   "cell_type": "markdown",
   "metadata": {},
   "source": [
    "Источник: Dranchuk P. M. et al. Calculation of Z factors for natural gases using equations of state //Journal of Canadian Petroleum Technology. – 1975. – Т. 14. – №. 03.\n",
    "\n",
    "Коэффициент сверхсжимаемости учитывает отклонение свойств реального газа от идеального.\n",
    "\n",
    "Dranchuk P. M. et al. получили уравнение состояния реального газа адаптировав его к экспериментальным данным Stending and Katz\n",
    "\n",
    "$$Z = 1 + \n",
    "(A_1 +\\frac{A_2}{T_r} +\\frac{A_3}{T_{r}^3} +\\frac{A_4}{T_{r}^4} +\\frac{A_5}{T_{r}^5})\\rho_{r} + \n",
    "(A_6 +\\frac{A_7}{T_{r}^2} +\\frac{A_8}{T_{r}^8})\\rho_{r}^2 - \n",
    "A_9(\\frac{A_7}{T_{r}} +\\frac{A_6}{T_{r}^2})\\rho_{r}^5 - \n",
    "A_{10} (1 + A_{11} \\rho_{r}^2) \\frac{\\rho_{r}^2}{T_{r}^3}exp(-A_{11}\\rho_{r}{2})$$\n",
    "где:\n",
    "$$\\rho_r = \\frac{Z_c P_r}{Z T_r}$$\n",
    "причем:\n",
    "$$Z_c = 0.27$$\n",
    "коэффициенты:\n",
    "$$A_1 =0.3265$$\n",
    "$$A_2 =-1.0700$$\n",
    "$$A_3 =-0.5339$$\n",
    "$$A_4 =0.01569$$\n",
    "$$A_5 =-0.05165$$\n",
    "$$A_6 =0.5475$$\n",
    "$$A_7 =-0.7361$$\n",
    "$$A_8 =0.1844$$\n",
    "$$A_{9} =0.1056$$\n",
    "$$A_{10} =0.6134$$\n",
    "$$A_{11} =0.7210$$\n",
    "а приведенные давление и температура:\n",
    "$$P_{r} = \\frac{P}{P_c}$$\n",
    "$$T_{r} = \\frac{T}{T_c}$$\n",
    "где $p_c$ и $T_c$ критические давление и температура соответственно"
   ]
  },
  {
   "cell_type": "markdown",
   "metadata": {},
   "source": [
    "Импорт необходимых модулей"
   ]
  },
  {
   "cell_type": "code",
   "execution_count": null,
   "metadata": {},
   "outputs": [],
   "source": [
    "import sys\n",
    "sys.path.append('../')\n",
    "import uniflocpy.uPVT.PVT_fluids as PVT\n",
    "import matplotlib.pyplot as plt\n",
    "import matplotlib as mpl\n",
    "import numpy as np\n",
    "import pandas as pd\n",
    "import pylab\n",
    "import uniflocpy.uPVT.PVT_correlations as PVTcorr\n",
    "%matplotlib inline\n",
    "import uniflocpy.uTools.data_workflow as utool\n",
    "import uniflocpy.uTools.plotly_workflow as plotly_workflow"
   ]
  },
  {
   "cell_type": "markdown",
   "metadata": {},
   "source": [
    "Сравнение экспериментального графика Стендинга-Каци и уравнения Дранчука и Абу-Кассема"
   ]
  },
  {
   "cell_type": "code",
   "execution_count": null,
   "metadata": {},
   "outputs": [],
   "source": [
    "def get_z_curve_StandingKatz(tpr):\n",
    "    \"\"\"\n",
    "    Функция позволяет считать данные из нужного файла в зависимости от входного tpr и построить график\n",
    "    Допустимые значения tpr = 1.05, 1.1, 1.2, 1.3, 1.4, 1.5, 1.6, 1.7, 1.8, 1.9, 2, 2.2, 2.4, 2.6, 2.8, 3\n",
    "    :param tpr: температура приведенная\n",
    "    :return: данные из графика Cтендинга для этой температуры\n",
    "    \"\"\"\n",
    "    data = pd.read_csv('data\\Standing-Katz Chart Data\\sk_tpr_{}.txt'.format(int(tpr*100)), sep=';')\n",
    "    ppr = np.array(pd.DataFrame(data)['x'])\n",
    "    z = np.array(pd.DataFrame(data)['y'])\n",
    "    return ppr, z\n",
    "\n",
    "\n",
    "# Сравним расчетный график с графиком Стендинга\n",
    "tpr = 1.05\n",
    "ppr, z = get_z_curve_StandingKatz(tpr)\n",
    "z_calc = []\n",
    "pogr = []\n",
    "i = 0\n",
    "for p in ppr:\n",
    "    z_calc.append(PVTcorr.unf_zfactor_DAK_ppr(p, tpr))\n",
    "    pogr.append((z[i]-z_calc[i])/z[i] * 100)\n",
    "    i += 1\n",
    "\n",
    "pylab.figure(figsize=(15,8))\n",
    "pylab.subplot(211)\n",
    "pylab.plot(ppr, z, label='По графикам Стендинга-Катца')\n",
    "pylab.plot(ppr, z_calc, label='расчетный')\n",
    "pylab.title('Сравнение графиков для tpr = {}'.format(tpr))\n",
    "pylab.grid()\n",
    "pylab.legend()\n",
    "pylab.figure(figsize=(15,8))\n",
    "pylab.subplot(212)\n",
    "pylab.plot(ppr, pogr, label='погрешность в %')\n",
    "pylab.grid()\n",
    "pylab.legend()\n",
    "pylab.show()"
   ]
  },
  {
   "cell_type": "markdown",
   "metadata": {},
   "source": [
    "График Стендинга-Каца"
   ]
  },
  {
   "cell_type": "code",
   "execution_count": null,
   "metadata": {},
   "outputs": [],
   "source": [
    "# построим все графики Стендинга сразу\n",
    "tpr = [1.05, 1.1, 1.2, 1.3, 1.4, 1.5, 1.6, 1.7, 1.8, 1.9, 2, 2.2, 2.4, 2.6, 2.8, 3]\n",
    "pylab.figure(figsize=(15,8))\n",
    "\n",
    "for t in tpr:    \n",
    "    ppr_standing, z_standing = get_z_curve_StandingKatz(t)\n",
    "    pylab.plot(ppr_standing, z_standing, label='tpr = {}'.format(t))\n",
    "    this_df_true = pd.DataFrame({f\"tpr SK {t}\":z_standing}, index = ppr_standing)\n",
    "    try:\n",
    "        true_result_df =true_result_df.join(this_df_true, how='outer')\n",
    "    except:\n",
    "        true_result_df = this_df_true.copy()\n",
    "    \n",
    "    this_calculated_z = []\n",
    "    for i in ppr_standing:\n",
    "        this_calculated_z.append(PVTcorr.unf_zfactor_DAK_ppr(i, t))\n",
    "    this_df = pd.DataFrame({f\"tpr {t}\":this_calculated_z}, index = ppr_standing)\n",
    "    try:\n",
    "        result_df = result_df.join(this_df, how = 'outer')\n",
    "    except:\n",
    "        result_df = this_df.copy()\n",
    "        \n",
    "        \n",
    "pylab.grid()\n",
    "pylab.title('Графики Стендинга-Катца для различных значений tpr')\n",
    "pylab.legend()\n",
    "pylab.xlabel('ppr')\n",
    "pylab.ylabel('z')\n",
    "pylab.show()"
   ]
  },
  {
   "cell_type": "code",
   "execution_count": null,
   "metadata": {},
   "outputs": [],
   "source": [
    "df_to_compare = result_df.join(true_result_df, how = 'outer')"
   ]
  },
  {
   "cell_type": "code",
   "execution_count": null,
   "metadata": {},
   "outputs": [],
   "source": [
    "traces = plotly_workflow.create_traces_list_for_all_columms(df_to_compare, chosen_mode = 'lines+markers')"
   ]
  },
  {
   "cell_type": "code",
   "execution_count": null,
   "metadata": {},
   "outputs": [],
   "source": [
    "plotly_workflow.plot_func(traces, 'Коэффициент сверхcжимаемости и графики Стендинга-Катца', 'checl.html')"
   ]
  },
  {
   "cell_type": "code",
   "execution_count": null,
   "metadata": {},
   "outputs": [],
   "source": []
  }
 ],
 "metadata": {
  "kernelspec": {
   "display_name": "Python 3",
   "language": "python",
   "name": "python3"
  },
  "language_info": {
   "codemirror_mode": {
    "name": "ipython",
    "version": 3
   },
   "file_extension": ".py",
   "mimetype": "text/x-python",
   "name": "python",
   "nbconvert_exporter": "python",
   "pygments_lexer": "ipython3",
   "version": "3.7.6"
  }
 },
 "nbformat": 4,
 "nbformat_minor": 2
}
