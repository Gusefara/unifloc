{
 "cells": [
  {
   "cell_type": "markdown",
   "metadata": {},
   "source": [
    "Кобзарь О.С. Хабибуллин Р.А. 2019 г.\n",
    "#### Гидравлическая корреляция Беггз и Брилл\n",
    "Все формулы, требуемые для методики и реализованные на **unifloc**\n",
    "\n",
    "Источник:\n",
    "Брилл Д. П., Мукерджи Х. Многофазный поток в скважинах. – 2006.\n",
    "\n",
    "##### Предварительные расчеты включают в себя определение свойств многофазного потока - их лучше просмотреть в **Multiphase Flow.ipynb**\n",
    "\n",
    "\n",
    "##### Прогнозирование режимов потока\n",
    "Число Фруда для расчета границ переходных режимов потока и объемного содержания жидкости без учета эффекта проскальзывания:\n",
    "$$N_{Fr}=\\frac{v_{m}^{2}}{gd}$$\n",
    "Переходные границы режимов потока для модифицированной карты вычисляются по формулам:\n",
    "$$ L_1 = 316 \\lambda_{L}^{0.302} $$\n",
    "\n",
    "$$ L_2 = 0.000925 \\lambda_{L}^{-2.468}$$\n",
    "\n",
    "$$ L_3 = 0.10 \\lambda_{L}^{-1.452}$$\n",
    "\n",
    "$$ L_4 = 0.5 \\lambda_{L}^{-6.738} $$\n",
    "\n",
    "##### Неравенства для определения режима потока:\n",
    "Разделенный режим:\n",
    "$ \\lambda_{L} < 0.01 $ и $ N_{Fr} < L_1$\n",
    "\n",
    "или \n",
    "$ \\lambda_{L} \\geq 0.01  $  и  $ N_{Fr} < L_2$\n",
    "\n",
    "Переходный режим:\n",
    "$ \\lambda_{L} \\geq 0.01  $  и $  L_2 \\leq N_{Fr} < L_3$\n",
    "\n",
    "Прерывистый режим:\n",
    "$ 0.01 \\leq \\lambda_{L} < 0.4$ и $ L_3 < N_{Fr} \\leq L_1 $\n",
    "\n",
    "или \n",
    "$ \\lambda_{L} \\geq 0,4  $ и $ L_3 < N_{Fr} \\leq L_4 $\n",
    "\n",
    "Распределенный режим:\n",
    "$ \\lambda_{L} < 0,4  $ и $  N_{Fr} \\geq L_1 $\n",
    "\n",
    "или\n",
    "$ \\lambda_{L} \\geq 0.4  $ и $  N_{Fr} > L_4 $\n",
    "\n",
    "Эмпирические коэффициенты для объемного содержания жидкости в горизонтальных режимах потока:\n",
    "\n",
    "| Режим потока       | a | b | c |\n",
    "| :-------------: |:--:| :----:| :----: |\n",
    "| Расслоенный     | 0.980    | 0.4846 | 0.0868 |\n",
    "| Прерывистый   |  0.855   | 0.5351 | 0.0173 |\n",
    "| Распределенный  |  1.065    | 0.5824 | 0.0609 |\n",
    "\n",
    "\n",
    "Объемное содержание жидкости в горизонтальной трубе:\n",
    "$$ H_{L(0)} = \\frac{a\\lambda_{L}^{b}}{N_{Fr}^{c}}$$\n",
    "при ограничении:\n",
    "$$ H_{L(0)} \\geq \\lambda_L$$\n",
    "Объемное содержание жидкости с поправкой на угол наклона трубы:\n",
    "$$ H_{L(\\theta)} = H_{L(0)} * \\psi $$\n",
    "Поправочный коэффициент на угол наклона трубы:\n",
    "$$ \\psi = 1 + C[sin (1.8 \\theta) - 0.333 sin^3(1.8 \\theta)$$\n",
    "где:\n",
    "$$ (1 - \\lambda_L) ln(e\\lambda_{L}^fN_{Lv}^gN_{Fr}^h)$$\n",
    "при этом показатель скорости жидкости по Дансу и Росу:\n",
    "$$\n",
    "N_{Lv} = v_{SL} (\\frac{\\rho_L}{g \\sigma_L})^{1/4} \n",
    "$$\n",
    "а коэффициенты e,f,g,h определяются по таблице:\n",
    "\n",
    "\n",
    "| Режим потока       | e | f | g | h\n",
    "| :-------------: |:--:| :----:| :----: | :----:\n",
    "| Расслоенный в напр. снизу вверх    | 0.011    | -3.7680 |3.5390 | -1.6140\n",
    "| Прерывистый в напр. снизу вверх   |  2.960   | 0.305 | -0.4473 | 0.0978\n",
    "| Распределенный в напр. снизу вверх|  Нет | поправки | С = 0 |\n",
    "| Все режимы в напр. снизу вверх| 4.700    | -0.3692 | 0.1244 | -0.5056\n",
    "\n",
    "Если режим потока соответствует переходной зоне, необходимо интерполировать значения объемного содержания жидкости для расслоенного и прерывистого режимов потока:\n",
    "$$ H_{L(\\theta)_{перех.}} = AH_{L(\\theta)_{раздел.}} + (1-A)H_{L(\\theta)_{прерывист.}}$$\n",
    "где:\n",
    "$$ A = \\frac{L_3 - N_{Fr}}{L_3 - L_2} $$\n",
    "\n",
    "##### Прогнозирование коэффициента трения\n",
    "Значения нормирующего коэффициента трения определяют по кривой для гладкой трубы на диаграмме Муди, при этом число Рейнольдса вычисляется по формуле:\n",
    "$$ \n",
    "N_{Re} = \\frac{\\rho_nv_md}{\\mu_n} \n",
    "$$\n",
    "где:\n",
    "$$\n",
    "\\mu_n = \\mu_L*\\lambda_L + \\mu_g(1-\\lambda_L)\n",
    "$$\n",
    "Коэффициент трения двухфазного потока с поправкой Беггза и Брилла:\n",
    "$$\n",
    "f = f_n e^s\n",
    "$$\n",
    "где:\n",
    "$$\n",
    "s = \\frac{ln(y)}{-0.0523+3.182ln(y)-0.8725(ln(y))^2+0.01853(ln(y))^4}\n",
    "$$\n",
    "$$\n",
    "y = \\frac{\\lambda_L}{[H_{L(\\theta)}]^2}\n",
    "$$\n",
    "при следующих ограничениях:\n",
    "\n",
    "$$\n",
    "y = 1 \\to s = 0\n",
    "$$\n",
    "$$\n",
    "1 < y < 1.2 \\to s = ln(2.2y - 1.2)\n",
    "$$\n",
    "\n",
    "##### Итоговая функция\n",
    "Градиент давления в наклонной трубе можно рассчитать по формуле:\n",
    "$$\n",
    "\\frac{dp}{dL} = \\frac{\\frac{f\\rho_nv_m^2}{2d}+\\rho_sgsin\\theta}{1 -E_k}\n",
    "$$\n",
    "где:\n",
    "$$\n",
    "\\rho_s=\\rho_L H_{L(\\theta)}+\\rho_g[1-H_{L(\\theta)}]\n",
    "$$\n",
    "а формула для обезразмеренной кинетической энергии выглядит так:\n",
    "$$\n",
    "E_k = \\frac{v_mv_{Sg}\\rho_n}{p}\n",
    "$$\n",
    "##### Модификации метода\n",
    "Пэйн и др. установили, что в методе Беггза и Брилла неверно был определен коэффициент трения. Нужно определять нормирующий коэффициент трения с учетом некоторой шероховатости трубы (по диаграмме Муди). \n",
    "Также данными исследователями были предложены поправочные коэффициенты:\n",
    "\n",
    "$$\n",
    "\\theta > 0 \\to H_{L(\\theta)} = 0.924 H_{L(\\theta)}\n",
    "$$\n",
    "$$\n",
    "\\theta < 0 \\to H_{L(\\theta)} = 0.685 H_{L(\\theta)}\n",
    "$$\n",
    "\n",
    "\n",
    "\n"
   ]
  },
  {
   "cell_type": "markdown",
   "metadata": {},
   "source": [
    "### Применение Beggs_Brill_class, попытка исправления и приведения в боевую готовность\n",
    "\n",
    "Импорт необходимых модулей"
   ]
  },
  {
   "cell_type": "code",
   "execution_count": null,
   "metadata": {},
   "outputs": [],
   "source": [
    "import sys\n",
    "sys.path.append('../')\n",
    "\n",
    "import uniflocpy.uMultiphaseFlow.hydr_cor_Beggs_Brill as hydr_cor_Beggs_Brill\n",
    "import uniflocpy.uTools.data_workflow as utool\n",
    "import uniflocpy.uWell.uPipe as Pipe\n",
    "import plotly.graph_objs as go\n",
    "from plotly.offline import download_plotlyjs, init_notebook_mode, plot, iplot\n",
    "from plotly import tools\n",
    "\n",
    "init_notebook_mode(connected=True)\n",
    "import numpy as np\n"
   ]
  },
  {
   "cell_type": "markdown",
   "metadata": {},
   "source": [
    "Создание требуемых экземляров класса"
   ]
  },
  {
   "cell_type": "code",
   "execution_count": null,
   "metadata": {},
   "outputs": [],
   "source": [
    "pipe = Pipe.Pipe()\n",
    "pipe_data = utool.Data()\n",
    "fluid_data = utool.Data()\n",
    "hyrd_cor_data = utool.Data()\n",
    "fluid_flow_data = utool.Data()"
   ]
  },
  {
   "cell_type": "markdown",
   "metadata": {},
   "source": [
    "Задание начальных условий"
   ]
  },
  {
   "cell_type": "code",
   "execution_count": null,
   "metadata": {},
   "outputs": [],
   "source": [
    "p_initial_mpa = 15\n",
    "t_initial_c = 90\n",
    "h_initial_m = 2000\n",
    "step_m = 10\n",
    "step_cm = 0.03\n",
    "amount_of_steps = int(h_initial_m / step_m)\n",
    "\n",
    "pipe.fluid_flow.qliq_on_surface_m3day = 100\n",
    "pipe.fluid_flow.fw_on_surface_perc = 20"
   ]
  },
  {
   "cell_type": "code",
   "execution_count": null,
   "metadata": {},
   "outputs": [],
   "source": [
    "pipe.fluid_flow.fl.rsb_m3m3"
   ]
  },
  {
   "cell_type": "markdown",
   "metadata": {},
   "source": [
    "Списки для хранения P,T,H и обращения к ним при расчетах"
   ]
  },
  {
   "cell_type": "code",
   "execution_count": null,
   "metadata": {},
   "outputs": [],
   "source": [
    "h_list = [h_initial_m]\n",
    "p_list = [p_initial_mpa]\n",
    "t_list = [t_initial_c]"
   ]
  },
  {
   "cell_type": "markdown",
   "metadata": {},
   "source": [
    "### Основной расчет распределения давления и температуры\n",
    "\n",
    "Температура меняется линейно"
   ]
  },
  {
   "cell_type": "code",
   "execution_count": null,
   "metadata": {},
   "outputs": [],
   "source": [
    "fluid_flow_data.clear_data()\n",
    "fluid_data.clear_data()\n",
    "hyrd_cor_data.clear_data()\n",
    "\n",
    "for i in range(amount_of_steps):\n",
    "    if p_list[-1] > 0.101250:\n",
    "        p_bar = p_list[-1] * 10\n",
    "        t_c = t_list[-1]\n",
    "\n",
    "        grad_pam = pipe.calc_p_grad_pam(p_bar, t_c)\n",
    "        \n",
    "        p = p_list[-1] - step_m * grad_pam / 10**6\n",
    "        t = t_list[-1] - step_m * step_cm\n",
    "        h = h_list[-1] - step_m\n",
    "        \n",
    "    if p > 0.1:\n",
    "        p_list.append(p)\n",
    "    else:\n",
    "        p_list.append(p_list[-1])\n",
    "        \n",
    "    t_list.append(t)\n",
    "    h_list.append(h)\n",
    "    fluid_flow_data.get_data(pipe.fluid_flow)\n",
    "    fluid_data.get_data(pipe.fluid_flow.fl)\n",
    "    hyrd_cor_data.get_data(pipe.hydr_cor)\n",
    "    pipe_data.get_data(pipe)\n",
    "    pipe_data.h_list.append(h)\n",
    "    pipe_data.t_list.append(t)\n",
    "    pipe_data.p_list.append(p)\n",
    "\n",
    "\n",
    "    "
   ]
  },
  {
   "cell_type": "code",
   "execution_count": null,
   "metadata": {},
   "outputs": [],
   "source": [
    "pipe.fluid_flow.__dict__"
   ]
  },
  {
   "cell_type": "markdown",
   "metadata": {},
   "source": [
    "Пример получения имени параметра"
   ]
  },
  {
   "cell_type": "code",
   "execution_count": null,
   "metadata": {},
   "outputs": [],
   "source": [
    "pipe_data.get_name(0)"
   ]
  },
  {
   "cell_type": "markdown",
   "metadata": {},
   "source": [
    "Список параметров"
   ]
  },
  {
   "cell_type": "code",
   "execution_count": null,
   "metadata": {},
   "outputs": [],
   "source": [
    "pipe_data.print_all_names()"
   ]
  },
  {
   "cell_type": "code",
   "execution_count": null,
   "metadata": {},
   "outputs": [],
   "source": [
    "fluid_data.print_all_names()"
   ]
  },
  {
   "cell_type": "code",
   "execution_count": null,
   "metadata": {},
   "outputs": [],
   "source": [
    "hyrd_cor_data.print_all_names()"
   ]
  },
  {
   "cell_type": "markdown",
   "metadata": {},
   "source": [
    "Функции для удобного построения графиков"
   ]
  },
  {
   "cell_type": "code",
   "execution_count": null,
   "metadata": {},
   "outputs": [],
   "source": [
    "def trace(data, number_param):\n",
    "    tracep = go.Scattergl(\n",
    "        x = data.get_values(number_param),\n",
    "        y = pipe_data.h_list,\n",
    "        name = data.get_name(number_param),\n",
    "        mode = 'markers'\n",
    "    )\n",
    "    return tracep\n",
    "\n",
    "def plot():\n",
    "    layout = dict(title = 'БеггсБрилл снизу вверх, H(P,T)',  yaxis=dict(autorange='reversed'))\n",
    "\n",
    "    fig = dict(data=data, layout=layout)\n",
    "\n",
    "    iplot(fig, filename='basic-scatter')"
   ]
  },
  {
   "cell_type": "markdown",
   "metadata": {},
   "source": [
    "Построение графиков"
   ]
  },
  {
   "cell_type": "code",
   "execution_count": null,
   "metadata": {},
   "outputs": [],
   "source": [
    "tracep = go.Scattergl(\n",
    "    x = pipe_data.p_list,\n",
    "    y = pipe_data.h_list,\n",
    "    name = 'P_MPa',\n",
    "    mode = 'markers'\n",
    ")\n",
    "\n",
    "tracet = go.Scattergl(\n",
    "    x = pipe_data.t_list,\n",
    "    y = pipe_data.h_list,\n",
    "    name = 'T_C',\n",
    "    mode = 'markers'\n",
    ")\n",
    "\n",
    "data = [tracep, tracet]\n",
    "\n",
    "plot()"
   ]
  },
  {
   "cell_type": "code",
   "execution_count": null,
   "metadata": {},
   "outputs": [],
   "source": [
    "trace1 = trace(hyrd_cor_data, 10)\n",
    "trace2 = trace(hyrd_cor_data, 11)\n",
    "trace3 = trace(hyrd_cor_data, 13)\n",
    "trace4 = trace(hyrd_cor_data, 27)\n",
    "trace5 = trace(fluid_data, 23)\n",
    "trace6 = trace(fluid_data, 25)\n",
    "data = [trace1, trace2, trace3, trace4, trace5, trace6]\n",
    "\n",
    "plot()"
   ]
  },
  {
   "cell_type": "code",
   "execution_count": null,
   "metadata": {},
   "outputs": [],
   "source": [
    "trace1 = trace(fluid_flow_data, 26)\n",
    "data = [trace1]\n",
    "plot()"
   ]
  },
  {
   "cell_type": "code",
   "execution_count": null,
   "metadata": {},
   "outputs": [],
   "source": [
    "fluid_flow_data.print_all_names()"
   ]
  },
  {
   "cell_type": "markdown",
   "metadata": {},
   "source": [
    "# Построение карты режимов"
   ]
  },
  {
   "cell_type": "code",
   "execution_count": null,
   "metadata": {},
   "outputs": [],
   "source": [
    "fr_number_list = list(np.arange(0.1, 200, 0.1))\n",
    "liquid_content_list = list(np.arange(0.0001, 1, 0.01))\n",
    "len(fr_number_list) * len(liquid_content_list)"
   ]
  },
  {
   "cell_type": "code",
   "execution_count": null,
   "metadata": {},
   "outputs": [],
   "source": [
    "BB_object = hydr_cor_Beggs_Brill.Beggs_Brill_cor()"
   ]
  },
  {
   "cell_type": "code",
   "execution_count": null,
   "metadata": {},
   "outputs": [],
   "source": [
    "pattern_map = []\n",
    "for fr_number in fr_number_list:\n",
    "    this_list = []\n",
    "    for liquid_content in liquid_content_list:\n",
    "        if liquid_content>1:\n",
    "            print(i)\n",
    "        this_list.append(BB_object.determine_flow_pattern(fr_number, liquid_content))\n",
    "    pattern_map.append(this_list)\n",
    "    \n",
    "pattern_map = np.asarray(pattern_map)\n",
    "liquid_content_list = np.asarray(liquid_content_list)\n",
    "fr_number_list = np.asarray(fr_number_list)"
   ]
  },
  {
   "cell_type": "code",
   "execution_count": null,
   "metadata": {},
   "outputs": [],
   "source": [
    "trace2 = go.Heatmap(z=pattern_map, x = liquid_content_list, y = fr_number_list, colorbar = dict(\n",
    "            title = 'Режим',\n",
    "            tick0 =  0,\n",
    "            dtick = 1,\n",
    "            titleside = 'top',\n",
    "            tickmode = 'array',\n",
    "            tickvals = [0, 1, 2, 3],\n",
    "            ticktext = ['Разделенный (segregated)','Прирывистый (intermittent)','Распределенный (distributed)', \n",
    "                        'Переходный (transition)'],\n",
    "            ticks = 'outside'\n",
    "        ))\n",
    "\n",
    "data2=[trace2]\n",
    "\n",
    "\n",
    "layout = dict(title =  'Карта режимов Беггз Брилл (модифицированная)',\n",
    "              yaxis=dict(title='Число фруда', type='log',autorange=True),\n",
    "              xaxis=dict(title='Объемное содержание жидкости',type='log')\n",
    "             )\n",
    "fig = dict(data=data2, layout=layout)\n",
    "\n",
    "iplot(fig, filename='basic-scatter')"
   ]
  }
 ],
 "metadata": {
  "kernelspec": {
   "display_name": "Python 3",
   "language": "python",
   "name": "python3"
  },
  "language_info": {
   "codemirror_mode": {
    "name": "ipython",
    "version": 3
   },
   "file_extension": ".py",
   "mimetype": "text/x-python",
   "name": "python",
   "nbconvert_exporter": "python",
   "pygments_lexer": "ipython3",
   "version": "3.7.6"
  }
 },
 "nbformat": 4,
 "nbformat_minor": 2
}
