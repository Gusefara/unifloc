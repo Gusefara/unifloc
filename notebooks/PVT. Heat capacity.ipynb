{
 "cells": [
  {
   "cell_type": "code",
   "execution_count": 1,
   "metadata": {},
   "outputs": [],
   "source": [
    "import sys\n",
    "sys.path.append('../')\n",
    "import uniflocpy.uPVT.PVT_fluids as PVT\n",
    "import matplotlib.pyplot as plt\n",
    "import matplotlib as mpl\n",
    "import numpy as np\n",
    "import pandas as pd\n",
    "import pylab\n",
    "import uniflocpy.uPVT.PVT_correlations as PVTcorr\n",
    "import uniflocpy.uPVT.PVT_fluids as PVT_fluids\n",
    "%matplotlib inline"
   ]
  },
  {
   "cell_type": "code",
   "execution_count": 5,
   "metadata": {},
   "outputs": [],
   "source": [
    "import uniflocpy.uTools.uconst as uc"
   ]
  },
  {
   "cell_type": "code",
   "execution_count": 2,
   "metadata": {},
   "outputs": [],
   "source": []
  },
  {
   "cell_type": "code",
   "execution_count": 77,
   "metadata": {},
   "outputs": [],
   "source": [
    "def show_example(legend, title, xlabel, ylabel):\n",
    "    plt.grid(True)\n",
    "    plt.title(title, color='black')\n",
    "    plt.ylabel(ylabel, color='black')\n",
    "    plt.xlabel(xlabel, color='black')\n",
    "    plt.legend(legend)\n",
    "    plt.show()\n",
    "    "
   ]
  },
  {
   "cell_type": "code",
   "execution_count": 3,
   "metadata": {},
   "outputs": [
    {
     "data": {
      "text/plain": [
       "1"
      ]
     },
     "execution_count": 3,
     "metadata": {},
     "output_type": "execute_result"
    }
   ],
   "source": []
  },
  {
   "cell_type": "code",
   "execution_count": 4,
   "metadata": {},
   "outputs": [
    {
     "data": {
      "text/plain": [
       "{'gamma_gas': 0.6,\n",
       " 'gamma_oil': 0.86,\n",
       " 'gamma_wat': 1.0,\n",
       " 'rsb_m3m3': 200.0,\n",
       " 'gamma_gassp': 0,\n",
       " 'y_h2s': 0,\n",
       " 'y_co2': 0,\n",
       " 'y_n2': 0,\n",
       " 's_ppm': 0,\n",
       " 'par_wat': 0,\n",
       " 'p_bar': 50,\n",
       " 't_c': 60,\n",
       " 'pbcal_bar': -1.0,\n",
       " 'tpb_C': 0.0,\n",
       " 'bobcal_m3m3': 1.2,\n",
       " 'muobcal_cP': 0.5,\n",
       " '_pb_bar': 336.35394922405555,\n",
       " '_bob_m3m3': 1.5303680036824185,\n",
       " '_muob_cP': 0.5699114442641007,\n",
       " '_mu_oil_cP': 2.0509613052318665,\n",
       " '_mu_gas_cP': 0.013285134506455363,\n",
       " '_mu_wat_cP': 0.4595248809564822,\n",
       " '_mu_deadoil_cP': 4.472322825574869,\n",
       " '_rho_oil_kgm3': 306.15782445027685,\n",
       " '_rho_gas_kgm3': 33.350654101813994,\n",
       " '_rho_wat_kgm3': 985.3312104550138,\n",
       " '_rs_m3m3': 20.152403829004268,\n",
       " '_bo_m3m3': 2.857349561268839,\n",
       " '_bg_m3m3': 0.021701612899890383,\n",
       " '_bw_m3m3': 1.0169019648383093,\n",
       " '_z': 0.9422671596393016,\n",
       " '_compr_oil_1bar': 0.00024986132740911624,\n",
       " '_compr_gas_1bar': 0.12363274099854189,\n",
       " '_compr_wat_1bar': 4.384403719940862e-05,\n",
       " '_heatcap_oil_': 0.0,\n",
       " '_heatcap_gas_': 0.0,\n",
       " '_heatcap_wat_': 0.0,\n",
       " '_sigma_oil_Nm': 0.0,\n",
       " '_sigma_wat_Nm': 0.0}"
      ]
     },
     "execution_count": 4,
     "metadata": {},
     "output_type": "execute_result"
    }
   ],
   "source": [
    "fluid_Standing.__dict__"
   ]
  },
  {
   "cell_type": "code",
   "execution_count": 104,
   "metadata": {},
   "outputs": [],
   "source": [
    "fluid_Standing = PVT_fluids.FluidStanding()\n",
    "p_bar = 1 \n",
    "t_c = 60 \n",
    "t_f = uc.c2f(t_c)\n",
    "fluid_Standing.calc(p_bar, t_c)\n",
    "gamma_oil = 0.8\n",
    "gamma_gas = 0.6\n",
    "api = uc.gamma_oil2api(gamma_oil)"
   ]
  },
  {
   "cell_type": "markdown",
   "metadata": {},
   "source": [
    "Источник №1\n",
    "http://fekete.com/SAN/WebHelp/Piper/WebHelp/c-te-temperature.htm"
   ]
  },
  {
   "cell_type": "code",
   "execution_count": 128,
   "metadata": {},
   "outputs": [],
   "source": [
    "def heat_capacity_oil_Gambill(gamma_oil, t_c):\n",
    "    t_f = uc.c2f(t_c)\n",
    "    api = uc.gamma_oil2api(gamma_oil)\n",
    "    return ((0.388 + 0.00045 * t_f) / gamma_oil ** (1/2) ) * 4.186\n",
    "    #return ((0.388 + 0.00045 * t_c) / (gamma_oil ** (1/2)) ) * 4.186"
   ]
  },
  {
   "cell_type": "code",
   "execution_count": 106,
   "metadata": {},
   "outputs": [],
   "source": [
    "    a = 0.9\n",
    "    b = 1.014\n",
    "    c = -0.7\n",
    "    d = 2.170\n",
    "    e = 1.015\n",
    "    f = 0.0214"
   ]
  },
  {
   "cell_type": "code",
   "execution_count": 107,
   "metadata": {},
   "outputs": [],
   "source": [
    "def heat_capacity_gas(p_bar, t_c, gamma_gas):\n",
    "    p_mpa = uc.bar2MPa(p_bar)\n",
    "    a = 0.9\n",
    "    b = 1.014\n",
    "    c = -0.7\n",
    "    d = 2.170\n",
    "    e = 1.015\n",
    "    f = 0.0214\n",
    "    return ((a * (b**t_c) * (t_c**c) + d * (e**p_mpa) * (p_mpa**f)) * ((gamma_gas / 0.60) ** 0.025))\n",
    "\n",
    "    "
   ]
  },
  {
   "cell_type": "code",
   "execution_count": 108,
   "metadata": {},
   "outputs": [],
   "source": [
    "t_c_list = range(1, 200)\n",
    "heat_capacity_list, heat_capacity_list2 = [], []\n",
    "p_bar = 25 \n",
    "for i in t_c_list:\n",
    "    heat_capacity_list.append(heat_capacity_gas(p_bar, i, gamma_gas))\n",
    "    heat_capacity_list2.append(heat_capacity_gas(p_bar *10, i, gamma_gas))"
   ]
  },
  {
   "cell_type": "code",
   "execution_count": 131,
   "metadata": {},
   "outputs": [],
   "source": [
    "# TODO переписать уравнение Махмуда для FIELD, надо чтоб сошлось"
   ]
  },
  {
   "cell_type": "code",
   "execution_count": 109,
   "metadata": {},
   "outputs": [
    {
     "data": {
      "image/png": "[encoded data removed]",
      "text/plain": [
       "<Figure size 432x288 with 1 Axes>"
      ]
     },
     "metadata": {
      "needs_background": "light"
     },
     "output_type": "display_data"
    }
   ],
   "source": [
    "plt.plot(t_c_list, heat_capacity_list, linewidth=3)\n",
    "plt.plot(t_c_list, heat_capacity_list2, linewidth=3)\n",
    "show_example('Dr. Mahmood Moshfeghian','Темплоемкость газа', \n",
    "             'Температура, С', 'Темплоемкость, кДж/ кг / С')"
   ]
  },
  {
   "cell_type": "code",
   "execution_count": 171,
   "metadata": {},
   "outputs": [],
   "source": [
    "heat_capacity_oil_1, heat_capacity_oil_2, heat_capacity_oil_3 = [], [],[]\n",
    "for i in t_c_list:\n",
    "    heat_capacity_oil_1.append(heat_capacity_oil_Gambill(gamma_oil, i))\n",
    "    heat_capacity_oil_2.append(heat_capacity_oil_Wes_Wright(gamma_oil, i))\n",
    "    heat_capacity_oil_3.append(heat_capacity_oil_Edwars(gamma_oil, i, 10))"
   ]
  },
  {
   "cell_type": "code",
   "execution_count": 172,
   "metadata": {},
   "outputs": [
    {
     "data": {
      "image/png": "[encoded data removed]",
      "text/plain": [
       "<Figure size 432x288 with 1 Axes>"
      ]
     },
     "metadata": {
      "needs_background": "light"
     },
     "output_type": "display_data"
    }
   ],
   "source": [
    "plt.plot(t_c_list, heat_capacity_oil_1, linewidth=3)\n",
    "plt.plot(t_c_list, heat_capacity_oil_2, linewidth=3)\n",
    "plt.plot(t_c_list, heat_capacity_oil_3, linewidth=3)\n",
    "show_example('Dr. Mahmood Moshfeghian','Темплоемкость нефти', \n",
    "             'Температура, С', 'Темплоемкость, кДж/ кг / С')"
   ]
  },
  {
   "cell_type": "code",
   "execution_count": 127,
   "metadata": {},
   "outputs": [],
   "source": [
    "def heat_capacity_oil_Wes_Wright(gamma_oil, t_c):\n",
    "    return ((2 * 10** (-3) * t_c - 1.429 ) * gamma_oil + \n",
    "            (2.67 * 10** (-3)) * t_c + 3.049)\n",
    "            "
   ]
  },
  {
   "cell_type": "code",
   "execution_count": 169,
   "metadata": {},
   "outputs": [],
   "source": [
    "def heat_capacity_oil_Edwars(gamma_oil, t_c, k):\n",
    "    t_f = uc.c2f(t_c)\n",
    "    A_1 = 10**(-8) * (1 + 0.82463 * k) * (2.9027 - 0.70958 / gamma_oil)\n",
    "    A_2 = 10**(-4) * (1 + 0.82463 * k) * (1.12172 - 0.27634 / gamma_oil)\n",
    "    A_3 =( -1.17126 + (0.023722 + 0.024907 * gamma_oil) * k + \n",
    "          (1.14982 - 0.046535*k) / gamma_oil)\n",
    "    return (A_1 + A_2 * t_c + A_3 * t_c**2) /1000\n",
    "    \n",
    "    "
   ]
  },
  {
   "cell_type": "code",
   "execution_count": null,
   "metadata": {},
   "outputs": [],
   "source": []
  }
 ],
 "metadata": {
  "kernelspec": {
   "display_name": "Python 3",
   "language": "python",
   "name": "python3"
  },
  "language_info": {
   "codemirror_mode": {
    "name": "ipython",
    "version": 3
   },
   "file_extension": ".py",
   "mimetype": "text/x-python",
   "name": "python",
   "nbconvert_exporter": "python",
   "pygments_lexer": "ipython3",
   "version": "3.7.3"
  }
 },
 "nbformat": 4,
 "nbformat_minor": 2
}
