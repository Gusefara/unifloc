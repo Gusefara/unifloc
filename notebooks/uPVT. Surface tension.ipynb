{
 "cells": [
  {
   "cell_type": "markdown",
   "metadata": {},
   "source": [
    "Кобзарь О.С. Хабибуллин Р.А. \n",
    "\n",
    "# Поверхностное натяжение на границе \"нефть-газ\" и \"вода-газ\"\n",
    "\n",
    "Источник: Справочник инженера-нефтяника. Том 1. Введение в нефтяной инжиниринг. \n",
    "\n",
    "Повехностное натяжение - это сила, которая поддерживает целостость поверхности отдельной фазы; как правило, единицей измерения служит дин/см (или мН/м). Поверхностное натяжение зависит от давления, температуры и состава каждой фазы. Применяемые корреляции можно разделить на 2 типа: использующие псевдокомпозиционный подход и эмпирические зависимости. \n",
    "\n",
    "В свою очередь поверхностное натяжение  \"нефть-газ\" можно классифицировать по границам \"дегазированная нефть - газ\" и \"насыщенная нефть - газ\"\n",
    "\n",
    "В uniflocpy реализованы эмпирические корреляции Бейкера и Свердлоффа (1955 г.) и Абдул-Маджида (2000 г.) для границы \"насыщенная нефть - газ \" и Саттона (2006 г. ) для границы \"вода-газ\"\n"
   ]
  },
  {
   "cell_type": "code",
   "execution_count": null,
   "metadata": {},
   "outputs": [],
   "source": [
    "import sys\n",
    "sys.path.append('../')\n",
    "import uniflocpy.uPVT.PVT_fluids as PVT\n",
    "import matplotlib.pyplot as plt\n",
    "import matplotlib as mpl\n",
    "import numpy as np\n",
    "import pandas as pd\n",
    "import pylab\n",
    "import uniflocpy.uPVT.PVT_correlations as PVTcorr\n",
    "import uniflocpy.uPVT.PVT_fluids as PVT_fluids\n",
    "%matplotlib inline"
   ]
  },
  {
   "cell_type": "code",
   "execution_count": null,
   "metadata": {},
   "outputs": [],
   "source": [
    "import uniflocpy.uTools.uconst as uc"
   ]
  },
  {
   "cell_type": "code",
   "execution_count": null,
   "metadata": {},
   "outputs": [],
   "source": [
    "def show_example(legend, title, xlabel, ylabel):\n",
    "    plt.grid(True)\n",
    "    plt.title(title, color='black')\n",
    "    plt.ylabel(ylabel, color='black')\n",
    "    plt.xlabel(xlabel, color='black')\n",
    "    plt.legend(legend)\n",
    "    plt.show()"
   ]
  },
  {
   "cell_type": "code",
   "execution_count": null,
   "metadata": {},
   "outputs": [],
   "source": [
    "gamma_oil_example = 0.8\n",
    "rsb_m3m3_example = 200\n",
    "t_c = 80\n",
    "t_K = t_c + 273.15\n",
    "list_p_bar = range(1, 172,5)\n",
    "fluid_Standing = PVT_fluids.FluidStanding(gamma_oil = gamma_oil_example, rsb_m3m3 = rsb_m3m3_example)\n",
    "surface_tension_BS, surface_tension_AM = [], []\n",
    "for i in list_p_bar:\n",
    "    fluid_Standing.calc(i, t_c)\n",
    "    surface_tension_BS.append(PVTcorr.unf_surface_tension_go_Abdul_Majeed_Nm(t_K, gamma_oil_example, \n",
    "                                                                                  fluid_Standing.rs_m3m3))\n",
    "    surface_tension_AM.append(PVTcorr.unf_surface_tension_go_Baker_Swerdloff_Nm(t_K, gamma_oil_example,\n",
    "                                                                                     i / 10))"
   ]
  },
  {
   "cell_type": "code",
   "execution_count": null,
   "metadata": {},
   "outputs": [],
   "source": [
    "plt.plot(list_p_bar, surface_tension_BS, linewidth=3)\n",
    "plt.plot(list_p_bar, surface_tension_AM, linewidth=3)\n",
    "\n",
    "show_example(('Абдул-Маджид', 'Бейкер Свердлофф'),'Поверхностное натяжение на границе нефть - газ', \n",
    "             'Давление, бар', '$\\sigma_{OG}$, Н /м ' )"
   ]
  },
  {
   "cell_type": "code",
   "execution_count": null,
   "metadata": {},
   "outputs": [],
   "source": [
    "gamma_oil_example = 0.85\n",
    "gamma_gas_example = 0.65\n",
    "rsb_m3m3_example = 200\n",
    "t_c = 65.6\n",
    "t_c2 = 80\n",
    "list_p_bar = range(1, 207)\n",
    "fluid_Standing = PVT_fluids.FluidStanding(gamma_oil = gamma_oil_example, rsb_m3m3 = rsb_m3m3_example, \n",
    "                                         gamma_gas = gamma_gas_example)\n",
    "\n",
    "surface_tension_St , surface_tension_St3= [], []\n",
    "\n",
    "for i in list_p_bar:\n",
    "    fluid_Standing.calc(i, t_c)\n",
    "    surface_tension_St.append(PVTcorr.unf_surface_tension_gw_Sutton_Nm(fluid_Standing.rho_wat_kgm3, \n",
    "                                                                       fluid_Standing.rho_gas_kgm3, t_c)) \n",
    "    fluid_Standing.calc(i, t_c2)\n",
    "    surface_tension_St3.append(PVTcorr.unf_surface_tension_gw_Sutton_Nm(fluid_Standing.rho_wat_kgm3, \n",
    "                                                                       fluid_Standing.rho_gas_kgm3, t_c))\n",
    "plt.plot(list_p_bar, surface_tension_St, linewidth=3)\n",
    "plt.plot(list_p_bar, surface_tension_St3, linewidth=3)\n",
    "show_example((str(t_c) + ' C', str(t_c2) + ' C'),'Поверхностное натяжение на границе газ - вода', \n",
    "             'Давление, бар', '$\\sigma_{WG}$, Н /м ' ) "
   ]
  }
 ],
 "metadata": {
  "kernelspec": {
   "display_name": "Python 3",
   "language": "python",
   "name": "python3"
  },
  "language_info": {
   "codemirror_mode": {
    "name": "ipython",
    "version": 3
   },
   "file_extension": ".py",
   "mimetype": "text/x-python",
   "name": "python",
   "nbconvert_exporter": "python",
   "pygments_lexer": "ipython3",
   "version": "3.7.6"
  }
 },
 "nbformat": 4,
 "nbformat_minor": 2
}
