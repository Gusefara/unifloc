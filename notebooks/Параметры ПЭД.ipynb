{
 "cells": [
  {
   "cell_type": "markdown",
   "metadata": {},
   "source": [
    "# Расчет параметров ПЭД"
   ]
  },
  {
   "cell_type": "code",
   "execution_count": 1,
   "metadata": {},
   "outputs": [],
   "source": [
    "import matplotlib.pyplot as plt\n",
    "import matplotlib as mpl\n",
    "import numpy as np\n",
    "from sympy import *\n",
    "init_printing()"
   ]
  },
  {
   "cell_type": "markdown",
   "metadata": {},
   "source": [
    "Расчет зависимости скольжения двигателя от мощности на валу"
   ]
  },
  {
   "cell_type": "code",
   "execution_count": 48,
   "metadata": {},
   "outputs": [],
   "source": [
    "# объявления переменных необходимых для преобразования единиц в вырожении\n",
    "M, U, P, R2, R1, xk, f, s = symbols('M, U, P, R2, R1, xk, f, s', positive = True, real = True)\n",
    "R2s, M0, pi = symbols('R_2s, M_0, pi', positive = True, real = True)"
   ]
  },
  {
   "cell_type": "code",
   "execution_count": 49,
   "metadata": {},
   "outputs": [
    {
     "data": {
      "image/png": "[encoded data removed]",
      "text/latex": [
       "$$M = - M_{0} + \\frac{3 R_{2s} U^{2}}{2 f \\pi \\left(xk^{2} + \\left(R_{1} + R_{2s}\\right)^{2}\\right)}$$"
      ],
      "text/plain": [
       "                          2        \n",
       "                   3⋅R₂ₛ⋅U         \n",
       "M = -M₀ + ─────────────────────────\n",
       "                ⎛  2             2⎞\n",
       "          2⋅f⋅π⋅⎝xk  + (R₁ + R₂ₛ) ⎠"
      ]
     },
     "metadata": {},
     "output_type": "display_data"
    },
    {
     "data": {
      "image/png": "[encoded data removed]",
      "text/latex": [
       "$$P = 2 M f \\pi \\left(- s + 1\\right)$$"
      ],
      "text/plain": [
       "P = 2⋅M⋅f⋅π⋅(-s + 1)"
      ]
     },
     "metadata": {},
     "output_type": "display_data"
    },
    {
     "data": {
      "image/png": "[encoded data removed]",
      "text/latex": [
       "$$R_{2s} = \\frac{R_{2}}{s}$$"
      ],
      "text/plain": [
       "      R₂\n",
       "R₂ₛ = ──\n",
       "      s "
      ]
     },
     "metadata": {},
     "output_type": "display_data"
    }
   ],
   "source": [
    "# определение зависимости момента от скольжения\n",
    "\n",
    "eq1 = Eq(M,  3* U**2*R2s / (2*pi*f*((R1 + R2s)**2+xk**2)) -M0)\n",
    "eq2 = Eq(P, M*2*pi*f*(1-s))\n",
    "eq3 = Eq(R2s, R2/s)\n",
    "# покажем выражения в печатном виде\n",
    "display(eq1)\n",
    "display(eq2)\n",
    "display(eq3)\n"
   ]
  },
  {
   "cell_type": "code",
   "execution_count": 50,
   "metadata": {},
   "outputs": [
    {
     "data": {
      "image/png": "[encoded data removed]",
      "text/latex": [
       "$$\\frac{P}{2 f \\pi \\left(- s + 1\\right)} = - M_{0} + \\frac{3 R_{2} U^{2}}{2 f \\pi s \\left(xk^{2} + \\left(R_{1} + \\frac{R_{2}}{s}\\right)^{2}\\right)}$$"
      ],
      "text/plain": [
       "                                      2          \n",
       "      P                         3⋅R₂⋅U           \n",
       "────────────── = -M₀ + ──────────────────────────\n",
       "2⋅f⋅π⋅(-s + 1)                 ⎛               2⎞\n",
       "                               ⎜  2   ⎛     R₂⎞ ⎟\n",
       "                       2⋅f⋅π⋅s⋅⎜xk  + ⎜R₁ + ──⎟ ⎟\n",
       "                               ⎝      ⎝     s ⎠ ⎠"
      ]
     },
     "metadata": {},
     "output_type": "display_data"
    }
   ],
   "source": [
    "eq4=eq1.subs(R2s,R2/s).subs(M,P/(2*pi*f*(1-s)))\n",
    "display(eq4)"
   ]
  },
  {
   "cell_type": "code",
   "execution_count": null,
   "metadata": {},
   "outputs": [],
   "source": [
    "solve(eq4,s)"
   ]
  },
  {
   "cell_type": "code",
   "execution_count": null,
   "metadata": {},
   "outputs": [],
   "source": []
  }
 ],
 "metadata": {
  "kernelspec": {
   "display_name": "Python 3",
   "language": "python",
   "name": "python3"
  },
  "language_info": {
   "codemirror_mode": {
    "name": "ipython",
    "version": 3
   },
   "file_extension": ".py",
   "mimetype": "text/x-python",
   "name": "python",
   "nbconvert_exporter": "python",
   "pygments_lexer": "ipython3",
   "version": "3.7.3"
  }
 },
 "nbformat": 4,
 "nbformat_minor": 2
}
