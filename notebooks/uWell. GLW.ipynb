{
 "cells": [
  {
   "cell_type": "markdown",
   "metadata": {},
   "source": [
    "Кобзарь О.С. Хабибуллин Р.А. 2019 г.\n",
    "\n",
    "# Модель фонтанирующей скважины"
   ]
  },
  {
   "cell_type": "markdown",
   "metadata": {},
   "source": []
  },
  {
   "cell_type": "code",
   "execution_count": null,
   "metadata": {},
   "outputs": [],
   "source": [
    "import sys\n",
    "sys.path.append('../')\n",
    "\n",
    "import uniflocpy.uWell.deviation_survey as dev_sev\n",
    "import uniflocpy.uTools.data_workflow as utool\n",
    "import uniflocpy.uMultiphaseFlow.gas_flow as gas_flow\n",
    "import uniflocpy.uTools.uconst as uconst\n",
    "import uniflocpy.uWell.uPipe as Pipe\n",
    "import uniflocpy.uWell.Self_flow_well as self_flow_well\n",
    "import plotly.graph_objs as go\n",
    "import numpy as np\n",
    "from plotly.offline import download_plotlyjs, init_notebook_mode, plot, iplot\n",
    "from plotly import tools\n",
    "import pandas as pd\n",
    "init_notebook_mode(connected=True)\n",
    "import scipy.interpolate as interpolate\n",
    "import matplotlib.pyplot as plt\n",
    "data = utool.Data()\n",
    "from uniflocpy.uTools import plotly_workflow\n",
    "import re\n",
    "import uniflocpy.uPVT.BlackOil_model as BlackOil_model\n",
    "import uniflocpy.uTemperature as uTemperature\n",
    "import uniflocpy.uReservoir.IPR_simple_line as IPR_simple_line\n",
    "import uniflocpy.uTools.plotly_workflow as plotly_workflow \n",
    "import uniflocpy.uValidation.python_api as python_api\n",
    "import uniflocpy.uValidation.by_UniflocVBA as bvba\n",
    "from shapely.geometry import LineString\n"
   ]
  },
  {
   "cell_type": "markdown",
   "metadata": {},
   "source": [
    "## Настройки расчета"
   ]
  },
  {
   "cell_type": "code",
   "execution_count": null,
   "metadata": {},
   "outputs": [],
   "source": [
    "calc_options ={\"step_lenth_in_calc_along_wellbore_m\":25,\n",
    "                \"without_annulus_space\":False,\n",
    "                \"solver_using\":True}\n",
    "\n",
    "\n",
    "def calc_energy_kjm3(p_tube_bar, p_wellhead_bar, r_gas_injected_m3m3):\n",
    "    result = (1000 * (1.2/0.2) * r_gas_injected_m3m3 * 0.1 * \n",
    "              (\n",
    "                (p_tube_bar/p_wellhead_bar)**(0.24) - 1    \n",
    "                )\n",
    "             )\n",
    "    return result\n",
    "\n",
    "def find_intersection(result_df, column1_name, column2_name):\n",
    "    x = result_df[column1_name].dropna().index.values\n",
    "    f = result_df[column1_name].dropna().values\n",
    "\n",
    "    x2 = result_df[column2_name].dropna().index.values\n",
    "    g = result_df[column2_name].dropna().values\n",
    "    first_line = LineString(np.column_stack((x, f)))\n",
    "    second_line = LineString(np.column_stack((x2, g)))\n",
    "    intersection = first_line.intersection(second_line)\n",
    "    try:\n",
    "        return [intersection.xy[0][0], intersection.xy[1][0]]\n",
    "    except:\n",
    "        return [0, 0]"
   ]
  },
  {
   "cell_type": "code",
   "execution_count": null,
   "metadata": {},
   "outputs": [],
   "source": [
    "calc_energy_kjm3(84.4029695013113, 11.1, 75)"
   ]
  },
  {
   "cell_type": "markdown",
   "metadata": {},
   "source": [
    "## Данные по скважинам"
   ]
  },
  {
   "cell_type": "markdown",
   "metadata": {},
   "source": [
    "Скв. 2Ф Исследование 5РМ"
   ]
  },
  {
   "cell_type": "code",
   "execution_count": null,
   "metadata": {},
   "outputs": [],
   "source": [
    "1.45  * 24.05 / 28.98"
   ]
  },
  {
   "cell_type": "code",
   "execution_count": null,
   "metadata": {},
   "outputs": [],
   "source": [
    "1.45 /1.293"
   ]
  },
  {
   "cell_type": "markdown",
   "metadata": {},
   "source": [
    "Скважина исходная"
   ]
  },
  {
   "cell_type": "code",
   "execution_count": null,
   "metadata": {},
   "outputs": [],
   "source": [
    "\n",
    "well_name = '2Ф. Ромашкинское м.'\n",
    "pb_bar = 90\n",
    "fluid_data = {\"rsb_m3m3\" : 56,\n",
    "\"gamma_oil\" : 0.86,\n",
    " \"gamma_gas\" : 1.45  * 24.05 / 28.98,\n",
    "#\"gamma_gas\" : 1.45 /1.293,  #добавить содержание метана и азота\n",
    "\n",
    "'pb_bar': pb_bar}\n",
    "\n",
    "well_data = {\"h_intake_mes_m\" :1205.5,\n",
    "\"h_intake_vert_m\" : 1205.5,\n",
    "\"h_bottomhole_mes_m\" : 1605, \n",
    "\"h_bottomhole_vert_m\": 1605,\n",
    "             \n",
    "\"geothermal_grad_cm\":0.02,\n",
    "\"t_wellhead_c\":20,\n",
    "\"t_bottomhole_c\" :40,\n",
    "\"t_earth_init_in_reservoir_c\" : 40,\n",
    "'p_bottomhole_bar': 114.35, \n",
    "             'p_wellhead_bar':9,\n",
    "\"d_casing_inner_m\" : 0.133,\n",
    "\"d_tube_inner_m\" : 0.0503,\n",
    "\"qliq_on_surface_m3day\":40,\n",
    "\"p_reservoir_bar\":177,\n",
    "\"fw_on_surface_perc\":0}\n",
    "real_measurements = pd.DataFrame({'p_survey_mpa': [0.9, 1.12, 1.83, 2.957, 4.355, 5.785, 7.3, 8.953, 9.863, 10.176, 11.435],\n",
    "                                 'h_mes_survey_m': [0, 105, 305, 505, 705, 905, 1105, 1305, 1405, 1505, 1605]})"
   ]
  },
  {
   "cell_type": "markdown",
   "metadata": {},
   "source": [
    "Скважина обводненная c газлифтом"
   ]
  },
  {
   "cell_type": "code",
   "execution_count": null,
   "metadata": {},
   "outputs": [],
   "source": [
    "well_name = '2Ф. Ромашкинское м.'\n",
    "pb_bar = 90\n",
    "fluid_data = {\"rsb_m3m3\" : 56,\n",
    "\"gamma_oil\" : 0.86,\n",
    " \"gamma_gas\" : 1.45  * 24.05 / 28.98,\n",
    "#\"gamma_gas\" : 1.45 /1.293,\n",
    "\n",
    "'pb_bar': pb_bar}\n",
    "\n",
    "well_data_glw = {\"h_intake_mes_m\" :1205.5,\n",
    "\"h_intake_vert_m\" : 1205.5,\n",
    "\"h_bottomhole_mes_m\" : 1605, \n",
    "\"h_bottomhole_vert_m\": 1605,\n",
    "             \n",
    "\"geothermal_grad_cm\":0.02,\n",
    "                 \n",
    "\"t_wellhead_c\":20,\n",
    "\"t_bottomhole_c\" :40,\n",
    "\"t_earth_init_in_reservoir_c\" : 40,\n",
    "'p_bottomhole_bar': 114.35, \n",
    "             'p_wellhead_bar':9,\n",
    "\"d_casing_inner_m\" : 0.0503,\n",
    "\"d_tube_inner_m\" : 0.0503,\n",
    "\"qliq_on_surface_m3day\":40,\n",
    "\"p_reservoir_bar\":177,\n",
    "\"fw_on_surface_perc\":60,\n",
    "\"multiplier_for_pi\":0.8}\n",
    "real_measurements = pd.DataFrame({'p_survey_mpa': [0.9, 1.12, 1.83, 2.957, 4.355, 5.785, 7.3, 8.953, 9.863, 10.176, 11.435],\n",
    "                                 'h_mes_survey_m': [0, 105, 305, 505, 705, 905, 1105, 1305, 1405, 1505, 1605]})"
   ]
  },
  {
   "cell_type": "markdown",
   "metadata": {},
   "source": [
    "Исследование 18ТМ Скв.2Ф"
   ]
  },
  {
   "cell_type": "code",
   "execution_count": null,
   "metadata": {},
   "outputs": [],
   "source": [
    "well_name = '2Ф. Туймазинское м.'\n",
    "pb_bar = 90\n",
    "fluid_data = {\"rsb_m3m3\" : 54.5,\n",
    "\"gamma_oil\" : 0.852,\n",
    "#\"gamma_gas\" : 1.45  * 24.05 / 28.98,\n",
    "               \"gamma_gas\" : 1.45  * 24.05 / 28.98,\n",
    "\n",
    "'pb_bar': pb_bar}\n",
    "\n",
    "well_data = {\"h_intake_mes_m\" :1205,\n",
    "\"h_intake_vert_m\" : 1205,\n",
    "\"h_bottomhole_mes_m\" : 1650, \n",
    "\"h_bottomhole_vert_m\": 1650,\n",
    "             \n",
    "\"geothermal_grad_cm\":0.027,\n",
    "\"t_wellhead_c\":23.2,\n",
    "\"t_bottomhole_c\" :40,\n",
    "\"t_earth_init_in_reservoir_c\" : 40,\n",
    "'p_bottomhole_bar':120,\n",
    " 'p_wellhead_bar':11.1,\n",
    "\"d_casing_inner_m\" : 0.1553,\n",
    "\"d_tube_inner_m\" : 0.062,\n",
    "\"qliq_on_surface_m3day\":176.5,\n",
    "\"p_reservoir_bar\":180,\n",
    "\"fw_on_surface_perc\":0}\n",
    "real_measurements = pd.DataFrame({'p_survey_mpa': [1.11, 1.86, 2.97, 4.17, 5.59, 7.02, 8.55, 10.10, 12.0],\n",
    "                                 'h_mes_survey_m': [0, 200, 400, 600, 800, 1000, 1200, 1400, 1650]})"
   ]
  },
  {
   "cell_type": "markdown",
   "metadata": {},
   "source": [
    "Газлифтная скважина"
   ]
  },
  {
   "cell_type": "code",
   "execution_count": null,
   "metadata": {},
   "outputs": [],
   "source": [
    "well_name = '2Ф. Туймазинское м.'\n",
    "pb_bar = 90\n",
    "fluid_data = {\"rsb_m3m3\" : 54.5,\n",
    "\"gamma_oil\" : 0.852,\n",
    "#\"gamma_gas\" : 1.45  * 24.05 / 28.98,\n",
    "               \"gamma_gas\" : 1.45  * 24.05 / 28.98,\n",
    "\n",
    "'pb_bar': pb_bar}\n",
    "\n",
    "well_data_glw = {\"h_intake_mes_m\" :1205,\n",
    "\"h_intake_vert_m\" : 1205,\n",
    "\"h_bottomhole_mes_m\" : 1650, \n",
    "\"h_bottomhole_vert_m\": 1650,\n",
    "             \n",
    "\"geothermal_grad_cm\":0.027,\n",
    "\"t_wellhead_c\":23.2,\n",
    "\"t_bottomhole_c\" :40,\n",
    "\"t_earth_init_in_reservoir_c\" : 40,\n",
    "'p_bottomhole_bar':120,\n",
    " 'p_wellhead_bar':11.1,\n",
    "\"d_casing_inner_m\" : 0.062,\n",
    "\"d_tube_inner_m\" : 0.062,\n",
    "\"qliq_on_surface_m3day\":176.5,\n",
    "\"p_reservoir_bar\":180,\n",
    "\"fw_on_surface_perc\":50,\n",
    "    \"multiplier_for_pi\":0.8}\n",
    "real_measurements = pd.DataFrame({'p_survey_mpa': [1.11, 1.86, 2.97, 4.17, 5.59, 7.02, 8.55, 10.10, 12.0],\n",
    "                                 'h_mes_survey_m': [0, 200, 400, 600, 800, 1000, 1200, 1400, 1650]})"
   ]
  },
  {
   "cell_type": "markdown",
   "metadata": {},
   "source": [
    "## Настройка модели скважины и расчет"
   ]
  },
  {
   "cell_type": "markdown",
   "metadata": {},
   "source": [
    "Модель флюида Мищенко"
   ]
  },
  {
   "cell_type": "code",
   "execution_count": null,
   "metadata": {},
   "outputs": [],
   "source": [
    "def create_well(fluid_data, well_data, calc_options, true_rsb_m3t=False, pains_corr_using=0,\n",
    "               gravity_grad_coef=1,friction_grad_coef=1, epsilon_friction_m=0.00029):\n",
    "    blackoil_option = BlackOil_model.BlackOil_option()\n",
    "    blackoil_option.set_vba_preset()\n",
    "    simple_well = self_flow_well.self_flow_well(fluid=1, reservoir = 0, pipe=0, temp_corr=1, **fluid_data,\n",
    "                                                    **well_data, **calc_options, activate_rus_mode = 1)\n",
    "    simple_well.pipe.fluid_flow.fl.option = blackoil_option\n",
    "    \n",
    "    simple_well.pipe.fluid_flow.fl.true_rsb_m3t = true_rsb_m3t\n",
    "    simple_well.pipe.hydr_cor.pains_corr_using =pains_corr_using\n",
    "    simple_well.pipe.hydr_cor.gravity_grad_coef =gravity_grad_coef\n",
    "    simple_well.pipe.hydr_cor.friction_grad_coef =friction_grad_coef\n",
    "    simple_well.pipe.hydr_cor.epsilon_friction_m = epsilon_friction_m\n",
    "    return simple_well"
   ]
  },
  {
   "cell_type": "code",
   "execution_count": null,
   "metadata": {},
   "outputs": [],
   "source": [
    "true_rsb_m3t = False\n",
    "pains_corr_using =1\n",
    "gravity_grad_coef =0.925\n",
    "friction_grad_coef =0.9\n",
    "epsilon_friction_m = 0.00029"
   ]
  },
  {
   "cell_type": "code",
   "execution_count": null,
   "metadata": {},
   "outputs": [],
   "source": [
    "#simple_well.pipe.fluid_flow.fl.gas_dissolved_m3t_fixed = 70.66        #72.2 false                  #67.22 true\n",
    "#simple_well.pipe.fluid_flow.fl.rs_m3m3_fixed = 60.2                 #62.2                        #57.81  \n"
   ]
  },
  {
   "cell_type": "code",
   "execution_count": null,
   "metadata": {},
   "outputs": [],
   "source": [
    "simple_well = create_well(fluid_data, well_data,\n",
    "                          calc_options, \n",
    "                          true_rsb_m3t=true_rsb_m3t,\n",
    "                          pains_corr_using=pains_corr_using,\n",
    "               gravity_grad_coef=gravity_grad_coef,\n",
    "                          friction_grad_coef=friction_grad_coef, \n",
    "                          epsilon_friction_m=epsilon_friction_m)"
   ]
  },
  {
   "cell_type": "code",
   "execution_count": null,
   "metadata": {},
   "outputs": [],
   "source": [
    "simple_well = create_well(fluid_data, well_data_glw,\n",
    "                          calc_options, \n",
    "                          true_rsb_m3t=true_rsb_m3t,\n",
    "                          pains_corr_using=pains_corr_using,\n",
    "               gravity_grad_coef=gravity_grad_coef,\n",
    "                          friction_grad_coef=friction_grad_coef, \n",
    "                          epsilon_friction_m=epsilon_friction_m)"
   ]
  },
  {
   "cell_type": "code",
   "execution_count": null,
   "metadata": {},
   "outputs": [],
   "source": [
    "simple_well.pipe.fluid_flow.fl.gas_dissolved_m3t_fixed = 71.76       #72.2 false                  #67.22 true\n",
    "simple_well.pipe.fluid_flow.fl.rs_m3m3_fixed = 61.13                #62.2                        #57.81  \n"
   ]
  },
  {
   "cell_type": "code",
   "execution_count": null,
   "metadata": {},
   "outputs": [],
   "source": [
    "simple_well.calc_all_from_down_to_up() #снизу-вверх"
   ]
  },
  {
   "cell_type": "code",
   "execution_count": null,
   "metadata": {},
   "outputs": [],
   "source": [
    "simple_well.calc_all_from_up_to_down() #сверху-вниз"
   ]
  },
  {
   "cell_type": "code",
   "execution_count": null,
   "metadata": {},
   "outputs": [],
   "source": [
    "new_pi_m3daybar = simple_well.ipr.pi_m3daybar * simple_well.multiplier_for_pi\n",
    "print(simple_well.ipr.pi_m3daybar, simple_well.multiplier_for_pi, new_pi_m3daybar)"
   ]
  },
  {
   "cell_type": "markdown",
   "metadata": {},
   "source": [
    "## Выгрузка расчитанных значений и объединение с фактическими данными"
   ]
  },
  {
   "cell_type": "code",
   "execution_count": null,
   "metadata": {},
   "outputs": [],
   "source": [
    "result_df = simple_well.data.get_data_as_df()\n",
    "result_df.to_excel('uvalidation_self_flow_well_result.xlsx')\n",
    "result_df = result_df.set_index('well.h_calculated_mes_m')"
   ]
  },
  {
   "cell_type": "code",
   "execution_count": null,
   "metadata": {},
   "outputs": [],
   "source": [
    "result_df_p = simple_well.data.get_data_as_df()\n",
    "result_df_p = result_df_p.set_index('well.p_calculated_bar')"
   ]
  },
  {
   "cell_type": "markdown",
   "metadata": {},
   "source": [
    "Выгрузка ограниченного набора данных"
   ]
  },
  {
   "cell_type": "code",
   "execution_count": null,
   "metadata": {},
   "outputs": [],
   "source": [
    "group_patterns = [['p_calculated_bar'], ['t_calculated'],['gas_fraction'], ['rhon'], ['mun'], ['density'], \n",
    "                  ['friction_grad'], ['number_re'], ['pb_bar'], ['fluid_flow', 'msec'], ['vsl'], ['vsg'], ['result_grad'], \n",
    "                  ['acceleration'], ['rsb_m3t'], ['gas_liberated_m3t'], ['gas_dissolved_m3t'],\n",
    "                 ['b_oil_m3m3'], ['rho_oil_kgm3'], ['mu_oil_cp'],['fl.z'], ['rho_gas_dissolved_relative_d']]\n",
    "antipatterns = ['temp_cor', 'dvdp', 'grad_coef', 'module_friction', 'grad_using', 'for_rus_cor']\n",
    "print_all = True\n",
    "columns_to_plot = plotly_workflow.create_columns_to_plot(result_df, group_patterns, antipatterns, print_all)\n",
    "short_df = result_df[columns_to_plot]\n",
    "short_df = utool.rename_columns_by_dict(short_df)\n",
    "\n",
    "class_names = ['hydr_cor.', 'temp_cor.', 'fl.', 'fluid_flow.', 'well.', 'earth']\n",
    "for i in class_names:\n",
    "    short_df = utool.rename_columns_by_dict(short_df,{'':i})\n",
    "short_df.index.name = 'Измеренная глубина, м'\n",
    "short_df.to_excel('uvalidation_self_flow_well_short_result.xlsx')"
   ]
  },
  {
   "cell_type": "code",
   "execution_count": null,
   "metadata": {},
   "outputs": [],
   "source": [
    "result_df_one_well = result_df.copy()"
   ]
  },
  {
   "cell_type": "markdown",
   "metadata": {},
   "source": [
    "Добавление результатов фактических исследований"
   ]
  },
  {
   "cell_type": "code",
   "execution_count": null,
   "metadata": {},
   "outputs": [],
   "source": [
    "real_measurements[\"p_survey_bar\"] = real_measurements[\"p_survey_mpa\"] * 10\n",
    "real_measurements = real_measurements.set_index(real_measurements['h_mes_survey_m'])\n",
    "real_measurements.index.name = 'well.h_calculated_mes_m'\n",
    "\n",
    "result_df = result_df.join(real_measurements, how = 'outer')"
   ]
  },
  {
   "cell_type": "code",
   "execution_count": null,
   "metadata": {},
   "outputs": [],
   "source": [
    "(real_measurements[\"p_survey_bar\"][0] - simple_well.p_wellhead_bar) / real_measurements[\"p_survey_bar\"][0] * 100  #снизу-вверх"
   ]
  },
  {
   "cell_type": "code",
   "execution_count": null,
   "metadata": {},
   "outputs": [],
   "source": [
    "(real_measurements[\"p_survey_bar\"][simple_well.h_bottomhole_mes_m] - \n",
    " simple_well.p_bottomhole_bar) / real_measurements[\"p_survey_bar\"][simple_well.h_bottomhole_mes_m] * 100 #сверху-вниз"
   ]
  },
  {
   "cell_type": "markdown",
   "metadata": {},
   "source": [
    "## Построение графиков"
   ]
  },
  {
   "cell_type": "code",
   "execution_count": null,
   "metadata": {},
   "outputs": [],
   "source": [
    "group_patterns = [[\"p_bar\", 'fl'], ['t_c', 'fl'], ['well.t_calculated_earth_init'], ['survey'], ['p_calculated_bar_vba'], ['t_calculated_c_vba']]\n",
    "antipatterns = ['mu', 'h_mes_survey', 'mpa', 'fl.', 'earth']\n",
    "plotly_workflow.plot_by_patterns(result_df, group_patterns, antipatterns, plot_name='Распределение свойств по глубине',\n",
    "                                 print_all=False)"
   ]
  },
  {
   "cell_type": "code",
   "execution_count": null,
   "metadata": {},
   "outputs": [],
   "source": [
    "plotly_workflow.plot_by_patterns(result_df_p,  [['rho_oil_kgm3']], ['cor_number', 'cal'], swap_xy=False, reversed_y=False, \n",
    "                                 plot_name='Плотность газонасыщенной нефти',\n",
    "                                 x_name = 'Давление, бар', \n",
    "                                y_name = 'Плотность, кг/м3',\n",
    "                                traces_names = [\n",
    "                                               'Плотность, кг/м3',\n",
    "                                               ]\n",
    "                                )"
   ]
  },
  {
   "cell_type": "code",
   "execution_count": null,
   "metadata": {},
   "outputs": [],
   "source": [
    "group_patterns = [[\"gas_dissolved_m3t\"],['gas_liberated_m3t']]\n",
    "antipatterns = ['tpb', 'number']\n",
    "plotly_workflow.plot_by_patterns(result_df_p, group_patterns, antipatterns, plot_name='Зависимость параметров от давления',\n",
    "                                 print_all=False, swap_xy=False, reversed_y=False)"
   ]
  },
  {
   "cell_type": "code",
   "execution_count": null,
   "metadata": {},
   "outputs": [],
   "source": [
    "group_patterns = [[\"liberated_gas_sc_m3m3\"],['dissolved_gas_sc_m3m3']]\n",
    "antipatterns = ['tpb', 'number']\n",
    "plotly_workflow.plot_by_patterns(result_df_p, group_patterns, antipatterns,\n",
    "                                 print_all=False, swap_xy=False, reversed_y=False,\n",
    "                                plot_name='Удельный объем выделившегося и растворенного газа',\n",
    "                                x_name = 'Давление, бар', \n",
    "                                y_name = 'м3/м3',\n",
    "                                traces_names = [\n",
    "                                               'Удельный объем выделившегося газа, м3/м3',\n",
    "                                    'Удельный объем растворенного газа, м3/м3'\n",
    "                                               ])"
   ]
  },
  {
   "cell_type": "code",
   "execution_count": null,
   "metadata": {},
   "outputs": [],
   "source": [
    "group_patterns = [[\"p_calculated_bar\"], ['p_survey']]\n",
    "antipatterns = ['mu', 'h_mes_survey', 'mpa','fl','ipr']\n",
    "plotly_workflow.plot_by_patterns(result_df, group_patterns, antipatterns, plot_name='КРД',\n",
    "                                 print_all=False,\n",
    "                                x_name='Давление, бар',\n",
    "    y_name='Глубина, м',\n",
    "    traces_names=['Расчет КРД по Беггз Брилл', 'Факт КРД'])"
   ]
  },
  {
   "cell_type": "code",
   "execution_count": null,
   "metadata": {},
   "outputs": [],
   "source": [
    "plotly_workflow.plot_by_patterns(result_df_p,  [['b_oil_m3m3']], ['cor_number', 'cal'], swap_xy=False, reversed_y=False, \n",
    "                                 plot_name='Объемный коэффициент газонасыщенной нефти',\n",
    "                                 x_name = 'Давление, бар', \n",
    "                                y_name = 'bн, м3/м3',\n",
    "                                traces_names = [\n",
    "                                               'bн, м3/м3',\n",
    "                                               ]\n",
    "                                )"
   ]
  },
  {
   "cell_type": "code",
   "execution_count": null,
   "metadata": {},
   "outputs": [],
   "source": [
    "plotly_workflow.plot_by_patterns(result_df_p,  [['mu_oil_cp']], ['cor_number', 'cal'], \n",
    "                                 swap_xy=False, reversed_y=False,  plot_name='Вязкость газонасыщенной нефти',\n",
    "                                x_name = 'Давление, бар', \n",
    "                                y_name = 'Вязкость, сПуаз',\n",
    "                                traces_names = [\n",
    "                                               'Вязкость нефти, сПуаз',\n",
    "                                               ])"
   ]
  },
  {
   "cell_type": "code",
   "execution_count": null,
   "metadata": {},
   "outputs": [],
   "source": [
    "result_df_phi = result_df_p.copy()\n",
    "result_df_phi = result_df_phi.set_index('fluid_flow.gas_fraction_d')\n",
    "group_patterns = [[\"gas_fraction_real_d\"]]\n",
    "antipatterns = ['tpb', 'number']\n",
    "plotly_workflow.plot_by_patterns(result_df_phi, group_patterns, antipatterns,\n",
    "                                 print_all=False, swap_xy=False, reversed_y=False,\n",
    "                                plot_name='Истинная доля газа от расходной',\n",
    "                                x_name = 'Расходная доля газа, д.ед. (Без учета проскальзывания св. газа)', \n",
    "                                y_name = 'Истинная доля газа, д.ед. (с учетом проскальзывания св. газа)',\n",
    "                                traces_names = [\n",
    "                                               'Вязкость нефти, сПуаз',\n",
    "                                               ])"
   ]
  },
  {
   "cell_type": "code",
   "execution_count": null,
   "metadata": {},
   "outputs": [],
   "source": [
    "plotly_workflow.plot_by_patterns(result_df_p,  [['rho_gas_liberated']], ['cor_number', 'cal'], swap_xy=False, reversed_y=False, \n",
    "                                 plot_name='Относительная плотность выделившегося газа',\n",
    "                                 x_name = 'Давление, бар', \n",
    "                                y_name = 'Относительная плотность',\n",
    "                                traces_names = [\n",
    "                                               'Вязкость, сПуаз',\n",
    "                                               ]\n",
    "                                )"
   ]
  },
  {
   "cell_type": "markdown",
   "metadata": {},
   "source": [
    "## Расчет сверху-вниз для разных Rг (удельного количество закачиваемого газа"
   ]
  },
  {
   "cell_type": "code",
   "execution_count": null,
   "metadata": {},
   "outputs": [],
   "source": [
    "simple_well_for_variant = simple_well = create_well(fluid_data, well_data_glw,\n",
    "                          calc_options, \n",
    "                          true_rsb_m3t=true_rsb_m3t,\n",
    "                          pains_corr_using=pains_corr_using,\n",
    "               gravity_grad_coef=gravity_grad_coef,\n",
    "                          friction_grad_coef=friction_grad_coef, \n",
    "                          epsilon_friction_m=epsilon_friction_m)"
   ]
  },
  {
   "cell_type": "code",
   "execution_count": null,
   "metadata": {},
   "outputs": [],
   "source": [
    "result_df_to_plot = None\n",
    "results = []\n",
    "r_injected_list = list(range(0, 176, 25))\n",
    "for i in r_injected_list:\n",
    "    print(i)\n",
    "    simple_well_for_variant.data.clear_data()\n",
    "    simple_well_for_variant.pipe.fluid_flow.r_gas_injected_m3m3 = i\n",
    "    simple_well_for_variant.calc_all_from_up_to_down()\n",
    "    this_result_df = simple_well_for_variant.data.get_data_as_df()\n",
    "    this_result_df = this_result_df.set_index('well.h_calculated_mes_m')\n",
    "    results.append(this_result_df)\n",
    "    \n",
    "    this_result_df = this_result_df.add_prefix(f\"Rg: {i} м3/м3, \")\n",
    "    try:\n",
    "        result_df_to_plot = result_df_to_plot.join(this_result_df)\n",
    "    except:\n",
    "        result_df_to_plot = this_result_df.copy()"
   ]
  },
  {
   "cell_type": "markdown",
   "metadata": {},
   "source": [
    "Результаты в одном DataFrame"
   ]
  },
  {
   "cell_type": "code",
   "execution_count": null,
   "metadata": {},
   "outputs": [],
   "source": [
    "result_df_one_well = result_df_one_well[result_df_one_well['well.p_calculated_bar']>1.1]\n",
    "result_df = result_df_one_well.join(result_df_to_plot, how='outer')"
   ]
  },
  {
   "cell_type": "markdown",
   "metadata": {},
   "source": [
    "Расчет распределения давленя в затрубе"
   ]
  },
  {
   "cell_type": "code",
   "execution_count": null,
   "metadata": {},
   "outputs": [],
   "source": [
    "result_p_annulus_bar = []\n",
    "list_of_mes  = list(range(0, well_data_glw[\"h_bottomhole_mes_m\"]+(calc_options[\"step_lenth_in_calc_along_wellbore_m\"]-1),\n",
    "               calc_options[\"step_lenth_in_calc_along_wellbore_m\"]))\n",
    "list_of_mes = result_df.index.values\n",
    "for i in list_of_mes:\n",
    "    h_mes_m = i\n",
    "    p_annulus_bar = gas_flow.calc_p_in_annulus_bar(h_m=i,\n",
    "                                                   p_wellhead_bar=60, \n",
    "                                                   t_wellhead_c=20, \n",
    "                                                   gamma_gas=0.8,\n",
    "                                                   t_bottomhole_c=40,\n",
    "                                                   h_bottomhole_m=well_data_glw[\"h_bottomhole_mes_m\"])\n",
    "    result_p_annulus_bar.append(p_annulus_bar)\n",
    "    \n",
    "annulus_df = pd.DataFrame({'p_calculated_bar_annulus':result_p_annulus_bar},\n",
    "                         list_of_mes)\n",
    "\n",
    "def fix_p_annulus(annulus_df = annulus_df):\n",
    "    old_values = annulus_df['p_calculated_bar_annulus'].values\n",
    "    new_values = []\n",
    "    for i, j in enumerate(old_values):\n",
    "        if i>1 and i < 30:\n",
    "            new_values.append(None)\n",
    "        else:\n",
    "            new_values.append(j)\n",
    "    annulus_df['p_calculated_bar_annulus'] = new_values\n",
    "    annulus_df = annulus_df.interpolate('spline',order = 1, axis=0, limit_direction ='both')\n",
    "    return annulus_df\n",
    "annulus_df = fix_p_annulus(annulus_df)\n",
    "annulus_df.plot()"
   ]
  },
  {
   "cell_type": "code",
   "execution_count": null,
   "metadata": {},
   "outputs": [],
   "source": [
    "result_df = result_df.join(annulus_df, how='outer')"
   ]
  },
  {
   "cell_type": "markdown",
   "metadata": {},
   "source": [
    "## Продолжение построения распределения свойств по глубине для выбранной скважины"
   ]
  },
  {
   "cell_type": "code",
   "execution_count": null,
   "metadata": {},
   "outputs": [],
   "source": [
    "result_df_to_super_plot = result_df.copy()\n",
    "this_watercut_str = well_data_glw['fw_on_surface_perc']\n",
    "group_patterns = [[\"p_calculated_bar\"]]\n",
    "antipatterns = ['mu', 'h_mes_survey', 'mpa','fl','ipr']\n",
    "dict_to_translate = {f\"м3/м3, КРД сверху-вниз В={this_watercut_str}%\":'well.p_calculated_bar',\n",
    "                    #f\"КРД снизу-вверх В={this_watercut_str}%\":'well.p_calculated_bar',\n",
    "                    f\" \":'well.p_calculated_bar',\n",
    "                    'Rг:': 'Rg:',\n",
    "                    \"КРД в затрубе\":\"p_calculated_bar_annulus\"}\n",
    "columns_to_plot = plotly_workflow.create_columns_to_plot(result_df_to_super_plot, group_patterns, antipatterns, False)\n",
    "print(columns_to_plot)\n",
    "result_traces_names = columns_to_plot\n",
    "for z,i in enumerate(result_traces_names):\n",
    "    for j in dict_to_translate.items():\n",
    "        if j[1] in i:\n",
    "            new_name = i.replace(j[1], j[0])\n",
    "            result_traces_names[z] =new_name\n",
    "result_traces_names[0] = f\"КРД снизу-вверх В={this_watercut_str}%\"\n",
    "for i, j in enumerate(result_traces_names):\n",
    "    result_traces_names[i] = j.replace(', well.p_calculated_bar','')\n",
    "print(result_traces_names)\n"
   ]
  },
  {
   "cell_type": "code",
   "execution_count": null,
   "metadata": {},
   "outputs": [],
   "source": [
    "group_patterns = [[\"p_calculated_bar\"]]\n",
    "antipatterns = ['mu', 'h_mes_survey', 'mpa','fl','ipr']\n",
    "plotly_workflow.plot_by_patterns(result_df_to_super_plot, group_patterns, antipatterns,\n",
    "                                 plot_name=(f\"Расчет КРД для скважины {well_name}: В = {this_watercut_str}%, \" +\n",
    "                                           f\"Кпрод.(B={this_watercut_str})/Кпрод.(B=0)={well_data_glw['multiplier_for_pi']}\"),\n",
    "                                 print_all=True,\n",
    "                                x_name='Давление, бар',\n",
    "    y_name='Глубина, м',                         \n",
    "    traces_names=result_traces_names\n",
    "                                        )\n",
    "plotly_workflow.plot_by_patterns(result_df_to_super_plot, group_patterns, antipatterns,\n",
    "                                 plot_name=(f\"Расчет КРД для скважины {well_name.replace('.','')}, В = {this_watercut_str}%\"),\n",
    "                                 print_all=True,\n",
    "                                x_name='Давление, бар',\n",
    "                                 iplot_option = False,\n",
    "    y_name='Глубина, м',                         \n",
    "    traces_names=result_traces_names \n",
    "                                        )"
   ]
  },
  {
   "cell_type": "code",
   "execution_count": null,
   "metadata": {},
   "outputs": [],
   "source": [
    "overall_result = None\n",
    "for i in r_injected_list:\n",
    "    h_mes_m, p_tube_bar = find_intersection(result_df, 'well.p_calculated_bar', f\"Rg: {i} м3/м3, well.p_calculated_bar\")\n",
    "    \n",
    "    x = result_df['p_calculated_bar_annulus'].dropna().index.values\n",
    "    y = result_df['p_calculated_bar_annulus'].dropna().values\n",
    "    f = interpolate.interp1d(x, y)\n",
    "    p_annulus_bar = f(h_mes_m)\n",
    "    \n",
    "    if p_annulus_bar>p_tube_bar>0:\n",
    "        check = 'ИСТИНА'\n",
    "        energy = calc_energy_kjm3(p_tube_bar, well_data_glw['p_wellhead_bar'],i)\n",
    "    else:\n",
    "        check = \"ЛОЖЬ\"\n",
    "        energy = 0\n",
    "    \n",
    "    \n",
    "    \n",
    "    this_result = pd.DataFrame({'Расход газа, м3м3':i,\n",
    "                                'Глубина точки ввода газа, м':h_mes_m,\n",
    "                               'Давление в НКТ, бар':p_tube_bar,\n",
    "                               'Давление в затрубе, бар': p_annulus_bar,\n",
    "                               'Давление в затрубе больше':check,\n",
    "                               'УРЭ, кДж/м3':energy},\n",
    "                              index = [i])\n",
    "    try:\n",
    "        overall_result =  overall_result.append(this_result)\n",
    "    except:\n",
    "        overall_result = this_result.copy()\n",
    "if overall_result[overall_result['УРЭ, кДж/м3']>0].shape[0]>0:        \n",
    "    optimum_r_gas_injected_m3m3 = overall_result[overall_result['УРЭ, кДж/м3']>0]['УРЭ, кДж/м3'].idxmin()\n",
    "else:\n",
    "    optimum_r_gas_injected_m3m3 = -1\n",
    "result_column = []\n",
    "for i in overall_result.index.values:\n",
    "    if i == optimum_r_gas_injected_m3m3:\n",
    "        result = 'Оптимальный режим'\n",
    "    else:\n",
    "        result = 'Неоптимальный режим'\n",
    "    result_column.append(result)\n",
    "\n",
    "overall_result['Итог'] = result_column\n",
    "overall_result.to_excel('uWell.GLW_injection_point.xlsx')\n",
    "overall_result"
   ]
  },
  {
   "cell_type": "code",
   "execution_count": null,
   "metadata": {},
   "outputs": [],
   "source": [
    "overall_result['УРЭ, кДж/м3'].plot()"
   ]
  },
  {
   "cell_type": "code",
   "execution_count": null,
   "metadata": {},
   "outputs": [],
   "source": [
    "h_injection_point_m = overall_result[overall_result.index==optimum_r_gas_injected_m3m3]['Глубина точки ввода газа, м'][optimum_r_gas_injected_m3m3]\n",
    "p_injection_point_bar = overall_result[overall_result.index==optimum_r_gas_injected_m3m3]['Давление в НКТ, бар'][optimum_r_gas_injected_m3m3]\n",
    "\n",
    "bottom_piece_df = result_df_one_well[result_df_one_well.index > h_injection_point_m]\n",
    "bottom_piece_df = bottom_piece_df.sort_index()\n",
    "\n",
    "top_piece_df_columns = plotly_workflow.create_columns_to_plot(result_df_to_plot, [f\" {optimum_r_gas_injected_m3m3}\"],[])\n",
    "top_piece_df = result_df_to_plot[top_piece_df_columns]\n",
    "class_names = [f\"Rg: {optimum_r_gas_injected_m3m3} м3/м3, \"]\n",
    "for i in class_names:\n",
    "    top_piece_df = utool.rename_columns_by_dict(top_piece_df,{'':i})\n",
    "top_piece_df = top_piece_df.sort_index()\n",
    "\n",
    "\n",
    "top_piece_df = top_piece_df[top_piece_df.index <=h_injection_point_m]\n",
    "result_df_glw = top_piece_df.append(bottom_piece_df)\n",
    "\n",
    "\n",
    "group_patterns = [['r_gas_injected_m3m3'],['p_calculated_bar'], ['t_calculated'],['gas_fraction'], ['rhon'], ['mun'], ['density'], \n",
    "                  ['friction_grad'], ['number_re'], ['pb_bar'], ['fluid_flow', 'msec'], ['vsl'], ['vsg'], ['result_grad'], \n",
    "                  ['acceleration'], ['rsb_m3t'], ['gas_liberated_m3t'], ['gas_dissolved_m3t'],\n",
    "                 ['b_oil_m3m3'], ['rho_oil_kgm3'], ['mu_oil_cp'],['fl.z'], ['rho_gas_dissolved_relative_d']]\n",
    "antipatterns = ['temp_cor', 'dvdp', 'grad_coef', 'module_friction', 'grad_using', 'for_rus_cor','true', 'fixed']\n",
    "print_all = True\n",
    "columns_to_plot = plotly_workflow.create_columns_to_plot(result_df_glw, group_patterns, antipatterns, print_all)\n",
    "short_df = result_df_glw[columns_to_plot]\n",
    "short_df = utool.rename_columns_by_dict(short_df)\n",
    "\n",
    "class_names = ['hydr_cor.', 'temp_cor.', 'fl.', 'fluid_flow.', 'well.', 'earth', f\"Rg: {optimum_r_gas_injected_m3m3} м3/м3, \"]\n",
    "for i in class_names:\n",
    "    short_df = utool.rename_columns_by_dict(short_df,{'':i})\n",
    "short_df.index.name = 'Измеренная глубина, м'\n",
    "short_df.to_excel('GLW.parameters.xlsx')"
   ]
  },
  {
   "cell_type": "code",
   "execution_count": null,
   "metadata": {},
   "outputs": [],
   "source": [
    "last_plot = result_df_one_well.copy()\n",
    "top_piece_df_columns = plotly_workflow.create_columns_to_plot(result_df_to_plot, [f\" {optimum_r_gas_injected_m3m3}\"],[])\n",
    "top_piece_df = result_df_to_plot[top_piece_df_columns]\n",
    "last_plot = last_plot.join(top_piece_df, how = 'outer')\n",
    "last_plot = last_plot.join(annulus_df, how = 'outer')\n",
    "\n",
    "group_patterns = [[\"p_calculated_bar\"]]\n",
    "antipatterns = ['mu', 'h_mes_survey', 'mpa','ipr']\n",
    "plotly_workflow.plot_by_patterns(last_plot, group_patterns, antipatterns, \n",
    "                                 plot_name=(f\"Оптимальный режим работы для {well_name}: В = {this_watercut_str}%, \" +\n",
    "                                           f\"Кпрод.(B={this_watercut_str}%)/Кпрод.(B=0%)={well_data_glw['multiplier_for_pi']}\"),\n",
    "                                 print_all=True,\n",
    "                                x_name='Давление, бар',\n",
    "    y_name='Глубина, м',\n",
    "    traces_names=[f\"КРД снизу-вверх В={this_watercut_str}%\",\n",
    "                  f'Rг: {optimum_r_gas_injected_m3m3} м3/м3',\n",
    "                  'КРД в затрубе']\n",
    "                                )\n",
    "p_injection_point_bar_str = str(p_injection_point_bar)\n",
    "p_injection_point_bar_str_splitted = p_injection_point_bar_str.split('.')\n",
    "p_injection_point_bar_str = p_injection_point_bar_str_splitted[0] + '.' +  p_injection_point_bar_str_splitted[0][:2]\n",
    "\n",
    "p_injection_point_bar_str = str(round(p_injection_point_bar, 2))\n",
    "\n",
    "h_injection_point_m_str = str(h_injection_point_m)\n",
    "h_injection_point_m_str_splitted = h_injection_point_m_str.split('.')\n",
    "h_injection_point_m_str = h_injection_point_m_str_splitted[0] + '.' +  h_injection_point_m_str_splitted[0][:2]\n",
    "\n",
    "h_injection_point_m_str = str(round(h_injection_point_m, 2))\n",
    "\n",
    "\n",
    "plotly_workflow.plot_by_patterns(last_plot, group_patterns, antipatterns, \n",
    "                                 plot_name=(f\"Оптимальный режим работы для скважины {well_name} В = {this_watercut_str}%\"),\n",
    "                                 print_all=True,\n",
    "                                x_name='Давление, бар',\n",
    "    y_name='Глубина, м',\n",
    "    traces_names=[f\"КРД снизу-вверх В={this_watercut_str}%\",\n",
    "                  f'Rг: {optimum_r_gas_injected_m3m3} м3/м3',\n",
    "                  'КРД в затрубе'],\n",
    "                                 iplot_option = False,\n",
    "                        annotation = {'x': p_injection_point_bar , 'y':h_injection_point_m,\n",
    "                                      'text': f\"Ввод газа. H = {h_injection_point_m_str} м, P = {p_injection_point_bar_str} бар\" }\n",
    "                                )"
   ]
  }
 ],
 "metadata": {
  "kernelspec": {
   "display_name": "Python 3",
   "language": "python",
   "name": "python3"
  },
  "language_info": {
   "codemirror_mode": {
    "name": "ipython",
    "version": 3
   },
   "file_extension": ".py",
   "mimetype": "text/x-python",
   "name": "python",
   "nbconvert_exporter": "python",
   "pygments_lexer": "ipython3",
   "version": "3.7.6"
  }
 },
 "nbformat": 4,
 "nbformat_minor": 2
}
