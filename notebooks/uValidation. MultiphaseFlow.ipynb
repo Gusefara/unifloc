{
 "cells": [
  {
   "cell_type": "markdown",
   "metadata": {},
   "source": [
    "# Свойства многофазного потока по uniflocvba и uniflocpy"
   ]
  },
  {
   "cell_type": "markdown",
   "metadata": {},
   "source": [
    "# Нужно подгрузить надстройку uniflocvba из ветки dev22_2"
   ]
  },
  {
   "cell_type": "code",
   "execution_count": null,
   "metadata": {},
   "outputs": [],
   "source": [
    "import sys\n",
    "sys.path.append('../')\n",
    "\n",
    "import uniflocpy.uTools.data_workflow as data_workflow\n",
    "import pandas as pd\n",
    "from uniflocpy.uTools import plotly_workflow\n",
    "import uniflocpy.uPVT.BlackOil_model as BlackOil_model\n",
    "import uniflocpy.uValidation.python_api as python_api\n",
    "import uniflocpy.uTools.uconst as uc\n",
    "import uniflocpy.uPVT.PVT_fluids as PVT_fluids\n",
    "import numpy as np"
   ]
  },
  {
   "cell_type": "code",
   "execution_count": null,
   "metadata": {},
   "outputs": [],
   "source": [
    "def create_result_df_from_vba_output(vba_result, p_bar, t_c):\n",
    "    result_dict = {}\n",
    "    for key, value in zip(vba_result[1],vba_result[0]):\n",
    "        result_dict[key] = value\n",
    "    result_dict['p_bar'] = p_bar\n",
    "    result_dict['t_c'] = t_c\n",
    "    this_df = pd.DataFrame(result_dict, index = [0])\n",
    "    return this_df"
   ]
  },
  {
   "cell_type": "markdown",
   "metadata": {},
   "source": [
    "Загрузка надстройки"
   ]
  },
  {
   "cell_type": "code",
   "execution_count": null,
   "metadata": {},
   "outputs": [],
   "source": [
    "uniflocvba = python_api.API('E:\\\\Git\\\\unifloc_vba\\\\UniflocVBA_7.xlam')"
   ]
  },
  {
   "cell_type": "markdown",
   "metadata": {},
   "source": [
    "Задание параметров"
   ]
  },
  {
   "cell_type": "code",
   "execution_count": null,
   "metadata": {},
   "outputs": [],
   "source": [
    "gamma_oil =0.86\n",
    "gamma_water = 1\n",
    "gamma_gas = 1.45  * 24.05 / 28.98\n",
    "rsb_m3m3 = 56\n",
    "t_res_c = 40\n",
    "t_c = 30\n",
    "p_bar = 90\n",
    "q_liq_sm3day = 40\n",
    "watercut_perc = 0\n",
    "\n",
    "\n",
    "keywords_python = {\"gamma_oil\": gamma_oil, \"gamma_gas\": gamma_gas, \"gamma_wat\":gamma_water,\n",
    "                                    \"rsb_m3m3\": rsb_m3m3, \"t_res_c\": t_res_c, 'pb_bar':90}\n",
    "\n",
    "keywords_vba = {\"qliq_sm3day\":q_liq_sm3day, \"fw_perc\":watercut_perc,\n",
    "                \"t_C\": t_c, \"gamma_gas\": gamma_gas,\n",
    "                \"gamma_oil\": gamma_oil, \"gamma_wat\": gamma_water, \"rsb_m3m3\": rsb_m3m3, \"tres_C\": t_res_c}\n",
    "\n"
   ]
  },
  {
   "cell_type": "markdown",
   "metadata": {},
   "source": [
    "Настройка модели флюида"
   ]
  },
  {
   "cell_type": "code",
   "execution_count": null,
   "metadata": {},
   "outputs": [],
   "source": [
    "blackoil_option = BlackOil_model.BlackOil_option()\n",
    "blackoil_option.set_vba_preset()\n",
    "\n",
    "python_fluid = BlackOil_model.Fluid(**keywords_python, option = blackoil_option)"
   ]
  },
  {
   "cell_type": "markdown",
   "metadata": {},
   "source": [
    "Инициализация многофазного потока"
   ]
  },
  {
   "cell_type": "code",
   "execution_count": null,
   "metadata": {},
   "outputs": [],
   "source": [
    "multiphase_flow = PVT_fluids.FluidFlow(python_fluid)\n",
    "multiphase_flow.qliq_on_surface_m3day = q_liq_sm3day\n",
    "multiphase_flow.fw_on_surface_perc  =watercut_perc"
   ]
  },
  {
   "cell_type": "markdown",
   "metadata": {},
   "source": [
    "Расчет"
   ]
  },
  {
   "cell_type": "code",
   "execution_count": null,
   "metadata": {},
   "outputs": [],
   "source": [
    "python_flow_model_db = data_workflow.Data()\n",
    "python_flow_model_db.clear_data()\n",
    "\n",
    "\n",
    "vba_result_df = None\n",
    "for p_atm in range(2, 200, 5):\n",
    "    p_bar = uc.bar2atm(p_atm)\n",
    "    multiphase_flow.calc(p_bar, t_c)\n",
    "    p_atm = uc.bar2atm(p_bar)\n",
    "        \n",
    "    python_flow_model_db.get_data(multiphase_flow, object_name='python_flow_model')\n",
    "    vba_result = uniflocvba.MF_all_mf(p_atma = p_atm, **keywords_vba)\n",
    "    \n",
    "    this_vba_result_df = create_result_df_from_vba_output(vba_result, p_bar, t_c)\n",
    "    try:\n",
    "        vba_result_df = vba_result_df.append(this_vba_result_df)\n",
    "    except:\n",
    "        vba_result_df = this_vba_result_df.copy()"
   ]
  },
  {
   "cell_type": "markdown",
   "metadata": {},
   "source": [
    "Объединение результатов"
   ]
  },
  {
   "cell_type": "code",
   "execution_count": null,
   "metadata": {},
   "outputs": [],
   "source": [
    "result_unifloc_python = python_flow_model_db.get_data_as_df()\n",
    "result_unifloc_python.index = result_unifloc_python['python_flow_model.p_bar']\n",
    "result_unifloc_python.index.name = 'p_bar'\n",
    "\n",
    "\n",
    "vba_result_df.index = result_unifloc_python.index\n",
    "vba_result_df.index.name = 'p_bar'\n",
    "vba_result_df['mn_kgsec'] = vba_result_df['mw_kgsec'] + vba_result_df['mg_kgsec'] + vba_result_df['mo_kgsec']\n",
    "vba_result_df['liquid_content_d'] = 1 - vba_result_df['gas_fraction_d']\n",
    "vba_result_df = vba_result_df.add_prefix('vba_flow_model.')\n",
    "all_result = result_unifloc_python.join(vba_result_df)"
   ]
  },
  {
   "cell_type": "markdown",
   "metadata": {},
   "source": [
    "Построение графиков"
   ]
  },
  {
   "cell_type": "code",
   "execution_count": null,
   "metadata": {},
   "outputs": [],
   "source": [
    "plotly_workflow.plot_by_patterns(all_result,  [['gas_fraction'], ['liquid_content'],\n",
    "                                              ], ['fl.','cor_number', 'cal'], swap_xy=False, reversed_y=False,  \n",
    "                                plot_name='Объемная расходная доля жидкости и газа в потоке ГЖС (без учета проскальзывания)', \n",
    "                                x_name = 'Давление, атм', \n",
    "                                y_name = 'д.ед.',\n",
    "                                 traces_names = ['Объемная расходное газосодержание в потоке ГЖС, д.ед.', \n",
    "                                                'Объемная доля жидкости в потоке ГЖС, д.ед.' \n",
    "                                                ])"
   ]
  },
  {
   "cell_type": "code",
   "execution_count": null,
   "metadata": {},
   "outputs": [],
   "source": [
    "plotly_workflow.plot_by_patterns(all_result, [['flow_model.mu_liq'],['mun'],['fl.mu']], ['dead',\n",
    "                                                                                         'oil_b','cor_number'], swap_xy=False, reversed_y=False, \n",
    "                                plot_name='Вязкость ГЖС и составляющих', \n",
    "                                x_name = 'Давление, атм', \n",
    "                                y_name = 'Вязкость, сПуаз',\n",
    "                                 traces_names = ['Вязкость жидкости, сПуаз', \n",
    "                                                'Объемная вязкость ГЖС, сПуаз', \n",
    "                                                'Вязкость нефти, сПуаз',\n",
    "                                                'Вязкость газа, сПуаз',\n",
    "                                                'Вязкость воды, сПуаз']\n",
    "                                 )"
   ]
  },
  {
   "cell_type": "code",
   "execution_count": null,
   "metadata": {},
   "outputs": [],
   "source": [
    "plotly_workflow.plot_by_patterns(all_result, [['flow_model.rho'],['fl.rho']], ['above','_d','dead','oil_b','cor_number', 'stkgm'], swap_xy=False, reversed_y=False, \n",
    "                                plot_name='Расходные плотности без учета проскальзывания при данных термобарических условиях', \n",
    "                                x_name = 'Давление, атм', \n",
    "                                y_name = 'Плотность, кг/м3'                           \n",
    "                                 \n",
    "                                )"
   ]
  },
  {
   "cell_type": "code",
   "execution_count": null,
   "metadata": {},
   "outputs": [],
   "source": [
    "plotly_workflow.plot_by_patterns(all_result,  [[\"kgsec\"]], ['fl.','cor_number', 'cal'], swap_xy=False, reversed_y=False,  plot_name='Распределение свойств ГЖС от давления')"
   ]
  },
  {
   "cell_type": "code",
   "execution_count": null,
   "metadata": {},
   "outputs": [],
   "source": [
    "plotly_workflow.plot_by_patterns(all_result,  [[\"m3day\"]], ['fl.','cor_number', 'cal'], swap_xy=False, reversed_y=False,  plot_name='Распределение свойств ГЖС от давления')"
   ]
  },
  {
   "cell_type": "code",
   "execution_count": null,
   "metadata": {},
   "outputs": [],
   "source": []
  }
 ],
 "metadata": {
  "kernelspec": {
   "display_name": "Python 3",
   "language": "python",
   "name": "python3"
  },
  "language_info": {
   "codemirror_mode": {
    "name": "ipython",
    "version": 3
   },
   "file_extension": ".py",
   "mimetype": "text/x-python",
   "name": "python",
   "nbconvert_exporter": "python",
   "pygments_lexer": "ipython3",
   "version": "3.7.6"
  }
 },
 "nbformat": 4,
 "nbformat_minor": 2
}
