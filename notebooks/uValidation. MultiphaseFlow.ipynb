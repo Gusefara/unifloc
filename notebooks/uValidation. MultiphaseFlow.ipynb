{
 "cells": [
  {
   "cell_type": "markdown",
   "metadata": {},
   "source": [
    "# Свойства многофазного потока по uniflocvba и uniflocpy"
   ]
  },
  {
   "cell_type": "code",
   "execution_count": null,
   "metadata": {},
   "outputs": [],
   "source": [
    "import sys\n",
    "sys.path.append('../')\n",
    "\n",
    "import uniflocpy.uTools.data_workflow as data_workflow\n",
    "import pandas as pd\n",
    "from uniflocpy.uTools import plotly_workflow\n",
    "import uniflocpy.uPVT.BlackOil_model as BlackOil_model\n",
    "import uniflocpy.uValidation.python_api as python_api\n",
    "import uniflocpy.uTools.uconst as uc\n",
    "import uniflocpy.uPVT.PVT_fluids as PVT_fluids\n",
    "import numpy as np"
   ]
  },
  {
   "cell_type": "code",
   "execution_count": null,
   "metadata": {},
   "outputs": [],
   "source": [
    "def create_result_df_from_vba_output(vba_result, p_bar, t_c):\n",
    "    result_dict = {}\n",
    "    for key, value in zip(vba_result[1],vba_result[0]):\n",
    "        result_dict[key] = value\n",
    "    result_dict['p_bar'] = p_bar\n",
    "    result_dict['t_c'] = t_c\n",
    "    this_df = pd.DataFrame(result_dict, index = [0])\n",
    "    return this_df"
   ]
  },
  {
   "cell_type": "markdown",
   "metadata": {},
   "source": [
    "Загрузка надстройки"
   ]
  },
  {
   "cell_type": "code",
   "execution_count": null,
   "metadata": {},
   "outputs": [],
   "source": [
    "uniflocvba = python_api.API('E:\\\\Git\\\\unifloc_vba\\\\UniflocVBA_7.xlam')"
   ]
  },
  {
   "cell_type": "markdown",
   "metadata": {},
   "source": [
    "Задание параметров"
   ]
  },
  {
   "cell_type": "code",
   "execution_count": null,
   "metadata": {},
   "outputs": [],
   "source": [
    "gamma_oil =0.86\n",
    "gamma_water = 1\n",
    "gamma_gas = 1.45  * 24.05 / 28.98\n",
    "rsb_m3m3 = 56\n",
    "t_res_c = 40\n",
    "t_c = 30\n",
    "p_bar = 90\n",
    "q_liq_sm3day = 40\n",
    "watercut_perc = 0\n",
    "\n",
    "\n",
    "keywords_python = {\"gamma_oil\": gamma_oil, \"gamma_gas\": gamma_gas, \"gamma_wat\":gamma_water,\n",
    "                                    \"rsb_m3m3\": rsb_m3m3, \"t_res_c\": t_res_c, 'pb_bar':90}\n",
    "\n",
    "keywords_vba = {\"qliq_sm3day\":q_liq_sm3day, \"fw_perc\":watercut_perc,\n",
    "                \"t_C\": t_c, \"gamma_gas\": gamma_gas,\n",
    "                \"gamma_oil\": gamma_oil, \"gamma_wat\": gamma_water, \"rsb_m3m3\": rsb_m3m3, \"tres_C\": t_res_c}\n",
    "\n"
   ]
  },
  {
   "cell_type": "code",
   "execution_count": null,
   "metadata": {},
   "outputs": [],
   "source": [
    "15*10**(-6)/0.0503"
   ]
  },
  {
   "cell_type": "markdown",
   "metadata": {},
   "source": [
    "Настройка модели флюида"
   ]
  },
  {
   "cell_type": "code",
   "execution_count": null,
   "metadata": {},
   "outputs": [],
   "source": [
    "blackoil_option = BlackOil_model.BlackOil_option()\n",
    "blackoil_option.b_wat_cor_number = 1\n",
    "blackoil_option.mu_wat_cor_number = 1\n",
    "blackoil_option.rho_wat_cor_number = 1\n",
    "blackoil_option.z_cor_number = 1\n",
    "blackoil_option.pseudocritical_temperature_cor_number = 1\n",
    "blackoil_option.pseudocritical_pressure_cor_number = 1\n",
    "blackoil_option.rho_gas_cor_number = 1\n",
    "blackoil_option.b_gas_cor_number = 1 - 1\n",
    "blackoil_option.mu_dead_oil_cor_number = 2\n",
    "blackoil_option.sigma_oil_gas_cor_number = 2\n",
    "blackoil_option.sigma_wat_gas_cor_number = 1\n",
    "\n",
    "#blackoil_option.rs_cor_number =2\n",
    "blackoil_option.pb_cor_number = 3\n",
    "\n",
    "blackoil_option.set_vba_preset()\n",
    "\n",
    "\n",
    "python_fluid = BlackOil_model.Fluid(**keywords_python, option = blackoil_option)"
   ]
  },
  {
   "cell_type": "markdown",
   "metadata": {},
   "source": [
    "Инициализация многофазного потока"
   ]
  },
  {
   "cell_type": "code",
   "execution_count": null,
   "metadata": {},
   "outputs": [],
   "source": [
    "multiphase_flow = PVT_fluids.FluidFlow(python_fluid)\n",
    "multiphase_flow.qliq_on_surface_m3day = q_liq_sm3day\n",
    "multiphase_flow.fw_on_surface_perc  =watercut_perc"
   ]
  },
  {
   "cell_type": "code",
   "execution_count": null,
   "metadata": {},
   "outputs": [],
   "source": [
    "rus_fluid_flow = BlackOil_model.Fluid(**keywords_python, activate_rus_cor=1, p_reservoir_bar=100)"
   ]
  },
  {
   "cell_type": "code",
   "execution_count": null,
   "metadata": {},
   "outputs": [],
   "source": [
    "multiphase_flow2 = PVT_fluids.FluidFlow(rus_fluid_flow)\n",
    "multiphase_flow2.qliq_on_surface_m3day = q_liq_sm3day\n",
    "multiphase_flow2.fw_on_surface_perc  =watercut_perc"
   ]
  },
  {
   "cell_type": "code",
   "execution_count": null,
   "metadata": {},
   "outputs": [],
   "source": [
    "rus_fluid_flow = multiphase_flow2"
   ]
  },
  {
   "cell_type": "code",
   "execution_count": null,
   "metadata": {},
   "outputs": [],
   "source": [
    "def calc_t(p_y, p_bhp, t_y, t_bhp, p):\n",
    "    return t_y + ((t_bhp - t_y)*(p-p_y)/(p_bhp-p_y))"
   ]
  },
  {
   "cell_type": "markdown",
   "metadata": {},
   "source": [
    "Расчет"
   ]
  },
  {
   "cell_type": "code",
   "execution_count": null,
   "metadata": {},
   "outputs": [],
   "source": [
    "python_flow_model_db = data_workflow.Data()\n",
    "python_flow_model_db.clear_data()\n",
    "\n",
    "\n",
    "\n",
    "rus_flow_model_db = data_workflow.Data()\n",
    "rus_flow_model_db.clear_data()\n",
    "\n",
    "vba_result_df = None\n",
    "for p_atm in range(1, 145, 1):\n",
    "    \n",
    "    p_bar = uc.bar2atm(p_atm+1)\n",
    "    t_k = calc_t(9, 114.35, 295, 313,p_bar)\n",
    "    t_c = uc.k2c(t_k)\n",
    "    multiphase_flow.calc(p_bar, t_c)\n",
    "    p_atm = uc.bar2atm(p_bar)\n",
    "    \n",
    "    rus_fluid_flow.calc(p_bar, t_c)\n",
    "    rus_flow_model_db.get_data(rus_fluid_flow, object_name='rus_flow_model')\n",
    "        \n",
    "    python_flow_model_db.get_data(multiphase_flow, object_name='python_flow_model')\n",
    "    vba_result = uniflocvba.MF_all_mf(p_atma = p_atm, **keywords_vba)\n",
    "    \n",
    "    \n",
    "    this_vba_result_df = create_result_df_from_vba_output(vba_result, p_bar, t_c)\n",
    "    try:\n",
    "        vba_result_df = vba_result_df.append(this_vba_result_df)\n",
    "    except:\n",
    "        vba_result_df = this_vba_result_df.copy()"
   ]
  },
  {
   "cell_type": "markdown",
   "metadata": {},
   "source": [
    "Объединение результатов"
   ]
  },
  {
   "cell_type": "code",
   "execution_count": null,
   "metadata": {},
   "outputs": [],
   "source": [
    "result_unifloc_python = python_flow_model_db.get_data_as_df()\n",
    "result_unifloc_python.index = result_unifloc_python['python_flow_model.p_bar']\n",
    "result_unifloc_python.index.name = 'p_bar'\n",
    "\n",
    "\n",
    "result_ru = rus_flow_model_db.get_data_as_df()\n",
    "result_ru.index = result_ru['rus_flow_model.p_bar']\n",
    "result_ru.index.name = 'p_bar'\n",
    "result_ru = result_ru.add_prefix('ru_')\n",
    "\n",
    "vba_result_df.index = result_unifloc_python.index\n",
    "vba_result_df.index.name = 'p_bar'\n",
    "vba_result_df['mn_kgsec'] = vba_result_df['mw_kgsec'] + vba_result_df['mg_kgsec'] + vba_result_df['mo_kgsec']\n",
    "vba_result_df['liquid_content_d'] = 1 - vba_result_df['gas_fraction_d']\n",
    "vba_result_df = vba_result_df.add_prefix('vba_flow_model.')\n",
    "all_result = result_unifloc_python.join(vba_result_df)\n",
    "all_result = all_result.join(result_ru)"
   ]
  },
  {
   "cell_type": "code",
   "execution_count": null,
   "metadata": {},
   "outputs": [],
   "source": [
    "all_result = result_ru\n",
    "all_result.index = uc.bar2atm(all_result.index) - np.min(uc.bar2atm(all_result.index))"
   ]
  },
  {
   "cell_type": "markdown",
   "metadata": {},
   "source": [
    "Построение графиков"
   ]
  },
  {
   "cell_type": "code",
   "execution_count": null,
   "metadata": {},
   "outputs": [],
   "source": [
    "plotly_workflow.plot_by_patterns(all_result,  [#['dissolved_gas_sc_m3m3'],\n",
    "                                              #['liberated_gas_sc_m3m3'],\n",
    "                                              #['m3m3m'],\n",
    "                                               ['gas_liberated_m3m3'],\n",
    "                                              ['ru', 'rs_m3m3']], ['cor_number', 'cal', 'max'], swap_xy=False, reversed_y=False, \n",
    "                                 plot_name='Объем растворенного и выделившегося газа', \n",
    "                                x_name = 'Давление избыточное, атм', \n",
    "                                y_name = 'Объем газа, м3/м3',\n",
    "                                 traces_names = ['Объем выделившегося  газа по Мищенко, м3/м3', \n",
    "                                                'Объем растворенного газа по Мищенко, м3/м3']\n",
    "                                                #'Объем выделившегося газа по Мищенко, м3/м3',\n",
    "                                                #'Объем растворенного газа по Мищенко, м3/м3' ]\n",
    "                                                \n",
    "                                 )"
   ]
  },
  {
   "cell_type": "code",
   "execution_count": null,
   "metadata": {},
   "outputs": [],
   "source": [
    "plotly_workflow.plot_by_patterns(all_result,  [['gas_fraction'], ['liquid_content'],\n",
    "                                              ], ['vba','fl.','cor_number', 'cal'], swap_xy=False, reversed_y=False,  \n",
    "                                plot_name='Объемная расходная доля жидкости и газа в потоке ГЖС (без учета проскальзывания)', \n",
    "                                x_name = 'Давление избыточное, атм', \n",
    "                                y_name = 'д.ед.',\n",
    "                                 traces_names = ['Объемная расходное газосодержание в потоке ГЖС, д.ед.', \n",
    "                                                'Объемная доля жидкости в потоке ГЖС, д.ед.' \n",
    "                                                ])"
   ]
  },
  {
   "cell_type": "code",
   "execution_count": null,
   "metadata": {},
   "outputs": [],
   "source": [
    "plotly_workflow.plot_by_patterns(all_result, ['pb_bar'], ['cor_number'], swap_xy=False, reversed_y=False,  \n",
    "                                 plot_name='Давление насыщения', \n",
    "                                x_name = 'Давление избыточное, атм',\n",
    "                                y_name = 'Давление насыщения, бар',\n",
    "                                traces_names = ['Давление насыщения по Стендингу, бар', \n",
    "                                                'Давление насыщения по исходным данным, бар'])"
   ]
  },
  {
   "cell_type": "code",
   "execution_count": null,
   "metadata": {},
   "outputs": [],
   "source": [
    "plotly_workflow.plot_by_patterns(all_result,  [['mu_gas_cp']], ['cor_number', 'cal'], swap_xy=False, reversed_y=False,\n",
    "                                 plot_name='Вязкость газа', \n",
    "                                 x_name = 'Давление избыточное, атм',\n",
    "                                y_name = 'Вязкость газа, сПуаз',\n",
    "                                #traces_names = ['Давление насыщения по Стендингу, бар', \n",
    "                                #                'Вязкость нефти, сПуаз']\n",
    "                        )"
   ]
  },
  {
   "cell_type": "code",
   "execution_count": null,
   "metadata": {},
   "outputs": [],
   "source": [
    "plotly_workflow.plot_by_patterns(all_result,  [['z']], ['cor_number', 'cal'], swap_xy=False, reversed_y=False,\n",
    "                                 plot_name='Коэффициент сверхсжимаемости', \n",
    "                                 x_name = 'Давление избыточное, атм',\n",
    "                                y_name = 'Коэффициент сверхсжимаемости',\n",
    "                                traces_names = ['Давление насыщения по Стендингу, бар', \n",
    "                                                'Вязкость нефти, сПуаз']\n",
    "                        )"
   ]
  },
  {
   "cell_type": "code",
   "execution_count": null,
   "metadata": {},
   "outputs": [],
   "source": [
    "plotly_workflow.plot_by_patterns(all_result,  [['b_oil']], ['cor_number', 'cal', 'stkgm', 'b_oil_b'], swap_xy=False, reversed_y=False,\n",
    "                                 plot_name='Объемный коэффициент нефти', \n",
    "                                 x_name = 'Давление избыточное, атм',\n",
    "                                y_name = 'Объемный коэффициент нефти, м3/м3',\n",
    "                                #traces_names = ['Давление насыщения по Стендингу, бар', \n",
    "                                #                'Вязкость нефти, сПуаз']\n",
    "                                )"
   ]
  },
  {
   "cell_type": "code",
   "execution_count": null,
   "metadata": {},
   "outputs": [],
   "source": [
    "plotly_workflow.plot_by_patterns(all_result, [['flow_model.mu_liq'],['mun'],['fl.mu']], ['dead','vba','oil_b','cor_number'], swap_xy=False, reversed_y=False, \n",
    "                                plot_name='Вязкость ГЖС и составляющих', \n",
    "                                x_name = 'Давление избыточное, атм', \n",
    "                                y_name = 'Вязкость, сПуаз',\n",
    "                                 traces_names = ['Вязкость жидкости, сПуаз', \n",
    "                                                'Объемная вязкость ГЖС, сПуаз', \n",
    "                                                'Вязкость нефти, сПуаз',\n",
    "                                                'Вязкость газа, сПуаз',\n",
    "                                                'Вязкость воды, сПуаз']\n",
    "                                 )"
   ]
  },
  {
   "cell_type": "code",
   "execution_count": null,
   "metadata": {},
   "outputs": [],
   "source": [
    "plotly_workflow.plot_by_patterns(all_result, [['flow_model.rho'],['fl.rho']], ['above','_d','dead','vba','oil_b','cor_number', 'stkgm'], swap_xy=False, reversed_y=False, \n",
    "                                plot_name='Расходные плотности без учета проскальзывания при данных термобарических условиях', \n",
    "                                x_name = 'Давление избыточное, атм', \n",
    "                                y_name = 'Плотность, кг/м3',\n",
    "                                traces_names = ['Расходная плотность жидкости, кг/м3', \n",
    "                                               'Расходная плотность ГЖС, кг/м3', \n",
    "                                               'Плотность нефти, кг/м3',\n",
    "                                               'Плотность газа, кг/м3',\n",
    "                                               'Плотность воды, кг/м3']\n",
    "                                \n",
    "                                 \n",
    "                                )"
   ]
  },
  {
   "cell_type": "code",
   "execution_count": null,
   "metadata": {},
   "outputs": [],
   "source": [
    "plotly_workflow.plot_by_patterns(all_result, ['rho'], ['fl.','cor_number', 'cal'], swap_xy=False, reversed_y=False,  plot_name='Распределение свойств ГЖС от давления')"
   ]
  },
  {
   "cell_type": "code",
   "execution_count": null,
   "metadata": {},
   "outputs": [],
   "source": [
    "plotly_workflow.plot_by_patterns(all_result,  [ [\"m3t\"]], ['cor_number', 'cal'], swap_xy=False, reversed_y=False,  plot_name='Распределение свойств ГЖС от давления')"
   ]
  },
  {
   "cell_type": "code",
   "execution_count": null,
   "metadata": {},
   "outputs": [],
   "source": [
    "plotly_workflow.plot_by_patterns(all_result,  [[\"heatcap\"], [\"cliq_JkgC\"]], ['fl.','cor_number', 'cal'], swap_xy=False, reversed_y=False,  plot_name='Распределение свойств ГЖС от давления')"
   ]
  },
  {
   "cell_type": "code",
   "execution_count": null,
   "metadata": {},
   "outputs": [],
   "source": [
    "plotly_workflow.plot_by_patterns(all_result,  [[\"sigma\"]], ['cor_number', 'cal'], swap_xy=False, reversed_y=False,  plot_name='Распределение свойств ГЖС от давления')"
   ]
  },
  {
   "cell_type": "code",
   "execution_count": null,
   "metadata": {},
   "outputs": [],
   "source": [
    "plotly_workflow.plot_by_patterns(all_result,  [[\"kgsec\"]], ['fl.','cor_number', 'cal'], swap_xy=False, reversed_y=False,  plot_name='Распределение свойств ГЖС от давления')"
   ]
  },
  {
   "cell_type": "markdown",
   "metadata": {},
   "source": [
    "# Суммарный массовый расход смеси должен быть постоянным"
   ]
  },
  {
   "cell_type": "code",
   "execution_count": null,
   "metadata": {},
   "outputs": [],
   "source": [
    "plotly_workflow.plot_by_patterns(all_result,  [[\"q\", 'oil_m3day']], ['fl.','cor_number', 'cal'], swap_xy=False, reversed_y=False, \n",
    "                             plot_name = 'Дебит нефти при данных термобарических условиях',\n",
    "                                 x_name = 'Давление избыточное, атм', \n",
    "                                y_name = 'Дебит нефти при данных P,T, м3/сут',\n",
    "                                traces_names = ['Расходная плотность жидкости, кг/м3', \n",
    "                                               'Расходная плотность ГЖС, кг/м3', \n",
    "                                               'Плотность нефти, кг/м3',\n",
    "                                               'Плотность газа, кг/м3',\n",
    "                                               'Плотность воды, кг/м3'])"
   ]
  },
  {
   "cell_type": "code",
   "execution_count": null,
   "metadata": {},
   "outputs": [],
   "source": [
    "plotly_workflow.plot_by_patterns(all_result,  [[\"q\", 'liq']], ['fl.','cor_number', 'cal'], swap_xy=False, reversed_y=False,  plot_name='Распределение свойств ГЖС от давления')"
   ]
  },
  {
   "cell_type": "code",
   "execution_count": null,
   "metadata": {},
   "outputs": [],
   "source": [
    "plotly_workflow.plot_by_patterns(all_result,  [[\"q\", 'wat']], ['fl.','cor_number', 'mass_fraction', 'cal'], swap_xy=False, reversed_y=False,  plot_name='Распределение свойств ГЖС от давления')"
   ]
  },
  {
   "cell_type": "code",
   "execution_count": null,
   "metadata": {},
   "outputs": [],
   "source": [
    "plotly_workflow.plot_by_patterns(all_result,  [[\"q\", 'gas_m3day']], ['fl.','cor_number', 'cal'], swap_xy=False, reversed_y=False, \n",
    "                                plot_name = 'Дебит газа при данных термобарических условиях',\n",
    "                                 x_name = 'Давление избыточное, атм', \n",
    "                                y_name = 'Дебит газа при данных P,T, м3/сут',\n",
    "                                traces_names = ['Расходная плотность жидкости, кг/м3', \n",
    "                                               'Расходная плотность ГЖС, кг/м3', \n",
    "                                               'Плотность нефти, кг/м3',\n",
    "                                               'Плотность газа, кг/м3',\n",
    "                                               'Плотность воды, кг/м3']\n",
    "                                )"
   ]
  },
  {
   "cell_type": "code",
   "execution_count": null,
   "metadata": {},
   "outputs": [],
   "source": [
    "plotly_workflow.plot_by_patterns(all_result,  [['rs'], ['liberated_gas'], ['dissolved_gas_sc_m3m3']], ['cor_number', 'cal', 'rsw'], swap_xy=False, reversed_y=False,  plot_name='Распределение свойств ГЖС от давления')"
   ]
  },
  {
   "cell_type": "code",
   "execution_count": null,
   "metadata": {},
   "outputs": [],
   "source": [
    "plotly_workflow.plot_by_patterns(all_result,  [['liq', 'm3day']], ['fl.','cor_number', 'cal'], swap_xy=False, reversed_y=False,  plot_name='Распределение свойств ГЖС от давления')"
   ]
  },
  {
   "cell_type": "code",
   "execution_count": null,
   "metadata": {},
   "outputs": [],
   "source": [
    "plotly_workflow.plot_by_patterns(all_result,  [['mix', 'm3day']], ['fl.','cor_number', 'cal'], swap_xy=False, reversed_y=False,  plot_name='Распределение свойств ГЖС от давления')"
   ]
  },
  {
   "cell_type": "code",
   "execution_count": null,
   "metadata": {},
   "outputs": [],
   "source": [
    "plotly_workflow.plot_by_patterns(all_result,  ['fw'], ['fl.','cor_number', 'cal'], swap_xy=False, reversed_y=False,  plot_name='Распределение свойств ГЖС от давления')"
   ]
  },
  {
   "cell_type": "code",
   "execution_count": null,
   "metadata": {},
   "outputs": [],
   "source": [
    "plotly_workflow.plot_by_patterns(all_result,  [['liquid_content']], ['fl.','cor_number', 'cal'], swap_xy=False, reversed_y=False,  plot_name='Распределение свойств ГЖС от давления')"
   ]
  },
  {
   "cell_type": "code",
   "execution_count": null,
   "metadata": {},
   "outputs": [],
   "source": [
    "plotly_workflow.plot_by_patterns(all_result,  [['rs']], ['cor_number', 'cal'], swap_xy=False, reversed_y=False,  plot_name='Распределение свойств ГЖС от давления')"
   ]
  },
  {
   "cell_type": "code",
   "execution_count": null,
   "metadata": {},
   "outputs": [],
   "source": [
    "plotly_workflow.plot_by_patterns(all_result,  [['rho_oil_kgm3']], ['cor_number', 'cal'], swap_xy=False, reversed_y=False,\n",
    "                                plot_name='Плотность газонасыщенной нефти',\n",
    "                                 x_name = 'Давление избыточное, бар', \n",
    "                                y_name = 'Плотность нефти, кг/м3',\n",
    "                                traces_names = [\n",
    "                                               'Вязкость, сПуаз',\n",
    "                                               ])"
   ]
  },
  {
   "cell_type": "code",
   "execution_count": null,
   "metadata": {},
   "outputs": [],
   "source": [
    "plotly_workflow.plot_by_patterns(all_result,  [['b_oil_m3m3']], ['cor_number', 'cal'], swap_xy=False, reversed_y=False, \n",
    "                                 plot_name='Объемный коэффициент газонасыщенной нефти',\n",
    "                                 x_name = 'Давление, бар', \n",
    "                                y_name = 'bн, м3/м3',\n",
    "                                traces_names = [\n",
    "                                               'Вязкость, сПуаз',\n",
    "                                               ]\n",
    "                                )"
   ]
  },
  {
   "cell_type": "code",
   "execution_count": null,
   "metadata": {},
   "outputs": [],
   "source": []
  },
  {
   "cell_type": "code",
   "execution_count": null,
   "metadata": {},
   "outputs": [],
   "source": [
    "plotly_workflow.plot_by_patterns(all_result,  [['mu_oil_cp']], ['cor_number', 'cal'], \n",
    "                                 swap_xy=False, reversed_y=False,  plot_name='Вязкость газонасыщенной нефти',\n",
    "                                x_name = 'Давление, бар', \n",
    "                                y_name = 'Вязкость, сПуаз',\n",
    "                                traces_names = [\n",
    "                                               'Вязкость нефти, сПуаз',\n",
    "                                               ])"
   ]
  },
  {
   "cell_type": "code",
   "execution_count": null,
   "metadata": {},
   "outputs": [],
   "source": []
  }
 ],
 "metadata": {
  "kernelspec": {
   "display_name": "Python 3",
   "language": "python",
   "name": "python3"
  },
  "language_info": {
   "codemirror_mode": {
    "name": "ipython",
    "version": 3
   },
   "file_extension": ".py",
   "mimetype": "text/x-python",
   "name": "python",
   "nbconvert_exporter": "python",
   "pygments_lexer": "ipython3",
   "version": "3.7.6"
  }
 },
 "nbformat": 4,
 "nbformat_minor": 2
}
