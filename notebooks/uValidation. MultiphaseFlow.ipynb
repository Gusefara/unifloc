{
 "cells": [
  {
   "cell_type": "markdown",
   "metadata": {},
   "source": [
    "# Свойства многофазного потока по uniflocvba и uniflocpy"
   ]
  },
  {
   "cell_type": "code",
   "execution_count": null,
   "metadata": {},
   "outputs": [],
   "source": [
    "import sys\n",
    "sys.path.append('../')\n",
    "\n",
    "import uniflocpy.uTools.data_workflow as data_workflow\n",
    "import pandas as pd\n",
    "from uniflocpy.uTools import plotly_workflow\n",
    "import uniflocpy.uPVT.BlackOil_model as BlackOil_model\n",
    "import uniflocpy.uValidation.python_api as python_api\n",
    "import uniflocpy.uTools.uconst as uc\n",
    "import uniflocpy.uPVT.PVT_fluids as PVT_fluids"
   ]
  },
  {
   "cell_type": "code",
   "execution_count": null,
   "metadata": {},
   "outputs": [],
   "source": [
    "def create_result_df_from_vba_output(vba_result, p_bar, t_c):\n",
    "    result_dict = {}\n",
    "    for key, value in zip(vba_result[1],vba_result[0]):\n",
    "        result_dict[key] = value\n",
    "    result_dict['p_bar'] = p_bar\n",
    "    result_dict['t_c'] = t_c\n",
    "    this_df = pd.DataFrame(result_dict, index = [0])\n",
    "    return this_df"
   ]
  },
  {
   "cell_type": "markdown",
   "metadata": {},
   "source": [
    "Загрузка надстройки"
   ]
  },
  {
   "cell_type": "code",
   "execution_count": null,
   "metadata": {},
   "outputs": [],
   "source": [
    "uniflocvba = python_api.API('E:\\\\Git\\\\unifloc_vba\\\\UniflocVBA_7.xlam')"
   ]
  },
  {
   "cell_type": "markdown",
   "metadata": {},
   "source": [
    "Задание параметров"
   ]
  },
  {
   "cell_type": "code",
   "execution_count": null,
   "metadata": {},
   "outputs": [],
   "source": [
    "gamma_oil =0.86\n",
    "gamma_water = 1\n",
    "gamma_gas =  1.45/1.293\n",
    "rsb_m3m3 = 56\n",
    "t_res_c = 40\n",
    "t_c = 40\n",
    "p_bar = 90\n",
    "q_liq_sm3day = 40\n",
    "watercut_perc = 0\n",
    "\n",
    "\n",
    "keywords_python = {\"gamma_oil\": gamma_oil, \"gamma_gas\": gamma_gas, \"gamma_wat\":gamma_water,\n",
    "                                    \"rsb_m3m3\": rsb_m3m3, \"t_res_c\": t_res_c, 'pb_bar':90}\n",
    "\n",
    "keywords_vba = {\"qliq_sm3day\":q_liq_sm3day, \"fw_perc\":watercut_perc,\n",
    "                \"t_C\": t_c, \"gamma_gas\": gamma_gas,\n",
    "                \"gamma_oil\": gamma_oil, \"gamma_wat\": gamma_water, \"rsb_m3m3\": rsb_m3m3, \"tres_C\": t_res_c}\n",
    "\n"
   ]
  },
  {
   "cell_type": "code",
   "execution_count": null,
   "metadata": {},
   "outputs": [],
   "source": [
    "gamma_gas\n"
   ]
  },
  {
   "cell_type": "markdown",
   "metadata": {},
   "source": [
    "Настройка модели флюида"
   ]
  },
  {
   "cell_type": "code",
   "execution_count": null,
   "metadata": {},
   "outputs": [],
   "source": [
    "blackoil_option = BlackOil_model.BlackOil_option()\n",
    "blackoil_option.b_wat_cor_number = 1\n",
    "blackoil_option.mu_wat_cor_number = 1\n",
    "blackoil_option.rho_wat_cor_number = 1\n",
    "blackoil_option.z_cor_number = 1\n",
    "blackoil_option.pseudocritical_temperature_cor_number = 1\n",
    "blackoil_option.pseudocritical_pressure_cor_number = 1\n",
    "blackoil_option.rho_gas_cor_number = 1\n",
    "blackoil_option.b_gas_cor_number = 1 - 1\n",
    "blackoil_option.mu_dead_oil_cor_number = 2\n",
    "blackoil_option.sigma_oil_gas_cor_number = 2\n",
    "blackoil_option.sigma_wat_gas_cor_number = 1\n",
    "\n",
    "#blackoil_option.rs_cor_number =2\n",
    "#blackoil_option.pb_cor_number = 3\n",
    "\n",
    "blackoil_option.set_vba_preset()\n",
    "\n",
    "\n",
    "python_fluid = BlackOil_model.Fluid(**keywords_python, option = blackoil_option)"
   ]
  },
  {
   "cell_type": "markdown",
   "metadata": {},
   "source": [
    "Инициализация многофазного потока"
   ]
  },
  {
   "cell_type": "code",
   "execution_count": null,
   "metadata": {},
   "outputs": [],
   "source": [
    "multiphase_flow = PVT_fluids.FluidFlow(python_fluid)\n",
    "multiphase_flow.qliq_on_surface_m3day = q_liq_sm3day\n",
    "multiphase_flow.fw_on_surface_perc  =watercut_perc"
   ]
  },
  {
   "cell_type": "code",
   "execution_count": null,
   "metadata": {},
   "outputs": [],
   "source": [
    "import scipy.optimize as sp  # модуль для решения уравения\n",
    "import numpy as np\n",
    "def coef_mt(t_k, rho_deadoil_kgm3, gamma_gas):\n",
    "    return 1 + 0.029 * (t_k - 293) * (rho_deadoil_kgm3 * gamma_gas * 10 ** (-3) - 0.7966)\n",
    "def coef_dt(t_k, rho_deadoil_kgm3, gamma_gas):\n",
    "    return 10 ** (-3) * rho_deadoil_kgm3 * gamma_gas * (4.5 - 0.00305 * (t_k - 293)) - 4.785\n",
    "def coef_rp(p_mpa, pb_mpa):\n",
    "    return (1 + np.log10(p_mpa)) / (1 + np.log10(pb_mpa)) - 1\n",
    "def calc_gas(t_k, rho_deadoil_kgm3, gamma_gas, p_mpa, pb_mpa, rsb_m3m3, return_m3m3 = True):\n",
    "\n",
    "    #rsb_m3m3 = 50\n",
    "    rp = coef_rp(p_mpa, pb_mpa)\n",
    "    #print(f\"rp={rp}\")\n",
    "    dt = coef_dt(t_k, rho_deadoil_kgm3, gamma_gas)\n",
    "    #print(f\"dt={dt}\")\n",
    "    mt = coef_mt(t_k, rho_deadoil_kgm3, gamma_gas)\n",
    "    #print(f\"mt={mt}\")\n",
    "    gas_liberated_m3t = rsb_m3m3 * rp * mt * (dt*(1+rp)-1)\n",
    "    gas_dissolved_m3t = rsb_m3m3 * mt - gas_liberated_m3t\n",
    "    \n",
    "    if p_mpa >= pb_mpa:\n",
    "        if return_m3m3:\n",
    "            return 0, rsb_m3m3 * mt * rho_deadoil_kgm3 / 1000\n",
    "    if return_m3m3:\n",
    "        return gas_liberated_m3t * rho_deadoil_kgm3 / 1000, gas_dissolved_m3t * rho_deadoil_kgm3 / 1000\n",
    "        #return gas_liberated_m3t, gas_dissolved_m3t\n",
    "\n",
    "    return gas_liberated_m3t, gas_dissolved_m3t\n",
    "\n",
    "def calc_gas_for_fsolve(rsb_m3m3_real, t_k, rho_deadoil_kgm3, gamma_gas, p_mpa, pb_mpa, rsb_m3m3, return_m3m3 = True):\n",
    "    gas_dissolved_m3m3 =calc_gas(t_k, rho_deadoil_kgm3, gamma_gas, pb_mpa, pb_mpa, rsb_m3m3_real, return_m3m3 = True)[1]\n",
    "    return (gas_dissolved_m3m3 - rsb_m3m3)**2\n",
    "\n",
    "def calc_gas_with_fsolve(t_k, rho_deadoil_kgm3, gamma_gas, p_mpa, pb_mpa, rsb_m3m3, return_m3m3 = True):\n",
    "    method = 'excitingmixing'\n",
    "    answer = sp.root(calc_gas_for_fsolve, rsb_m3m3, args = (t_k, rho_deadoil_kgm3, gamma_gas,\n",
    "                                                            pb_mpa, pb_mpa, rsb_m3m3, return_m3m3), tol = 0.01)\n",
    "    answer = answer.x[0]\n",
    "    return calc_gas(t_k, rho_deadoil_kgm3, gamma_gas, p_mpa, pb_mpa, answer, return_m3m3)\n",
    "    "
   ]
  },
  {
   "cell_type": "code",
   "execution_count": null,
   "metadata": {},
   "outputs": [],
   "source": [
    "def calc_pb(pb_mpa, rho_deadoil_kgm3, rsb_m3m3, tres_k, t_k):\n",
    "    gi = rsb_m3m3 * 10**3 * 273 / 293 / rho_deadoil_kgm3\n",
    "    pbt_mpa = pb_mpa - (tres_k - t_k) / (9.157 + 701.8 / (gi * (0.4 - 0.8* 0.08)))\n",
    "    return pbt_mpa\n",
    "    "
   ]
  },
  {
   "cell_type": "code",
   "execution_count": null,
   "metadata": {},
   "outputs": [],
   "source": [
    "calc_pb(9, 860, 56, 313, 312.8)"
   ]
  },
  {
   "cell_type": "code",
   "execution_count": null,
   "metadata": {},
   "outputs": [],
   "source": [
    "calc_gas(300.5, 868, 1.119, 5.5, 8.95, 55.6)"
   ]
  },
  {
   "cell_type": "code",
   "execution_count": null,
   "metadata": {},
   "outputs": [],
   "source": [
    "calc_gas_with_fsolve(300.5, 868, 1.119, 5.5, 8.95, 55.6)"
   ]
  },
  {
   "cell_type": "code",
   "execution_count": null,
   "metadata": {},
   "outputs": [],
   "source": []
  },
  {
   "cell_type": "markdown",
   "metadata": {},
   "source": [
    "Расчет"
   ]
  },
  {
   "cell_type": "code",
   "execution_count": null,
   "metadata": {},
   "outputs": [],
   "source": [
    "python_flow_model_db = data_workflow.Data()\n",
    "python_flow_model_db.clear_data()\n",
    "vba_result_df = None\n",
    "gas_liberated_m3m3, gas_dissolved_m3m3 = [], []\n",
    "for p_bar in range(1, 120, 4):\n",
    "    p_bar = p_bar + 0.1\n",
    "    multiphase_flow.calc(p_bar, t_c)\n",
    "    p_atm = uc.bar2atm(p_bar)\n",
    "    python_flow_model_db.get_data(multiphase_flow, object_name='python_flow_model')\n",
    "    vba_result = uniflocvba.MF_all_mf(p_atma = p_atm, **keywords_vba)\n",
    "    \n",
    "    this_gas_liberated_m3m3, this_gas_dissolved_m3m3 = calc_gas(multiphase_flow.fl.t_k,\n",
    "                                                               multiphase_flow.fl.rho_oil_stkgm3,\n",
    "                                                               multiphase_flow.fl.gamma_gas,\n",
    "                                                               multiphase_flow.fl.p_mpa, \n",
    "                                                               multiphase_flow.fl.pb_bar / 10, \n",
    "                                                               multiphase_flow.fl.rsb_m3m3,\n",
    "                                                               True)\n",
    "    gas_liberated_m3m3.append(this_gas_liberated_m3m3)\n",
    "    gas_dissolved_m3m3.append(this_gas_dissolved_m3m3)\n",
    "    this_vba_result_df = create_result_df_from_vba_output(vba_result, p_bar, t_c)\n",
    "    try:\n",
    "        vba_result_df = vba_result_df.append(this_vba_result_df)\n",
    "    except:\n",
    "        vba_result_df = this_vba_result_df.copy()"
   ]
  },
  {
   "cell_type": "markdown",
   "metadata": {},
   "source": [
    "Объединение результатов"
   ]
  },
  {
   "cell_type": "code",
   "execution_count": null,
   "metadata": {},
   "outputs": [],
   "source": [
    "result_unifloc_python = python_flow_model_db.get_data_as_df()\n",
    "result_unifloc_python.index = result_unifloc_python['python_flow_model.p_bar']\n",
    "result_unifloc_python.index.name = 'p_bar'\n",
    "\n",
    "vba_result_df.index = result_unifloc_python.index\n",
    "vba_result_df.index.name = 'p_bar'\n",
    "vba_result_df['mn_kgsec'] = vba_result_df['mw_kgsec'] + vba_result_df['mg_kgsec'] + vba_result_df['mo_kgsec']\n",
    "vba_result_df['liquid_content_d'] = 1 - vba_result_df['gas_fraction_d']\n",
    "vba_result_df = vba_result_df.add_prefix('vba_flow_model.')\n",
    "all_result = result_unifloc_python.join(vba_result_df)\n",
    "df = pd.DataFrame({'gas_liberated_m3m3m':gas_liberated_m3m3,\n",
    "                   'gas_dissolved_m3m3m':gas_dissolved_m3m3},\n",
    "                   all_result.index)\n",
    "all_result = all_result.join(df)"
   ]
  },
  {
   "cell_type": "markdown",
   "metadata": {},
   "source": [
    "Построение графиков"
   ]
  },
  {
   "cell_type": "code",
   "execution_count": null,
   "metadata": {},
   "outputs": [],
   "source": [
    "plotly_workflow.plot_by_patterns(all_result,  [['dissolved_gas_sc_m3m3'],\n",
    "                                              ['liberated_gas_sc_m3m3'],\n",
    "                                              ['m3m3m'],], ['fl.','cor_number', 'cal'], swap_xy=False, reversed_y=False, \n",
    "                                 plot_name='Объем растворенного и выделившегося газа', \n",
    "                                x_name = 'Давление, бар', \n",
    "                                y_name = 'Объем газа, м3/м3',\n",
    "                                 traces_names = ['Объем растворенного газа по Стендингу, м3/м3', \n",
    "                                                'Объем выделившегося газа по Стендингу, м3/м3', \n",
    "                                                'Объем выделившегося газа по Мищенко, м3/м3',\n",
    "                                                'Объем растворенного газа по Мищенко, м3/м3']\n",
    "                                 )"
   ]
  },
  {
   "cell_type": "code",
   "execution_count": null,
   "metadata": {},
   "outputs": [],
   "source": [
    "plotly_workflow.plot_by_patterns(all_result,  [['gas_fraction'], ['liquid_content']], ['vba','fl.','cor_number', 'cal'], swap_xy=False, reversed_y=False,  \n",
    "                                plot_name='Объемная доля жидкости и газа', \n",
    "                                x_name = 'Давление, бар', \n",
    "                                y_name = 'д.ед.',\n",
    "                                 traces_names = ['Объемная доля газа в потоке ГЖС, д.ед.', \n",
    "                                                'Объемная доля жидкости в потоке ГЖС, д.ед.' \n",
    "                                                ])"
   ]
  },
  {
   "cell_type": "code",
   "execution_count": null,
   "metadata": {},
   "outputs": [],
   "source": []
  },
  {
   "cell_type": "code",
   "execution_count": null,
   "metadata": {},
   "outputs": [],
   "source": [
    "plotly_workflow.plot_by_patterns(all_result, ['pb_bar'], ['cor_number'], swap_xy=False, reversed_y=False,  \n",
    "                                 plot_name='Давление насыщения', \n",
    "                                x_name = 'Давление, бар',\n",
    "                                y_name = 'Давление насыщения, бар',\n",
    "                                traces_names = ['Давление насыщения по Стендингу, бар', \n",
    "                                                'Давление насыщения по исходным данным, бар'])"
   ]
  },
  {
   "cell_type": "code",
   "execution_count": null,
   "metadata": {},
   "outputs": [],
   "source": [
    "plotly_workflow.plot_by_patterns(all_result,  [['mu_gas_cp']], ['cor_number', 'cal'], swap_xy=False, reversed_y=False,\n",
    "                                 plot_name='Вязкость газа', \n",
    "                                 x_name = 'Давление, бар',\n",
    "                                y_name = 'Вязкость газа, сПуаз',\n",
    "                                traces_names = ['Давление насыщения по Стендингу, бар', \n",
    "                                                'Вязкость нефти, сПуаз']\n",
    "                        )"
   ]
  },
  {
   "cell_type": "code",
   "execution_count": null,
   "metadata": {},
   "outputs": [],
   "source": [
    "plotly_workflow.plot_by_patterns(all_result,  [['z']], ['cor_number', 'cal'], swap_xy=False, reversed_y=False,\n",
    "                                 plot_name='Коэффициент сверхсжимаемости', \n",
    "                                 x_name = 'Давление, бар',\n",
    "                                y_name = 'Коэффициент сверхсжимаемости',\n",
    "                                traces_names = ['Давление насыщения по Стендингу, бар', \n",
    "                                                'Вязкость нефти, сПуаз']\n",
    "                        )"
   ]
  },
  {
   "cell_type": "code",
   "execution_count": null,
   "metadata": {},
   "outputs": [],
   "source": [
    "plotly_workflow.plot_by_patterns(all_result,  [['b_oil']], ['cor_number', 'cal', 'stkgm', 'b_oil_b'], swap_xy=False, reversed_y=False,\n",
    "                                 plot_name='Объемный коэффициент нефти', \n",
    "                                 x_name = 'Давление, бар',\n",
    "                                y_name = 'Объемный коэффициент нефти, м3/м3',\n",
    "                                #traces_names = ['Давление насыщения по Стендингу, бар', \n",
    "                                #                'Вязкость нефти, сПуаз']\n",
    "                                )"
   ]
  },
  {
   "cell_type": "code",
   "execution_count": null,
   "metadata": {},
   "outputs": [],
   "source": [
    "plotly_workflow.plot_by_patterns(all_result, [['flow_model.mu'],['fl.mu']], ['dead','vba','oil_b','cor_number'], swap_xy=False, reversed_y=False, \n",
    "                                plot_name='Вязкость ГЖС и составляющих', \n",
    "                                x_name = 'Давление, бар', \n",
    "                                y_name = 'Вязкость, сПуаз',\n",
    "                                 traces_names = ['Вязкость жидкости, сПуаз', \n",
    "                                                'Объемная вязкость ГЖС, сПуаз', \n",
    "                                                'Вязкость нефти, сПуаз',\n",
    "                                                'Вязкость газа, сПуаз',\n",
    "                                                'Вязкость воды, сПуаз']\n",
    "                                 )"
   ]
  },
  {
   "cell_type": "code",
   "execution_count": null,
   "metadata": {},
   "outputs": [],
   "source": [
    "plotly_workflow.plot_by_patterns(all_result, [['flow_model.rho'],['fl.rho']], ['dead','vba','oil_b','cor_number', 'stkgm'], swap_xy=False, reversed_y=False, \n",
    "                                plot_name='Плотность ГЖС и составляющих', \n",
    "                                x_name = 'Давление, бар', \n",
    "                                y_name = 'Плотность, кг/м3',\n",
    "                                traces_names = ['Плотность жидкости, кг/м3', \n",
    "                                               'Объемная плотность ГЖС, кг/м3', \n",
    "                                               'Плотность нефти, кг/м3',\n",
    "                                               'Плотность газа, кг/м3',\n",
    "                                               'Плотность воды, кг/м3']\n",
    "                                \n",
    "                                )"
   ]
  },
  {
   "cell_type": "code",
   "execution_count": null,
   "metadata": {},
   "outputs": [],
   "source": [
    "plotly_workflow.plot_by_patterns(all_result, ['rho'], ['fl.','cor_number', 'cal'], swap_xy=False, reversed_y=False,  plot_name='Распределение свойств ГЖС от давления')"
   ]
  },
  {
   "cell_type": "code",
   "execution_count": null,
   "metadata": {},
   "outputs": [],
   "source": [
    "plotly_workflow.plot_by_patterns(all_result,  [[\"heatcap\"], [\"cliq_JkgC\"]], ['fl.','cor_number', 'cal'], swap_xy=False, reversed_y=False,  plot_name='Распределение свойств ГЖС от давления')"
   ]
  },
  {
   "cell_type": "code",
   "execution_count": null,
   "metadata": {},
   "outputs": [],
   "source": [
    "plotly_workflow.plot_by_patterns(all_result,  [[\"sigma\"]], ['cor_number', 'cal'], swap_xy=False, reversed_y=False,  plot_name='Распределение свойств ГЖС от давления')"
   ]
  },
  {
   "cell_type": "code",
   "execution_count": null,
   "metadata": {},
   "outputs": [],
   "source": [
    "plotly_workflow.plot_by_patterns(all_result,  [[\"kgsec\"]], ['fl.','cor_number', 'cal'], swap_xy=False, reversed_y=False,  plot_name='Распределение свойств ГЖС от давления')"
   ]
  },
  {
   "cell_type": "markdown",
   "metadata": {},
   "source": [
    "# Суммарный массовый расход смеси должен быть постоянным"
   ]
  },
  {
   "cell_type": "code",
   "execution_count": null,
   "metadata": {},
   "outputs": [],
   "source": [
    "plotly_workflow.plot_by_patterns(all_result,  [[\"q\", 'oil']], ['fl.','cor_number', 'cal'], swap_xy=False, reversed_y=False,  plot_name='Распределение свойств ГЖС от давления')"
   ]
  },
  {
   "cell_type": "code",
   "execution_count": null,
   "metadata": {},
   "outputs": [],
   "source": [
    "plotly_workflow.plot_by_patterns(all_result,  [[\"q\", 'wat']], ['fl.','cor_number', 'mass_fraction', 'cal'], swap_xy=False, reversed_y=False,  plot_name='Распределение свойств ГЖС от давления')"
   ]
  },
  {
   "cell_type": "code",
   "execution_count": null,
   "metadata": {},
   "outputs": [],
   "source": [
    "plotly_workflow.plot_by_patterns(all_result,  [[\"q\", 'gas']], ['fl.','cor_number', 'cal'], swap_xy=False, reversed_y=False,  plot_name='Распределение свойств ГЖС от давления')"
   ]
  },
  {
   "cell_type": "code",
   "execution_count": null,
   "metadata": {},
   "outputs": [],
   "source": [
    "plotly_workflow.plot_by_patterns(all_result,  [['rs'], ['liberated_gas'], ['dissolved_gas_sc_m3m3']], ['cor_number', 'cal', 'rsw'], swap_xy=False, reversed_y=False,  plot_name='Распределение свойств ГЖС от давления')"
   ]
  },
  {
   "cell_type": "code",
   "execution_count": null,
   "metadata": {},
   "outputs": [],
   "source": [
    "plotly_workflow.plot_by_patterns(all_result,  [['liq', 'm3day']], ['fl.','cor_number', 'cal'], swap_xy=False, reversed_y=False,  plot_name='Распределение свойств ГЖС от давления')"
   ]
  },
  {
   "cell_type": "code",
   "execution_count": null,
   "metadata": {},
   "outputs": [],
   "source": [
    "plotly_workflow.plot_by_patterns(all_result,  [['mix', 'm3day']], ['fl.','cor_number', 'cal'], swap_xy=False, reversed_y=False,  plot_name='Распределение свойств ГЖС от давления')"
   ]
  },
  {
   "cell_type": "code",
   "execution_count": null,
   "metadata": {},
   "outputs": [],
   "source": [
    "plotly_workflow.plot_by_patterns(all_result,  ['fw'], ['fl.','cor_number', 'cal'], swap_xy=False, reversed_y=False,  plot_name='Распределение свойств ГЖС от давления')"
   ]
  },
  {
   "cell_type": "code",
   "execution_count": null,
   "metadata": {},
   "outputs": [],
   "source": [
    "plotly_workflow.plot_by_patterns(all_result,  [['liquid_content']], ['fl.','cor_number', 'cal'], swap_xy=False, reversed_y=False,  plot_name='Распределение свойств ГЖС от давления')"
   ]
  },
  {
   "cell_type": "code",
   "execution_count": null,
   "metadata": {},
   "outputs": [],
   "source": [
    "plotly_workflow.plot_by_patterns(all_result,  [['rs']], ['cor_number', 'cal'], swap_xy=False, reversed_y=False,  plot_name='Распределение свойств ГЖС от давления')"
   ]
  },
  {
   "cell_type": "code",
   "execution_count": null,
   "metadata": {},
   "outputs": [],
   "source": [
    "plotly_workflow.plot_by_patterns(all_result,  [['rho_oil']], ['cor_number', 'cal'], swap_xy=False, reversed_y=False,  plot_name='Распределение свойств ГЖС от давления')"
   ]
  },
  {
   "cell_type": "code",
   "execution_count": null,
   "metadata": {},
   "outputs": [],
   "source": [
    "plotly_workflow.plot_by_patterns(all_result,  [['b_oil']], ['cor_number', 'cal'], swap_xy=False, reversed_y=False,  plot_name='Распределение свойств ГЖС от давления')"
   ]
  },
  {
   "cell_type": "code",
   "execution_count": null,
   "metadata": {},
   "outputs": [],
   "source": [
    "plotly_workflow.plot_by_patterns(all_result,  [['mu_oil_cp']], ['cor_number', 'cal'], swap_xy=False, reversed_y=False,  plot_name='Распределение свойств ГЖС от давления')"
   ]
  },
  {
   "cell_type": "code",
   "execution_count": null,
   "metadata": {},
   "outputs": [],
   "source": []
  }
 ],
 "metadata": {
  "kernelspec": {
   "display_name": "Python 3",
   "language": "python",
   "name": "python3"
  },
  "language_info": {
   "codemirror_mode": {
    "name": "ipython",
    "version": 3
   },
   "file_extension": ".py",
   "mimetype": "text/x-python",
   "name": "python",
   "nbconvert_exporter": "python",
   "pygments_lexer": "ipython3",
   "version": "3.7.6"
  }
 },
 "nbformat": 4,
 "nbformat_minor": 2
}
