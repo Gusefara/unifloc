{
 "cells": [
  {
   "cell_type": "markdown",
   "metadata": {},
   "source": [
    "Кобзарь О.С. Хабибуллин Р.А. 2019 г.\n",
    "\n",
    "## Данное решение находится в стадии разработки. Нет  учета изменения свойств флюида в затрубном пространстве. Нет уверенности в правильности формул.\n",
    "\n",
    "Проверить итоговое выражение, конструкцию скважины\n",
    "\n",
    "Источник:\n",
    "\n",
    "Fluid Flow and Heat Transfer in Wellbores A.R. Hasan and C.S. Kabir 2002 175 pp.; Softcover ISBN: 978-1-55563-094-2\n",
    "Society of Petroleum Engineers\n",
    "\n",
    "### КРТ. Температурная корреляция Хасан Кабир\n",
    "#### Последовательный расчет градиента давления (Беггз Брил) и градиента температуры"
   ]
  },
  {
   "cell_type": "markdown",
   "metadata": {},
   "source": [
    "## Основное уравнение\n",
    "\n",
    "В отличие от выражение температуры флюида в проинтегрированном виде:\n",
    "\n",
    "$$T_f = (T_{ei} - g_G L sin\\theta) + (T_{fi} - T_{ei})e^{-L/A} + A (1 - e^{-L /A })(g_G sin\\theta - \\frac{gsin\\theta}{C_p} + F_c)$$\n",
    "\n",
    "Уравнение градиента температуры имеет следующий вид:\n",
    "\n",
    "$$\\frac{dT_f}{dz} = C_J\\frac{dp}{dz} - \\frac{Q}{wc_p} + \\frac{g sin \\alpha}{c_p} +  \\frac{vdv}{c_p dz}$$\n",
    "\n",
    "части выражения учитывают изменение температуры:\n",
    "\n",
    "$C_J\\frac{dp}{dz}$ - за счет эффекта Джоуля Томпсона\n",
    "\n",
    "$\\frac{Q}{wc_p}$ - за счет теплопереноса\n",
    "\n",
    "$\\frac{g sin \\alpha}{c_p}$ - изменения потенциальной энергии\n",
    "\n",
    "$\\frac{vdv}{c_p dz}$ - изменения кинетической энергии\n",
    "\n",
    "## Подготовка к вычислению\n",
    "\n",
    "Чтобы вычислить градиент температуры в определенных термобарических условиях сперва необходимо вычислить PVT свойства (в том числе теплофизические) флюидов, рассчитать параметры многофазного потока и общие свойства смеси, градиент давления.\n",
    "\n",
    "Также стоит определится, производится ли расчет участка скважины с НКТ (учет затрубного пространства  -  `Pipe().section_casing = False`) или участка от забоя до приема (ГЖС движется внутри обсадной трубы - `Pipe().section_casing = True`). В первом случае также стоит определиться с флюидом, который находится в затрубном пространстве - рассчитать его свойства. Подробнее об этом смотрите в разделе uPVT\n",
    "\n",
    "## Вычисления \n",
    "\n",
    "### Расчет вынужденной конвекции в трубе (НКТ или ОТ - по которой движется смесь)\n",
    "\n",
    "$$N_{Re_n} = \\frac{\\rho_n v_m d _{ti}}{\\mu_n}$$\n",
    "\n",
    "$$N_{Pr_n} = \\frac{\\mu_n C _{P_n}}{k_n}$$\n",
    "\n",
    "$$N_{Nu} = 0.023 N_{Re_n} ^ {0.8} N_{Pr_n} ^ {0.3}$$\n",
    "\n",
    "$$h_f = \\frac{N_{Nu}k_n}{d_{ti}}$$\n",
    "\n",
    "### Естественная конвекция в затрубном пространстве (только для расчета НКТ)\n",
    "\n",
    "Расчет коэффициента конвекции в затрубном пространстве вызывает небольшую трудность, т.к. требуется знать число Грасгофа, которое в свою очередь зависит от перепада температур в затрубном пространстве. Чтобы решить данную проблему можно воспользоваться итерационным подходом: в первый раз принять начальное приближение, потом вычислить коэффициент, температуру, тепловой поток, и снова коэффициент для конвекции - повторить до тех пор, пока не будет изменяться. В данном вопросе значительно упрощают жизнь библиотека `scipy`.\n",
    "\n",
    "1. Расчет безразмерных чисел Прандтля и Грасгофа для затрубного пространства\n",
    "\n",
    "$$N_{Pr} = \\frac{\\mu_{an} C _{P_{an}}}{k_{an}}$$\n",
    "\n",
    "2. Положим начальное приближение для перепада температур в затрубном пространстве\n",
    "\n",
    "$$(T_{to} - T_{ci}) = 3^{\\circ}$$\n",
    "\n",
    "и можем рассчитать:\n",
    "\n",
    "$$N_{Gr} = \\frac {(r_{ci} - r_{to})^3 \\bar{\\rho}_{an}^2 \\beta g (T_{to} - T_{ci}) }{\\bar{\\mu}_{an}^2}$$\n",
    "\n",
    "3. Рассчитаем коэффициент естественной конвекции:\n",
    "\n",
    "$$h_{an} = \\frac{0.049(N_{Gr} N_{Pr}) ^ {(1/3)} N_{Gr} ^ {0.074} k_{an}}{r_{to}ln(\\frac{r_{ci}}{r_{to}})}$$\n",
    "\n",
    "4. Скорректируем коэффициент для учета длины трубы\n",
    "\n",
    "$$h_{an}^{*} = 0.25 h_{an}$$\n",
    "\n",
    "5. Тепловой поток\n",
    "\n",
    "$$ Q =\\frac{ 2 \\pi r_{to} U_{to} }{T_f - T_{ei}}  $$\n",
    "\n",
    "6. Перепад температур в затрубном пространстве:\n",
    "\n",
    "$$ \\delta T_{an} = \\frac{Q}{2 \\pi r_{ti} h_{an}} $$\n",
    "\n",
    "\n",
    "\n",
    "### Определение общего коэффициента теплопередачи:\n",
    "\n",
    "1. Рассчитываем безразмерное время:\n",
    "\n",
    "$$ t_{Dw} = \\frac{k_e t}{\\rho_e C_{p_e}r_{wb}^2} $$\n",
    "\n",
    "2. и безразмерную температуру (потери тепла в окружающую среду): \n",
    "\n",
    "$$ T_D = ln[\\exp ^{-0.2t_D} + (1.5 - 0.3719 \\exp ^{-t_D})  \\sqrt{t_D} ]$$\n",
    "\n",
    "2. Определяем тепловое сопротивление элементов скважины\n",
    "\n",
    "$$(R_{conv})_f = \\frac{1}{r_{ti}h_f}$$\n",
    "\n",
    "при расчете НКТ учитываем теплопроводность НКТ и конвективный теплообмен в затрубном пространстве:\n",
    "\n",
    "$$(R_{cond})_t  = \\frac{ln(r_{to}/r_{ti})}{k_t}$$\n",
    "\n",
    "$$(R_{conv})_{an} = \\frac{1}{r_{ci}h_{an}}$$\n",
    "\n",
    "$$(R_{cond})_c  = \\frac{ln(r_{co}/r_{ci})}{k_c}$$\n",
    "\n",
    "$$(R_{cond})_{cem}  = \\frac{ln(r_{w}/r_{co})}{k_{cem}}$$\n",
    "\n",
    "$$(R_{cond})_{e}  = \\frac{T_D}{k_{e}}$$\n",
    "\n",
    "3. Определяем общий коэффициент теплопередачи\n",
    "\n",
    "$$U  = \\frac{1}{r_{to}}[\\frac{1}{ (R_{conv})_f + (R_{cond})_t + (R_{conv})_{an} +(R_{cond})_c + (R_{cond})_{cem}+(R_{cond})_{e} }]$$\n",
    "\n",
    "\n",
    "### Последние формулы:\n",
    "\n",
    "1. Параметр релаксации:\n",
    "\n",
    "$$L_R = \\frac{2 \\pi}{c_p w} [\\frac{r_{to} U_{to} k_e} {k_e + (r_{to} U_{to} T_D)}] = \\frac {1}{A} $$\n",
    "\n",
    "2. Тепловой поток:\n",
    "\n",
    "$$ Q = L_R w c_p (T_f - T_{ei}) $$\n",
    "\n",
    "3. Подствим полученные значения в итоговую формулу\n",
    "\n",
    "$$\\frac{dT_f}{dz} = C_J\\frac{dp}{dz} - \\frac{Q}{wc_p} + \\frac{g sin \\alpha}{c_p} +  \\frac{vdv}{c_p dz}$$\n"
   ]
  },
  {
   "cell_type": "markdown",
   "metadata": {},
   "source": [
    "Импорт необходимых модулей"
   ]
  },
  {
   "cell_type": "code",
   "execution_count": null,
   "metadata": {},
   "outputs": [],
   "source": [
    "import sys\n",
    "sys.path.append('../')\n",
    "\n",
    "\n",
    "import uniflocpy.uWell.uPipe as Pipe\n",
    "import uniflocpy.uTools.data_workflow as tool\n",
    "import uniflocpy.uTools.uconst as uc\n",
    "\n",
    "import plotly.graph_objs as go\n",
    "from plotly.offline import download_plotlyjs, init_notebook_mode, plot, iplot\n",
    "from plotly import tools\n",
    "\n",
    "init_notebook_mode(connected=True)"
   ]
  },
  {
   "cell_type": "markdown",
   "metadata": {},
   "source": [
    "создание экземляра класса Pipe и хранилищ данных"
   ]
  },
  {
   "cell_type": "code",
   "execution_count": null,
   "metadata": {},
   "outputs": [],
   "source": [
    "tube = Pipe.Pipe()\n",
    "tube_data = tool.Data()\n",
    "fluid_flow_data = tool.Data()\n",
    "temp_cor_data = tool.Data()\n",
    "fluid_data = tool.Data()"
   ]
  },
  {
   "cell_type": "markdown",
   "metadata": {},
   "source": [
    "Задание необходимых параметров скважины (конструкция трубы, начальные условия, свойства потока, время работы)"
   ]
  },
  {
   "cell_type": "code",
   "execution_count": null,
   "metadata": {},
   "outputs": [],
   "source": [
    "p_init_bar = 90\n",
    "t_fluid_init_c = 91\n",
    "t_earth_init_c = 90\n",
    "q_liq_m3day = 50\n",
    "watercut_perc = 20\n",
    "d_tube_m = 0.50\n",
    "work_time_sec = 60\n",
    "geo_grad_cm = 0.027\n",
    "depth_m = 3000\n",
    "step_m = 10"
   ]
  },
  {
   "cell_type": "markdown",
   "metadata": {},
   "source": [
    "Передача параметров скважины в класс Pipe"
   ]
  },
  {
   "cell_type": "code",
   "execution_count": null,
   "metadata": {},
   "outputs": [],
   "source": [
    "tube.fluid_flow.qliq_on_surface_m3day = q_liq_m3day\n",
    "tube.fluid_flow.fw_on_surface_perc = watercut_perc\n",
    "tube.fluid_flow.d_m = d_tube_m\n",
    "\n",
    "tube.section_casing = False\n",
    "\n",
    "tube.t_earth_init_c = t_earth_init_c\n",
    "tube.time_sec = work_time_sec"
   ]
  },
  {
   "cell_type": "markdown",
   "metadata": {},
   "source": [
    "Проверка для расчета градиента давления и температуры при начальных условиях"
   ]
  },
  {
   "cell_type": "code",
   "execution_count": null,
   "metadata": {},
   "outputs": [],
   "source": [
    "tube.calc_p_grad_pam(p_init_bar, t_fluid_init_c)"
   ]
  },
  {
   "cell_type": "code",
   "execution_count": null,
   "metadata": {},
   "outputs": [],
   "source": [
    "tube.calc_t_grad_cm(p_init_bar, t_fluid_init_c)"
   ]
  },
  {
   "cell_type": "markdown",
   "metadata": {},
   "source": [
    "Создание хранилищ для основных параметров работы"
   ]
  },
  {
   "cell_type": "code",
   "execution_count": null,
   "metadata": {},
   "outputs": [],
   "source": [
    "p_list_bar = [p_init_bar]\n",
    "t_list_c = [t_fluid_init_c]\n",
    "h_list_m = [depth_m]\n",
    "t_earth_list_c = [t_earth_init_c]\n",
    "distance_from_bottomhole = [0]"
   ]
  },
  {
   "cell_type": "markdown",
   "metadata": {},
   "source": [
    "Основной расчет через цикл"
   ]
  },
  {
   "cell_type": "code",
   "execution_count": null,
   "metadata": {},
   "outputs": [],
   "source": [
    "for i in range(int(depth_m / step_m)):\n",
    "    if p_list_bar[-1] > 2:\n",
    "        p_grad_pam = tube.calc_p_grad_pam(p_list_bar[-1], t_list_c[-1])\n",
    "        t_grad_cm = tube.calc_t_grad_cm(p_list_bar[-1], t_list_c[-1])\n",
    "        \n",
    "\n",
    "        \n",
    "        \n",
    "        p_bar = p_list_bar[-1] - uc.Pa2bar(p_grad_pam) * step_m\n",
    "        t_c = t_list_c[-1] - t_grad_cm * step_m\n",
    "        t_earth_c = t_earth_list_c[-1] - geo_grad_cm * step_m\n",
    "        h_m = h_list_m[-1] - step_m\n",
    "        distance_m = distance_from_bottomhole[-1] + step_m\n",
    "        \n",
    "        \n",
    "        tube_data.get_data(tube)\n",
    "        fluid_flow_data.get_data(tube.fluid_flow)\n",
    "        temp_cor_data.get_data(tube.temp_cor)\n",
    "        fluid_data.get_data(tube.fluid_flow.fl)\n",
    "        \n",
    "        fluid_data.h_list.append(distance_m)\n",
    "        \n",
    "        h_list_m.append(h_m)\n",
    "        p_list_bar.append(p_bar)\n",
    "        t_list_c.append(t_c)\n",
    "        t_earth_list_c.append(t_earth_c)\n",
    "        distance_from_bottomhole.append(distance_m)\n",
    "        \n",
    "        tube.t_earth_init_c = t_earth_c\n",
    "        "
   ]
  },
  {
   "cell_type": "markdown",
   "metadata": {},
   "source": [
    "Функции, для удобства построения графиков"
   ]
  },
  {
   "cell_type": "code",
   "execution_count": null,
   "metadata": {},
   "outputs": [],
   "source": [
    "def plot():\n",
    "    layout = dict(title =  'L(P бар, T C)',  yaxis=dict(title='Расстояние от забоя, м'))\n",
    "    fig = dict(data=data, layout=layout)\n",
    "\n",
    "    iplot(fig, filename='basic-scatter')\n",
    "\n",
    "def trace(data, number_param):\n",
    "    tracep = go.Scattergl(\n",
    "        x = data.get_values(number_param),\n",
    "        y = fluid_data.h_list,\n",
    "        name = data.get_name(number_param),\n",
    "        mode = 'markers'\n",
    "    )\n",
    "    return tracep"
   ]
  },
  {
   "cell_type": "code",
   "execution_count": null,
   "metadata": {},
   "outputs": [],
   "source": [
    "trace1 = go.Scattergl(\n",
    "    x = t_earth_list_c,\n",
    "    y = distance_from_bottomhole, \n",
    "    name = 'Геотерма, C',\n",
    "    mode = 'markers'\n",
    ")\n",
    "\n",
    "trace2 = go.Scattergl(\n",
    "    x = p_list_bar,\n",
    "    y = distance_from_bottomhole, \n",
    "    name = 'КРД Беггз Брилл, бар',\n",
    "    mode = 'markers'\n",
    ")\n",
    "\n",
    "trace3 = go.Scattergl(\n",
    "    x = t_list_c,\n",
    "    y = distance_from_bottomhole, \n",
    "    name = 'КРТ Хасан Кабир, С',\n",
    "    mode = 'markers'\n",
    ")\n",
    "\n",
    "\n",
    "data = [ trace1, trace2, trace3]\n",
    "\n",
    "plot()"
   ]
  }
 ],
 "metadata": {
  "kernelspec": {
   "display_name": "Python 3",
   "language": "python",
   "name": "python3"
  },
  "language_info": {
   "codemirror_mode": {
    "name": "ipython",
    "version": 3
   },
   "file_extension": ".py",
   "mimetype": "text/x-python",
   "name": "python",
   "nbconvert_exporter": "python",
   "pygments_lexer": "ipython3",
   "version": "3.7.6"
  }
 },
 "nbformat": 4,
 "nbformat_minor": 2
}
