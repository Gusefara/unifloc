{
 "cells": [
  {
   "cell_type": "markdown",
   "metadata": {},
   "source": [
    "Водопьян А.О. Хабибуллин Р.А. 2019 г. \n",
    "\n",
    "# PVT cвойства BlackOil моделей нефти\n",
    "\n",
    "Сравниваются две модели:\n",
    "    модель BlackOil по корреляциям **Standing** и **McCain**\n",
    "    \n",
    "В модели нелетучей нефти Маскета -Мереса (Black oil) углеводородная система может быть аппроксимирована двумя компонентами; нелетучим (нефтью) и летучим (газом), растворимым в нефтяной фазе. Предполагается, что сосуществуют три отдельные фазы; вода, нефть и газ. Вода и нефть не смешиваются, не обмениваются массами и не меняют фазы. Газ растворим в нефти и нерастворим в воде."
   ]
  },
  {
   "cell_type": "markdown",
   "metadata": {},
   "source": [
    "Импорт необходимых модулей"
   ]
  },
  {
   "cell_type": "code",
   "execution_count": null,
   "metadata": {},
   "outputs": [],
   "source": [
    "import sys\n",
    "sys.path.append('../')\n",
    "import uniflocpy.uPVT.PVT_fluids as PVT\n",
    "import matplotlib.pyplot as plt\n",
    "import matplotlib as mpl\n",
    "import numpy as np\n",
    "import pandas as pd\n",
    "import pylab\n",
    "import uniflocpy.uPVT.PVT_correlations as PVTcorr\n",
    "%matplotlib inline"
   ]
  },
  {
   "cell_type": "markdown",
   "metadata": {},
   "source": [
    "Создание хранилищей свойств и их заполнение"
   ]
  },
  {
   "cell_type": "code",
   "execution_count": null,
   "metadata": {},
   "outputs": [],
   "source": [
    "flSt = PVT.FluidStanding(rsb_m3m3 = 50)\n",
    "flMc = PVT.FluidMcCain(rsb_m3m3 = 50)\n",
    "p_0 = 5\n",
    "p_n = 300\n",
    "dp = 5\n",
    "p_bar = np.arange(p_0, p_n, dp)\n",
    "t_C = 60\n",
    "pb, rs, mu_oil, compr_oil, bo, rho_oil  = [], [], [], [], [], []\n",
    "z, rho_gas, mu_gas,compr_gas, bg = [], [], [], [], []\n",
    "rho_wat, mu_wat, compr_wat, bw = [], [], [], []\n",
    "for fluid in [flSt,flMc ]:  # Можно убрать один флюид и строит графики с помощью по 3 вряд\n",
    "    for p in p_bar:\n",
    "        fluid.calc(p, t_C)\n",
    "        pb.append(fluid.pb_bar)\n",
    "        rs.append(fluid.rs_m3m3)\n",
    "        mu_oil.append(fluid.mu_oil_cp)\n",
    "        compr_oil.append(fluid.compr_oil_1bar)\n",
    "        bo.append(fluid.b_oil_m3m3)\n",
    "        rho_oil.append(fluid.rho_oil_kgm3)\n",
    "        z.append(fluid.z)\n",
    "        mu_gas.append(fluid.mu_gas_cp)\n",
    "        compr_gas.append(fluid.compr_gas_1bar)\n",
    "        bg.append(fluid.b_gas_m3m3)\n",
    "        rho_wat.append(fluid.rho_wat_kgm3)\n",
    "        mu_wat.append(fluid.mu_wat_cp)\n",
    "        compr_wat.append(fluid.compr_wat_1bar)\n",
    "        bw.append(fluid.b_wat_m3m3)\n",
    "        rho_gas.append(fluid.rho_gas_kgm3)"
   ]
  },
  {
   "cell_type": "markdown",
   "metadata": {},
   "source": [
    "Вспомогательные функции для построения графиков"
   ]
  },
  {
   "cell_type": "code",
   "execution_count": null,
   "metadata": {},
   "outputs": [],
   "source": [
    "\n",
    "mpl.rcParams['font.family'] = 'fantasy'\n",
    "mpl.rcParams['font.fantasy'] = 'Times New Roman'\n",
    "\n",
    "\n",
    "def plot3inrow(ys, x, titles, ylabels, subplots):  # функция для построения 3 графиков в ряд для одного флюида\n",
    "    for i in range(3):\n",
    "        plt.subplot(subplots[i])\n",
    "        plt.ylim(0.9 * np.min(ys[i]), 1.1 * np.max(ys[i]))\n",
    "        plt.xlim(0, x[0])\n",
    "        plt.grid(True)\n",
    "        plt.title(titles[i], color='black', family='fantasy')\n",
    "        plt.ylabel(ylabels[i], color='black', family='fantasy')\n",
    "        plt.xlabel('Давление, бар', color='black', family='fantasy')\n",
    "        plt.plot(p_bar, ys[i], linewidth=3)\n",
    "    plt.subplots_adjust(left=0.01, right=2.5, top=0.98, bottom=0.04)\n",
    "    plt.show()\n",
    "\n",
    "def plot32inrow(ys, x, titles, ylabels, subplots):  # функция для построения графиков для двух флюидов\n",
    "    for i in range(3):\n",
    "        #plt.subplot(subplots[i])       \n",
    "        middle = int(len(ys[i]) / 2)\n",
    "        ys_one = ys[i][:middle]\n",
    "        ys_two = ys[i][middle:]\n",
    "        for ys_one_fluid in [ys_one,ys_two]:\n",
    "            plt.subplot(subplots[i])\n",
    "            plt.plot(x[0], ys_one_fluid, linewidth=3)\n",
    "        plt.ylim(0.9 * np.min(ys[i]), 1.1 * np.max(ys[i]))\n",
    "        plt.xlim(0, np.max(x[0]))\n",
    "        plt.grid(True)\n",
    "        plt.title(titles[i], color='black', family='fantasy')\n",
    "        plt.ylabel(ylabels[i], color='black', family='fantasy')\n",
    "        plt.xlabel('Давление, бар', color='black', family='fantasy')\n",
    "        plt.subplots_adjust(left=0.01, right=2.5, top=0.98, bottom=0.04)\n",
    "        plt.legend(('Standing','McCain'))  \n",
    "        plt.show()"
   ]
  },
  {
   "cell_type": "markdown",
   "metadata": {},
   "source": [
    "## Давление насыщения, z - фактор, газосодержание"
   ]
  },
  {
   "cell_type": "code",
   "execution_count": null,
   "metadata": {},
   "outputs": [],
   "source": [
    "ys = [pb, z, rs ]\n",
    "x = [p_bar]\n",
    "titles = ['Давление насыщения','z - фактор',  'Газосодержание']\n",
    "ylabels = ['Pb, бар', 'z' , 'Rs, м3/м3']\n",
    "subplots = [131,132,133]\n",
    "plot32inrow(ys, x, titles, ylabels, subplots)"
   ]
  },
  {
   "cell_type": "markdown",
   "metadata": {},
   "source": [
    "## Объемные коэффициенты нефти, газа и воды"
   ]
  },
  {
   "cell_type": "code",
   "execution_count": null,
   "metadata": {},
   "outputs": [],
   "source": [
    "ys = [bo, bg, bw ]\n",
    "x = [p_bar]\n",
    "titles = ['Объемный коэффициент нефти','Объемный коэффициент газа', 'Объемный коэффициент воды']\n",
    "ylabels = ['bo, м3/м3', 'bg, м3/м3' , 'bw, м3/м3']\n",
    "subplots = [131,132,133]\n",
    "plot32inrow(ys, x, titles, ylabels, subplots)"
   ]
  },
  {
   "cell_type": "markdown",
   "metadata": {},
   "source": [
    "## Вязкости нефти, газа и воды"
   ]
  },
  {
   "cell_type": "code",
   "execution_count": null,
   "metadata": {},
   "outputs": [],
   "source": [
    "ys = [mu_oil, mu_gas, mu_wat ]\n",
    "x = [p_bar]\n",
    "titles = ['Вязкость нефти','Вязкость газа', 'Вязкость воды']\n",
    "ylabels = ['Mu_oil, сП', 'Mu_gas, сП' , 'Mu_wat, сП']\n",
    "subplots = [131,132,133]\n",
    "plot32inrow(ys, x, titles, ylabels, subplots)"
   ]
  },
  {
   "cell_type": "markdown",
   "metadata": {},
   "source": [
    "## Плотности нефти, газа и воды"
   ]
  },
  {
   "cell_type": "code",
   "execution_count": null,
   "metadata": {},
   "outputs": [],
   "source": [
    "ys = [rho_oil, rho_gas, rho_wat ]\n",
    "x = [p_bar]\n",
    "titles = ['Плотность нефти','Плотность газа',  'Плотность воды']\n",
    "ylabels = ['rho_oil, кг/м3', 'rho_gas, кг/м3' , 'rho_wat, кг/м3']\n",
    "subplots = [131,132,133]\n",
    "plot32inrow(ys, x, titles, ylabels, subplots)"
   ]
  },
  {
   "cell_type": "markdown",
   "metadata": {},
   "source": [
    "## Сжимаемости нефти, газа и воды"
   ]
  },
  {
   "cell_type": "code",
   "execution_count": null,
   "metadata": {},
   "outputs": [],
   "source": [
    "ys = [compr_oil, compr_gas, compr_wat ]\n",
    "x = [p_bar]\n",
    "titles = ['Сжимаемость нефти','Сжимаемость газа',  'Сжимаемость воды']\n",
    "ylabels = ['$c_o, 1/бар$', '$c_g, 1/бар$' , '$c_w, 1/бар$']\n",
    "subplots = [131,132,133]\n",
    "plot32inrow(ys, x, titles, ylabels, subplots)"
   ]
  },
  {
   "cell_type": "code",
   "execution_count": null,
   "metadata": {},
   "outputs": [],
   "source": []
  },
  {
   "cell_type": "code",
   "execution_count": null,
   "metadata": {},
   "outputs": [],
   "source": []
  }
 ],
 "metadata": {
  "kernelspec": {
   "display_name": "Python 3",
   "language": "python",
   "name": "python3"
  },
  "language_info": {
   "codemirror_mode": {
    "name": "ipython",
    "version": 3
   },
   "file_extension": ".py",
   "mimetype": "text/x-python",
   "name": "python",
   "nbconvert_exporter": "python",
   "pygments_lexer": "ipython3",
   "version": "3.7.6"
  }
 },
 "nbformat": 4,
 "nbformat_minor": 2
}
