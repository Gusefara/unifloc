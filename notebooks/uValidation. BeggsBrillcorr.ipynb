{
 "cells": [
  {
   "cell_type": "code",
   "execution_count": null,
   "metadata": {},
   "outputs": [],
   "source": [
    "import sys\n",
    "sys.path.append('../')\n",
    "\n",
    "import uniflocpy.uTools.data_workflow as data_workflow\n",
    "import pandas as pd\n",
    "from uniflocpy.uTools import plotly_workflow\n",
    "import uniflocpy.uPVT.BlackOil_model as BlackOil_model\n",
    "import uniflocpy.uValidation.python_api as python_api\n",
    "import uniflocpy.uTools.uconst as uc\n",
    "import uniflocpy.uPVT.PVT_fluids as PVT_fluids\n",
    "import xlwings as xw\n",
    "import uniflocpy.uMultiphaseFlow.hydr_cor_Beggs_Brill as BB\n",
    "import uniflocpy.uWell.uPipe as Pipe"
   ]
  },
  {
   "cell_type": "code",
   "execution_count": null,
   "metadata": {},
   "outputs": [],
   "source": [
    "uniflocvba = python_api.API('E:\\\\Git\\\\unifloc_vba\\\\UniflocVBA_7.xlam')"
   ]
  },
  {
   "cell_type": "code",
   "execution_count": null,
   "metadata": {},
   "outputs": [],
   "source": [
    "uniflocvba.f_bb = uniflocvba.book.macro('unf_BegsBrillGradient')"
   ]
  },
  {
   "cell_type": "code",
   "execution_count": null,
   "metadata": {},
   "outputs": [],
   "source": [
    "def convert_result_to_df(result):\n",
    "    this_dict = {\n",
    "    \"p_grad_pam\" : uc.atm2Pa(result[0]),\n",
    "    \"density_part_pam\": uc.atm2Pa(result[1]),\n",
    "    \"friction_part_pam\":uc.atm2Pa(result[2]),\n",
    "    \"acceleration_part_pam\":uc.atm2Pa(result[3]),\n",
    "    \"vsl_msec\":result[4],\n",
    "    \"vsg_msec\":result[5],\n",
    "    \"liquid_content_with_pains_corr\":result[6],\n",
    "    \"flow_regime_number\":result[7]\n",
    "    }\n",
    "    this_df = pd.DataFrame(this_dict, index = [0])\n",
    "    return this_df"
   ]
  },
  {
   "cell_type": "code",
   "execution_count": null,
   "metadata": {},
   "outputs": [],
   "source": [
    "pipe = Pipe.Pipe(fluid=BlackOil_model.Fluid())"
   ]
  },
  {
   "cell_type": "code",
   "execution_count": null,
   "metadata": {},
   "outputs": [],
   "source": [
    "pipe.calc_p_grad_pam(2,20)"
   ]
  },
  {
   "cell_type": "code",
   "execution_count": null,
   "metadata": {},
   "outputs": [],
   "source": [
    "arr_d_m = pipe.fluid_flow.d_m\n",
    "arr_theta_deg = pipe.angle_to_horizontal_grad\n",
    "eps_m = pipe.hydr_cor.epsilon_friction_m\n",
    "Ql_rc_m3day = pipe.fluid_flow.qliq_m3day\n",
    "Qg_rc_m3day = pipe.fluid_flow.qgas_m3day\n",
    "Mul_rc_cP = pipe.fluid_flow.mu_liq_cP\n",
    "Mug_rc_cP = pipe.fluid_flow.fl.mu_gas_cp\n",
    "sigma_l_Nm = pipe.fluid_flow.sigma_liq_Nm\n",
    "rho_lrc_kgm3 = pipe.fluid_flow.rho_liq_kgm3\n",
    "rho_grc_kgm3  = pipe.fluid_flow.fl.rho_gas_kgm3\n",
    "Payne_et_all_holdup   = 1, \n",
    "Payne_et_all_friction   = 1 \n",
    "c_calibr_grav   = 1\n",
    "c_calibr_fric   = 1"
   ]
  },
  {
   "cell_type": "code",
   "execution_count": null,
   "metadata": {},
   "outputs": [],
   "source": [
    "eps_m"
   ]
  },
  {
   "cell_type": "code",
   "execution_count": null,
   "metadata": {},
   "outputs": [],
   "source": [
    "result = uniflocvba.f_bb(arr_d_m , \n",
    "                arr_theta_deg,  eps_m  , \n",
    "                Ql_rc_m3day ,  Qg_rc_m3day  , \n",
    "                Mul_rc_cP  ,  Mug_rc_cP  , \n",
    "                sigma_l_Nm  ,\n",
    "                rho_lrc_kgm3  , \n",
    "                rho_grc_kgm3  , \n",
    "                #Payne_et_all_holdup   \n",
    "                #Payne_et_all_friction , \n",
    "                #c_calibr_grav   , \n",
    "                #c_calibr_fric   \n",
    "               )\n",
    "\n"
   ]
  },
  {
   "cell_type": "code",
   "execution_count": null,
   "metadata": {},
   "outputs": [],
   "source": [
    "\n",
    "convert_result_to_df(result)"
   ]
  },
  {
   "cell_type": "code",
   "execution_count": null,
   "metadata": {},
   "outputs": [],
   "source": [
    "python_flow_model_db = data_workflow.Data()\n",
    "python_flow_model_db.clear_data()\n",
    "vba_result_df = None\n",
    "t_c =100\n",
    "pipe.fluid_flow.qliq_on_surface_m3day = 50\n",
    "pipe.fluid_flow.fl.rsb_m3m3 = 300\n",
    "for p_bar in range(2, 150, 1):\n",
    "    pipe.calc_p_grad_pam(p_bar, t_c)\n",
    "    \n",
    "    python_flow_model_db.get_data(pipe, object_name='python_flow_model')\n",
    "\n",
    "    arr_d_m = pipe.fluid_flow.d_m\n",
    "    arr_theta_deg = pipe.angle_to_horizontal_grad\n",
    "    eps_m = pipe.hydr_cor.epsilon_friction_m\n",
    "    Ql_rc_m3day = pipe.fluid_flow.qliq_m3day\n",
    "    Qg_rc_m3day = pipe.fluid_flow.qgas_m3day\n",
    "    Mul_rc_cP = pipe.fluid_flow.mu_liq_cP\n",
    "    Mug_rc_cP = pipe.fluid_flow.fl.mu_gas_cp\n",
    "    sigma_l_Nm = pipe.fluid_flow.sigma_liq_Nm\n",
    "    rho_lrc_kgm3 = pipe.fluid_flow.rho_liq_kgm3\n",
    "    rho_grc_kgm3  = pipe.fluid_flow.fl.rho_gas_kgm3\n",
    "    Payne_et_all_holdup   = 1, \n",
    "    Payne_et_all_friction   = 1 \n",
    "    c_calibr_grav   = 1\n",
    "    c_calibr_fric   = 1\n",
    "    \n",
    "    vba_result = uniflocvba.f_bb(arr_d_m , \n",
    "                arr_theta_deg,  eps_m  , \n",
    "                Ql_rc_m3day ,  Qg_rc_m3day  , \n",
    "                Mul_rc_cP  ,  Mug_rc_cP  , \n",
    "                sigma_l_Nm,\n",
    "                rho_lrc_kgm3  , \n",
    "                rho_grc_kgm3  , \n",
    "                #Payne_et_all_holdup   \n",
    "                #Payne_et_all_friction , \n",
    "                #c_calibr_grav   , \n",
    "                #c_calibr_fric   \n",
    "               )\n",
    "    this_vba_result_df = convert_result_to_df(vba_result)\n",
    "    try:\n",
    "        vba_result_df = vba_result_df.append(this_vba_result_df)\n",
    "    except:\n",
    "        vba_result_df = this_vba_result_df.copy()"
   ]
  },
  {
   "cell_type": "code",
   "execution_count": null,
   "metadata": {},
   "outputs": [],
   "source": [
    "result_unifloc_python = python_flow_model_db.get_data_as_df()\n",
    "result_unifloc_python.index = result_unifloc_python['python_flow_model.p_bar']\n",
    "result_unifloc_python.index.name = 'p_bar'\n",
    "\n",
    "vba_result_df.index = result_unifloc_python.index\n",
    "vba_result_df.index.name = 'p_bar'\n",
    "vba_result_df = vba_result_df.add_prefix('vba_flow_model.')\n",
    "all_result = result_unifloc_python.join(vba_result_df)"
   ]
  },
  {
   "cell_type": "code",
   "execution_count": null,
   "metadata": {},
   "outputs": [],
   "source": [
    "plotly_workflow.plot_by_patterns(all_result, [['pam','acceleration']], ['density','friction','msec'], swap_xy=False, reversed_y=False,  plot_name='Распределение свойств ГЖС от давления')"
   ]
  },
  {
   "cell_type": "code",
   "execution_count": null,
   "metadata": {},
   "outputs": [],
   "source": [
    "plotly_workflow.plot_by_patterns(all_result, [['pam']], ['density','friction','acceleration','msec'], swap_xy=False, reversed_y=False,  plot_name='Распределение свойств ГЖС от давления')"
   ]
  },
  {
   "cell_type": "code",
   "execution_count": null,
   "metadata": {},
   "outputs": [],
   "source": [
    "plotly_workflow.plot_by_patterns(all_result, [['friction','pam']], ['coooo'], swap_xy=False, reversed_y=False,  plot_name='Распределение свойств ГЖС от давления')"
   ]
  },
  {
   "cell_type": "code",
   "execution_count": null,
   "metadata": {},
   "outputs": [],
   "source": [
    "plotly_workflow.plot_by_patterns(all_result, [['density','pam']], ['coooo'], swap_xy=False, reversed_y=False,  plot_name='Распределение свойств ГЖС от давления')"
   ]
  },
  {
   "cell_type": "code",
   "execution_count": null,
   "metadata": {},
   "outputs": [],
   "source": [
    "plotly_workflow.plot_by_patterns(all_result, ['regime'], ['coooo'], swap_xy=False, reversed_y=False,  plot_name='Распределение свойств ГЖС от давления')"
   ]
  },
  {
   "cell_type": "code",
   "execution_count": null,
   "metadata": {},
   "outputs": [],
   "source": [
    "plotly_workflow.plot_by_patterns(all_result, [['liquid_content_','ains']], ['coooo'], swap_xy=False, reversed_y=False,  plot_name='Распределение свойств ГЖС от давления')"
   ]
  },
  {
   "cell_type": "code",
   "execution_count": null,
   "metadata": {},
   "outputs": [],
   "source": [
    "plotly_workflow.plot_by_patterns(all_result, [['vsl']], ['coooo'], swap_xy=False, reversed_y=False,  plot_name='Распределение свойств ГЖС от давления')"
   ]
  },
  {
   "cell_type": "code",
   "execution_count": null,
   "metadata": {},
   "outputs": [],
   "source": [
    "plotly_workflow.plot_by_patterns(all_result, [['vsg']], ['coooo'], swap_xy=False, reversed_y=False,  plot_name='Распределение свойств ГЖС от давления')"
   ]
  },
  {
   "cell_type": "code",
   "execution_count": null,
   "metadata": {},
   "outputs": [],
   "source": []
  }
 ],
 "metadata": {
  "kernelspec": {
   "display_name": "Python 3",
   "language": "python",
   "name": "python3"
  },
  "language_info": {
   "codemirror_mode": {
    "name": "ipython",
    "version": 3
   },
   "file_extension": ".py",
   "mimetype": "text/x-python",
   "name": "python",
   "nbconvert_exporter": "python",
   "pygments_lexer": "ipython3",
   "version": "3.7.6"
  }
 },
 "nbformat": 4,
 "nbformat_minor": 4
}
