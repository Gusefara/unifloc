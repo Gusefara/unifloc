{
 "cells": [
  {
   "cell_type": "markdown",
   "metadata": {},
   "source": [
    "Водопьян А.О. Хабибуллин Р.А. 2019 г.\n",
    "\n",
    "## Объемный коэффициент нефти\n",
    "\n",
    "### Корреляция при давлении выше давления насыщения\n",
    "\n",
    "Корреляция для объемного коэффициента нефти при давлении выше давления насыщения в некоторых источниках указывается, что она принадлежит Стендингу, в некоторых Vasquez & Beggs. На самом деле это не корреляция, так как природа ее происхождения не статистическая, а вполне себе физическое уравнение.\n",
    "\n",
    "$$ b_o = b_{ob} \\cdot \\exp(c_o(p_b - p)) $$\n",
    "\n",
    "где:\n",
    "\n",
    "$ b_o $ - объемный коэффициент нефти при давлении p, м3/м3\n",
    "\n",
    "$ b_{ob} $ - объемный коэффициент нефти при давлении насыщения, м3/м3\n",
    "\n",
    "$ c_o $ - сжимаемость нефти, 1/МПа\n",
    "\n",
    "$ p $ - давление, МПа\n",
    "\n",
    "$ p_b $ - давление насыщения, МПа\n",
    "\n"
   ]
  },
  {
   "cell_type": "code",
   "execution_count": null,
   "metadata": {},
   "outputs": [],
   "source": [
    "import matplotlib.pyplot as plt\n",
    "import matplotlib as mpl\n",
    "import numpy as np\n",
    "from sympy import *\n",
    "init_printing()\n",
    "import sys\n",
    "sys.path.append('../')\n",
    "import uniflocpy.uPVT.PVT_correlations as PVT"
   ]
  },
  {
   "cell_type": "code",
   "execution_count": null,
   "metadata": {},
   "outputs": [],
   "source": [
    "# Уравнение для объемного коэффициента нефти реализовано\n",
    "# в виде функции unf_fvf_VB_m3m3_above в модуле PVT_correlations. \n",
    "# Подробные данные по функции включая исходный код приведены ниже\n",
    "\n",
    "PVT.unf_fvf_VB_m3m3_above??"
   ]
  },
  {
   "cell_type": "code",
   "execution_count": null,
   "metadata": {},
   "outputs": [],
   "source": [
    "# параметры определяющие диапазоны значений для построения графиков\n",
    "p_set=np.arange(8,11,0.25)\n",
    "co_set=np.arange(1 * 10 ** (-3),4 * 10 ** (-3),10 ** (-3))\n",
    "bob = 1.2\n",
    "pb = 8\n",
    "# функция для автоматизации построения графиков по давлению насыщения\n",
    "def prep_plot(func,p_set,co_set,pb,bob,plot_title,plot_xlab,plot_ylab):\n",
    "    for co in co_set:\n",
    "        b_o_set=[]\n",
    "        for p in p_set:\n",
    "            b_o_set.append(func(bob,co,pb,p))\n",
    "        plt.plot(p_set, b_o_set, label='co ={}'.format(co))\n",
    "    plt.title(plot_title)\n",
    "    plt.ylabel(plot_ylab, color = 'black')\n",
    "    plt.xlabel(plot_xlab, color = 'black')\n",
    "    plt.legend()"
   ]
  },
  {
   "cell_type": "code",
   "execution_count": null,
   "metadata": {},
   "outputs": [],
   "source": [
    "# код для построения графиков\n",
    "plt.figure(figsize=(15,8))\n",
    "f = PVT.unf_fvf_VB_m3m3_above\n",
    "prep_plot(f,p_set,co_set,pb,bob,\n",
    "              'Объемный коэффициент нефти от давления (выше давления насыщения)',\n",
    "               '$P, MPa$',\n",
    "               '$b_o, м^3/м^3$')\n",
    "\n",
    "# рисуем все\n",
    "plt.grid()\n",
    "plt.show()"
   ]
  },
  {
   "cell_type": "markdown",
   "metadata": {},
   "source": [
    "### Корреляция Маккейна при давлении меньше или равном давлению насыщения\n",
    "\n",
    "Уравнение выводится из материального баланса и не является корреляцией.\n",
    "\n",
    "$$ b_o = \\left( \\frac{ \\rho_{STO} + 0.01357 R_s \\gamma_g}{\\rho_{or}}\\right) $$\n",
    "\n",
    "где:\n",
    "\n",
    "$ b_o $ - объемный коэффициент нефти при давлении p, м3/м3\n",
    "\n",
    "$ \\rho_{STO} $ - плотность дегазированной нефти, фунт/фт3 (кг/м3)\n",
    "\n",
    "$ R_s $ - газосодержание при давлении p, фт3/баррель (м3/м3)\n",
    "\n",
    "$ \\gamma_g $ - плотность газа относительно воздуха\n",
    "\n",
    "$ \\rho_{or} $ - плотность пластовой нефти, фунт/фт3 (кг/м3)\n",
    "\n",
    "#### Внутри функции уже реализован перевод величин, единицы измерения в скобках - входные параметры в функцию"
   ]
  },
  {
   "cell_type": "code",
   "execution_count": null,
   "metadata": {},
   "outputs": [],
   "source": [
    "# Уравнение для объемного коэффициента нефти реализовано\n",
    "# в виде функции unf_fvf_Mccain_m3m3_below в модуле PVT_correlations. \n",
    "# Подробные данные по функции включая исходный код приведены ниже\n",
    "\n",
    "PVT.unf_fvf_Mccain_m3m3_below??"
   ]
  },
  {
   "cell_type": "code",
   "execution_count": null,
   "metadata": {},
   "outputs": [],
   "source": [
    "# параметры определяющие диапазоны значений для построения графиков\n",
    "rs_set=np.arange(0,300,25)\n",
    "rho_set=np.arange(600,850,50)\n",
    "rho_sto = 800\n",
    "gamma_gas = 0.8\n",
    "# функция для автоматизации построения графиков по давлению насыщения\n",
    "def prep_plot(func,rs_set,rho_set,gamma_gas,rho_sto,plot_title,plot_xlab,plot_ylab):\n",
    "    for rho in rho_set:\n",
    "        b_o_set=[]\n",
    "        for rs in rs_set:\n",
    "            b_o_set.append(func(rho_sto,rs,rho,gamma_gas))\n",
    "        plt.plot(rs_set, b_o_set, label='rho ={}'.format(rho))\n",
    "    plt.title(plot_title)\n",
    "    plt.ylabel(plot_ylab, color = 'black')\n",
    "    plt.xlabel(plot_xlab, color = 'black')\n",
    "    plt.legend()"
   ]
  },
  {
   "cell_type": "code",
   "execution_count": null,
   "metadata": {},
   "outputs": [],
   "source": [
    "# код для построения графиков\n",
    "plt.figure(figsize=(15,8))\n",
    "f = PVT.unf_fvf_Mccain_m3m3_below\n",
    "prep_plot(f,rs_set,rho_set,gamma_gas,rho_sto,\n",
    "              'Объемный коэффициент нефти от давления (ниже давления насыщения)',\n",
    "               '$Rs, м^3/м^3$',\n",
    "               '$b_o, м^3/м^3$')\n",
    "\n",
    "# рисуем все\n",
    "plt.grid()\n",
    "plt.show()"
   ]
  },
  {
   "cell_type": "markdown",
   "metadata": {},
   "source": [
    "Этот график вообще говоря неверный,он построен для понимания, потому что при разном Rs будет разная плотность и график будет нелинейным."
   ]
  }
 ],
 "metadata": {
  "kernelspec": {
   "display_name": "Python 3",
   "language": "python",
   "name": "python3"
  },
  "language_info": {
   "codemirror_mode": {
    "name": "ipython",
    "version": 3
   },
   "file_extension": ".py",
   "mimetype": "text/x-python",
   "name": "python",
   "nbconvert_exporter": "python",
   "pygments_lexer": "ipython3",
   "version": "3.7.6"
  }
 },
 "nbformat": 4,
 "nbformat_minor": 2
}
