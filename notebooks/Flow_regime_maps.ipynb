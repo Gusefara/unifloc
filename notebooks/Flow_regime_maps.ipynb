{
 "cells": [
  {
   "cell_type": "markdown",
   "metadata": {},
   "source": [
    "Выделяется несколько структур потока: рассеянная пузырьковая(dispersed bubble), пробковая или снарядкая (slug), переходная(churn) и кольцевая(annular). Обычно пузырьковая структура наблюдается при больших дебитах жидкости. Однако существуют условия при которых она появляется и при низких дебитах жидкости. Такая структура называется пузырьковая(bubbly). Она проявляется только при углах близких к вертикальным или при больших дебитах. Существование такого режима определяется двумя условиями:\n",
    "\n",
    "\\begin{equation}\n",
    "D >  19 \\left[ \\frac{(\\rho_l - \\rho_g)\\sigma}{\\rho_l^2 g}\\right]^{0.5} -\\space условие\\spaceдля\\spaceдиаметра\n",
    "\\end{equation}\n",
    "\n",
    "\\begin{equation}\n",
    "D >  19 \\left[ \\frac{(\\rho_l - \\rho_g)\\sigma}{\\rho_l^2 g}\\right]^{0.5} -\\space условие\\spaceдля\\spaceдиаметра\n",
    "\\end{equation}\n",
    "\n"
   ]
  },
  {
   "cell_type": "code",
   "execution_count": null,
   "metadata": {},
   "outputs": [],
   "source": []
  },
  {
   "cell_type": "code",
   "execution_count": null,
   "metadata": {},
   "outputs": [],
   "source": []
  }
 ],
 "metadata": {
  "kernelspec": {
   "display_name": "Python 3",
   "language": "python",
   "name": "python3"
  },
  "language_info": {
   "codemirror_mode": {
    "name": "ipython",
    "version": 3
   },
   "file_extension": ".py",
   "mimetype": "text/x-python",
   "name": "python",
   "nbconvert_exporter": "python",
   "pygments_lexer": "ipython3",
   "version": "3.7.3"
  }
 },
 "nbformat": 4,
 "nbformat_minor": 2
}
