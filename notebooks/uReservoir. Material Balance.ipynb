{
 "cells": [
  {
   "cell_type": "markdown",
   "metadata": {},
   "source": [
    "Кобзарь О.С. Водопьян А.О. Хабибуллин Р.А. 5.08.2019\n",
    "\n",
    "# Применение уравнение материального баланса к залежам УВ\n",
    "\n"
   ]
  },
  {
   "cell_type": "code",
   "execution_count": null,
   "metadata": {},
   "outputs": [],
   "source": [
    "import sys\n",
    "sys.path.append('../')\n",
    "\n",
    "import uniflocpy.uTools.data_workflow as data_workflow\n",
    "import uniflocpy.uReservoir.MatBalance as MB_module\n",
    "import uniflocpy.uTools.uconst as uc\n",
    "import uniflocpy.uPVT.PVT_fluids as PVT\n",
    "\n",
    "import plotly.graph_objs as go\n",
    "import numpy as np\n",
    "from plotly.offline import download_plotlyjs, init_notebook_mode, plot, iplot\n",
    "from plotly import tools\n",
    "import pandas as pd\n",
    "init_notebook_mode(connected=True)\n",
    "import scipy.interpolate as interpolate\n",
    "import matplotlib.pyplot as plt\n"
   ]
  },
  {
   "cell_type": "markdown",
   "metadata": {},
   "source": [
    "# Истощение пласта до давления насыщения\n",
    "\n",
    "Уравнение материального баланса для данного случая будет выглядеть следующим образом\n",
    "\n",
    "$$N_p B_o + W_p B_w = N B_{oi} (\\frac {B_o - B_{oi} } {B_{oi} \\Delta p }   + \\frac{c_w S_{wc} + c_f}{1 - S_{wc}}) \\Delta p  $$\n",
    "\n",
    "т.е. для такого режима работа залежи свойственны следующие соотношения:\n",
    "\n",
    "$$ m = 0 $$\n",
    "$$ W_e = 0 $$\n",
    "$$ R_s = R_{si} = R_p $$\n",
    "\n",
    "Также в примере существует упрощение - отсутствие добычи воды:\n",
    "\n",
    "$$ W_p = 0 $$\n",
    "\n",
    "Далее с учетом того, что коэффициент сжимаемости нефти\n",
    "\n",
    "$$ c_o = \\frac {B_o - B_{oi} } {B_{oi} \\Delta p } $$\n",
    "\n",
    "И система является двухфазной:\n",
    "\n",
    "$$ S_o = 1 - S_{wc} $$\n",
    "\n",
    "Уравнение можно упростить до\n",
    "\n",
    "$$N_p B_o + W_p B_w = N B_{oi} c_{eff} \\Delta p  $$\n",
    "\n",
    "В котором эффективная сжимаемость недонасыщенной системы:\n",
    "\n",
    "$$ c_{eff} = \\frac{c_o S_o +  c_w S_{wc} + c_f}{1 - S_{wc}} $$\n",
    "\n",
    "При данных упращениях КИН \n",
    "\n",
    "$$ КИН = \\frac {N}{N_P}$$\n",
    "\n",
    "Может быть выражен следующим  образом:\n",
    "\n",
    "$$ КИН = \\frac {B_{oi} c_{eff} \\Delta p }{B_o}$$\n"
   ]
  },
  {
   "cell_type": "code",
   "execution_count": null,
   "metadata": {},
   "outputs": [],
   "source": [
    "\n",
    "c_oil_1bar = 14.5 * 10 ** (-5)\n",
    "c_wat_1bar = 4.35 * 10 ** (-5)\n",
    "c_res_1bar = 7.25 * 10 ** (-5)\n",
    "\n",
    "p_res_init_bar = 250\n",
    "p_drop_bar = 103\n",
    "t_res_init_c = 80\n",
    "t_res_c = 80\n",
    "S_wat_connate_d = 0.25\n",
    "p_reservoir_bar = pbcal_bar = p_res_init_bar - p_drop_bar\n"
   ]
  },
  {
   "cell_type": "code",
   "execution_count": null,
   "metadata": {},
   "outputs": [],
   "source": [
    "MB_ex1  = MB_module.MatBalance()"
   ]
  },
  {
   "cell_type": "code",
   "execution_count": null,
   "metadata": {},
   "outputs": [],
   "source": [
    "MB_ex1.c_oil_1bar = c_oil_1bar\n",
    "MB_ex1.c_wat_1bar = c_wat_1bar\n",
    "MB_ex1.c_res_1bar = c_res_1bar\n",
    "\n",
    "MB_ex1.t_reservoir_c = t_res_c\n",
    "MB_ex1.t_reservoir_init_c = t_res_init_c\n",
    "MB_ex1.p_reservoir_init_bar = p_res_init_bar\n",
    "MB_ex1.S_wat_connate_d = S_wat_connate_d\n",
    "MB_ex1.fluid.pbcal_bar = pbcal_bar\n"
   ]
  },
  {
   "cell_type": "code",
   "execution_count": null,
   "metadata": {},
   "outputs": [],
   "source": [
    "MB_ex1.calc_depletion_above_pb(p_reservoir_bar)"
   ]
  },
  {
   "cell_type": "code",
   "execution_count": null,
   "metadata": {},
   "outputs": [],
   "source": [
    "MB_ex1.oil_recovery_perc"
   ]
  },
  {
   "cell_type": "markdown",
   "metadata": {},
   "source": [
    "# Режим истощения нефтяной  залежи (замкнутый пласт)\n",
    "\n",
    "Если предположить, что скважина работает с постоянным дебитом в замкнутом пласте - на контуре питания происходит падение давления. Когда пластовое давление выше давление насыщения, газ растворен в нефти, проявляется упругий режим. Когда давление падает ниже давления насыщения, газ выделяется из нефти в отдельную фазу, и расширяясь, начинает более активно поддерживать пластовое давление. \n",
    "\n",
    "Уравнение материального баланса, для данного случая (чисто нефтяная залежь) выражается следующим образом\n",
    "\n",
    "$$ N_p [B_o + (Rp - R_s) B_g] +  N[(B_o - B_oi) + (R_{si} - R_s)B_g] + \\frac{ N B_{oi} (c_w S_{wc} + c_f) \\Delta p }  { 1 - S_{wc} } $$\n"
   ]
  },
  {
   "cell_type": "markdown",
   "metadata": {},
   "source": [
    "# Поиск среднего пластового давления после эксплуатации\n",
    "\n"
   ]
  },
  {
   "cell_type": "code",
   "execution_count": null,
   "metadata": {},
   "outputs": [],
   "source": [
    "p_res_init_bar = 250\n",
    "t_res_init_c = 80\n",
    "r_drainage_m = 250\n",
    "porosity_d = 0.25\n",
    "q_oil_surf_m3day = 50\n",
    "h_eff_res_m = 8\n",
    "c_system_1bar = 7.5 * 10 ** (-5)\n",
    "t_end_year = 1\n",
    "t_step_days = 30.33\n",
    "S_wat_connate_d = 0.25\n",
    "\n",
    "fluid = PVT.FluidStanding()\n",
    "fluid.pbcal_bar = 100\n",
    "fluid.rsb_m3m3 = 100\n",
    "fluid.calc(p_res_init_bar, t_res_init_c)\n",
    "\n",
    "\n",
    "STOIIP_by_VOL_m3 = uc.pi * r_drainage_m ** 2 * h_eff_res_m * porosity_d * (1 - S_wat_connate_d) / fluid.b_oil_m3m3\n",
    "\n",
    "N_cum_oil_recovery_m3 = q_oil_surf_m3day * t_step_days\n",
    "\n",
    "MB = MB_module.MatBalance()\n",
    "MB_data = data_workflow.Data()\n",
    "fluid_data = data_workflow.Data()\n",
    "\n",
    "MB.fluid = fluid\n",
    "MB.rp_m3m3 = MB.fluid.rs_m3m3\n",
    "\n",
    "MB.STOIIP_by_VOL_m3 = STOIIP_by_VOL_m3\n",
    "c_wat_1bar = 4.35 * 10 ** (-5)\n",
    "c_res_1bar = 7.25 * 10 ** (-5)\n",
    "\n",
    "MB.c_wat_1bar = c_wat_1bar\n",
    "MB.c_res_1bar = c_res_1bar\n",
    "\n",
    "MB.t_reservoir_init_c = t_res_init_c\n",
    "MB.p_reservoir_init_bar = p_res_init_bar\n",
    "MB.S_wat_connate_d = S_wat_connate_d\n",
    "\n",
    "for i in range(1, 50):\n",
    "    N_cum_oil_recovery_m3 = q_oil_surf_m3day * t_step_days * i\n",
    "    MB.calc_depletion_above_and_below_pb(N_cum_oil_recovery_m3)\n",
    "    MB_data.get_data(MB)\n",
    "    fluid_data.get_data(MB.fluid)\n"
   ]
  },
  {
   "cell_type": "code",
   "execution_count": null,
   "metadata": {},
   "outputs": [],
   "source": [
    "MB_data.print_all_names()"
   ]
  },
  {
   "cell_type": "code",
   "execution_count": null,
   "metadata": {},
   "outputs": [],
   "source": [
    "fluid_data.print_all_names()"
   ]
  },
  {
   "cell_type": "code",
   "execution_count": null,
   "metadata": {},
   "outputs": [],
   "source": [
    "def trace(data_x, data_y, namexy):\n",
    "    tracep = go.Scattergl(\n",
    "        x = data_x,\n",
    "        y = data_y,\n",
    "        name = namexy,\n",
    "        mode = 'lines'\n",
    "    )\n",
    "    return tracep\n",
    "\n",
    "def plot():\n",
    "    layout = dict(title = 'Расчет материального баланса')\n",
    "\n",
    "    fig = dict(data=data, layout=layout)\n",
    "\n",
    "    iplot(fig, filename='basic-scatter')\n",
    "    \n",
    "def create_traces_list_by_num(data_x_values, data_y, num_y_list):\n",
    "    trace_list = []\n",
    "    for i in num_y_list:\n",
    "        namexy = data_y.get_name(i)\n",
    "        this_trace = trace(data_x_values, data_y.get_values(i), namexy)\n",
    "        trace_list.append(this_trace)\n",
    "    return trace_list\n",
    "\n",
    "def connect_traces(traces1, trace2):\n",
    "    connected_traces = []\n",
    "    for i in traces1:\n",
    "        connected_traces.append(i)\n",
    "    for j in trace2:\n",
    "        connected_traces.append(j)\n",
    "    return connected_traces"
   ]
  },
  {
   "cell_type": "code",
   "execution_count": null,
   "metadata": {},
   "outputs": [],
   "source": [
    "x_data_month = np.asarray(MB_data.get_values(5)) / (q_oil_surf_m3day * t_step_days)\n",
    "#x_data_month = np.asarray(MB_data.get_values(5))"
   ]
  },
  {
   "cell_type": "code",
   "execution_count": null,
   "metadata": {},
   "outputs": [],
   "source": [
    "numbers_fluid_list = [16,26,3]\n",
    "data_trace_fluid = create_traces_list_by_num(x_data_month, fluid_data,  numbers_fluid_list)\n",
    "numbers_MB_list = [3]\n",
    "data_trace_MB = create_traces_list_by_num(x_data_month, MB_data,  numbers_MB_list)\n",
    "data = (connect_traces(data_trace_fluid, data_trace_MB))\n",
    "plot()"
   ]
  },
  {
   "cell_type": "code",
   "execution_count": null,
   "metadata": {},
   "outputs": [],
   "source": [
    "numbers_MB_list = [5,10]\n",
    "data_trace_MB = create_traces_list_by_num(x_data_month, MB_data,  numbers_MB_list)\n",
    "data = data_trace_MB\n",
    "plot()"
   ]
  },
  {
   "cell_type": "code",
   "execution_count": null,
   "metadata": {},
   "outputs": [],
   "source": [
    "numbers_MB_list = [8, 21,25]\n",
    "data_trace_MB = create_traces_list_by_num(x_data_month, MB_data,  numbers_MB_list)\n",
    "data = data_trace_MB\n",
    "plot()"
   ]
  },
  {
   "cell_type": "code",
   "execution_count": null,
   "metadata": {},
   "outputs": [],
   "source": [
    "numbers_MB_list = [28]\n",
    "data_trace_MB = create_traces_list_by_num(x_data_month, MB_data,  numbers_MB_list)\n",
    "data = data_trace_MB\n",
    "plot()"
   ]
  },
  {
   "cell_type": "code",
   "execution_count": null,
   "metadata": {},
   "outputs": [],
   "source": [
    "numbers_MB_list = [18,19,20,22,23,24]\n",
    "data_trace_MB = create_traces_list_by_num(x_data_month, MB_data,  numbers_MB_list)\n",
    "data = data_trace_MB\n",
    "plot()"
   ]
  },
  {
   "cell_type": "code",
   "execution_count": null,
   "metadata": {},
   "outputs": [],
   "source": [
    "numbers_MB_list = [29,30,31,32,33,34]\n",
    "data_trace_MB = create_traces_list_by_num(x_data_month, MB_data,  numbers_MB_list)\n",
    "data = data_trace_MB\n",
    "plot()"
   ]
  }
 ],
 "metadata": {
  "kernelspec": {
   "display_name": "Python 3",
   "language": "python",
   "name": "python3"
  },
  "language_info": {
   "codemirror_mode": {
    "name": "ipython",
    "version": 3
   },
   "file_extension": ".py",
   "mimetype": "text/x-python",
   "name": "python",
   "nbconvert_exporter": "python",
   "pygments_lexer": "ipython3",
   "version": "3.7.6"
  }
 },
 "nbformat": 4,
 "nbformat_minor": 2
}
