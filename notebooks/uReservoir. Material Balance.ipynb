{
 "cells": [
  {
   "cell_type": "code",
   "execution_count": 1,
   "metadata": {},
   "outputs": [],
   "source": [
    "import sys\n",
    "sys.path.append(\"../\")\n",
    "import uniflocpy.uTools.data_workflow as data_workflow\n",
    "import uniflocpy.uReservoir.MatBalance as MB\n",
    "import uniflocpy.uTools.uconst as uc"
   ]
  },
  {
   "cell_type": "code",
   "execution_count": 2,
   "metadata": {},
   "outputs": [],
   "source": [
    "p_res_init_bar = 250\n",
    "r_drainage_m = 250\n",
    "porosity_d = 0.25\n",
    "q_oil_surf_m3day = 50\n",
    "h_eff_res_m = 8\n",
    "c_system_1bar = 7.5 * 10 ** (-5)\n",
    "t_end_year = 1\n",
    "t_step_days = 1\n",
    "\n"
   ]
  },
  {
   "cell_type": "code",
   "execution_count": null,
   "metadata": {},
   "outputs": [],
   "source": []
  },
  {
   "cell_type": "markdown",
   "metadata": {},
   "source": [
    "Depletion above bubble point"
   ]
  },
  {
   "cell_type": "code",
   "execution_count": 3,
   "metadata": {},
   "outputs": [],
   "source": [
    "\n",
    "c_oil_1bar = 14.5 * 10 ** (-5)\n",
    "c_wat_1bar = 4.35 * 10 ** (-5)\n",
    "c_res_1bar = 7.25 * 10 ** (-5)\n",
    "\n",
    "p_res_init_bar = 250\n",
    "p_drop_bar = 103\n",
    "t_res_init_c = 80\n",
    "t_res_c = 80\n",
    "S_wat_connate_d = 0.25\n",
    "p_reservoir_bar = pbcal_bar = p_res_init_bar - p_drop_bar\n"
   ]
  },
  {
   "cell_type": "code",
   "execution_count": 4,
   "metadata": {},
   "outputs": [],
   "source": [
    "MB_ex1  = MB.MatBalance()"
   ]
  },
  {
   "cell_type": "code",
   "execution_count": 5,
   "metadata": {},
   "outputs": [],
   "source": [
    "MB_ex1.c_oil_1bar = c_oil_1bar\n",
    "MB_ex1.c_wat_1bar = c_wat_1bar\n",
    "MB_ex1.c_res_1bar = c_res_1bar\n",
    "\n",
    "MB_ex1.t_reservoir_c = t_res_c\n",
    "MB_ex1.t_reservoir_init_c = t_res_init_c\n",
    "MB_ex1.p_reservoir_init_bar = p_res_init_bar\n",
    "MB_ex1.S_wat_connate_d = S_wat_connate_d\n",
    "MB_ex1.fluid.pbcal_bar = pbcal_bar\n"
   ]
  },
  {
   "cell_type": "code",
   "execution_count": 6,
   "metadata": {},
   "outputs": [],
   "source": [
    "MB_ex1.calc_depletion_above_pb(p_reservoir_bar)"
   ]
  },
  {
   "cell_type": "code",
   "execution_count": 7,
   "metadata": {},
   "outputs": [
    {
     "data": {
      "text/plain": [
       "3.922566415892517"
      ]
     },
     "execution_count": 7,
     "metadata": {},
     "output_type": "execute_result"
    }
   ],
   "source": [
    "MB_ex1.oil_recovery_perc"
   ]
  },
  {
   "cell_type": "code",
   "execution_count": null,
   "metadata": {},
   "outputs": [],
   "source": []
  }
 ],
 "metadata": {
  "kernelspec": {
   "display_name": "Python 3",
   "language": "python",
   "name": "python3"
  },
  "language_info": {
   "codemirror_mode": {
    "name": "ipython",
    "version": 3
   },
   "file_extension": ".py",
   "mimetype": "text/x-python",
   "name": "python",
   "nbconvert_exporter": "python",
   "pygments_lexer": "ipython3",
   "version": "3.7.3"
  }
 },
 "nbformat": 4,
 "nbformat_minor": 2
}
