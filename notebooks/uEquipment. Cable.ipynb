{
 "cells": [
  {
   "cell_type": "markdown",
   "metadata": {},
   "source": [
    "Кобзарь О.С. Хабибуллин Р.А. 2019 г."
   ]
  },
  {
   "cell_type": "markdown",
   "metadata": {},
   "source": [
    "## Модель кабеля по ГОСТ Р 51777-2001 и пример расчета различных параметров"
   ]
  },
  {
   "cell_type": "markdown",
   "metadata": {},
   "source": [
    "##### Конструктивные размеры\n",
    "\n",
    "- $d$,мм - номинальный диаметр токопроводящей жилы\n",
    "\n",
    "- $d_1$,мм - номинальный наружный диаметр первого слоя изоляции жилы\n",
    "\n",
    "- $d_2$,мм -номинальный наружный диаметр второго слоя изоляции жилы \n",
    "\n",
    "- $d_о$,мм - номинальный наружный диаметр оболочки жилы\n",
    "\n",
    "- $d_б$,мм - номинальный наружный диаметр бандажа поверх оболочки жилы \n",
    "\n",
    "- $D_c$,мм - номинальный диаметр по скрутке жил \n",
    "\n",
    "- $D_п$,мм - номинальный наружный диаметр подушки под броней \n",
    "\n",
    "- $D$,мм - максимальный наружный диаметр круглого кабеля\n",
    "\n",
    "- максимальные наружные размеры плоского кабеля: толщина $H$ и ширина $B$, мм\n",
    "\n",
    "##### Общая конструкция\n",
    "<img  src=\"pics/Cable.png\" width=\"600\"  >\n",
    "\n",
    "##### Тепловое сопротивление кабеля\n",
    "$S_k = \\frac{1}{6\\pi}(\\sigma_{и1}ln\\frac{d_1}{d} + \\sigma_{и2}ln\\frac{d_2}{d_1} + \\sigma_oln\\frac{d_o}{d_2} + \\sigma_б ln \\frac{d_б}{d_o}) + \\frac{\\sigma_п}{2\\pi}ln\\frac{D_п}{D_с}$\n",
    "\n",
    "Для кабеля с двухслойной изоляцией жил, оболочками, бандажами поверх оболочек, с подушкой под броней в виде обмоток лентами и/или оплеток.\n",
    "\n",
    "При отсутствии в кабеле одного или нескольких элементов конструкции из формулы исключают соответствующие слагаемые. \n",
    "\n",
    "##### Тепловое сопротивление окружающей среды\n",
    "Тепловое сопротивление в скважинной жидкости нефтяной скважины:\n",
    "\n",
    "а) для круглого кабеля:\n",
    "\n",
    "$S_{ср} = \\frac{1}{2\\pi10^{-1}} [\\sigma_н(\\frac{1}{D} + \\frac{1}{D_{тр}}) + \\frac{\\sigma_в}{D}]$\n",
    "\n",
    "б) для плоского кабеля:\n",
    "\n",
    "$S_{ср} = \\frac{1}{210^{-1}} [\\sigma_н(\\frac{1}{ 1.14H + 2B} + \\frac{1}{\\pi D_{тр}}) + \\frac{\\sigma_в}{1.14H + 2B}]$\n",
    "\n",
    "##### Электрическое сопротивление токопроводящей жилы $R_T$, Ом, при длительно допустимой температуре нагрева жилы:\n",
    "\n",
    "$R_T = R[1 + \\alpha (T-20)]$\n",
    "\n",
    "##### Длительно допустимый тока $I$, А, нагрузки кабеля:\n",
    "\n",
    "$I = \\sqrt\\frac{(T-T_{ср}) * 10^5 } {3(S_к + S_{ср})R_T}$\n",
    "\n",
    "##### Температура кабеля\n",
    "\n",
    "Расчет температуры кабеля при токе $I$, А ведется итерационным методом, используя *scipy.fsolve()* и формулы, описанные выше"
   ]
  },
  {
   "cell_type": "code",
   "execution_count": null,
   "metadata": {},
   "outputs": [],
   "source": [
    "import sys\n",
    "sys.path.append('../')\n",
    "import numpy as np\n",
    "import math\n",
    "import matplotlib.pyplot as plt\n",
    "from scipy.optimize import fsolve\n",
    "import uniflocpy.uTemperature.temp_cable_NS as cb"
   ]
  },
  {
   "cell_type": "markdown",
   "metadata": {},
   "source": [
    "### Анализ чувсвительности для температуры среды"
   ]
  },
  {
   "cell_type": "markdown",
   "metadata": {},
   "source": [
    "Создание экземляра класса"
   ]
  },
  {
   "cell_type": "code",
   "execution_count": null,
   "metadata": {},
   "outputs": [],
   "source": [
    "cable = cb.Cable()"
   ]
  },
  {
   "cell_type": "markdown",
   "metadata": {},
   "source": [
    "Диапазон измерений параметров"
   ]
  },
  {
   "cell_type": "code",
   "execution_count": null,
   "metadata": {},
   "outputs": [],
   "source": [
    "i_a_start = 5\n",
    "i_a_end = 35\n",
    "t_env_c_start = 40\n",
    "t_env_c_end = 120 "
   ]
  },
  {
   "cell_type": "markdown",
   "metadata": {},
   "source": [
    "Расчет через метод класса *calc_t_max_cable_c*"
   ]
  },
  {
   "cell_type": "code",
   "execution_count": null,
   "metadata": {},
   "outputs": [],
   "source": [
    "t_environment_c = []\n",
    "i_cable_a = []\n",
    "t_cable_c = []\n",
    "t_difference_c = []\n",
    "legend_names = []\n",
    "for k in range(i_a_start,i_a_end,5):   \n",
    "    for i in range(t_env_c_start,t_env_c_end,10):\n",
    "        t_cable_c.append(float(cable.calc_t_max_cable_c(i , k)))\n",
    "        t_environment_c.append(i) \n",
    "        t_difference_c.append(float(cable.calc_t_max_cable_c(i , k)) - i)\n",
    "    \n",
    "    legend_name='I, A='+str(k)\n",
    "    legend_names.append(legend_name)\n",
    "    plt.plot(t_environment_c,t_difference_c)\n",
    "    t_environment_c.clear()\n",
    "    t_difference_c.clear()\n",
    "\n",
    "plt.legend(legend_names)\n",
    "plt.xlabel('T среды, град')\n",
    "plt.ylabel('Разница между T среды и кабелем, град')\n",
    "plt.title('Разница температур от силы тока')\n",
    "plt.show()         \n",
    "    \n",
    "    "
   ]
  },
  {
   "cell_type": "markdown",
   "metadata": {},
   "source": [
    "### Анализ чувсвительности для температурного индекса кабеля"
   ]
  },
  {
   "cell_type": "code",
   "execution_count": null,
   "metadata": {},
   "outputs": [],
   "source": [
    "t_environment_c = []\n",
    "i_max_a = []\n",
    "legend_names = []\n",
    "for k in range(120, 180, 20):\n",
    "    for i in range(180):\n",
    "        t_environment_c.append(i)\n",
    "        i_max_a.append((cable.calc_i_max_a(k, i)))\n",
    "\n",
    "    plt.plot(t_environment_c,i_max_a,label='Сила тока от температуры среды')\n",
    "    legend_name='T index, С='+str(k)\n",
    "    legend_names.append(legend_name)\n",
    "    t_environment_c.clear()\n",
    "    i_max_a.clear()\n",
    "    \n",
    "plt.legend(legend_names)\n",
    "plt.xlabel('T среды, град')\n",
    "plt.ylabel('Длительно допустимый ток, А')\n",
    "plt.title('Длительно допустимая сила тока от температурного индекса кабеля ')\n",
    "plt.show()    \n",
    "\n",
    "    "
   ]
  }
 ],
 "metadata": {
  "kernelspec": {
   "display_name": "Python 3",
   "language": "python",
   "name": "python3"
  },
  "language_info": {
   "codemirror_mode": {
    "name": "ipython",
    "version": 3
   },
   "file_extension": ".py",
   "mimetype": "text/x-python",
   "name": "python",
   "nbconvert_exporter": "python",
   "pygments_lexer": "ipython3",
   "version": "3.7.6"
  }
 },
 "nbformat": 4,
 "nbformat_minor": 2
}
