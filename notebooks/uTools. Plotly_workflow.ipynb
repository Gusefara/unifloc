{
 "cells": [
  {
   "cell_type": "markdown",
   "metadata": {},
   "source": [
    "Кобзарь О.С. Хабибуллин Р.А.\n",
    "\n",
    "# Графики через plotly\n",
    "\n",
    "\n",
    "Пару наборов шаблонизированных графиков.\n",
    "\n",
    "Похоже на plotly_express\n",
    "\n",
    "Пример из данных по учебному месторождению №8\n",
    "\n",
    "Можно все запустить, должно отработать на примерах\n",
    "\n",
    "Формат - квадратная таблица, первая колонка - время.\n",
    "\n",
    "Еще формат распространненный - 3 колонки - время, название параметра, значения, парсер для него тоже тут есть"
   ]
  },
  {
   "cell_type": "markdown",
   "metadata": {},
   "source": [
    "Импорт модулей. preproc_tool - для предобработки данных, в том числе переименования параметров, plotly_workflow для построения графиков"
   ]
  },
  {
   "cell_type": "code",
   "execution_count": null,
   "metadata": {},
   "outputs": [],
   "source": [
    "import sys\n",
    "sys.path.append('../')\n",
    "sys.path.append('../../')\n",
    "import sandbox.uTools.preproc_p.preproc_tool as preproc_tool\n",
    "import pandas as pd\n",
    "import sandbox.uTools.plot_workflow.plotly_workflow as plotly_workflow\n",
    "import os"
   ]
  },
  {
   "cell_type": "markdown",
   "metadata": {},
   "source": [
    "Вид формата данных. Все .csv, первая колонка 'Время'"
   ]
  },
  {
   "cell_type": "code",
   "execution_count": null,
   "metadata": {},
   "outputs": [],
   "source": [
    "file = pd.read_csv('data/plotly_workflow_example_data.csv', index_col = [0], parse_dates=True,dayfirst=True )\n",
    "file = file.sort_index()\n",
    "file.head()"
   ]
  },
  {
   "cell_type": "markdown",
   "metadata": {},
   "source": [
    "Список событий - одно событие как левая и правая граница - для выделения на графике"
   ]
  },
  {
   "cell_type": "code",
   "execution_count": null,
   "metadata": {},
   "outputs": [],
   "source": [
    "event_borders = [[file.index[0], file.index[12]], \n",
    "                 [file.index[-1], file.index[-2]]]"
   ]
  },
  {
   "cell_type": "markdown",
   "metadata": {},
   "source": [
    "Графики строятся через банчи. на одном графике может быть несколько кривых по формату  {'Название графика №1': ['Название параметра 1','Название параметра 2' ]}. Здесь функция частного случая для всех графиков в df."
   ]
  },
  {
   "cell_type": "code",
   "execution_count": null,
   "metadata": {},
   "outputs": [],
   "source": [
    "def create_banches_for_report(df, parameters_list):\n",
    "    all_banches = []\n",
    "    for i in parameters_list:\n",
    "        if i in df.columns:\n",
    "            test_df = df.dropna(subset = [i])\n",
    "            if test_df.shape[0] > 0:\n",
    "                one_banch = {i:[i]}\n",
    "                all_banches.append(one_banch)\n",
    "    return all_banches"
   ]
  },
  {
   "cell_type": "markdown",
   "metadata": {},
   "source": [
    "Список параметров (столбцов) для графика."
   ]
  },
  {
   "cell_type": "code",
   "execution_count": null,
   "metadata": {},
   "outputs": [],
   "source": [
    "parameters_list = list(file.columns)[0:10]"
   ]
  },
  {
   "cell_type": "markdown",
   "metadata": {},
   "source": [
    "Банчи"
   ]
  },
  {
   "cell_type": "code",
   "execution_count": null,
   "metadata": {},
   "outputs": [],
   "source": [
    "all_banches = create_banches_for_report(file, parameters_list)"
   ]
  },
  {
   "cell_type": "markdown",
   "metadata": {},
   "source": [
    "Построение графиков для df с событиями"
   ]
  },
  {
   "cell_type": "code",
   "execution_count": null,
   "metadata": {},
   "outputs": [],
   "source": [
    "plotly_workflow.create_report_html(file, all_banches, 'test.html',\n",
    "                           auto_open = True, layout_height=250, vertical_spacing=0.025, borders=event_borders)"
   ]
  },
  {
   "cell_type": "markdown",
   "metadata": {},
   "source": [
    "Для более точного построения нужно переименовать столбцы и привести названия к единому формату"
   ]
  },
  {
   "cell_type": "code",
   "execution_count": null,
   "metadata": {},
   "outputs": [],
   "source": [
    "gn = preproc_tool.GlobalNames()"
   ]
  },
  {
   "cell_type": "code",
   "execution_count": null,
   "metadata": {},
   "outputs": [],
   "source": [
    "file = preproc_tool.rename_columns_by_dict(file)"
   ]
  },
  {
   "cell_type": "markdown",
   "metadata": {},
   "source": [
    "Теперь можно не ошибаться с названиями параметров, а вызывать нужный параметр через переменные"
   ]
  },
  {
   "cell_type": "code",
   "execution_count": null,
   "metadata": {},
   "outputs": [],
   "source": [
    "#parameters_list = [gn.freq_hz,  gn.work_status_number,gn.i_a_motor_a,  gn.motor_load_perc,\n",
    "#                   gn.p_intake_atm, gn.t_intake_c, gn.t_motor_c, gn.active_power_kwt, gn.cos_phi_d, gn.vibration_xy_msec2, \n",
    "#                   gn.vibration_z_msec2, 'Вибрация']"
   ]
  },
  {
   "cell_type": "code",
   "execution_count": null,
   "metadata": {},
   "outputs": [],
   "source": [
    "for i in file.columns:\n",
    "    print(i)"
   ]
  },
  {
   "cell_type": "code",
   "execution_count": null,
   "metadata": {},
   "outputs": [],
   "source": [
    "parameters_list = ['OIL_RATE', 'LIQ_RATE', 'WATER_CUT']"
   ]
  },
  {
   "cell_type": "code",
   "execution_count": null,
   "metadata": {},
   "outputs": [],
   "source": [
    "all_banches = create_banches_for_report(file, parameters_list)"
   ]
  },
  {
   "cell_type": "code",
   "execution_count": null,
   "metadata": {},
   "outputs": [],
   "source": [
    "plotly_workflow.create_report_html(file, all_banches, 'test.html',\n",
    "                           auto_open = True, layout_height=250, vertical_spacing=0.025, borders=event_borders)"
   ]
  },
  {
   "cell_type": "markdown",
   "metadata": {},
   "source": [
    "Дополнительно о работе с банчами"
   ]
  },
  {
   "cell_type": "code",
   "execution_count": null,
   "metadata": {},
   "outputs": [],
   "source": [
    "all_banches = [ {'Дебиты': ['OIL_RATE', 'LIQ_RATE']}, \n",
    "               {'Обводненность и ГФ': [ 'WATER_CUT', 'GAS_FACTOR']},]"
   ]
  },
  {
   "cell_type": "code",
   "execution_count": null,
   "metadata": {},
   "outputs": [],
   "source": [
    "plotly_workflow.create_report_html(file, all_banches, 'test.html',\n",
    "                           auto_open = True, layout_height=250, vertical_spacing = None, borders=event_borders)"
   ]
  },
  {
   "cell_type": "markdown",
   "metadata": {},
   "source": [
    "Быстрое построение графиков\n",
    "\n",
    "Все графики на двух сабплотах, можно выбирать вручную."
   ]
  },
  {
   "cell_type": "code",
   "execution_count": null,
   "metadata": {},
   "outputs": [],
   "source": [
    "traces = plotly_workflow.create_traces_list_for_all_columms(file, \n",
    "                                                         'lines+markers',\n",
    "                                                         use_gl = True)\n",
    "plotly_workflow.plot_subplots(traces,  \"test.html\",\n",
    "                      two_equal_subplots = True, auto_open = True)"
   ]
  },
  {
   "cell_type": "markdown",
   "metadata": {},
   "source": [
    "Графики в ноутбуке"
   ]
  },
  {
   "cell_type": "code",
   "execution_count": null,
   "metadata": {},
   "outputs": [],
   "source": [
    "traces = plotly_workflow.create_traces_list_for_all_columms(file[file.columns[0:5]], chosen_mode='lines+markers',\n",
    "    use_gl=True)\n"
   ]
  },
  {
   "cell_type": "code",
   "execution_count": null,
   "metadata": {},
   "outputs": [],
   "source": [
    "plotly_workflow.plot_func(traces, iplot_option = True, plot_title_str='Check')"
   ]
  },
  {
   "cell_type": "markdown",
   "metadata": {},
   "source": [
    "Поиск всех файликов в папке, для которых нужно построить графики"
   ]
  },
  {
   "cell_type": "code",
   "execution_count": null,
   "metadata": {},
   "outputs": [],
   "source": [
    "files = preproc_tool.find_full_path_by_pattern(os.getcwd(), '*esp_ongkm\\\\*', '.xlsx')"
   ]
  },
  {
   "cell_type": "markdown",
   "metadata": {},
   "source": [
    "Тут формат нестандартный, приведем к квадратному (шахматкоподобному) виду. Для всех файликов график в виде раздельных subplots"
   ]
  },
  {
   "cell_type": "code",
   "execution_count": null,
   "metadata": {},
   "outputs": [],
   "source": [
    "for i in files:\n",
    "    print(i)\n",
    "    file = preproc_tool.parse_standart_file(i, time_column_name = 'DT', \n",
    "                                            param_name_column_name='LONG_NAME',\n",
    "                                            value_column_name='VAL')\n",
    "    all_banches = create_banches_for_report(file, list(file.columns))\n",
    "    html_name = i.replace('xlsx', 'html')\n",
    "    plotly_workflow.create_report_html(file, all_banches, html_name,\n",
    "                           auto_open = True, layout_height=250, vertical_spacing=None, borders=[])\n",
    "    \n",
    "    \n",
    "    "
   ]
  },
  {
   "cell_type": "markdown",
   "metadata": {},
   "source": [
    "Тут в виде совмещенных двух сабплотах"
   ]
  },
  {
   "cell_type": "code",
   "execution_count": null,
   "metadata": {},
   "outputs": [],
   "source": [
    "for i in files:\n",
    "    file = preproc_tool.parse_standart_file(i, time_column_name = 'DT', \n",
    "                                            param_name_column_name='LONG_NAME',\n",
    "                                            value_column_name='VAL')\n",
    "    all_banches = create_banches_for_report(file, list(file.columns))\n",
    "    html_name = i.replace('.xlsx', '_subplots.html')\n",
    "    traces = plotly_workflow.create_traces_list_for_all_columms(file, \n",
    "                                                         'lines+markers',\n",
    "                                                         use_gl = True)\n",
    "    plotly_workflow.plot_subplots(traces,  html_name,\n",
    "                          two_equal_subplots = True, auto_open = False)"
   ]
  }
 ],
 "metadata": {
  "kernelspec": {
   "display_name": "Python 3",
   "language": "python",
   "name": "python3"
  },
  "language_info": {
   "codemirror_mode": {
    "name": "ipython",
    "version": 3
   },
   "file_extension": ".py",
   "mimetype": "text/x-python",
   "name": "python",
   "nbconvert_exporter": "python",
   "pygments_lexer": "ipython3",
   "version": "3.7.6"
  }
 },
 "nbformat": 4,
 "nbformat_minor": 2
}
