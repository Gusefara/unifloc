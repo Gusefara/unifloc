{
 "cells": [
  {
   "cell_type": "markdown",
   "metadata": {},
   "source": [
    "Кобзарь О.С. Хабибуллин Р.А. 2019 г.\n",
    "\n",
    "# Модель фонтанирующей скважины"
   ]
  },
  {
   "cell_type": "code",
   "execution_count": null,
   "metadata": {},
   "outputs": [],
   "source": [
    "import sys\n",
    "sys.path.append('../')\n",
    "\n",
    "import uniflocpy.uWell.deviation_survey as dev_sev\n",
    "import uniflocpy.uTools.data_workflow as utool\n",
    "import uniflocpy.uTools.uconst as uconst\n",
    "import uniflocpy.uWell.uPipe as Pipe\n",
    "import uniflocpy.uWell.Self_flow_well as self_flow_well\n",
    "import plotly.graph_objs as go\n",
    "import numpy as np\n",
    "from plotly.offline import download_plotlyjs, init_notebook_mode, plot, iplot\n",
    "from plotly import tools\n",
    "import pandas as pd\n",
    "init_notebook_mode(connected=True)\n",
    "import scipy.interpolate as interpolate\n",
    "import matplotlib.pyplot as plt\n",
    "data = utool.Data()\n",
    "from uniflocpy.uTools import plotly_workflow\n",
    "import re\n",
    "import uniflocpy.uPVT.BlackOil_model as BlackOil_model\n",
    "import uniflocpy.uTemperature as uTemperature\n",
    "import uniflocpy.uReservoir.IPR_simple_line as IPR_simple_line\n",
    "import uniflocpy.uTools.plotly_workflow as plotly_workflow \n",
    "import uniflocpy.uValidation.python_api as python_api\n",
    "import uniflocpy.uValidation.by_UniflocVBA as bvba"
   ]
  },
  {
   "cell_type": "markdown",
   "metadata": {},
   "source": [
    "## Настройки расчета"
   ]
  },
  {
   "cell_type": "code",
   "execution_count": null,
   "metadata": {},
   "outputs": [],
   "source": [
    "calc_options ={\"step_lenth_in_calc_along_wellbore_m\":25,\n",
    "                \"without_annulus_space\":False,\n",
    "                \"solver_using\":True}"
   ]
  },
  {
   "cell_type": "markdown",
   "metadata": {},
   "source": [
    "## Данные по скважинам"
   ]
  },
  {
   "cell_type": "markdown",
   "metadata": {},
   "source": [
    "Скв. 2Ф Исследование 5РМ"
   ]
  },
  {
   "cell_type": "code",
   "execution_count": null,
   "metadata": {},
   "outputs": [],
   "source": [
    "fluid_data = {\"rsb_m3m3\" : 56,\n",
    "\"gamma_oil\" : 0.86,\n",
    " \"gamma_gas\" : 1.45  * 24.05 / 28.98,\n",
    "'pb_bar': 90}\n",
    "\n",
    "well_data = {\"h_intake_mes_m\" :1205.5,\n",
    "\"h_intake_vert_m\" : 1205.5,\n",
    "\"h_bottomhole_mes_m\" : 1605, \n",
    "\"h_bottomhole_vert_m\": 1605,\n",
    "             \n",
    "\"geothermal_grad_cm\":0.02,\n",
    "\"t_wellhead_c\":20,\n",
    "\"t_bottomhole_c\" :40,\n",
    "\"t_earth_init_in_reservoir_c\" : 40,\n",
    "'p_bottomhole_bar': 114.35, \n",
    "\"d_casing_inner_m\" : 0.133,\n",
    "\"d_tube_inner_m\" : 0.0503,\n",
    "\"qliq_on_surface_m3day\":40,\n",
    "\"p_reservoir_bar\":177,\n",
    "\"fw_on_surface_perc\":0}\n",
    "real_measurements = pd.DataFrame({'p_survey_mpa': [0.9, 1.12, 1.83, 2.957, 4.355, 5.785, 7.3, 8.953, 9.863, 10.176, 11.435],\n",
    "                                 'h_mes_survey_m': [0, 105, 305, 505, 705, 905, 1105, 1305, 1405, 1505, 1605]})"
   ]
  },
  {
   "cell_type": "markdown",
   "metadata": {},
   "source": [
    "## Настройка модели скважины и расчет"
   ]
  },
  {
   "cell_type": "markdown",
   "metadata": {},
   "source": [
    "Создадим объект - скважину"
   ]
  },
  {
   "cell_type": "code",
   "execution_count": null,
   "metadata": {},
   "outputs": [],
   "source": [
    "\n",
    "simple_well = self_flow_well.self_flow_well(fluid=1, reservoir = 0, pipe=0, temp_corr=1, **fluid_data,\n",
    "                                                **well_data, **calc_options, activate_rus_mode = 0)\n",
    "    "
   ]
  },
  {
   "cell_type": "markdown",
   "metadata": {},
   "source": [
    "Настроим модель"
   ]
  },
  {
   "cell_type": "code",
   "execution_count": null,
   "metadata": {},
   "outputs": [],
   "source": [
    "simple_well.pipe.hydr_cor.pains_corr_using =0\n",
    "simple_well.pipe.hydr_cor.gravity_grad_coef =0.985\n",
    "simple_well.pipe.hydr_cor.friction_grad_coef =1"
   ]
  },
  {
   "cell_type": "code",
   "execution_count": null,
   "metadata": {},
   "outputs": [],
   "source": [
    "blackoil_option = BlackOil_model.BlackOil_option()\n",
    "blackoil_option.set_vba_preset()\n",
    "simple_well.pipe.fluid_flow.fl.option = blackoil_option\n",
    "\n",
    "simple_well.pipe.fluid_flow.calc_with_temp_cor = 0 #0 - для линейного распределения температуры,\n",
    "                                                    #для Hasan и Kabir нужно, ставить 1\n",
    "                                                    #0 - ускоряет расчет"
   ]
  },
  {
   "cell_type": "markdown",
   "metadata": {},
   "source": [
    "Запустим расчет снизу вверху (система скважина + пласт)"
   ]
  },
  {
   "cell_type": "code",
   "execution_count": null,
   "metadata": {},
   "outputs": [],
   "source": [
    "simple_well.calc_all_from_down_to_up()"
   ]
  },
  {
   "cell_type": "code",
   "execution_count": null,
   "metadata": {},
   "outputs": [],
   "source": [
    "#simple_well.calc_all_from_up_to_down() можно рассчитывать и сверху-вниз"
   ]
  },
  {
   "cell_type": "markdown",
   "metadata": {},
   "source": [
    "## Выгрузка расчитанных значений из модели скважины и объединение с фактическими данными"
   ]
  },
  {
   "cell_type": "markdown",
   "metadata": {},
   "source": [
    "Создадим 2 DataFrame, один с индексов - измеренная глубина, другой - давление"
   ]
  },
  {
   "cell_type": "code",
   "execution_count": null,
   "metadata": {},
   "outputs": [],
   "source": [
    "result_df = simple_well.data.get_data_as_df()\n",
    "result_df = result_df.set_index('well.h_calculated_mes_m')"
   ]
  },
  {
   "cell_type": "code",
   "execution_count": null,
   "metadata": {},
   "outputs": [],
   "source": [
    "result_df_p = simple_well.data.get_data_as_df()\n",
    "result_df_p = result_df_p.set_index('well.p_calculated_bar')"
   ]
  },
  {
   "cell_type": "markdown",
   "metadata": {},
   "source": [
    "Выгрузка ограниченного набора данных в файл Excel"
   ]
  },
  {
   "cell_type": "code",
   "execution_count": null,
   "metadata": {},
   "outputs": [],
   "source": [
    "group_patterns = [['p_calculated_bar'], ['t_calculated'],['gas_fraction'], ['rhon'], ['mun'], ['density'], \n",
    "                  ['friction_grad'], ['number_re'], ['pb_bar'], ['fluid_flow', 'msec'], ['vsl'], ['vsg'], ['result_grad'], \n",
    "                  ['acceleration'], ['rsb_m3t'], ['gas_liberated_m3t'], ['gas_dissolved_m3t'],\n",
    "                 ['b_oil_m3m3'], ['rho_oil_kgm3'], ['mu_oil_cp'],['fl.z'], ['rho_gas_dissolved_relative_d']]\n",
    "antipatterns = ['temp_cor', 'dvdp', 'grad_coef', 'module_friction', 'grad_using', 'for_rus_cor']\n",
    "print_all = True\n",
    "columns_to_plot = plotly_workflow.create_columns_to_plot(result_df, group_patterns, antipatterns, print_all)\n",
    "short_df = result_df[columns_to_plot]\n",
    "short_df = utool.rename_columns_by_dict(short_df)\n",
    "\n",
    "class_names = ['hydr_cor.', 'temp_cor.', 'fl.', 'fluid_flow.', 'well.', 'earth']\n",
    "for i in class_names:\n",
    "    short_df = utool.rename_columns_by_dict(short_df,{'':i})\n",
    "short_df.index.name = 'Измеренная глубина, м'\n",
    "short_df.to_excel('uvalidation_self_flow_well_short_result.xlsx')"
   ]
  },
  {
   "cell_type": "markdown",
   "metadata": {},
   "source": [
    "Добавление результатов фактических исследований"
   ]
  },
  {
   "cell_type": "code",
   "execution_count": null,
   "metadata": {},
   "outputs": [],
   "source": [
    "real_measurements[\"p_survey_bar\"] = real_measurements[\"p_survey_mpa\"] * 10\n",
    "real_measurements = real_measurements.set_index(real_measurements['h_mes_survey_m'])\n",
    "real_measurements.index.name = 'well.h_calculated_mes_m'\n",
    "\n",
    "result_df = result_df.join(real_measurements, how = 'outer')"
   ]
  },
  {
   "cell_type": "markdown",
   "metadata": {},
   "source": [
    "Расчет относительной ошибки по давлению на устьес скважины"
   ]
  },
  {
   "cell_type": "code",
   "execution_count": null,
   "metadata": {},
   "outputs": [],
   "source": [
    "(real_measurements[\"p_survey_bar\"][0] - simple_well.p_wellhead_bar) / real_measurements[\"p_survey_bar\"][0] * 100"
   ]
  },
  {
   "cell_type": "markdown",
   "metadata": {},
   "source": [
    "## Построение графиков"
   ]
  },
  {
   "cell_type": "code",
   "execution_count": null,
   "metadata": {},
   "outputs": [],
   "source": [
    "group_patterns = [[\"p_bar\", 'fl'], ['t_c', 'fl'], ['well.t_calculated_earth_init'], ['survey'], ['p_calculated_bar_vba'], ['t_calculated_c_vba']]\n",
    "antipatterns = ['mu', 'h_mes_survey', 'mpa', 'fl.']\n",
    "plotly_workflow.plot_by_patterns(result_df, group_patterns, antipatterns, plot_name='Распределение свойств по глубине',\n",
    "                                 print_all=False)"
   ]
  },
  {
   "cell_type": "code",
   "execution_count": null,
   "metadata": {},
   "outputs": [],
   "source": [
    "group_patterns = [[\"p_calculated_bar\"], ['p_survey']]\n",
    "antipatterns = ['mu', 'h_mes_survey', 'mpa','fl','ipr']\n",
    "plotly_workflow.plot_by_patterns(result_df, group_patterns, antipatterns, plot_name='КРД',\n",
    "                                 print_all=False,\n",
    "                                x_name='Давление, бар',\n",
    "    y_name='Глубина, м',\n",
    "    traces_names=['Расчет КРД по Беггз Брилл', 'Факт КРД'])"
   ]
  },
  {
   "cell_type": "code",
   "execution_count": null,
   "metadata": {},
   "outputs": [],
   "source": [
    "group_patterns = [[\"liquid_holdup\"], ['fluid_flow.liquid_content']]\n",
    "antipatterns = ['tpb', 'well_profile']\n",
    "plotly_workflow.plot_by_patterns(result_df, group_patterns, antipatterns,plot_name='Истинное и расходное содержание жидкости',\n",
    "                                 x_name = 'д.ед.', \n",
    "                                y_name = 'Глубина вдоль ствола скважины, м',\n",
    "                                traces_names = [\n",
    "                                               'Истинная доля жидкости в потоке ГЖС',\n",
    "                                                'Расходная доля жидкости в потоке ГЖС'\n",
    "                                               ])"
   ]
  },
  {
   "cell_type": "code",
   "execution_count": null,
   "metadata": {},
   "outputs": [],
   "source": [
    "plotly_workflow.plot_by_patterns(result_df_p,  [['rho_oil_kgm3']], ['cor_number', 'cal'], swap_xy=False, reversed_y=False, \n",
    "                                 plot_name='Плотность газонасыщенной нефти',\n",
    "                                 x_name = 'Давление, бар', \n",
    "                                y_name = 'Плотность, кг/м3',\n",
    "                                traces_names = [\n",
    "                                               'Плотность, кг/м3',\n",
    "                                               ]\n",
    "                                )"
   ]
  },
  {
   "cell_type": "code",
   "execution_count": null,
   "metadata": {},
   "outputs": [],
   "source": [
    "group_patterns = [[\"liberated_gas_sc_m3m3\"],['dissolved_gas_sc_m3m3']]\n",
    "antipatterns = ['tpb', 'number']\n",
    "plotly_workflow.plot_by_patterns(result_df_p, group_patterns, antipatterns,\n",
    "                                 print_all=False, swap_xy=False, reversed_y=False,\n",
    "                                plot_name='Удельный объем выделившегося и растворенного газа',\n",
    "                                x_name = 'Давление, бар', \n",
    "                                y_name = 'м3/м3',\n",
    "                                traces_names = [\n",
    "                                               'Удельный объем выделившегося газа, м3/м3',\n",
    "                                    'Удельный объем растворенного газа, м3/м3'\n",
    "                                               ])"
   ]
  },
  {
   "cell_type": "code",
   "execution_count": null,
   "metadata": {},
   "outputs": [],
   "source": [
    "result_df_phi = result_df_p.copy()\n",
    "result_df_phi = result_df_phi.set_index('fluid_flow.gas_fraction_d')\n",
    "group_patterns = [[\"gas_fraction_real_d\"]]\n",
    "antipatterns = ['tpb', 'number']\n",
    "plotly_workflow.plot_by_patterns(result_df_phi, group_patterns, antipatterns,\n",
    "                                 print_all=False, swap_xy=False, reversed_y=False,\n",
    "                                plot_name='Истинная доля газа от расходной',\n",
    "                                x_name = 'Расходная доля газа, д.ед. (Без учета проскальзывания св. газа)', \n",
    "                                y_name = 'Истинная доля газа, д.ед. (с учетом проскальзывания св. газа)',\n",
    "                                traces_names = [\n",
    "                                               'Вязкость нефти, сПуаз',\n",
    "                                               ])"
   ]
  },
  {
   "cell_type": "markdown",
   "metadata": {},
   "source": [
    "Конструкция скважины"
   ]
  },
  {
   "cell_type": "code",
   "execution_count": null,
   "metadata": {},
   "outputs": [],
   "source": [
    "trace1 = go.Scatter3d(\n",
    "    x=simple_well.well_profile.x_displacement_m,\n",
    "    y=simple_well.well_profile.x_displacement_m * 0,\n",
    "    z=simple_well.well_profile.h_vert_m * (-1),  # перевод в альтитуду,\n",
    "    marker=dict(\n",
    "        size=4,\n",
    "        colorscale='Viridis',\n",
    "    ),\n",
    "    name = 'Построенный профиль',\n",
    "    )\n",
    "\n",
    "trace2 = go.Scatter3d(\n",
    "    x=simple_well.well_profile.get_x_displacement_m(simple_well.well_profile.h_mes_init_data_for_interpolation_m),\n",
    "    y=simple_well.well_profile.get_x_displacement_m(simple_well.well_profile.h_mes_init_data_for_interpolation_m) * 0,\n",
    "    z=simple_well.well_profile.h_vert_init_data_for_interpolation_m * (-1),\n",
    "    mode = 'markers',\n",
    "    marker = dict(\n",
    "        size=10\n",
    "    ),\n",
    "    name = 'Исходные точки',\n",
    "    )\n",
    "\n",
    "data = [trace1, trace2]\n",
    "\n",
    "\n",
    "layout = dict(title = '3D профиль простой скважины',  yaxis=dict(autorange='reversed'))\n",
    "fig = dict(data=data, layout=layout)\n",
    "iplot(fig, filename='simple-3d-scatter')"
   ]
  },
  {
   "cell_type": "markdown",
   "metadata": {},
   "source": [
    "## Встроенный блок многовариативного анализа\n",
    "\n",
    "Для данной адаптированной скважины при той же IPR меняем дебиты и рассчитываем несколько раз снизу-вверх"
   ]
  },
  {
   "cell_type": "code",
   "execution_count": null,
   "metadata": {},
   "outputs": [],
   "source": [
    "results = []\n",
    "for i in range(10, int(well_data['qliq_on_surface_m3day'] * 1.35), int((well_data['qliq_on_surface_m3day'] * 1.35 - 10) / 5) ):\n",
    "    print(i)\n",
    "    simple_well.data.clear_data()\n",
    "    simple_well.qliq_on_surface_m3day = i\n",
    "    simple_well.calc_all_from_down_to_up()\n",
    "    this_result_df = simple_well.data.get_data_as_df()\n",
    "    this_result_df = this_result_df.set_index('well.h_calculated_mes_m')\n",
    "    results.append(this_result_df)\n",
    "    \n",
    "    this_result_df = this_result_df.add_prefix(f\"qliq_m3day: {i}, \")\n",
    "    try:\n",
    "        result_df_to_plot = result_df_to_plot.join(this_result_df)\n",
    "    except:\n",
    "        result_df_to_plot = this_result_df.copy()"
   ]
  },
  {
   "cell_type": "markdown",
   "metadata": {},
   "source": [
    "Сохраняем результаты"
   ]
  },
  {
   "cell_type": "code",
   "execution_count": null,
   "metadata": {},
   "outputs": [],
   "source": [
    "result_df_analysis = None\n",
    "for i in results:\n",
    "    qliq_on_surface_m3day = i['well.qliq_on_surface_m3day'][0]\n",
    "    this_df = pd.DataFrame({'well.p_bottomhole_bar': i['well.p_bottomhole_bar'][0],\n",
    "                           'ipr.p_reservoir_bar': i['ipr.p_reservoir_bar'][0],\n",
    "                           'well.p_calculated_bar': i['well.p_calculated_bar'][0],\n",
    "                           'p_wellhead_bar': real_measurements['p_survey_mpa'][0]*10}, index = [qliq_on_surface_m3day])\n",
    "    try:\n",
    "        result_df_analysis = result_df_analysis.append(this_df)\n",
    "    except:\n",
    "        result_df_analysis = this_df.copy()"
   ]
  },
  {
   "cell_type": "code",
   "execution_count": null,
   "metadata": {},
   "outputs": [],
   "source": [
    "patterns = [[x] for x in result_df_analysis.columns]\n",
    "plotly_workflow.plot_by_patterns(result_df_analysis, patterns, [], plot_name='Определение максимального дебита скважины',\n",
    "                                 print_all=False, swap_xy=False, reversed_y=False,\n",
    "                                x_name='Дебит жидкости, м3/сут',\n",
    "    y_name='Давление, бар',\n",
    "    traces_names=['Давление на забое скважины, бар',\n",
    "                 'Пластовое давление, бар',\n",
    "                 'Устьевое давление, бар',\n",
    "                 'Устевое давление по тех.режиму'])"
   ]
  },
  {
   "cell_type": "markdown",
   "metadata": {},
   "source": [
    "Результаты по одной скважине из рассчитанных для последующего построения графиков"
   ]
  },
  {
   "cell_type": "code",
   "execution_count": null,
   "metadata": {},
   "outputs": [],
   "source": [
    "result_df = results[0]"
   ]
  },
  {
   "cell_type": "markdown",
   "metadata": {},
   "source": [
    "Результаты расчета для разных дебитов в одном DataFrame для последующего построения графиков"
   ]
  },
  {
   "cell_type": "code",
   "execution_count": null,
   "metadata": {},
   "outputs": [],
   "source": [
    "result_df = result_df_to_plot"
   ]
  },
  {
   "cell_type": "markdown",
   "metadata": {},
   "source": [
    "## Продолжение построения распределения свойств по глубине для выбранной скважины / нескольких скважин"
   ]
  },
  {
   "cell_type": "markdown",
   "metadata": {},
   "source": [
    "### Название всех сохраненных параметров для выбора или не выбора их при построении графиков"
   ]
  },
  {
   "cell_type": "code",
   "execution_count": null,
   "metadata": {},
   "outputs": [],
   "source": [
    "for i in result_df.columns:\n",
    "    print(i)"
   ]
  },
  {
   "cell_type": "code",
   "execution_count": null,
   "metadata": {},
   "outputs": [],
   "source": [
    "group_patterns = [\"liquid_holdup\"]\n",
    "antipatterns = ['tpb', 'well_profile']\n",
    "plotly_workflow.plot_by_patterns(result_df, group_patterns, antipatterns, plot_name='Распределение свойств по глубине',\n",
    "                                 print_all=False)"
   ]
  },
  {
   "cell_type": "code",
   "execution_count": null,
   "metadata": {},
   "outputs": [],
   "source": [
    "group_patterns = [[\"p_calculated_bar\"]]\n",
    "antipatterns = ['mu', 'h_mes_survey', 'mpa','fl','ipr']\n",
    "plotly_workflow.plot_by_patterns(result_df, group_patterns, antipatterns, plot_name='Расчет КРД',\n",
    "                                 print_all=False,\n",
    "                                x_name='Давление, бар',\n",
    "    y_name='Глубина, м',\n",
    "    traces_names=['КРД при Q=10 м3/сут', 'КРД при Q=18 м3/сут',\n",
    "                 'КРД при Q=26 м3/сут','КРД при Q=34 м3/сут','КРД при Q=42 м3/сут', 'КРД при Q=50 м3/сут']\n",
    "                                )"
   ]
  }
 ],
 "metadata": {
  "kernelspec": {
   "display_name": "Python 3",
   "language": "python",
   "name": "python3"
  },
  "language_info": {
   "codemirror_mode": {
    "name": "ipython",
    "version": 3
   },
   "file_extension": ".py",
   "mimetype": "text/x-python",
   "name": "python",
   "nbconvert_exporter": "python",
   "pygments_lexer": "ipython3",
   "version": "3.7.6"
  }
 },
 "nbformat": 4,
 "nbformat_minor": 2
}
