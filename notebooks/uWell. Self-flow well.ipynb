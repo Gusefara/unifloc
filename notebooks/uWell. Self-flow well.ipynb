{
 "cells": [
  {
   "cell_type": "markdown",
   "metadata": {},
   "source": [
    "Кобзарь О.С. Хабибуллин Р.А. 2019 г.\n",
    "\n",
    "# Модель фонтанирующей скважины"
   ]
  },
  {
   "cell_type": "markdown",
   "metadata": {},
   "source": []
  },
  {
   "cell_type": "code",
   "execution_count": null,
   "metadata": {},
   "outputs": [],
   "source": [
    "import sys\n",
    "sys.path.append('../')\n",
    "\n",
    "import uniflocpy.uWell.deviation_survey as dev_sev\n",
    "import uniflocpy.uTools.data_workflow as utool\n",
    "import uniflocpy.uWell.uPipe as Pipe\n",
    "import uniflocpy.uWell.Self_flow_well as self_flow_well\n",
    "import plotly.plotly as py\n",
    "import plotly.graph_objs as go\n",
    "import numpy as np\n",
    "from plotly.offline import download_plotlyjs, init_notebook_mode, plot, iplot\n",
    "from plotly import tools\n",
    "import pandas as pd\n",
    "init_notebook_mode(connected=True)\n",
    "import scipy.interpolate as interpolate\n",
    "import matplotlib.pyplot as plt\n"
   ]
  },
  {
   "cell_type": "code",
   "execution_count": null,
   "metadata": {},
   "outputs": [],
   "source": [
    "simple_well = self_flow_well.self_flow_well(h_intake_mes_m=1200,h_intake_vert_m=1000,\n",
    "                                            h_bottomhole_mes_m=2500,h_bottomhole_vert_m=1500,\n",
    "                                            t_earth_init_in_reservoir_c=70, t_bottomhole_c=72,\n",
    "                                            p_bottomhole_bar=140)\n",
    "simple_well.well_work_time_sec = 24 * 60 * 60"
   ]
  },
  {
   "cell_type": "code",
   "execution_count": null,
   "metadata": {},
   "outputs": [],
   "source": [
    "simple_well.calc_all_from_down_to_up()"
   ]
  },
  {
   "cell_type": "code",
   "execution_count": null,
   "metadata": {},
   "outputs": [],
   "source": [
    "simple_well.data.print_all_names()"
   ]
  },
  {
   "cell_type": "code",
   "execution_count": null,
   "metadata": {},
   "outputs": [],
   "source": [
    "def trace(data_x, data_y, namexy):\n",
    "    tracep = go.Scattergl(\n",
    "        x = data_x,\n",
    "        y = data_y,\n",
    "        name = namexy,\n",
    "        mode = 'lines'\n",
    "    )\n",
    "    return tracep\n",
    "\n",
    "def plot():\n",
    "    layout = dict(title = 'Расчет фонтанирующей скважины',  yaxis=dict(title = 'Измеренная глубина, м', autorange='reversed'))\n",
    "\n",
    "    fig = dict(data=data, layout=layout)\n",
    "\n",
    "    iplot(fig, filename='basic-scatter')"
   ]
  },
  {
   "cell_type": "code",
   "execution_count": null,
   "metadata": {},
   "outputs": [],
   "source": [
    "trace1 = trace(simple_well.data.get_values(28), simple_well.data.get_values(24),  \"Температурный градиент, С/м\")\n",
    "trace2 = trace(simple_well.data.get_values(29), simple_well.data.get_values(24),  \"Градиент давления, бар/м\")\n",
    "data=[trace1,trace2]\n",
    "plot()"
   ]
  },
  {
   "cell_type": "code",
   "execution_count": null,
   "metadata": {},
   "outputs": [],
   "source": [
    "trace1 = trace(simple_well.data.get_values(25), simple_well.data.get_values(24),  \"Давление, бар\")\n",
    "trace2 = trace(simple_well.data.get_values(26), simple_well.data.get_values(24),  \"Температура флюида, С\")\n",
    "trace3 = trace(simple_well.data.get_values(27), simple_well.data.get_values(24),  \"Температура земли, С\")\n",
    "data=[trace1,trace2,trace3]\n",
    "plot()"
   ]
  },
  {
   "cell_type": "code",
   "execution_count": null,
   "metadata": {},
   "outputs": [],
   "source": [
    "trace1 = go.Scatter3d(\n",
    "    x=simple_well.well_profile.x_displacement_m,\n",
    "    y=simple_well.well_profile.x_displacement_m * 0,\n",
    "    z=simple_well.well_profile.h_vert_m * (-1),  # перевод в альтитуду,\n",
    "    marker=dict(\n",
    "        size=4,\n",
    "        colorscale='Viridis',\n",
    "    ),\n",
    "    name = 'Построенный профиль',\n",
    "    )\n",
    "\n",
    "trace2 = go.Scatter3d(\n",
    "    x=simple_well.well_profile.get_x_displacement_m(simple_well.well_profile.h_mes_init_data_for_interpolation_m),\n",
    "    y=simple_well.well_profile.get_x_displacement_m(simple_well.well_profile.h_mes_init_data_for_interpolation_m) * 0,\n",
    "    z=simple_well.well_profile.h_vert_init_data_for_interpolation_m * (-1),\n",
    "    mode = 'markers',\n",
    "    marker = dict(\n",
    "        size=10\n",
    "    ),\n",
    "    name = 'Исходные точки',\n",
    "    )\n",
    "\n",
    "data = [trace1, trace2]\n",
    "\n",
    "\n",
    "layout = dict(title = '3D профиль простой скважины',  yaxis=dict(autorange='reversed'))\n",
    "fig = dict(data=data, layout=layout)\n",
    "iplot(fig, filename='simple-3d-scatter')"
   ]
  },
  {
   "cell_type": "code",
   "execution_count": null,
   "metadata": {},
   "outputs": [],
   "source": []
  }
 ],
 "metadata": {
  "kernelspec": {
   "display_name": "Python 3",
   "language": "python",
   "name": "python3"
  },
  "language_info": {
   "codemirror_mode": {
    "name": "ipython",
    "version": 3
   },
   "file_extension": ".py",
   "mimetype": "text/x-python",
   "name": "python",
   "nbconvert_exporter": "python",
   "pygments_lexer": "ipython3",
   "version": "3.7.6"
  }
 },
 "nbformat": 4,
 "nbformat_minor": 2
}
