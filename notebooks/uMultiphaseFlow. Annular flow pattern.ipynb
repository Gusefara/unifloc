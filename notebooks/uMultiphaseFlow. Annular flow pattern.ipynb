{
 "cells": [
  {
   "cell_type": "markdown",
   "metadata": {},
   "source": [
    "Кобзарь О.С. Хабибуллин Р.А. 2019 г.\n",
    "\n",
    "## Режимы течения в концетрическом затрубе\n",
    "\n",
    "Источник: Márquez R. Modeling downhole natural separation : дис. – The University of Tulsa, 2004.\n",
    "\n",
    "Механистическая модель Caetano (1992) определения режимов течения в затрубном пространстве вертикальной скважины\n",
    "\n",
    "В данной модели выделяются следующие режимы течения:\n",
    "* Пузырьковый\n",
    "* Пробковый или эмульсионный\n",
    "* Дисперсно-пузырьковый\n",
    "* Кольцевой\n",
    "\n",
    "<img  src=\"pics/Caetano1.png\" width=\"600\"  >"
   ]
  },
  {
   "cell_type": "code",
   "execution_count": null,
   "metadata": {},
   "outputs": [],
   "source": [
    "import sys\n",
    "sys.path.append('../')\n",
    "import uniflocpy.uMultiphaseFlow.friction_Bratland as FB\n",
    "import uniflocpy.uMultiphaseFlow.flow_pattern_annulus_Caetano as FPA\n",
    "import uniflocpy.uMultiphaseFlow.natural_separation as NS\n",
    "import uniflocpy.uPVT.PVT_fluids as PVT\n",
    "import plotly.graph_objs as go\n",
    "from plotly.offline import download_plotlyjs, init_notebook_mode, plot, iplot\n",
    "from plotly import tools\n",
    "import uniflocpy.uTools.data_workflow as tool\n",
    "init_notebook_mode(connected=True)\n",
    "import math"
   ]
  },
  {
   "cell_type": "code",
   "execution_count": null,
   "metadata": {},
   "outputs": [],
   "source": [
    "annular = FPA.flow_pattern_annulus_Caetano()\n",
    "fluid_flow = PVT.FluidFlow()\n",
    "flow_data = tool.Data()\n",
    "pattern_data = tool.Data()"
   ]
  },
  {
   "cell_type": "code",
   "execution_count": null,
   "metadata": {},
   "outputs": [],
   "source": [
    "p_bar = 40\n",
    "t_c = 60 "
   ]
  },
  {
   "cell_type": "code",
   "execution_count": null,
   "metadata": {},
   "outputs": [],
   "source": [
    "fluid_flow.calc(p_bar, t_c)"
   ]
  },
  {
   "cell_type": "code",
   "execution_count": null,
   "metadata": {},
   "outputs": [],
   "source": [
    "annular.surface_tension_gl_Nm = fluid_flow.sigma_liq_Nm\n",
    "annular.rho_liq_kgm3 = fluid_flow.rho_liq_kgm3\n",
    "annular.rho_gas_kgm3 = fluid_flow.fl.rho_gas_kgm3\n",
    "annular.rho_mix_kgm3 = fluid_flow.rhon_kgm3\n",
    "annular.mu_mix_pasec = fluid_flow.mun_cP / 10 ** 3"
   ]
  },
  {
   "cell_type": "code",
   "execution_count": null,
   "metadata": {},
   "outputs": [],
   "source": [
    "annular.d_cas_in_m = 0.140\n",
    "annular.d_tube_out_m = 0.100"
   ]
  },
  {
   "cell_type": "code",
   "execution_count": null,
   "metadata": {},
   "outputs": [],
   "source": [
    "vs_gas_msec = fluid_flow.vsg_msec\n",
    "vs_liq_msec = fluid_flow.vsl_msec"
   ]
  },
  {
   "cell_type": "code",
   "execution_count": null,
   "metadata": {},
   "outputs": [],
   "source": [
    "annular.calc_pattern(vs_liq_msec, vs_gas_msec)"
   ]
  },
  {
   "cell_type": "code",
   "execution_count": null,
   "metadata": {},
   "outputs": [],
   "source": [
    "vsl_big = []\n",
    "vsg_big = []\n",
    "pattern_big = []\n",
    "for k in range(1,1000,10):\n",
    "    vs_liq_msec=k/100\n",
    "    data_pattern = []\n",
    "    vs_gas_msec_list = []\n",
    "    vs_liq_msec_list = []\n",
    "    for i in range(1,500):\n",
    "        vs_gas_msec = i/100\n",
    "        data_pattern.append(annular.calc_pattern(vs_liq_msec, vs_gas_msec))\n",
    "        if len(vsl_big)==0:\n",
    "            vs_gas_msec_list.append(vs_gas_msec)\n",
    "    vsl_big.append(vs_liq_msec)\n",
    "    vsg_big.append(vs_gas_msec_list)\n",
    "    pattern_big.append(data_pattern)\n",
    "    "
   ]
  },
  {
   "cell_type": "code",
   "execution_count": null,
   "metadata": {},
   "outputs": [],
   "source": [
    "trace2 = go.Heatmap(z=pattern_big, x = vsg_big[0], y = vsl_big, colorbar = dict(\n",
    "            title = 'Режим',\n",
    "            tick0 =  0,\n",
    "            dtick = 1,\n",
    "            titleside = 'top',\n",
    "            tickmode = 'array',\n",
    "            tickvals = [0, 1, 2, 3],\n",
    "            ticktext = ['Пузырьковый','Дисперсно-пузырьковый','Пробковый', 'Кольцевой'],\n",
    "            ticks = 'outside'\n",
    "        ))\n",
    "\n",
    "data2=[trace2]\n",
    "\n",
    "\n",
    "layout = dict(title =  'Карта течения флюидов в концентрическом затрубе',\n",
    "              yaxis=dict(title='Приведенная скорость жидкости, м/с', type='log',autorange=True),\n",
    "              xaxis=dict(title='Приведенная скорость газа, м/с',type='log')\n",
    "             )\n",
    "fig = dict(data=data2, layout=layout)\n",
    "\n",
    "iplot(fig, filename='basic-scatter')"
   ]
  }
 ],
 "metadata": {
  "kernelspec": {
   "display_name": "Python 3",
   "language": "python",
   "name": "python3"
  },
  "language_info": {
   "codemirror_mode": {
    "name": "ipython",
    "version": 3
   },
   "file_extension": ".py",
   "mimetype": "text/x-python",
   "name": "python",
   "nbconvert_exporter": "python",
   "pygments_lexer": "ipython3",
   "version": "3.7.6"
  }
 },
 "nbformat": 4,
 "nbformat_minor": 2
}
