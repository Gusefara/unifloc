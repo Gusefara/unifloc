{
 "cells": [
  {
   "cell_type": "markdown",
   "metadata": {},
   "source": [
    "# PVT свойства модели Black Oil по uniflocvba и uniflocpy"
   ]
  },
  {
   "cell_type": "code",
   "execution_count": null,
   "metadata": {},
   "outputs": [],
   "source": [
    "import sys\n",
    "sys.path.append('../')\n",
    "\n",
    "\n",
    "import uniflocpy.uTools.data_workflow as data_workflow\n",
    "import pandas as pd\n",
    "from uniflocpy.uTools import plotly_workflow\n",
    "import uniflocpy.uPVT.BlackOil_model as BlackOil_model\n",
    "import uniflocpy.uValidation.python_api as python_api\n",
    "import uniflocpy.uTools.uconst as uc"
   ]
  },
  {
   "cell_type": "code",
   "execution_count": null,
   "metadata": {},
   "outputs": [],
   "source": []
  },
  {
   "cell_type": "code",
   "execution_count": null,
   "metadata": {},
   "outputs": [],
   "source": [
    "def create_result_df_from_vba_output(vba_result, p_bar, t_c):\n",
    "    result_dict = {}\n",
    "    for key, value in zip(vba_result[1],vba_result[0]):\n",
    "        result_dict[key] = value\n",
    "    result_dict['p_bar'] = p_bar\n",
    "    result_dict['t_c'] = t_c\n",
    "    this_df = pd.DataFrame(result_dict, index = [0])\n",
    "    this_df['pb_bar'] = uc.atm2bar(this_df['pb_atma'])\n",
    "    return this_df"
   ]
  },
  {
   "cell_type": "markdown",
   "metadata": {},
   "source": [
    "Загрузка надстройки"
   ]
  },
  {
   "cell_type": "code",
   "execution_count": null,
   "metadata": {},
   "outputs": [],
   "source": [
    "uniflocvba = python_api.API('E:\\\\Git\\\\unifloc_vba\\\\UniflocVBA_7.xlam')"
   ]
  },
  {
   "cell_type": "markdown",
   "metadata": {},
   "source": [
    "Выбор параметров"
   ]
  },
  {
   "cell_type": "code",
   "execution_count": null,
   "metadata": {},
   "outputs": [],
   "source": [
    "gamma_oil = 0.86\n",
    "gamma_water = 1\n",
    "gamma_gas = 1.2\n",
    "rsb_m3m3 = 56\n",
    "t_res_c = 40\n",
    "t_c = 30\n",
    "p_bar = 90\n",
    "#rp_m3m3 = 80\n",
    "#pb_cal_bar = 120\n",
    "#bob_cal_m3m3 = 1.2\n",
    "#mu_oil_bubble_cp = 1\n",
    "\n",
    "keywords_python = {\"gamma_oil\": gamma_oil, \"gamma_gas\": gamma_gas, \"gamma_wat\":gamma_water,\n",
    "                                    \"rsb_m3m3\": rsb_m3m3, \"t_res_c\": t_res_c}\n",
    "\n",
    "keywords_vba = {\"t_C\": t_c, \"gamma_gas\": gamma_gas,\n",
    "                \"gamma_oil\": gamma_oil, \"gamma_wat\": gamma_water, \"rsb_m3m3\": rsb_m3m3, \"tres_C\": t_res_c,\n",
    "               \"PVTcorr\":1} #проверено, улетают свойства газа (из-за z), st oil-gas, mu_wate\n",
    "\n"
   ]
  },
  {
   "cell_type": "markdown",
   "metadata": {},
   "source": [
    "Настройка модели флюида"
   ]
  },
  {
   "cell_type": "code",
   "execution_count": null,
   "metadata": {},
   "outputs": [],
   "source": [
    "\n",
    "blackoil_option = BlackOil_model.BlackOil_option()\n",
    "#blackoil_option.b_wat_cor_number = 1\n",
    "#blackoil_option.mu_wat_cor_number = 1\n",
    "#blackoil_option.rho_wat_cor_number = 1\n",
    "#blackoil_option.z_cor_number = 1\n",
    "#blackoil_option.pseudocritical_temperature_cor_number = 1\n",
    "#blackoil_option.pseudocritical_pressure_cor_number = 1\n",
    "#blackoil_option.rho_gas_cor_number = 1\n",
    "#blackoil_option.b_gas_cor_number = 1\n",
    "#blackoil_option.mu_dead_oil_cor_number = 2\n",
    "#blackoil_option.sigma_oil_gas_cor_number = 2\n",
    "#blackoil_option.sigma_wat_gas_cor_number = 1\n",
    "\n",
    "blackoil_option.set_vba_preset()\n",
    "\n",
    "#unf_pvt_compressibility_oil_VB_1atm\n",
    "blackoil_option.pb_cor_number = 1\n",
    "blackoil_option.mu_dead_oil_cor_number = 1\n",
    "blackoil_option.rs_cor_number = 1\n",
    "blackoil_option.rho_oil_cor_number = 1\n",
    "\n",
    "blackoil_option.b_oil_below_pb_cor_number = 2\n",
    "blackoil_option.b_oil_above_pb_cor_number = 1\n",
    "blackoil_option.mu_oil_pb_cor_number = 1\n",
    "blackoil_option.mu_oil_any_p_cor_number = 1\n",
    "#blackoil_option.compr_oil_cor_number = 1\n",
    "#blackoil_option.compr_oil_below_pb_cor_number = 1\n",
    "python_fluid = BlackOil_model.Fluid(**keywords_python, option = blackoil_option)\n"
   ]
  },
  {
   "cell_type": "markdown",
   "metadata": {},
   "source": [
    "Расчет двух моделей"
   ]
  },
  {
   "cell_type": "code",
   "execution_count": null,
   "metadata": {},
   "outputs": [],
   "source": [
    "BlackOil_model_db = data_workflow.Data()\n",
    "BlackOil_model_db.clear_data()\n",
    "vba_result_df = None\n",
    "for p_bar in range(2, 250, 1):\n",
    "    python_fluid.calc(p_bar, t_c)\n",
    "    p_atm = uc.bar2atm(p_bar)\n",
    "    BlackOil_model_db.get_data(python_fluid, object_name='python_fluid')\n",
    "    vba_result = uniflocvba.PVT_all_pvt(p_atm, **keywords_vba)\n",
    "    this_vba_result_df = create_result_df_from_vba_output(vba_result, p_bar, t_c)\n",
    "    try:\n",
    "        vba_result_df = vba_result_df.append(this_vba_result_df)\n",
    "    except:\n",
    "        vba_result_df = this_vba_result_df.copy()"
   ]
  },
  {
   "cell_type": "markdown",
   "metadata": {},
   "source": [
    "Объединение результатов"
   ]
  },
  {
   "cell_type": "code",
   "execution_count": null,
   "metadata": {},
   "outputs": [],
   "source": [
    "result_unifloc_python = BlackOil_model_db.get_data_as_df()\n",
    "result_unifloc_python.index = result_unifloc_python['python_fluid.p_bar']\n",
    "result_unifloc_python.index.name = 'p_bar'\n",
    "\n",
    "vba_result_df.index = result_unifloc_python.index\n",
    "vba_result_df.index.name = 'p_bar'\n",
    "vba_result_df = vba_result_df.add_prefix('vba_fluid.')\n",
    "all_result = result_unifloc_python.join(vba_result_df, rsuffix=' (uniflocvba)')"
   ]
  },
  {
   "cell_type": "markdown",
   "metadata": {},
   "source": [
    "Построение графиков"
   ]
  },
  {
   "cell_type": "code",
   "execution_count": null,
   "metadata": {},
   "outputs": [],
   "source": [
    "plotly_workflow.plot_by_patterns(all_result, ['pb'], ['cor_number', 'cal', 'mpa', 'tpb'], swap_xy=False, reversed_y=False,  plot_name='Распределение PVT свойств от давления')"
   ]
  },
  {
   "cell_type": "code",
   "execution_count": null,
   "metadata": {},
   "outputs": [],
   "source": [
    "plotly_workflow.plot_by_patterns(all_result, ['rs'], ['cor_number', 'cal'], swap_xy=False, reversed_y=False,  plot_name='Распределение PVT свойств от давления')"
   ]
  },
  {
   "cell_type": "code",
   "execution_count": null,
   "metadata": {},
   "outputs": [],
   "source": [
    "plotly_workflow.plot_by_patterns(all_result, ['mu'], ['cor_number', 'cal'], swap_xy=False, reversed_y=False,  plot_name='Распределение PVT свойств от давления',\n",
    "                                x_name = 'Давление, бар', y_name = 'Вязкость, сПуаз')"
   ]
  },
  {
   "cell_type": "code",
   "execution_count": null,
   "metadata": {},
   "outputs": [],
   "source": [
    "plotly_workflow.plot_by_patterns(all_result, ['rho_oil'], ['cor_number', 'cal'], swap_xy=False, reversed_y=False,  plot_name='Распределение PVT свойств от давления')"
   ]
  },
  {
   "cell_type": "code",
   "execution_count": null,
   "metadata": {},
   "outputs": [],
   "source": [
    "plotly_workflow.plot_by_patterns(all_result, ['rho_oil'], ['cor_number', 'cal'], swap_xy=False, reversed_y=False,  plot_name='Распределение PVT свойств от давления',\n",
    "                        traces_names = ['Плотность дегазированной нефти, кгм/м3', 'Плотность питона', 'Плотность вба'])"
   ]
  },
  {
   "cell_type": "code",
   "execution_count": null,
   "metadata": {},
   "outputs": [],
   "source": [
    "plotly_workflow.plot_by_patterns(all_result, ['z'], ['cor_number', 'cal', 'mpa', 'tpb'], swap_xy=False, reversed_y=False,  plot_name='Распределение PVT свойств от давления')"
   ]
  },
  {
   "cell_type": "code",
   "execution_count": null,
   "metadata": {},
   "outputs": [],
   "source": [
    "plotly_workflow.plot_by_patterns(all_result, [['bo','m3m3'],['b_oil','m3m3']], ['cor_number', 'ob', '_b_','cal', 'mpa', 'tpb', 'rs'], swap_xy=False, reversed_y=False,  plot_name='Распределение PVT свойств от давления')"
   ]
  },
  {
   "cell_type": "code",
   "execution_count": null,
   "metadata": {},
   "outputs": [],
   "source": [
    "plotly_workflow.plot_by_patterns(all_result, ['sigma'], ['cor_number', 'cal', 'mpa', 'tpb', 'rs'], swap_xy=False, reversed_y=False,  plot_name='Распределение PVT свойств от давления')"
   ]
  },
  {
   "cell_type": "code",
   "execution_count": null,
   "metadata": {},
   "outputs": [],
   "source": [
    "plotly_workflow.plot_by_patterns(all_result, ['comp'], ['cor_number', 'cal', 'mpa', 'tpb', 'rs'], swap_xy=False, reversed_y=False,  plot_name='Распределение PVT свойств от давления')"
   ]
  },
  {
   "cell_type": "code",
   "execution_count": null,
   "metadata": {},
   "outputs": [],
   "source": [
    "plotly_workflow.plot_by_patterns(all_result,  [[\"heatcap\"], [\"JkgC\"]], ['fl.','cor_number', 'cal'], swap_xy=False, reversed_y=False,  plot_name='Распределение PVT свойств от давления')"
   ]
  },
  {
   "cell_type": "code",
   "execution_count": null,
   "metadata": {},
   "outputs": [],
   "source": []
  }
 ],
 "metadata": {
  "kernelspec": {
   "display_name": "Python 3",
   "language": "python",
   "name": "python3"
  },
  "language_info": {
   "codemirror_mode": {
    "name": "ipython",
    "version": 3
   },
   "file_extension": ".py",
   "mimetype": "text/x-python",
   "name": "python",
   "nbconvert_exporter": "python",
   "pygments_lexer": "ipython3",
   "version": "3.7.6"
  }
 },
 "nbformat": 4,
 "nbformat_minor": 2
}
