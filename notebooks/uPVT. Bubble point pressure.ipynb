{
 "cells": [
  {
   "cell_type": "markdown",
   "metadata": {},
   "source": [
    "Водопьян А.О. Хабибуллин Р.А. 2019 г.\n",
    "\n",
    "\n",
    "## Давление насыщения нефти газом\n",
    "<a id=\"Pb\"></a>\n",
    "\n",
    "### Давление насыщения, корреляция Стендинга\n",
    "<a id=\"Pb_Standing\"></a>\n",
    "\n",
    "Корреляция Стендинга для оценки давления насыщения нефти газом. \n",
    "\n",
    "$$ P_b =  0.5197  \\left( \\frac{R_{sb}}{\\gamma_g}\\right)^{0.83} 10 ^{y_g} $$\n",
    "\n",
    "где\n",
    "\n",
    "$P_b$ - давление насыщения, $МПа$ \n",
    "\n",
    "$R_{sb}$ - газосодержание при давлении насыщения, $м^3/м^3 $\n",
    "\n",
    "$\\gamma_g$ - относительная плотность газа, безразмерная величина  \n",
    "\n",
    "$y_g$ - мольная доля газа, $ y_g = 1.225 +0.00164 T - \\frac{ 1.769}{\\gamma_o}$\n",
    "\n",
    "$\\gamma_o$ - относительная плотность нефти, безразмерная величина  \n",
    "\n",
    "$ T $ - температура, $ ^{\\circ}\\mathrm{K}$\n",
    "\n",
    "Корреляции Standing базируются на 105 экспериментально определенных давлениях насыщения нефтяных систем Калифорнии. Диапазоны значений основных свойств, использованных для разработки данной корреляции, приведены в таблице ниже. \n",
    "\n",
    "| <p align=\"left\"> Параметр  | Диапазон |\n",
    "| :--- | :--- |\n",
    "| <p align=\"left\"> давление насыщения,$P_b$ , $ МПа $  | 0.896…48.263  |\n",
    "| <p align=\"left\"> температура, $^{\\circ}\\mathrm{K} $ | 310…400 |\n",
    "| <p align=\"left\"> газосодержание при давлении насыщения, $R_{sb}$ , $м^3/м^3 $ | 3.6…254 |\n",
    "| <p align=\"left\"> относительная плотность нефти по воде, $\\gamma_o$ | 0.725…0.956  |\n",
    "| <p align=\"left\"> относительная плотность газа, $\\gamma_g$  | 0.59…0.95  |\n",
    "\n",
    "\n",
    " \n",
    " \n",
    "\n",
    "\n",
    "ref \"A Pressure-Volume-Temperature Correlation for Mixtures of California Oil and Gases\", M.B. Standing, Drill. & Prod. Prac., API, 1947."
   ]
  },
  {
   "cell_type": "code",
   "execution_count": null,
   "metadata": {},
   "outputs": [],
   "source": [
    "import matplotlib.pyplot as plt\n",
    "import matplotlib as mpl\n",
    "import numpy as np\n",
    "from sympy import *\n",
    "init_printing()\n",
    "import sys\n",
    "sys.path.append('../')\n",
    "import uniflocpy.uPVT.PVT_correlations as PVT"
   ]
  },
  {
   "cell_type": "code",
   "execution_count": null,
   "metadata": {},
   "outputs": [],
   "source": [
    "# Корреляция Стендинга для давления насыщения реализована \n",
    "# в виде функции unf_pb_Standing_MPaa в модуле PVT_correlations. \n",
    "# Подробные данные по функции включая исходный код приведены ниже\n",
    "\n",
    "PVT.unf_pb_Standing_MPaa??"
   ]
  },
  {
   "cell_type": "markdown",
   "metadata": {},
   "source": [
    "в приведеном коде использована коррекция значений давления насыщения при низких значениях газосодержания при давлении насыщения для обеспечения выхода на значение $P_b = 1$ при $R{sb} = 0$\n",
    "\n",
    "<img  src=\"pics/Pb-Standing_comparison.png\" width=\"600\"  >\n",
    "\n",
    "---\n",
    "Построим пару графиков, используя приведенную функцию"
   ]
  },
  {
   "cell_type": "code",
   "execution_count": null,
   "metadata": {},
   "outputs": [],
   "source": [
    "# параметры определяющие диапазоны значений для построения графиков\n",
    "rsb_set=np.arange(1,300,10)\n",
    "t_set=np.arange(273,380,30)\n",
    "t_set_def=np.array([313])\n",
    "gg_set=np.arange(0.6,1,0.1)\n",
    "gg_set_def=np.array([0.8])\n",
    "go_set=np.arange(0.8,1,0.05)\n",
    "go_set_def=np.array([0.86])\n",
    "# функция для автоматизации построения графиков по давлению насыщения\n",
    "def prep_plot(func,tset,goset,ggset,plot_title,plot_xlab,plot_ylab):\n",
    "    for t in tset:\n",
    "        for gg in ggset:\n",
    "            for go in goset:\n",
    "                pb_set=[]\n",
    "                for rsb in rsb_set:\n",
    "                    pb_set.append(func(rsb,t_K = t,gamma_gas = gg,gamma_oil = go))\n",
    "                plt.plot(rsb_set, pb_set, label='t = %1.0f $ ^{\\circ}\\mathrm{K}$'%t +\n",
    "                                                 ' $\\gamma_g$ = %1.2f'%gg + \n",
    "                                                 ' $\\gamma_o$ = %1.2f'%go)\n",
    "    plt.title(plot_title)\n",
    "    plt.ylabel(plot_ylab, color = 'black')\n",
    "    plt.xlabel(plot_xlab, color = 'black')\n",
    "    plt.legend()\n"
   ]
  },
  {
   "cell_type": "code",
   "execution_count": null,
   "metadata": {},
   "outputs": [],
   "source": [
    "# код для построения графиков\n",
    "plt.figure(figsize=(15,8))\n",
    "f = PVT.unf_pb_Standing_MPaa\n",
    "# рисуем первый график\n",
    "plt.subplot(221)\n",
    "prep_plot(f,t_set,go_set_def,gg_set_def,\n",
    "              'Давление насыщения от газосодержания',\n",
    "               '$R_{sb}, м^3/м^3$',\n",
    "               '$P_b, MPa$')\n",
    "plt.grid()\n",
    "# рисуем второй график\n",
    "plt.subplot(222)\n",
    "prep_plot(f,t_set_def,go_set,gg_set_def,\n",
    "              'Давление насыщения от газосодержания',\n",
    "               '$R_{sb}, м^3/м^3$',\n",
    "               '$P_b, MPa$')\n",
    "plt.grid()\n",
    "# рисуем третий график\n",
    "plt.subplot(223)\n",
    "prep_plot(f,t_set_def,go_set_def,gg_set,\n",
    "              'Давление насыщения от газосодержания',\n",
    "               '$R_{sb}, м^3/м^3$',\n",
    "               '$P_b, MPa$')\n",
    "\n",
    "plt.subplots_adjust(top=0.92, bottom=0.08, left=0.10, right=0.95, hspace=0.25, wspace=0.35)\n",
    "# рисуем все\n",
    "plt.grid()\n",
    "plt.show()\n"
   ]
  },
  {
   "cell_type": "markdown",
   "metadata": {},
   "source": [
    "---\n",
    "<a id=\"Pb_Valco\"></a>\n",
    "### Давление насыщения, корреляция Valko McCain\n",
    "\n",
    "\n",
    "Корреляция Valco McCain (2003) для оценки давления насыщения нефти газом разработана на основе банка данных нефтей со всего мира. На рисунке показаны источники данных, которые были использованы авторами для настройки корреляции.  \n",
    "\n",
    "<img  src=\"pics/McCain_corr_sources.png\" width=\"400\"  >\n",
    "\n",
    "\n",
    "Диапазоны значений основных свойств (1745 значений), использованных для разработки данной корреляции, приведены в таблице ниже. \n",
    "\n",
    "| <p align=\"left\"> Параметр  | Мин|Среднее|Макс|\n",
    "| :--- | :---: |:---:|:---:|\n",
    "| <p align=\"left\"> давление насыщения,$P_b$ , $ МПа $  | 0.55  |15.0|45.5|\n",
    "| <p align=\"left\"> температура, $^{\\circ}\\mathrm{С} $ | 15 |85|172|\n",
    "| <p align=\"left\"> газосодержание при давлении насыщения, $R_{sb}$ , $м^3/м^3 $ | 2 |104|395|\n",
    "| <p align=\"left\"> относительная плотность нефти по воде, $\\gamma_o$ | 0.724  |0.846|1.02|\n",
    "| <p align=\"left\"> относительная плотность газа на сепараторе, $\\gamma_g$  | 0.555  |0.838|1.685|\n",
    "    \n",
    "По результатам сравнений с замеренными значениями абсолютная значение средней относительной ошибки (AARE) для корреляции составляет около 11%. Авторы отмечают, что полученная точность соответствует точности замеров использованных для построения корреляции и для построения более точных зависимостей потребуется сбор новых данных с повышенной точностью.\n",
    "\n",
    "$$\n",
    "ln P_b = 7.475 + 0.713 z + 0.0075 z^2\n",
    "$$\n",
    "где \n",
    "\n",
    "$$\n",
    "z = z_1+z_2+z_3+z_4\n",
    "$$\n",
    "$$\n",
    "z_1 = -5.48 - 0.0375\\cdot ln R_{sb}+0.281\\cdot (ln R_{sb})^2 - 0.0206\\cdot (ln R_{sb})^3\n",
    "$$\n",
    "$$\n",
    "z_2 = 1.27 - 0.0449\\cdot API +4.36 \\cdot 10^{-4} API^2 -4.76 \\cdot 10^{-6} API^3\n",
    "$$\n",
    "$$\n",
    "z_3 = 4.51 - 10.84 \\cdot \\gamma_{gSP} +8.39\\cdot \\gamma_{gSP}^2 -2.34\\cdot \\gamma_{gSP}^3\n",
    "$$\n",
    "$$\n",
    "z_4 = -0.7835 + 6.23 \\cdot 10^{-3} \\cdot T_R - 1.22 \\cdot 10^{-5} \\cdot T_R^2+ 1.03 \\cdot 10^{-8} \\cdot T_R^3\n",
    "$$\n",
    "\n",
    "где\n",
    "\n",
    "* $p_b$ - давление насыщения, $psia$\n",
    "* $R_{sb}$ - газосодержание при давлении насыщения, ${scf}/{STB}$\n",
    "* $\\gamma_{gSP}$ - удельная плотность газа, отобранного на сепараторе, безразмерная величина\n",
    "* $T_R$ - пластовая температура, $F$\n",
    "\n",
    "\n",
    "ref Reservoir oil bubblepoint pressures revisited; solution gas-oil ratios and surface gas specific gravities. P.P.Valko, W.D.McCain Jr. Journal of petroleum science and engineering 37(2003) 153-169"
   ]
  },
  {
   "cell_type": "markdown",
   "metadata": {},
   "source": [
    "---\n",
    "#### Пребразование единиц измерения для корреляции Валко Маккейна"
   ]
  },
  {
   "cell_type": "code",
   "execution_count": null,
   "metadata": {},
   "outputs": [],
   "source": [
    "# объявления переменных необходимых для преобразования единиц в вырожении\n",
    "rsb_scfSTB, rsb_m3m3 = symbols('R_sb[scfSTB] R_sb[m3m3]')\n",
    "API, gamma_o = symbols('API gamma_o')\n",
    "gamma_gSP = symbols('gamma_gSP')\n",
    "T_RF,T_RK = symbols('T_R[F] T_R[K]')\n",
    "z,z1,z2,z3,z4 = symbols('z,z1,z2,z3,z4')\n",
    "p_bpsia, p_bMPaa = symbols('p_b[psia],p_b[MPaa]')"
   ]
  },
  {
   "cell_type": "code",
   "execution_count": null,
   "metadata": {},
   "outputs": [],
   "source": [
    "# определение алгоритма расчета в американских промысловых единицах\n",
    "eq1 = Eq(z,z1+z2+z3+z4)\n",
    "eq2 = Eq(z1,  -5.48 - 0.03758 * ln(rsb_scfSTB)+ 0.281*  ln(rsb_scfSTB)**2 - 0.0206* ln(rsb_scfSTB)**3)\n",
    "eq3 = Eq(z2,  1.27 - 0.0449* API +4.36 * 10**-4 *API**2 -4.76 * 10**-6 *API**3)\n",
    "eq4 = Eq(z3,  4.51- 10.84 *gamma_gSP +8.39*gamma_gSP**2 -2.34*gamma_gSP**3 )\n",
    "eq5 = Eq(z4,  -0.7835 + 6.23 * 10**-3 * T_RF - 1.22 * 10**-5 * T_RF**2+ 1.03 * 10**-8 * T_RF**3)\n",
    "eq6 =Eq(ln(p_bpsia),(7.475 + 0.713 * z + 0.0075 * z**2))\n",
    "# покажем выражения в печатном виде\n",
    "display(eq6)\n",
    "display(eq1)\n",
    "display(eq2)\n",
    "display(eq3)\n",
    "display(eq4)\n",
    "display(eq5)"
   ]
  },
  {
   "cell_type": "code",
   "execution_count": null,
   "metadata": {},
   "outputs": [],
   "source": [
    "# выражения для преобразования единиц измерения из американских промысловых в практические метрические\n",
    "scfSTB_to_m3m3 = rsb_m3m3/0.178107606679035\n",
    "API_to_gamma_o = 141.5/gamma_o-131.5\n",
    "F_to_K = T_RK*9/5-459.67\n",
    "psi_to_MPa = p_bMPaa * 14.6959 * 10.1325\n",
    "# покажем выражения в печатном виде\n",
    "display(Eq(rsb_scfSTB , scfSTB_to_m3m3))\n",
    "display(Eq(API,API_to_gamma_o))\n",
    "display(Eq(T_RF,F_to_K))\n",
    "display(Eq(p_bpsia,psi_to_MPa))"
   ]
  },
  {
   "cell_type": "code",
   "execution_count": null,
   "metadata": {},
   "outputs": [],
   "source": [
    "# преобразование алгоритма в метрические единицы с использованием символьных вычислений\n",
    "eq2_m=simplify(eq2.subs(rsb_scfSTB,scfSTB_to_m3m3))\n",
    "eq3_m=simplify(eq3.subs(API,API_to_gamma_o))\n",
    "eq5_m=simplify(eq5.subs(T_RF,F_to_K))\n",
    "eq6_m=eq6.subs(p_bpsia, psi_to_MPa)\n",
    "eq8=solve(eq6_m,p_bMPaa)\n",
    "eq9=Eq(p_bMPaa, eq8[0])\n",
    "# вывод результатов преобразований\n",
    "display(eq9)\n",
    "display(eq1)\n",
    "display(eq2_m)\n",
    "display(eq3_m)\n",
    "display(eq4)\n",
    "display(eq5_m)"
   ]
  },
  {
   "cell_type": "code",
   "execution_count": null,
   "metadata": {},
   "outputs": [],
   "source": [
    "# расчет реализован в функции  unf_pb_Valko_MPaa\n",
    "PVT.unf_pb_Valko_MPaa??"
   ]
  },
  {
   "cell_type": "code",
   "execution_count": null,
   "metadata": {},
   "outputs": [],
   "source": [
    "plt.figure(figsize=(15,8))\n",
    "f = PVT.unf_pb_Valko_MPaa\n",
    "# рисуем первый график\n",
    "plt.subplot(221)\n",
    "prep_plot(f,t_set,go_set_def,gg_set_def,\n",
    "              'Давление насыщения от газосодержания',\n",
    "               '$R_{sb}, м^3/м^3$',\n",
    "               '$P_b, MPa$')\n",
    "plt.grid()\n",
    "# рисуем второй график\n",
    "plt.subplot(222)\n",
    "prep_plot(f,t_set_def,go_set,gg_set_def,\n",
    "              'Давление насыщения от газосодержания',\n",
    "               '$R_{sb}, м^3/м^3$',\n",
    "               '$P_b, MPa$')\n",
    "plt.grid()\n",
    "# рисуем третий график\n",
    "plt.subplot(223)\n",
    "prep_plot(f,t_set_def,go_set_def,gg_set,\n",
    "              'Давление насыщения от газосодержания',\n",
    "               '$R_{sb}, м^3/м^3$',\n",
    "               '$P_b, MPa$')\n",
    "\n",
    "plt.subplots_adjust(top=0.92, bottom=0.08, left=0.10, right=0.95, hspace=0.25, wspace=0.35)\n",
    "# рисуем все\n",
    "plt.grid()\n",
    "plt.show()"
   ]
  },
  {
   "cell_type": "markdown",
   "metadata": {},
   "source": [
    "в приведеном коде использована коррекция значений давления насыщения при низких значениях газосодержания при давлении насыщения для обеспечения выхода на значение $P_b = 1$ при $R{sb} = 0$ и при больших значениях газосодержания\n",
    "\n",
    "<img  src=\"pics/Pb-Valko_comparison.png\" width=\"600\"  >\n",
    "\n",
    "следует отметить, что в отличии от корреляций типа Стендинга корреляция Валко Макейна хорошо описывает исходный набор данных в пределах области применимости, но дает нефизичные результаты за пределами диапазона применимости. Приведенная в коде корректировке может частично сгладить экспраполированные значения, но лучше при проведении расчетов контролировать, чтобы корреляция применялась в пределах диапазона примемости. "
   ]
  },
  {
   "cell_type": "code",
   "execution_count": null,
   "metadata": {},
   "outputs": [],
   "source": [
    "PVT.unf_pb_AlMarhoun_MPaa??"
   ]
  },
  {
   "cell_type": "code",
   "execution_count": null,
   "metadata": {},
   "outputs": [],
   "source": []
  }
 ],
 "metadata": {
  "kernelspec": {
   "display_name": "Python 3",
   "language": "python",
   "name": "python3"
  },
  "language_info": {
   "codemirror_mode": {
    "name": "ipython",
    "version": 3
   },
   "file_extension": ".py",
   "mimetype": "text/x-python",
   "name": "python",
   "nbconvert_exporter": "python",
   "pygments_lexer": "ipython3",
   "version": "3.7.6"
  }
 },
 "nbformat": 4,
 "nbformat_minor": 2
}
