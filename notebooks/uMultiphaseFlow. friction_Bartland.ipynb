{
 "cells": [
  {
   "cell_type": "markdown",
   "metadata": {},
   "source": [
    "Хабибуллин Р.А. Кобзарь О.С. 2019 г.\n",
    "## Коэффициент трения по Bartland\n",
    "\n",
    "\"считает долго, но ведь никто никуда не торопится\""
   ]
  },
  {
   "cell_type": "markdown",
   "metadata": {},
   "source": [
    "### Коэффициент трения\n",
    "Источник:\n",
    "Bratland O. Pipe flow 1: single-phase flow assurance //Fonte: http://www.drbratland.com/download-two-free-books-on-flow-assurance.–2009.\n",
    "\n",
    "Основные формулы, предагаемые в книге:\n",
    "#### Ламинарное течение, корреляция a\n",
    "$$Re \\leq 2300$$\n",
    "$$f = \\frac{64}{Re}$$\n",
    "#### Турбулентное течение, корреляция b\n",
    "$$\\frac{1}{\\sqrt{f}}=-\\frac{2}{u_s}log_{10}[(\\frac{1.547}{Re\\sqrt{f}})^{0.9445u_s} + (\\frac{k_s}{3.7d})^{u_s}]$$\n",
    "#### Турбулентное течение, корреляция с\n",
    "$$2300 < Re \\leq 3100$$\n",
    "Прямая линия от точки $p1$ до точки $p2$, где\n",
    "$$p1(Re = 2300; f = \\frac{64}{Re})$$\n",
    "$$p2(Re = 3100; f = 0.04)$$\n",
    "#### Турбулентное течение, корреляция d\n",
    "$$3100 < Re \\leq 20000$$\n",
    "Прямая линия от точки $p2$ до $p3$, где:\n",
    "$$p3(Re = 20000, f)$$\n",
    "а $f$ рассчитывается по корреляции b\n",
    "#### Предлагаемый автором модифицированный график Муди\n",
    "<img  src=\"pics/friction_Bartland.png\" width=\"600\"  >"
   ]
  },
  {
   "cell_type": "markdown",
   "metadata": {},
   "source": [
    "### Пример расчета"
   ]
  },
  {
   "cell_type": "code",
   "execution_count": null,
   "metadata": {},
   "outputs": [],
   "source": [
    "import sys\n",
    "sys.path.append('../')\n",
    "import uniflocpy.uMultiphaseFlow.friction_Bratland as FB\n",
    "\n",
    "import plotly.graph_objs as go\n",
    "from plotly.offline import download_plotlyjs, init_notebook_mode, plot, iplot\n",
    "from plotly import tools\n",
    "\n",
    "init_notebook_mode(connected=True)\n",
    "import math\n"
   ]
  },
  {
   "cell_type": "markdown",
   "metadata": {},
   "source": [
    "Зададим основные свойства"
   ]
  },
  {
   "cell_type": "code",
   "execution_count": null,
   "metadata": {},
   "outputs": [],
   "source": [
    "number_re = 10\n",
    "relative_roughness = 0.05\n",
    "d_m = 159 / 1000\n",
    "absolute_roughness = relative_roughness * d_m"
   ]
  },
  {
   "cell_type": "markdown",
   "metadata": {},
   "source": [
    "Рабочий экземпляр класса и списки-хранилища расчетов"
   ]
  },
  {
   "cell_type": "code",
   "execution_count": null,
   "metadata": {},
   "outputs": [],
   "source": [
    "friction = FB.Friction()\n",
    "\n",
    "re_list = []\n",
    "f_list = []\n",
    "f_list2 = []\n",
    "f_llst3 = []\n",
    "f_llst4 = []"
   ]
  },
  {
   "cell_type": "markdown",
   "metadata": {},
   "source": [
    "Подготовка массива Re"
   ]
  },
  {
   "cell_type": "code",
   "execution_count": null,
   "metadata": {},
   "outputs": [],
   "source": [
    "for i in range(700,2200,100):\n",
    "    re_list.append(i)\n",
    "for i in range(2280,2320,10):\n",
    "    re_list.append(i)\n",
    "for i in range(2320, 21000, 100):\n",
    "    re_list.append(i)\n",
    "for i in range(21000, 10**5,1000):\n",
    "    re_list.append(i)\n",
    "for i in range(10**5, 10**8,100000):\n",
    "    re_list.append(i)"
   ]
  },
  {
   "cell_type": "markdown",
   "metadata": {},
   "source": [
    "Расчет для разных значений шероховатости"
   ]
  },
  {
   "cell_type": "code",
   "execution_count": null,
   "metadata": {},
   "outputs": [],
   "source": [
    "for re in re_list:\n",
    "    f = friction.calc_f(re, absolute_roughness, d_m)\n",
    "    f_list.append(f)\n",
    "    f = friction.calc_f(re, absolute_roughness/4, d_m)\n",
    "    f_list2.append(f)\n",
    "    f = friction.calc_f(re, absolute_roughness/400, d_m)\n",
    "    f_llst3.append(f)\n",
    "    f = friction.calc_f(re, absolute_roughness/40000, d_m)\n",
    "    f_llst4.append(f)"
   ]
  },
  {
   "cell_type": "markdown",
   "metadata": {},
   "source": [
    "Вспомогательная функция для построения"
   ]
  },
  {
   "cell_type": "code",
   "execution_count": null,
   "metadata": {},
   "outputs": [],
   "source": [
    "def plot():\n",
    "    layout = go.Layout(\n",
    "        xaxis=dict(\n",
    "            type='log',\n",
    "            autorange=True\n",
    "        ),\n",
    "        yaxis=dict(\n",
    "            type='log',\n",
    "            autorange=True\n",
    "        )\n",
    "    )\n",
    "    fig = dict(data=data, layout=layout)\n",
    "\n",
    "    iplot(fig, filename='basic-scatter')"
   ]
  },
  {
   "cell_type": "markdown",
   "metadata": {},
   "source": [
    "Построение графика (долго)"
   ]
  },
  {
   "cell_type": "code",
   "execution_count": null,
   "metadata": {},
   "outputs": [],
   "source": [
    "trace = go.Scattergl(\n",
    "    x = re_list,\n",
    "    y = f_list,\n",
    "    name = 'f',\n",
    "    mode = 'lines'\n",
    ")\n",
    "\n",
    "trac2 = go.Scattergl(\n",
    "    x = re_list,\n",
    "    y = f_list2,\n",
    "    name = 'f2',\n",
    "    mode = 'lines'\n",
    ")\n",
    "\n",
    "trac3 = go.Scattergl(\n",
    "    x = re_list,\n",
    "    y = f_llst3,\n",
    "    name = 'f3' ,\n",
    "    mode = 'lines'\n",
    ")\n",
    "\n",
    "trac4 = go.Scattergl(\n",
    "    x = re_list,\n",
    "    y = f_llst4,\n",
    "    name = 'f4' ,\n",
    "    mode = 'lines'\n",
    ")\n",
    "\n",
    "\n",
    "\n",
    "\n",
    "data = [trace, trac2, trac3, trac4]\n",
    "\n",
    "\n",
    "plot()"
   ]
  }
 ],
 "metadata": {
  "kernelspec": {
   "display_name": "Python 3",
   "language": "python",
   "name": "python3"
  },
  "language_info": {
   "codemirror_mode": {
    "name": "ipython",
    "version": 3
   },
   "file_extension": ".py",
   "mimetype": "text/x-python",
   "name": "python",
   "nbconvert_exporter": "python",
   "pygments_lexer": "ipython3",
   "version": "3.7.6"
  }
 },
 "nbformat": 4,
 "nbformat_minor": 2
}
