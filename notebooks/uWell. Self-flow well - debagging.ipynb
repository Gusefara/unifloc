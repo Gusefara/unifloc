{
 "cells": [
  {
   "cell_type": "markdown",
   "metadata": {},
   "source": [
    "Кобзарь О.С. Хабибуллин Р.А. 2019 г.\n",
    "\n",
    "# Модель фонтанирующей скважины"
   ]
  },
  {
   "cell_type": "markdown",
   "metadata": {},
   "source": []
  },
  {
   "cell_type": "code",
   "execution_count": null,
   "metadata": {},
   "outputs": [],
   "source": [
    "import sys\n",
    "sys.path.append('../')\n",
    "\n",
    "import uniflocpy.uWell.deviation_survey as dev_sev\n",
    "import uniflocpy.uTools.data_workflow as utool\n",
    "import uniflocpy.uTools.uconst as uconst\n",
    "import uniflocpy.uWell.uPipe as Pipe\n",
    "import uniflocpy.uWell.Self_flow_well as self_flow_well\n",
    "import plotly.graph_objs as go\n",
    "import numpy as np\n",
    "from plotly.offline import download_plotlyjs, init_notebook_mode, plot, iplot\n",
    "from plotly import tools\n",
    "import pandas as pd\n",
    "init_notebook_mode(connected=True)\n",
    "import scipy.interpolate as interpolate\n",
    "import matplotlib.pyplot as plt\n",
    "data = utool.Data()\n",
    "from uniflocpy.uTools import plotly_workflow\n",
    "import re\n",
    "import uniflocpy.uPVT.BlackOil_model as BlackOil_model\n",
    "import uniflocpy.uTemperature as uTemperature\n",
    "import uniflocpy.uReservoir.IPR_simple_line as IPR_simple_line\n",
    "import uniflocpy.uTools.plotly_workflow as plotly_workflow \n",
    "import uniflocpy.uValidation.python_api as python_api\n",
    "import uniflocpy.uValidation.by_UniflocVBA as bvba"
   ]
  },
  {
   "cell_type": "markdown",
   "metadata": {},
   "source": [
    "## Настройки расчета"
   ]
  },
  {
   "cell_type": "code",
   "execution_count": null,
   "metadata": {},
   "outputs": [],
   "source": [
    "calc_options ={\"step_lenth_in_calc_along_wellbore_m\":25,\n",
    "                \"without_annulus_space\":False,\n",
    "                \"solver_using\":True}"
   ]
  },
  {
   "cell_type": "markdown",
   "metadata": {},
   "source": [
    "## Данные по скважинам"
   ]
  },
  {
   "cell_type": "markdown",
   "metadata": {},
   "source": [
    "Скв. 1Ф Исследование 4РМ"
   ]
  },
  {
   "cell_type": "code",
   "execution_count": null,
   "metadata": {},
   "outputs": [],
   "source": [
    "pb_bar = 90\n",
    "fluid_data = {\"rsb_m3m3\" : 56,\n",
    "\"gamma_oil\" : 0.86,\n",
    "\"gamma_gas\" : 1.45/1.293}\n",
    "\n",
    "well_data = {\"h_intake_mes_m\" :1211,\n",
    "\"h_intake_vert_m\" : 1211,\n",
    "\"h_bottomhole_mes_m\" : 1757, \n",
    "\"h_bottomhole_vert_m\": 1757,\n",
    "             \n",
    "\"geothermal_grad_cm\":0.02,\n",
    "\"t_wellhead_c\":30,\n",
    "\"t_bottomhole_c\" :40,\n",
    "\"t_earth_init_in_reservoir_c\" : 40,\n",
    "'p_bottomhole_bar':155.5,\n",
    "\"d_casing_inner_m\" : 0.133,\n",
    "\"d_tube_inner_m\" : 0.0503,\n",
    "\"qliq_on_surface_m3day\":240,\n",
    "\"fw_on_surface_perc\":25}\n",
    "real_measurements = pd.DataFrame({'p_survey_mpa': [0.975, 8.495, 9.44, 10.365, 10.902, 11.272, 12.085, 12.907, 13.785, 14.67, 15.55],\n",
    "                                 'h_mes_survey_m': [0, 957, 1057, 1157, 1211, 1257, 1357, 1457, 1557, 1657, 1757]})"
   ]
  },
  {
   "cell_type": "markdown",
   "metadata": {},
   "source": [
    "Скв. 2Ф Исследование 5РМ"
   ]
  },
  {
   "cell_type": "code",
   "execution_count": null,
   "metadata": {},
   "outputs": [],
   "source": [
    "\n",
    "pb_bar = 90\n",
    "fluid_data = {\"rsb_m3m3\" : 56,\n",
    "\"gamma_oil\" : 0.86,\n",
    " \"gamma_gas\" : 1.45  * 24.05 / 28.98,\n",
    "#\"gamma_gas\" : 1.45 /1.293,\n",
    "\n",
    "'pb_bar': pb_bar}\n",
    "\n",
    "well_data = {\"h_intake_mes_m\" :1205.5,\n",
    "\"h_intake_vert_m\" : 1205.5,\n",
    "\"h_bottomhole_mes_m\" : 1605, \n",
    "\"h_bottomhole_vert_m\": 1605,\n",
    "             \n",
    "\"geothermal_grad_cm\":0.02,\n",
    "\"t_wellhead_c\":30,\n",
    "\"t_bottomhole_c\" :40,\n",
    "\"t_earth_init_in_reservoir_c\" : 40,\n",
    "'p_bottomhole_bar': 114.35, \n",
    "\"d_casing_inner_m\" : 0.133,\n",
    "\"d_tube_inner_m\" : 0.0503,\n",
    "\"qliq_on_surface_m3day\":40,\n",
    "\"p_reservoir_bar\":177,\n",
    "\"fw_on_surface_perc\":0}\n",
    "real_measurements = pd.DataFrame({'p_survey_mpa': [0.9, 1.12, 1.83, 2.957, 4.355, 5.785, 7.3, 8.953, 9.863, 10.176, 11.435],\n",
    "                                 'h_mes_survey_m': [0, 105, 305, 505, 705, 905, 1105, 1305, 1405, 1505, 1605]})"
   ]
  },
  {
   "cell_type": "markdown",
   "metadata": {},
   "source": [
    "Скв. 3Ф 6РМ"
   ]
  },
  {
   "cell_type": "code",
   "execution_count": null,
   "metadata": {},
   "outputs": [],
   "source": [
    "pb_bar = 9 * 10**5,\n",
    "fluid_data = {\"rsb_m3m3\" : 56,\n",
    "\"gamma_oil\" : 0.86,\n",
    "\"gamma_gas\" : 1.45/1.293,\n",
    "'gamma_wat':1.04}\n",
    "\n",
    "well_data = {\"h_intake_mes_m\" :1100,\n",
    "\"h_intake_vert_m\" : 1100,\n",
    "\"h_bottomhole_mes_m\" : 1775,\n",
    "\"h_bottomhole_vert_m\": 1775,\n",
    "             \n",
    "\"geothermal_grad_cm\":0.02,\n",
    "\"t_wellhead_c\":20,\n",
    "\"t_bottomhole_c\" :40,\n",
    "\"t_earth_init_in_reservoir_c\" : 40,\n",
    "'p_bottomhole_bar':163.5,\n",
    "\"d_casing_inner_m\" : 0.133,\n",
    "\"d_tube_inner_m\" : 0.0503,\n",
    "\"qliq_on_surface_m3day\":36/0.86,\n",
    "\"fw_on_surface_perc\":23}\n",
    "real_measurements = pd.DataFrame({'p_survey_mpa': [0.1, 3.05, 4.95, 6.51, 8.23, 9.91, 12.02, 14.14, 16.35],\n",
    "                                 'h_mes_survey_m': [0, 376, 576, 776, 976, 1176, 1376, 1576, 1775]})"
   ]
  },
  {
   "cell_type": "markdown",
   "metadata": {},
   "source": [
    "Скв. 4Ф 7РМ"
   ]
  },
  {
   "cell_type": "code",
   "execution_count": null,
   "metadata": {},
   "outputs": [],
   "source": [
    "pb_bar = 9 * 10**5,\n",
    "fluid_data = {\"rsb_m3m3\" : 56,\n",
    "\"gamma_oil\" : 0.86,\n",
    "\"gamma_gas\" : 1.45/1.293,\n",
    "'gamma_wat':1.064}\n",
    "\n",
    "well_data = {\"h_intake_mes_m\" :1099,\n",
    "\"h_intake_vert_m\" : 1099,\n",
    "\"h_bottomhole_mes_m\" : 1663,\n",
    "\"h_bottomhole_vert_m\": 1663,\n",
    "             \n",
    "\"geothermal_grad_cm\":0.02,\n",
    "\"t_wellhead_c\":15,\n",
    "\"t_bottomhole_c\" :40,\n",
    "\"t_earth_init_in_reservoir_c\" : 40,\n",
    "'p_bottomhole_bar':117.2,\n",
    "\"d_casing_inner_m\" : 0.133,\n",
    "\"d_tube_inner_m\" : 0.0503,\n",
    "\"qliq_on_surface_m3day\":40/0.86,\n",
    "\"fw_on_surface_perc\":6.2}\n",
    "real_measurements = pd.DataFrame({'p_survey_mpa': [0.4, 1.28, 2.29, 3.82, 5.11, 6.75, 8.23, 10.0, 11.72],\n",
    "                                 'h_mes_survey_m': [0, 263, 463, 663, 863, 1063, 1263, 1463, 1663]})"
   ]
  },
  {
   "cell_type": "markdown",
   "metadata": {},
   "source": [
    "Скв. 5Ф 8РМ"
   ]
  },
  {
   "cell_type": "code",
   "execution_count": null,
   "metadata": {},
   "outputs": [],
   "source": [
    "pb_bar = 9 * 10**5,\n",
    "fluid_data = {\"rsb_m3m3\" : 56,\n",
    "\"gamma_oil\" : 0.86,\n",
    "\"gamma_gas\" : 1.45/1.293,\n",
    "'gamma_wat':1.080}\n",
    "\n",
    "well_data = {\"h_intake_mes_m\" :1079,\n",
    "\"h_intake_vert_m\" : 1079,\n",
    "\"h_bottomhole_mes_m\" : 1707,\n",
    "\"h_bottomhole_vert_m\": 1707,\n",
    "             \n",
    "\"geothermal_grad_cm\":0.02,\n",
    "\"t_wellhead_c\":20,\n",
    "\"t_bottomhole_c\" :40,\n",
    "\"t_earth_init_in_reservoir_c\" : 40,\n",
    "'p_bottomhole_bar':150,\n",
    "\"d_casing_inner_m\" : 0.133,\n",
    "\"d_tube_inner_m\" : 0.0503,\n",
    "\"qliq_on_surface_m3day\":154/0.86,\n",
    "\"fw_on_surface_perc\":27}\n",
    "real_measurements = pd.DataFrame({'p_survey_mpa': [1, 2.79, 4.3, 6.1, 7.8, 9.6, 11.3, 13.1, 15],\n",
    "                                 'h_mes_survey_m': [0, 300, 500, 700, 900, 1100, 1300, 1500, 1707]})"
   ]
  },
  {
   "cell_type": "markdown",
   "metadata": {},
   "source": [
    "Скв. 8Ф 12РМ"
   ]
  },
  {
   "cell_type": "code",
   "execution_count": null,
   "metadata": {},
   "outputs": [],
   "source": [
    "pb_bar = 9 * 10**5,\n",
    "fluid_data = {\"rsb_m3m3\" : 56,\n",
    "\"gamma_oil\" : 0.86,\n",
    "\"gamma_gas\" : 1.45/1.293,\n",
    "'gamma_wat':1.064}\n",
    "\n",
    "well_data = {\"h_intake_mes_m\" :1079,\n",
    "\"h_intake_vert_m\" : 1079,\n",
    "\"h_bottomhole_mes_m\" : 1711,\n",
    "\"h_bottomhole_vert_m\": 1711,\n",
    "             \n",
    "\"geothermal_grad_cm\":0.02,\n",
    "\"t_wellhead_c\":10,\n",
    "\"t_bottomhole_c\" :40,\n",
    "\"t_earth_init_in_reservoir_c\" : 40,\n",
    "'p_bottomhole_bar':160.5,\n",
    "\"d_casing_inner_m\" : 0.133,\n",
    "\"d_tube_inner_m\" : 0.0503,\n",
    "\"qliq_on_surface_m3day\":77.5/0.86,\n",
    "\"fw_on_surface_perc\":20.6}\n",
    "real_measurements = pd.DataFrame({'p_survey_mpa': [1, 9.95, 11.25, 12.15, 13.08, 14.11, 15.05, 16.05],\n",
    "                                 'h_mes_survey_m': [0, 1078, 1210, 1310, 1410, 1510, 1610, 1711]})"
   ]
  },
  {
   "cell_type": "markdown",
   "metadata": {},
   "source": [
    "Скв.2Ф Исследование 2Пл Памятно-Сасовское месторождение стр.93"
   ]
  },
  {
   "cell_type": "code",
   "execution_count": null,
   "metadata": {},
   "outputs": [],
   "source": [
    "pb_bar = 16,7 * 10**5\n",
    "mu_oil_cp = 10.05\n",
    "fluid_data = {\"rsb_m3m3\" : 121.72,\n",
    "\"gamma_oil\" : 0.83,\n",
    "\"gamma_gas\" : 0.82}\n",
    "\n",
    "well_data = {\"h_intake_mes_m\" :2519,\n",
    "\"h_intake_vert_m\" : 2519,\n",
    "\"h_bottomhole_mes_m\" : 2730, \n",
    "\"h_bottomhole_vert_m\": 2730,\n",
    "             \n",
    "\"geothermal_grad_cm\":0.027,\n",
    "\"t_wellhead_c\":23.2,\n",
    "\"t_bottomhole_c\" :76,\n",
    "\"t_earth_init_in_reservoir_c\" : 76,\n",
    "'p_bottomhole_bar':225,\n",
    "\"d_casing_inner_m\" : 0.1553,\n",
    "\"d_tube_inner_m\" : 0.076,\n",
    "\"qliq_on_surface_m3day\":209.9,\n",
    "\"fw_on_surface_perc\":0}\n",
    "real_measurements = pd.DataFrame({'p_survey_mpa': [5.73, 8.12, 11.0, 14.15, 17.40, 19.13, 21.41, None],\n",
    "                                  't_survey_c': [23.2, 32.0, 43.5, 55.0, 66.0, 70.2, 75.6, 76.0],\n",
    "                                 'h_mes_survey_m': [0, 500, 1000, 1500, 2000, 2250, 2585, 2700]})"
   ]
  },
  {
   "cell_type": "markdown",
   "metadata": {},
   "source": [
    "Исследование 17ТМ Скв. 2Ф стр.44"
   ]
  },
  {
   "cell_type": "code",
   "execution_count": null,
   "metadata": {},
   "outputs": [],
   "source": [
    "fluid_data = {\"rsb_m3m3\" : 54.5,\n",
    "\"gamma_oil\" : 0.852,\n",
    "\"gamma_gas\" : 1.335/1.293}\n",
    "\n",
    "well_data = {\"h_intake_mes_m\" :1649,\n",
    "\"h_intake_vert_m\" : 1649,\n",
    "\"h_bottomhole_mes_m\" : 1650, \n",
    "\"h_bottomhole_vert_m\": 1650,\n",
    "             \n",
    "\"geothermal_grad_cm\":0.027,\n",
    "\"t_wellhead_c\":23.2,\n",
    "\"t_bottomhole_c\" :40,\n",
    "\"t_earth_init_in_reservoir_c\" : 40,\n",
    "'p_bottomhole_bar':133.5,\n",
    "\"d_casing_inner_m\" : 0.1553,\n",
    "\"d_tube_inner_m\" : 0.062,\n",
    "\"qliq_on_surface_m3day\":35.3,\n",
    "\"fw_on_surface_perc\":0}\n",
    "real_measurements = pd.DataFrame({'p_survey_mpa': [1.59, 2.51, 3.89, 5.27, 6.79, 8.46, 10.01, 11.48, 13.35],\n",
    "                                 'h_mes_survey_m': [0, 200, 400, 600, 800, 1000, 1200, 1400, 1650]})"
   ]
  },
  {
   "cell_type": "markdown",
   "metadata": {},
   "source": [
    "Исследование 18ТМ Скв.2Ф"
   ]
  },
  {
   "cell_type": "code",
   "execution_count": null,
   "metadata": {},
   "outputs": [],
   "source": [
    "pb_bar = 90\n",
    "fluid_data = {\"rsb_m3m3\" : 54.5,\n",
    "\"gamma_oil\" : 0.852,\n",
    "#\"gamma_gas\" : 1.45  * 24.05 / 28.98,\n",
    "               \"gamma_gas\" : 1.45  * 24.05 / 28.98,\n",
    "\n",
    "'pb_bar': pb_bar}\n",
    "\n",
    "well_data = {\"h_intake_mes_m\" :1205,\n",
    "\"h_intake_vert_m\" : 1205,\n",
    "\"h_bottomhole_mes_m\" : 1650, \n",
    "\"h_bottomhole_vert_m\": 1650,\n",
    "             \n",
    "\"geothermal_grad_cm\":0.027,\n",
    "\"t_wellhead_c\":23.2,\n",
    "\"t_bottomhole_c\" :40,\n",
    "\"t_earth_init_in_reservoir_c\" : 40,\n",
    "'p_bottomhole_bar':120,\n",
    "\"d_casing_inner_m\" : 0.1553,\n",
    "\"d_tube_inner_m\" : 0.062,\n",
    "\"qliq_on_surface_m3day\":176.5,\n",
    "\"p_reservoir_bar\":180,\n",
    "\"fw_on_surface_perc\":0}\n",
    "real_measurements = pd.DataFrame({'p_survey_mpa': [1.11, 1.86, 2.97, 4.17, 5.59, 7.02, 8.55, 10.10, 12.0],\n",
    "                                 'h_mes_survey_m': [0, 200, 400, 600, 800, 1000, 1200, 1400, 1650]})"
   ]
  },
  {
   "cell_type": "markdown",
   "metadata": {},
   "source": [
    "Исследование 19ТМ Скв. 2Ф"
   ]
  },
  {
   "cell_type": "code",
   "execution_count": null,
   "metadata": {},
   "outputs": [],
   "source": [
    "fluid_data = {\"rsb_m3m3\" : 54.5,\n",
    "\"gamma_oil\" : 0.852,\n",
    "\"gamma_gas\" : 1.335/1.293}\n",
    "\n",
    "well_data = {\"h_intake_mes_m\" :1649,\n",
    "\"h_intake_vert_m\" : 1649,\n",
    "\"h_bottomhole_mes_m\" : 1650, \n",
    "\"h_bottomhole_vert_m\": 1650,\n",
    "             \n",
    "\"geothermal_grad_cm\":0.027,\n",
    "\"t_wellhead_c\":23.2,\n",
    "\"t_bottomhole_c\" :40,\n",
    "\"t_earth_init_in_reservoir_c\" : 40,\n",
    "'p_bottomhole_bar':115,\n",
    "\"d_casing_inner_m\" : 0.1553,\n",
    "\"d_tube_inner_m\" : 0.062,\n",
    "\"qliq_on_surface_m3day\":223,\n",
    "\"fw_on_surface_perc\":0}\n",
    "real_measurements = pd.DataFrame({'p_survey_mpa': [0.84, 1.51, 2.41, 3.49, 4.74, 6.26, 7.82, 9.47, 11.5],\n",
    "                                 'h_mes_survey_m': [0, 200, 400, 600, 800, 1000, 1200, 1400, 1650]})"
   ]
  },
  {
   "cell_type": "markdown",
   "metadata": {},
   "source": [
    "## Настройка модели скважины и расчет"
   ]
  },
  {
   "cell_type": "code",
   "execution_count": null,
   "metadata": {},
   "outputs": [],
   "source": [
    "#well_data[\"t_wellhead_c\"] = well_data[\"t_bottomhole_c\"]\n"
   ]
  },
  {
   "cell_type": "code",
   "execution_count": null,
   "metadata": {},
   "outputs": [],
   "source": [
    "blackoil_option = BlackOil_model.BlackOil_option()"
   ]
  },
  {
   "cell_type": "markdown",
   "metadata": {},
   "source": [
    "Модель флюида Стендинга"
   ]
  },
  {
   "cell_type": "code",
   "execution_count": null,
   "metadata": {},
   "outputs": [],
   "source": [
    "blackoil_option.b_wat_cor_number = 1\n",
    "blackoil_option.mu_wat_cor_number = 1\n",
    "blackoil_option.rho_wat_cor_number = 1\n",
    "blackoil_option.z_cor_number = 1\n",
    "blackoil_option.pseudocritical_temperature_cor_number = 1\n",
    "blackoil_option.pseudocritical_pressure_cor_number = 1\n",
    "blackoil_option.rho_gas_cor_number = 1\n",
    "blackoil_option.b_gas_cor_number = 1\n",
    "blackoil_option.mu_dead_oil_cor_number = 2\n",
    "blackoil_option.sigma_oil_gas_cor_number = 2\n",
    "blackoil_option.sigma_wat_gas_cor_number = 1\n",
    "#blackoil_option.rs_cor_number = 2\n",
    "blackoil_option.pb_cor_number = 3"
   ]
  },
  {
   "cell_type": "markdown",
   "metadata": {},
   "source": [
    "Модель флюида Маккейна (работает после активации Стендинга)"
   ]
  },
  {
   "cell_type": "code",
   "execution_count": null,
   "metadata": {},
   "outputs": [],
   "source": [
    "#unf_pvt_compressibility_oil_VB_1atm\n",
    "#blackoil_option.pb_cor_number = 1\n",
    "blackoil_option.mu_dead_oil_cor_number = 1\n",
    "blackoil_option.rs_cor_number = 1\n",
    "blackoil_option.rho_oil_cor_number = 1\n",
    "\n",
    "blackoil_option.b_oil_below_pb_cor_number = 2\n",
    "blackoil_option.b_oil_above_pb_cor_number = 1\n",
    "blackoil_option.mu_oil_pb_cor_number = 1\n",
    "blackoil_option.mu_oil_any_p_cor_number = 1\n",
    "#blackoil_option.compr_oil_cor_number = 1\n",
    "#blackoil_option.compr_oil_below_pb_cor_number = 1"
   ]
  },
  {
   "cell_type": "code",
   "execution_count": null,
   "metadata": {},
   "outputs": [],
   "source": [
    "\n",
    "simple_well = self_flow_well.self_flow_well(fluid=1, reservoir = 0, pipe=0, temp_corr=1, **fluid_data,\n",
    "                                                **well_data, **calc_options, activate_rus_mode = 1)\n",
    "    "
   ]
  },
  {
   "cell_type": "code",
   "execution_count": null,
   "metadata": {},
   "outputs": [],
   "source": [
    "simple_well.pipe.hydr_cor.pains_corr_using =0\n"
   ]
  },
  {
   "cell_type": "code",
   "execution_count": null,
   "metadata": {},
   "outputs": [],
   "source": [
    "simple_well.pipe.hydr_cor.gravity_grad_coef =0.95\n",
    "simple_well.pipe.hydr_cor.friction_grad_coef =0.9"
   ]
  },
  {
   "cell_type": "code",
   "execution_count": null,
   "metadata": {},
   "outputs": [],
   "source": [
    "simple_well.pipe.fluid_flow.fl.option = blackoil_option"
   ]
  },
  {
   "cell_type": "code",
   "execution_count": null,
   "metadata": {},
   "outputs": [],
   "source": [
    "simple_well.pipe.hydr_cor.epsilon_friction_m = 0.00029"
   ]
  },
  {
   "cell_type": "code",
   "execution_count": null,
   "metadata": {},
   "outputs": [],
   "source": [
    "simple_well.calc_all_from_down_to_up()"
   ]
  },
  {
   "cell_type": "markdown",
   "metadata": {},
   "source": [
    "# Проверка с помощью UniflocVBA"
   ]
  },
  {
   "cell_type": "code",
   "execution_count": null,
   "metadata": {},
   "outputs": [],
   "source": [
    "uniflocvba = python_api.API('E:\\\\Git\\\\unifloc_vba\\\\UniflocVBA_7.xlam')\n",
    "\n"
   ]
  },
  {
   "cell_type": "code",
   "execution_count": null,
   "metadata": {},
   "outputs": [],
   "source": [
    "fluid_data = {\"rsb_m3m3\" : 56,\n",
    "\"gamma_oil\" : 0.86,\n",
    " \"gamma_gas\" : 1.45  * 24.05 / 28.98}"
   ]
  },
  {
   "cell_type": "code",
   "execution_count": null,
   "metadata": {},
   "outputs": [],
   "source": [
    "str_pvt = uniflocvba.PVT_encode_string(**fluid_data,tres_C =  well_data['t_earth_init_in_reservoir_c'])"
   ]
  },
  {
   "cell_type": "code",
   "execution_count": null,
   "metadata": {},
   "outputs": [],
   "source": [
    "calc_along_coord = 0\n",
    "flow_along_coord =0 \n",
    "hydr_corr = 0\n",
    "temp_method = 1\n",
    "c_calibr_grav=1\n",
    "c_calibr_fric=1\n",
    "roughness_m=0.0001\n",
    "q_gas_sm3day=0\n",
    "out_curves_num_points=int(well_data[\"h_bottomhole_mes_m\"]/calc_options['step_lenth_in_calc_along_wellbore_m'])"
   ]
  },
  {
   "cell_type": "code",
   "execution_count": null,
   "metadata": {},
   "outputs": [],
   "source": [
    "result =uniflocvba.MF_p_pipeline_atma(\n",
    "    well_data[\"qliq_on_surface_m3day\"],\n",
    "    well_data[\"fw_on_surface_perc\"],\n",
    "    [\n",
    "        [0,0],\n",
    "         [well_data[\"h_bottomhole_mes_m\"], well_data[\"h_bottomhole_mes_m\"]\n",
    "         ]\n",
    "    ],\n",
    "    uconst.bar2atm(well_data[\"p_bottomhole_bar\"]),\n",
    "    well_data[\"t_bottomhole_c\"],\n",
    "    calc_along_coord,\n",
    "    flow_along_coord,\n",
    "    str_pvt,\n",
    "    [[0,well_data[\"d_tube_inner_m\"] * 1000],\n",
    "     [well_data[\"h_intake_mes_m\"],well_data[\"d_casing_inner_m\"] * 1000],\n",
    "     [well_data[\"h_bottomhole_mes_m\"],well_data[\"d_casing_inner_m\"] * 1000]],\n",
    "    hydr_corr,\n",
    "    [[0,well_data[\"t_wellhead_c\"]], [well_data[\"h_bottomhole_mes_m\"],well_data[\"t_bottomhole_c\"]]],\n",
    "    temp_method,\n",
    "    c_calibr_grav,\n",
    "    c_calibr_fric,\n",
    "    roughness_m,\n",
    "    q_gas_sm3day,\n",
    "    out_curves_num_points)"
   ]
  },
  {
   "cell_type": "code",
   "execution_count": null,
   "metadata": {},
   "outputs": [],
   "source": [
    "result_vba = bvba.covert_result_from_vba_to_df(result)"
   ]
  },
  {
   "cell_type": "markdown",
   "metadata": {},
   "source": [
    "## Выгрузка расчитанных значений и объединение с фактическими данными"
   ]
  },
  {
   "cell_type": "code",
   "execution_count": null,
   "metadata": {},
   "outputs": [],
   "source": [
    "result_df = simple_well.data.get_data_as_df()\n",
    "result_df.to_excel('uvalidation_self_flow_well_result.xlsx')\n",
    "result_df = result_df.set_index('well.h_calculated_mes_m')"
   ]
  },
  {
   "cell_type": "code",
   "execution_count": null,
   "metadata": {},
   "outputs": [],
   "source": [
    "result_df_p = simple_well.data.get_data_as_df()\n",
    "result_df_p = result_df_p.set_index('well.p_calculated_bar')"
   ]
  },
  {
   "cell_type": "markdown",
   "metadata": {},
   "source": [
    "Выгрузка ограниченного набора данных"
   ]
  },
  {
   "cell_type": "code",
   "execution_count": null,
   "metadata": {},
   "outputs": [],
   "source": [
    "group_patterns = [['p_calculated_bar'], ['t_calculated'],['gas_fraction'], ['rhon'], ['mun'], ['density'], \n",
    "                  ['friction_grad'], ['number_re'], ['pb_bar'], ['fluid_flow', 'msec'], ['vsl'], ['vsg'], ['result_grad'], \n",
    "                  ['acceleration'], ['rsb_m3t'], ['gas_liberated_m3t'], ['self.gas_dissolved_m3t'],\n",
    "                 ['b_oil_m3m3'], ['rho_oil_kgm3'], ['mu_oil_cp'],['fl.z'], ['rho_gas_dissolved_relative_d']]\n",
    "antipatterns = ['temp_cor', 'dvdp', 'grad_coef', 'module_friction', 'grad_using', 'for_rus_cor']\n",
    "print_all = True\n",
    "columns_to_plot = plotly_workflow.create_columns_to_plot(result_df, group_patterns, antipatterns, print_all)\n",
    "short_df = result_df[columns_to_plot]\n",
    "short_df = utool.rename_columns_by_dict(short_df)\n",
    "\n",
    "class_names = ['hydr_cor.', 'temp_cor.', 'fl.', 'fluid_flow.', 'well.', 'earth']\n",
    "for i in class_names:\n",
    "    short_df = utool.rename_columns_by_dict(short_df,{'':i})\n",
    "short_df.index.name = 'Измеренная глубина, м'\n",
    "short_df.to_excel('uvalidation_self_flow_well_short_result.xlsx')"
   ]
  },
  {
   "cell_type": "markdown",
   "metadata": {},
   "source": [
    "Добавление результатов фактических исследований"
   ]
  },
  {
   "cell_type": "code",
   "execution_count": null,
   "metadata": {},
   "outputs": [],
   "source": [
    "real_measurements[\"p_survey_bar\"] = real_measurements[\"p_survey_mpa\"] * 10\n",
    "real_measurements = real_measurements.set_index(real_measurements['h_mes_survey_m'])\n",
    "real_measurements.index.name = 'well.h_calculated_mes_m'\n",
    "\n",
    "result_df = result_df.join(real_measurements, how = 'outer')"
   ]
  },
  {
   "cell_type": "code",
   "execution_count": null,
   "metadata": {},
   "outputs": [],
   "source": [
    "(real_measurements[\"p_survey_bar\"][0] - simple_well.p_wellhead_bar) / real_measurements[\"p_survey_bar\"][0] * 100"
   ]
  },
  {
   "cell_type": "markdown",
   "metadata": {},
   "source": [
    "Добавление результатов расчета через VBA"
   ]
  },
  {
   "cell_type": "code",
   "execution_count": null,
   "metadata": {},
   "outputs": [],
   "source": [
    "result_df = result_df.join(result_vba, how = 'outer')"
   ]
  },
  {
   "cell_type": "code",
   "execution_count": null,
   "metadata": {},
   "outputs": [],
   "source": [
    "(real_measurements[\"p_survey_bar\"][0] - result_vba['p_calculated_bar_vba'][0]) / real_measurements[\"p_survey_bar\"][0] * 100"
   ]
  },
  {
   "cell_type": "code",
   "execution_count": null,
   "metadata": {},
   "outputs": [],
   "source": [
    "(result_vba[\"p_calculated_bar_vba\"][0] - simple_well.p_wellhead_bar) / result_vba[\"p_calculated_bar_vba\"][0] * 100"
   ]
  },
  {
   "cell_type": "markdown",
   "metadata": {},
   "source": [
    "## Построение графиков"
   ]
  },
  {
   "cell_type": "code",
   "execution_count": null,
   "metadata": {},
   "outputs": [],
   "source": [
    "group_patterns = [[\"p_bar\", 'fl'], ['t_c', 'fl'], ['well.t_calculated_earth_init'], ['survey'], ['p_calculated_bar_vba'], ['t_calculated_c_vba']]\n",
    "antipatterns = ['mu', 'h_mes_survey', 'mpa', 'fl.']\n",
    "plotly_workflow.plot_by_patterns(result_df, group_patterns, antipatterns, plot_name='Распределение свойств по глубине',\n",
    "                                 print_all=False)"
   ]
  },
  {
   "cell_type": "markdown",
   "metadata": {},
   "source": [
    "## Встроенный блок многовариативного анализа"
   ]
  },
  {
   "cell_type": "code",
   "execution_count": null,
   "metadata": {},
   "outputs": [],
   "source": [
    "results = []\n",
    "for i in range(10, int(well_data['qliq_on_surface_m3day'] * 1.35), int((well_data['qliq_on_surface_m3day'] * 1.35 - 10) / 5) ):\n",
    "#for i in range(1, 220, int(218/5)):\n",
    "\n",
    "    print(i)\n",
    "    simple_well.data.clear_data()\n",
    "    simple_well.qliq_on_surface_m3day = i\n",
    "    simple_well.calc_all_from_down_to_up()\n",
    "    this_result_df = simple_well.data.get_data_as_df()\n",
    "    this_result_df = this_result_df.set_index('well.h_calculated_mes_m')\n",
    "    results.append(this_result_df)\n",
    "    \n",
    "    this_result_df = this_result_df.add_prefix(f\"qliq_m3day: {i}, \")\n",
    "    try:\n",
    "        result_df_to_plot = result_df_to_plot.join(this_result_df)\n",
    "    except:\n",
    "        result_df_to_plot = this_result_df.copy()"
   ]
  },
  {
   "cell_type": "code",
   "execution_count": null,
   "metadata": {},
   "outputs": [],
   "source": [
    "result_df_analysis = None\n",
    "for i in results:\n",
    "    qliq_on_surface_m3day = i['well.qliq_on_surface_m3day'][0]\n",
    "    this_df = pd.DataFrame({'well.p_bottomhole_bar': i['well.p_bottomhole_bar'][0],\n",
    "                           'ipr.p_reservoir_bar': i['ipr.p_reservoir_bar'][0],\n",
    "                           'well.p_calculated_bar': i['well.p_calculated_bar'][0],\n",
    "                           'p_wellhead_bar': real_measurements['p_survey_mpa'][0]*10}, index = [qliq_on_surface_m3day])\n",
    "    try:\n",
    "        result_df_analysis = result_df_analysis.append(this_df)\n",
    "    except:\n",
    "        result_df_analysis = this_df.copy()"
   ]
  },
  {
   "cell_type": "code",
   "execution_count": null,
   "metadata": {},
   "outputs": [],
   "source": [
    "patterns = [[x] for x in result_df_analysis.columns]"
   ]
  },
  {
   "cell_type": "code",
   "execution_count": null,
   "metadata": {},
   "outputs": [],
   "source": [
    "plotly_workflow.plot_by_patterns(result_df_analysis, patterns, [], plot_name='Определение максимального дебита скважины',\n",
    "                                 print_all=False, swap_xy=False, reversed_y=False,\n",
    "                                x_name='Дебит жидкости, м3/сут',\n",
    "    y_name='Давление, бар',\n",
    "    traces_names=['Давление на забое скважины, бар',\n",
    "                 'Пластовое давление, бар',\n",
    "                 'Устьевое давление, бар',\n",
    "                 'Устевое давление по тех.режиму'])"
   ]
  },
  {
   "cell_type": "code",
   "execution_count": null,
   "metadata": {},
   "outputs": [],
   "source": [
    "group_patterns = [[\"p_bar\", 'fl'], ['t_c', 'fl'], ['well.t_calculated_earth_init'], ['survey']]\n",
    "antipatterns = ['mu', 'h_mes_survey', 'mpa']\n",
    "plotly_workflow.plot_by_patterns(results[0], group_patterns, antipatterns, plot_name='Распределение свойств по глубине')"
   ]
  },
  {
   "cell_type": "markdown",
   "metadata": {},
   "source": [
    "Результаты в одном DataFrame"
   ]
  },
  {
   "cell_type": "code",
   "execution_count": null,
   "metadata": {},
   "outputs": [],
   "source": [
    "result_df = result_df_to_plot"
   ]
  },
  {
   "cell_type": "markdown",
   "metadata": {},
   "source": [
    "Результаты по одной скважине"
   ]
  },
  {
   "cell_type": "code",
   "execution_count": null,
   "metadata": {},
   "outputs": [],
   "source": [
    "result_df = results[0]"
   ]
  },
  {
   "cell_type": "markdown",
   "metadata": {},
   "source": [
    "## Продолжение построения распределения свойств по глубине для выбранной скважины"
   ]
  },
  {
   "cell_type": "markdown",
   "metadata": {},
   "source": [
    "Почему не сходится\n",
    "\n",
    "\n",
    "массовый расход не сходится\n",
    "\n",
    "q_gas"
   ]
  },
  {
   "cell_type": "markdown",
   "metadata": {},
   "source": [
    "### Название всех сохраненных параметров для выбора или не выбора их при построении графиков"
   ]
  },
  {
   "cell_type": "code",
   "execution_count": null,
   "metadata": {},
   "outputs": [],
   "source": [
    "for i in result_df.columns:\n",
    "    print(i)"
   ]
  },
  {
   "cell_type": "code",
   "execution_count": null,
   "metadata": {},
   "outputs": [],
   "source": [
    "group_patterns = [\"flow_regime\"]\n",
    "antipatterns = ['tpb', 'well_profile']\n",
    "plotly_workflow.plot_by_patterns(result_df, group_patterns, antipatterns, plot_name='Распределение свойств по глубине',\n",
    "                                 print_all=False)"
   ]
  },
  {
   "cell_type": "code",
   "execution_count": null,
   "metadata": {},
   "outputs": [],
   "source": [
    "group_patterns = [\"fl.z\"]\n",
    "antipatterns = ['tpb', 'well_profile']\n",
    "plotly_workflow.plot_by_patterns(result_df, group_patterns, antipatterns, plot_name='Распределение свойств по глубине',\n",
    "                                 print_all=False)"
   ]
  },
  {
   "cell_type": "code",
   "execution_count": null,
   "metadata": {},
   "outputs": [],
   "source": [
    "group_patterns = [[\"fl.gamma_gas\"], ['rho_gas_liberated_d']]\n",
    "antipatterns = ['tpb', 'well_profile']\n",
    "plotly_workflow.plot_by_patterns(result_df, group_patterns, antipatterns, plot_name='Распределение свойств по глубине',\n",
    "                                 print_all=False)"
   ]
  },
  {
   "cell_type": "code",
   "execution_count": null,
   "metadata": {},
   "outputs": [],
   "source": [
    "group_patterns = [\"Ek\"]\n",
    "antipatterns = ['tpb', 'well_profile']\n",
    "plotly_workflow.plot_by_patterns(result_df, group_patterns, antipatterns, plot_name='Распределение свойств по глубине',\n",
    "                                 print_all=False)"
   ]
  },
  {
   "cell_type": "code",
   "execution_count": null,
   "metadata": {},
   "outputs": [],
   "source": [
    "group_patterns = [[\"p_calculated_bar\"]]\n",
    "antipatterns = ['mu', 'h_mes_survey', 'mpa','fl','ipr']\n",
    "plotly_workflow.plot_by_patterns(result_df, group_patterns, antipatterns, plot_name='Расчет КРД',\n",
    "                                 print_all=False,\n",
    "                                x_name='Давление, бар',\n",
    "    y_name='Глубина, м',\n",
    "    traces_names=['КРД при Q=10 м3/сут', 'КРД при Q=18 м3/сут',\n",
    "                 'КРД при Q=26 м3/сут','КРД при Q=34 м3/сут','КРД при Q=42 м3/сут', 'КРД при Q=50 м3/сут']\n",
    "                                )"
   ]
  },
  {
   "cell_type": "code",
   "execution_count": null,
   "metadata": {},
   "outputs": [],
   "source": [
    "group_patterns = [[\"p_calculated_bar\"]]\n",
    "antipatterns = ['mu', 'h_mes_survey', 'mpa','fl','ipr']\n",
    "plotly_workflow.plot_by_patterns(result_df, group_patterns, antipatterns, plot_name='Расчет КРД',\n",
    "                                 print_all=False,\n",
    "                                x_name='Давление, бар',\n",
    "    y_name='Глубина, м',\n",
    "    traces_names=['КРД при Q=1 м3/сут', 'КРД при Q=44 м3/сут',\n",
    "                 'КРД при Q=83 м3/сут','КРД при Q=130 м3/сут','КРД при Q=173 м3/сут', 'КРД при Q=216 м3/сут']\n",
    "                                )"
   ]
  },
  {
   "cell_type": "code",
   "execution_count": null,
   "metadata": {},
   "outputs": [],
   "source": [
    "group_patterns = [[\"p_calculated_bar\"], ['p_survey']]\n",
    "antipatterns = ['mu', 'h_mes_survey', 'mpa','fl','ipr']\n",
    "plotly_workflow.plot_by_patterns(result_df, group_patterns, antipatterns, plot_name='КРД',\n",
    "                                 print_all=False,\n",
    "                                x_name='Давление, бар',\n",
    "    y_name='Глубина, м',\n",
    "    traces_names=['Расчет КРД по Беггз Брилл', 'Факт КРД'])"
   ]
  },
  {
   "cell_type": "code",
   "execution_count": null,
   "metadata": {},
   "outputs": [],
   "source": [
    "group_patterns = [\"p_wellhead\"]\n",
    "antipatterns = ['mu', 'h_mes_survey', 'mpa','fl','ipr']\n",
    "plotly_workflow.plot_by_patterns(result_df, group_patterns, antipatterns, plot_name='Распределение свойств по глубине',\n",
    "                                 print_all=False)"
   ]
  },
  {
   "cell_type": "code",
   "execution_count": null,
   "metadata": {},
   "outputs": [],
   "source": [
    "group_patterns = [['rho_slip']]\n",
    "antipatterns = ['cor_number', 'earth']\n",
    "plotly_workflow.plot_by_patterns(result_df, group_patterns, antipatterns, plot_name='Распределение свойств по глубине',\n",
    "                                 print_all=False)"
   ]
  },
  {
   "cell_type": "code",
   "execution_count": null,
   "metadata": {},
   "outputs": [],
   "source": [
    "group_patterns = [['pb']]\n",
    "antipatterns = ['cor_number', 'earth']\n",
    "plotly_workflow.plot_by_patterns(result_df, group_patterns, antipatterns, plot_name='Распределение свойств по глубине',\n",
    "                                 print_all=False)"
   ]
  },
  {
   "cell_type": "code",
   "execution_count": null,
   "metadata": {},
   "outputs": [],
   "source": [
    "group_patterns = [['rs']]\n",
    "antipatterns = ['cor_number', 'earth', 'with','cor']\n",
    "plotly_workflow.plot_by_patterns(result_df, group_patterns, antipatterns, plot_name='Распределение свойств по глубине',\n",
    "                                 print_all=False)"
   ]
  },
  {
   "cell_type": "code",
   "execution_count": null,
   "metadata": {},
   "outputs": [],
   "source": [
    "group_patterns = [[\"gas_fraction\"]]\n",
    "antipatterns = ['cor_number', 'earth', 'with','cor']\n",
    "plotly_workflow.plot_by_patterns(result_df, group_patterns, antipatterns, plot_name='Распределение свойств по глубине',\n",
    "                                 print_all=False)"
   ]
  },
  {
   "cell_type": "code",
   "execution_count": null,
   "metadata": {},
   "outputs": [],
   "source": [
    "group_patterns = [[\"liquid_content_with_Pains_cor\"]]\n",
    "antipatterns = ['cor_number', 'earth']\n",
    "plotly_workflow.plot_by_patterns(result_df, group_patterns, antipatterns, plot_name='Распределение свойств по глубине',\n",
    "                                 print_all=False)"
   ]
  },
  {
   "cell_type": "code",
   "execution_count": null,
   "metadata": {},
   "outputs": [],
   "source": [
    "group_patterns = [[\"gas_fraction\"],['c_gasfrac'],['liquid_content']]\n",
    "antipatterns = ['cor_number', 'earth', 'with','cor']\n",
    "plotly_workflow.plot_by_patterns(result_df, group_patterns, antipatterns, plot_name='Распределение свойств по глубине',\n",
    "                                 print_all=False)"
   ]
  },
  {
   "cell_type": "code",
   "execution_count": null,
   "metadata": {},
   "outputs": [],
   "source": [
    "group_patterns = [\"mu\"]\n",
    "antipatterns = ['earth', 'cor_number']\n",
    "plotly_workflow.plot_by_patterns(result_df, group_patterns, antipatterns, plot_name='Распределение свойств по глубине',\n",
    "                                 print_all=False)"
   ]
  },
  {
   "cell_type": "code",
   "execution_count": null,
   "metadata": {},
   "outputs": [],
   "source": [
    "group_patterns = [[\"_m3day\"]]\n",
    "antipatterns = ['earth', 'on_surface']\n",
    "plotly_workflow.plot_by_patterns(result_df, group_patterns, antipatterns, plot_name='Распределение свойств по глубине',\n",
    "                                 print_all=False)"
   ]
  },
  {
   "cell_type": "code",
   "execution_count": null,
   "metadata": {},
   "outputs": [],
   "source": [
    "group_patterns = [\"perc\",'fw']\n",
    "antipatterns = ['earth']\n",
    "plotly_workflow.plot_by_patterns(result_df, group_patterns, antipatterns, plot_name='Распределение свойств по глубине',\n",
    "                                 print_all=False)"
   ]
  },
  {
   "cell_type": "code",
   "execution_count": null,
   "metadata": {},
   "outputs": [],
   "source": [
    "group_patterns = [[\"d_m\"],['diam']]\n",
    "antipatterns = ['earth', 'mes_m']\n",
    "plotly_workflow.plot_by_patterns(result_df, group_patterns, antipatterns, plot_name='Распределение свойств по глубине',\n",
    "                                 print_all=False)"
   ]
  },
  {
   "cell_type": "code",
   "execution_count": null,
   "metadata": {},
   "outputs": [],
   "source": [
    "group_patterns = [\"rs\",\"m3m3\"]\n",
    "antipatterns = ['earth']\n",
    "plotly_workflow.plot_by_patterns(result_df, group_patterns, antipatterns, plot_name='Распределение свойств по глубине',\n",
    "                                 print_all=False)"
   ]
  },
  {
   "cell_type": "code",
   "execution_count": null,
   "metadata": {},
   "outputs": [],
   "source": [
    "group_patterns = [\"fl.rs\"]\n",
    "antipatterns = ['secm', 'msecpam', 'earth', 't_calculated', 'mass_flowrate', 'gasfrac']\n",
    "plotly_workflow.plot_by_patterns(result_df, group_patterns, antipatterns, plot_name='Распределение свойств по глубине',\n",
    "                                 print_all=False)"
   ]
  },
  {
   "cell_type": "code",
   "execution_count": null,
   "metadata": {},
   "outputs": [],
   "source": [
    "group_patterns = [\"vsl_msec\"]\n",
    "antipatterns = ['secm', 'msecpam', 'earth', 't_calculated', 'mass_flowrate', 'gasfrac']\n",
    "plotly_workflow.plot_by_patterns(result_df, group_patterns, antipatterns, plot_name='Распределение свойств по глубине',\n",
    "                                 print_all=False)"
   ]
  },
  {
   "cell_type": "code",
   "execution_count": null,
   "metadata": {},
   "outputs": [],
   "source": [
    "group_patterns = [\"grad\"]\n",
    "antipatterns = ['secm', 'msecpam', 'earth', 't_calculated', 'mass_flowrate', 'gasfrac']\n",
    "plotly_workflow.plot_by_patterns(result_df, group_patterns, antipatterns, plot_name='Распределение свойств по глубине',\n",
    "                                 print_all=False)"
   ]
  },
  {
   "cell_type": "code",
   "execution_count": null,
   "metadata": {},
   "outputs": [],
   "source": [
    "group_patterns = [\"vm\"]\n",
    "antipatterns = ['secm', 'msecpam', 'earth', 't_calculated', 'mass_flowrate', 'gasfrac']\n",
    "plotly_workflow.plot_by_patterns(result_df, group_patterns, antipatterns, plot_name='Распределение свойств по глубине',\n",
    "                                 print_all=False)"
   ]
  },
  {
   "cell_type": "code",
   "execution_count": null,
   "metadata": {},
   "outputs": [],
   "source": [
    "group_patterns = [\"val_number_Fr\"]\n",
    "antipatterns = ['secm', 'msecpam', 'earth', 't_calculated', 'mass_flowrate', 'gasfrac']\n",
    "plotly_workflow.plot_by_patterns(result_df, group_patterns, antipatterns, plot_name='Распределение свойств по глубине',\n",
    "                                 print_all=False)"
   ]
  },
  {
   "cell_type": "code",
   "execution_count": null,
   "metadata": {},
   "outputs": [],
   "source": [
    "group_patterns = [\"rho_liq\"]\n",
    "antipatterns = ['secm', 'msecpam', 'earth', 't_calculated', 'mass_flowrate', 'gasfrac']\n",
    "plotly_workflow.plot_by_patterns(result_df, group_patterns, antipatterns, plot_name='Распределение свойств по глубине',\n",
    "                                 print_all=False)"
   ]
  },
  {
   "cell_type": "code",
   "execution_count": null,
   "metadata": {},
   "outputs": [],
   "source": [
    "group_patterns = [[\"c_vl\"],['c_vg'],['vsg']]\n",
    "antipatterns = ['tpb', 'number']\n",
    "plotly_workflow.plot_by_patterns(result_df, group_patterns, antipatterns, plot_name='Распределение свойств по глубине',\n",
    "                                 print_all=False)"
   ]
  },
  {
   "cell_type": "code",
   "execution_count": null,
   "metadata": {},
   "outputs": [],
   "source": [
    "group_patterns = [[\"liquid_holdup\"]]\n",
    "antipatterns = ['tpb', 'number']\n",
    "plotly_workflow.plot_by_patterns(result_df, group_patterns, antipatterns, plot_name='Распределение свойств по глубине',\n",
    "                                 print_all=False)"
   ]
  },
  {
   "cell_type": "code",
   "execution_count": null,
   "metadata": {},
   "outputs": [],
   "source": [
    "group_patterns = [\"pb\"]\n",
    "antipatterns = ['tpb', 'number']\n",
    "plotly_workflow.plot_by_patterns(result_df, group_patterns, antipatterns, plot_name='Распределение свойств по глубине',\n",
    "                                 print_all=False)"
   ]
  },
  {
   "cell_type": "code",
   "execution_count": null,
   "metadata": {},
   "outputs": [],
   "source": [
    "group_patterns = [ 'density']\n",
    "antipatterns = ['tpb', 'number', 'well_profile']\n",
    "plotly_workflow.plot_by_patterns(result_df, group_patterns, antipatterns, plot_name='Распределение свойств по глубине',\n",
    "                                 print_all=False)"
   ]
  },
  {
   "cell_type": "code",
   "execution_count": null,
   "metadata": {},
   "outputs": [],
   "source": [
    "group_patterns = [\"number_Re\"]\n",
    "antipatterns = ['tpb', 'well_profile']\n",
    "plotly_workflow.plot_by_patterns(result_df, group_patterns, antipatterns, plot_name='Распределение свойств по глубине',\n",
    "                                 print_all=False)"
   ]
  },
  {
   "cell_type": "code",
   "execution_count": null,
   "metadata": {},
   "outputs": [],
   "source": [
    "group_patterns = [\"gas_fraction_real_d\"]\n",
    "antipatterns = ['tpb', 'well_profile']\n",
    "plotly_workflow.plot_by_patterns(result_df, group_patterns, antipatterns, plot_name='Распределение свойств по глубине',\n",
    "                                 print_all=False)"
   ]
  },
  {
   "cell_type": "code",
   "execution_count": null,
   "metadata": {},
   "outputs": [],
   "source": [
    "group_patterns = [\"angle_grad\"]\n",
    "antipatterns = ['tpb', 'well_profile']\n",
    "plotly_workflow.plot_by_patterns(result_df, group_patterns, antipatterns, plot_name='Распределение свойств по глубине',\n",
    "                                 print_all=False)"
   ]
  },
  {
   "cell_type": "code",
   "execution_count": null,
   "metadata": {},
   "outputs": [],
   "source": [
    "group_patterns = [\"Nlv\"]\n",
    "antipatterns = ['tpb', 'well_profile']\n",
    "plotly_workflow.plot_by_patterns(result_df, group_patterns, antipatterns, plot_name='Распределение свойств по глубине',\n",
    "                                 print_all=False)"
   ]
  },
  {
   "cell_type": "code",
   "execution_count": null,
   "metadata": {},
   "outputs": [],
   "source": [
    "group_patterns = [\"grad\"]\n",
    "antipatterns = ['tpb', 'well_profile','percent','angle','therm','t_c']\n",
    "plotly_workflow.plot_by_patterns(result_df, group_patterns, antipatterns, plot_name='Распределение свойств по глубине',\n",
    "                                 print_all=False)"
   ]
  },
  {
   "cell_type": "code",
   "execution_count": null,
   "metadata": {},
   "outputs": [],
   "source": [
    "group_patterns = [\"angle_correction\"]\n",
    "antipatterns = ['tpb', 'well_profile']\n",
    "plotly_workflow.plot_by_patterns(result_df, group_patterns, antipatterns, plot_name='Распределение свойств по глубине',\n",
    "                                 print_all=False)"
   ]
  },
  {
   "cell_type": "code",
   "execution_count": null,
   "metadata": {
    "scrolled": true
   },
   "outputs": [],
   "source": [
    "group_patterns = [\"mass_flowraten\"]\n",
    "antipatterns = ['tpb', 'well_profile']\n",
    "plotly_workflow.plot_by_patterns(result_df, group_patterns, antipatterns, plot_name='Распределение свойств по глубине',\n",
    "                                 print_all=False)"
   ]
  },
  {
   "cell_type": "code",
   "execution_count": null,
   "metadata": {},
   "outputs": [],
   "source": [
    "group_patterns = [\"number\",'calculation']\n",
    "antipatterns = ['tpb', 'well_profile']\n",
    "plotly_workflow.plot_by_patterns(result_df, group_patterns, antipatterns, plot_name='Распределение свойств по глубине',\n",
    "                                 print_all=False)"
   ]
  },
  {
   "cell_type": "code",
   "execution_count": null,
   "metadata": {},
   "outputs": [],
   "source": [
    "group_patterns = ['time_calculated_sec']\n",
    "antipatterns = ['tpb', 'well_profile']\n",
    "plotly_workflow.plot_by_patterns(result_df, group_patterns, antipatterns, plot_name='Распределение свойств по глубине',\n",
    "                                 print_all=False)"
   ]
  },
  {
   "cell_type": "code",
   "execution_count": null,
   "metadata": {},
   "outputs": [],
   "source": [
    "group_patterns = ['gas_fraction']\n",
    "antipatterns = ['tpb', 'well_profile']\n",
    "plotly_workflow.plot_by_patterns(result_df, group_patterns, antipatterns, plot_name='Распределение свойств по глубине',\n",
    "                                 print_all=False)"
   ]
  },
  {
   "cell_type": "code",
   "execution_count": null,
   "metadata": {},
   "outputs": [],
   "source": [
    "group_patterns = ['rho_gas_liberated_d']\n",
    "antipatterns = ['tpb', 'well_profile']\n",
    "plotly_workflow.plot_by_patterns(result_df, group_patterns, antipatterns, plot_name='Распределение свойств по глубине',\n",
    "                                 print_all=False)"
   ]
  },
  {
   "cell_type": "code",
   "execution_count": null,
   "metadata": {},
   "outputs": [],
   "source": [
    "0.039**2/9.81/0.0503"
   ]
  },
  {
   "cell_type": "markdown",
   "metadata": {},
   "source": [
    "Свойства от давления"
   ]
  },
  {
   "cell_type": "code",
   "execution_count": null,
   "metadata": {},
   "outputs": [],
   "source": [
    "group_patterns = [[\"qgas_m3day\"],[\"qgas_dissolved_m3day\"]]\n",
    "antipatterns = ['tpb', 'number']\n",
    "plotly_workflow.plot_by_patterns(result_df_p, group_patterns, antipatterns, plot_name='Зависимость параметров от давления',\n",
    "                                 print_all=False, swap_xy=False, reversed_y=False)"
   ]
  },
  {
   "cell_type": "code",
   "execution_count": null,
   "metadata": {},
   "outputs": [],
   "source": [
    "group_patterns = [[\"liberated_gas_sc_m3m3\"],['dissolved_gas_sc_m3m3'], ['fl.rs'], ['fl.gas_liberated_m3m3']]\n",
    "antipatterns = ['tpb', 'number']\n",
    "plotly_workflow.plot_by_patterns(result_df_p, group_patterns, antipatterns, plot_name='Зависимость параметров от давления',\n",
    "                                 print_all=False, swap_xy=False, reversed_y=False)"
   ]
  },
  {
   "cell_type": "code",
   "execution_count": null,
   "metadata": {},
   "outputs": [],
   "source": [
    "group_patterns = [[\"liberated_gas_sc_m3m3\"],['dissolved_gas_sc_m3m3']]\n",
    "antipatterns = ['tpb', 'number']\n",
    "plotly_workflow.plot_by_patterns(result_df_p, group_patterns, antipatterns,\n",
    "                                 print_all=False, swap_xy=False, reversed_y=False,\n",
    "                                plot_name='Удельный объем выделившегося и растворенного газа',\n",
    "                                x_name = 'Давление, бар', \n",
    "                                y_name = 'м3/м3',\n",
    "                                traces_names = [\n",
    "                                               'Удельный объем выделившегося газа, м3/м3',\n",
    "                                    'Удельный объем растворенного газа, м3/м3'\n",
    "                                               ])"
   ]
  },
  {
   "cell_type": "code",
   "execution_count": null,
   "metadata": {},
   "outputs": [],
   "source": []
  },
  {
   "cell_type": "code",
   "execution_count": null,
   "metadata": {},
   "outputs": [],
   "source": [
    "group_patterns = [[\"b_oil_m3m3\"]]\n",
    "antipatterns = ['tpb', 'number']\n",
    "plotly_workflow.plot_by_patterns(result_df_p, group_patterns, antipatterns, plot_name='Зависимость параметров от давления',\n",
    "                                 print_all=False, swap_xy=False, reversed_y=False)"
   ]
  },
  {
   "cell_type": "code",
   "execution_count": null,
   "metadata": {},
   "outputs": [],
   "source": [
    "result_df_phi = result_df_p.copy()\n",
    "result_df_phi = result_df_phi.set_index('fluid_flow.gas_fraction_d')\n",
    "group_patterns = [[\"gas_fraction_real_d\"]]\n",
    "antipatterns = ['tpb', 'number']\n",
    "plotly_workflow.plot_by_patterns(result_df_phi, group_patterns, antipatterns,\n",
    "                                 print_all=False, swap_xy=False, reversed_y=False,\n",
    "                                plot_name='Истинная доля газа от расходной',\n",
    "                                x_name = 'Расходная доля газа, д.ед. (Без учета проскальзывания св. газа)', \n",
    "                                y_name = 'Истинная доля газа, д.ед. (с учетом проскальзывания св. газа)',\n",
    "                                traces_names = [\n",
    "                                               'Вязкость нефти, сПуаз',\n",
    "                                               ])"
   ]
  },
  {
   "cell_type": "code",
   "execution_count": null,
   "metadata": {},
   "outputs": [],
   "source": [
    "group_patterns = [[\"mu_oil_cp\"]]\n",
    "antipatterns = ['tpb', 'number']\n",
    "plotly_workflow.plot_by_patterns(result_df_p, group_patterns, antipatterns, plot_name='Зависимость параметров от давления',\n",
    "                                 print_all=False, swap_xy=False, reversed_y=False)"
   ]
  },
  {
   "cell_type": "code",
   "execution_count": null,
   "metadata": {},
   "outputs": [],
   "source": [
    "group_patterns = [[\"m3t\"]]\n",
    "antipatterns = ['tpb', 'number']\n",
    "\n",
    "plotly_workflow.plot_by_patterns(result_df_p, group_patterns, antipatterns, plot_name='Зависимость параметров от давления',\n",
    "                                 print_all=False, swap_xy=False, reversed_y=False)"
   ]
  },
  {
   "cell_type": "code",
   "execution_count": null,
   "metadata": {},
   "outputs": [],
   "source": [
    "group_patterns = [[\"mu_oil_cp\"]]\n",
    "antipatterns = ['tpb', 'number']\n",
    "plotly_workflow.plot_by_patterns(result_df_p, group_patterns, antipatterns, plot_name='Зависимость параметров от давления',\n",
    "                                 print_all=False, swap_xy=False, reversed_y=False)"
   ]
  },
  {
   "cell_type": "code",
   "execution_count": null,
   "metadata": {},
   "outputs": [],
   "source": [
    "group_patterns = [[\"rho_oil\"]]\n",
    "antipatterns = ['tpb', 'number', 'stk']\n",
    "plotly_workflow.plot_by_patterns(result_df_p, group_patterns, antipatterns,\n",
    "                                 print_all=False, swap_xy=False, reversed_y=False,\n",
    "                                  plot_name='Плотность газонасыщенной нефти',\n",
    "                                x_name = 'Давление, бар', \n",
    "                                y_name = 'Плотность, кг/м3',\n",
    "                                traces_names = [\n",
    "                                               'Вязкость нефти, сПуаз',\n",
    "                                               ])"
   ]
  },
  {
   "cell_type": "code",
   "execution_count": null,
   "metadata": {},
   "outputs": [],
   "source": [
    "group_patterns = [\"fl.b_oil_m3m3\"]\n",
    "antipatterns = ['tpb', 'number']\n",
    "plotly_workflow.plot_by_patterns(result_df_p, group_patterns, antipatterns, plot_name='Зависимость параметров от давления',\n",
    "                                 print_all=False, swap_xy=False, reversed_y=False)"
   ]
  },
  {
   "cell_type": "code",
   "execution_count": null,
   "metadata": {},
   "outputs": [],
   "source": [
    "group_patterns = [\"pb\"]\n",
    "antipatterns = ['tpb', 'number']\n",
    "plotly_workflow.plot_by_patterns(result_df_p, group_patterns, antipatterns, plot_name='Зависимость параметров от давления',\n",
    "                                 print_all=False, swap_xy=False, reversed_y=False)"
   ]
  },
  {
   "cell_type": "code",
   "execution_count": null,
   "metadata": {},
   "outputs": [],
   "source": [
    "plotly_workflow.plot_by_patterns(result_df_p,  [['mu_oil_cp']], ['cor_number', 'cal'], \n",
    "                                 swap_xy=False, reversed_y=False,  plot_name='Вязкость газонасыщенной нефти',\n",
    "                                x_name = 'Давление, бар', \n",
    "                                y_name = 'Вязкость, сПуаз',\n",
    "                                traces_names = [\n",
    "                                               'Вязкость нефти, сПуаз',\n",
    "                                               ])"
   ]
  },
  {
   "cell_type": "code",
   "execution_count": null,
   "metadata": {},
   "outputs": [],
   "source": [
    "plotly_workflow.plot_by_patterns(result_df_p,  [['b_oil_m3m3']], ['cor_number', 'cal'], swap_xy=False, reversed_y=False, \n",
    "                                 plot_name='Объемный коэффициент газонасыщенной нефти',\n",
    "                                 x_name = 'Давление, бар', \n",
    "                                y_name = 'bн, м3/м3',\n",
    "                                traces_names = [\n",
    "                                               'Вязкость, сПуаз',\n",
    "                                               ]\n",
    "                                )"
   ]
  },
  {
   "cell_type": "code",
   "execution_count": null,
   "metadata": {},
   "outputs": [],
   "source": [
    "plotly_workflow.plot_by_patterns(result_df_p,  [['rho_gas_liberated']], ['cor_number', 'cal'], swap_xy=False, reversed_y=False, \n",
    "                                 plot_name='Относительная плотность выделившегося газа',\n",
    "                                 x_name = 'Давление, бар', \n",
    "                                y_name = 'Относительная плотность',\n",
    "                                traces_names = [\n",
    "                                               'Вязкость, сПуаз',\n",
    "                                               ]\n",
    "                                )"
   ]
  },
  {
   "cell_type": "code",
   "execution_count": null,
   "metadata": {},
   "outputs": [],
   "source": [
    "trace1 = go.Scatter3d(\n",
    "    x=simple_well.well_profile.x_displacement_m,\n",
    "    y=simple_well.well_profile.x_displacement_m * 0,\n",
    "    z=simple_well.well_profile.h_vert_m * (-1),  # перевод в альтитуду,\n",
    "    marker=dict(\n",
    "        size=4,\n",
    "        colorscale='Viridis',\n",
    "    ),\n",
    "    name = 'Построенный профиль',\n",
    "    )\n",
    "\n",
    "trace2 = go.Scatter3d(\n",
    "    x=simple_well.well_profile.get_x_displacement_m(simple_well.well_profile.h_mes_init_data_for_interpolation_m),\n",
    "    y=simple_well.well_profile.get_x_displacement_m(simple_well.well_profile.h_mes_init_data_for_interpolation_m) * 0,\n",
    "    z=simple_well.well_profile.h_vert_init_data_for_interpolation_m * (-1),\n",
    "    mode = 'markers',\n",
    "    marker = dict(\n",
    "        size=10\n",
    "    ),\n",
    "    name = 'Исходные точки',\n",
    "    )\n",
    "\n",
    "data = [trace1, trace2]\n",
    "\n",
    "\n",
    "layout = dict(title = '3D профиль простой скважины',  yaxis=dict(autorange='reversed'))\n",
    "fig = dict(data=data, layout=layout)\n",
    "iplot(fig, filename='simple-3d-scatter')"
   ]
  },
  {
   "cell_type": "code",
   "execution_count": null,
   "metadata": {},
   "outputs": [],
   "source": []
  }
 ],
 "metadata": {
  "kernelspec": {
   "display_name": "Python 3",
   "language": "python",
   "name": "python3"
  },
  "language_info": {
   "codemirror_mode": {
    "name": "ipython",
    "version": 3
   },
   "file_extension": ".py",
   "mimetype": "text/x-python",
   "name": "python",
   "nbconvert_exporter": "python",
   "pygments_lexer": "ipython3",
   "version": "3.7.6"
  }
 },
 "nbformat": 4,
 "nbformat_minor": 2
}
