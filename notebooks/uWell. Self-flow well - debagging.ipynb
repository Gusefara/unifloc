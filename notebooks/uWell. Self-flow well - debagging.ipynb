{
 "cells": [
  {
   "cell_type": "markdown",
   "metadata": {},
   "source": [
    "Кобзарь О.С. Хабибуллин Р.А. 2019 г.\n",
    "\n",
    "# Модель фонтанирующей скважины"
   ]
  },
  {
   "cell_type": "markdown",
   "metadata": {},
   "source": []
  },
  {
   "cell_type": "code",
   "execution_count": null,
   "metadata": {},
   "outputs": [],
   "source": [
    "import sys\n",
    "sys.path.append('../')\n",
    "\n",
    "import uniflocpy.uWell.deviation_survey as dev_sev\n",
    "import uniflocpy.uTools.data_workflow as utool\n",
    "import uniflocpy.uWell.uPipe as Pipe\n",
    "import uniflocpy.uWell.Self_flow_well as self_flow_well\n",
    "import plotly.graph_objs as go\n",
    "import numpy as np\n",
    "from plotly.offline import download_plotlyjs, init_notebook_mode, plot, iplot\n",
    "from plotly import tools\n",
    "import pandas as pd\n",
    "init_notebook_mode(connected=True)\n",
    "import scipy.interpolate as interpolate\n",
    "import matplotlib.pyplot as plt\n",
    "data = utool.Data()\n",
    "from uniflocpy.uTools import plotly_workflow\n",
    "import re\n",
    "import uniflocpy.uPVT.BlackOil_model as BlackOil_model\n",
    "import uniflocpy.uTemperature as uTemperature\n",
    "import uniflocpy.uReservoir.IPR_simple_line as IPR_simple_line\n",
    "import uniflocpy.uTools.plotly_workflow as plotly_workflow "
   ]
  },
  {
   "cell_type": "markdown",
   "metadata": {},
   "source": [
    "## Настройки расчета"
   ]
  },
  {
   "cell_type": "code",
   "execution_count": null,
   "metadata": {},
   "outputs": [],
   "source": [
    "calc_options ={\"step_lenth_in_calc_along_wellbore_m\":24.35,\n",
    "                \"without_annulus_space\":False}"
   ]
  },
  {
   "cell_type": "markdown",
   "metadata": {},
   "source": [
    "## Данные по скважинам"
   ]
  },
  {
   "cell_type": "markdown",
   "metadata": {},
   "source": [
    "Скв. 1Ф Исследование 4РМ"
   ]
  },
  {
   "cell_type": "code",
   "execution_count": null,
   "metadata": {},
   "outputs": [],
   "source": [
    "pb_bar = 9 * 10**5\n",
    "fluid_data = {\"rsb_m3m3\" : 56,\n",
    "\"gamma_oil\" : 0.86,\n",
    "\"gamma_gas\" : 1.45/1.293}\n",
    "\n",
    "well_data = {\"h_intake_mes_m\" :1211,\n",
    "\"h_intake_vert_m\" : 1211,\n",
    "\"h_bottomhole_mes_m\" : 1757, \n",
    "\"h_bottomhole_vert_m\": 1757,\n",
    "             \n",
    "\"geothermal_grad_cm\":0.02,\n",
    "\"t_bottomhole_c\" :40,\n",
    "\"t_earth_init_in_reservoir_c\" : 40,\n",
    "'p_bottomhole_bar':155.5,\n",
    "\"d_casing_inner_m\" : 0.133,\n",
    "\"d_tube_inner_m\" : 0.0503,\n",
    "\"qliq_on_surface_m3day\":240,\n",
    "\"fw_on_surface_perc\":25}\n",
    "real_measurements = pd.DataFrame({'p_survey_mpa': [0.975, 8.495, 9.44, 10.365, 10.902, 11.272, 12.085, 12.907, 13.785, 14.67, 15.55],\n",
    "                                 'h_mes_survey_m': [0, 957, 1057, 1157, 1211, 1257, 1357, 1457, 1557, 1657, 1757]})"
   ]
  },
  {
   "cell_type": "markdown",
   "metadata": {},
   "source": [
    "Скв. 2Ф Исследование 5РМ"
   ]
  },
  {
   "cell_type": "code",
   "execution_count": null,
   "metadata": {},
   "outputs": [],
   "source": [
    "\n",
    "pb_bar = 9 * 10**5\n",
    "fluid_data = {\"rsb_m3m3\" : 56,\n",
    "\"gamma_oil\" : 0.86,\n",
    "\"gamma_gas\" : 1.45/1.293}\n",
    "\n",
    "well_data = {\"h_intake_mes_m\" :1205.5,\n",
    "\"h_intake_vert_m\" : 1205.5,\n",
    "\"h_bottomhole_mes_m\" : 1605, \n",
    "\"h_bottomhole_vert_m\": 1605,\n",
    "             \n",
    "\"geothermal_grad_cm\":0.02,\n",
    "\"t_bottomhole_c\" :40,\n",
    "\"t_earth_init_in_reservoir_c\" : 40,\n",
    "'p_bottomhole_bar': 114.35, \n",
    "\"d_casing_inner_m\" : 0.133,\n",
    "\"d_tube_inner_m\" : 0.0503,\n",
    "\"qliq_on_surface_m3day\":40,\n",
    "\"fw_on_surface_perc\":0}\n",
    "real_measurements = pd.DataFrame({'p_survey_mpa': [0.9, 1.12, 1.83, 2.957, 4.355, 5.785, 7.3, 8.953, 9.863, 10.176, 11.435],\n",
    "                                 'h_mes_survey_m': [0, 105, 305, 505, 705, 905, 1105, 1305, 1405, 1505, 1605]})"
   ]
  },
  {
   "cell_type": "markdown",
   "metadata": {},
   "source": [
    "Скв. 3Ф 6РМ"
   ]
  },
  {
   "cell_type": "code",
   "execution_count": null,
   "metadata": {},
   "outputs": [],
   "source": [
    "pb_bar = 9 * 10**5,\n",
    "fluid_data = {\"rsb_m3m3\" : 56,\n",
    "\"gamma_oil\" : 0.86,\n",
    "\"gamma_gas\" : 1.45/1.293,\n",
    "'gamma_wat':1.04}\n",
    "\n",
    "well_data = {\"h_intake_mes_m\" :1100,\n",
    "\"h_intake_vert_m\" : 1100,\n",
    "\"h_bottomhole_mes_m\" : 1775,\n",
    "\"h_bottomhole_vert_m\": 1775,\n",
    "             \n",
    "\"geothermal_grad_cm\":0.02,\n",
    "\"t_bottomhole_c\" :40,\n",
    "\"t_earth_init_in_reservoir_c\" : 40,\n",
    "'p_bottomhole_bar':163.5,\n",
    "\"d_casing_inner_m\" : 0.133,\n",
    "\"d_tube_inner_m\" : 0.0503,\n",
    "\"qliq_on_surface_m3day\":36/0.86,\n",
    "\"fw_on_surface_perc\":23}\n",
    "real_measurements = pd.DataFrame({'p_survey_mpa': [0.1, 3.05, 4.95, 6.51, 8.23, 9.91, 12.02, 14.14, 16.35],\n",
    "                                 'h_mes_survey_m': [0, 376, 576, 776, 976, 1176, 1376, 1576, 1775]})"
   ]
  },
  {
   "cell_type": "markdown",
   "metadata": {},
   "source": [
    "Скв. 4Ф 7РМ"
   ]
  },
  {
   "cell_type": "code",
   "execution_count": null,
   "metadata": {},
   "outputs": [],
   "source": [
    "pb_bar = 9 * 10**5,\n",
    "fluid_data = {\"rsb_m3m3\" : 56,\n",
    "\"gamma_oil\" : 0.86,\n",
    "\"gamma_gas\" : 1.45,\n",
    "'gamma_wat':1.064}\n",
    "\n",
    "well_data = {\"h_intake_mes_m\" :1099,\n",
    "\"h_intake_vert_m\" : 1099,\n",
    "\"h_bottomhole_mes_m\" : 1663,\n",
    "\"h_bottomhole_vert_m\": 1663,\n",
    "             \n",
    "\"geothermal_grad_cm\":0.02,\n",
    "\"t_wellhead_c\":15,\n",
    "\"t_bottomhole_c\" :40,\n",
    "\"t_earth_init_in_reservoir_c\" : 40,\n",
    "'p_bottomhole_bar':117.2,\n",
    "\"d_casing_inner_m\" : 0.133,\n",
    "\"d_tube_inner_m\" : 0.0503,\n",
    "\"qliq_on_surface_m3day\":40/0.86,\n",
    "\"fw_on_surface_perc\":6.2}\n",
    "real_measurements = pd.DataFrame({'p_survey_mpa': [0.4, 1.28, 2.29, 3.82, 5.11, 6.75, 8.23, 10.0, 11.72],\n",
    "                                 'h_mes_survey_m': [0, 263, 463, 663, 863, 1063, 1263, 1463, 1663]})"
   ]
  },
  {
   "cell_type": "markdown",
   "metadata": {},
   "source": [
    "Скв. 5Ф 8РМ"
   ]
  },
  {
   "cell_type": "code",
   "execution_count": null,
   "metadata": {},
   "outputs": [],
   "source": [
    "pb_bar = 9 * 10**5,\n",
    "fluid_data = {\"rsb_m3m3\" : 56,\n",
    "\"gamma_oil\" : 0.86,\n",
    "\"gamma_gas\" : 1.45,\n",
    "'gamma_wat':1.080}\n",
    "\n",
    "well_data = {\"h_intake_mes_m\" :1079,\n",
    "\"h_intake_vert_m\" : 1079,\n",
    "\"h_bottomhole_mes_m\" : 1707,\n",
    "\"h_bottomhole_vert_m\": 1707,\n",
    "             \n",
    "\"geothermal_grad_cm\":0.02,\n",
    "\"t_wellhead_c\":20,\n",
    "\"t_bottomhole_c\" :40,\n",
    "\"t_earth_init_in_reservoir_c\" : 40,\n",
    "'p_bottomhole_bar':150,\n",
    "\"d_casing_inner_m\" : 0.133,\n",
    "\"d_tube_inner_m\" : 0.0503,\n",
    "\"qliq_on_surface_m3day\":154/0.86,\n",
    "\"fw_on_surface_perc\":27}\n",
    "real_measurements = pd.DataFrame({'p_survey_mpa': [1, 2.79, 4.3, 6.1, 7.8, 9.6, 11.3, 13.1, 15],\n",
    "                                 'h_mes_survey_m': [0, 300, 500, 700, 900, 1100, 1300, 1500, 1707]})"
   ]
  },
  {
   "cell_type": "markdown",
   "metadata": {},
   "source": [
    "Скв. 8Ф 12РМ"
   ]
  },
  {
   "cell_type": "code",
   "execution_count": null,
   "metadata": {},
   "outputs": [],
   "source": [
    "pb_bar = 9 * 10**5,\n",
    "fluid_data = {\"rsb_m3m3\" : 56,\n",
    "\"gamma_oil\" : 0.86,\n",
    "\"gamma_gas\" : 1.45,\n",
    "'gamma_wat':1.064}\n",
    "\n",
    "well_data = {\"h_intake_mes_m\" :1079,\n",
    "\"h_intake_vert_m\" : 1079,\n",
    "\"h_bottomhole_mes_m\" : 1711,\n",
    "\"h_bottomhole_vert_m\": 1711,\n",
    "             \n",
    "\"geothermal_grad_cm\":0.02,\n",
    "\"t_wellhead_c\":10,\n",
    "\"t_bottomhole_c\" :40,\n",
    "\"t_earth_init_in_reservoir_c\" : 40,\n",
    "'p_bottomhole_bar':160.5,\n",
    "\"d_casing_inner_m\" : 0.133,\n",
    "\"d_tube_inner_m\" : 0.0503,\n",
    "\"qliq_on_surface_m3day\":77.5/0.86,\n",
    "\"fw_on_surface_perc\":20.6}\n",
    "real_measurements = pd.DataFrame({'p_survey_mpa': [1, 9.95, 11.25, 12.15, 13.08, 14.11, 15.05, 16.05],\n",
    "                                 'h_mes_survey_m': [0, 1078, 1210, 1310, 1410, 1510, 1610, 1711]})"
   ]
  },
  {
   "cell_type": "markdown",
   "metadata": {},
   "source": [
    "Скв.2Ф Исследование 2Пл Памятно-Сасовское месторождение стр.93"
   ]
  },
  {
   "cell_type": "code",
   "execution_count": null,
   "metadata": {},
   "outputs": [],
   "source": [
    "pb_bar = 16,7 * 10**5\n",
    "mu_oil_cp = 10.05\n",
    "fluid_data = {\"rsb_m3m3\" : 121.72,\n",
    "\"gamma_oil\" : 0.83,\n",
    "\"gamma_gas\" : 0.82}\n",
    "\n",
    "well_data = {\"h_intake_mes_m\" :2519,\n",
    "\"h_intake_vert_m\" : 2519,\n",
    "\"h_bottomhole_mes_m\" : 2730, \n",
    "\"h_bottomhole_vert_m\": 2730,\n",
    "             \n",
    "\"geothermal_grad_cm\":0.027,\n",
    "\"t_wellhead_c\":23.2,\n",
    "\"t_bottomhole_c\" :76,\n",
    "\"t_earth_init_in_reservoir_c\" : 76,\n",
    "'p_bottomhole_bar':225,\n",
    "\"d_casing_inner_m\" : 0.1553,\n",
    "\"d_tube_inner_m\" : 0.076,\n",
    "\"qliq_on_surface_m3day\":209.9,\n",
    "\"fw_on_surface_perc\":0}\n",
    "real_measurements = pd.DataFrame({'p_survey_mpa': [5.73, 8.12, 11.0, 14.15, 17.40, 19.13, 21.41, None],\n",
    "                                  't_survey_c': [23.2, 32.0, 43.5, 55.0, 66.0, 70.2, 75.6, 76.0],\n",
    "                                 'h_mes_survey_m': [0, 500, 1000, 1500, 2000, 2250, 2585, 2700]})"
   ]
  },
  {
   "cell_type": "markdown",
   "metadata": {},
   "source": [
    "Подготовка DataFrame с данными исследований"
   ]
  },
  {
   "cell_type": "code",
   "execution_count": null,
   "metadata": {},
   "outputs": [],
   "source": [
    "real_measurements[\"p_survey_bar\"] = real_measurements[\"p_survey_mpa\"] * 10\n",
    "real_measurements = real_measurements.set_index(real_measurements['h_mes_survey_m'])\n",
    "real_measurements.index.name = 'well.h_calculated_mes_m'"
   ]
  },
  {
   "cell_type": "markdown",
   "metadata": {},
   "source": [
    "## Настройка модели скважины и расчет"
   ]
  },
  {
   "cell_type": "code",
   "execution_count": null,
   "metadata": {},
   "outputs": [],
   "source": [
    "reservoir = IPR_simple_line.IPRSimpleLine()\n",
    "ipr_m3daybar = reservoir.calc_pi_m3daybar(well_data['qliq_on_surface_m3day'], well_data['p_bottomhole_bar'], 250)"
   ]
  },
  {
   "cell_type": "code",
   "execution_count": null,
   "metadata": {},
   "outputs": [],
   "source": [
    "pipe = Pipe.Pipe()\n"
   ]
  },
  {
   "cell_type": "code",
   "execution_count": null,
   "metadata": {},
   "outputs": [],
   "source": [
    "pipe = Pipe.Pipe(temp_cor=uTemperature.temp_cor_simple_line.SimpleLineCor())\n"
   ]
  },
  {
   "cell_type": "code",
   "execution_count": null,
   "metadata": {},
   "outputs": [],
   "source": [
    "\n",
    "blackoil_option = BlackOil_model.BlackOil_option()\n",
    "blackoil_option.b_wat_cor_number = 1\n",
    "blackoil_option.mu_wat_cor_number = 1\n",
    "blackoil_option.rho_wat_cor_number = 1\n",
    "fluid = BlackOil_model.Fluid(**fluid_data, option = blackoil_option)\n"
   ]
  },
  {
   "cell_type": "code",
   "execution_count": null,
   "metadata": {},
   "outputs": [],
   "source": [
    "\n",
    "simple_well = self_flow_well.self_flow_well(fluid=fluid, reservoir = reservoir, pipe=pipe,\n",
    "                                            **well_data, **calc_options)\n",
    "simple_well.well_work_time_sec = 1"
   ]
  },
  {
   "cell_type": "code",
   "execution_count": null,
   "metadata": {},
   "outputs": [],
   "source": [
    "simple_well.calc_all_from_down_to_up()"
   ]
  },
  {
   "cell_type": "markdown",
   "metadata": {},
   "source": [
    "## Выгрузка расчитанных значений и объединение с фактическими данными"
   ]
  },
  {
   "cell_type": "code",
   "execution_count": null,
   "metadata": {},
   "outputs": [],
   "source": [
    "result_df = simple_well.data.get_data_as_df()\n",
    "result_df.to_excel('test.xlsx')\n",
    "result_df = result_df.set_index('well.h_calculated_mes_m')\n",
    "result_df.head()"
   ]
  },
  {
   "cell_type": "code",
   "execution_count": null,
   "metadata": {},
   "outputs": [],
   "source": [
    "result_df = result_df.join(real_measurements, how = 'outer')"
   ]
  },
  {
   "cell_type": "markdown",
   "metadata": {},
   "source": [
    "## Построение графиков"
   ]
  },
  {
   "cell_type": "code",
   "execution_count": null,
   "metadata": {},
   "outputs": [],
   "source": [
    "group_patterns = [[\"p_bar\", 'fl'], ['t_c', 'fl'], ['well.t_calculated_earth_init'], ['survey']]\n",
    "antipatterns = ['mu', 'h_mes_survey', 'mpa']\n",
    "plotly_workflow.plot_by_patterns(result_df, group_patterns, antipatterns, plot_name='Распределение свойств по глубине')"
   ]
  },
  {
   "cell_type": "markdown",
   "metadata": {},
   "source": [
    "## Встроенный блок многовариативного анализа"
   ]
  },
  {
   "cell_type": "code",
   "execution_count": null,
   "metadata": {},
   "outputs": [],
   "source": [
    "results = []\n",
    "#for i in range(10, int(well_data['qliq_on_surface_m3day'] * 2), int((well_data['qliq_on_surface_m3day'] * 2 - 10) / 7) ):\n",
    "for i in range(1, 200, 10):\n",
    "\n",
    "    print(i)\n",
    "    simple_well.data.clear_data()\n",
    "    simple_well.qliq_on_surface_m3day = i\n",
    "    simple_well.calc_all_from_down_to_up()\n",
    "    this_result_df = simple_well.data.get_data_as_df()\n",
    "    this_result_df = this_result_df.set_index('well.h_calculated_mes_m')\n",
    "    results.append(this_result_df)\n",
    "    \n",
    "    this_result_df = this_result_df.add_prefix(f\"qliq_m3day: {i}, \")\n",
    "    try:\n",
    "        result_df_to_plot = result_df_to_plot.join(this_result_df)\n",
    "    except:\n",
    "        result_df_to_plot = this_result_df.copy()"
   ]
  },
  {
   "cell_type": "code",
   "execution_count": null,
   "metadata": {},
   "outputs": [],
   "source": [
    "result_df_analysis = None\n",
    "for i in results:\n",
    "    qliq_on_surface_m3day = i['well.qliq_on_surface_m3day'][0]\n",
    "    this_df = pd.DataFrame({'well.p_bottomhole_bar': i['well.p_bottomhole_bar'][0],\n",
    "                           'ipr.p_reservoir_bar': i['ipr.p_reservoir_bar'][0],\n",
    "                           'well.p_calculated_bar': i['well.p_calculated_bar'][0],}, index = [qliq_on_surface_m3day])\n",
    "    try:\n",
    "        result_df_analysis = result_df_analysis.append(this_df)\n",
    "    except:\n",
    "        result_df_analysis = this_df.copy()"
   ]
  },
  {
   "cell_type": "code",
   "execution_count": null,
   "metadata": {},
   "outputs": [],
   "source": [
    "all_traces = plotly_workflow.create_traces_list_for_all_columms(result_df_analysis, 'lines+markers')\n",
    "plotly_workflow.plot_func(all_traces, 'Распределение свойств по глубине', 'check.html', iplot_option = True)\n"
   ]
  },
  {
   "cell_type": "code",
   "execution_count": null,
   "metadata": {},
   "outputs": [],
   "source": [
    "group_patterns = [[\"p_bar\", 'fl'], ['t_c', 'fl'], ['well.t_calculated_earth_init'], ['survey']]\n",
    "antipatterns = ['mu', 'h_mes_survey', 'mpa']\n",
    "plotly_workflow.plot_by_patterns(results[0], group_patterns, antipatterns, plot_name='Распределение свойств по глубине')"
   ]
  },
  {
   "cell_type": "markdown",
   "metadata": {},
   "source": [
    "Результаты в одном DataFrame"
   ]
  },
  {
   "cell_type": "code",
   "execution_count": null,
   "metadata": {},
   "outputs": [],
   "source": [
    "result_df = result_df_to_plot"
   ]
  },
  {
   "cell_type": "markdown",
   "metadata": {},
   "source": [
    "Результаты по одной скважине"
   ]
  },
  {
   "cell_type": "code",
   "execution_count": null,
   "metadata": {},
   "outputs": [],
   "source": [
    "result_df = results[0]"
   ]
  },
  {
   "cell_type": "markdown",
   "metadata": {},
   "source": [
    "## Продолжение построения распределения свойств по глубине для выбранной скважины"
   ]
  },
  {
   "cell_type": "markdown",
   "metadata": {},
   "source": [
    "### Название всех сохраненных параметров для выбора или не выбора их при построении графиков"
   ]
  },
  {
   "cell_type": "code",
   "execution_count": null,
   "metadata": {},
   "outputs": [],
   "source": [
    "for i in result_df.columns:\n",
    "    print(i)"
   ]
  },
  {
   "cell_type": "code",
   "execution_count": null,
   "metadata": {},
   "outputs": [],
   "source": [
    "group_patterns = [\"p_bar\"]\n",
    "antipatterns = ['mu', 'h_mes_survey', 'mpa','fl','ipr']\n",
    "plotly_workflow.plot_by_patterns(result_df, group_patterns, antipatterns, plot_name='Распределение свойств по глубине')"
   ]
  },
  {
   "cell_type": "code",
   "execution_count": null,
   "metadata": {},
   "outputs": [],
   "source": [
    "group_patterns = [\"p_wellhead\"]\n",
    "antipatterns = ['mu', 'h_mes_survey', 'mpa','fl','ipr']\n",
    "plotly_workflow.plot_by_patterns(result_df, group_patterns, antipatterns, plot_name='Распределение свойств по глубине')"
   ]
  },
  {
   "cell_type": "code",
   "execution_count": null,
   "metadata": {},
   "outputs": [],
   "source": [
    "group_patterns = [\"rho\"]\n",
    "antipatterns = ['cor_number', 'earth']\n",
    "plotly_workflow.plot_by_patterns(result_df, group_patterns, antipatterns, plot_name='Распределение свойств по глубине')"
   ]
  },
  {
   "cell_type": "code",
   "execution_count": null,
   "metadata": {},
   "outputs": [],
   "source": [
    "group_patterns = [\"mu\"]\n",
    "antipatterns = ['earth', 'cor_number']\n",
    "plotly_workflow.plot_by_patterns(result_df, group_patterns, antipatterns, plot_name='Распределение свойств по глубине')"
   ]
  },
  {
   "cell_type": "code",
   "execution_count": null,
   "metadata": {},
   "outputs": [],
   "source": [
    "group_patterns = [\"_m3day\"]\n",
    "antipatterns = ['earth']\n",
    "plotly_workflow.plot_by_patterns(result_df, group_patterns, antipatterns, plot_name='Распределение свойств по глубине')"
   ]
  },
  {
   "cell_type": "code",
   "execution_count": null,
   "metadata": {},
   "outputs": [],
   "source": [
    "group_patterns = [\"perc\",'fw']\n",
    "antipatterns = ['earth']\n",
    "plotly_workflow.plot_by_patterns(result_df, group_patterns, antipatterns, plot_name='Распределение свойств по глубине')"
   ]
  },
  {
   "cell_type": "code",
   "execution_count": null,
   "metadata": {},
   "outputs": [],
   "source": [
    "group_patterns = [\"d_m\"]\n",
    "antipatterns = ['earth']\n",
    "plotly_workflow.plot_by_patterns(result_df, group_patterns, antipatterns, plot_name='Распределение свойств по глубине')"
   ]
  },
  {
   "cell_type": "code",
   "execution_count": null,
   "metadata": {},
   "outputs": [],
   "source": [
    "group_patterns = [\"rs\",\"m3m3\"]\n",
    "antipatterns = ['earth']\n",
    "plotly_workflow.plot_by_patterns(result_df, group_patterns, antipatterns, plot_name='Распределение свойств по глубине')"
   ]
  },
  {
   "cell_type": "code",
   "execution_count": null,
   "metadata": {},
   "outputs": [],
   "source": [
    "group_patterns = [\"msec\"]\n",
    "antipatterns = ['secm', 'msecpam']\n",
    "plotly_workflow.plot_by_patterns(result_df, group_patterns, antipatterns, plot_name='Распределение свойств по глубине')"
   ]
  },
  {
   "cell_type": "code",
   "execution_count": null,
   "metadata": {},
   "outputs": [],
   "source": [
    "group_patterns = [\"pb\"]\n",
    "antipatterns = ['tpb', 'number']\n",
    "plotly_workflow.plot_by_patterns(result_df, group_patterns, antipatterns, plot_name='Распределение свойств по глубине')"
   ]
  },
  {
   "cell_type": "code",
   "execution_count": null,
   "metadata": {},
   "outputs": [],
   "source": [
    "group_patterns = [\"flow_regime\"]\n",
    "antipatterns = ['tpb', 'number', 'well_profile']\n",
    "plotly_workflow.plot_by_patterns(result_df, group_patterns, antipatterns, plot_name='Распределение свойств по глубине')"
   ]
  },
  {
   "cell_type": "code",
   "execution_count": null,
   "metadata": {},
   "outputs": [],
   "source": [
    "group_patterns = [\"part\", 'density']\n",
    "antipatterns = ['tpb', 'number', 'well_profile']\n",
    "plotly_workflow.plot_by_patterns(result_df, group_patterns, antipatterns, plot_name='Распределение свойств по глубине')"
   ]
  },
  {
   "cell_type": "code",
   "execution_count": null,
   "metadata": {},
   "outputs": [],
   "source": [
    "group_patterns = [\"number_Re\"]\n",
    "antipatterns = ['tpb', 'well_profile']\n",
    "plotly_workflow.plot_by_patterns(result_df, group_patterns, antipatterns, plot_name='Распределение свойств по глубине')"
   ]
  },
  {
   "cell_type": "code",
   "execution_count": null,
   "metadata": {},
   "outputs": [],
   "source": [
    "group_patterns = [\"liquid_content_with_Pain\"]\n",
    "antipatterns = ['tpb', 'well_profile']\n",
    "plotly_workflow.plot_by_patterns(result_df, group_patterns, antipatterns, plot_name='Распределение свойств по глубине')"
   ]
  },
  {
   "cell_type": "code",
   "execution_count": null,
   "metadata": {},
   "outputs": [],
   "source": [
    "group_patterns = [\"angle_grad\"]\n",
    "antipatterns = ['tpb', 'well_profile']\n",
    "plotly_workflow.plot_by_patterns(result_df, group_patterns, antipatterns, plot_name='Распределение свойств по глубине')"
   ]
  },
  {
   "cell_type": "code",
   "execution_count": null,
   "metadata": {},
   "outputs": [],
   "source": [
    "group_patterns = [\"Nlv\"]\n",
    "antipatterns = ['tpb', 'well_profile']\n",
    "plotly_workflow.plot_by_patterns(result_df, group_patterns, antipatterns, plot_name='Распределение свойств по глубине')"
   ]
  },
  {
   "cell_type": "code",
   "execution_count": null,
   "metadata": {},
   "outputs": [],
   "source": [
    "group_patterns = [\"angle_grad\"]\n",
    "antipatterns = ['tpb', 'well_profile']\n",
    "plotly_workflow.plot_by_patterns(result_df, group_patterns, antipatterns, plot_name='Распределение свойств по глубине')"
   ]
  },
  {
   "cell_type": "code",
   "execution_count": null,
   "metadata": {},
   "outputs": [],
   "source": [
    "group_patterns = [\"angle_correction\"]\n",
    "antipatterns = ['tpb', 'well_profile']\n",
    "plotly_workflow.plot_by_patterns(result_df, group_patterns, antipatterns, plot_name='Распределение свойств по глубине')"
   ]
  },
  {
   "cell_type": "code",
   "execution_count": null,
   "metadata": {},
   "outputs": [],
   "source": [
    "group_patterns = [\"mass_flowrate\"]\n",
    "antipatterns = ['tpb', 'well_profile']\n",
    "plotly_workflow.plot_by_patterns(result_df, group_patterns, antipatterns, plot_name='Распределение свойств по глубине')"
   ]
  },
  {
   "cell_type": "code",
   "execution_count": null,
   "metadata": {},
   "outputs": [],
   "source": [
    "#def trace(data_x, data_y, namexy):\n",
    "#    tracep = go.Scattergl(\n",
    "#        x = data_x,\n",
    "#        y = data_y,\n",
    "#        name = namexy,\n",
    "#        mode = 'lines'\n",
    "#    )\n",
    "#    return tracep\n",
    "#\n",
    "#def plot():\n",
    "#    layout = dict(title = 'Расчет фонтанирующей скважины',  yaxis=dict(title = 'Измеренная глубина, м', autorange='reversed'))\n",
    "#\n",
    "#    fig = dict(data=data, layout=layout)\n",
    "#\n",
    "#    iplot(fig, filename='basic-scatter')"
   ]
  },
  {
   "cell_type": "code",
   "execution_count": null,
   "metadata": {},
   "outputs": [],
   "source": [
    "trace1 = go.Scatter3d(\n",
    "    x=simple_well.well_profile.x_displacement_m,\n",
    "    y=simple_well.well_profile.x_displacement_m * 0,\n",
    "    z=simple_well.well_profile.h_vert_m * (-1),  # перевод в альтитуду,\n",
    "    marker=dict(\n",
    "        size=4,\n",
    "        colorscale='Viridis',\n",
    "    ),\n",
    "    name = 'Построенный профиль',\n",
    "    )\n",
    "\n",
    "trace2 = go.Scatter3d(\n",
    "    x=simple_well.well_profile.get_x_displacement_m(simple_well.well_profile.h_mes_init_data_for_interpolation_m),\n",
    "    y=simple_well.well_profile.get_x_displacement_m(simple_well.well_profile.h_mes_init_data_for_interpolation_m) * 0,\n",
    "    z=simple_well.well_profile.h_vert_init_data_for_interpolation_m * (-1),\n",
    "    mode = 'markers',\n",
    "    marker = dict(\n",
    "        size=10\n",
    "    ),\n",
    "    name = 'Исходные точки',\n",
    "    )\n",
    "\n",
    "data = [trace1, trace2]\n",
    "\n",
    "\n",
    "layout = dict(title = '3D профиль простой скважины',  yaxis=dict(autorange='reversed'))\n",
    "fig = dict(data=data, layout=layout)\n",
    "iplot(fig, filename='simple-3d-scatter')"
   ]
  }
 ],
 "metadata": {
  "kernelspec": {
   "display_name": "Python 3",
   "language": "python",
   "name": "python3"
  },
  "language_info": {
   "codemirror_mode": {
    "name": "ipython",
    "version": 3
   },
   "file_extension": ".py",
   "mimetype": "text/x-python",
   "name": "python",
   "nbconvert_exporter": "python",
   "pygments_lexer": "ipython3",
   "version": "3.7.6"
  }
 },
 "nbformat": 4,
 "nbformat_minor": 2
}
