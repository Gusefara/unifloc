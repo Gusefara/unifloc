{
 "cells": [
  {
   "cell_type": "markdown",
   "metadata": {},
   "source": [
    "Кобзарь О.С. Хабибуллин Р.А. 2019 г.\n",
    "\n",
    "# Модель фонтанирующей скважины"
   ]
  },
  {
   "cell_type": "markdown",
   "metadata": {},
   "source": []
  },
  {
   "cell_type": "code",
   "execution_count": null,
   "metadata": {},
   "outputs": [],
   "source": [
    "import sys\n",
    "sys.path.append('../')\n",
    "\n",
    "import uniflocpy.uWell.deviation_survey as dev_sev\n",
    "import uniflocpy.uTools.data_workflow as utool\n",
    "import uniflocpy.uWell.uPipe as Pipe\n",
    "import uniflocpy.uWell.Self_flow_well as self_flow_well\n",
    "import plotly.graph_objs as go\n",
    "import numpy as np\n",
    "from plotly.offline import download_plotlyjs, init_notebook_mode, plot, iplot\n",
    "from plotly import tools\n",
    "import pandas as pd\n",
    "init_notebook_mode(connected=True)\n",
    "import scipy.interpolate as interpolate\n",
    "import matplotlib.pyplot as plt\n",
    "data = utool.Data()\n",
    "from uniflocpy.uTools import plotly_workflow\n",
    "import re\n",
    "import uniflocpy.uPVT.BlackOil_model as BlackOil_model\n",
    "import uniflocpy.uTemperature as uTemperature"
   ]
  },
  {
   "cell_type": "code",
   "execution_count": null,
   "metadata": {},
   "outputs": [],
   "source": [
    "def find_by_patterns(patterns, list_to_search):\n",
    "    res = [x for x in list_to_search if re.search(patterns[0], x)] \n",
    "    if len(patterns) >1:\n",
    "        for i in patterns[1:]:\n",
    "            res = [x for x in res if re.search(i, x)] \n",
    "    return res\n",
    "\n",
    "def plot_specific_columns(result_df, columns_to_plot):\n",
    "    result_df_to_plot = result_df[columns_to_plot]\n",
    "    all_traces = plotly_workflow.create_traces_list_for_all_columms(result_df_to_plot, 'lines+markers', swap_xy=True)\n",
    "    plotly_workflow.plot_func(all_traces, 'Распределение свойств по глубине', 'check.html', reversed_y = True, iplot_option = True)\n",
    "\n",
    "def filtr_by_antipatterns(init_list: list, antipatterns: list):\n",
    "    new_list = init_list.copy()\n",
    "    droped_values = []\n",
    "    for j in antipatterns:\n",
    "        new_list = [i for i in new_list if j not in i ]\n",
    "    for i in init_list:\n",
    "        if i not in new_list:\n",
    "            droped_values.append(i)\n",
    "    print(f\"Удаленные совпадения по антипаттерну: {droped_values}\")\n",
    "    return new_list\n",
    "\n",
    "def plot_by_patterns(result_df, group_patterns, antipatterns=[]):\n",
    "    if type(group_patterns[0]) == str:\n",
    "        columns_to_plot = find_by_patterns(group_patterns, result_df.columns)\n",
    "    else:\n",
    "        columns_to_plot = []\n",
    "        for i in group_patterns:\n",
    "            this_column_to_plot = find_by_patterns(i, result_df.columns)\n",
    "            columns_to_plot += this_column_to_plot\n",
    "    print(f\"Найденные совпадения: {columns_to_plot}\")\n",
    "    if len(antipatterns)>0:\n",
    "        print('cj')\n",
    "        columns_to_plot = filtr_by_antipatterns(columns_to_plot, antipatterns)\n",
    "    plot_specific_columns(result_df, columns_to_plot)"
   ]
  },
  {
   "cell_type": "markdown",
   "metadata": {},
   "source": [
    "Настройки расчета"
   ]
  },
  {
   "cell_type": "code",
   "execution_count": null,
   "metadata": {},
   "outputs": [],
   "source": [
    "calc_options ={\"step_lenth_in_calc_along_wellbore_m\":24.35,\n",
    "                \"without_annulus_space\":False}"
   ]
  },
  {
   "cell_type": "markdown",
   "metadata": {},
   "source": [
    "Скв. 1Ф Исследование 4РМ"
   ]
  },
  {
   "cell_type": "code",
   "execution_count": null,
   "metadata": {},
   "outputs": [],
   "source": [
    "pb_bar = 9 * 10**5\n",
    "fluid_data = {\"rsb_m3m3\" : 56,\n",
    "\"gamma_oil\" : 0.86,\n",
    "\"gamma_gas\" : 1.45}\n",
    "\n",
    "well_data = {\"h_intake_mes_m\" :1211,\n",
    "\"h_intake_vert_m\" : 1211,\n",
    "\"h_bottomhole_mes_m\" : 1760, #1756.8\n",
    "\"h_bottomhole_vert_m\": 1760,\n",
    "             \n",
    "\"geothermal_grad_cm\":0.02,\n",
    "\"t_bottomhole_c\" :40,\n",
    "\"t_earth_init_in_reservoir_c\" : 40,\n",
    "'p_bottomhole_bar':156,\n",
    "\"d_casing_inner_m\" : 0.133,\n",
    "\"d_tube_inner_m\" : 0.0503,\n",
    "\"qliq_on_surface_m3day\":240,\n",
    "\"fw_perc\":25}\n",
    "real_measurements = pd.DataFrame({'p_survey_mpa': [0.975, 8.495, 9.44, 10.365, 10.902, 11.272, 12.085, 12.907, 13.785, 14.67, 15.55],\n",
    "                                 'h_mes_survey_m': [0, 957, 1057, 1157, 1211, 1257, 1357, 1457, 1557, 1657, 1757]})"
   ]
  },
  {
   "cell_type": "markdown",
   "metadata": {},
   "source": [
    "Скв. 2Ф Исследование 5РМ"
   ]
  },
  {
   "cell_type": "code",
   "execution_count": null,
   "metadata": {},
   "outputs": [],
   "source": [
    "\n",
    "pb_bar = 9 * 10**5\n",
    "fluid_data = {\"rsb_m3m3\" : 56,\n",
    "\"gamma_oil\" : 0.86,\n",
    "\"gamma_gas\" : 1.45}\n",
    "\n",
    "well_data = {\"h_intake_mes_m\" :1205.5,\n",
    "\"h_intake_vert_m\" : 1205.5,\n",
    "\"h_bottomhole_mes_m\" : 1756.8, #1756.8\n",
    "\"h_bottomhole_vert_m\": 1756.8,\n",
    "             \n",
    "\"geothermal_grad_cm\":0.02,\n",
    "\"t_bottomhole_c\" :40,\n",
    "\"t_earth_init_in_reservoir_c\" : 40,\n",
    "'p_bottomhole_bar': 114.35, #114.35\n",
    "\"d_casing_inner_m\" : 0.133,\n",
    "\"d_tube_inner_m\" : 0.0503,\n",
    "\"qliq_on_surface_m3day\":40,\n",
    "\"fw_perc\":0}\n",
    "real_measurements = pd.DataFrame({'p_survey_mpa': [0.9, 1.12, 1.83, 2.957, 4.355, 5.785, 7.3, 8.953, 9.863, 10.176, 11.435],\n",
    "                                 'h_mes_survey_m': [0, 105, 305, 505, 705, 905, 1105, 1305, 1405, 1505, 1605]})"
   ]
  },
  {
   "cell_type": "markdown",
   "metadata": {},
   "source": [
    "Скв. 3Ф 6РМ"
   ]
  },
  {
   "cell_type": "code",
   "execution_count": null,
   "metadata": {},
   "outputs": [],
   "source": [
    "pb_bar = 9 * 10**5,\n",
    "fluid_data = {\"rsb_m3m3\" : 56,\n",
    "\"gamma_oil\" : 0.86,\n",
    "\"gamma_gas\" : 1.45,\n",
    "'gamma_wat':1.04}\n",
    "\n",
    "well_data = {\"h_intake_mes_m\" :1100,\n",
    "\"h_intake_vert_m\" : 1100,\n",
    "\"h_bottomhole_mes_m\" : 1775, #1756.8\n",
    "\"h_bottomhole_vert_m\": 1775,\n",
    "             \n",
    "\"geothermal_grad_cm\":0.02,\n",
    "\"t_bottomhole_c\" :40,\n",
    "\"t_earth_init_in_reservoir_c\" : 40,\n",
    "'p_bottomhole_bar':163.5,\n",
    "\"d_casing_inner_m\" : 0.133,\n",
    "\"d_tube_inner_m\" : 0.0503,\n",
    "\"qliq_on_surface_m3day\":36/0.86,\n",
    "\"fw_perc\":23}\n",
    "real_measurements = pd.DataFrame({'p_survey_mpa': [0.1, 3.05, 4.95, 6.51, 8.23, 9.91, 12.02, 14.14, 16.35],\n",
    "                                 'h_mes_survey_m': [0, 376, 576, 776, 976, 1176, 1376, 1576, 1775]})"
   ]
  },
  {
   "cell_type": "markdown",
   "metadata": {},
   "source": [
    "Скв. 4Ф 7РМ"
   ]
  },
  {
   "cell_type": "code",
   "execution_count": null,
   "metadata": {},
   "outputs": [],
   "source": [
    "pb_bar = 9 * 10**5,\n",
    "fluid_data = {\"rsb_m3m3\" : 56,\n",
    "\"gamma_oil\" : 0.86,\n",
    "\"gamma_gas\" : 1.45,\n",
    "'gamma_wat':1.064}\n",
    "\n",
    "well_data = {\"h_intake_mes_m\" :1099,\n",
    "\"h_intake_vert_m\" : 1099,\n",
    "\"h_bottomhole_mes_m\" : 1670, #1756.8\n",
    "\"h_bottomhole_vert_m\": 1670,\n",
    "             \n",
    "\"geothermal_grad_cm\":0.02,\n",
    "\"t_bottomhole_c\" :40,\n",
    "\"t_earth_init_in_reservoir_c\" : 40,\n",
    "'p_bottomhole_bar':120,\n",
    "\"d_casing_inner_m\" : 0.133,\n",
    "\"d_tube_inner_m\" : 0.0503,\n",
    "\"qliq_on_surface_m3day\":40/0.86,\n",
    "\"fw_perc\":6.2}\n",
    "real_measurements = pd.DataFrame({'p_survey_mpa': [0.4, 1.28, 2.29, 3.82, 5.11, 6.75, 8.23, 10.0, 11.72],\n",
    "                                 'h_mes_survey_m': [0, 263, 463, 663, 863, 1063, 1263, 1463, 1663]})"
   ]
  },
  {
   "cell_type": "markdown",
   "metadata": {},
   "source": [
    "Скв.2Ф Исследование 2Пл Памятно-Сасовское месторождение стр.93"
   ]
  },
  {
   "cell_type": "code",
   "execution_count": null,
   "metadata": {},
   "outputs": [],
   "source": [
    "pb_bar = 16,7 * 10**5\n",
    "mu_oil_cp = 10.05\n",
    "fluid_data = {\"rsb_m3m3\" : 121.72,\n",
    "\"gamma_oil\" : 0.83,\n",
    "\"gamma_gas\" : 0.82}\n",
    "\n",
    "well_data = {\"h_intake_mes_m\" :2519,\n",
    "\"h_intake_vert_m\" : 2519,\n",
    "\"h_bottomhole_mes_m\" : 2730, \n",
    "\"h_bottomhole_vert_m\": 2730,\n",
    "             \n",
    "\"geothermal_grad_cm\":0.02,\n",
    "\"t_wellhead_c\":23.2,\n",
    "\"t_bottomhole_c\" :76,\n",
    "\"t_earth_init_in_reservoir_c\" : 76,\n",
    "'p_bottomhole_bar':225,\n",
    "\"d_casing_inner_m\" : 0.1553,\n",
    "\"d_tube_inner_m\" : 0.076,\n",
    "\"qliq_on_surface_m3day\":209.9,\n",
    "\"fw_perc\":0}\n",
    "real_measurements = pd.DataFrame({'p_survey_mpa': [5.73, 8.12, 11.0, 14.15, 17.40, 19.13, 21.41, None],\n",
    "                                  't_survey_c': [23.2, 32.0, 43.5, 55.0, 66.0, 70.2, 75.6, 76.0],\n",
    "                                 'h_mes_survey_m': [0, 500, 1000, 1500, 2000, 2250, 2585, 2700]})"
   ]
  },
  {
   "cell_type": "code",
   "execution_count": null,
   "metadata": {},
   "outputs": [],
   "source": [
    "real_measurements[\"p_survey_bar\"] = real_measurements[\"p_survey_mpa\"] * 10\n",
    "real_measurements = real_measurements.set_index(real_measurements['h_mes_survey_m'])\n",
    "real_measurements.index.name = 'well.h_calculated_mes_m'\n",
    "real_measurements"
   ]
  },
  {
   "cell_type": "code",
   "execution_count": null,
   "metadata": {},
   "outputs": [],
   "source": [
    "pipe = Pipe.Pipe(temp_cor=uTemperature.temp_cor_simple_line.SimpleLineCor())\n"
   ]
  },
  {
   "cell_type": "code",
   "execution_count": null,
   "metadata": {},
   "outputs": [],
   "source": [
    "pipe = Pipe.Pipe()\n"
   ]
  },
  {
   "cell_type": "code",
   "execution_count": null,
   "metadata": {},
   "outputs": [],
   "source": [
    "fluid = BlackOil_model.Fluid(**fluid_data)\n",
    "simple_well = self_flow_well.self_flow_well(fluid=fluid, pipe=pipe, **well_data, **calc_options)\n",
    "simple_well.well_work_time_sec = 1"
   ]
  },
  {
   "cell_type": "code",
   "execution_count": null,
   "metadata": {},
   "outputs": [],
   "source": [
    "simple_well.calc_all_from_down_to_up()"
   ]
  },
  {
   "cell_type": "code",
   "execution_count": null,
   "metadata": {},
   "outputs": [],
   "source": [
    "result_df = simple_well.data.get_data_as_df()\n",
    "result_df.to_excel('test.xlsx')\n",
    "result_df = result_df.set_index('well.h_calculated_mes_m')\n",
    "result_df.head()"
   ]
  },
  {
   "cell_type": "code",
   "execution_count": null,
   "metadata": {},
   "outputs": [],
   "source": [
    "result_df = result_df.join(real_measurements, how = 'outer')"
   ]
  },
  {
   "cell_type": "code",
   "execution_count": null,
   "metadata": {},
   "outputs": [],
   "source": [
    "for i in result_df.columns:\n",
    "    print(i)"
   ]
  },
  {
   "cell_type": "code",
   "execution_count": null,
   "metadata": {},
   "outputs": [],
   "source": [
    "group_patterns = [[\"p_bar\", 'fl'], ['t_c', 'fl'], ['well.t_calculated_earth_init'], ['survey']]\n",
    "antipatterns = ['mu', 'h_mes_survey', 'mpa']\n",
    "plot_by_patterns(result_df, group_patterns, antipatterns)"
   ]
  },
  {
   "cell_type": "code",
   "execution_count": null,
   "metadata": {},
   "outputs": [],
   "source": [
    "group_patterns = [\"rho\"]\n",
    "antipatterns = ['cor_number', 'earth']\n",
    "plot_by_patterns(result_df, group_patterns, antipatterns)"
   ]
  },
  {
   "cell_type": "code",
   "execution_count": null,
   "metadata": {},
   "outputs": [],
   "source": [
    "group_patterns = [\"mu\"]\n",
    "antipatterns = ['earth', 'cor_number']\n",
    "plot_by_patterns(result_df, group_patterns, antipatterns)"
   ]
  },
  {
   "cell_type": "code",
   "execution_count": null,
   "metadata": {},
   "outputs": [],
   "source": [
    "group_patterns = [\"m3day\"]\n",
    "antipatterns = ['earth']\n",
    "plot_by_patterns(result_df, group_patterns, antipatterns)"
   ]
  },
  {
   "cell_type": "code",
   "execution_count": null,
   "metadata": {},
   "outputs": [],
   "source": [
    "group_patterns = [\"perc\",'fw']\n",
    "antipatterns = ['earth']\n",
    "plot_by_patterns(result_df, group_patterns, antipatterns)"
   ]
  },
  {
   "cell_type": "code",
   "execution_count": null,
   "metadata": {},
   "outputs": [],
   "source": [
    "group_patterns = [\"d_m\"]\n",
    "antipatterns = ['earth']\n",
    "plot_by_patterns(result_df, group_patterns, antipatterns)"
   ]
  },
  {
   "cell_type": "code",
   "execution_count": null,
   "metadata": {},
   "outputs": [],
   "source": [
    "group_patterns = [\"rs\",\"m3m3\"]\n",
    "antipatterns = ['earth']\n",
    "plot_by_patterns(result_df, group_patterns, antipatterns)"
   ]
  },
  {
   "cell_type": "code",
   "execution_count": null,
   "metadata": {},
   "outputs": [],
   "source": [
    "group_patterns = [\"msec\"]\n",
    "antipatterns = ['secm', 'msecpam']\n",
    "plot_by_patterns(result_df, group_patterns, antipatterns)"
   ]
  },
  {
   "cell_type": "code",
   "execution_count": null,
   "metadata": {},
   "outputs": [],
   "source": [
    "group_patterns = [\"pb\"]\n",
    "antipatterns = ['tpb', 'number']\n",
    "plot_by_patterns(result_df, group_patterns, antipatterns)"
   ]
  },
  {
   "cell_type": "code",
   "execution_count": null,
   "metadata": {},
   "outputs": [],
   "source": []
  },
  {
   "cell_type": "code",
   "execution_count": null,
   "metadata": {},
   "outputs": [],
   "source": [
    "simple_well.data.print_all_names()"
   ]
  },
  {
   "cell_type": "code",
   "execution_count": null,
   "metadata": {},
   "outputs": [],
   "source": [
    "def trace(data_x, data_y, namexy):\n",
    "    tracep = go.Scattergl(\n",
    "        x = data_x,\n",
    "        y = data_y,\n",
    "        name = namexy,\n",
    "        mode = 'lines'\n",
    "    )\n",
    "    return tracep\n",
    "\n",
    "def plot():\n",
    "    layout = dict(title = 'Расчет фонтанирующей скважины',  yaxis=dict(title = 'Измеренная глубина, м', autorange='reversed'))\n",
    "\n",
    "    fig = dict(data=data, layout=layout)\n",
    "\n",
    "    iplot(fig, filename='basic-scatter')"
   ]
  },
  {
   "cell_type": "code",
   "execution_count": null,
   "metadata": {},
   "outputs": [],
   "source": [
    "#wells = []\n",
    "#dfs = []\n",
    "#for i in range(1, 300, 50):\n",
    "#    simple_well = self_flow_well.self_flow_well(h_intake_mes_m=999,h_intake_vert_m=999,\n",
    "#                                            h_bottomhole_mes_m=1000,h_bottomhole_vert_m=1000,\n",
    "#                                            t_earth_init_in_reservoir_c=90, t_bottomhole_c=92,\n",
    "#                                            d_casing_inner_m=0.12,\n",
    "#                                            d_tube_inner_m=0.062,\n",
    "#                                            qliq_on_surface_m3day = 50,\n",
    "#                                                p_bottomhole_bar=50\n",
    "#                                       )\n",
    "#    simple_well.pipe.fluid_flow.fl.rsb_m3m3 = 10 * i\n",
    "#    simple_well.well_work_time_sec = 1 \n",
    "#    simple_well.calc_all_from_down_to_up()\n",
    "#    df = data.extract_data_from_object(simple_well, 'well', [i])\n",
    "#    dfs.append(df)\n",
    "#    wells.append(simple_well)"
   ]
  },
  {
   "cell_type": "code",
   "execution_count": null,
   "metadata": {},
   "outputs": [],
   "source": [
    "#traces = []\n",
    "#for simple_well in wells:\n",
    "#    trace1 = trace(simple_well.data.get_values(24), simple_well.data.get_values(23),  \"Давление, бар\")\n",
    "#    traces.append(trace1)\n",
    "#data=traces\n",
    "#plot()    "
   ]
  },
  {
   "cell_type": "code",
   "execution_count": null,
   "metadata": {},
   "outputs": [],
   "source": [
    "trace1 = trace(simple_well.data.get_values(24), simple_well.data.get_values(23),  \"Давление, бар\")\n",
    "trace2 = trace(simple_well.data.get_values(25), simple_well.data.get_values(23),  \"Температура флюида, С\")\n",
    "trace3 = trace(simple_well.data.get_values(26), simple_well.data.get_values(23),  \"Температура земли, С\")\n",
    "data=[trace1,trace2,trace3]\n",
    "plot()"
   ]
  },
  {
   "cell_type": "code",
   "execution_count": null,
   "metadata": {},
   "outputs": [],
   "source": [
    "trace1 = go.Scatter3d(\n",
    "    x=simple_well.well_profile.x_displacement_m,\n",
    "    y=simple_well.well_profile.x_displacement_m * 0,\n",
    "    z=simple_well.well_profile.h_vert_m * (-1),  # перевод в альтитуду,\n",
    "    marker=dict(\n",
    "        size=4,\n",
    "        colorscale='Viridis',\n",
    "    ),\n",
    "    name = 'Построенный профиль',\n",
    "    )\n",
    "\n",
    "trace2 = go.Scatter3d(\n",
    "    x=simple_well.well_profile.get_x_displacement_m(simple_well.well_profile.h_mes_init_data_for_interpolation_m),\n",
    "    y=simple_well.well_profile.get_x_displacement_m(simple_well.well_profile.h_mes_init_data_for_interpolation_m) * 0,\n",
    "    z=simple_well.well_profile.h_vert_init_data_for_interpolation_m * (-1),\n",
    "    mode = 'markers',\n",
    "    marker = dict(\n",
    "        size=10\n",
    "    ),\n",
    "    name = 'Исходные точки',\n",
    "    )\n",
    "\n",
    "data = [trace1, trace2]\n",
    "\n",
    "\n",
    "layout = dict(title = '3D профиль простой скважины',  yaxis=dict(autorange='reversed'))\n",
    "fig = dict(data=data, layout=layout)\n",
    "iplot(fig, filename='simple-3d-scatter')"
   ]
  },
  {
   "cell_type": "code",
   "execution_count": null,
   "metadata": {},
   "outputs": [],
   "source": []
  },
  {
   "cell_type": "code",
   "execution_count": null,
   "metadata": {},
   "outputs": [],
   "source": []
  }
 ],
 "metadata": {
  "kernelspec": {
   "display_name": "Python 3",
   "language": "python",
   "name": "python3"
  },
  "language_info": {
   "codemirror_mode": {
    "name": "ipython",
    "version": 3
   },
   "file_extension": ".py",
   "mimetype": "text/x-python",
   "name": "python",
   "nbconvert_exporter": "python",
   "pygments_lexer": "ipython3",
   "version": "3.7.6"
  }
 },
 "nbformat": 4,
 "nbformat_minor": 2
}
