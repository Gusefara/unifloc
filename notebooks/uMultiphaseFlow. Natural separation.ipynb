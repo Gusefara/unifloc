{
 "cells": [
  {
   "cell_type": "markdown",
   "metadata": {},
   "source": [
    "Кобзарь О.С. Хабибуллин Р.А. 2019 г.\n",
    "\n",
    "# Естественная сепарация \n",
    "\n",
    "Источники:\n",
    "\n",
    "Márquez R. Modeling downhole natural separation : дис. – The University of Tulsa, 2004.\n",
    "\n",
    "Естественная сепарация на приеме погружного оборудования играет существенную роль в работе скважины. За счет того, что часть свободного газа удаляется в затрубное пространство, плотность ГЖС в НКТ возрастает, и следовательно снижается газлифтный эффект. С другой стороны, сепарация газа позволяет нормально работать погружному оборудованию, например, создавать больший перепад давления.\n",
    "\n",
    "Как и гидравлические корреляции, модели естественной сепарации деляться на экспериментальные корреляции и механистические модели. Новая корреляция Marquez относится к первому типу.\n",
    "\n",
    "В данном методике приняты следующие допущения:\n",
    "1.\tОбъемное содержание газа поступившее в насос определяется как:\n",
    "$$\\alpha_p (1 - \\alpha_p)^{n-1} = \\frac{V_{Sgz}^i}{V_{\\infty z}}$$\n",
    "2.\tУчитываются скорости проскальзывания газа, как в вертикальном, так и в радиальном направлении;\n",
    "3.\tДля пробкового и эмульсионного режимов течения автор пренебрегает эффектом воздействия с другими пузырьками газа и на основе анализа экспериментальных данных принимает значение $n$ равным нулю.\n",
    "\n",
    "Коэффициент естественной сепарации рассчитывается по формуле\n",
    "\n",
    "$$E = 1 -[-\\frac{V_{\\infty r}}{V_{\\infty z}}(\\frac{A_p}{A_a}) + \\frac{V_{SLz}^i}{V_{\\infty z}}] $$\n",
    "\n",
    "где отношение скоростей проскальзывания в вертикальном и радиальном направлении\n",
    "\n",
    "$$\\frac{V_{\\infty r}}{V_{\\infty z}} = \\frac{\\rho_L}{(\\rho_L + \\rho_g)g} (V_{Lr} \\frac{dV_{Lr}}{dr})$$\n",
    "\n",
    "а $V_{SLz}^i, V_{Sgz}^i$ - приведенные скорости жидкости и газа вдоль оси насоса\n",
    "\n",
    "Автор ввел параметр M в виде \n",
    "\n",
    "$$M = -\\frac{V_{\\infty r}}{V_{\\infty z}}\\frac{A_p}{A_a} $$\n",
    "\n",
    "или\n",
    "\n",
    "$$M = -[\\frac{ab+c(\\frac{V_{SLz}^i}{V_{\\infty z}})^d}{b+(\\frac{V_{SLz}^i}{V_{\\infty z}})^d}]$$\n",
    "\n",
    "где а = -0,0093 ; b = 57,758 ; c = 34,4 ; d = 1,308 – коэффициенты М параметра определялись из экспериментальных данных\n",
    "\n",
    "$A_p, A_a$ - площади поперечного сечения приема насоса и эксплуатационной колонны.\n",
    "\n",
    "Итоговая упрощенная формула:\n",
    "\n",
    "$$E = ([1 + [\\frac{ab+c(\\frac{V_{SLz}^i}{V_{\\infty z}})^d}{b+(\\frac{V_{SLz}^i}{V_{\\infty z}})^d}]]^{272} + [\\frac{V_{SLz}^i}{V_{\\infty z}}]^{272} )^{1/272} - \\frac{V_{SLz}^i}{V_{\\infty z}}$$\n",
    "\n",
    "\n",
    "Перед расчетом необходимо воспользоваться механистической моделью Caetano (1992) для определения режимов течения в затрубном пространстве вертикальной скважины и для вычисления $V_{\\infty z}$ - скорости проскальзывания пузырьков газа в вертикальном направлении\n",
    "\n"
   ]
  },
  {
   "cell_type": "code",
   "execution_count": null,
   "metadata": {},
   "outputs": [],
   "source": [
    "import sys\n",
    "sys.path.append('../')\n",
    "\n",
    "import uniflocpy.uTools.uconst as uc\n",
    "import uniflocpy.uTools.data_workflow as tool\n",
    "import uniflocpy.uMultiphaseFlow.flow_pattern_annulus_Caetano as FPA\n",
    "import uniflocpy.uPVT.PVT_fluids as PVT\n",
    "import uniflocpy.uMultiphaseFlow.natural_separation as nat_sep\n",
    "\n",
    "\n",
    "import plotly.graph_objs as go\n",
    "from plotly.offline import download_plotlyjs, init_notebook_mode, plot, iplot\n",
    "from plotly import tools\n",
    "\n",
    "init_notebook_mode(connected=True)\n"
   ]
  },
  {
   "cell_type": "markdown",
   "metadata": {},
   "source": [
    "Создание необходимых экземляров для работы"
   ]
  },
  {
   "cell_type": "code",
   "execution_count": null,
   "metadata": {},
   "outputs": [],
   "source": [
    "annular = FPA.flow_pattern_annulus_Caetano()\n",
    "fluid_flow = PVT.FluidFlow()\n",
    "flow_data = tool.Data()\n",
    "pattern_data = tool.Data()\n",
    "separation = nat_sep.new_correlation_Marquez()\n",
    "\n",
    "annular_data = tool.Data()\n",
    "fluid_flow_data = tool.Data()\n",
    "separation_data = tool.Data()"
   ]
  },
  {
   "cell_type": "markdown",
   "metadata": {},
   "source": [
    "Задание термобарических условий на приеме погружного оборудования, конструкцию приема\n",
    "\n",
    "Расчет параметров по кольцевому пространству проиизводится исходя из того, что площадь поперечного сечения кольцевого пространства равна площади трубы при расчете многофазного потока. Возможно вместо этого подхода требуется применение гидравлического диаметра"
   ]
  },
  {
   "cell_type": "code",
   "execution_count": null,
   "metadata": {},
   "outputs": [],
   "source": [
    "p_bar = 40\n",
    "t_c = 60\n",
    "\n",
    "annular.d_cas_in_m = 0.140\n",
    "annular.d_tube_out_m = 0.100\n",
    "\n",
    "d_annular_hydr_m = annular.d_cas_in_m - annular.d_tube_out_m  #TODO какой диаметр при расчетах потока использовать?\n",
    "Ap = uc.pi / 4 * (annular.d_cas_in_m ** 2 - annular.d_tube_out_m ** 2)\n",
    "\n",
    "fluid_flow.d_m = (Ap * 4 / uc.pi) ** (1 / 2)"
   ]
  },
  {
   "cell_type": "markdown",
   "metadata": {},
   "source": [
    "Здесь производится расчет. Расчитанные параметры многофазного потока вливаются в расчет режима течения\n",
    "в кольцевом пространстве, а затем необходимые параметры передаются модулю расчета естественной сепарации\n"
   ]
  },
  {
   "cell_type": "code",
   "execution_count": null,
   "metadata": {},
   "outputs": [],
   "source": [
    "separation_data.clear_data()\n",
    "fluid_flow_data.clear_data()\n",
    "annular_data.clear_data()\n",
    "\n",
    "\n",
    "for i in range(1,200):\n",
    "    fluid_flow.qliq_on_surface_m3day = i\n",
    "    fluid_flow.calc(p_bar, t_c)\n",
    "    \n",
    "    annular.surface_tension_gl_Nm = fluid_flow.sigma_liq_Nm\n",
    "    annular.rho_liq_kgm3 = fluid_flow.rho_liq_kgm3\n",
    "    annular.rho_gas_kgm3 = fluid_flow.fl.rho_gas_kgm3\n",
    "    annular.rho_mix_kgm3 = fluid_flow.rhon_kgm3\n",
    "    annular.mu_mix_pasec = fluid_flow.mun_cP / 10 ** 3\n",
    "    \n",
    "    vs_gas_msec = fluid_flow.vsg_msec \n",
    "    vs_liq_msec = fluid_flow.vsl_msec\n",
    "    \n",
    "    annular.calc_pattern(vs_liq_msec, vs_gas_msec)\n",
    "    \n",
    "    separation.v_infinite_z_msec = annular.v_infinite_z_msec\n",
    "    separation.vs_liq_z_msec = annular.vs_liq_msec\n",
    "    \n",
    "    \n",
    "    value_of_natural_separation_Marquez = separation.calc()\n",
    "    \n",
    "\n",
    "    \n",
    "    separation_data.get_data(separation)\n",
    "    fluid_flow_data.get_data(fluid_flow)\n",
    "    annular_data.get_data(annular)"
   ]
  },
  {
   "cell_type": "code",
   "execution_count": null,
   "metadata": {},
   "outputs": [],
   "source": [
    "def trace(data, number_param):\n",
    "    tracep = go.Scattergl(\n",
    "        x = fluid_flow_data.get_values(1),\n",
    "        y = data.get_values(number_param),\n",
    "        name = data.get_name(number_param),\n",
    "        mode = 'markers'\n",
    "    )\n",
    "    return tracep\n",
    "\n",
    "def plot():\n",
    "    layout = dict(title = 'Естественная сепарация по новой корреляции Marquez',    \n",
    "                  yaxis = dict(range=[0,1], title = 'Коэффициент естественной сепарации, д.ед.'),\n",
    "                 xaxis = dict(title = 'Дебит жидкости в поверхностных условиях, м3/сут'))\n",
    "\n",
    "    fig = dict(data=data, layout=layout)\n",
    "\n",
    "    iplot(fig, filename='basic-scatter')"
   ]
  },
  {
   "cell_type": "code",
   "execution_count": null,
   "metadata": {},
   "outputs": [],
   "source": [
    "separation_data.print_all_names()"
   ]
  },
  {
   "cell_type": "code",
   "execution_count": null,
   "metadata": {},
   "outputs": [],
   "source": [
    "fluid_flow_data.print_all_names()"
   ]
  },
  {
   "cell_type": "code",
   "execution_count": null,
   "metadata": {},
   "outputs": [],
   "source": [
    "trace1 = trace(separation_data, 4)\n",
    "\n",
    "data = [trace1]\n",
    "\n",
    "plot()"
   ]
  }
 ],
 "metadata": {
  "kernelspec": {
   "display_name": "Python 3",
   "language": "python",
   "name": "python3"
  },
  "language_info": {
   "codemirror_mode": {
    "name": "ipython",
    "version": 3
   },
   "file_extension": ".py",
   "mimetype": "text/x-python",
   "name": "python",
   "nbconvert_exporter": "python",
   "pygments_lexer": "ipython3",
   "version": "3.7.6"
  }
 },
 "nbformat": 4,
 "nbformat_minor": 2
}
