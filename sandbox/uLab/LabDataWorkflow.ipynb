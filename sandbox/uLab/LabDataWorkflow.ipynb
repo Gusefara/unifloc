{
 "cells": [
  {
   "cell_type": "markdown",
   "metadata": {},
   "source": [
    "Кобзарь О.С. Горидько К.А. Хабибуллин Р.А.\n",
    "\n",
    "последнее изменение 03.09.2019\n",
    "\n",
    "## TODO сделать крутой аналитичейски dashboard с возможность настройки под различные исследования\n",
    "\n",
    "# Работа с исходными данными исследований\n"
   ]
  },
  {
   "cell_type": "markdown",
   "metadata": {},
   "source": [
    "Сразу дадим названия файликов с данными калибровочными и исследуемыми и пометку в названии сгенерируемого файлика excel"
   ]
  },
  {
   "cell_type": "code",
   "execution_count": null,
   "metadata": {},
   "outputs": [],
   "source": [
    "file_name_with_regime_data = \"T72.trd\"\n",
    "file_name_with_corr_data = \"T66.trd\"\n",
    "changed_mark = \"31_08_2019\" "
   ]
  },
  {
   "cell_type": "markdown",
   "metadata": {},
   "source": [
    "Импорт необходимых модулей"
   ]
  },
  {
   "cell_type": "code",
   "execution_count": null,
   "metadata": {},
   "outputs": [],
   "source": [
    "import pandas as pd\n",
    "import numpy as np\n",
    "import sys\n",
    "sys.path.append('../')\n",
    "from _plotly_future_ import v4_subplots\n",
    "import plotly.plotly as py\n",
    "import plotly.graph_objs as go\n",
    "import plotly.graph_objs as go\n",
    "\n",
    "from plotly.subplots import make_subplots\n",
    "from plotly.offline import download_plotlyjs, init_notebook_mode, plot, iplot\n",
    "from plotly import tools\n",
    "init_notebook_mode(connected=True)\n",
    "import os\n",
    "from datetime import date"
   ]
  },
  {
   "cell_type": "markdown",
   "metadata": {},
   "source": [
    "Проинициализируем все функции для обработки данных и построения графиков"
   ]
  },
  {
   "cell_type": "code",
   "execution_count": null,
   "metadata": {},
   "outputs": [],
   "source": [
    "def edit_new_trd_file(file):\n",
    "    del file[72]\n",
    "    del file[0]\n",
    "    del file[1]\n",
    "    nedeed_columns = file.columns[2:]\n",
    "    for i in nedeed_columns:\n",
    "        ost = i % 2\n",
    "        if ost == 0 and i != 72:\n",
    "            sensor_name = file[i][0]\n",
    "        else:\n",
    "            file = file.rename(columns={i:sensor_name})\n",
    "            if i != 72:\n",
    "                del file[i-1]\n",
    "\n",
    "    #del file['PLC_PRG.Diaf_Number']\n",
    "    file[\"Время\"] = file[2] + \" \" + file[3]\n",
    "    file[\"Время\"] = pd.to_datetime(file[\"Время\"], dayfirst = True)\n",
    "    file.index = file[\"Время\"]\n",
    "    del file[2]\n",
    "    del file[3]\n",
    "    del file[\"Время\"]\n",
    "\n",
    "    file = file.drop(file.index[0:4])  # удаляем первую строчку со значениями\n",
    "    return file\n",
    "\n",
    "def func_to_row_data(min_val, max_val, row_val, multiplier):\n",
    "    result = (min_val + (max_val - min_val) * row_val / 20000) * multiplier\n",
    "    result.iloc[-2] = row_val.iloc[-2]\n",
    "    result.iloc[-1] = row_val.iloc[-1]\n",
    "    result.iloc[5] = ((max_val[5] - min_val[5]) * row_val[5] / 20000) * multiplier[5]\n",
    "    return result \n",
    "\n",
    "def trace(data_x, data_y, namexy, chosen_mode = 'lines+markers'):\n",
    "    tracep = go.Scattergl(\n",
    "        x=data_x,\n",
    "        y=data_y,\n",
    "        name=namexy,\n",
    "        mode=chosen_mode\n",
    "    )\n",
    "    return tracep\n",
    "\n",
    "\n",
    "def plot_func(plot_title_str, filename_str):\n",
    "    layout = dict(title=plot_title_str)\n",
    "\n",
    "    fig = dict(data=data, layout=layout)\n",
    "    \n",
    "    #fig = make_subplots(rows=8, cols=1)\n",
    "\n",
    "\n",
    "    \n",
    "    plot(fig, filename=filename_str)\n",
    "    #iplot(fig)\n",
    "\n",
    "def plot_subplots(data_traces, plot_title_str, filename_str, two_equal_subplots = False):\n",
    "    if two_equal_subplots:\n",
    "        items_in_one_subplot = int(len(data_traces) )\n",
    "        fig = make_subplots(rows=2, cols=1, shared_xaxes=True, vertical_spacing=0.02)\n",
    "        for i in range(items_in_one_subplot):\n",
    "            fig.append_trace(data_traces[i], row = 1, col = 1)\n",
    "            fig.append_trace(data_traces[i], row = 2, col = 1)\n",
    "    else:\n",
    "        fig = make_subplots(rows=len(data_traces), cols=1, shared_xaxes=True, vertical_spacing=0.02)\n",
    "        for i in range(len(data_traces)):\n",
    "            fig.append_trace(data_traces[i], row = i + 1, col = 1)\n",
    "    \n",
    "    \n",
    "    \n",
    "    plot(fig, filename=filename_str)\n",
    "    \n",
    "\n",
    "def create_traces_list_by_num(data_x_values, data_y, num_y_list):\n",
    "    trace_list = []\n",
    "    for i in num_y_list:\n",
    "        namexy = data_y.get_saved_parameter_name_by_number(i)\n",
    "        this_trace = trace(data_x_values, data_y.get_saved_values_by_number(i), namexy)\n",
    "        trace_list.append(this_trace)\n",
    "    return trace_list\n",
    "\n",
    "def create_traces_list_for_all_columms(data_frame, chosen_mode = 'lines+markers'):\n",
    "    trace_list = []\n",
    "    columns_name_list = data_frame.columns\n",
    "    for i in columns_name_list:\n",
    "        column_name = i\n",
    "        this_trace = trace(data_frame.index, data_frame[column_name], column_name, chosen_mode)\n",
    "        trace_list.append(this_trace)\n",
    "    return trace_list\n",
    "\n",
    "\n",
    "def connect_traces(traces1, trace2):\n",
    "    connected_traces = []\n",
    "    for i in traces1:\n",
    "        connected_traces.append(i)\n",
    "    for j in trace2:\n",
    "        connected_traces.append(j)\n",
    "    return connected_traces\n",
    "\n",
    "def plot_bar(data_x, data_y, name):\n",
    "\n",
    "    bar_trace = go.Bar(\n",
    "        x= data_x,\n",
    "        y= data_y,\n",
    "        name= name,\n",
    "        text = data_x,\n",
    "        textposition='outside',\n",
    "    )\n",
    "    \n",
    "    data = [ bar_trace]\n",
    "    layout = dict(title=name, barmode='group',    \n",
    "                  font=dict(size=16),\n",
    "                 margin=dict(b=275),\n",
    "                 xaxis=go.layout.XAxis(tickangle=35))\n",
    "    fig = dict(data=data, layout=layout)\n",
    "    \n",
    "    html_name = name + '.html'\n",
    "    plot(fig, filename=html_name)"
   ]
  },
  {
   "cell_type": "code",
   "execution_count": null,
   "metadata": {},
   "outputs": [],
   "source": [
    "current_abs_path = os.getcwd()"
   ]
  },
  {
   "cell_type": "markdown",
   "metadata": {},
   "source": [
    "Загрузим файлик с данными из текущей директории и посмотрим на него. При необходимости нужно менять его название"
   ]
  },
  {
   "cell_type": "code",
   "execution_count": null,
   "metadata": {},
   "outputs": [],
   "source": [
    "abs_path_to_file = current_abs_path +'\\\\' +  file_name_with_regime_data\n",
    "file = pd.read_csv(abs_path_to_file, sep = \";\", header = None)\n",
    "file.head()"
   ]
  },
  {
   "cell_type": "markdown",
   "metadata": {},
   "source": [
    "Произведем предварительную обработку и вновь посмотрим на файлик"
   ]
  },
  {
   "cell_type": "code",
   "execution_count": null,
   "metadata": {},
   "outputs": [],
   "source": [
    "file = edit_new_trd_file(file)\n",
    "file.head()"
   ]
  },
  {
   "cell_type": "markdown",
   "metadata": {},
   "source": [
    "Построим графики для исходных данных"
   ]
  },
  {
   "cell_type": "code",
   "execution_count": null,
   "metadata": {},
   "outputs": [],
   "source": [
    "data_traces = create_traces_list_for_all_columms(file)\n",
    "data = data_traces\n",
    "file_name = \"Показания датчиков исходные\"\n",
    "plot_func(file_name , file_name + \".html\")"
   ]
  },
  {
   "cell_type": "markdown",
   "metadata": {},
   "source": [
    "Определим интересующий промежуток времени для анализа. Если весь промежуток нормальный, можно поставить 1900 и 2200 год соответственно для выдачи всех данных"
   ]
  },
  {
   "cell_type": "code",
   "execution_count": null,
   "metadata": {},
   "outputs": [],
   "source": [
    "year_start = 2009\n",
    "month_start = 8\n",
    "day_start = 15\n",
    "hour_start = 20\n",
    "minute_start = 6\n",
    "second_start = 0\n",
    "\n",
    "\n",
    "year_end = 2029\n",
    "month_end = 8\n",
    "day_end = 15\n",
    "hour_end = 20\n",
    "minute_end = 11\n",
    "second_end = 22\n",
    "\n",
    "date_from = pd.to_datetime(pd.DataFrame({'year': [year_start, year_end],\n",
    "                           'month': [month_start, month_end],\n",
    "                           'day': [day_start, day_end],\n",
    "                            'hour': [hour_start, hour_end],\n",
    "                                        'minute': [minute_start, minute_end],\n",
    "                                        'second': [second_start, second_end]}))\n",
    "date_start = date_from.iloc[0]\n",
    "print(\"Дата начала периода для тщательного анализа: \" + str(date_start))\n",
    "date_end = date_from.iloc[1]\n",
    "print(\"Дата конца периода для тщательного анализа: \" + str(date_end))"
   ]
  },
  {
   "cell_type": "markdown",
   "metadata": {},
   "source": [
    "Вырежем кусок исходных данным, посмотрим на него и продолжим работу только над ним"
   ]
  },
  {
   "cell_type": "code",
   "execution_count": null,
   "metadata": {},
   "outputs": [],
   "source": [
    "nedeed_data = file[(file.index >= date_start) & (file.index <= date_end)]\n",
    "nedeed_data.head()"
   ]
  },
  {
   "cell_type": "markdown",
   "metadata": {},
   "source": [
    "Сделаем усреднение нужных данных и построим графики. Усреднение можно менять, например \"1min\", \"2h\""
   ]
  },
  {
   "cell_type": "code",
   "execution_count": null,
   "metadata": {},
   "outputs": [],
   "source": [
    "#resample_time_str = \"30s\"\n",
    "#resampled_data = nedeed_data.resample(resample_time_str).mean()\n",
    "#data_traces = create_traces_list_for_all_columms(resampled_data)\n",
    "#data = data_traces\n",
    "#file_name = \"Показания датчиков с осреднением \" + resample_time_str\n",
    "#plot_func(file_name , file_name + \".html\")\n"
   ]
  },
  {
   "cell_type": "markdown",
   "metadata": {},
   "source": [
    "Построение отдельных графиков (по 8 штук) для сырых данных"
   ]
  },
  {
   "cell_type": "code",
   "execution_count": null,
   "metadata": {},
   "outputs": [],
   "source": [
    "##Построим первые 10 графиков\n",
    "#\\traces_8_first = data_traces[0:8]\n",
    "#traces_2_last = data_traces[-3:]\n",
    "#traces_for_first_plot = connect_traces(traces_8_first, traces_2_last)\n",
    "#data = traces_for_first_plot\n",
    "#file_name = \"Показания датчиков (первые 8 и тензо) с осреднением  \" + resample_time_str\n",
    "#plot_func(file_name , file_name + \".html\")\n",
    "##Еще вторые 8\n",
    "#traces_8_second = data_traces[8:16]\n",
    "#data = traces_8_second\n",
    "#file_name = \"Показания датчиков (вторые 8) с осреднением  \" + resample_time_str\n",
    "#plot_func(file_name , file_name + \".html\")\n",
    "##Еще третьи 8\n",
    "#traces_8_third = data_traces[16:24]\n",
    "#data = traces_8_third\n",
    "#file_name = \"Показания датчиков (третьи 8) с осреднением  \" + resample_time_str\n",
    "#plot_func(file_name , file_name + \".html\")\n",
    "##И последние 8\n",
    "#traces_8_fourth = data_traces[16:24]\n",
    "#data = traces_8_fourth\n",
    "#file_name = \"Показания датчиков (четвертые 8) с осреднением  \" + resample_time_str\n",
    "#plot_func(file_name , file_name + \".html\")"
   ]
  },
  {
   "cell_type": "markdown",
   "metadata": {},
   "source": [
    "Загрузим данные с датчиков в режиме простоя и вычтем их из интересующих данных для их калибровки"
   ]
  },
  {
   "cell_type": "code",
   "execution_count": null,
   "metadata": {},
   "outputs": [],
   "source": [
    "abs_path_to_calibr_file = current_abs_path +'\\\\' +  file_name_with_corr_data\n",
    "calibr_file = pd.read_csv(abs_path_to_calibr_file, sep = \";\", header = None)\n",
    "calibr_file = edit_new_trd_file(calibr_file)\n",
    "\n",
    "#построение данных для калибровки\n",
    "data_traces = create_traces_list_for_all_columms(calibr_file)\n",
    "data = data_traces\n",
    "file_name = \"Показания датчиков для калибровки\"\n",
    "plot_func(file_name , file_name + \".html\")\n",
    "\n",
    "calibr_mean_values = calibr_file.mean()\n",
    "nedeed_mean_values = nedeed_data.mean()\n",
    "ready_mean_values = nedeed_mean_values - calibr_mean_values\n",
    "ready_mean_values.iloc[-1] = calibr_mean_values.iloc[-1]\n",
    "ready_mean_values[0:3] = nedeed_mean_values[0:3]\n",
    "\n",
    "#ready_mean_values"
   ]
  },
  {
   "cell_type": "markdown",
   "metadata": {},
   "source": [
    "Преобразуем сигналы в замеры согласно их спецификациям (должны быть определены в загружаемой таблице)"
   ]
  },
  {
   "cell_type": "code",
   "execution_count": null,
   "metadata": {},
   "outputs": [],
   "source": [
    "description_file = pd.read_excel(\"Описание датчиков.xlsx\")\n",
    "#description_file.head()\n",
    "\n",
    "\n",
    "row_val = ready_mean_values\n",
    "\n",
    "min_val = description_file['Нижний предел измерения сенсора'].values\n",
    "max_val = description_file['Верхний предел измерения датчика'].values\n",
    "multiplier = description_file['Множитель для переводной формулы'].values\n",
    "\n",
    "ready_data = func_to_row_data(min_val, max_val, row_val, multiplier)\n",
    "#print(ready_data)"
   ]
  },
  {
   "cell_type": "markdown",
   "metadata": {},
   "source": [
    "Построим некоторые графики"
   ]
  },
  {
   "cell_type": "code",
   "execution_count": null,
   "metadata": {},
   "outputs": [],
   "source": [
    "plot_bar(description_file['Правильное название датчика'], ready_data, 'Первый результат построения данных эксперимента')"
   ]
  },
  {
   "cell_type": "code",
   "execution_count": null,
   "metadata": {},
   "outputs": [],
   "source": [
    "stages_number = [0,1,2,3,5,7,9,10,12,14,17,19,20,22,25,29,33,37,38,58,77,78,98,117,118,119]\n",
    "only_stage_data_array = np.asarray(ready_data[8:32].values)\n",
    "input_pressure = np.asarray(ready_data[6])\n",
    "output_pressure = np.asarray(ready_data[7])\n",
    "all_esp_pressure = np.concatenate(([input_pressure],only_stage_data_array, [output_pressure]), axis=0)\n",
    "stages_trace = trace(stages_number, all_esp_pressure, \"Распределение давления по ступеням, бар\")\n",
    "data = [stages_trace]\n",
    "file_name = \"Распределение давления по ступеням, бар\"\n",
    "plot_func(file_name , file_name + \".html\")"
   ]
  },
  {
   "cell_type": "markdown",
   "metadata": {},
   "source": [
    "Сохраним результаты в ecxel"
   ]
  },
  {
   "cell_type": "code",
   "execution_count": null,
   "metadata": {},
   "outputs": [],
   "source": [
    "ready_data.index = description_file['Правильное название датчика']\n",
    "ready_data.columns = [\"Величина параметра\"]\n",
    "excel_name = \"Результаты обработки данных на текущем режиме_\" + changed_mark + \".xlsx\"\n",
    "transposed_ready_data = pd.DataFrame(np.zeros((1,34)))\n",
    "transposed_ready_data.iloc[0] = ready_data.values\n",
    "transposed_ready_data.columns = description_file['Правильное название датчика']\n",
    "transposed_ready_data.to_excel(excel_name)"
   ]
  },
  {
   "cell_type": "code",
   "execution_count": null,
   "metadata": {},
   "outputs": [],
   "source": []
  },
  {
   "cell_type": "code",
   "execution_count": null,
   "metadata": {},
   "outputs": [],
   "source": []
  },
  {
   "cell_type": "code",
   "execution_count": null,
   "metadata": {},
   "outputs": [],
   "source": []
  },
  {
   "cell_type": "code",
   "execution_count": null,
   "metadata": {},
   "outputs": [],
   "source": []
  }
 ],
 "metadata": {
  "kernelspec": {
   "display_name": "Python 3",
   "language": "python",
   "name": "python3"
  },
  "language_info": {
   "codemirror_mode": {
    "name": "ipython",
    "version": 3
   },
   "file_extension": ".py",
   "mimetype": "text/x-python",
   "name": "python",
   "nbconvert_exporter": "python",
   "pygments_lexer": "ipython3",
   "version": "3.7.3"
  }
 },
 "nbformat": 4,
 "nbformat_minor": 2
}
