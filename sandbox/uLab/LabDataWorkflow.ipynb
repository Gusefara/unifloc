{
 "cells": [
  {
   "cell_type": "markdown",
   "metadata": {},
   "source": [
    "Кобзарь О.С. Горидько К.А. Хабибуллин Р.А.\n",
    "\n",
    "## TODO сделать крутой аналитичейски dashboard с возможность настройки под различные исследования\n",
    "\n",
    "# Работа с исходными данными исследований\n",
    "\n",
    "Импорт модулей"
   ]
  },
  {
   "cell_type": "code",
   "execution_count": null,
   "metadata": {},
   "outputs": [],
   "source": [
    "import pandas as pd\n",
    "import numpy as np\n",
    "import sys\n",
    "sys.path.append('../')\n",
    "from _plotly_future_ import v4_subplots\n",
    "import plotly.plotly as py\n",
    "import plotly.graph_objs as go\n",
    "import plotly.graph_objs as go\n",
    "\n",
    "from plotly.subplots import make_subplots\n",
    "from plotly.offline import download_plotlyjs, init_notebook_mode, plot, iplot\n",
    "from plotly import tools\n",
    "init_notebook_mode(connected=True)\n",
    "\n",
    "from datetime import date"
   ]
  },
  {
   "cell_type": "markdown",
   "metadata": {},
   "source": [
    "Загрузим файлик с данными из текущей директории и посмотрим на него. При необходимости нужно менять его название"
   ]
  },
  {
   "cell_type": "code",
   "execution_count": null,
   "metadata": {},
   "outputs": [],
   "source": [
    "file = pd.read_csv(\"T18.trd\", sep = \";\", header = None)\n",
    "file.head()"
   ]
  },
  {
   "cell_type": "markdown",
   "metadata": {},
   "source": [
    "Произведем предварительную обработку и вновь посмотрим на файлик"
   ]
  },
  {
   "cell_type": "code",
   "execution_count": null,
   "metadata": {},
   "outputs": [],
   "source": [
    "del file[0]\n",
    "del file[1]\n",
    "nedeed_columns = file.columns[2:]\n",
    "for i in nedeed_columns:\n",
    "    ost = i % 2\n",
    "    if ost == 0 and i != 72:\n",
    "        sensor_name = file[i][0]\n",
    "    else:\n",
    "        file = file.rename(columns={i:sensor_name})\n",
    "        if i != 72:\n",
    "            del file[i-1]\n",
    "        \n",
    "#del file['PLC_PRG.Diaf_Number']\n",
    "file[\"Время\"] = pd.to_datetime(file[2] + \" \" + file[3])\n",
    "file.index = file[\"Время\"]\n",
    "del file[2]\n",
    "del file[3]\n",
    "del file[\"Время\"]\n",
    "file.head()\n"
   ]
  },
  {
   "cell_type": "markdown",
   "metadata": {},
   "source": [
    "Проинициализируем функции для построения графиков"
   ]
  },
  {
   "cell_type": "code",
   "execution_count": null,
   "metadata": {},
   "outputs": [],
   "source": [
    "def trace(data_x, data_y, namexy, chosen_mode = 'lines'):\n",
    "    tracep = go.Scattergl(\n",
    "        x=data_x,\n",
    "        y=data_y,\n",
    "        name=namexy,\n",
    "        mode=chosen_mode\n",
    "    )\n",
    "    return tracep\n",
    "\n",
    "\n",
    "def plot_func(plot_title_str, filename_str):\n",
    "    layout = dict(title=plot_title_str)\n",
    "\n",
    "    fig = dict(data=data, layout=layout)\n",
    "    \n",
    "    #fig = make_subplots(rows=8, cols=1)\n",
    "\n",
    "\n",
    "    \n",
    "    plot(fig, filename=filename_str)\n",
    "    #iplot(fig)\n",
    "\n",
    "def plot_subplots(data_traces, plot_title_str, filename_str, two_equal_subplots = False):\n",
    "    if two_equal_subplots:\n",
    "        items_in_one_subplot = int(len(data_traces) )\n",
    "        fig = make_subplots(rows=2, cols=1, shared_xaxes=True, vertical_spacing=0.02)\n",
    "        for i in range(items_in_one_subplot):\n",
    "            fig.append_trace(data_traces[i], row = 1, col = 1)\n",
    "            fig.append_trace(data_traces[i], row = 2, col = 1)\n",
    "    else:\n",
    "        fig = make_subplots(rows=len(data_traces), cols=1, shared_xaxes=True, vertical_spacing=0.02)\n",
    "        for i in range(len(data_traces)):\n",
    "            fig.append_trace(data_traces[i], row = i + 1, col = 1)\n",
    "    \n",
    "    \n",
    "    \n",
    "    plot(fig, filename=filename_str)\n",
    "    \n",
    "\n",
    "def create_traces_list_by_num(data_x_values, data_y, num_y_list):\n",
    "    trace_list = []\n",
    "    for i in num_y_list:\n",
    "        namexy = data_y.get_saved_parameter_name_by_number(i)\n",
    "        this_trace = trace(data_x_values, data_y.get_saved_values_by_number(i), namexy)\n",
    "        trace_list.append(this_trace)\n",
    "    return trace_list\n",
    "\n",
    "def create_traces_list_for_all_columms(data_frame, chosen_mode = 'lines'):\n",
    "    trace_list = []\n",
    "    columns_name_list = data_frame.columns\n",
    "    for i in columns_name_list:\n",
    "        column_name = i\n",
    "        this_trace = trace(data_frame.index, data_frame[column_name], column_name, chosen_mode)\n",
    "        trace_list.append(this_trace)\n",
    "    return trace_list\n",
    "\n",
    "\n",
    "def connect_traces(traces1, trace2):\n",
    "    connected_traces = []\n",
    "    for i in traces1:\n",
    "        connected_traces.append(i)\n",
    "    for j in trace2:\n",
    "        connected_traces.append(j)\n",
    "    return connected_traces"
   ]
  },
  {
   "cell_type": "markdown",
   "metadata": {},
   "source": [
    "Построим графики для исходных данных"
   ]
  },
  {
   "cell_type": "code",
   "execution_count": null,
   "metadata": {},
   "outputs": [],
   "source": [
    "data_traces = create_traces_list_for_all_columms(file)\n",
    "data = data_traces\n",
    "file_name = \"Показания датчиков\"\n",
    "plot_func(file_name , file_name + \".html\")"
   ]
  },
  {
   "cell_type": "markdown",
   "metadata": {},
   "source": [
    "Определим интересующий промежуток времени для анализа"
   ]
  },
  {
   "cell_type": "code",
   "execution_count": null,
   "metadata": {},
   "outputs": [],
   "source": [
    "year_start = 2019\n",
    "month_start = 8\n",
    "day_start = 15\n",
    "hour_start = 19\n",
    "minute_start = 1\n",
    "\n",
    "year_end = 2019\n",
    "month_end = 8\n",
    "day_end = 15\n",
    "hour_end = 20\n",
    "minute_end = 3\n",
    "date_from = pd.to_datetime(pd.DataFrame({'year': [year_start, year_end],\n",
    "                           'month': [month_start, month_end],\n",
    "                           'day': [day_start, day_end],\n",
    "                            'hour': [hour_start, hour_end],\n",
    "                                        'minute': [minute_start, minute_end]}))\n",
    "date_start = date_from.iloc[0]\n",
    "print(\"Дата начала периода для тщательного анализа: \" + str(date_start))\n",
    "date_end = date_from.iloc[1]\n",
    "print(\"Дата конца периода для тщательного анализа: \" + str(date_end))"
   ]
  },
  {
   "cell_type": "markdown",
   "metadata": {},
   "source": [
    "Вырежем кусок исходных данным, посмотрим на него и продолжим работу только над ним"
   ]
  },
  {
   "cell_type": "code",
   "execution_count": null,
   "metadata": {},
   "outputs": [],
   "source": [
    "nedeed_data = file[(file.index >= date_start) & (file.index <= date_end)]\n",
    "nedeed_data.head()"
   ]
  },
  {
   "cell_type": "markdown",
   "metadata": {},
   "source": [
    "Сделаем усреднение нужных данных и построим графики. Усреднение можно менять, например \"1min\", \"2h\""
   ]
  },
  {
   "cell_type": "code",
   "execution_count": null,
   "metadata": {},
   "outputs": [],
   "source": [
    "resample_time_str = \"30s\"\n",
    "resampled_data = nedeed_data.resample(resample_time_str).mean()\n",
    "data_traces = create_traces_list_for_all_columms(resampled_data)\n",
    "data = data_traces\n",
    "file_name = \"Показания датчиков с осреднением \" + resample_time_str\n",
    "plot_func(file_name , file_name + \".html\")\n"
   ]
  },
  {
   "cell_type": "markdown",
   "metadata": {},
   "source": [
    "Построим первые 10 графиков"
   ]
  },
  {
   "cell_type": "code",
   "execution_count": null,
   "metadata": {},
   "outputs": [],
   "source": [
    "traces_8_first = data_traces[0:8]\n",
    "traces_2_last = data_traces[-3:]\n",
    "traces_for_first_plot = connect_traces(traces_8_first, traces_2_last)\n",
    "data = traces_for_first_plot\n",
    "file_name = \"Показания датчиков (первые 8 и тензо) с осреднением  \" + resample_time_str\n",
    "plot_func(file_name , file_name + \".html\")"
   ]
  },
  {
   "cell_type": "markdown",
   "metadata": {},
   "source": [
    "Еще вторые 8"
   ]
  },
  {
   "cell_type": "code",
   "execution_count": null,
   "metadata": {},
   "outputs": [],
   "source": [
    "traces_8_second = data_traces[8:16]\n",
    "data = traces_8_second\n",
    "file_name = \"Показания датчиков (вторые 8) с осреднением  \" + resample_time_str\n",
    "plot_func(file_name , file_name + \".html\")"
   ]
  },
  {
   "cell_type": "markdown",
   "metadata": {},
   "source": [
    "Еще третьи 8"
   ]
  },
  {
   "cell_type": "code",
   "execution_count": null,
   "metadata": {},
   "outputs": [],
   "source": [
    "traces_8_third = data_traces[16:24]\n",
    "data = traces_8_third\n",
    "file_name = \"Показания датчиков (третьи 8) с осреднением  \" + resample_time_str\n",
    "plot_func(file_name , file_name + \".html\")"
   ]
  },
  {
   "cell_type": "markdown",
   "metadata": {},
   "source": [
    "И последние 8"
   ]
  },
  {
   "cell_type": "code",
   "execution_count": null,
   "metadata": {},
   "outputs": [],
   "source": [
    "traces_8_fourth = data_traces[16:24]\n",
    "data = traces_8_fourth\n",
    "file_name = \"Показания датчиков (четвертые 8) с осреднением  \" + resample_time_str\n",
    "plot_func(file_name , file_name + \".html\")"
   ]
  },
  {
   "cell_type": "code",
   "execution_count": null,
   "metadata": {},
   "outputs": [],
   "source": [
    "ampl = nedeed_data[\".Sensor1\"] - nedeed_data[\".Sensor1\"].mean()\n",
    "ampl"
   ]
  },
  {
   "cell_type": "code",
   "execution_count": null,
   "metadata": {},
   "outputs": [],
   "source": []
  }
 ],
 "metadata": {
  "kernelspec": {
   "display_name": "Python 3",
   "language": "python",
   "name": "python3"
  },
  "language_info": {
   "codemirror_mode": {
    "name": "ipython",
    "version": 3
   },
   "file_extension": ".py",
   "mimetype": "text/x-python",
   "name": "python",
   "nbconvert_exporter": "python",
   "pygments_lexer": "ipython3",
   "version": "3.7.3"
  }
 },
 "nbformat": 4,
 "nbformat_minor": 2
}
