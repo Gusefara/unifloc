{
 "cells": [
  {
   "cell_type": "code",
   "execution_count": 189,
   "metadata": {},
   "outputs": [],
   "source": [
    "import os\n",
    "import preprocessor as prep\n",
    "import postprocessor as postp\n",
    "import processor as proc\n",
    "import pandas as pd\n",
    "import unifloc.uniflocpy.uTools.plotly_workflow as pw\n",
    "import datetime\n",
    "from sklearn import metrics\n",
    "import multiprocessing as mp\n",
    "from multiprocessing import Pool\n",
    "import seaborn as sns\n",
    "\n",
    "from sklearn import metrics\n",
    "from sklearn import linear_model\n",
    "from sklearn.model_selection import train_test_split\n",
    "from sklearn.model_selection import GridSearchCV\n",
    "import numpy as np\n",
    "from sklearn import metrics\n",
    "from sklearn.preprocessing import StandardScaler\n",
    "import matplotlib.pyplot as plt\n",
    "from scipy import stats\n",
    "from sklearn.decomposition import PCA\n",
    "from pandas.api.types import is_numeric_dtype"
   ]
  },
  {
   "cell_type": "code",
   "execution_count": 190,
   "metadata": {},
   "outputs": [],
   "source": [
    "well_name = '1354'\n",
    "mark = ''\n",
    "left_boundary = [datetime.datetime(2019,1,1)]#, datetime.datetime(2018,11,29)]\n",
    "right_boundary = [datetime.datetime(2019,2,28)]#, datetime.datetime(2019,2,28)]\n",
    "path_to_work_dir = f'data/{well_name}/adaptation_/'\n",
    "chess_file_name = f'Скв. {well_name} (01.08.2018-28.02.2019).xls'\n",
    "cs_data_filename = f'data/{well_name}/init_edit/{well_name}_first_edit.csv'\n",
    "create_input_data = True"
   ]
  },
  {
   "cell_type": "code",
   "execution_count": 191,
   "metadata": {},
   "outputs": [],
   "source": [
    "dir_name_with_input_data = 'adapt_input' + '\\\\'\n",
    "input_data_file_name = well_name + '_adapt_input'\n",
    "dir_name_with_calculated_data = 'adaptation_' + '\\\\'\n",
    "calculated_data_file_name = well_name + '_adapt_1'"
   ]
  },
  {
   "cell_type": "code",
   "execution_count": 192,
   "metadata": {},
   "outputs": [],
   "source": [
    "calculated_data = prep.load_calculated_data_from_csv(path_to_work_dir +\n",
    "                                                calculated_data_file_name +  '.csv')"
   ]
  },
  {
   "cell_type": "code",
   "execution_count": 193,
   "metadata": {},
   "outputs": [],
   "source": [
    "calibr_data = calculated_data[['К. калибровки по напору - множитель (Модель)',\n",
    "                               'К. калибровки по мощности - множитель (Модель)']]\n",
    "calibr_data = prep.mark_df_columns(calibr_data, 'Подготовленные')\n",
    "#calibr_data = calibr_data.resample('3h').mean()\n",
    "#calibr_data = calibr_data.interpolate()"
   ]
  },
  {
   "cell_type": "code",
   "execution_count": 194,
   "metadata": {},
   "outputs": [
    {
     "name": "stderr",
     "output_type": "stream",
     "text": [
      "C:\\ProgramData\\Anaconda3\\lib\\site-packages\\ipykernel_launcher.py:23: SettingWithCopyWarning:\n",
      "\n",
      "\n",
      "A value is trying to be set on a copy of a slice from a DataFrame\n",
      "\n",
      "See the caveats in the documentation: http://pandas.pydata.org/pandas-docs/stable/user_guide/indexing.html#returning-a-view-versus-a-copy\n",
      "\n",
      "C:\\ProgramData\\Anaconda3\\lib\\site-packages\\pandas\\core\\frame.py:4102: SettingWithCopyWarning:\n",
      "\n",
      "\n",
      "A value is trying to be set on a copy of a slice from a DataFrame\n",
      "\n",
      "See the caveats in the documentation: http://pandas.pydata.org/pandas-docs/stable/user_guide/indexing.html#returning-a-view-versus-a-copy\n",
      "\n",
      "C:\\ProgramData\\Anaconda3\\lib\\site-packages\\sklearn\\model_selection\\_search.py:814: DeprecationWarning:\n",
      "\n",
      "The default of the `iid` parameter will change from True to False in version 0.22 and will be removed in 0.24. This will change numeric results when test-set sizes are unequal.\n",
      "\n",
      "C:\\ProgramData\\Anaconda3\\lib\\site-packages\\sklearn\\model_selection\\_search.py:814: DeprecationWarning:\n",
      "\n",
      "The default of the `iid` parameter will change from True to False in version 0.22 and will be removed in 0.24. This will change numeric results when test-set sizes are unequal.\n",
      "\n"
     ]
    }
   ],
   "source": [
    "ml_on = True\n",
    "well_name_lol = well_name\n",
    "if ml_on == True:    # Все переменные в этой ячейке, чтобы они ничего не перезаписали, я назову с '_lol' на конце\n",
    "    # Приготовимся к открытию файлика с данными\n",
    "    \n",
    "    current_path_lol = os.getcwd()\n",
    "    path_to_work_dir_lol = current_path_lol + \"\\\\data\\\\\" + well_name_lol +  \"\\\\\"\n",
    "    dir_name_with_adaptation_lol = 'adaptation_' + '\\\\'\n",
    "    input_data_file_name_lol = well_name_lol + '_calc_and_input'\n",
    "    adaptation_data_path_lol = path_to_work_dir_lol + dir_name_with_adaptation_lol + input_data_file_name_lol +  '.csv'\n",
    "    # считали всё\n",
    "    adaptation_all_data_lol = pd.read_csv(adaptation_data_path_lol)\n",
    "    # но всё нам не нужно, возьмём только хорошее\n",
    "    adaptation_data_lol = adaptation_all_data_lol[['ГФ (СУ)', 'Процент обводненности (СУ)',\n",
    "                                           'Давление на приеме насоса (пласт. жидкость) (СУ)', 'Рлин ТМ (Ш)', 'Рбуф (Ш)',\n",
    "                                           'Температура на приеме насоса (пласт. жидкость) (СУ)', 'F вращ ТМ (Ш)', 'Dшт (Ш)',\n",
    "                                           'Активная мощность (СУ)', 'Напряжение на выходе ТМПН (СУ)', 'Коэффициент мощности (СУ)',\n",
    "                                           'К. калибровки по напору - множитель (Модель)',\n",
    "                                           'К. калибровки по мощности - множитель (Модель)'\n",
    "                                          ]\n",
    "                                         ]\n",
    "    # уберем пропуски в существенных данных\n",
    "    adaptation_data_lol.dropna(inplace=True)\n",
    "    # и обновляем индексы\n",
    "    adaptation_data_lol.reset_index(inplace=True)\n",
    "    # берём ответы в отдельную переменную\n",
    "    y_f_lol = adaptation_data_lol['К. калибровки по напору - множитель (Модель)']\n",
    "    y_p_lol = adaptation_data_lol['К. калибровки по мощности - множитель (Модель)']\n",
    "    # а в общих данных удаляем их\n",
    "    adaptation_data_lol.drop(columns=['К. калибровки по напору - множитель (Модель)',\n",
    "                                  'К. калибровки по мощности - множитель (Модель)'],\n",
    "                         inplace=True\n",
    "                        )\n",
    "    # обозначим функцию для разделения данных на тест и обучение \"через одну\"\n",
    "\n",
    "    def get_test_train_drop_2_points(data: pd.DataFrame, target: pd.Series):\n",
    "\n",
    "        out_x_train = data[data.index % 2 == 0]\n",
    "        out_y_train = target[target.index % 2 == 0]\n",
    "        out_x_test = data[data.index % 2 == 1]\n",
    "        out_y_test = target[target.index % 2 == 1]\n",
    "        return out_x_train, out_x_test, out_y_train, out_y_test\n",
    "\n",
    "    # Разделим\n",
    "    x_train_lol, x_test_lol, y_train_p_lol, y_test_p_lol = get_test_train_drop_2_points(adaptation_data_lol, y_p_lol)\n",
    "    _, _, y_train_f_lol, y_test_f_lol = get_test_train_drop_2_points(adaptation_data_lol, y_f_lol)\n",
    "    # отмаштабируем данные\n",
    "    sc_lol = StandardScaler()\n",
    "    sc_lol.fit(x_train_lol)\n",
    "    x_train_sc_lol = sc_lol.transform(x_train_lol)\n",
    "    x_test_sc_lol = sc_lol.transform(x_test_lol)\n",
    "    # у модели. которой сейчас будем пользоваться есть параметр, задающийся из вне\n",
    "    # пробежимся на данных для обучения и подберём его\n",
    "    parameters_lol = {'alpha': np.linspace(1e-7, 30, 1000)}\n",
    "\n",
    "    r_est_p_lol = linear_model.Ridge()\n",
    "    clf_p_lol = GridSearchCV(r_est_p_lol, parameters_lol, cv=5)\n",
    "    _ = clf_p_lol.fit(x_train_sc_lol, y_train_p_lol)\n",
    "    b_reg_p_lol = clf_p_lol.best_estimator_\n",
    "    p_pred_lol = b_reg_p_lol.predict(x_test_sc_lol)\n",
    "\n",
    "    r_est_f_lol = linear_model.Ridge()\n",
    "    clf_f_lol = GridSearchCV(r_est_f_lol, parameters_lol, cv=5)\n",
    "    _ =clf_f_lol.fit(x_train_sc_lol, y_train_f_lol)\n",
    "    b_reg_f_lol = clf_f_lol.best_estimator_\n",
    "    f_pred_lol = b_reg_f_lol.predict(x_test_sc_lol)\n",
    "    # пробежались\n",
    "    # тепрь нужно сшить предсказания и тест\n",
    "\n",
    "    def get_joined_2_points_target(y_test, y_train):\n",
    "        out = [None] * (len(y_test) + len(y_train))\n",
    "        y_test = list(y_test)\n",
    "        y_train = list(y_train)\n",
    "        for i in range(len(out)):\n",
    "            if i % 2 == 0:\n",
    "                out[i] = y_train[int(i/2)]\n",
    "            else:\n",
    "                out[i] = y_test[int((i-1)/2)]\n",
    "        return out\n",
    "    # сшиваем\n",
    "    p_out_lol = get_joined_2_points_target(y_test=p_pred_lol, y_train=y_train_p_lol)\n",
    "    f_out_lol = get_joined_2_points_target(y_test=f_pred_lol, y_train=y_train_f_lol)\n",
    "    # вдруг потерялись точки\n",
    "    if len(calibr_data['К. калибровки по напору - множитель (Модель) (Подготовленные)']) != len(p_out_lol):\n",
    "        print(\"WTFFFFF чтото с размерами, останавливай нафиг всё\")\n",
    "    # ну если не потерялись, то чуть ниже вставим машинно обученные предсказания в модель"
   ]
  },
  {
   "cell_type": "code",
   "execution_count": 195,
   "metadata": {},
   "outputs": [],
   "source": [
    "result = prep.make_gaps_and_interpolate(calibr_data)\n",
    "calibr_data = result.copy()"
   ]
  },
  {
   "cell_type": "code",
   "execution_count": 196,
   "metadata": {},
   "outputs": [],
   "source": [
    "calibr_data['К. калибровки по мощности - множитель (Модель) (Подготовленные)'] = p_out_lol\n",
    "calibr_data['К. калибровки по напору - множитель (Модель) (Подготовленные)'] = f_out_lol"
   ]
  },
  {
   "cell_type": "code",
   "execution_count": 197,
   "metadata": {},
   "outputs": [],
   "source": [
    "time_to_resamle = '3h'\n",
    "created_input_data_type = 1 "
   ]
  },
  {
   "cell_type": "code",
   "execution_count": 198,
   "metadata": {},
   "outputs": [],
   "source": [
    "edited_data_cs = prep.load_and_edit_cs_data(cs_data_filename=cs_data_filename,\n",
    "                                       time_to_resamle=time_to_resamle, \n",
    "                                       created_input_data_type=created_input_data_type)\n",
    "chess_data = prep.load_and_edit_chess_data(f'data/{well_name}/{chess_file_name}',\n",
    "                                           time_to_resamle)"
   ]
  },
  {
   "cell_type": "code",
   "execution_count": 199,
   "metadata": {},
   "outputs": [],
   "source": [
    "path_to_restore_input_data = f'data/{well_name}/restore_input_{mark}'\n",
    "if create_input_data:\n",
    "    try:\n",
    "        os.mkdir(path_to_restore_input_data)\n",
    "    except:\n",
    "        pass\n",
    "created_input_data = edited_data_cs.join(chess_data, how = 'outer')\n",
    "created_input_data = created_input_data.join(calibr_data, how ='inner')\n",
    "created_input_data = prep.cut_df(created_input_data, left_boundary, right_boundary)\n",
    "plot_file_path = f'{path_to_restore_input_data}/{well_name}' + '_restore_input.html'\n",
    "input_data_traces = pw.create_traces_list_for_all_columms(created_input_data, 'lines+markers', use_gl = True)\n",
    "pw.plot_subplots(input_data_traces, plot_file_path, True)\n",
    "created_input_data.to_csv(f'{path_to_restore_input_data}/{well_name}' + '_restore_input.csv')"
   ]
  },
  {
   "cell_type": "markdown",
   "metadata": {},
   "source": [
    "Построение графиков в отчетной форме "
   ]
  },
  {
   "cell_type": "code",
   "execution_count": 200,
   "metadata": {},
   "outputs": [],
   "source": [
    "qliq = {'Объемный дебит жидкости':['Объемный дебит жидкости (СУ)']}\n",
    "calibrs = {'Калибровки по напору и мощности':\n",
    "       ['К. калибровки по напору - множитель (Модель) (Подготовленные)',\n",
    "           'К. калибровки по мощности - множитель (Модель) (Подготовленные)']}\n",
    "gor = {'ГФ (СУ)':['ГФ (СУ)']}\n",
    "wc = {'Процент обводненности (СУ)':['Процент обводненности (СУ)']}\n",
    "pressure_intake = {'Давление на приеме': ['Давление на приеме насоса (пласт. жидкость) (СУ)']}\n",
    "pressure_wh = {'Рлин': ['Рлин ТМ (Ш)']}\n",
    "pressure_bf = {'Рбуф': ['Рбуф (Ш)']}\n",
    "temp_intake = {'Температура на приеме насоса': ['Температура на приеме насоса (пласт. жидкость) (СУ)']}\n",
    "frequencies = {'Частота, Гц':\n",
    "               ['F вращ ТМ (Ш)', 'Выходная частота ПЧ (СУ)']}\n",
    "choke = {'Размер штуцера, мм': ['Dшт (Ш)']}\n",
    "power = {'Активная мощность (СУ)':['Активная мощность (СУ)']}\n",
    "voltage = {'Напряжение на выходе ТМПН (СУ)':['Напряжение на выходе ТМПН (СУ)']}\n",
    "cos = {'Коэффициент мощности (СУ)':['Коэффициент мощности (СУ)']}\n",
    "\n",
    "all_banches = [qliq,calibrs, gor,wc, pressure_intake, pressure_wh, pressure_bf,\n",
    "               temp_intake, frequencies, choke,power, voltage,cos]\n",
    "pw.create_report_html(created_input_data, all_banches,\n",
    "                      f'{path_to_restore_input_data}/{well_name}'+'_restore_input_report.html')"
   ]
  },
  {
   "cell_type": "markdown",
   "metadata": {},
   "source": [
    "После проведения обычного pipe_line придётся опять посмотреть на данные"
   ]
  },
  {
   "cell_type": "code",
   "execution_count": 201,
   "metadata": {
    "scrolled": true
   },
   "outputs": [
    {
     "data": {
      "image/png": "[encoded data removed]",
      "text/plain": [
       "<Figure size 432x288 with 1 Axes>"
      ]
     },
     "metadata": {
      "needs_background": "light"
     },
     "output_type": "display_data"
    },
    {
     "data": {
      "image/png": "[encoded data removed]",
      "text/plain": [
       "<Figure size 432x288 with 1 Axes>"
      ]
     },
     "metadata": {
      "needs_background": "light"
     },
     "output_type": "display_data"
    },
    {
     "name": "stdout",
     "output_type": "stream",
     "text": [
      "well 1354, data loss on measuring time\n",
      "0.0%\n"
     ]
    }
   ],
   "source": [
    "time_err = 55\n",
    "for well_name in [well_name]:\n",
    "    ad_inp = pd.read_csv(f'data/{well_name}/restore_input_{mark}/{well_name}_restore_input.csv')\n",
    "    plt.scatter(ad_inp['Объемный дебит жидкости (СУ)'], ad_inp['Время замера фактическое (СУ)'])\n",
    "    plt.xlabel('Дебит')\n",
    "    plt.ylabel('Время замера')\n",
    "    plt.title('Well '+well_name)\n",
    "    plt.show()\n",
    "    sns.distplot(ad_inp['Время замера фактическое (СУ)'], kde=False, rug=True);\n",
    "    plt.title('Well '+well_name+', time measuring distribution')\n",
    "    plt.show()\n",
    "    s = 0.\n",
    "    for i in ad_inp['Время замера фактическое (СУ)']:\n",
    "        if i < time_err:\n",
    "            s += 1\n",
    "    print(f'well {well_name}, data loss on measuring time\\n{s/len(ad_inp[\"Время замера фактическое (СУ)\"])*100}%')"
   ]
  },
  {
   "cell_type": "markdown",
   "metadata": {},
   "source": [
    "Фильтрация не произошла, произведём её"
   ]
  },
  {
   "cell_type": "code",
   "execution_count": 202,
   "metadata": {},
   "outputs": [],
   "source": [
    "critical_time_well = {'569': 30,\n",
    "                      '601': 30,\n",
    "                      '1354': 30,\n",
    "                      '1567': 30,\n",
    "                      '1602': 30,\n",
    "                      '1628': 10\n",
    "                     }"
   ]
  },
  {
   "cell_type": "code",
   "execution_count": 203,
   "metadata": {},
   "outputs": [
    {
     "name": "stdout",
     "output_type": "stream",
     "text": [
      "Well 1354\n",
      "Critical measuring time=30\n"
     ]
    },
    {
     "data": {
      "image/png": "[encoded data removed]",
      "text/plain": [
       "<Figure size 432x288 with 1 Axes>"
      ]
     },
     "metadata": {
      "needs_background": "light"
     },
     "output_type": "display_data"
    },
    {
     "data": {
      "image/png": "[encoded data removed]",
      "text/plain": [
       "<Figure size 432x288 with 1 Axes>"
      ]
     },
     "metadata": {
      "needs_background": "light"
     },
     "output_type": "display_data"
    }
   ],
   "source": [
    "for well_name in [well_name]:\n",
    "    time_err = critical_time_well[well_name]\n",
    "    print(f'Well {well_name}\\nCritical measuring time={time_err}')\n",
    "    ad_inp = pd.read_csv(f'data/{well_name}/restore_input_{mark}/{well_name}_restore_input.csv')\n",
    "    ad_inp = ad_inp[ad_inp['Время замера фактическое (СУ)'] > time_err]\n",
    "    debt = ad_inp['Объемный дебит жидкости (СУ)']\n",
    "    measuring = ad_inp['Время замера фактическое (СУ)']\n",
    "    plt.scatter(debt, measuring)\n",
    "    plt.xlabel('Дебит')\n",
    "    plt.ylabel('Время замера')\n",
    "    plt.title('Well '+well_name)\n",
    "    plt.show()\n",
    "    sns.distplot(measuring, kde=False, rug=True);\n",
    "    plt.title('Well '+well_name+', time measuring distribution')\n",
    "    plt.show()\n",
    "    ad_inp.to_csv(f'data/{well_name}/restore_input_{mark}/{well_name}_restore_input.csv')"
   ]
  },
  {
   "cell_type": "markdown",
   "metadata": {},
   "source": [
    "Теперь найс"
   ]
  }
 ],
 "metadata": {
  "kernelspec": {
   "display_name": "Python 3",
   "language": "python",
   "name": "python3"
  },
  "language_info": {
   "codemirror_mode": {
    "name": "ipython",
    "version": 3
   },
   "file_extension": ".py",
   "mimetype": "text/x-python",
   "name": "python",
   "nbconvert_exporter": "python",
   "pygments_lexer": "ipython3",
   "version": "3.7.4"
  }
 },
 "nbformat": 4,
 "nbformat_minor": 2
}
