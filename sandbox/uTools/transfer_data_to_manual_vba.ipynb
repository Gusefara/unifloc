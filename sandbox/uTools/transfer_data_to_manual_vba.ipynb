{
 "cells": [
  {
   "cell_type": "code",
   "execution_count": null,
   "metadata": {},
   "outputs": [],
   "source": [
    "import os\n",
    "import sys\n",
    "sys.path.append('../../../')\n",
    "import pandas as pd\n",
    "import datetime\n",
    "from multiprocessing import Pool"
   ]
  },
  {
   "cell_type": "code",
   "execution_count": null,
   "metadata": {},
   "outputs": [],
   "source": [
    "import plot_workflow.plotly_option as pltl_opt\n",
    "import plot_workflow.plotly_workflow as pltl_wf\n",
    "\n",
    "from preproc_p import workflow_cs_data\n",
    "from preproc_p import workflow_chess_data\n",
    "from preproc_p import preproc_tool\n",
    "from preproc_p import workflow_calc_data\n",
    "from preproc_p import workflow_tr_data\n",
    "from preproc_p import filtration\n",
    "from proc_p import processor as proc\n",
    "from proc_p import workflow_input_data as workflow_input_data\n",
    "\n",
    "\n",
    "from ml import calibr_restore as calibr_restore\n",
    "from postproc_p import result_and_metrics as result_and_metrics"
   ]
  },
  {
   "cell_type": "code",
   "execution_count": null,
   "metadata": {},
   "outputs": [],
   "source": [
    "well_name = '1976'\n",
    "chess_file_name = 'Скв. 1976 (01.06.2019-30.11.2019).xls'\n",
    "tr_name = \"ТР Вынгаяхинское Январь 2020.csv\"\n",
    "# TODO убрать флаги\n",
    "read_initial_data = True\n",
    "plot_initial_data = True\n",
    "create_input_data = True\n",
    "auto_open_html = True\n",
    "multiprocessing_on = True #TODO может быть убрать флаги, как лучше?"
   ]
  },
  {
   "cell_type": "code",
   "execution_count": null,
   "metadata": {},
   "outputs": [],
   "source": [
    "static_data_full_path = preproc_tool.find_full_path_by_pattern(os.getcwd(), \"*static_data.xlsx*\")[0]"
   ]
  },
  {
   "cell_type": "code",
   "execution_count": null,
   "metadata": {},
   "outputs": [],
   "source": [
    "current_path = os.getcwd()\n",
    "time_mark = '' #datetime.datetime.today().strftime('%Y_%m_%d_%H_%M_%S')\n",
    "path_to_data = current_path + \"\\\\data\\\\\"\n",
    "path_to_work_dir = current_path + \"\\\\data\\\\\" + well_name +  \"\\\\\"\n",
    "save_dir_name = 'init_edit'\n",
    "path_to_save = path_to_work_dir + save_dir_name + '\\\\'\n",
    "dirnames_list = []\n",
    "for (dirpath, dirnames, filenames) in os.walk(path_to_data):\n",
    "    dirnames_list.extend(dirnames)\n",
    "    break\n",
    "print(dirnames_list)\n",
    "dynamic_data_full_path = path_to_save + well_name + \"_first_edit.csv\""
   ]
  },
  {
   "cell_type": "code",
   "execution_count": null,
   "metadata": {},
   "outputs": [],
   "source": [
    "#left_boundary = [datetime.datetime(2018,8,1), datetime.datetime(2018,11,29)]\n",
    "#right_boundary = [datetime.datetime(2018,11,5), datetime.datetime(2019,2,28)]\n",
    "#left_boundary = [datetime.datetime(2018,8,3), datetime.datetime(2018,11,29),   datetime.datetime(2019,2,19)]\n",
    "#right_boundary = [datetime.datetime(2018,11,6), datetime.datetime(2019,2,4),  datetime.datetime(2019,2,28)]\n",
    "#left_boundary = [datetime.datetime(2019,1,30)]\n",
    "#right_boundary = [datetime.datetime(2019,2,28)]\n",
    "left_boundary = [datetime.datetime(2018,6,27)]\n",
    "right_boundary = [datetime.datetime(2021,12,9)]"
   ]
  },
  {
   "cell_type": "code",
   "execution_count": null,
   "metadata": {},
   "outputs": [],
   "source": [
    "global_names = preproc_tool.GlobalNames()"
   ]
  },
  {
   "cell_type": "code",
   "execution_count": null,
   "metadata": {},
   "outputs": [],
   "source": [
    "file_name_pattern = '*adaptation_//1976_calc_and_input.csv*'"
   ]
  },
  {
   "cell_type": "code",
   "execution_count": null,
   "metadata": {},
   "outputs": [],
   "source": [
    "file_name = preproc_tool.find_full_path_by_pattern(os.getcwd(), file_name_pattern)[0]"
   ]
  },
  {
   "cell_type": "code",
   "execution_count": null,
   "metadata": {},
   "outputs": [],
   "source": [
    "this_file = pd.read_csv(file_name, index_col = 'Время', parse_dates = True)\n",
    "this_file.head()"
   ]
  },
  {
   "cell_type": "code",
   "execution_count": null,
   "metadata": {},
   "outputs": [],
   "source": [
    "needed_data_time = datetime.datetime(2019,6,27,9)"
   ]
  },
  {
   "cell_type": "code",
   "execution_count": null,
   "metadata": {},
   "outputs": [],
   "source": [
    "df_with_needed_data_time = this_file[this_file.index == needed_data_time]\n",
    "row_in_prepared_data =  df_with_needed_data_time.iloc[0]\n",
    "row_in_prepared_data[global_names.c_calibr_head_d + ' (ADAPT)']"
   ]
  },
  {
   "cell_type": "code",
   "execution_count": null,
   "metadata": {},
   "outputs": [],
   "source": [
    "static_data = workflow_tr_data.Static_data()\n",
    "static_data.h_pump_m = -1\n",
    "this_state = workflow_input_data.all_ESP_data(static_data)\n",
    "this_state = workflow_input_data.transfer_data_from_row_to_state(this_state, row_in_prepared_data, False)\n",
    "this_state.__dict__"
   ]
  },
  {
   "cell_type": "code",
   "execution_count": null,
   "metadata": {},
   "outputs": [],
   "source": [
    "dynamic_data_df = pd.DataFrame({'Время': [needed_data_time],\n",
    "                                'p_intake_data_atm': [this_state.p_intake_data_atm],\n",
    "                               'p_buf_data_atm': [this_state.p_buf_data_atm],\n",
    "                               'tsep_c': [this_state.tsep_c],\n",
    "                                \n",
    "                               'cos_phi_data_d': [this_state.cos_phi_data_d],\n",
    "                               'u_motor_data_v': [this_state.u_motor_data_v],\n",
    "                               'active_power_cs_data_kwt': [this_state.active_power_cs_data_kwt],\n",
    "                                'ESP_freq': [this_state.ESP_freq],\n",
    "\n",
    "                               'qliq_m3day': [this_state.qliq_m3day],\n",
    "                               'watercut_perc': [this_state.watercut_perc],\n",
    "                               'rp_m3m3': [this_state.rp_m3m3],\n",
    "                               \n",
    "                                'd_choke_mm': [this_state.d_choke_mm], \n",
    "                                   \n",
    "                               global_names.c_calibr_head_d: [row_in_prepared_data[global_names.c_calibr_head_d + ' (ADAPT)']],\n",
    "                               global_names.c_calibr_power_d: [row_in_prepared_data[global_names.c_calibr_power_d + ' (ADAPT)']]})"
   ]
  },
  {
   "cell_type": "code",
   "execution_count": null,
   "metadata": {},
   "outputs": [],
   "source": [
    "dynamic_data_df = dynamic_data_df.T\n",
    "dynamic_data_df.columns = ['Параметр']\n",
    "dynamic_data_df.to_excel('data_to_manual_vba.xlsx')\n",
    "dynamic_data_df"
   ]
  },
  {
   "cell_type": "code",
   "execution_count": null,
   "metadata": {},
   "outputs": [],
   "source": []
  },
  {
   "cell_type": "code",
   "execution_count": null,
   "metadata": {},
   "outputs": [],
   "source": []
  },
  {
   "cell_type": "code",
   "execution_count": null,
   "metadata": {},
   "outputs": [],
   "source": []
  },
  {
   "cell_type": "code",
   "execution_count": null,
   "metadata": {},
   "outputs": [],
   "source": [
    "import scipy "
   ]
  },
  {
   "cell_type": "code",
   "execution_count": null,
   "metadata": {},
   "outputs": [],
   "source": []
  },
  {
   "cell_type": "code",
   "execution_count": null,
   "metadata": {},
   "outputs": [],
   "source": [
    "preproc_tool.find_full_path_by_pattern(os.getcwd(), \"*second_edit.csv*\")"
   ]
  },
  {
   "cell_type": "code",
   "execution_count": null,
   "metadata": {},
   "outputs": [],
   "source": [
    "file = pd.read_csv(preproc_tool.find_full_path_by_pattern(os.getcwd(), \"*second_edit.csv*\")[0], index_col = 'Время', parse_dates = True)"
   ]
  },
  {
   "cell_type": "code",
   "execution_count": null,
   "metadata": {},
   "outputs": [],
   "source": [
    "file[global_names.active_power_kwt].dropna().plot()"
   ]
  },
  {
   "cell_type": "code",
   "execution_count": null,
   "metadata": {},
   "outputs": [],
   "source": [
    "real = file[global_names.p_intake_atm].dropna()"
   ]
  },
  {
   "cell_type": "code",
   "execution_count": null,
   "metadata": {},
   "outputs": [],
   "source": [
    "median = scipy.signal.medfilt(file[global_names.p_intake_atm].dropna().values, 53)"
   ]
  },
  {
   "cell_type": "code",
   "execution_count": null,
   "metadata": {},
   "outputs": [],
   "source": [
    "df = pd.DataFrame({'active_power_real': real,\n",
    "                  'active_power_median': median})"
   ]
  },
  {
   "cell_type": "code",
   "execution_count": null,
   "metadata": {},
   "outputs": [],
   "source": [
    "df.plot()"
   ]
  },
  {
   "cell_type": "code",
   "execution_count": null,
   "metadata": {},
   "outputs": [],
   "source": []
  }
 ],
 "metadata": {
  "kernelspec": {
   "display_name": "Python 3",
   "language": "python",
   "name": "python3"
  },
  "language_info": {
   "codemirror_mode": {
    "name": "ipython",
    "version": 3
   },
   "file_extension": ".py",
   "mimetype": "text/x-python",
   "name": "python",
   "nbconvert_exporter": "python",
   "pygments_lexer": "ipython3",
   "version": "3.7.6"
  }
 },
 "nbformat": 4,
 "nbformat_minor": 2
}
