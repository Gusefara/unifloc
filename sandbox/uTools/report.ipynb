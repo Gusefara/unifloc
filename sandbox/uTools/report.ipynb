{
 "cells": [
  {
   "cell_type": "markdown",
   "metadata": {},
   "source": [
    "Кобзарь О.С. Хабибуллин Р.А. \n",
    "\n",
    "# Результаты расчета скважин\n",
    "\n",
    "В данном сводном отчете будут самые полезные графики для визуального анализа\n",
    "\n",
    "Входными данными являются файлики расчетов типа *Итоговый результат для 1354 время 2019_10_12_17_33_46.csv*\n",
    "в котором будут либо результаты адаптации, либо результаты восстановления дебитов. DataFrame с пометкой ADAPT - результаты адаптации, DataFrame с пометкой RESTORE или RESTORE2 - результаты восстановления дебитов различными способами. Если метод адатации только один, необходимо активировать флаг *one_restore*\n",
    "\n",
    "В легенде пометки типа *СУ* обозначают то, что данные со станции управления, *Ш* - шахматки, *модель* - входные или выходные данные из расчетной модели скважины.\n",
    "\n"
   ]
  },
  {
   "cell_type": "code",
   "execution_count": null,
   "metadata": {},
   "outputs": [],
   "source": [
    "import pandas as pd\n",
    "import sys\n",
    "sys.path.append(r\"C:\\Users\\olegk\\Documents\")\n",
    "from unifloc.uniflocpy.uTools import plotly_workflow as pw\n",
    "import datetime\n",
    "from plotly.offline import download_plotlyjs, plot, iplot, init_notebook_mode\n",
    "import plotly.figure_factory as ff\n",
    "import plotly.graph_objs as go\n",
    "from plotly.subplots import make_subplots\n",
    "from datetime import datetime\n",
    "init_notebook_mode(connected=True)"
   ]
  },
  {
   "cell_type": "code",
   "execution_count": null,
   "metadata": {},
   "outputs": [],
   "source": [
    "# TODO подумать, как построить графики для 3 варинтов расчета и больше\n",
    "# TODO еще для прогноза отдельно добавить\n",
    "# корреляционные карты нужно сюда?"
   ]
  },
  {
   "cell_type": "markdown",
   "metadata": {},
   "source": [
    "Нужно указать какая скважина, чтобы не запутаться"
   ]
  },
  {
   "cell_type": "code",
   "execution_count": null,
   "metadata": {},
   "outputs": [],
   "source": [
    "well_name = '1354'\n",
    "time_mark = datetime.today().strftime('%Y_%m_%d_%H_%M_%S')\n",
    "one_restore = True\n",
    "q_esp_nom_m3day = 320\n",
    "head_esp_nom_m = 1500\n",
    "\n",
    "adaptation_data = 'Итоговый результат для 1354 время 2019_10_12_22_49_42.csv'\n",
    "restore_data = 'Итоговый результат для 1354 время 2019_10_12_17_33_46.csv'\n",
    "#restore_data_2 = 'Итоговый результат для 507 время 2019_10_17_23_17_14.csv'"
   ]
  },
  {
   "cell_type": "markdown",
   "metadata": {},
   "source": [
    "# Конкретные моменты для данной скважины 1354"
   ]
  },
  {
   "cell_type": "code",
   "execution_count": null,
   "metadata": {},
   "outputs": [],
   "source": [
    "def prepare_columns_in_file(df, mark):\n",
    "    df.index = pd.to_datetime(df['Unnamed: 0'])\n",
    "    del df['Unnamed: 0']\n",
    "    for i in df.columns:\n",
    "        df = df.rename(columns={i: i + ' (' + mark + ')' })\n",
    "    return df\n",
    "\n",
    "def plot_func(df, plot_title_str, plot_in_notebook = True):\n",
    "    \"\"\"\n",
    "    Итоговая функция для построения графиков\n",
    "\n",
    "    :param data: созданный список из trace\n",
    "    :param plot_title_str: название графика\n",
    "    :param filename_str: названия html файлика\n",
    "    :return: None\n",
    "    \"\"\"\n",
    "    layout = dict(title=plot_title_str, legend_orientation=\"h\")\n",
    "    data = pw.create_traces_list_for_all_columms(df, chosen_mode='lines+markers', low_memory = False)\n",
    "    fig = dict(data=data, layout=layout)\n",
    "    if plot_in_notebook:\n",
    "        iplot(fig)\n",
    "    else:\n",
    "        plot(fig)"
   ]
  },
  {
   "cell_type": "markdown",
   "metadata": {},
   "source": [
    "Сведем все данные по адаптации и восстановлению в единый DataFrame"
   ]
  },
  {
   "cell_type": "code",
   "execution_count": null,
   "metadata": {},
   "outputs": [],
   "source": [
    "\n",
    "adapt_df = pd.read_csv(adaptation_data)\n",
    "adapt_df = prepare_columns_in_file(adapt_df, 'ADAPT')\n",
    "restore_df = pd.read_csv(restore_data)\n",
    "restore_df = prepare_columns_in_file(restore_df, 'RESTORE')\n",
    "overall_data = restore_df.join(adapt_df, how = 'outer')\n",
    "\n",
    "if one_restore == False:\n",
    "    \n",
    "    restore_df_2 = pd.read_csv(restore_data_2)\n",
    "    restore_df_2 = prepare_columns_in_file(restore_df_2,  'RESTORE2')\n",
    "    overall_data = overall_data.join(restore_df_2, how = 'outer')"
   ]
  },
  {
   "cell_type": "code",
   "execution_count": null,
   "metadata": {},
   "outputs": [],
   "source": [
    "overall_data['Активная мощность (СУ) (ADAPT)'] = overall_data['Активная мощность (СУ) (ADAPT)'] * 1000\n",
    "overall_data['Загрузка двигателя (СУ) (ADAPT)'] = overall_data['Загрузка двигателя (СУ) (ADAPT)'] / 100"
   ]
  },
  {
   "cell_type": "code",
   "execution_count": null,
   "metadata": {},
   "outputs": [],
   "source": [
    "#for i in (overall_data.columns):\n",
    "#    print(i)"
   ]
  },
  {
   "cell_type": "code",
   "execution_count": null,
   "metadata": {},
   "outputs": [],
   "source": [
    "#import description_generated.python_api as python_api\n",
    "#import os\n",
    "#path_to_addin = os.getcwd()\n",
    "#path_to_addin = path_to_addin.replace('stuff_to_merge', 'UniflocVBA_7.xlam')\n",
    "#UniflocVBA = python_api.API(path_to_addin)\n",
    "#h_m = []\n",
    "#efficency_perc = []\n",
    "#power_wt = []\n",
    "#q_m3day = list(range(1, int(q_esp_nom_m3day * 1.8),10))\n",
    "#pump_id = UniflocVBA.calc_ESP_id_by_rate(q_esp_nom_m3day)\n",
    "#num_stages = int(head_esp_nom_m / UniflocVBA.calc_ESP_head_m(q_esp_nom_m3day, pump_id = pump_id))\n",
    "#for i in q_m3day:\n",
    "#    h_m.append(UniflocVBA.calc_ESP_head_m(i,num_stages = num_stages,  pump_id = pump_id) / 100)\n",
    "#    power_wt.append(UniflocVBA.calc_ESP_power_W(i, num_stages = num_stages, pump_id = pump_id) / 1000)\n",
    "#    efficency_perc.append(UniflocVBA.calc_ESP_eff_fr(i, num_stages = num_stages, pump_id = pump_id) * 100)\n",
    "#esp_curve = pd.DataFrame({'Напор, м/100': h_m, 'Мощность, кВт': power_wt, 'КПД, %.': efficency_perc})\n",
    "#esp_curve.index = q_m3day\n",
    "#plot_func(esp_curve, 'Характеристика ЭЦН')"
   ]
  },
  {
   "cell_type": "code",
   "execution_count": null,
   "metadata": {},
   "outputs": [],
   "source": [
    "overall_data = overall_data[overall_data['Коэффициент калибровки по напору - множитель (Модель, вход) (ADAPT)'] != overall_data['Коэффициент калибровки по напору - множитель (Модель, вход) (RESTORE)']]"
   ]
  },
  {
   "cell_type": "code",
   "execution_count": null,
   "metadata": {},
   "outputs": [],
   "source": [
    "overall_data['Относительная ошибка расчетов, %'] = ((overall_data['Q ж, м3/сут (Модель, вход) (ADAPT)'] - \\\n",
    "overall_data['Q ж, м3/сут (Модель, вход) (RESTORE)']) / overall_data['Q ж, м3/сут (Модель, вход) (ADAPT)']) * 100\n",
    "\n",
    "only_error = overall_data[overall_data['Коэффициент калибровки по напору - множитель (Модель, вход) (ADAPT)'] != overall_data['Коэффициент калибровки по напору - множитель (Модель, вход) (RESTORE)']]\n",
    "only_error = only_error['Относительная ошибка расчетов, %']\n",
    "\n",
    "only_error = only_error.dropna()\n",
    "only_error = only_error.abs()\n",
    "\n",
    "only_error.mean()"
   ]
  },
  {
   "cell_type": "code",
   "execution_count": null,
   "metadata": {},
   "outputs": [],
   "source": [
    "check_r2 = overall_data[['Q ж, м3/сут (Модель, вход) (ADAPT)','Q ж, м3/сут (Модель, вход) (RESTORE)']]\n",
    "\n",
    "check_r2 = check_r2[check_r2['Q ж, м3/сут (Модель, вход) (ADAPT)'] != check_r2['Q ж, м3/сут (Модель, вход) (RESTORE)']]\n",
    "\n",
    "check_r2 = check_r2.dropna()\n",
    "check_r2.head()"
   ]
  },
  {
   "cell_type": "code",
   "execution_count": null,
   "metadata": {},
   "outputs": [],
   "source": [
    "from sklearn.metrics import r2_score\n",
    "\n",
    "coefficient_of_dermination = r2_score(check_r2['Q ж, м3/сут (Модель, вход) (ADAPT)'], check_r2['Q ж, м3/сут (Модель, вход) (RESTORE)'])\n",
    "\n",
    "coefficient_of_dermination"
   ]
  },
  {
   "cell_type": "code",
   "execution_count": null,
   "metadata": {},
   "outputs": [],
   "source": [
    "liquid_rates = ['Qж ТМ (Ш) (ADAPT)','Объемный дебит жидкости (СУ) (ADAPT)', 'Q ж, м3/сут (Модель, вход) (ADAPT)',\n",
    "                  'Q ж, м3/сут (Модель, вход) (RESTORE)']\n",
    "\n",
    "calibrs = ['Коэффициент калибровки по напору - множитель (Модель, вход) (ADAPT)',\n",
    "               'Коэффициент калибровки по мощности - множитель (Модель, вход) (ADAPT)', \n",
    "                  'Коэффициент калибровки по напору - множитель (Модель, вход) (RESTORE)',\n",
    "               'Коэффициент калибровки по мощности - множитель (Модель, вход) (RESTORE)']\n",
    "\n",
    "gor_wc = ['ГФ (модель, вход) (ADAPT)',\n",
    "               'Обв, % (Модель, вход) (ADAPT)',\n",
    "                  'ГФ (модель, вход) (RESTORE)',\n",
    "               'Обв, % (Модель, вход) (RESTORE)']\n",
    "\n",
    "temperatures = ['T устья, С (Модель, выход) (ADAPT)',\n",
    "           'T прием, С (Модель, вход) (ADAPT)',\n",
    "              'T устья, С (Модель, выход) (RESTORE)',\n",
    "           'T прием, С (Модель, вход) (RESTORE)']\n",
    "\n",
    "pressures = ['Рбуф (Ш) (ADAPT)',\n",
    "            'P буф., атм (Модель, выход, адапт. Ш) (ADAPT)',\n",
    "              'P прием ЭЦН, атм (Модель, вход) (ADAPT)',\n",
    "              'P лин., атм (Модель, вход) (ADAPT)','Рлин ТМ (Ш) (ADAPT)',     \n",
    "                       'P буф., атм (Модель, выход, адапт. Ш) (RESTORE)',\n",
    "                   'P лин., атм (Модель, вход) (RESTORE)']\n",
    "\n",
    "frequencies = ['F вращ ТМ (Ш) (ADAPT)',\n",
    "               'Выходная частота ПЧ (СУ) (ADAPT)',\n",
    "               'F тока, ГЦ (Модель, вход) (ADAPT)',\n",
    "                       'F тока, ГЦ (Модель, вход) (RESTORE)']\n",
    "\n",
    "beam_sizes = ['Dшт (Ш) (ADAPT)', 'Dшт (Ш) (RESTORE)']\n",
    "\n",
    "powers = ['Активная мощность (СУ) (ADAPT)',\n",
    "               'Акт. мощность на СУ, (Модель, выход, адапт. СУ) (ADAPT)',\n",
    "                       'Акт. мощность на СУ, (Модель, выход, адапт. СУ) (RESTORE)']\n",
    "\n",
    "currents= ['I, А (Модель, выход) (ADAPT)',\n",
    "               'Ток фазы А (ADAPT)',\n",
    "               'Ток фазы В (ADAPT)',\n",
    "               'Ток фазы С (ADAPT)',\n",
    "           'I, А (Модель, выход) (RESTORE)']\n",
    "\n",
    "loads = ['Загрузка двигателя (СУ) (ADAPT)',\n",
    "                           'Загрузка двигателя, (Модель, выход) (RESTORE)']\n",
    "\n",
    "efficiency = ['КПД ЭЦН, д.ед. (Модель, выход) (ADAPT)',\n",
    "                       'КПД ЭЦН, д.ед. (Модель, выход) (RESTORE)']\n",
    "\n",
    "metrics = ['Значение функции ошибки (ADAPT)',\n",
    "                  'Значение функции ошибки (RESTORE)',\n",
    "          'Относительная ошибка расчетов, %']\n",
    "\n",
    "dif_pressure = ['Перепад давления в ЭЦН, атм (ADAPT)',\n",
    "                  'Перепад давления в ЭЦН, атм (RESTORE)']\n"
   ]
  },
  {
   "cell_type": "code",
   "execution_count": null,
   "metadata": {},
   "outputs": [],
   "source": [
    "all_name_banches = [liquid_rates, \n",
    "                    calibrs, \n",
    "                    metrics, \n",
    "                    gor_wc, \n",
    "                    temperatures,\n",
    "                    pressures, \n",
    "                    frequencies, \n",
    "                    beam_sizes,\n",
    "                    powers, \n",
    "                    currents,\n",
    "                    loads,\n",
    "                    efficiency, \n",
    "                    dif_pressure]\n",
    "subplot_titles = ['Дебиты', \n",
    "                  'Калибровки по напору и мощности', \n",
    "                  'Метрики расчета',\n",
    "                  'ГФ, м3/м3 и Обводненность, %', \n",
    "                  'Температура, С', \n",
    "                  'Давления, атм', \n",
    "                  'Частота, Гц',\n",
    "                  'Размер штуцера, мм', \n",
    "                  'Активная мощность, кВт', \n",
    "                  'Токи, А', \n",
    "                  'Загрузка, д.ед.', \n",
    "                  'КПД ЭЦН, д.ед.', \n",
    "                  'Перепад давления в ЭЦН, атм']"
   ]
  },
  {
   "cell_type": "code",
   "execution_count": null,
   "metadata": {},
   "outputs": [],
   "source": [
    "def create_report_html(df, all_name_banches, subplot_titles, filename):\n",
    "    subplot_amount = len(all_name_banches)\n",
    "    fig = make_subplots(\n",
    "    rows=subplot_amount, cols=1, shared_xaxes=True, \n",
    "    vertical_spacing= 0.01, \n",
    "    subplot_titles = subplot_titles\n",
    "\n",
    "    )\n",
    "    for i in range(subplot_amount):\n",
    "        this_df = df[all_name_banches[i]]\n",
    "        this_banch_trace = pw.create_traces_list_for_all_columms(this_df, chosen_mode='lines+markers')\n",
    "        for j in this_banch_trace:\n",
    "            fig.add_trace(j, row=i + 1, col=1)\n",
    "        \n",
    "    fig.layout.hovermode = 'x'\n",
    "    fig.layout.height = 450 * subplot_amount\n",
    "    plot(fig, filename  = filename + ' in one.html')"
   ]
  },
  {
   "cell_type": "code",
   "execution_count": null,
   "metadata": {},
   "outputs": [],
   "source": [
    "create_report_html(overall_data, all_name_banches, subplot_titles, well_name)"
   ]
  },
  {
   "cell_type": "code",
   "execution_count": null,
   "metadata": {},
   "outputs": [],
   "source": [
    "if one_restore == False:\n",
    "    df = overall_data[['Qж ТМ (Ш) (ADAPT)','Объемный дебит жидкости (СУ) (ADAPT)', 'Q ж, м3/сут (Модель, вход) (ADAPT)',\n",
    "                  'Q ж, м3/сут (Модель, вход) (RESTORE)',\n",
    "                  'Q ж, м3/сут (Модель, вход) (RESTORE2)']]\n",
    "else:\n",
    "    df = overall_data[['Qж ТМ (Ш) (ADAPT)','Объемный дебит жидкости (СУ) (ADAPT)', 'Q ж, м3/сут (Модель, вход) (ADAPT)',\n",
    "                  'Q ж, м3/сут (Модель, вход) (RESTORE)']]\n",
    "plot_func(df, 'Дебиты')"
   ]
  },
  {
   "cell_type": "code",
   "execution_count": null,
   "metadata": {},
   "outputs": [],
   "source": [
    "if one_restore == False:\n",
    "    df = overall_data[['Коэффициент калибровки по напору - множитель (Модель, вход) (ADAPT)',\n",
    "                   'Коэффициент калибровки по мощности - множитель (Модель, вход) (ADAPT)', \n",
    "\n",
    "                      'Коэффициент калибровки по напору - множитель (Модель, вход) (RESTORE)',\n",
    "                   'Коэффициент калибровки по мощности - множитель (Модель, вход) (RESTORE)', \n",
    "\n",
    "                       'Коэффициент калибровки по напору - множитель (Модель, вход) (RESTORE2)',\n",
    "                   'Коэффициент калибровки по мощности - множитель (Модель, вход) (RESTORE2)'\n",
    "                      ]]\n",
    "else:\n",
    "    df = overall_data[['Коэффициент калибровки по напору - множитель (Модель, вход) (ADAPT)',\n",
    "               'Коэффициент калибровки по мощности - множитель (Модель, вход) (ADAPT)', \n",
    "\n",
    "                  'Коэффициент калибровки по напору - множитель (Модель, вход) (RESTORE)',\n",
    "               'Коэффициент калибровки по мощности - множитель (Модель, вход) (RESTORE)']]\n",
    "plot_func(df, 'Калибровки')"
   ]
  },
  {
   "cell_type": "code",
   "execution_count": null,
   "metadata": {},
   "outputs": [],
   "source": [
    "if one_restore == False:\n",
    "    df = overall_data[['ГФ (модель, вход) (ADAPT)',\n",
    "                   'Обв, % (Модель, вход) (ADAPT)',\n",
    "                      'ГФ (модель, вход) (RESTORE)',\n",
    "                   'Обв, % (Модель, вход) (RESTORE)',\n",
    "                      'ГФ (модель, вход) (RESTORE2)',\n",
    "                   'Обв, % (Модель, вход) (RESTORE2)']]\n",
    "else:\n",
    "    df = overall_data[['ГФ (модель, вход) (ADAPT)',\n",
    "               'Обв, % (Модель, вход) (ADAPT)',\n",
    "                  'ГФ (модель, вход) (RESTORE)',\n",
    "               'Обв, % (Модель, вход) (RESTORE)']]\n",
    "plot_func(df, 'ГФ и обводненность')"
   ]
  },
  {
   "cell_type": "code",
   "execution_count": null,
   "metadata": {},
   "outputs": [],
   "source": [
    "if one_restore == False:\n",
    "    df = overall_data[['T устья, С (Модель, выход) (ADAPT)',\n",
    "               'T прием, С (Модель, вход) (ADAPT)',\n",
    "                       'T устья, С (Модель, выход) (RESTORE)',\n",
    "                       'T прием, С (Модель, вход) (RESTORE)',\n",
    "                  'T устья, С (Модель, выход) (RESTORE2)',\n",
    "               'T прием, С (Модель, вход) (RESTORE2)']]\n",
    "else:\n",
    "    df = overall_data[['T устья, С (Модель, выход) (ADAPT)',\n",
    "           'T прием, С (Модель, вход) (ADAPT)',\n",
    "              'T устья, С (Модель, выход) (RESTORE)',\n",
    "           'T прием, С (Модель, вход) (RESTORE)']]\n",
    "plot_func(df, 'Температура')"
   ]
  },
  {
   "cell_type": "code",
   "execution_count": null,
   "metadata": {},
   "outputs": [],
   "source": [
    "if one_restore == False:\n",
    "    df = overall_data[['Рбуф (Ш) (ADAPT)',\n",
    "                       'P буф., атм (Модель, выход, адапт. Ш) (ADAPT)',\n",
    "                   'P прием ЭЦН, атм (Модель, вход) (ADAPT)',\n",
    "                   'P лин., атм (Модель, вход) (ADAPT)','Рлин ТМ (Ш) (ADAPT)',\n",
    "                    \n",
    "                       'P буф., атм (Модель, выход, адапт. Ш) (RESTORE)',\n",
    "                   'P лин., атм (Модель, вход) (RESTORE)',\n",
    "                       \n",
    "                       'P буф., атм (Модель, выход, адапт. Ш) (RESTORE2)',\n",
    "                   'P лин., атм (Модель, вход) (RESTORE2)'\n",
    "                  ]]\n",
    "    \n",
    "else:\n",
    "        df = overall_data[['Рбуф (Ш) (ADAPT)',\n",
    "                           'P буф., атм (Модель, выход, адапт. Ш) (ADAPT)',\n",
    "                   'P прием ЭЦН, атм (Модель, вход) (ADAPT)',\n",
    "                   'P лин., атм (Модель, вход) (ADAPT)','Рлин ТМ (Ш) (ADAPT)',\n",
    "                    \n",
    "                       'P буф., атм (Модель, выход, адапт. Ш) (RESTORE)',\n",
    "                   'P лин., атм (Модель, вход) (RESTORE)'\n",
    "                  ]]\n",
    "plot_func(df, 'Давления')"
   ]
  },
  {
   "cell_type": "code",
   "execution_count": null,
   "metadata": {},
   "outputs": [],
   "source": [
    "if one_restore == False:\n",
    "    df = overall_data[['F вращ ТМ (Ш) (ADAPT)',\n",
    "               'Выходная частота ПЧ (СУ) (ADAPT)',\n",
    "               'F тока, ГЦ (Модель, вход) (ADAPT)',\n",
    "                   \n",
    "                       'F тока, ГЦ (Модель, вход) (RESTORE)',\n",
    "                   'F тока, ГЦ (Модель, вход) (RESTORE2)',\n",
    "              ]]\n",
    "else:\n",
    "        df = overall_data[['F вращ ТМ (Ш) (ADAPT)',\n",
    "               'Выходная частота ПЧ (СУ) (ADAPT)',\n",
    "               'F тока, ГЦ (Модель, вход) (ADAPT)',\n",
    "                   \n",
    "                       'F тока, ГЦ (Модель, вход) (RESTORE)'\n",
    "              ]]\n",
    "plot_func(df, 'Частота тока')"
   ]
  },
  {
   "cell_type": "code",
   "execution_count": null,
   "metadata": {},
   "outputs": [],
   "source": [
    "if one_restore == False:\n",
    "\n",
    "    df = overall_data[['Dшт (Ш) (ADAPT)',\n",
    "                       'Dшт (Ш) (RESTORE)',\n",
    "                       'Dшт (Ш) (RESTORE2)'\n",
    "                  ]]\n",
    "else:\n",
    "        df = overall_data[['Dшт (Ш) (ADAPT)',\n",
    "                       'Dшт (Ш) (RESTORE)'\n",
    "                  ]]\n",
    "plot_func(df, 'Размер штуцера')"
   ]
  },
  {
   "cell_type": "code",
   "execution_count": null,
   "metadata": {},
   "outputs": [],
   "source": [
    "if one_restore == False:\n",
    "    df = overall_data[['Активная мощность (СУ) (ADAPT)',\n",
    "               'Акт. мощность на СУ, (Модель, выход, адапт. СУ) (ADAPT)',\n",
    "                       'Акт. мощность на СУ, (Модель, выход, адапт. СУ) (RESTORE)',\n",
    "                   'Акт. мощность на СУ, (Модель, выход, адапт. СУ) (RESTORE2)'\n",
    "              ]]\n",
    "else:\n",
    "        df = overall_data[['Активная мощность (СУ) (ADAPT)',\n",
    "               'Акт. мощность на СУ, (Модель, выход, адапт. СУ) (ADAPT)',\n",
    "                       'Акт. мощность на СУ, (Модель, выход, адапт. СУ) (RESTORE)'\n",
    "                          ]]\n",
    "#df['Активная мощность (СУ) (ADAPT)'] = df['Активная мощность (СУ) (ADAPT)'] * 1000\n",
    "plot_func(df, 'Активная мощность')"
   ]
  },
  {
   "cell_type": "code",
   "execution_count": null,
   "metadata": {},
   "outputs": [],
   "source": [
    "if one_restore == False:\n",
    "    df = overall_data[['I, А (Модель, выход) (ADAPT)',\n",
    "               'Ток фазы А (ADAPT)',\n",
    "               'Ток фазы В (ADAPT)',\n",
    "               'Ток фазы С (ADAPT)',\n",
    "                   \n",
    "                       'I, А (Модель, выход) (RESTORE)',\n",
    "                       \n",
    "                       'I, А (Модель, выход) (RESTORE2)'\n",
    "              ]]\n",
    "else:\n",
    "        df = overall_data[['I, А (Модель, выход) (ADAPT)',\n",
    "               'Ток фазы А (ADAPT)',\n",
    "               'Ток фазы В (ADAPT)',\n",
    "               'Ток фазы С (ADAPT)',\n",
    "                                      'I, А (Модель, выход) (RESTORE)'\n",
    "              ]]\n",
    "plot_func(df, 'Токи')"
   ]
  },
  {
   "cell_type": "code",
   "execution_count": null,
   "metadata": {},
   "outputs": [],
   "source": [
    "if one_restore == False:\n",
    "    df = overall_data[['Загрузка двигателя (СУ) (ADAPT)',\n",
    "               'Загрузка двигателя, (Модель, выход) (ADAPT)',\n",
    "                       'Загрузка двигателя, (Модель, выход) (RESTORE)',\n",
    "                       'Загрузка двигателя, (Модель, выход) (RESTORE2)'\n",
    "              ]]\n",
    "else:\n",
    "        df = overall_data[['Загрузка двигателя (СУ) (ADAPT)',\n",
    "                           'Загрузка двигателя, (Модель, выход) (RESTORE)'\n",
    "              ]]\n",
    "#df['Загрузка двигателя (СУ) (ADAPT)'] = df['Загрузка двигателя (СУ) (ADAPT)'] / 100\n",
    "plot_func(df, 'Загрузка двигателя')"
   ]
  },
  {
   "cell_type": "code",
   "execution_count": null,
   "metadata": {},
   "outputs": [],
   "source": [
    "if one_restore == False:\n",
    "    df = overall_data[['КПД ЭЦН, д.ед. (Модель, выход) (ADAPT)',\n",
    "                       'КПД ЭЦН, д.ед. (Модель, выход) (RESTORE)',\n",
    "                  'КПД ЭЦН, д.ед. (Модель, выход) (RESTORE2)']]\n",
    "else:\n",
    "        df = overall_data[['КПД ЭЦН, д.ед. (Модель, выход) (ADAPT)',\n",
    "                       'КПД ЭЦН, д.ед. (Модель, выход) (RESTORE)']]\n",
    "    \n",
    "plot_func(df, 'КПД ЭЦН')"
   ]
  },
  {
   "cell_type": "code",
   "execution_count": null,
   "metadata": {},
   "outputs": [],
   "source": [
    "if one_restore == False:\n",
    "    df = overall_data[['Значение функции ошибки (ADAPT)',\n",
    "                  'Значение функции ошибки (RESTORE)',\n",
    "                  'Значение функции ошибки (RESTORE2)']]\n",
    "else:\n",
    "        df = overall_data[['Значение функции ошибки (ADAPT)',\n",
    "                  'Значение функции ошибки (RESTORE)']]\n",
    "    \n",
    "plot_func(df, 'Значение функции ошибки (ADAPT)')"
   ]
  },
  {
   "cell_type": "code",
   "execution_count": null,
   "metadata": {},
   "outputs": [],
   "source": [
    "if one_restore == False:\n",
    "    df = overall_data[['Перепад давления в ЭЦН, атм (ADAPT)',\n",
    "                  'Перепад давления в ЭЦН, атм (RESTORE)',\n",
    "                  'Перепад давления в ЭЦН, атм (RESTORE2)']]\n",
    "else:\n",
    "        df = overall_data[['Перепад давления в ЭЦН, атм (ADAPT)',\n",
    "                  'Перепад давления в ЭЦН, атм (RESTORE)'\n",
    "                          ]]\n",
    "    \n",
    "plot_func(df, 'Перепад давления в ЭЦН, атм')"
   ]
  },
  {
   "cell_type": "code",
   "execution_count": null,
   "metadata": {},
   "outputs": [],
   "source": []
  },
  {
   "cell_type": "code",
   "execution_count": null,
   "metadata": {},
   "outputs": [],
   "source": []
  },
  {
   "cell_type": "code",
   "execution_count": null,
   "metadata": {},
   "outputs": [],
   "source": []
  }
 ],
 "metadata": {
  "kernelspec": {
   "display_name": "Python 3",
   "language": "python",
   "name": "python3"
  },
  "language_info": {
   "codemirror_mode": {
    "name": "ipython",
    "version": 3
   },
   "file_extension": ".py",
   "mimetype": "text/x-python",
   "name": "python",
   "nbconvert_exporter": "python",
   "pygments_lexer": "ipython3",
   "version": "3.7.3"
  }
 },
 "nbformat": 4,
 "nbformat_minor": 2
}
