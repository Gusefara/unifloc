{
 "cells": [
  {
   "cell_type": "code",
   "execution_count": null,
   "metadata": {},
   "outputs": [],
   "source": [
    "import sys\n",
    "sys.path.append('../')\n",
    "import pandas as pd\n",
    "pd.set_option(\"display.precision\", 5)"
   ]
  },
  {
   "cell_type": "code",
   "execution_count": null,
   "metadata": {},
   "outputs": [],
   "source": [
    "import plotly_workflow as pw"
   ]
  },
  {
   "cell_type": "code",
   "execution_count": null,
   "metadata": {},
   "outputs": [],
   "source": [
    "loaded_file = pd.read_csv('small_part_to_analyze.csv', index_col = '2')\n",
    "loaded_file.index = pd.to_datetime(loaded_file.index)\n",
    "#loaded_file = loaded_file[loaded_file[\" Активная мощность\"] > 0]\n",
    "loaded_file.head()"
   ]
  },
  {
   "cell_type": "code",
   "execution_count": null,
   "metadata": {},
   "outputs": [],
   "source": [
    "file_name = 'All_plots_in_small_part.html'\n",
    "\n",
    "loaded_file.info()"
   ]
  },
  {
   "cell_type": "code",
   "execution_count": null,
   "metadata": {},
   "outputs": [],
   "source": [
    "needed_param_numbers = [0,11,14,19,22,24,25,30,33,34,35,36,38,40,51, 52,53,54,55,56]\n",
    "needed_param_list = []\n",
    "for i in needed_param_numbers:\n",
    "    needed_param_list.append(loaded_file.columns[i])\n",
    "for i, name in enumerate(needed_param_list):\n",
    "    print(str(i) + '  -  ' + name)\n",
    "for i in loaded_file.columns:\n",
    "    if i not in needed_param_list:\n",
    "        del loaded_file[i]\n",
    "loaded_file.info()"
   ]
  },
  {
   "cell_type": "code",
   "execution_count": null,
   "metadata": {},
   "outputs": [],
   "source": [
    "traces_data = pw.create_traces_list_for_all_columms(loaded_file, 'markers')\n",
    "pw.plot_func(traces_data, '1354', file_name)"
   ]
  },
  {
   "cell_type": "code",
   "execution_count": null,
   "metadata": {},
   "outputs": [],
   "source": []
  },
  {
   "cell_type": "code",
   "execution_count": null,
   "metadata": {},
   "outputs": [],
   "source": []
  },
  {
   "cell_type": "code",
   "execution_count": null,
   "metadata": {},
   "outputs": [],
   "source": [
    "big_data = pd.read_csv(\"edited_kobzar2.csv\", low_memory = False)\n",
    "big_data.index = pd.to_datetime(big_data[\"2\"])\n",
    "big_data.head()"
   ]
  },
  {
   "cell_type": "code",
   "execution_count": null,
   "metadata": {},
   "outputs": [],
   "source": [
    "big_data = loaded_file.copy()\n",
    "for i in needed_param_list:\n",
    "    \n",
    "    one_parameter_name = i\n",
    "    one_parameter_data = big_data[one_parameter_name]\n",
    "    one_parameter_data = one_parameter_data.dropna()\n",
    "    one_parameter_data = one_parameter_data.resample('1h').mean()\n",
    "    one_parameter_data_3h = one_parameter_data.resample('3h').mean()\n",
    "    one_parameter_data_1d = one_parameter_data.resample('1d').mean()\n",
    "    if True:\n",
    "        one_parameter_data = one_parameter_data.interpolate()\n",
    "        one_parameter_data_3h = one_parameter_data_3h.interpolate()\n",
    "        one_parameter_data_1d = one_parameter_data_1d.interpolate()\n",
    "    one_parameter_traces_data_1h = pw.create_plotly_trace(one_parameter_data.index,\n",
    "                                                       one_parameter_data.values, \n",
    "                                                       one_parameter_name + ' 1h',\n",
    "                                                      'lines')\n",
    "    one_parameter_traces_data_3h = pw.create_plotly_trace(one_parameter_data_3h.index,\n",
    "                                                       one_parameter_data_3h.values, \n",
    "                                                       one_parameter_name + ' 3h',\n",
    "                                                      'lines')\n",
    "    one_parameter_traces_data_1d = pw.create_plotly_trace(one_parameter_data_1d.index,\n",
    "                                                       one_parameter_data_1d.values, \n",
    "                                                       one_parameter_name + ' 1d', \n",
    "                                                      'lines')\n",
    "\n",
    "    one_parameter_traces_data = [one_parameter_traces_data_1h, one_parameter_traces_data_3h, one_parameter_traces_data_1d]\n",
    "    one_parameter_file_name = '1354 -' + one_parameter_name + '.html'\n",
    "    pw.plot_func(one_parameter_traces_data, '1354', one_parameter_file_name)"
   ]
  },
  {
   "cell_type": "code",
   "execution_count": null,
   "metadata": {},
   "outputs": [],
   "source": [
    "one_parameter_data = big_data[' Массовый дебит жидкости']"
   ]
  },
  {
   "cell_type": "code",
   "execution_count": null,
   "metadata": {},
   "outputs": [],
   "source": [
    "one_parameter_data"
   ]
  },
  {
   "cell_type": "code",
   "execution_count": null,
   "metadata": {},
   "outputs": [],
   "source": []
  }
 ],
 "metadata": {
  "kernelspec": {
   "display_name": "Python 3",
   "language": "python",
   "name": "python3"
  },
  "language_info": {
   "codemirror_mode": {
    "name": "ipython",
    "version": 3
   },
   "file_extension": ".py",
   "mimetype": "text/x-python",
   "name": "python",
   "nbconvert_exporter": "python",
   "pygments_lexer": "ipython3",
   "version": "3.7.3"
  }
 },
 "nbformat": 4,
 "nbformat_minor": 2
}
