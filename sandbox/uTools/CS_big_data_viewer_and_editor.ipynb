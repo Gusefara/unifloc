{
 "cells": [
  {
   "cell_type": "markdown",
   "metadata": {},
   "source": [
    "Кобзарь О.С. Хабибуллин Р.А. 31.07.2019\n",
    "\n",
    "# Работа с исходными данными\n",
    "\n",
    "* Выгрузка исходных данных со СУ и построение графиков\n",
    "* Обработка исходных данных с разнесением параметров по столбцам и сохранение изменений в отдельный файл\n",
    "* Загрузка обработанных данных и построение по ним графиков для проверки \n",
    "\n",
    "Для работы необходимы библиотеки: `pandas`, `plotly`, `datetime`, `numpy`\n",
    "\n",
    "Также необходимо изменять названия файлов для импорта и экспорта данных на требуемые"
   ]
  },
  {
   "cell_type": "code",
   "execution_count": null,
   "metadata": {},
   "outputs": [],
   "source": [
    "import pandas as pd\n",
    "import numpy as np\n",
    "\n",
    "import plotly.plotly as py\n",
    "import plotly.graph_objs as go\n",
    "import plotly.graph_objs as go\n",
    "from plotly.offline import download_plotlyjs, init_notebook_mode, plot, iplot\n",
    "from plotly import tools\n",
    "init_notebook_mode(connected=True)\n",
    "\n",
    "from datetime import date"
   ]
  },
  {
   "cell_type": "markdown",
   "metadata": {},
   "source": [
    "Загрузка csv без заголовков"
   ]
  },
  {
   "cell_type": "code",
   "execution_count": null,
   "metadata": {},
   "outputs": [],
   "source": [
    "csv_file_name = \"kobzar1.csv\""
   ]
  },
  {
   "cell_type": "code",
   "execution_count": null,
   "metadata": {},
   "outputs": [],
   "source": [
    "cs_data = pd.read_csv(csv_file_name,sep=';', header=None)"
   ]
  },
  {
   "cell_type": "code",
   "execution_count": null,
   "metadata": {},
   "outputs": [],
   "source": [
    "cs_data.head()"
   ]
  },
  {
   "cell_type": "code",
   "execution_count": null,
   "metadata": {},
   "outputs": [],
   "source": [
    "cs_data.shape"
   ]
  },
  {
   "cell_type": "markdown",
   "metadata": {},
   "source": [
    "Лист с названиями параметрами"
   ]
  },
  {
   "cell_type": "code",
   "execution_count": null,
   "metadata": {},
   "outputs": [],
   "source": [
    "list_parametrs = np.unique(cs_data[1])"
   ]
  },
  {
   "cell_type": "markdown",
   "metadata": {},
   "source": [
    "Ключ для параметра"
   ]
  },
  {
   "cell_type": "code",
   "execution_count": null,
   "metadata": {},
   "outputs": [],
   "source": [
    "list_parametrs[0]"
   ]
  },
  {
   "cell_type": "markdown",
   "metadata": {},
   "source": [
    "Число параметров"
   ]
  },
  {
   "cell_type": "code",
   "execution_count": null,
   "metadata": {},
   "outputs": [],
   "source": [
    "len(list_parametrs)"
   ]
  },
  {
   "cell_type": "markdown",
   "metadata": {},
   "source": [
    "Номер для каждого параметра и количество записей"
   ]
  },
  {
   "cell_type": "code",
   "execution_count": null,
   "metadata": {},
   "outputs": [],
   "source": [
    "def get_information(cs_data, list_parametrs):\n",
    "    for i in range(len(list_parametrs)):\n",
    "        amount_of_parametr_values = len(cs_data[cs_data[1] == list_parametrs[i]])\n",
    "        print(\"№\" + str (i)+ \" Кол-во записей: \" + str(amount_of_parametr_values) +'  ' +str(list_parametrs[i]))"
   ]
  },
  {
   "cell_type": "code",
   "execution_count": null,
   "metadata": {},
   "outputs": [],
   "source": [
    "get_information(cs_data, list_parametrs)"
   ]
  },
  {
   "cell_type": "markdown",
   "metadata": {},
   "source": [
    "Построение графика для одного параметра по его номеру, используя весь DataFrame"
   ]
  },
  {
   "cell_type": "code",
   "execution_count": null,
   "metadata": {},
   "outputs": [],
   "source": [
    "# Create a trace\n",
    "number = 19\n",
    "specific_param_by_number = (cs_data[cs_data[1] == list_parametrs[number]])\n",
    "print(list_parametrs[number])\n",
    "trace = go.Scattergl(\n",
    "    x = specific_param_by_number[2].values,\n",
    "    y = specific_param_by_number[3].values,\n",
    "    mode = 'markers'\n",
    ")\n",
    "\n",
    "data = [trace]\n",
    "\n",
    "# Plot and embed in ipython notebook!\n",
    "iplot(data, filename='basic-scatter')"
   ]
  },
  {
   "cell_type": "markdown",
   "metadata": {},
   "source": [
    "Функции для редактирования исходных данных со станции управления"
   ]
  },
  {
   "cell_type": "code",
   "execution_count": null,
   "metadata": {},
   "outputs": [],
   "source": [
    "def initial_editing(data):\n",
    "    del data[0]\n",
    "    str_to_delete = \"КУСТ 18. ГЗУ 18А. Скважина 1354.\"\n",
    "    data[1] = data[1].str.replace(str_to_delete,\"\")\n",
    "    data.index = data[2]\n",
    "    del data[2]\n",
    "    data.index = pd.to_datetime(data.index)\n",
    "    return data\n",
    "\n",
    "def extract_df_one_parametr_and_edit(data, list_of_params, number_of_param_in_list):\n",
    "    extracted_df_one_param = data[data[1] == list_of_params[number_of_param_in_list]].copy()\n",
    "    edited_df_one_param = extracted_df_one_param.rename(index=str, columns = {3: extracted_df_one_param[1][1]})\n",
    "    del edited_df_one_param[1]\n",
    "    return edited_df_one_param\n",
    "\n",
    "def create_edited_df(data, parametrs_list):\n",
    "    init_one_parametr_df = extract_df_one_parametr_and_edit(data, parametrs_list, 0)\n",
    "    result = init_one_parametr_df\n",
    "    for i in range(1, len(parametrs_list)):\n",
    "        new_one_parametr_df = extract_df_one_parametr_and_edit(data, parametrs_list, i)\n",
    "        result = result.join([new_one_parametr_df], how = \"outer\", sort=True)\n",
    "    return result"
   ]
  },
  {
   "cell_type": "markdown",
   "metadata": {},
   "source": [
    "Пример использования данных функций на маленькой вырезке исходных данных\n",
    "\n",
    "Сперва посмотрим на исходные данные"
   ]
  },
  {
   "cell_type": "code",
   "execution_count": null,
   "metadata": {},
   "outputs": [],
   "source": [
    "cs_data_try_merge = cs_data[-1000:].copy()\n",
    "cs_data_try_merge.head()"
   ]
  },
  {
   "cell_type": "markdown",
   "metadata": {},
   "source": [
    "Выполним изменения, посмотрим на готовый DataFrame и запишем его в .csv\n",
    "\n",
    "Если возникает ошибка, значит Вы хотите совершить преобразование повторно на уже обработанном DataFrame"
   ]
  },
  {
   "cell_type": "code",
   "execution_count": null,
   "metadata": {},
   "outputs": [],
   "source": [
    "\n",
    "cs_data_try_merge = initial_editing(cs_data_try_merge)\n",
    "\n",
    "small_list_parametrs = np.unique(cs_data_try_merge[1])\n",
    "get_information(cs_data_try_merge, small_list_parametrs)\n",
    "result_by_func = create_edited_df(cs_data_try_merge, small_list_parametrs)\n",
    "\n",
    "result_by_func.to_excel(\"check2.xlsx\")\n",
    "result_by_func.head()"
   ]
  },
  {
   "cell_type": "markdown",
   "metadata": {},
   "source": [
    "Проведем подобную операцию уже с большим исходным DataFrame и запишем данные\n",
    "\n",
    "*Внимание! Будет расчет и запись будет производится долго*"
   ]
  },
  {
   "cell_type": "code",
   "execution_count": null,
   "metadata": {},
   "outputs": [],
   "source": [
    "cs_big_data_try_merge = cs_data.copy()\n",
    "cs_big_data_try_merge = initial_editing(cs_big_data_try_merge)\n",
    "big_list_parametrs = np.unique(cs_big_data_try_merge[1])\n",
    "big_result_by_func = create_edited_df(cs_big_data_try_merge, big_list_parametrs)\n",
    "big_result_by_func.to_csv(\"edited_kobzar2.csv\")\n"
   ]
  },
  {
   "cell_type": "markdown",
   "metadata": {},
   "source": [
    "Ради проверки прочтем записанные данные, посмотрим на них и построим графики"
   ]
  },
  {
   "cell_type": "code",
   "execution_count": null,
   "metadata": {},
   "outputs": [],
   "source": [
    "test = pd.read_csv(\"edited_kobzar2.csv\")\n",
    "test.index = pd.to_datetime(test[\"2\"])\n",
    "test.head()"
   ]
  },
  {
   "cell_type": "code",
   "execution_count": null,
   "metadata": {},
   "outputs": [],
   "source": [
    "test.info()"
   ]
  },
  {
   "cell_type": "markdown",
   "metadata": {},
   "source": [
    "Из обработанных данных выберем промежуток времени и построим по нему график\n",
    "\n",
    "*Т.к. данных много, построение графика не быстрое*"
   ]
  },
  {
   "cell_type": "code",
   "execution_count": null,
   "metadata": {},
   "outputs": [],
   "source": [
    "year_start = 2019\n",
    "month_start = 2\n",
    "day_start = 21\n",
    "hour_start = 0\n",
    "date_from = pd.to_datetime(pd.DataFrame({'year': [year_start],\n",
    "                           'month': [month_start],\n",
    "                           'day': [day_start],\n",
    "                            'hour': [hour_start]}))\n",
    "date_from.iloc[0]"
   ]
  },
  {
   "cell_type": "code",
   "execution_count": null,
   "metadata": {},
   "outputs": [],
   "source": [
    "test_month = test[test.index > date_from.iloc[0]]"
   ]
  },
  {
   "cell_type": "code",
   "execution_count": null,
   "metadata": {},
   "outputs": [],
   "source": [
    "for number, name in enumerate(test_month.columns):\n",
    "    print(str(number) + \" \" + name)"
   ]
  },
  {
   "cell_type": "markdown",
   "metadata": {},
   "source": [
    "По оси горизонтальной время - индекс DataFrame, а по оси y значения из столбцов, к которым можно обратиться по номерам, перечисленным выше"
   ]
  },
  {
   "cell_type": "code",
   "execution_count": null,
   "metadata": {},
   "outputs": [],
   "source": [
    "trace1_column_name = test_month.columns[34]\n",
    "trace1 = go.Scattergl(\n",
    "    x = test_month.index,\n",
    "    y = test_month[trace1_column_name],\n",
    "    name = trace1_column_name,\n",
    "    mode = 'markers'\n",
    ")\n",
    "\n",
    "trace2_column_name = test_month.columns[37]\n",
    "trace2 = go.Scattergl(\n",
    "    x = test_month.index,\n",
    "    y = test_month[trace2_column_name],\n",
    "    name = trace2_column_name,\n",
    "    mode = 'markers'\n",
    ")\n",
    "trace3_column_name = test_month.columns[36]\n",
    "trace3 = go.Scattergl(\n",
    "    x = test_month.index,\n",
    "    y = test_month[trace3_column_name],\n",
    "    name = trace1_column_name,\n",
    "    mode = 'markers'\n",
    ")\n",
    "\n",
    "\n",
    "data = [trace1, trace2, trace3]\n",
    "\n",
    "\n",
    "layout = dict(title = \"df\"\n",
    "             )\n",
    "\n",
    "fig = dict(data=data, layout=layout)\n",
    "\n",
    "iplot(fig, filename='basic-scatter')"
   ]
  },
  {
   "cell_type": "code",
   "execution_count": null,
   "metadata": {},
   "outputs": [],
   "source": []
  }
 ],
 "metadata": {
  "kernelspec": {
   "display_name": "Python 3",
   "language": "python",
   "name": "python3"
  },
  "language_info": {
   "codemirror_mode": {
    "name": "ipython",
    "version": 3
   },
   "file_extension": ".py",
   "mimetype": "text/x-python",
   "name": "python",
   "nbconvert_exporter": "python",
   "pygments_lexer": "ipython3",
   "version": "3.7.3"
  }
 },
 "nbformat": 4,
 "nbformat_minor": 2
}
