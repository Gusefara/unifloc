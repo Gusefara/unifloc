{
 "cells": [
  {
   "cell_type": "markdown",
   "metadata": {},
   "source": [
    "Кобзарь Олег\n",
    "\n",
    "Выгрузка и построение данных со СУ"
   ]
  },
  {
   "cell_type": "code",
   "execution_count": null,
   "metadata": {},
   "outputs": [],
   "source": [
    "import pandas as pd\n",
    "import matplotlib.pyplot as plt\n",
    "import numpy as np\n",
    "\n",
    "import plotly.plotly as py\n",
    "import plotly.graph_objs as go\n",
    "import plotly.graph_objs as go\n",
    "from plotly.offline import download_plotlyjs, init_notebook_mode, plot, iplot\n",
    "from plotly import tools\n",
    "init_notebook_mode(connected=True)\n",
    "\n",
    "from datetime import date"
   ]
  },
  {
   "cell_type": "markdown",
   "metadata": {},
   "source": [
    "Загрузка csv без заголовков"
   ]
  },
  {
   "cell_type": "code",
   "execution_count": null,
   "metadata": {},
   "outputs": [],
   "source": [
    "csv_file_name = \"kobzar1.csv\""
   ]
  },
  {
   "cell_type": "code",
   "execution_count": null,
   "metadata": {},
   "outputs": [],
   "source": [
    "cs_data = pd.read_csv(csv_file_name,sep=';', header=None)"
   ]
  },
  {
   "cell_type": "code",
   "execution_count": null,
   "metadata": {},
   "outputs": [],
   "source": [
    "cs_data.head()"
   ]
  },
  {
   "cell_type": "code",
   "execution_count": null,
   "metadata": {},
   "outputs": [],
   "source": [
    "cs_data.shape"
   ]
  },
  {
   "cell_type": "markdown",
   "metadata": {},
   "source": [
    "Лист с названиями параметрами"
   ]
  },
  {
   "cell_type": "code",
   "execution_count": null,
   "metadata": {},
   "outputs": [],
   "source": [
    "list_parametrs = np.unique(cs_data[1])"
   ]
  },
  {
   "cell_type": "markdown",
   "metadata": {},
   "source": [
    "Ключ для параметра"
   ]
  },
  {
   "cell_type": "code",
   "execution_count": null,
   "metadata": {},
   "outputs": [],
   "source": [
    "list_parametrs[0]"
   ]
  },
  {
   "cell_type": "markdown",
   "metadata": {},
   "source": [
    "Число параметров"
   ]
  },
  {
   "cell_type": "code",
   "execution_count": null,
   "metadata": {},
   "outputs": [],
   "source": [
    "len(list_parametrs)"
   ]
  },
  {
   "cell_type": "markdown",
   "metadata": {},
   "source": [
    "Номер для каждого параметра и количество записей"
   ]
  },
  {
   "cell_type": "code",
   "execution_count": null,
   "metadata": {},
   "outputs": [],
   "source": [
    "def get_information(cs_data, list_parametrs):\n",
    "    for i in range(len(list_parametrs)):\n",
    "        amount_of_parametr_values = len(cs_data[cs_data[1] == list_parametrs[i]])\n",
    "        print(\"№\" + str (i)+ \" Кол-во записей: \" + str(amount_of_parametr_values) +'  ' +str(list_parametrs[i]))"
   ]
  },
  {
   "cell_type": "code",
   "execution_count": null,
   "metadata": {},
   "outputs": [],
   "source": [
    "get_information(cs_data, list_parametrs)"
   ]
  },
  {
   "cell_type": "markdown",
   "metadata": {},
   "source": [
    "Создание DataFrame только для мощности"
   ]
  },
  {
   "cell_type": "code",
   "execution_count": null,
   "metadata": {},
   "outputs": [],
   "source": [
    "active_power = (cs_data[cs_data[1] == list_parametrs[0]])"
   ]
  },
  {
   "cell_type": "code",
   "execution_count": null,
   "metadata": {},
   "outputs": [],
   "source": [
    "active_power[-200:-1]"
   ]
  },
  {
   "cell_type": "markdown",
   "metadata": {},
   "source": [
    "Данные по активной мощности за весь доступный период"
   ]
  },
  {
   "cell_type": "code",
   "execution_count": null,
   "metadata": {},
   "outputs": [],
   "source": [
    "# Create a trace\n",
    "trace = go.Scattergl(\n",
    "    x = active_power[2].values,\n",
    "    y = active_power[3].values,\n",
    "    mode = 'markers'\n",
    ")\n",
    "\n",
    "data = [trace]\n",
    "\n",
    "# Plot and embed in ipython notebook!\n",
    "iplot(data, filename='basic-scatter')"
   ]
  },
  {
   "cell_type": "code",
   "execution_count": null,
   "metadata": {},
   "outputs": [],
   "source": [
    "# Create a trace\n",
    "number = 7\n",
    "specific_param_by_number = (cs_data[cs_data[1] == list_parametrs[number]])\n",
    "print(list_parametrs[number])\n",
    "trace = go.Scattergl(\n",
    "    x = specific_param_by_number[2].values,\n",
    "    y = specific_param_by_number[3].values,\n",
    "    mode = 'markers'\n",
    ")\n",
    "\n",
    "data = [trace]\n",
    "\n",
    "# Plot and embed in ipython notebook!\n",
    "iplot(data, filename='basic-scatter')"
   ]
  },
  {
   "cell_type": "markdown",
   "metadata": {},
   "source": [
    "Функция для выбора параметра, ресемплирования и построения графиков\n"
   ]
  },
  {
   "cell_type": "code",
   "execution_count": null,
   "metadata": {},
   "outputs": [],
   "source": [
    "#TODO добавить конец периода\n",
    "\n",
    "def plot_result(number, year = 2019, month = 2, day = 1):\n",
    "    \n",
    "    name_param = list_parametrs[number]\n",
    "\n",
    "    date_from = pd.Timestamp(date(year,month,day))\n",
    "\n",
    "    data_one_parametr = (cs_data[cs_data[1] == name_param])\n",
    "    data_one_parametr_resample = data_one_parametr.copy()\n",
    "    data_one_parametr_resample[2] = pd.to_datetime(data_one_parametr_resample[2])\n",
    "    data_one_parametr_resample = data_one_parametr_resample[data_one_parametr_resample[2]>date_from]\n",
    "    data_one_parametr_resample['date'] = pd.to_datetime(data_one_parametr_resample[2], errors='coerce')\n",
    "    data_one_parametr_resample.set_index = data_one_parametr_resample['date']\n",
    "    data_one_parametr_resample.index = data_one_parametr_resample['date']\n",
    "    data_one_parametr_resample_2 = data_one_parametr_resample.resample('1d').mean()\n",
    "\n",
    "    trace1 = go.Scattergl(\n",
    "        x = data_one_parametr_resample_2.index,\n",
    "        y = data_one_parametr_resample_2[3],\n",
    "        name = name_param,\n",
    "        mode = 'markers'\n",
    "    )\n",
    "\n",
    "    data = [trace1]\n",
    "\n",
    "    layout = dict(title = name_param\n",
    "                 )\n",
    "\n",
    "    fig = dict(data=data, layout=layout)\n",
    "\n",
    "    iplot(fig, filename='basic-scatter')"
   ]
  },
  {
   "cell_type": "code",
   "execution_count": null,
   "metadata": {},
   "outputs": [],
   "source": [
    "plot_result(38)"
   ]
  },
  {
   "cell_type": "markdown",
   "metadata": {},
   "source": [
    "Функция для выделение куска данных с какого-либо времени, ресеплирования для каждого параметра и выдачи значения на последний день"
   ]
  },
  {
   "cell_type": "code",
   "execution_count": null,
   "metadata": {},
   "outputs": [],
   "source": [
    "\n",
    "def print_result(number = 59, year_start = 2019, month_start = 2, day_start = 1,\n",
    "                year_end = 2019, month_end = 2, day_end = 28):\n",
    "    date_from = pd.Timestamp(date(year_start,month_start,day_start))\n",
    "    date_end = pd.Timestamp(date(year_end,month_end,day_end))\n",
    "    print('date_from ' + str(date_from))\n",
    "    print('date_end ' + str(date_end))\n",
    "    for i in range(number):\n",
    "        \n",
    "        name_param = list_parametrs[i]\n",
    "\n",
    "        data_one_parametr = (cs_data[cs_data[1] == name_param])\n",
    "        \n",
    "        data_one_parametr_resample = data_one_parametr.copy()\n",
    "        data_one_parametr_resample[2] = pd.to_datetime(data_one_parametr_resample[2])\n",
    "        data_one_parametr_resample = data_one_parametr_resample[data_one_parametr_resample[2]>date_from]\n",
    "        data_one_parametr_resample['date'] = pd.to_datetime(data_one_parametr_resample[2], errors='coerce')\n",
    "        data_one_parametr_resample.set_index = data_one_parametr_resample['date']\n",
    "        data_one_parametr_resample.index = data_one_parametr_resample['date']\n",
    "        data_one_parametr_resample_2 = data_one_parametr_resample.resample('1d').mean()\n",
    "        if data_one_parametr_resample_2.shape[0] != 0:\n",
    "            value = data_one_parametr_resample_2[3][-1]\n",
    "            print(str(i) + '  ' + str(name_param) + '  '  + format(value, '.2f'))\n",
    "\n",
    "\n",
    "    "
   ]
  },
  {
   "cell_type": "markdown",
   "metadata": {},
   "source": [
    "Результаты на последний день по данным"
   ]
  },
  {
   "cell_type": "code",
   "execution_count": null,
   "metadata": {},
   "outputs": [],
   "source": [
    "print_result()"
   ]
  },
  {
   "cell_type": "code",
   "execution_count": null,
   "metadata": {},
   "outputs": [],
   "source": [
    "def initial_editing(data):\n",
    "    del data[0]\n",
    "    str_to_delete = \"КУСТ 18. ГЗУ 18А. Скважина 1354.\"\n",
    "    data[1] = data[1].str.replace(str_to_delete,\"\")\n",
    "    data.index = data[2]\n",
    "    del data[2]\n",
    "    data.index = pd.to_datetime(data.index)\n",
    "    return data\n",
    "\n",
    "def extract_df_one_parametr_and_edit(data, list_of_params, number_of_param_in_list):\n",
    "    extracted_df_one_param = data[data[1] == list_of_params[number_of_param_in_list]].copy()\n",
    "    edited_df_one_param = extracted_df_one_param.rename(index=str, columns = {3: extracted_df_one_param[1][1]})\n",
    "    del edited_df_one_param[1]\n",
    "    return edited_df_one_param\n",
    "\n",
    "def create_edited_df(data, parametrs_list):\n",
    "    init_one_parametr_df = extract_df_one_parametr_and_edit(data, parametrs_list, 0)\n",
    "    result = init_one_parametr_df\n",
    "    for i in range(1, len(parametrs_list)):\n",
    "        new_one_parametr_df = extract_df_one_parametr_and_edit(data, parametrs_list, i)\n",
    "        result = result.join([new_one_parametr_df], how = \"outer\", sort=True)\n",
    "    return result"
   ]
  },
  {
   "cell_type": "code",
   "execution_count": null,
   "metadata": {},
   "outputs": [],
   "source": [
    "cs_data_try_merge = cs_data[-1000:].copy()\n",
    "cs_data_try_merge = initial_editing(cs_data_try_merge)\n",
    "cs_data_try_merge.head()"
   ]
  },
  {
   "cell_type": "code",
   "execution_count": null,
   "metadata": {},
   "outputs": [],
   "source": [
    "year_start = 2019\n",
    "month_start = 2\n",
    "day_start = 28\n",
    "hour_start = 17\n",
    "date_from = pd.to_datetime(pd.DataFrame({'year': [year_start],\n",
    "                           'month': [month_start],\n",
    "                           'day': [day_start],\n",
    "                            'hour': [hour_start]}))\n",
    "date_from.iloc[0]"
   ]
  },
  {
   "cell_type": "code",
   "execution_count": null,
   "metadata": {},
   "outputs": [],
   "source": [
    "small_list_parametrs = np.unique(cs_data_try_merge[1])\n",
    "get_information(cs_data_try_merge, small_list_parametrs)"
   ]
  },
  {
   "cell_type": "code",
   "execution_count": null,
   "metadata": {},
   "outputs": [],
   "source": [
    "#small_motor_load[small_motor_load.index > date_from.iloc[0]]"
   ]
  },
  {
   "cell_type": "code",
   "execution_count": null,
   "metadata": {},
   "outputs": [],
   "source": [
    "result_by_func = create_edited_df(cs_data_try_merge, small_list_parametrs)"
   ]
  },
  {
   "cell_type": "code",
   "execution_count": null,
   "metadata": {},
   "outputs": [],
   "source": [
    "result_by_func.head()"
   ]
  },
  {
   "cell_type": "code",
   "execution_count": null,
   "metadata": {},
   "outputs": [],
   "source": [
    "result_by_func.to_excel(\"check2.xlsx\")"
   ]
  },
  {
   "cell_type": "code",
   "execution_count": null,
   "metadata": {},
   "outputs": [],
   "source": [
    "cs_big_data_try_merge = cs_data.copy()"
   ]
  },
  {
   "cell_type": "code",
   "execution_count": null,
   "metadata": {},
   "outputs": [],
   "source": [
    "cs_big_data_try_merge = initial_editing(cs_big_data_try_merge)"
   ]
  },
  {
   "cell_type": "code",
   "execution_count": null,
   "metadata": {},
   "outputs": [],
   "source": [
    "big_list_parametrs = np.unique(cs_big_data_try_merge[1])"
   ]
  },
  {
   "cell_type": "code",
   "execution_count": null,
   "metadata": {},
   "outputs": [],
   "source": [
    "big_result_by_func = create_edited_df(cs_big_data_try_merge, big_list_parametrs)"
   ]
  },
  {
   "cell_type": "code",
   "execution_count": null,
   "metadata": {},
   "outputs": [],
   "source": [
    "#big_result_by_func.to_excel(\"edited_kobzar1.xlsx\")"
   ]
  },
  {
   "cell_type": "code",
   "execution_count": null,
   "metadata": {},
   "outputs": [],
   "source": [
    "big_result_by_func.to_csv(\"edited_kobzar1.csv\")"
   ]
  },
  {
   "cell_type": "code",
   "execution_count": null,
   "metadata": {},
   "outputs": [],
   "source": [
    "test = pd.read_csv(\"edited_kobzar1.csv\")"
   ]
  },
  {
   "cell_type": "code",
   "execution_count": null,
   "metadata": {},
   "outputs": [],
   "source": [
    "test.head()"
   ]
  },
  {
   "cell_type": "code",
   "execution_count": null,
   "metadata": {},
   "outputs": [],
   "source": []
  }
 ],
 "metadata": {
  "kernelspec": {
   "display_name": "Python 3",
   "language": "python",
   "name": "python3"
  },
  "language_info": {
   "codemirror_mode": {
    "name": "ipython",
    "version": 3
   },
   "file_extension": ".py",
   "mimetype": "text/x-python",
   "name": "python",
   "nbconvert_exporter": "python",
   "pygments_lexer": "ipython3",
   "version": "3.7.3"
  }
 },
 "nbformat": 4,
 "nbformat_minor": 2
}
