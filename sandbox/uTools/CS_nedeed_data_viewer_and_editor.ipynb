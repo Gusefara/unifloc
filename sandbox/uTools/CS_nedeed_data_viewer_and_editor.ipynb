{
 "cells": [
  {
   "cell_type": "markdown",
   "metadata": {},
   "source": [
    "Кобзарь О.С. Хабибуллин Р.А. 31.07.2019\n",
    "\n",
    "# Подготовка данных для расчета\n",
    "\n",
    "* Вырезка куска данных для требуемого промежутка времени, используя подготовленные исходные данные\n",
    "* Обработка малого куска данных в требуемом промежутке времени\n",
    "* Тестирование и просмотр полученных данных"
   ]
  },
  {
   "cell_type": "code",
   "execution_count": null,
   "metadata": {},
   "outputs": [],
   "source": [
    "import pandas as pd\n",
    "import matplotlib.pyplot as plt\n",
    "import numpy as np\n",
    "\n",
    "import plotly.plotly as py\n",
    "import plotly.graph_objs as go\n",
    "import plotly.graph_objs as go\n",
    "from plotly.offline import download_plotlyjs, init_notebook_mode, plot, iplot\n",
    "from plotly import tools\n",
    "init_notebook_mode(connected=True)\n",
    "\n",
    "from datetime import date"
   ]
  },
  {
   "cell_type": "markdown",
   "metadata": {},
   "source": [
    "# 1. Извлечение исходных данных на определенный промежуток времени\n",
    "\n",
    "Сперва загрузим предварительно обработанные данные со станции управления (обработка производилась для разнесения параметров по столбцам с помощью ноутбука `CS_big_data_viewer_and_editor`"
   ]
  },
  {
   "cell_type": "code",
   "execution_count": null,
   "metadata": {},
   "outputs": [],
   "source": [
    "test = pd.read_csv(\"edited_kobzar2.csv\", index_col = \"2\")"
   ]
  },
  {
   "cell_type": "code",
   "execution_count": null,
   "metadata": {},
   "outputs": [],
   "source": [
    "test.info()"
   ]
  },
  {
   "cell_type": "code",
   "execution_count": null,
   "metadata": {},
   "outputs": [],
   "source": [
    "test.head()"
   ]
  },
  {
   "cell_type": "markdown",
   "metadata": {},
   "source": [
    "Определим промежуток времени с которым будем работать для извлечения данных из большого DataFrame "
   ]
  },
  {
   "cell_type": "code",
   "execution_count": null,
   "metadata": {},
   "outputs": [],
   "source": [
    "year_start = 2019\n",
    "month_start = 2\n",
    "day_start = 1\n",
    "hour_start = 0\n",
    "\n",
    "year_end = 2019\n",
    "month_end = 2\n",
    "day_end = 28\n",
    "hour_end = 0\n",
    "date_from = pd.to_datetime(pd.DataFrame({'year': [year_start, year_end],\n",
    "                           'month': [month_start, month_end],\n",
    "                           'day': [day_start, day_end],\n",
    "                            'hour': [hour_start, hour_end]}))\n",
    "date_start = date_from.iloc[0]\n",
    "print(\"Дата начала периода для тщательного анализа: \" + str(date_start))\n",
    "date_end = date_from.iloc[1]\n",
    "print(\"Дата конца периода для тщательного анализа: \" + str(date_end))"
   ]
  },
  {
   "cell_type": "markdown",
   "metadata": {},
   "source": [
    "Вырежем кусок данных и запишем его"
   ]
  },
  {
   "cell_type": "code",
   "execution_count": null,
   "metadata": {},
   "outputs": [],
   "source": [
    "test.index = pd.to_datetime(test.index)\n",
    "small_test = test[(test.index >= date_start) & (test.index <= date_end)]\n",
    "small_test.to_csv('small_part_to_analyze.csv')\n",
    "small_test.head()"
   ]
  },
  {
   "cell_type": "markdown",
   "metadata": {},
   "source": [
    "# 2. Тщательная обработка интересующего малого куска данных\n",
    "\n",
    "Загрузим небольшой обработанный кусок данных и доготовим его до правильной кондиции и использования в расчетах с помощью ресемлирования и прочее"
   ]
  },
  {
   "cell_type": "code",
   "execution_count": null,
   "metadata": {},
   "outputs": [],
   "source": [
    "loaded_file = pd.read_csv('small_part_to_analyze.csv', index_col = '2')\n",
    "loaded_file.index = pd.to_datetime(loaded_file.index)\n",
    "#loaded_file = loaded_file[loaded_file[\" Активная мощность\"] > 0]\n",
    "loaded_file.head()"
   ]
  },
  {
   "cell_type": "code",
   "execution_count": null,
   "metadata": {},
   "outputs": [],
   "source": [
    "loaded_file.info()"
   ]
  },
  {
   "cell_type": "markdown",
   "metadata": {},
   "source": [
    "Получить номера имен столбцов для удобного обращения к данным"
   ]
  },
  {
   "cell_type": "code",
   "execution_count": null,
   "metadata": {},
   "outputs": [],
   "source": [
    "for i, name in enumerate(loaded_file.columns):\n",
    "    print(str(i) + '  -  ' + name)"
   ]
  },
  {
   "cell_type": "markdown",
   "metadata": {},
   "source": [
    "Проверим некоторые столбцы на заполненность"
   ]
  },
  {
   "cell_type": "code",
   "execution_count": null,
   "metadata": {},
   "outputs": [],
   "source": [
    "loaded_file[loaded_file[loaded_file.columns[11]].notna() == True][loaded_file.columns[11]]"
   ]
  },
  {
   "cell_type": "code",
   "execution_count": null,
   "metadata": {},
   "outputs": [],
   "source": [
    "loaded_file[loaded_file[loaded_file.columns[12]].notna() == True][loaded_file.columns[12]]"
   ]
  },
  {
   "cell_type": "code",
   "execution_count": null,
   "metadata": {},
   "outputs": [],
   "source": [
    "loaded_file[loaded_file[loaded_file.columns[20]].notna() == True][loaded_file.columns[20]]"
   ]
  },
  {
   "cell_type": "code",
   "execution_count": null,
   "metadata": {},
   "outputs": [],
   "source": [
    "loaded_file[loaded_file[loaded_file.columns[23]].notna() == True][loaded_file.columns[23]]"
   ]
  },
  {
   "cell_type": "markdown",
   "metadata": {},
   "source": [
    "Получим список параметров (названий столбцов), которые представляют интерес для расчета"
   ]
  },
  {
   "cell_type": "code",
   "execution_count": null,
   "metadata": {},
   "outputs": [],
   "source": [
    "needed_param_numbers = [0,11,14,19,22,24,25,30,33,34,35,36,38,40,51]\n",
    "needed_param_list = []\n",
    "for i in needed_param_numbers:\n",
    "    needed_param_list.append(loaded_file.columns[i])\n",
    "for i, name in enumerate(needed_param_list):\n",
    "    print(str(i) + '  -  ' + name)"
   ]
  },
  {
   "cell_type": "markdown",
   "metadata": {},
   "source": [
    "Удалим столбы, не представляющие интерес для расчета"
   ]
  },
  {
   "cell_type": "code",
   "execution_count": null,
   "metadata": {},
   "outputs": [],
   "source": [
    "for i in loaded_file.columns:\n",
    "    if i not in needed_param_list:\n",
    "        del loaded_file[i]"
   ]
  },
  {
   "cell_type": "markdown",
   "metadata": {},
   "source": [
    "Произведем ресемплирование по дню, запишем в файл и посмотрим на результат"
   ]
  },
  {
   "cell_type": "code",
   "execution_count": null,
   "metadata": {},
   "outputs": [],
   "source": [
    "check_resample = loaded_file.resample('1d').mean()\n",
    "check_resample = check_resample.interpolate()\n",
    "check_resample.to_csv(\"resampled_small_data.csv\")\n",
    "check_resample.head()"
   ]
  },
  {
   "cell_type": "markdown",
   "metadata": {},
   "source": [
    "Произведем ресемплирование и интерполяцию по часу, запишем в файл и посмотрим на результат:"
   ]
  },
  {
   "cell_type": "code",
   "execution_count": null,
   "metadata": {},
   "outputs": [],
   "source": [
    "\n",
    "check_resample = loaded_file.resample('3h').last()\n",
    "check_resample = check_resample.interpolate()\n",
    "check_resample.to_csv(\"resampled_small_data_by_3h_last.csv\")\n",
    "check_resample.head()"
   ]
  },
  {
   "cell_type": "code",
   "execution_count": null,
   "metadata": {},
   "outputs": [],
   "source": [
    "\n",
    "check_resample = loaded_file.resample('3h').mean()\n",
    "check_resample = check_resample.interpolate()\n",
    "check_resample.to_csv(\"resampled_small_data_by_3h_mean.csv\")\n",
    "check_resample.head()"
   ]
  },
  {
   "cell_type": "markdown",
   "metadata": {},
   "source": [
    "# 3. Проверка подготовленных итоговых данных\n",
    "\n",
    "Просмотр и построение графиков"
   ]
  },
  {
   "cell_type": "code",
   "execution_count": null,
   "metadata": {},
   "outputs": [],
   "source": [
    "resampled_small_data = pd.read_csv(\"resampled_small_data.csv\", index_col = '2')\n",
    "resampled_small_data.head()\n",
    "#check_resample.iloc[-2]"
   ]
  },
  {
   "cell_type": "code",
   "execution_count": null,
   "metadata": {},
   "outputs": [],
   "source": [
    "resampled_small_data_by_3h_last = pd.read_csv(\"resampled_small_data_by_3h_last.csv\", index_col = '2')\n",
    "resampled_small_data_by_3h_last.head()"
   ]
  },
  {
   "cell_type": "code",
   "execution_count": null,
   "metadata": {},
   "outputs": [],
   "source": [
    "resampled_small_data_by_3h_mean = pd.read_csv(\"resampled_small_data_by_3h_mean.csv\", index_col = '2')\n",
    "resampled_small_data_by_3h_mean.head()"
   ]
  },
  {
   "cell_type": "code",
   "execution_count": null,
   "metadata": {},
   "outputs": [],
   "source": [
    "trace1_column_name = needed_param_list[0]\n",
    "trace1 = go.Scattergl(\n",
    "    x = resampled_small_data.index,\n",
    "    y = resampled_small_data[trace1_column_name],\n",
    "    name = \"resampled_small_data\",\n",
    "    mode = 'lines'\n",
    ")\n",
    "\n",
    "trace2_column_name = needed_param_list[0]\n",
    "trace2 = go.Scattergl(\n",
    "    x = resampled_small_data_by_3h_last.index,\n",
    "    y = resampled_small_data_by_3h_last[trace2_column_name],\n",
    "    name = \"resampled_small_data_by_3h_last\",\n",
    "    mode = 'lines'\n",
    ")\n",
    "trace3_column_name = needed_param_list[0]\n",
    "trace3 = go.Scattergl(\n",
    "    x = loaded_file.index,\n",
    "    y = loaded_file[trace3_column_name],\n",
    "    name = \"loaded_file\",\n",
    "    mode = 'markers'\n",
    ")\n",
    "\n",
    "trace4_column_name = needed_param_list[0]\n",
    "trace4 = go.Scattergl(\n",
    "    x = resampled_small_data_by_3h_mean.index,\n",
    "    y = resampled_small_data_by_3h_mean[trace4_column_name],\n",
    "    name = \"resampled_small_data_by_3h_mean\",\n",
    "    mode = 'lines'\n",
    ")\n",
    "\n",
    "\n",
    "data = [trace1, trace2, trace3, trace4]\n",
    "\n",
    "\n",
    "layout = dict(title = trace4_column_name\n",
    "             )\n",
    "\n",
    "fig = dict(data=data, layout=layout)\n",
    "\n",
    "iplot(fig, filename='basic-scatter')"
   ]
  },
  {
   "cell_type": "code",
   "execution_count": null,
   "metadata": {},
   "outputs": [],
   "source": [
    "trace1_column_name = needed_param_list[10]\n",
    "trace1 = go.Scattergl(\n",
    "    x = resampled_small_data.index,\n",
    "    y = resampled_small_data[trace1_column_name],\n",
    "    name = \"resampled_small_data\",\n",
    "    mode = 'lines'\n",
    ")\n",
    "\n",
    "trace2_column_name = needed_param_list[10]\n",
    "trace2 = go.Scattergl(\n",
    "    x = resampled_small_data_by_3h_last.index,\n",
    "    y = resampled_small_data_by_3h_last[trace2_column_name],\n",
    "    name = \"resampled_small_data_by_3h_last\",\n",
    "    mode = 'lines'\n",
    ")\n",
    "trace3_column_name = needed_param_list[10]\n",
    "trace3 = go.Scattergl(\n",
    "    x = loaded_file.index,\n",
    "    y = loaded_file[trace3_column_name],\n",
    "    name = \"loaded_file\",\n",
    "    mode = 'markers',\n",
    "    marker=dict(size=20)\n",
    "                \n",
    ")\n",
    "\n",
    "trace4_column_name = needed_param_list[10]\n",
    "trace4 = go.Scattergl(\n",
    "    x = resampled_small_data_by_3h_mean.index,\n",
    "    y = resampled_small_data_by_3h_mean[trace4_column_name],\n",
    "    name = \"resampled_small_data_by_3h_mean\",\n",
    "    mode = 'lines'\n",
    ")\n",
    "\n",
    "\n",
    "data = [trace1, trace2, trace3, trace4]\n",
    "\n",
    "\n",
    "layout = dict(title = trace4_column_name\n",
    "             )\n",
    "\n",
    "fig = dict(data=data, layout=layout)\n",
    "\n",
    "iplot(fig, filename='basic-scatter')"
   ]
  },
  {
   "cell_type": "code",
   "execution_count": null,
   "metadata": {},
   "outputs": [],
   "source": [
    "param_number = 2\n",
    "trace1_column_name = needed_param_list[param_number]\n",
    "trace1 = go.Scattergl(\n",
    "    x = resampled_small_data.index,\n",
    "    y = resampled_small_data[trace1_column_name],\n",
    "    name = \"resampled_small_data\",\n",
    "    mode = 'lines'\n",
    ")\n",
    "\n",
    "trace2_column_name = needed_param_list[param_number]\n",
    "trace2 = go.Scattergl(\n",
    "    x = resampled_small_data_by_3h_last.index,\n",
    "    y = resampled_small_data_by_3h_last[trace2_column_name],\n",
    "    name = \"resampled_small_data_by_3h_last\",\n",
    "    mode = 'lines'\n",
    ")\n",
    "trace3_column_name = needed_param_list[param_number]\n",
    "trace3 = go.Scattergl(\n",
    "    x = loaded_file.index,\n",
    "    y = loaded_file[trace3_column_name],\n",
    "    name = \"loaded_file\",\n",
    "    mode = 'markers'\n",
    ")\n",
    "\n",
    "trace4_column_name = needed_param_list[param_number]\n",
    "trace4 = go.Scattergl(\n",
    "    x = resampled_small_data_by_3h_mean.index,\n",
    "    y = resampled_small_data_by_3h_mean[trace4_column_name],\n",
    "    name = \"resampled_small_data_by_3h_mean\",\n",
    "    mode = 'lines'\n",
    ")\n",
    "\n",
    "\n",
    "data = [trace1, trace2, trace3, trace4]\n",
    "\n",
    "\n",
    "layout = dict(title = trace4_column_name\n",
    "             )\n",
    "\n",
    "fig = dict(data=data, layout=layout)\n",
    "\n",
    "iplot(fig, filename='basic-scatter')"
   ]
  },
  {
   "cell_type": "code",
   "execution_count": null,
   "metadata": {},
   "outputs": [],
   "source": [
    "param_number = 7\n",
    "trace1_column_name = needed_param_list[param_number]\n",
    "trace1 = go.Scattergl(\n",
    "    x = resampled_small_data.index,\n",
    "    y = resampled_small_data[trace1_column_name],\n",
    "    name = \"resampled_small_data\",\n",
    "    mode = 'lines'\n",
    ")\n",
    "\n",
    "trace2_column_name = needed_param_list[param_number]\n",
    "trace2 = go.Scattergl(\n",
    "    x = resampled_small_data_by_3h_last.index,\n",
    "    y = resampled_small_data_by_3h_last[trace2_column_name],\n",
    "    name = \"resampled_small_data_by_3h_last\",\n",
    "    mode = 'lines'\n",
    ")\n",
    "trace3_column_name = needed_param_list[param_number]\n",
    "trace3 = go.Scattergl(\n",
    "    x = loaded_file.index,\n",
    "    y = loaded_file[trace3_column_name],\n",
    "    name = \"loaded_file\",\n",
    "    mode = 'markers'\n",
    ")\n",
    "\n",
    "trace4_column_name = needed_param_list[param_number]\n",
    "trace4 = go.Scattergl(\n",
    "    x = resampled_small_data_by_3h_mean.index,\n",
    "    y = resampled_small_data_by_3h_mean[trace4_column_name],\n",
    "    name = \"resampled_small_data_by_3h_mean\",\n",
    "    mode = 'lines'\n",
    ")\n",
    "\n",
    "\n",
    "data = [trace1, trace2, trace3, trace4]\n",
    "\n",
    "\n",
    "layout = dict(title = trace4_column_name\n",
    "             )\n",
    "\n",
    "fig = dict(data=data, layout=layout)\n",
    "\n",
    "iplot(fig, filename='basic-scatter')"
   ]
  },
  {
   "cell_type": "code",
   "execution_count": null,
   "metadata": {},
   "outputs": [],
   "source": [
    "param_number = 3\n",
    "trace1_column_name = needed_param_list[param_number]\n",
    "trace1 = go.Scattergl(\n",
    "    x = resampled_small_data.index,\n",
    "    y = resampled_small_data[trace1_column_name],\n",
    "    name = \"resampled_small_data\",\n",
    "    mode = 'lines'\n",
    ")\n",
    "\n",
    "trace2_column_name = needed_param_list[param_number]\n",
    "trace2 = go.Scattergl(\n",
    "    x = resampled_small_data_by_3h_last.index,\n",
    "    y = resampled_small_data_by_3h_last[trace2_column_name],\n",
    "    name = \"resampled_small_data_by_3h_last\",\n",
    "    mode = 'lines'\n",
    ")\n",
    "trace3_column_name = needed_param_list[param_number]\n",
    "trace3 = go.Scattergl(\n",
    "    x = loaded_file.index,\n",
    "    y = loaded_file[trace3_column_name],\n",
    "    name = \"loaded_file\",\n",
    "    mode = 'markers'\n",
    ")\n",
    "\n",
    "trace4_column_name = needed_param_list[param_number]\n",
    "trace4 = go.Scattergl(\n",
    "    x = resampled_small_data_by_3h_mean.index,\n",
    "    y = resampled_small_data_by_3h_mean[trace4_column_name],\n",
    "    name = \"resampled_small_data_by_3h_mean\",\n",
    "    mode = 'lines'\n",
    ")\n",
    "\n",
    "\n",
    "data = [trace1, trace2, trace3, trace4]\n",
    "\n",
    "\n",
    "layout = dict(title = trace4_column_name\n",
    "             )\n",
    "\n",
    "fig = dict(data=data, layout=layout)\n",
    "\n",
    "iplot(fig, filename='basic-scatter')"
   ]
  },
  {
   "cell_type": "code",
   "execution_count": null,
   "metadata": {},
   "outputs": [],
   "source": [
    "param_number = 2\n",
    "trace1_column_name = needed_param_list[param_number]\n",
    "trace1 = go.Scattergl(\n",
    "    x = resampled_small_data.index,\n",
    "    y = resampled_small_data[trace1_column_name],\n",
    "    name = \"resampled_small_data\",\n",
    "    mode = 'lines'\n",
    ")\n",
    "\n",
    "trace2_column_name = needed_param_list[param_number]\n",
    "trace2 = go.Scattergl(\n",
    "    x = resampled_small_data_by_3h_last.index,\n",
    "    y = resampled_small_data_by_3h_last[trace2_column_name],\n",
    "    name = \"resampled_small_data_by_3h_last\",\n",
    "    mode = 'lines'\n",
    ")\n",
    "trace3_column_name = needed_param_list[param_number]\n",
    "trace3 = go.Scattergl(\n",
    "    x = loaded_file.index,\n",
    "    y = loaded_file[trace3_column_name],\n",
    "    name = \"loaded_file\",\n",
    "    mode = 'markers'\n",
    ")\n",
    "\n",
    "trace4_column_name = needed_param_list[param_number]\n",
    "trace4 = go.Scattergl(\n",
    "    x = resampled_small_data_by_3h_mean.index,\n",
    "    y = resampled_small_data_by_3h_mean[trace4_column_name],\n",
    "    name = \"resampled_small_data_by_3h_mean\",\n",
    "    mode = 'lines'\n",
    ")\n",
    "\n",
    "\n",
    "data = [trace1, trace2, trace3, trace4]\n",
    "\n",
    "\n",
    "layout = dict(title = trace4_column_name\n",
    "             )\n",
    "\n",
    "fig = dict(data=data, layout=layout)\n",
    "\n",
    "iplot(fig, filename='basic-scatter')"
   ]
  },
  {
   "cell_type": "code",
   "execution_count": null,
   "metadata": {},
   "outputs": [],
   "source": [
    "def resemple_column_without_zeros(dataframe, column_name_Str, resample_time_Str):\n",
    "    column_without_zero = dataframe[dataframe[column_name_Str] > 0][column_name_Str]\n",
    "    resempled_column = column_without_zero.resample(resample_time_Str).mean()\n",
    "    interpolated_column = resempled_column.interpolate()\n",
    "    return interpolated_column\n",
    "                              \n",
    "                                  \n",
    "check_resample_without_zeros = loaded_file.resample('3h').mean()\n",
    "for column_name in needed_param_list:\n",
    "    check_resample_without_zeros[column_name] = resemple_column_without_zeros(loaded_file, column_name, \"3h\") \n",
    "    # время общее с первого ресемпла\n",
    "            \n",
    "                                "
   ]
  },
  {
   "cell_type": "code",
   "execution_count": null,
   "metadata": {},
   "outputs": [],
   "source": [
    "check_resample_without_zeros.iloc[20]"
   ]
  },
  {
   "cell_type": "code",
   "execution_count": null,
   "metadata": {},
   "outputs": [],
   "source": [
    "#column_name = needed_param_list[10]\n",
    "#check_resample_without_zeros[column_name] = resemple_column_without_zeros(loaded_file, column_name, \"3h\")\n",
    "#check_resample_without_zeros[column_name] = check_resample_without_zeros[column_name].interpolate()\n",
    "#check_resample_without_zeros[column_name] "
   ]
  },
  {
   "cell_type": "code",
   "execution_count": null,
   "metadata": {
    "scrolled": true
   },
   "outputs": [],
   "source": []
  },
  {
   "cell_type": "code",
   "execution_count": null,
   "metadata": {},
   "outputs": [],
   "source": [
    "#check_resample_without_zeros[column_name] = resemple_column_without_zeros(loaded_file, column_name, \"3h\")\n",
    "#check_resample_without_zeros = resemple_column_without_zeros(loaded_file, column_name, \"3h\")"
   ]
  },
  {
   "cell_type": "code",
   "execution_count": null,
   "metadata": {},
   "outputs": [],
   "source": [
    "#column_without_zero = loaded_file[loaded_file[column_name] > 0]"
   ]
  },
  {
   "cell_type": "code",
   "execution_count": null,
   "metadata": {},
   "outputs": [],
   "source": [
    "#check_resample_without_zeros[column_name]"
   ]
  },
  {
   "cell_type": "code",
   "execution_count": null,
   "metadata": {},
   "outputs": [],
   "source": [
    "param_number = 0\n",
    "trace1_column_name = needed_param_list[param_number]\n",
    "trace1 = go.Scattergl(\n",
    "    x = resampled_small_data.index,\n",
    "    y = resampled_small_data[trace1_column_name],\n",
    "    name = \"resampled_small_data\",\n",
    "    mode = 'lines'\n",
    ")\n",
    "\n",
    "trace2_column_name = needed_param_list[param_number]\n",
    "trace2 = go.Scattergl(\n",
    "    x = resampled_small_data_by_3h_last.index,\n",
    "    y = resampled_small_data_by_3h_last[trace2_column_name],\n",
    "    name = \"resampled_small_data_by_3h_last\",\n",
    "    mode = 'lines'\n",
    ")\n",
    "trace3_column_name = needed_param_list[param_number]\n",
    "trace3 = go.Scattergl(\n",
    "    x = loaded_file.index,\n",
    "    y = loaded_file[trace3_column_name],\n",
    "    name = \"loaded_file\",\n",
    "    mode = 'markers',\n",
    "    marker=dict(size=20)\n",
    ")\n",
    "\n",
    "trace4_column_name = needed_param_list[param_number]\n",
    "trace4 = go.Scattergl(\n",
    "    x = resampled_small_data_by_3h_mean.index,\n",
    "    y = resampled_small_data_by_3h_mean[trace4_column_name],\n",
    "    name = \"resampled_small_data_by_3h_mean\",\n",
    "    mode = 'lines'\n",
    ")\n",
    "\n",
    "trace5_column_name = needed_param_list[param_number]\n",
    "trace5 = go.Scattergl(\n",
    "    x = check_resample_without_zeros.index,\n",
    "    y = check_resample_without_zeros[trace5_column_name],\n",
    "    name = \"check_resample_without_zeros\",\n",
    "    mode = 'lines'\n",
    ")\n",
    "\n",
    "\n",
    "data = [trace1, trace2, trace3, trace4, trace5]\n",
    "#data = [trace1, trace2,  trace4, trace5]\n",
    "\n",
    "\n",
    "layout = dict(title = trace4_column_name\n",
    "             )\n",
    "\n",
    "fig = dict(data=data, layout=layout)\n",
    "\n",
    "iplot(fig, filename='basic-scatter')"
   ]
  },
  {
   "cell_type": "code",
   "execution_count": null,
   "metadata": {},
   "outputs": [],
   "source": []
  }
 ],
 "metadata": {
  "kernelspec": {
   "display_name": "Python 3",
   "language": "python",
   "name": "python3"
  },
  "language_info": {
   "codemirror_mode": {
    "name": "ipython",
    "version": 3
   },
   "file_extension": ".py",
   "mimetype": "text/x-python",
   "name": "python",
   "nbconvert_exporter": "python",
   "pygments_lexer": "ipython3",
   "version": "3.7.3"
  }
 },
 "nbformat": 4,
 "nbformat_minor": 2
}
