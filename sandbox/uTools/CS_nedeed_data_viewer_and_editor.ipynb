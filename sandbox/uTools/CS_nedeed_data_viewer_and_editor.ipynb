{
 "cells": [
  {
   "cell_type": "markdown",
   "metadata": {},
   "source": [
    "Кобзарь О.С. Хабибуллин Р.А. 31.07.2019\n",
    "\n",
    "# Подготовка данных для расчета\n",
    "\n",
    "* Вырезка куска данных для требуемого промежутка времени, используя подготовленные исходные данные\n",
    "* Обработка малого куска данных в требуемом промежутке времени\n",
    "* Тестирование и просмотр полученных данных"
   ]
  },
  {
   "cell_type": "code",
   "execution_count": null,
   "metadata": {},
   "outputs": [],
   "source": [
    "import pandas as pd\n",
    "import matplotlib.pyplot as plt\n",
    "import numpy as np\n",
    "\n",
    "import plotly.plotly as py\n",
    "import plotly.graph_objs as go\n",
    "import plotly.graph_objs as go\n",
    "from plotly.offline import download_plotlyjs, init_notebook_mode, plot, iplot\n",
    "from plotly import tools\n",
    "init_notebook_mode(connected=True)\n",
    "\n",
    "from datetime import date"
   ]
  },
  {
   "cell_type": "markdown",
   "metadata": {},
   "source": [
    "# 1. Извлечение исходных данных на определенный промежуток времени\n",
    "\n",
    "Сперва загрузим предварительно обработанные данные со станции управления (обработка производилась для разнесения параметров по столбцам с помощью ноутбука `CS_big_data_viewer_and_editor`"
   ]
  },
  {
   "cell_type": "code",
   "execution_count": null,
   "metadata": {},
   "outputs": [],
   "source": [
    "test = pd.read_csv(\"edited_kobzar2.csv\", index_col = \"2\")"
   ]
  },
  {
   "cell_type": "code",
   "execution_count": null,
   "metadata": {},
   "outputs": [],
   "source": [
    "test.info()"
   ]
  },
  {
   "cell_type": "code",
   "execution_count": null,
   "metadata": {},
   "outputs": [],
   "source": [
    "test.head()"
   ]
  },
  {
   "cell_type": "markdown",
   "metadata": {},
   "source": [
    "Определим промежуток времени с которым будем работать для извлечения данных из большого DataFrame "
   ]
  },
  {
   "cell_type": "code",
   "execution_count": null,
   "metadata": {},
   "outputs": [],
   "source": [
    "year_start = 2019\n",
    "month_start = 2\n",
    "day_start = 1\n",
    "hour_start = 0\n",
    "\n",
    "year_end = 2019\n",
    "month_end = 2\n",
    "day_end = 28\n",
    "hour_end = 0\n",
    "date_from = pd.to_datetime(pd.DataFrame({'year': [year_start, year_end],\n",
    "                           'month': [month_start, month_end],\n",
    "                           'day': [day_start, day_end],\n",
    "                            'hour': [hour_start, hour_end]}))\n",
    "date_start = date_from.iloc[0]\n",
    "print(\"Дата начала периода для тщательного анализа: \" + str(date_start))\n",
    "date_end = date_from.iloc[1]\n",
    "print(\"Дата конца периода для тщательного анализа: \" + str(date_end))"
   ]
  },
  {
   "cell_type": "markdown",
   "metadata": {},
   "source": [
    "Вырежем кусок данных и запишем его"
   ]
  },
  {
   "cell_type": "code",
   "execution_count": null,
   "metadata": {},
   "outputs": [],
   "source": [
    "test.index = pd.to_datetime(test.index)\n",
    "small_test = test[(test.index >= date_start) & (test.index <= date_end)]\n",
    "small_test.to_csv('small_part_to_analyze.csv')\n",
    "small_test.head()"
   ]
  },
  {
   "cell_type": "markdown",
   "metadata": {},
   "source": [
    "# 2. Тщательная обработка интересующего малого куска данных\n",
    "\n",
    "Загрузим небольшой обработанный кусок данных и доготовим его до правильной кондиции и использования в расчетах с помощью ресемлирования и прочее"
   ]
  },
  {
   "cell_type": "code",
   "execution_count": null,
   "metadata": {},
   "outputs": [],
   "source": [
    "loaded_file = pd.read_csv('small_part_to_analyze.csv', index_col = '2')\n",
    "loaded_file.index = pd.to_datetime(loaded_file.index)\n",
    "loaded_file.head()"
   ]
  },
  {
   "cell_type": "code",
   "execution_count": null,
   "metadata": {},
   "outputs": [],
   "source": [
    "loaded_file.info()"
   ]
  },
  {
   "cell_type": "markdown",
   "metadata": {},
   "source": [
    "Получить номера имен столбцов для удобного обращения к данным"
   ]
  },
  {
   "cell_type": "code",
   "execution_count": null,
   "metadata": {},
   "outputs": [],
   "source": [
    "for i, name in enumerate(loaded_file.columns):\n",
    "    print(str(i) + '  -  ' + name)"
   ]
  },
  {
   "cell_type": "markdown",
   "metadata": {},
   "source": [
    "Проверим некоторые столбцы на заполненность"
   ]
  },
  {
   "cell_type": "code",
   "execution_count": null,
   "metadata": {},
   "outputs": [],
   "source": [
    "loaded_file[loaded_file[loaded_file.columns[11]].notna() == True][loaded_file.columns[11]]"
   ]
  },
  {
   "cell_type": "code",
   "execution_count": null,
   "metadata": {},
   "outputs": [],
   "source": [
    "loaded_file[loaded_file[loaded_file.columns[12]].notna() == True][loaded_file.columns[12]]"
   ]
  },
  {
   "cell_type": "code",
   "execution_count": null,
   "metadata": {},
   "outputs": [],
   "source": [
    "loaded_file[loaded_file[loaded_file.columns[20]].notna() == True][loaded_file.columns[20]]"
   ]
  },
  {
   "cell_type": "code",
   "execution_count": null,
   "metadata": {},
   "outputs": [],
   "source": [
    "loaded_file[loaded_file[loaded_file.columns[23]].notna() == True][loaded_file.columns[23]]"
   ]
  },
  {
   "cell_type": "markdown",
   "metadata": {},
   "source": [
    "Получим список параметров (названий столбцов), которые представляют интерес для расчета"
   ]
  },
  {
   "cell_type": "code",
   "execution_count": null,
   "metadata": {},
   "outputs": [],
   "source": [
    "needed_param_numbers = [0,11,14,19,22,24,25,30,33,34,35,36,38,40,51]\n",
    "needed_param_list = []\n",
    "for i in needed_param_numbers:\n",
    "    needed_param_list.append(loaded_file.columns[i])\n",
    "for i, name in enumerate(needed_param_list):\n",
    "    print(str(i) + '  -  ' + name)"
   ]
  },
  {
   "cell_type": "markdown",
   "metadata": {},
   "source": [
    "Удалим столбы, не представляющие интерес для расчета"
   ]
  },
  {
   "cell_type": "code",
   "execution_count": null,
   "metadata": {},
   "outputs": [],
   "source": [
    "for i in loaded_file.columns:\n",
    "    if i not in needed_param_list:\n",
    "        del loaded_file[i]"
   ]
  },
  {
   "cell_type": "markdown",
   "metadata": {},
   "source": [
    "Произведем ресемплирование, запишем в файл и посмотрим на результат"
   ]
  },
  {
   "cell_type": "code",
   "execution_count": null,
   "metadata": {},
   "outputs": [],
   "source": [
    "check_resample = loaded_file.resample('1d').mean()\n",
    "check_resample.to_csv(\"resampled_small_data.csv\")\n",
    "check_resample.head()"
   ]
  },
  {
   "cell_type": "markdown",
   "metadata": {},
   "source": [
    "# 3. Проверка подготовленных итоговых данных\n",
    "\n",
    "Просмотр и построение графиков"
   ]
  },
  {
   "cell_type": "code",
   "execution_count": null,
   "metadata": {},
   "outputs": [],
   "source": [
    "check_resample = pd.read_csv(\"resampled_small_data.csv\", index_col = '2')\n",
    "check_resample.head()\n",
    "#check_resample.iloc[-2]"
   ]
  },
  {
   "cell_type": "code",
   "execution_count": null,
   "metadata": {},
   "outputs": [],
   "source": [
    "trace1_column_name = needed_param_list[10]\n",
    "trace1 = go.Scattergl(\n",
    "    x = check_resample.index,\n",
    "    y = check_resample[trace1_column_name],\n",
    "    name = trace1_column_name,\n",
    "    mode = 'markers'\n",
    ")\n",
    "\n",
    "trace2_column_name = needed_param_list[11]\n",
    "trace2 = go.Scattergl(\n",
    "    x = check_resample.index,\n",
    "    y = check_resample[trace2_column_name],\n",
    "    name = trace2_column_name,\n",
    "    mode = 'markers'\n",
    ")\n",
    "trace3_column_name = needed_param_list[13]\n",
    "trace3 = go.Scattergl(\n",
    "    x = check_resample.index,\n",
    "    y = check_resample[trace3_column_name],\n",
    "    name = trace3_column_name,\n",
    "    mode = 'markers'\n",
    ")\n",
    "\n",
    "\n",
    "data = [trace1, trace2, trace3]\n",
    "\n",
    "\n",
    "layout = dict(title = 'Просмторе обработанных данных, которые идут в расчет'\n",
    "             )\n",
    "\n",
    "fig = dict(data=data, layout=layout)\n",
    "\n",
    "iplot(fig, filename='basic-scatter')"
   ]
  }
 ],
 "metadata": {
  "kernelspec": {
   "display_name": "Python 3",
   "language": "python",
   "name": "python3"
  },
  "language_info": {
   "codemirror_mode": {
    "name": "ipython",
    "version": 3
   },
   "file_extension": ".py",
   "mimetype": "text/x-python",
   "name": "python",
   "nbconvert_exporter": "python",
   "pygments_lexer": "ipython3",
   "version": "3.7.3"
  }
 },
 "nbformat": 4,
 "nbformat_minor": 2
}
