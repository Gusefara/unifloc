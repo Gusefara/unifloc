{
 "cells": [
  {
   "cell_type": "code",
   "execution_count": 100,
   "metadata": {},
   "outputs": [],
   "source": [
    "import os\n",
    "import preprocessor as prep\n",
    "import postprocessor as postp\n",
    "import processor as proc\n",
    "import pandas as pd\n",
    "import unifloc.uniflocpy.uTools.plotly_workflow as pw\n",
    "import datetime\n",
    "from sklearn import metrics\n",
    "import multiprocessing as mp\n",
    "from multiprocessing import Pool\n",
    "\n",
    "\n",
    "from sklearn import metrics\n",
    "from sklearn import linear_model\n",
    "from sklearn.model_selection import train_test_split\n",
    "from sklearn.model_selection import GridSearchCV\n",
    "import numpy as np\n",
    "from sklearn import metrics\n",
    "from sklearn.preprocessing import StandardScaler\n",
    "import matplotlib.pyplot as plt\n",
    "from scipy import stats\n",
    "from sklearn.decomposition import PCA\n",
    "from pandas.api.types import is_numeric_dtype"
   ]
  },
  {
   "cell_type": "markdown",
   "metadata": {},
   "source": [
    "# 3. Адаптация\n",
    "Нужно, используя сгенерированные данные `well_name_adapt_input` получить значения коэффициентов калибровок по напору и мощности с помощью `processor.py`\n",
    "\n",
    "Для этого выключить флаги\n",
    "\n",
    "* vfm_calc_option = False\n",
    "* restore_q_liq_only = False\n",
    "\n",
    "и определить папку с входными данными `dir_name_with_input_data`"
   ]
  },
  {
   "cell_type": "code",
   "execution_count": 101,
   "metadata": {},
   "outputs": [],
   "source": [
    "dir_name_with_input_data = 'adapt_input_'\n",
    "well_name = '1628'\n",
    "path_to_work_dir = f'data/{well_name}/adaptation_/'"
   ]
  },
  {
   "cell_type": "markdown",
   "metadata": {},
   "source": [
    "Подготовка к параллельному расчету.\n",
    "\n",
    "В проекте UniflocVBA нужно вручную размножить надстройки до нужного количества потоков - каждая надстройка будет работать параллельно и рассчитывать определенную часть общих данных. \n",
    "\n",
    "По умолчанию выставлено 4 потока на 4 надстройках `UniflocVBA_7.xlam`, `UniflocVBA_7_1.xlam`, `UniflocVBA_7_2.xlam`, `UniflocVBA_7_3.xlam`. При желании можно добавить еще, не забыв изменить также номера потоков и их общее количество.\n",
    "\n",
    "Группировка информации о потоках в единый список `thread_option_list`"
   ]
  },
  {
   "cell_type": "markdown",
   "metadata": {},
   "source": [
    "Запуск процесса адаптации - получения калибровок. Процесс может быть долгим - в среднем расчет идет медленнее, чем при восстановлении дебитов. \n",
    "\n",
    "Рассчет 1 месяца в среднем занимает около 15-20 минут.\n",
    "\n",
    "Стоит отметить, что для аварийного выхода нужно вручную закрыть надстройки Excel (окна, которые открыты и в них ведется работа). После закрытия всех четырех процесс остановится и возникнет ошибка, контроль над jupyter notebook вернется и можно будет работать.\n",
    "\n",
    "Поэтому для тщательной отладки `processor.py` рекомендуется запускать отдельно (лучше через PyCharm)."
   ]
  },
  {
   "cell_type": "code",
   "execution_count": 102,
   "metadata": {},
   "outputs": [],
   "source": [
    "dir_name_with_input_data = 'adapt_input_2019_11_15_14_45_46' + '\\\\'\n",
    "input_data_file_name = well_name + '_adapt_input'\n",
    "calculated_data_file_name = well_name + '_adapt_1'"
   ]
  },
  {
   "cell_type": "code",
   "execution_count": 103,
   "metadata": {},
   "outputs": [
    {
     "data": {
      "text/plain": [
       "'data/1628/adaptation_/multiprocessing'"
      ]
     },
     "execution_count": 103,
     "metadata": {},
     "output_type": "execute_result"
    }
   ],
   "source": [
    "path_to_work_dir + 'multiprocessing' "
   ]
  },
  {
   "cell_type": "code",
   "execution_count": 104,
   "metadata": {},
   "outputs": [
    {
     "name": "stdout",
     "output_type": "stream",
     "text": [
      "['1628_adapt_1.csv', '1628_adapt_2.csv', '1628_adapt_3.csv', '1628_adapt_4.csv', '1628_adapt_5.csv', '1628_adapt_6.csv', '1628_adapt_7.csv', '1628_adapt_8.csv']\n"
     ]
    }
   ],
   "source": [
    "filenames_list = []\n",
    "for (dirpath, dirnames, filenames) in os.walk(path_to_work_dir + 'multiprocessing\\\\'):\n",
    "    filenames_list.extend(filenames)\n",
    "    break\n",
    "print(filenames_list)\n",
    "for i,j in enumerate(filenames_list):\n",
    "    if i == 0:\n",
    "        first_result_data = pd.read_csv(path_to_work_dir + 'multiprocessing\\\\' + j , parse_dates = True, index_col = 'Время')\n",
    "    else:\n",
    "        another_result_data = pd.read_csv(path_to_work_dir + 'multiprocessing\\\\' + j , parse_dates = True, index_col = 'Время')\n",
    "        first_result_data = first_result_data.append(another_result_data, sort = True)\n",
    "        del first_result_data['d']\n",
    "        first_result_data = first_result_data.dropna(subset = ['ESP.ESPpump.EffiencyESP_d'])\n",
    "first_result_data.to_csv(path_to_work_dir + calculated_data_file_name + '.csv')"
   ]
  },
  {
   "cell_type": "markdown",
   "metadata": {},
   "source": [
    "Загрузка данных адаптации после расчета - в папке `adaptation_time_mark`  файл `well_name_adapt_1.csv`"
   ]
  },
  {
   "cell_type": "code",
   "execution_count": 105,
   "metadata": {},
   "outputs": [],
   "source": [
    "calculated_data = prep.load_calculated_data_from_csv(path_to_work_dir +\n",
    "                                                calculated_data_file_name +  '.csv')"
   ]
  },
  {
   "cell_type": "markdown",
   "metadata": {},
   "source": [
    "Чтение входных данных для адаптации из папки `adaptation_input` и объединение данных адатации и входных данных для нее.\n",
    "Сохранение всех данных в папке `adaptation_time_mark` с названием `well_name_calc_and_input.csv`"
   ]
  },
  {
   "cell_type": "code",
   "execution_count": 106,
   "metadata": {},
   "outputs": [],
   "source": [
    "input_data = pd.read_csv(f'data/{well_name}/adapt_input/' + input_data_file_name +  '.csv')\n",
    "input_data.index = input_data['Время']\n",
    "del input_data['Время']\n",
    "all_data = input_data.join(calculated_data, how = 'outer')\n",
    "\n",
    "all_data.to_csv(path_to_work_dir + well_name + '_calc_and_input' +  '.csv' )"
   ]
  },
  {
   "cell_type": "markdown",
   "metadata": {},
   "source": [
    "Построение графиков для данных адаптации в папке  `adaptation_time_mark`\n",
    "\n",
    "Все данные (входные и результаты) на одном графике `well_name_calc_and_input.html`"
   ]
  },
  {
   "cell_type": "code",
   "execution_count": 107,
   "metadata": {},
   "outputs": [],
   "source": [
    "adapt_data_traces = pw.create_traces_list_for_all_columms(all_data, 'lines+markers', use_gl = True)\n",
    "plot_file_path = path_to_work_dir + well_name + '_calc_and_input' +  '.html'\n",
    "pw.plot_subplots(adapt_data_traces, plot_file_path, True)"
   ]
  },
  {
   "cell_type": "code",
   "execution_count": 108,
   "metadata": {},
   "outputs": [],
   "source": [
    "qliq = {'Объемный дебит жидкости':['Объемный дебит жидкости (СУ)', 'Q ж, м3/сут (Модель)']}\n",
    "calibrs = {'Калибровки по напору и мощности':\n",
    "       ['К. калибровки по напору - множитель (Модель)',\n",
    "           'К. калибровки по мощности - множитель (Модель)']}\n",
    "metrics = {'Метрики расчета':\n",
    "       ['Значение функции ошибки (Модель)']}\n",
    "gor = {'ГФ (Модель)':['ГФ (Модель)']}\n",
    "wc = {'Обводненность, %':['Обв, % (Модель)']}\n",
    "pressure_intake = {'Давление на приеме': ['Давление на приеме насоса (пласт. жидкость) (СУ)', 'P прием ЭЦН, атм (Модель)']}\n",
    "pressure_wh = {'Рлин': ['Рлин ТМ (Ш)', 'P лин., атм (Модель)']}\n",
    "pressure_bf = {'Рбуф': ['Рбуф (Ш)', 'P буф., атм (Модель)']}\n",
    "temp_intake = {'Температура на приеме насоса': ['Температура на приеме насоса (пласт. жидкость) (СУ)',\n",
    "                                                                      'T прием ЭЦН, C (Модель)']}\n",
    "frequencies = {'Частота, Гц':\n",
    "               ['F вращ ТМ (Ш)', 'Выходная частота ПЧ (СУ)', 'F тока, ГЦ (Модель)']}\n",
    "choke = {'Размер штуцера, мм': ['Dшт (Ш)']}\n",
    "power = {'Активная мощность (СУ)':['Активная мощность (СУ)']}\n",
    "true_power = {'Мощность, передаваемая СУ (Модель)':['Мощность, передаваемая СУ (Модель)']}\n",
    "voltage = {'Напряжение на выходе ТМПН (СУ)':['Напряжение на выходе ТМПН (СУ)']}\n",
    "cos = {'Коэффициент мощности (СУ)':['Коэффициент мощности (СУ)']}\n",
    "\n",
    "efficiency = {'КПД ЭЦН, д.ед.':\n",
    "          ['КПД ЭЦН, д.ед. (Модель)']}\n",
    "dif_pressure = {'Перепад давления в ЭЦН, атм':\n",
    "            ['Перепад давления в ЭЦН, атм (Модель)']}\n",
    "all_banches = [qliq,calibrs,metrics, gor,wc, pressure_intake, pressure_wh, pressure_bf,\n",
    "               temp_intake, frequencies, choke,power,true_power, voltage,cos, efficiency, dif_pressure]\n",
    "\n",
    "pw.create_report_html(all_data, all_banches, path_to_work_dir + \n",
    "                      well_name + '_adapt_report.html')"
   ]
  }
 ],
 "metadata": {
  "kernelspec": {
   "display_name": "Python 3",
   "language": "python",
   "name": "python3"
  },
  "language_info": {
   "codemirror_mode": {
    "name": "ipython",
    "version": 3
   },
   "file_extension": ".py",
   "mimetype": "text/x-python",
   "name": "python",
   "nbconvert_exporter": "python",
   "pygments_lexer": "ipython3",
   "version": "3.7.4"
  }
 },
 "nbformat": 4,
 "nbformat_minor": 2
}
