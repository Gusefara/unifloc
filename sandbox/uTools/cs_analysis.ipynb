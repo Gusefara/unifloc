{
 "cells": [
  {
   "cell_type": "markdown",
   "metadata": {},
   "source": [
    "## Импорт модулей"
   ]
  },
  {
   "cell_type": "code",
   "execution_count": null,
   "metadata": {},
   "outputs": [],
   "source": [
    "import pandas as pd"
   ]
  },
  {
   "cell_type": "code",
   "execution_count": null,
   "metadata": {},
   "outputs": [],
   "source": [
    "import sys\n",
    "sys.path.append(r'E:\\Git')"
   ]
  },
  {
   "cell_type": "code",
   "execution_count": null,
   "metadata": {},
   "outputs": [],
   "source": [
    "import preproc_p.preproc_tool as preproc_tool\n",
    "import preproc_p.workflow_cs_data as workflow_cs_data\n",
    "import plot_workflow.plotly_workflow as plotly_workflow"
   ]
  },
  {
   "cell_type": "code",
   "execution_count": null,
   "metadata": {},
   "outputs": [],
   "source": [
    "import preproc_p.workflow_periodic_wells as workflow_periodic_wells"
   ]
  },
  {
   "cell_type": "code",
   "execution_count": null,
   "metadata": {},
   "outputs": [],
   "source": [
    "import os\n",
    "import sys\n",
    "sys.path.append('../../../')\n",
    "import pandas as pd\n",
    "import datetime\n",
    "from multiprocessing import Pool\n",
    "import plot_workflow.plotly_option as pltl_opt\n",
    "import plot_workflow.plotly_workflow as pltl_wf\n",
    "\n",
    "from preproc_p import workflow_cs_data\n",
    "from preproc_p import workflow_chess_data\n",
    "from preproc_p import preproc_tool\n",
    "from preproc_p import workflow_calc_data\n",
    "from preproc_p import workflow_tr_data\n",
    "from preproc_p import filtration\n",
    "from preproc_p import workflow_periodic_wells"
   ]
  },
  {
   "cell_type": "code",
   "execution_count": null,
   "metadata": {},
   "outputs": [],
   "source": [
    "gn = global_names = preproc_tool.GlobalNames()"
   ]
  },
  {
   "cell_type": "markdown",
   "metadata": {},
   "source": [
    "## Парсинг экселей"
   ]
  },
  {
   "cell_type": "code",
   "execution_count": null,
   "metadata": {},
   "outputs": [],
   "source": [
    "files = preproc_tool.find_full_path_by_pattern(r'E:\\Данные\\2020_04_ноябрьск_су\\data_sort\\arh', \"*.*\",'.xlsx')"
   ]
  },
  {
   "cell_type": "code",
   "execution_count": null,
   "metadata": {},
   "outputs": [],
   "source": [
    "len(files)"
   ]
  },
  {
   "cell_type": "code",
   "execution_count": null,
   "metadata": {},
   "outputs": [],
   "source": [
    "path_to_save = r'E:\\Данные\\2020_04_ноябрьск_су\\02_19_2020\\csv'"
   ]
  },
  {
   "cell_type": "code",
   "execution_count": null,
   "metadata": {},
   "outputs": [],
   "source": [
    "#парсинг файликов\n",
    "for i in files:\n",
    "    try:\n",
    "        print(i)\n",
    "        this_file = workflow_cs_data.parse_cs_data_all_types(i)\n",
    "        new_file_name = path_to_save + '\\\\' + i.split('\\\\')[-1].replace('xlsx', 'csv')\n",
    "        this_file.to_csv(new_file_name)\n",
    "        print('\\n')\n",
    "    except:\n",
    "        print('!!!!')\n",
    "        print(f\"Не распарсился файл {i}\")\n",
    "        print('!!!!')\n",
    "        print('\\n')\n",
    "    "
   ]
  },
  {
   "cell_type": "markdown",
   "metadata": {},
   "source": [
    "## Построение графиков"
   ]
  },
  {
   "cell_type": "code",
   "execution_count": null,
   "metadata": {},
   "outputs": [],
   "source": [
    "files_to_plot = preproc_tool.find_full_path_by_pattern(r'E:\\Данные\\2020_04_ноябрьск_су\\clear_dataset_04_14_2020', '*.*','csv')"
   ]
  },
  {
   "cell_type": "code",
   "execution_count": null,
   "metadata": {},
   "outputs": [],
   "source": [
    "for i in files_to_plot:\n",
    "    for j in files:\n",
    "        if i.split('\\\\')[-1].replace('.csv','') in j.split('\\\\')[-1]:\n",
    "            print(i)\n",
    "            this_df = pd.read_csv(i, index_col = [0], parse_dates = True)\n",
    "            #this_df.index = pd.to_datetime(this_df.index, format=\"%Y-%m-%d %H:%M:%S\")\n",
    "            banches = plotly_workflow.create_banches_for_report(this_df, this_df.columns)\n",
    "            plotly_workflow.create_report_html(this_df, banches, i + '.html', auto_open = False)"
   ]
  },
  {
   "cell_type": "markdown",
   "metadata": {},
   "source": [
    "## Анализ подготовленных данных .csv"
   ]
  },
  {
   "cell_type": "code",
   "execution_count": null,
   "metadata": {},
   "outputs": [],
   "source": [
    "files = preproc_tool.find_full_path_by_pattern(r'E:\\Данные\\2020_04_ноябрьск_су\\dataset_to_use\\04_14_2020', \"*.*\",'.csv')"
   ]
  },
  {
   "cell_type": "code",
   "execution_count": null,
   "metadata": {},
   "outputs": [],
   "source": [
    "parameters = [ gn.q_liq_m3day, gn.q_oil_mass_tday, gn.q_gas_m3day,\n",
    "              gn.active_power_kwt, gn.i_a_motor_a, gn.motor_load_perc, gn.freq_hz, gn.cos_phi_d,\n",
    "             gn.p_intake_atm, gn.p_lin_atm, gn.t_intake_c, gn.t_motor_c,\n",
    "              gn.vibration_xy_msec2, gn.vibration_z_msec2,\n",
    "             \"Рабочая доля времени\", gn.work_status_number]"
   ]
  },
  {
   "cell_type": "code",
   "execution_count": null,
   "metadata": {},
   "outputs": [],
   "source": []
  }
 ],
 "metadata": {
  "kernelspec": {
   "display_name": "Python 3",
   "language": "python",
   "name": "python3"
  },
  "language_info": {
   "codemirror_mode": {
    "name": "ipython",
    "version": 3
   },
   "file_extension": ".py",
   "mimetype": "text/x-python",
   "name": "python",
   "nbconvert_exporter": "python",
   "pygments_lexer": "ipython3",
   "version": "3.7.6"
  }
 },
 "nbformat": 4,
 "nbformat_minor": 4
}
