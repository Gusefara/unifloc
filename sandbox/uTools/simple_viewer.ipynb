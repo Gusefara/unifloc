{
 "cells": [
  {
   "cell_type": "code",
   "execution_count": null,
   "metadata": {},
   "outputs": [],
   "source": [
    "import pandas as pd\n",
    "import matplotlib.pyplot as plt\n",
    "import numpy as np\n",
    "\n",
    "import plotly.plotly as py\n",
    "import plotly.graph_objs as go\n",
    "import plotly.graph_objs as go\n",
    "from plotly.offline import download_plotlyjs, init_notebook_mode, plot, iplot\n",
    "from plotly import tools\n",
    "init_notebook_mode(connected=True)\n",
    "\n",
    "from datetime import date"
   ]
  },
  {
   "cell_type": "code",
   "execution_count": null,
   "metadata": {},
   "outputs": [],
   "source": [
    "year_start = 2019\n",
    "month_start = 2\n",
    "day_start = 21\n",
    "hour_start = 0\n",
    "date_from = pd.to_datetime(pd.DataFrame({'year': [year_start],\n",
    "                           'month': [month_start],\n",
    "                           'day': [day_start],\n",
    "                            'hour': [hour_start]}))\n",
    "date_from.iloc[0]"
   ]
  },
  {
   "cell_type": "code",
   "execution_count": null,
   "metadata": {},
   "outputs": [],
   "source": [
    "#test = pd.read_csv(\"edited_kobzar2.csv\", index_col = \"2\")"
   ]
  },
  {
   "cell_type": "code",
   "execution_count": null,
   "metadata": {},
   "outputs": [],
   "source": [
    "#test.head()"
   ]
  },
  {
   "cell_type": "code",
   "execution_count": null,
   "metadata": {},
   "outputs": [],
   "source": [
    "#test.index = pd.to_datetime(test.index)"
   ]
  },
  {
   "cell_type": "code",
   "execution_count": null,
   "metadata": {},
   "outputs": [],
   "source": [
    "#small_test = test[test.index > date_from.iloc[0]]"
   ]
  },
  {
   "cell_type": "code",
   "execution_count": null,
   "metadata": {},
   "outputs": [],
   "source": [
    "#small_test"
   ]
  },
  {
   "cell_type": "code",
   "execution_count": null,
   "metadata": {},
   "outputs": [],
   "source": [
    "#small_test.to_csv('small_part_to_analyze.csv')"
   ]
  },
  {
   "cell_type": "code",
   "execution_count": null,
   "metadata": {},
   "outputs": [],
   "source": [
    "print(loaded_file[\" Давление на приеме насоса (масло двигателя)\"])"
   ]
  },
  {
   "cell_type": "code",
   "execution_count": null,
   "metadata": {},
   "outputs": [],
   "source": [
    "loaded_file = pd.read_csv('small_part_to_analyze.csv', index_col = '2')\n",
    "loaded_file.index = pd.to_datetime(loaded_file.index)"
   ]
  },
  {
   "cell_type": "code",
   "execution_count": null,
   "metadata": {},
   "outputs": [],
   "source": [
    "loaded_file.head()"
   ]
  },
  {
   "cell_type": "code",
   "execution_count": null,
   "metadata": {},
   "outputs": [],
   "source": [
    "loaded_file.columns"
   ]
  },
  {
   "cell_type": "code",
   "execution_count": null,
   "metadata": {},
   "outputs": [],
   "source": [
    "#for i, name in enumerate(loaded_file.columns):\n",
    "#    print(str(i) + '  -  ' + name)"
   ]
  },
  {
   "cell_type": "code",
   "execution_count": null,
   "metadata": {},
   "outputs": [],
   "source": [
    "needed_param_numbers = [0,14,19,22,24,25,28,29,30,33,34,35,36,38,40]\n",
    "needed_param_list = []\n",
    "for i in needed_param_numbers:\n",
    "    needed_param_list.append(loaded_file.columns[i])\n",
    "for i, name in enumerate(needed_param_list):\n",
    "    print(str(i) + '  -  ' + name)"
   ]
  },
  {
   "cell_type": "code",
   "execution_count": null,
   "metadata": {},
   "outputs": [],
   "source": [
    "#loaded_file.info()"
   ]
  },
  {
   "cell_type": "code",
   "execution_count": null,
   "metadata": {},
   "outputs": [],
   "source": [
    "volume_wat_rate_column_name = needed_param_list[11]\n",
    "trace1 = go.Scattergl(\n",
    "    x = loaded_file.index,\n",
    "    y = loaded_file[volume_wat_rate_column_name],\n",
    "    name = volume_wat_rate_column_name,\n",
    "    mode = 'markers'\n",
    ")\n",
    "\n",
    "volume_oil_rate_column_name = needed_param_list[14]\n",
    "trace2 = go.Scattergl(\n",
    "    x = loaded_file.index,\n",
    "    y = loaded_file[volume_oil_rate_column_name],\n",
    "    name = volume_oil_rate_column_name,\n",
    "    mode = 'markers'\n",
    ")\n",
    "volume_liq_rate_column_name = needed_param_list[13]\n",
    "trace3 = go.Scattergl(\n",
    "    x = loaded_file.index,\n",
    "    y = loaded_file[volume_liq_rate_column_name],\n",
    "    name = volume_liq_rate_column_name,\n",
    "    mode = 'markers'\n",
    ")\n",
    "\n",
    "\n",
    "data = [trace1, trace2, trace3]\n",
    "\n",
    "\n",
    "layout = dict(title = 'Объемные дебиты'\n",
    "             )\n",
    "\n",
    "fig = dict(data=data, layout=layout)\n",
    "\n",
    "iplot(fig, filename='basic-scatter')"
   ]
  },
  {
   "cell_type": "code",
   "execution_count": null,
   "metadata": {},
   "outputs": [],
   "source": [
    "check_resample = loaded_file.resample('1d').mean()"
   ]
  },
  {
   "cell_type": "code",
   "execution_count": null,
   "metadata": {},
   "outputs": [],
   "source": [
    "check_resample"
   ]
  },
  {
   "cell_type": "code",
   "execution_count": null,
   "metadata": {},
   "outputs": [],
   "source": [
    "simple_resulted_data = check_resample[needed_param_list[0]]"
   ]
  },
  {
   "cell_type": "code",
   "execution_count": null,
   "metadata": {},
   "outputs": [],
   "source": [
    "for i in check_resample.columns:\n",
    "    if i not in needed_param_list:\n",
    "        del check_resample[i]"
   ]
  },
  {
   "cell_type": "code",
   "execution_count": null,
   "metadata": {},
   "outputs": [],
   "source": [
    "check_resample"
   ]
  },
  {
   "cell_type": "code",
   "execution_count": null,
   "metadata": {},
   "outputs": [],
   "source": [
    "check_resample.to_csv(\"resampled_small_data.csv\")"
   ]
  },
  {
   "cell_type": "code",
   "execution_count": null,
   "metadata": {},
   "outputs": [],
   "source": [
    "check_resample = pd.read_csv(\"resampled_small_data.csv\", index_col = '2')"
   ]
  },
  {
   "cell_type": "code",
   "execution_count": null,
   "metadata": {},
   "outputs": [],
   "source": [
    "check_resample.head()"
   ]
  },
  {
   "cell_type": "code",
   "execution_count": null,
   "metadata": {},
   "outputs": [],
   "source": []
  }
 ],
 "metadata": {
  "kernelspec": {
   "display_name": "Python 3",
   "language": "python",
   "name": "python3"
  },
  "language_info": {
   "codemirror_mode": {
    "name": "ipython",
    "version": 3
   },
   "file_extension": ".py",
   "mimetype": "text/x-python",
   "name": "python",
   "nbconvert_exporter": "python",
   "pygments_lexer": "ipython3",
   "version": "3.7.3"
  }
 },
 "nbformat": 4,
 "nbformat_minor": 2
}
