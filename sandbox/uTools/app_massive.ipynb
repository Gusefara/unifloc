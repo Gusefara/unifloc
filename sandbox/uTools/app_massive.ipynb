{
 "cells": [
  {
   "cell_type": "markdown",
   "metadata": {},
   "source": [
    "# Тетрадка\n",
    "\n",
    "тетрадка для подведения итогов расчета"
   ]
  },
  {
   "cell_type": "code",
   "execution_count": null,
   "metadata": {},
   "outputs": [],
   "source": [
    "import os\n",
    "import sys\n",
    "sys.path.append('../../../')\n",
    "import pandas as pd\n",
    "import unifloc.uniflocpy.uTools.plotly_workflow as pw\n",
    "import datetime\n",
    "from multiprocessing import Pool"
   ]
  },
  {
   "cell_type": "code",
   "execution_count": null,
   "metadata": {},
   "outputs": [],
   "source": [
    "import plot_workflow.plotly_option as pltl_opt\n",
    "import plot_workflow.plotly_workflow as pltl_wf\n",
    "\n",
    "from preproc_p import workflow_cs_data\n",
    "from preproc_p import workflow_chess_data\n",
    "from preproc_p import preproc_tool\n",
    "from preproc_p import workflow_calc_data\n",
    "from preproc_p import workflow_tr_data\n",
    "from preproc_p import filtration\n",
    "from proc_p import processor as proc\n",
    "\n",
    "from ml import calibr_restore as calibr_restore\n",
    "from postproc_p import result_and_metrics as result_and_metrics"
   ]
  },
  {
   "cell_type": "code",
   "execution_count": null,
   "metadata": {},
   "outputs": [],
   "source": [
    "current_path = os.getcwd()\n",
    "time_mark = '' #datetime.datetime.today().strftime('%Y_%m_%d_%H_%M_%S')\n",
    "path_to_data = current_path + \"\\\\data\\\\\"\n",
    "dirnames_list = []\n",
    "for (dirpath, dirnames, filenames) in os.walk(path_to_data):\n",
    "    dirnames_list.extend(dirnames)\n",
    "    break\n",
    "print(dirnames_list)"
   ]
  },
  {
   "cell_type": "code",
   "execution_count": null,
   "metadata": {},
   "outputs": [],
   "source": [
    "calculated_wells = ['1354', '1479', '1509', '1540', '1567', '1602', '1628', \n",
    "                    '252', '326', '353', '507', '540', '569', '570',\n",
    "                    '601', '627', '658', '689', '693']"
   ]
  },
  {
   "cell_type": "code",
   "execution_count": null,
   "metadata": {},
   "outputs": [],
   "source": [
    "metrics = []\n",
    "overall_data_list = []\n",
    "for well_name in calculated_wells:\n",
    "    \n",
    "    path_to_work_dir = current_path + \"\\\\data\\\\\" + well_name +  \"\\\\\"\n",
    "    path_to_adapt_dir = 'adaptation_' + '\\\\'\n",
    "    path_to_restore_dir = 'restore_' + '\\\\'\n",
    "    \n",
    "    adapt_data_with_input = pd.read_csv(path_to_work_dir + path_to_adapt_dir + well_name + '_calc_and_input' + '.csv' , parse_dates = True, index_col = 'Время')\n",
    "    adapt_data_with_input = preproc_tool.mark_df_columns(adapt_data_with_input, 'ADAPT')\n",
    "    restore_data_with_input = pd.read_csv(path_to_work_dir + path_to_restore_dir + well_name + '_calc_and_input' + '.csv' , parse_dates = True, index_col = 'Время')\n",
    "    restore_data_with_input = preproc_tool.mark_df_columns(restore_data_with_input, 'RESTORE')\n",
    "    overall_data = adapt_data_with_input.join(restore_data_with_input, how = 'outer')\n",
    "    \n",
    "    q_liq = overall_data[['Объемный дебит жидкости (СУ) (ADAPT)', 'Активная мощность (СУ) (ADAPT)']]\n",
    "    result = preproc_tool.make_gaps_and_interpolate(q_liq)\n",
    "    result = preproc_tool.mark_df_columns(result, 'INTERP')\n",
    "    overall_data = overall_data.join(result)\n",
    "    \n",
    "    overall_data = result_and_metrics.final_edit_overall_data(overall_data)\n",
    "    \n",
    "    overall_data_list.append(overall_data)\n",
    "    \n",
    "    calibr_calc_metrics, interp_calc_metrics = result_and_metrics.calc_calibr_interp_metrics(overall_data)\n",
    "    \n",
    "    tr_name = \"Техрежим, , февраль 2019.xls\"\n",
    "    \n",
    "    tr_file_full_path = os.getcwd() + '\\\\data\\\\tr\\\\' + tr_name\n",
    "    tr_data = workflow_tr_data.read_tr_and_get_data(tr_file_full_path, well_name)\n",
    "    tr_data_df = pd.DataFrame({'Параметры скважины с ТР': list(tr_data.__dict__.values())})\n",
    "    tr_data_df.index = list(tr_data.__dict__.keys())\n",
    "    \n",
    "    \n",
    "    overall_metrics = result_and_metrics.calc_calibr_interp_metrics(overall_data, return_df = True)\n",
    "\n",
    "    overall_metrics['ЭЦН'] = [tr_data.esp_name_str, tr_data.esp_name_str]\n",
    "    overall_metrics['ПЭД'] = [tr_data.motor_name_str, tr_data.motor_name_str]\n",
    "    overall_metrics['Кол-во точек (ADAPT)'] = [len(overall_data['К. калибровки по напору - множитель (Модель) (ADAPT)']), \n",
    "                                               len(overall_data['К. калибровки по напору - множитель (Модель) (ADAPT)'])]\n",
    "\n",
    "    overall_metrics.index = [well_name + ' (CALIBR)' , well_name + ' (INTERP)']\n",
    "    \n",
    "    metrics.append(overall_metrics)"
   ]
  },
  {
   "cell_type": "code",
   "execution_count": null,
   "metadata": {},
   "outputs": [],
   "source": [
    "result = metrics[0]\n",
    "for i in metrics[1:]:\n",
    "    result = result.append(i)\n",
    "    "
   ]
  },
  {
   "cell_type": "code",
   "execution_count": null,
   "metadata": {},
   "outputs": [],
   "source": [
    "result.to_excel('result.xlsx')"
   ]
  },
  {
   "cell_type": "code",
   "execution_count": null,
   "metadata": {},
   "outputs": [],
   "source": [
    "result = result[result.index.str.contains('CALIBR')]"
   ]
  },
  {
   "cell_type": "code",
   "execution_count": null,
   "metadata": {},
   "outputs": [],
   "source": [
    "import plotly.graph_objects as go\n",
    "from plotly.offline import download_plotlyjs, plot, iplot\n",
    "from plotly.subplots import make_subplots\n"
   ]
  },
  {
   "cell_type": "code",
   "execution_count": null,
   "metadata": {},
   "outputs": [],
   "source": [
    "fig = make_subplots(\n",
    "    rows=len(result.columns), cols=1)\n",
    "for i in range(len(result.columns)):\n",
    "    column_name = result.columns[i]\n",
    "    x = result.index\n",
    "    y = result[column_name]\n",
    "    trace = go.Bar(x=x, y=y, name=column_name)\n",
    "    i = i+1\n",
    "    fig.add_trace(trace,\n",
    "                  row=i, col=1)\n",
    "\n",
    "\n",
    "\n",
    "fig.update_layout(height=len(result.columns) * 500,showlegend=True)\n",
    "plot(fig, filename ='result' +  '.html')\n"
   ]
  },
  {
   "cell_type": "markdown",
   "metadata": {},
   "source": [
    "Построение различных параметров для всех скважин на одном графике"
   ]
  },
  {
   "cell_type": "code",
   "execution_count": null,
   "metadata": {},
   "outputs": [],
   "source": [
    "wells_result = overall_data_list[0][['К. калибровки по напору - множитель (Модель) (ADAPT)', \n",
    "                                    'К. калибровки по мощности - множитель (Модель) (ADAPT)',\n",
    "                                    'Рлин ТМ (Ш) (ADAPT)', 'Линейное давление (СУ) (ADAPT)', 'Dшт (Ш) (ADAPT)']]\n",
    "wells_result.columns = ['К. напор ' + calculated_wells[0] , \n",
    "                        'К. мощность ' + calculated_wells[0], \n",
    "                        'Рлин ТМ (Ш) (ADAPT) ' + calculated_wells[0], \n",
    "                        'Линейное давление (СУ) (ADAPT) ' + calculated_wells[0], \n",
    "                        'Dшт (Ш) (ADAPT) ' +  calculated_wells[0]]"
   ]
  },
  {
   "cell_type": "code",
   "execution_count": null,
   "metadata": {},
   "outputs": [],
   "source": [
    "for i, j in zip(calculated_wells[1:], overall_data_list[1:]):\n",
    "    new_result = j[['К. калибровки по напору - множитель (Модель) (ADAPT)', \n",
    "                        'К. калибровки по мощности - множитель (Модель) (ADAPT)',\n",
    "                    'Рлин ТМ (Ш) (ADAPT)', 'Линейное давление (СУ) (ADAPT)'\n",
    "                   ,\n",
    "                    'Dшт (Ш) (ADAPT)']]\n",
    "    new_result.columns = ['К. напор ' + i , 'К. мощность ' + i,\n",
    "                          'Рлин ТМ (Ш) (ADAPT) ' + i,\n",
    "                          'Линейное давление (СУ) (ADAPT) ' + i,\n",
    "                          'Dшт (Ш) (ADAPT) ' + i]\n",
    "    wells_result = wells_result.join(new_result, how = 'outer')"
   ]
  },
  {
   "cell_type": "code",
   "execution_count": null,
   "metadata": {},
   "outputs": [],
   "source": [
    "calibr_head = wells_result[wells_result.columns[wells_result.columns.str.contains('давление')]]"
   ]
  },
  {
   "cell_type": "code",
   "execution_count": null,
   "metadata": {},
   "outputs": [],
   "source": [
    "calibr_head = result_and_metrics.make_dimensionless_df(calibr_head)"
   ]
  },
  {
   "cell_type": "code",
   "execution_count": null,
   "metadata": {},
   "outputs": [],
   "source": [
    "traces = pltl_wf.create_traces_list_for_all_columms(calibr_head, 'lines+markers', True)"
   ]
  },
  {
   "cell_type": "code",
   "execution_count": null,
   "metadata": {},
   "outputs": [],
   "source": [
    "pltl_wf.plot_func(traces, 'calibr_head', 'calibr_head.html')"
   ]
  },
  {
   "cell_type": "code",
   "execution_count": null,
   "metadata": {},
   "outputs": [],
   "source": []
  }
 ],
 "metadata": {
  "kernelspec": {
   "display_name": "Python 3",
   "language": "python",
   "name": "python3"
  },
  "language_info": {
   "codemirror_mode": {
    "name": "ipython",
    "version": 3
   },
   "file_extension": ".py",
   "mimetype": "text/x-python",
   "name": "python",
   "nbconvert_exporter": "python",
   "pygments_lexer": "ipython3",
   "version": "3.7.4"
  }
 },
 "nbformat": 4,
 "nbformat_minor": 2
}
