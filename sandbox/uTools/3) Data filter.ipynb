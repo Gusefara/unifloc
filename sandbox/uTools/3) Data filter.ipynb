{
 "cells": [
  {
   "cell_type": "code",
   "execution_count": null,
   "metadata": {},
   "outputs": [],
   "source": [
    "import os\n",
    "import pandas as pd\n",
    "import numpy as np\n",
    "import preprocessor as prep\n",
    "import postprocessor as postp\n",
    "import processor as proc\n",
    "import pandas as pd\n",
    "import unifloc.uniflocpy.uTools.plotly_workflow as pw\n",
    "import datetime\n",
    "from sklearn import metrics\n",
    "import multiprocessing as mp\n",
    "from multiprocessing import Pool\n",
    "from preprocessor import load_and_edit_chess_data\n",
    "import seaborn as sns\n",
    "\n",
    "from sklearn import metrics\n",
    "from sklearn import linear_model\n",
    "from sklearn.model_selection import train_test_split\n",
    "from sklearn.model_selection import GridSearchCV\n",
    "import numpy as np\n",
    "from sklearn import metrics\n",
    "from sklearn.preprocessing import StandardScaler\n",
    "import matplotlib.pyplot as plt\n",
    "from scipy import stats\n",
    "from sklearn.decomposition import PCA\n",
    "from pandas.api.types import is_numeric_dtype"
   ]
  },
  {
   "cell_type": "markdown",
   "metadata": {},
   "source": [
    "В этой тетрадке разберёмся с `фильтрацией`.\n",
    "\n",
    "Для начала зафиксируем время замера, меньше которого всё плохо, по нашему мнению  и посмотрим графики, а также долю данных, которую придётся отбросить"
   ]
  },
  {
   "cell_type": "code",
   "execution_count": null,
   "metadata": {
    "scrolled": true
   },
   "outputs": [],
   "source": [
    "time_err = 55\n",
    "for well_name in well_names:\n",
    "    ad_inp = pd.read_csv(f'data/{well_name}/adapt_input{mark}/{well_name}_adapt_input.csv')\n",
    "    plt.scatter(ad_inp['Объемный дебит жидкости (СУ)'], ad_inp['Время замера фактическое (СУ)'])\n",
    "    plt.xlabel('Дебит')\n",
    "    plt.ylabel('Время замера')\n",
    "    plt.title('Well '+well_name)\n",
    "    plt.show()\n",
    "    sns.distplot(ad_inp['Время замера фактическое (СУ)'], kde=False, rug=True);\n",
    "    plt.title('Well '+well_name+', time measuring distribution')\n",
    "    plt.show()\n",
    "    s = 0.\n",
    "    for i in ad_inp['Время замера фактическое (СУ)']:\n",
    "        if i < time_err:\n",
    "            s += 1\n",
    "    print(f'well {well_name}, data loss on measuring time\\n{s/len(ad_inp[\"Время замера фактическое (СУ)\"])*100}%')"
   ]
  },
  {
   "cell_type": "markdown",
   "metadata": {},
   "source": [
    "Понятно, что ничего не понятно, для разных скважин нужно выставить разные порги. Так, например, на скважне `1567` имеетют место реально плохие точи, котрые нужно выкалывать, а на скважне `1602` больше половины данных замерены за 60мин"
   ]
  },
  {
   "cell_type": "code",
   "execution_count": null,
   "metadata": {},
   "outputs": [],
   "source": [
    "critical_time_well = {'569': 30,\n",
    "                      '601': 30,\n",
    "                      '1354': 30,\n",
    "                      '1567': 30,\n",
    "                      '1602': 30,\n",
    "                      '1628': 30\n",
    "                     }"
   ]
  },
  {
   "cell_type": "markdown",
   "metadata": {},
   "source": [
    "В первом приближении отсечём данные по времени замера. И сразу же сохраним данные"
   ]
  },
  {
   "cell_type": "code",
   "execution_count": null,
   "metadata": {
    "scrolled": true
   },
   "outputs": [],
   "source": [
    "for well_name in well_names:\n",
    "    time_err = critical_time_well[well_name]\n",
    "    print(f'Well {well_name}\\nCritical measuring time={time_err}')\n",
    "    ad_inp = pd.read_csv(f'data/{well_name}/adapt_input{mark}/{well_name}_adapt_input.csv')\n",
    "    #ad_inp = ad_inp[ad_inp['Время замера фактическое (СУ)'] > time_err]\n",
    "    debt = ad_inp['Объемный дебит жидкости (СУ)']\n",
    "    measuring = ad_inp['Время замера фактическое (СУ)']\n",
    "    plt.scatter(debt, measuring)\n",
    "    plt.xlabel('Дебит')\n",
    "    plt.ylabel('Время замера')\n",
    "    plt.title('Well '+well_name)\n",
    "    plt.show()\n",
    "    sns.distplot(measuring, kde=False, rug=True);\n",
    "    plt.title('Well '+well_name+', time measuring distribution')\n",
    "    plt.show()\n",
    "    ad_inp.to_csv(f'data/{well_name}/adapt_input{mark}/{well_name}_adapt_input.csv')"
   ]
  },
  {
   "cell_type": "markdown",
   "metadata": {},
   "source": [
    "В первом приближении построим функцию, которая очищает данные, по выставленной границе по замерам"
   ]
  }
 ],
 "metadata": {
  "kernelspec": {
   "display_name": "Python 3",
   "language": "python",
   "name": "python3"
  },
  "language_info": {
   "codemirror_mode": {
    "name": "ipython",
    "version": 3
   },
   "file_extension": ".py",
   "mimetype": "text/x-python",
   "name": "python",
   "nbconvert_exporter": "python",
   "pygments_lexer": "ipython3",
   "version": "3.7.3"
  }
 },
 "nbformat": 4,
 "nbformat_minor": 2
}
