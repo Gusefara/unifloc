{
 "cells": [
  {
   "cell_type": "markdown",
   "metadata": {},
   "source": [
    "Начинаю сохранять поделки. Небольшое начало - восстановление ошибки от наивной ESP модели с дефолтными параметрами.\n",
    "\n",
    "Для этого должен существовать такой файл `data/{well}/restore_input_/{well}_restore_input.csv`\n",
    "\n",
    "# Продемонстрирую запуск этого \"Процессора\"\n",
    "\n",
    "В текущей директории запускаем `Error_prediction_explainer_py.py`, с него гораздо удобней запускать чем в тетрадке\n",
    "\n",
    "в папке с 'restore' появилась новая папка для мультипроцессинга. Сошьем это всё"
   ]
  },
  {
   "cell_type": "code",
   "execution_count": null,
   "metadata": {},
   "outputs": [],
   "source": [
    "import os\n",
    "import pandas as pd\n",
    "import preprocessor as prep\n",
    "import numpy as np\n",
    "\n",
    "from Error_prediction import MLPrepro\n",
    "from sklearn.preprocessing import StandardScaler\n",
    "from sklearn import linear_model\n",
    "from sklearn.model_selection import GridSearchCV\n",
    "from sklearn import metrics\n",
    "\n",
    "import matplotlib.pyplot as plt"
   ]
  },
  {
   "cell_type": "code",
   "execution_count": null,
   "metadata": {},
   "outputs": [],
   "source": [
    "well = 252\n",
    "multiprocessing_on = True\n",
    "if multiprocessing_on == True:\n",
    "    filenames_list = []\n",
    "    for (dirpath, dirnames, filenames) in os.walk(f'data/{well}/restore_/multiprocessing__err_prediction'):\n",
    "        filenames_list.extend(filenames)\n",
    "        break\n",
    "    print(filenames_list)\n",
    "    for i,j in enumerate(filenames_list):\n",
    "        if i == 0:\n",
    "            first_result_data = pd.read_csv(f'data/{well}/restore_/multiprocessing__err_prediction/{j}',\n",
    "                                            parse_dates = True, index_col = 'Время')\n",
    "        else:\n",
    "            another_result_data = pd.read_csv(f'data/{well}/restore_/multiprocessing__err_prediction/{j}',\n",
    "                                              parse_dates = True, index_col = 'Время')\n",
    "            first_result_data = first_result_data.append(another_result_data, sort = True)\n",
    "            del first_result_data['d']\n",
    "            first_result_data = first_result_data.dropna(subset = ['ESP.ESPpump.EffiencyESP_d'])\n",
    "    first_result_data.to_csv(f'data/{well_name}/restore_/{well_name}_restore_1_error_pred.csv')"
   ]
  },
  {
   "cell_type": "markdown",
   "metadata": {},
   "source": [
    "Теперь есть `{well}_restore_1_error_pred`, им мы и будем пользоваться"
   ]
  },
  {
   "cell_type": "code",
   "execution_count": null,
   "metadata": {},
   "outputs": [],
   "source": [
    "calculated_data = prep.load_calculated_data_from_csv(f'data/{well}/restore_/{well}_restore_1_error_pred.csv')\n",
    "input_data = pd.read_csv(f'data/{well_name}/restore_input_/{well_name}_restore_input.csv',\n",
    "                         parse_dates=True, index_col = 'Время')\n",
    "all_data = input_data.join(calculated_data, how = 'outer')\n",
    "all_data.to_csv(f'data/{well}/restore_/{well}_calc_and_input.csv')\n",
    "all_data.sort_index(inplace=True)"
   ]
  },
  {
   "cell_type": "markdown",
   "metadata": {},
   "source": [
    "# Теперь настраиваем регрессию на ошибку"
   ]
  },
  {
   "cell_type": "code",
   "execution_count": null,
   "metadata": {},
   "outputs": [],
   "source": [
    "x = all_data[['ГФ (СУ)',\n",
    "              'Процент обводненности (СУ)',\n",
    "              'Давление на приеме насоса (пласт. жидкость) (СУ)',\n",
    "              'Рбуф (Ш)', 'Температура на приеме насоса (пласт. жидкость) (СУ)',\n",
    "              'F вращ ТМ (Ш)', 'Dшт (Ш)',\n",
    "              'Активная мощность (СУ)',\n",
    "              'Напряжение на выходе ТМПН (СУ)',\n",
    "              'Коэффициент мощности (СУ)',\n",
    "              'Объемный дебит жидкости (СУ)',\n",
    "              'Q ж, м3/сут (Модель)',\n",
    "              'F вращ ТМ (Ш)'\n",
    "             ]\n",
    "            ].copy()\n",
    "\n",
    "\n",
    "print(f'number of NaN values: {np.isnan(x.values).sum()}/{x.shape[0]}')\n",
    "x.dropna(inplace=True)\n",
    "data = x.dropna()\n",
    "\n",
    "y = pd.Series(x['Объемный дебит жидкости (СУ)'].values - x['Q ж, м3/сут (Модель)'].values)\n",
    "x.drop(columns=['Объемный дебит жидкости (СУ)', 'Q ж, м3/сут (Модель)'], inplace=True)"
   ]
  },
  {
   "cell_type": "markdown",
   "metadata": {},
   "source": [
    "Разобьём данные на тестовые и для обучения"
   ]
  },
  {
   "cell_type": "code",
   "execution_count": null,
   "metadata": {},
   "outputs": [],
   "source": [
    "date_col = x.index\n",
    "x.reset_index(drop=True, inplace=True)\n",
    "\n",
    "x_train, x_test, y_train, y_test = MLPrepro.get_test_train_drop_2_points(x, y)"
   ]
  },
  {
   "cell_type": "markdown",
   "metadata": {},
   "source": [
    "Масштабируем данные"
   ]
  },
  {
   "cell_type": "code",
   "execution_count": null,
   "metadata": {},
   "outputs": [],
   "source": [
    "y_test = y_test.values.reshape((-1, 1))\n",
    "y_train = y_train.values.reshape((-1, 1))\n",
    "\n",
    "sc_x = StandardScaler()\n",
    "sc_x.fit(x_train)\n",
    "\n",
    "sc_y = StandardScaler()\n",
    "sc_y.fit(y_train)\n",
    "\n",
    "x_train_sc = sc_x.transform(x_train)\n",
    "x_test_sc = sc_x.transform(x_test)\n",
    "\n",
    "y_train_sc = sc_y.transform(y_train)\n",
    "y_test_sc = sc_y.transform(y_test)"
   ]
  },
  {
   "cell_type": "markdown",
   "metadata": {},
   "source": [
    "Подбираем параметр регуляризатора"
   ]
  },
  {
   "cell_type": "code",
   "execution_count": null,
   "metadata": {},
   "outputs": [],
   "source": [
    "parameters = {'alpha': np.linspace(1e-7, 30, 1000)}\n",
    "\n",
    "r_est = linear_model.Ridge()\n",
    "gs_cv = GridSearchCV(r_est, parameters, cv=7)\n",
    "_ = gs_cv.fit(x_train_sc, y_train_sc)\n",
    "b_r_est = gs_cv.best_estimator_\n",
    "predicted_err = sc_y.inverse_transform(b_r_est.predict(sc_x.transform(x)))"
   ]
  },
  {
   "cell_type": "code",
   "execution_count": null,
   "metadata": {},
   "outputs": [],
   "source": [
    "plt.plot(date_col, predicted_err[:, 0] + data['Q ж, м3/сут (Модель)'].values, label='predicted')\n",
    "plt.plot(date_col, data['Объемный дебит жидкости (СУ)'], label='y_true')\n",
    "plt.legend(loc='upper right', bbox_to_anchor=(1.24, 0.8))\n",
    "plt.xlabel('date')\n",
    "plt.ylabel('q_liq, m3/day')\n",
    "plt.show()"
   ]
  },
  {
   "cell_type": "code",
   "execution_count": null,
   "metadata": {},
   "outputs": [],
   "source": [
    "err = metrics.mean_absolute_error(predicted_err[:, 0] + data[\"Q ж, м3/сут (Модель)\"].values,\n",
    "                                  data[\"Объемный дебит жидкости (СУ)\"])\n",
    "print(f'MAE_score in saled data: {err}')\n",
    "print(f'MAE_score as %:          {err/data[\"Объемный дебит жидкости (СУ)\"].mean() * 100}')"
   ]
  }
 ],
 "metadata": {
  "kernelspec": {
   "display_name": "Python 3",
   "language": "python",
   "name": "python3"
  },
  "language_info": {
   "codemirror_mode": {
    "name": "ipython",
    "version": 3
   },
   "file_extension": ".py",
   "mimetype": "text/x-python",
   "name": "python",
   "nbconvert_exporter": "python",
   "pygments_lexer": "ipython3",
   "version": "3.7.4"
  }
 },
 "nbformat": 4,
 "nbformat_minor": 2
}
