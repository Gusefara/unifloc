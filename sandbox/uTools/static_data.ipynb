{
 "cells": [
  {
   "cell_type": "code",
   "execution_count": null,
   "metadata": {},
   "outputs": [],
   "source": [
    "import os\n",
    "import sys\n",
    "sys.path.append('../../../')\n",
    "import pandas as pd\n",
    "import datetime\n",
    "from multiprocessing import Pool"
   ]
  },
  {
   "cell_type": "code",
   "execution_count": null,
   "metadata": {},
   "outputs": [],
   "source": [
    "import plot_workflow.plotly_option as pltl_opt\n",
    "import plot_workflow.plotly_workflow as pltl_wf\n",
    "\n",
    "from preproc_p import workflow_cs_data\n",
    "from preproc_p import workflow_chess_data\n",
    "from preproc_p import preproc_tool\n",
    "from preproc_p import workflow_calc_data\n",
    "from preproc_p import workflow_tr_data\n",
    "from preproc_p import filtration\n",
    "from proc_p import processor as proc\n",
    "\n",
    "from ml import calibr_restore as calibr_restore\n",
    "from postproc_p import result_and_metrics as result_and_metrics"
   ]
  },
  {
   "cell_type": "code",
   "execution_count": null,
   "metadata": {},
   "outputs": [],
   "source": [
    "static_data_path = preproc_tool.find_full_path_by_pattern(os.getcwd(), '*static_data.xlsx*')\n",
    "static_data_df = pd.read_excel(static_data_path[0])\n",
    "static_data_df.head()"
   ]
  },
  {
   "cell_type": "code",
   "execution_count": null,
   "metadata": {},
   "outputs": [],
   "source": [
    "static_data = workflow_tr_data.Static_data()"
   ]
  },
  {
   "cell_type": "code",
   "execution_count": null,
   "metadata": {},
   "outputs": [],
   "source": [
    "def fill_static_data_structure_by_df(static_data: workflow_tr_data.Static_data, \n",
    "                                     static_data_df: pd.DataFrame,\n",
    "                                     chosen_column_name: str):\n",
    "    this_static_data_series = static_data_df.set_index(static_data_df['Параметр'])[chosen_column_name]\n",
    "    static_data.d_cas_mm = this_static_data_series.d_cas_mm\n",
    "    static_data.d_tube_mm = this_static_data_series.d_tube_mm\n",
    "    static_data.udl_m = this_static_data_series.udl_m\n",
    "    \n",
    "    static_data.esp_nom_rate_m3day = this_static_data_series.esp_nom_rate_m3day\n",
    "    static_data.esp_nom_head_m = this_static_data_series.esp_nom_head_m\n",
    "    static_data.h_pump_m = this_static_data_series.h_pump_m\n",
    "    static_data.esp_name_str = this_static_data_series.esp_name_str\n",
    "    \n",
    "    static_data.i_motor_nom_a = this_static_data_series.i_motor_nom_a\n",
    "    static_data.motor_name_str = this_static_data_series.motor_name_str\n",
    "    static_data.power_motor_nom_kwt = this_static_data_series.power_motor_nom_kwt\n",
    "    \n",
    "    static_data.gamma_oil = this_static_data_series.gamma_oil\n",
    "    static_data.gamma_gas = this_static_data_series.gamma_gas\n",
    "    static_data.gamma_wat = this_static_data_series.gamma_wat\n",
    "    static_data.rsb_m3m3 = this_static_data_series.rsb_m3m3\n",
    "    static_data.tres_c = this_static_data_series.tres_c\n",
    "    static_data.pb_atm = this_static_data_series.pb_atm\n",
    "    static_data.bob_m3m3 = this_static_data_series.bob_m3m3\n",
    "    static_data.muob_cp = this_static_data_series.muob_cp\n",
    "    static_data.rp_m3m3 = this_static_data_series.rp_m3m3\n",
    "    \n",
    "    static_data.qliq_m3day_initial_guess = this_static_data_series.qliq_m3day_initial_guess\n",
    "    static_data.c_calibr_head_d_initial_guess = this_static_data_series.c_calibr_head_d_initial_guess\n",
    "    static_data.c_calibr_power_d_initial_guess = this_static_data_series.c_calibr_power_d_initial_guess\n",
    "    static_data.c_calibr_head_d_max_limit = this_static_data_series.c_calibr_head_d_max_limit\n",
    "    static_data.c_calibr_head_d_min_limit = this_static_data_series.c_calibr_head_d_min_limit\n",
    "    static_data.c_calibr_power_d_max_limit = this_static_data_series.c_calibr_power_d_max_limit\n",
    "    static_data.c_calibr_power_d_min_limit = this_static_data_series.c_calibr_power_d_min_limit\n",
    "    \n",
    "    return static_data\n",
    "    \n",
    "    "
   ]
  },
  {
   "cell_type": "code",
   "execution_count": null,
   "metadata": {},
   "outputs": [],
   "source": [
    "static_data.__dict__"
   ]
  },
  {
   "cell_type": "code",
   "execution_count": null,
   "metadata": {},
   "outputs": [],
   "source": [
    "tr_name = \"ТР Восточно Пякутинское Январь 2020.csv\""
   ]
  },
  {
   "cell_type": "code",
   "execution_count": null,
   "metadata": {},
   "outputs": [],
   "source": [
    "tr_full_path = preproc_tool.find_full_path_by_pattern(os.getcwd(), f\"*{tr_name}\")[0]"
   ]
  },
  {
   "cell_type": "code",
   "execution_count": null,
   "metadata": {},
   "outputs": [],
   "source": [
    "field = 'Восточно-Пякутинское'"
   ]
  },
  {
   "cell_type": "code",
   "execution_count": null,
   "metadata": {},
   "outputs": [],
   "source": [
    "pump_base = 'БОМД. Оборудование актуальных паспортов_Филиал Муравленковскнефть ОАО Газпромнефть-ННГ_30.12.2019.xlsx'\n",
    "pump_base_full_path = preproc_tool.find_full_path_by_pattern(os.getcwd(), f\"*{pump_base}\")[0]"
   ]
  },
  {
   "cell_type": "code",
   "execution_count": null,
   "metadata": {},
   "outputs": [],
   "source": [
    "well_name = '6016'"
   ]
  },
  {
   "cell_type": "code",
   "execution_count": null,
   "metadata": {},
   "outputs": [],
   "source": [
    "static_data = workflow_tr_data.read_tr_and_get_data(tr_full_path, well_name, pump_base_full_path, field)"
   ]
  },
  {
   "cell_type": "code",
   "execution_count": null,
   "metadata": {},
   "outputs": [],
   "source": [
    "static_data.__dict__"
   ]
  },
  {
   "cell_type": "code",
   "execution_count": null,
   "metadata": {},
   "outputs": [],
   "source": [
    "static_data = fill_static_data_structure_by_df(static_data, static_data_df, '6016 (ready)')"
   ]
  },
  {
   "cell_type": "code",
   "execution_count": null,
   "metadata": {},
   "outputs": [],
   "source": [
    "static_data.__dict__"
   ]
  },
  {
   "cell_type": "code",
   "execution_count": null,
   "metadata": {},
   "outputs": [],
   "source": [
    "static_data = workflow_tr_data.Static_data()\n",
    "static_data_df = pd.read_excel(static_data_path[0])\n",
    "static_data = workflow_tr_data.fill_static_data_structure_by_df(static_data, static_data_df, well_name + \" (ready)\")\n"
   ]
  },
  {
   "cell_type": "code",
   "execution_count": null,
   "metadata": {},
   "outputs": [],
   "source": [
    "static_data.__dict__"
   ]
  },
  {
   "cell_type": "code",
   "execution_count": null,
   "metadata": {},
   "outputs": [],
   "source": []
  }
 ],
 "metadata": {
  "kernelspec": {
   "display_name": "Python 3",
   "language": "python",
   "name": "python3"
  },
  "language_info": {
   "codemirror_mode": {
    "name": "ipython",
    "version": 3
   },
   "file_extension": ".py",
   "mimetype": "text/x-python",
   "name": "python",
   "nbconvert_exporter": "python",
   "pygments_lexer": "ipython3",
   "version": "3.7.6"
  }
 },
 "nbformat": 4,
 "nbformat_minor": 2
}
