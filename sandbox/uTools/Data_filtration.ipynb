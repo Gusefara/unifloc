{
 "cells": [
  {
   "cell_type": "markdown",
   "metadata": {},
   "source": [
    "В этой тетрадке я напишу свои мысли по поводу фильтрации"
   ]
  },
  {
   "cell_type": "code",
   "execution_count": null,
   "metadata": {},
   "outputs": [],
   "source": [
    "import pandas as pd\n",
    "import matplotlib.pyplot as plt\n",
    "import preprocessor as prep\n",
    "import matplotlib.dates as mdates\n",
    "from matplotlib.dates import DateFormatter\n",
    "import numpy as np\n",
    "\n",
    "from sklearn.preprocessing import MinMaxScaler"
   ]
  },
  {
   "cell_type": "markdown",
   "metadata": {},
   "source": [
    "Вот так выглядит двумерное распределение дебита от времени измерения. Но время замера протянуто впереёд, полную картину дадут исходные данные"
   ]
  },
  {
   "cell_type": "code",
   "execution_count": null,
   "metadata": {
    "scrolled": true
   },
   "outputs": [],
   "source": [
    "wells = [252, 658, 1479, 1509]\n",
    "well = 1509\n",
    "calculated_data = prep.load_calculated_data_from_csv(f'data/{well}/restore_ml/{well}_restore_1.csv')\n",
    "input_data = pd.read_csv(f'data/{well}/restore_input_ml/{well}_restore_input.csv',\n",
    "                         parse_dates=True, index_col = 'Время')\n",
    "all_data = input_data.join(calculated_data, how = 'outer')\n",
    "all_data.to_csv(f'data/{well}/restore_ml/{well}_calc_and_input.csv')\n",
    "\n",
    "plt.scatter(all_data['Объемный дебит жидкости (СУ)'], all_data['Время замера фактическое (СУ)'])\n",
    "plt.xlabel('Дебит')\n",
    "plt.ylabel('Время замера')\n",
    "plt.title(f'Well {well}')\n",
    "plt.show()\n",
    "print(len(all_data['Объемный дебит жидкости (СУ)']))"
   ]
  },
  {
   "cell_type": "code",
   "execution_count": null,
   "metadata": {},
   "outputs": [],
   "source": [
    "input_data.columns.values"
   ]
  },
  {
   "cell_type": "code",
   "execution_count": null,
   "metadata": {},
   "outputs": [],
   "source": [
    "pfig = plt.figure(figsize=(16,5))\n",
    "plt.scatter(all_data['Объемный дебит жидкости (СУ)'].index,\n",
    "            all_data['Объемный дебит жидкости (СУ)'].values.reshape((-1, 1)), c='red',\n",
    "            label='not filtered_data')\n",
    "plt.xlabel('Date')\n",
    "plt.ylabel('Q_liq')\n",
    "plt.title(f'Well {well}')\n",
    "plt.show()"
   ]
  },
  {
   "cell_type": "markdown",
   "metadata": {},
   "source": [
    "А вот так выглядят настоящие данные"
   ]
  },
  {
   "cell_type": "code",
   "execution_count": null,
   "metadata": {},
   "outputs": [],
   "source": [
    "cs_d = pd.read_csv(f'data/{well}/init_edit/{well}_first_edit.csv')"
   ]
  },
  {
   "cell_type": "code",
   "execution_count": null,
   "metadata": {
    "scrolled": true
   },
   "outputs": [],
   "source": [
    "type(cs_d.dropna(subset=['Объемный дебит жидкости'])['Время'])"
   ]
  },
  {
   "cell_type": "code",
   "execution_count": null,
   "metadata": {},
   "outputs": [],
   "source": [
    "\n",
    "\n",
    "sc = MinMaxScaler()\n",
    "# строим дебит\n",
    "fig = plt.figure(figsize=(16,10))\n",
    "ax =plt.subplot(2, 1, 1)\n",
    "ax.plot(pd.to_datetime(cs_d.dropna(subset=['Объемный дебит жидкости'])['Время']),\n",
    "         sc.fit_transform(cs_d['Объемный дебит жидкости'].dropna().values.reshape((-1, 1))),\n",
    "           label='Q_liq')\n",
    "\n",
    "sc_data  = cs_d[['Время замера фактическое', 'Время']].dropna().join(cs_d['Объемный дебит жидкости'].dropna().to_frame(),\n",
    "                                                                     how='inner')\n",
    "# строим флажки там где известно время замера\n",
    "ax.scatter(pd.to_datetime(sc_data.dropna(subset=['Объемный дебит жидкости'])['Время']),\n",
    "           sc.transform(sc_data['Объемный дебит жидкости'].dropna().values.reshape((-1, 1))), c='red',\n",
    "           label='known measuring time')\n",
    "\n",
    "ax.set(xlabel='Date: day/month', ylabel='scaled to (0;1) values',\n",
    "       title=f'Q_liq and true measurs of measuring time, well={well}, first_edit'\n",
    "      )\n",
    "plt.legend(loc='upper right')\n",
    "ax.xaxis.set_major_formatter(DateFormatter('%d/%m'))\n",
    "plt.show()\n",
    "\n",
    "\n",
    "fig = plt.figure(figsize=(16,10))           \n",
    "ax =plt.subplot(2, 1, 2)\n",
    "ax.plot(pd.to_datetime(sc_data.dropna(subset=['Объемный дебит жидкости'])['Время'].values),\n",
    "            sc_data['Время замера фактическое'].dropna().values.reshape((-1, 1)), c='green',\n",
    "            label='known measuring time')\n",
    "ax.set(xlabel='Date: day/month', ylabel='seconds',\n",
    "           title=f'measuring_time, well={well}')\n",
    "plt.legend(loc='upper right')\n",
    "ax.xaxis.set_major_formatter(DateFormatter('%d/%m'))\n",
    "plt.show()\n",
    "\n",
    "known_part = sc_data[\"Объемный дебит жидкости\"].dropna().shape[0]/cs_d[\"Объемный дебит жидкости\"].dropna().shape[0]\n",
    "print(f'Известно замеров: {known_part*100}%')"
   ]
  },
  {
   "cell_type": "markdown",
   "metadata": {},
   "source": [
    "Видно, что замеры в области пика не производились, это наводит на мысль, что делать выводы о некорректности замеров только лишь по времени замера - некорректно, из-за отсутствия адекватного набора данных\n",
    "\n",
    "Будем определять аномалии как отклонение от среднего"
   ]
  },
  {
   "cell_type": "code",
   "execution_count": null,
   "metadata": {},
   "outputs": [],
   "source": [
    "m = all_data['Объемный дебит жидкости (СУ)'].mean()\n",
    "sigma =  all_data['Объемный дебит жидкости (СУ)'].values.std()"
   ]
  },
  {
   "cell_type": "code",
   "execution_count": null,
   "metadata": {},
   "outputs": [],
   "source": []
  },
  {
   "cell_type": "markdown",
   "metadata": {},
   "source": [
    "Ещё мы наверняка знаем, что бывают плохие замеры. Убирать их нужно, основываясь на исходных данных, не протянутых"
   ]
  },
  {
   "cell_type": "markdown",
   "metadata": {},
   "source": [
    "Данные с ЦС на этапе `input` от ресэмпленны, сделаем это тоже"
   ]
  },
  {
   "cell_type": "code",
   "execution_count": null,
   "metadata": {},
   "outputs": [],
   "source": [
    "all_data_f = all_data.copy()\n",
    "all_data_f = all_data_f[all_data_f['Объемный дебит жидкости (СУ)'] <= m + 3 * sigma]\n",
    "all_data_f = all_data_f[all_data_f['Объемный дебит жидкости (СУ)'] >= m - 2 * sigma]\n",
    "\n",
    "res_cs = cs_d[['Время замера фактическое', 'Время']].dropna().set_index('Время')\n",
    "res_cs.index = pd.to_datetime(res_cs.index)\n",
    "res_cs = res_cs.resample('3h').mean()\n",
    "\n",
    "all_data_f = all_data_f.join(res_cs)\n",
    "all_data_f['Время замера фактическое'].fillna(np.inf, inplace=True)\n",
    "all_data_f = all_data_f[all_data_f['Время замера фактическое'].dropna() - all_data_f['Время замера плановое (СУ)'] - 30 > 0]"
   ]
  },
  {
   "cell_type": "markdown",
   "metadata": {},
   "source": [
    "Построим результаты фильтрации"
   ]
  },
  {
   "cell_type": "code",
   "execution_count": null,
   "metadata": {
    "scrolled": true
   },
   "outputs": [],
   "source": [
    "pfig = plt.figure(figsize=(16,5))\n",
    "plt.scatter(all_data['Объемный дебит жидкости (СУ)'].dropna().index,\n",
    "            all_data['Объемный дебит жидкости (СУ)'].dropna().values.reshape((-1, 1)), c='red',\n",
    "            label='not filtered_data')\n",
    "plt.plot(all_data_f['Объемный дебит жидкости (СУ)'].dropna().index,\n",
    "            all_data_f['Объемный дебит жидкости (СУ)'].dropna().values.reshape((-1, 1)), '-o', c='green',\n",
    "            label='filtered_data')\n",
    "plt.title(f'Q_liq, well={well}')\n",
    "plt.ylabel('scaled to (0,1) values')\n",
    "plt.xlabel('index')\n",
    "plt.legend(loc='upper right')\n",
    "plt.show()"
   ]
  },
  {
   "cell_type": "markdown",
   "metadata": {},
   "source": [
    "нормал, теперь потестим функции, которые я реализовал\n",
    "# Описание модуля Filtration"
   ]
  },
  {
   "cell_type": "code",
   "execution_count": null,
   "metadata": {},
   "outputs": [],
   "source": [
    "from Filtration import Droppers"
   ]
  },
  {
   "cell_type": "code",
   "execution_count": null,
   "metadata": {},
   "outputs": [],
   "source": [
    "input_data = pd.read_csv(f'data/{well}/restore_input_ml/{well}_restore_input.csv',\n",
    "                         parse_dates=True, index_col = 'Время')"
   ]
  },
  {
   "cell_type": "code",
   "execution_count": null,
   "metadata": {},
   "outputs": [],
   "source": [
    "input_sig = Droppers.get_filtred_by_sigma(input_data)"
   ]
  },
  {
   "cell_type": "code",
   "execution_count": null,
   "metadata": {},
   "outputs": [],
   "source": [
    "pfig = plt.figure(figsize=(16,5))\n",
    "plt.scatter(input_data.index, input_data['Объемный дебит жидкости (СУ)'], c='red',\n",
    "            label='init data')\n",
    "\n",
    "plt.plot(input_sig.index, input_sig['Объемный дебит жидкости (СУ)'], '-o', c='green',\n",
    "            label='filtered_data with stats')\n",
    "plt.title(f'Q_liq, well={well}')\n",
    "plt.ylabel('scaled to (0,1) values')\n",
    "plt.xlabel('index')\n",
    "plt.legend(loc='upper right')\n",
    "plt.show()"
   ]
  },
  {
   "cell_type": "markdown",
   "metadata": {},
   "source": [
    "Видно, что что-то отбросилось"
   ]
  },
  {
   "cell_type": "code",
   "execution_count": null,
   "metadata": {},
   "outputs": [],
   "source": [
    "first_edit_data = pd.read_csv(f'data/{well}/init_edit/{well}_first_edit.csv')"
   ]
  },
  {
   "cell_type": "code",
   "execution_count": null,
   "metadata": {},
   "outputs": [],
   "source": [
    "correct_input = Droppers.get_filtred_by_measurng_time(input_sig, first_edit_data)"
   ]
  },
  {
   "cell_type": "code",
   "execution_count": null,
   "metadata": {},
   "outputs": [],
   "source": [
    "pfig = plt.figure(figsize=(16,5))\n",
    "plt.scatter(input_sig.index, input_sig['Объемный дебит жидкости (СУ)'], c='red',\n",
    "            label='filtered with stats')\n",
    "\n",
    "plt.plot(correct_input.index, correct_input['Объемный дебит жидкости (СУ)'], '-o', c='green',\n",
    "            label='filtered with stats and measuring time')\n",
    "plt.title(f'Q_liq, well={well}')\n",
    "plt.ylabel('scaled to (0,1) values')\n",
    "plt.xlabel('index')\n",
    "plt.legend(loc='upper right')\n",
    "plt.show()"
   ]
  }
 ],
 "metadata": {
  "kernelspec": {
   "display_name": "Python 3",
   "language": "python",
   "name": "python3"
  },
  "language_info": {
   "codemirror_mode": {
    "name": "ipython",
    "version": 3
   },
   "file_extension": ".py",
   "mimetype": "text/x-python",
   "name": "python",
   "nbconvert_exporter": "python",
   "pygments_lexer": "ipython3",
   "version": "3.7.4"
  }
 },
 "nbformat": 4,
 "nbformat_minor": 2
}
