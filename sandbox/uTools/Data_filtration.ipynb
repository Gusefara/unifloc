{
 "cells": [
  {
   "cell_type": "markdown",
   "metadata": {},
   "source": [
    "В этой тетрадке я напишу свои мысли по поводу фильтрации"
   ]
  },
  {
   "cell_type": "code",
   "execution_count": null,
   "metadata": {},
   "outputs": [],
   "source": [
    "import pandas as pd\n",
    "import matplotlib.pyplot as plt\n",
    "import preprocessor as prep\n",
    "\n",
    "from sklearn.preprocessing import MinMaxScaler"
   ]
  },
  {
   "cell_type": "markdown",
   "metadata": {},
   "source": [
    "Вот так выглядит двумерное распределение дебита от времени измерения. Но время замера протянуто впереёд, полную картину дадут исходные данные"
   ]
  },
  {
   "cell_type": "code",
   "execution_count": null,
   "metadata": {},
   "outputs": [],
   "source": [
    "well_name = 658\n",
    "well = well_name\n",
    "calculated_data = prep.load_calculated_data_from_csv(f'data/{well_name}/restore_/{well_name}_restore_1.csv')\n",
    "input_data = pd.read_csv(f'data/{well_name}/restore_input_/{well_name}_restore_input.csv',\n",
    "                         parse_dates=True, index_col = 'Время')\n",
    "all_data = input_data.join(calculated_data, how = 'outer')\n",
    "all_data.to_csv(f'data/{well_name}/restore_/{well_name}_calc_and_input.csv')\n",
    "\n",
    "plt.scatter(all_data['Объемный дебит жидкости (СУ)'], all_data['Время замера фактическое (СУ)'])\n",
    "plt.xlabel('Дебит')\n",
    "plt.ylabel('Время замера')\n",
    "plt.title(f'Well {well_name}')\n",
    "plt.show()\n",
    "print(len(all_data['Объемный дебит жидкости (СУ)']))"
   ]
  },
  {
   "cell_type": "code",
   "execution_count": null,
   "metadata": {},
   "outputs": [],
   "source": [
    "pfig = plt.figure(figsize=(16,5))\n",
    "plt.scatter(all_data['Объемный дебит жидкости (СУ)'].index,\n",
    "            all_data['Объемный дебит жидкости (СУ)'].values.reshape((-1, 1)), c='red',\n",
    "            label='not filtered_data')"
   ]
  },
  {
   "cell_type": "markdown",
   "metadata": {},
   "source": [
    "А вот так выглядят настоящие данные"
   ]
  },
  {
   "cell_type": "code",
   "execution_count": null,
   "metadata": {},
   "outputs": [],
   "source": [
    "cs_d = pd.read_csv(f'data/{well_name}/init_edit/{well_name}_first_edit.csv')"
   ]
  },
  {
   "cell_type": "code",
   "execution_count": null,
   "metadata": {},
   "outputs": [],
   "source": [
    "fig = plt.figure(figsize=(16,5))\n",
    "sc = MinMaxScaler()\n",
    "# строим дебит\n",
    "plt.plot(cs_d['Объемный дебит жидкости'].dropna().index,\n",
    "         sc.fit_transform(cs_d['Объемный дебит жидкости'].dropna().values.reshape((-1, 1))),\n",
    "           label='Q_liq')\n",
    "\n",
    "sc_data  = cs_d['Время замера фактическое'].dropna().to_frame().join(cs_d['Объемный дебит жидкости'].dropna().to_frame(),\n",
    "                                                                     how='inner')\n",
    "# строим флажки там где известно время замера\n",
    "plt.scatter(sc_data['Объемный дебит жидкости'].dropna().index,\n",
    "            sc.transform(sc_data['Объемный дебит жидкости'].dropna().values.reshape((-1, 1))), c='red',\n",
    "           label='known measuring time')\n",
    "\n",
    "plt.legend(loc='upper right')\n",
    "plt.title(f'Q_liq and true measurs of measuring time, well={well}')\n",
    "plt.ylabel('scaled to (0,1) values')\n",
    "plt.xlabel('index')\n",
    "plt.show()\n",
    "\n",
    "pfig = plt.figure(figsize=(16,5))\n",
    "plt.plot(sc_data.dropna().index,\n",
    "            sc_data['Время замера фактическое'].dropna().values.reshape((-1, 1)), c='green',\n",
    "            label='known measuring time')\n",
    "plt.title(f'measuring_time, well={well}')\n",
    "plt.ylabel('scaled to (0,1) values')\n",
    "plt.xlabel('index')\n",
    "plt.legend(loc='upper right')\n",
    "plt.show()\n",
    "\n",
    "print(f'Известн замеров: {sc_data[\"Объемный дебит жидкости\"].dropna().shape[0]}/{cs_d[\"Объемный дебит жидкости\"].dropna().shape[0]}')"
   ]
  },
  {
   "cell_type": "markdown",
   "metadata": {},
   "source": [
    "Видно, что замеры в области пика не производились, это наводит на мысль, что делать выводы о некорректности замеров только лишь по времени замера - некорректно, из-за отсутствия адекватного набора данных\n",
    "\n",
    "Будем определять аномалии как отклонение от среднего"
   ]
  },
  {
   "cell_type": "code",
   "execution_count": null,
   "metadata": {},
   "outputs": [],
   "source": [
    "m = all_data['Объемный дебит жидкости (СУ)'].mean()\n",
    "sigma =  all_data['Объемный дебит жидкости (СУ)'].values.std()"
   ]
  },
  {
   "cell_type": "code",
   "execution_count": null,
   "metadata": {},
   "outputs": [],
   "source": [
    "all_data_f = all_data.copy()\n",
    "all_data_f = all_data_f[all_data_f['Объемный дебит жидкости (СУ)'] <= m + 3 * sigma]\n",
    "all_data_f = all_data_f[all_data_f['Объемный дебит жидкости (СУ)'] >= m - 2 * sigma]"
   ]
  },
  {
   "cell_type": "code",
   "execution_count": null,
   "metadata": {},
   "outputs": [],
   "source": [
    "pfig = plt.figure(figsize=(16,5))\n",
    "plt.scatter(all_data['Объемный дебит жидкости (СУ)'].dropna().index,\n",
    "            all_data['Объемный дебит жидкости (СУ)'].dropna().values.reshape((-1, 1)), c='red',\n",
    "            label='not filtered_data')\n",
    "plt.scatter(all_data_f['Объемный дебит жидкости (СУ)'].dropna().index,\n",
    "            all_data_f['Объемный дебит жидкости (СУ)'].dropna().values.reshape((-1, 1)), c='green',\n",
    "            label='filtered_data')\n",
    "plt.title(f'Q_liq, well={well}')\n",
    "plt.ylabel('scaled to (0,1) values')\n",
    "plt.xlabel('index')\n",
    "plt.legend(loc='upper right')\n",
    "plt.show()"
   ]
  }
 ],
 "metadata": {
  "kernelspec": {
   "display_name": "Python 3",
   "language": "python",
   "name": "python3"
  },
  "language_info": {
   "codemirror_mode": {
    "name": "ipython",
    "version": 3
   },
   "file_extension": ".py",
   "mimetype": "text/x-python",
   "name": "python",
   "nbconvert_exporter": "python",
   "pygments_lexer": "ipython3",
   "version": "3.7.4"
  }
 },
 "nbformat": 4,
 "nbformat_minor": 2
}
