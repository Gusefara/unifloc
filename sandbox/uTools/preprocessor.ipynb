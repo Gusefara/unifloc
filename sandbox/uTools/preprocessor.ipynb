{
 "cells": [
  {
   "cell_type": "code",
   "execution_count": null,
   "metadata": {},
   "outputs": [],
   "source": [
    "import sys\n",
    "sys.path.append('../')\n",
    "sys.path.append('C:\\\\Users\\\\olegk\\\\Documents\\\\unifloc\\\\')\n",
    "import pandas as pd\n",
    "import matplotlib.pyplot as plt\n",
    "import numpy as np\n",
    "\n",
    "from datetime import date\n",
    "from os import walk\n",
    "import os\n",
    "\n",
    "import uniflocpy.uTools.plotly_workflow as pw\n",
    "import plotly.figure_factory as ff\n",
    "import plotly.graph_objs as go\n",
    "from plotly.offline import download_plotlyjs, plot"
   ]
  },
  {
   "cell_type": "code",
   "execution_count": null,
   "metadata": {},
   "outputs": [],
   "source": [
    "def plot_corr_heatmap(df, filename_str):\n",
    "    corrs = df.corr()\n",
    "    figure = ff.create_annotated_heatmap(\n",
    "       z=corrs.values,\n",
    "       x=list(corrs.columns),\n",
    "       y=list(corrs.index),\n",
    "       annotation_text=corrs.round(2).values,\n",
    "       showscale=True)\n",
    "    figure.layout.update(\n",
    "        margin=go.layout.Margin(\n",
    "            l=400,\n",
    "            r=50,\n",
    "            b=100,\n",
    "            t=250\n",
    "        ))\n",
    "    filename_str +='.html'\n",
    "    plot(figure,filename=filename_str)\n",
    "    \n",
    "def initial_editing(data, wellname):\n",
    "    if len(data.columns)==4:  \n",
    "        del data[0]\n",
    "    data.columns = [0, 1, 2]\n",
    "    test_str = data[0][0]\n",
    "    index = test_str.find(wellname)\n",
    "    str_to_delete = test_str[:index] + wellname + '. '\n",
    "    data[0] = data[0].str.replace(str_to_delete,\"\")\n",
    "    data.index = data[1]\n",
    "    del data[1]\n",
    "    data.index = pd.to_datetime(data.index)\n",
    "    return data\n",
    "\n",
    "def extract_df_one_parametr_and_edit(data, list_of_params, number_of_param_in_list):\n",
    "    extracted_df_one_param = data[data[0] == list_of_params[number_of_param_in_list]].copy()\n",
    "    edited_df_one_param = extracted_df_one_param.rename(index=str, columns = {2: extracted_df_one_param[0][0]})\n",
    "    del edited_df_one_param[0]\n",
    "    return edited_df_one_param\n",
    "\n",
    "def create_edited_df(data, parametrs_list):  # ускорить процесс\n",
    "    init_one_parametr_df = extract_df_one_parametr_and_edit(data, parametrs_list, 0)\n",
    "    result = init_one_parametr_df\n",
    "    for i in range(1, len(parametrs_list)):\n",
    "        new_one_parametr_df = extract_df_one_parametr_and_edit(data, parametrs_list, i)\n",
    "        result = result.join([new_one_parametr_df], how = \"outer\", sort=True)\n",
    "    return result"
   ]
  },
  {
   "cell_type": "code",
   "execution_count": null,
   "metadata": {},
   "outputs": [],
   "source": [
    "current_path = os.getcwd()\n",
    "path_to_data = current_path + \"\\\\data\\\\\"\n",
    "dirnames_list = []\n",
    "for (dirpath, dirnames, filenames) in walk(path_to_data):\n",
    "    dirnames_list.extend(dirnames)\n",
    "    break\n",
    "dirnames_list"
   ]
  },
  {
   "cell_type": "code",
   "execution_count": null,
   "metadata": {},
   "outputs": [],
   "source": [
    "files = dirnames_list\n",
    "#files = ['1479', \"1509\"]\n",
    "test_file = None"
   ]
  },
  {
   "cell_type": "code",
   "execution_count": null,
   "metadata": {},
   "outputs": [],
   "source": [
    "for this_file_name in files[19:]: #file error 627 (17), 689(19), 1509(3),202(7) \n",
    "    print(\"Первичная обработка данных со СУ для скважины \" + this_file_name)\n",
    "    \n",
    "    this_file_path = current_path + \"\\\\data\\\\\" + this_file_name +  \"\\\\\" + this_file_name + \".csv\"\n",
    "    test_file = pd.read_csv(this_file_path,sep=';', header=None)\n",
    "    edited_file = initial_editing(test_file, this_file_name)\n",
    "    big_list_parametrs = np.unique(edited_file[0])\n",
    "    edited_file = create_edited_df(edited_file, big_list_parametrs)\n",
    "    this_file_path_out = current_path + \"\\\\data\\\\\" + this_file_name +  \"\\\\\" + this_file_name + \"_first_edit\" +  \".csv\"\n",
    "    print(\"Сохранение обработанных данных в:\")\n",
    "    print(this_file_path_out)\n",
    "    edited_file.to_csv(this_file_path_out)"
   ]
  },
  {
   "cell_type": "code",
   "execution_count": null,
   "metadata": {},
   "outputs": [],
   "source": [
    "error_wells = ['627', '689', '1509', '202','1540','353', '252']"
   ]
  },
  {
   "cell_type": "code",
   "execution_count": null,
   "metadata": {},
   "outputs": [],
   "source": [
    "well = '1354'"
   ]
  },
  {
   "cell_type": "code",
   "execution_count": null,
   "metadata": {},
   "outputs": [],
   "source": [
    "this_file_path = current_path + \"\\\\data\\\\\" + well +  \"\\\\\" + well + \"_first_edit\" +  \".csv\""
   ]
  },
  {
   "cell_type": "code",
   "execution_count": null,
   "metadata": {},
   "outputs": [],
   "source": [
    "test = pd.read_csv(this_file_path, index_col = '1')"
   ]
  },
  {
   "cell_type": "code",
   "execution_count": null,
   "metadata": {},
   "outputs": [],
   "source": [
    "test.index = pd.to_datetime(test.index)"
   ]
  },
  {
   "cell_type": "code",
   "execution_count": null,
   "metadata": {},
   "outputs": [],
   "source": [
    "test.head()"
   ]
  },
  {
   "cell_type": "code",
   "execution_count": null,
   "metadata": {},
   "outputs": [],
   "source": [
    "\n"
   ]
  },
  {
   "cell_type": "code",
   "execution_count": null,
   "metadata": {},
   "outputs": [],
   "source": []
  },
  {
   "cell_type": "code",
   "execution_count": null,
   "metadata": {},
   "outputs": [],
   "source": []
  },
  {
   "cell_type": "code",
   "execution_count": null,
   "metadata": {},
   "outputs": [],
   "source": []
  },
  {
   "cell_type": "code",
   "execution_count": null,
   "metadata": {},
   "outputs": [],
   "source": []
  },
  {
   "cell_type": "code",
   "execution_count": null,
   "metadata": {},
   "outputs": [],
   "source": []
  },
  {
   "cell_type": "code",
   "execution_count": null,
   "metadata": {},
   "outputs": [],
   "source": [
    "for i in files:\n",
    "    if i not in error_wells:\n",
    "        print(\"Построение графиков для скважины \" + i)\n",
    "        well = i\n",
    "        this_file_path = current_path + \"\\\\data\\\\\" + well +  \"\\\\\" + well + \"_first_edit\" +  \".csv\"\n",
    "        test = pd.read_csv(this_file_path, index_col = '1')\n",
    "        test.index = pd.to_datetime(test.index)\n",
    "        test_resampled = test.resample('3h').mean()\n",
    "\n",
    "        test_resampled = test_resampled.dropna(subset = ['Объемный дебит жидкости'])\n",
    "\n",
    "        all_traces = pw.create_traces_list_for_all_columms(test_resampled, chosen_mode = 'lines+markers')\n",
    "\n",
    "        data = all_traces\n",
    "        path_to_plot = current_path + \"\\\\data\\\\\" + well +  \"\\\\\" + \\\n",
    "                    'Исходные данные (first_edit) по 3 часа без интерполяции для ' + well +  '.html'\n",
    "        print(\"Сохранение графика в:\")\n",
    "        print(path_to_plot)\n",
    "        pw.plot_subplots(data, path_to_plot, True)\n",
    "        #plot_corr_heatmap(test_resampled, \"Корреляционная карта для данных по 3 часа без интерполяции\")"
   ]
  },
  {
   "cell_type": "code",
   "execution_count": null,
   "metadata": {},
   "outputs": [],
   "source": []
  },
  {
   "cell_type": "code",
   "execution_count": null,
   "metadata": {},
   "outputs": [],
   "source": []
  },
  {
   "cell_type": "code",
   "execution_count": null,
   "metadata": {},
   "outputs": [],
   "source": [
    "#test = pd.read_csv(\"edited_kobzar2.csv\", index_col = \"2\")\n",
    "#test.index = pd.to_datetime(test.index)\n",
    "#\n",
    "#test_resampled = test.resample('3h').mean()\n",
    "#\n",
    "#test_resampled = test_resampled.dropna(subset = [' Объемный дебит жидкости'])\n",
    "#\n",
    "#all_traces = pw.create_traces_list_for_all_columms(test_resampled, chosen_mode = 'lines')\n",
    "#\n",
    "#data = all_traces\n",
    "#pw.plot_subplots(data, 'Исходные данные по 3 часа без интерполяции' + '.html', True)\n",
    "#"
   ]
  },
  {
   "cell_type": "code",
   "execution_count": null,
   "metadata": {},
   "outputs": [],
   "source": []
  }
 ],
 "metadata": {
  "kernelspec": {
   "display_name": "Python 3",
   "language": "python",
   "name": "python3"
  },
  "language_info": {
   "codemirror_mode": {
    "name": "ipython",
    "version": 3
   },
   "file_extension": ".py",
   "mimetype": "text/x-python",
   "name": "python",
   "nbconvert_exporter": "python",
   "pygments_lexer": "ipython3",
   "version": "3.7.3"
  }
 },
 "nbformat": 4,
 "nbformat_minor": 2
}
