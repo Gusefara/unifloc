{
 "cells": [
  {
   "cell_type": "code",
   "execution_count": 1,
   "metadata": {},
   "outputs": [],
   "source": [
    "import sys\n",
    "sys.path.append('../')\n",
    "sys.path.append('C:\\\\Users\\\\olegk\\\\Documents\\\\unifloc\\\\')\n",
    "import pandas as pd\n",
    "import matplotlib.pyplot as plt\n",
    "import numpy as np\n",
    "\n",
    "from datetime import date\n",
    "from os import walk\n",
    "import os\n",
    "\n",
    "import uniflocpy.uTools.plotly_workflow as pw\n",
    "import plotly.figure_factory as ff\n",
    "import plotly.graph_objs as go\n",
    "from plotly.offline import download_plotlyjs, plot"
   ]
  },
  {
   "cell_type": "code",
   "execution_count": 2,
   "metadata": {},
   "outputs": [],
   "source": [
    "# TODO проверить первичную обработку данных путем построения графиков\n",
    "# TODO разобраться с ошибками при первичной обработке данных\n",
    "# TODO где среднее значение, а где протяжка\n",
    "# TODO генерация входных данных для адаптации и восстановление отдельно (drop и resample, resample и interpolate)\n",
    "# TODO резать данные кусками в связи с пропусками\n",
    "# TODO сделать .py и работать с дебагом"
   ]
  },
  {
   "cell_type": "code",
   "execution_count": 3,
   "metadata": {},
   "outputs": [],
   "source": [
    "def plot_corr_heatmap(df, filename_str):\n",
    "    corrs = df.corr()\n",
    "    figure = ff.create_annotated_heatmap(\n",
    "       z=corrs.values,\n",
    "       x=list(corrs.columns),\n",
    "       y=list(corrs.index),\n",
    "       annotation_text=corrs.round(2).values,\n",
    "       showscale=True)\n",
    "    figure.layout.update(\n",
    "        margin=go.layout.Margin(\n",
    "            l=400,\n",
    "            r=50,\n",
    "            b=100,\n",
    "            t=250\n",
    "        ))\n",
    "    filename_str +='.html'\n",
    "    plot(figure,filename=filename_str)\n",
    "    \n",
    "def initial_editing(data, wellname):\n",
    "    if len(data.columns)==4:  \n",
    "        del data[0]\n",
    "    data.columns = [0, 1, 2]\n",
    "    test_str = data[0][0]\n",
    "    index = test_str.find(wellname)\n",
    "    str_to_delete = test_str[:index] + wellname + '. '\n",
    "    data[0] = data[0].str.replace(str_to_delete,\"\")\n",
    "    data.index = data[1]\n",
    "    del data[1]\n",
    "    data.index = pd.to_datetime(data.index)\n",
    "    return data\n",
    "\n",
    "def extract_df_one_parametr_and_edit(data, list_of_params, number_of_param_in_list):\n",
    "    extracted_df_one_param = data[data[0] == list_of_params[number_of_param_in_list]].copy()\n",
    "    edited_df_one_param = extracted_df_one_param.rename(index=str, columns = {2: extracted_df_one_param[0][0]})\n",
    "    del edited_df_one_param[0]\n",
    "    return edited_df_one_param\n",
    "\n",
    "def create_edited_df(data, parametrs_list):  # ускорить процесс\n",
    "    init_one_parametr_df = extract_df_one_parametr_and_edit(data, parametrs_list, 0)\n",
    "    result = init_one_parametr_df\n",
    "    for i in range(1, len(parametrs_list)):\n",
    "        new_one_parametr_df = extract_df_one_parametr_and_edit(data, parametrs_list, i)\n",
    "        result = result.join([new_one_parametr_df], how = \"outer\", sort=True)\n",
    "    return result"
   ]
  },
  {
   "cell_type": "markdown",
   "metadata": {},
   "source": [
    "Получение списка скважин по названию соответствующих директорий"
   ]
  },
  {
   "cell_type": "code",
   "execution_count": 4,
   "metadata": {},
   "outputs": [
    {
     "data": {
      "text/plain": [
       "['1354',\n",
       " '1479',\n",
       " '1509',\n",
       " '1540',\n",
       " '1567',\n",
       " '1602',\n",
       " '1628',\n",
       " '202',\n",
       " '252',\n",
       " '326',\n",
       " '353',\n",
       " '507',\n",
       " '540',\n",
       " '569',\n",
       " '570',\n",
       " '601',\n",
       " '627',\n",
       " '658',\n",
       " '689',\n",
       " '693']"
      ]
     },
     "execution_count": 4,
     "metadata": {},
     "output_type": "execute_result"
    }
   ],
   "source": [
    "current_path = os.getcwd()\n",
    "path_to_data = current_path + \"\\\\data\\\\\"\n",
    "dirnames_list = []\n",
    "for (dirpath, dirnames, filenames) in walk(path_to_data):\n",
    "    dirnames_list.extend(dirnames)\n",
    "    break\n",
    "dirnames_list"
   ]
  },
  {
   "cell_type": "code",
   "execution_count": 5,
   "metadata": {},
   "outputs": [],
   "source": [
    "#files = dirnames_list\n",
    "files = ['353']\n",
    "test_file = None"
   ]
  },
  {
   "cell_type": "markdown",
   "metadata": {},
   "source": [
    "Первичная обработка данных, разнесение параметров по столбцам"
   ]
  },
  {
   "cell_type": "code",
   "execution_count": null,
   "metadata": {},
   "outputs": [],
   "source": [
    "for this_file_name in files:\n",
    "    print(\"Первичная обработка данных со СУ для скважины \" + this_file_name)\n",
    "    \n",
    "    this_file_path = current_path + \"\\\\data\\\\\" + this_file_name +  \"\\\\\" + this_file_name + \".csv\"\n",
    "    test_file = pd.read_csv(this_file_path,sep=';', header=None)\n",
    "    if type(test_file.iloc[0][2]) == str:\n",
    "        test_file = pd.read_csv(this_file_path,sep=';', header=None, skiprows = 1, low_memory=False)\n",
    "    edited_file = initial_editing(test_file, this_file_name)\n",
    "    big_list_parametrs = np.unique(edited_file[0])\n",
    "    edited_file = create_edited_df(edited_file, big_list_parametrs)\n",
    "    this_file_path_out = current_path + \"\\\\data\\\\\" + this_file_name +  \"\\\\\" + this_file_name + \"_first_edit\" +  \".csv\"\n",
    "    print(\"Сохранение обработанных данных в:\")\n",
    "    print(this_file_path_out)\n",
    "    edited_file.to_csv(this_file_path_out)"
   ]
  },
  {
   "cell_type": "markdown",
   "metadata": {},
   "source": [
    "Скважины с ошибками"
   ]
  },
  {
   "cell_type": "code",
   "execution_count": null,
   "metadata": {},
   "outputs": [],
   "source": []
  },
  {
   "cell_type": "code",
   "execution_count": 63,
   "metadata": {},
   "outputs": [],
   "source": [
    "this_file_name = 'Скв. 1354 (01.07.2018-31.03.2019)'"
   ]
  },
  {
   "cell_type": "code",
   "execution_count": 64,
   "metadata": {},
   "outputs": [],
   "source": [
    "this_file_path = current_path + \"\\\\data\\\\\" + \"1354\" +  \"\\\\\" + this_file_name + \".xls\""
   ]
  },
  {
   "cell_type": "code",
   "execution_count": 65,
   "metadata": {},
   "outputs": [
    {
     "data": {
      "text/plain": [
       "'C:\\\\Users\\\\olegk\\\\Documents\\\\unifloc\\\\sandbox\\\\uTools\\\\data\\\\1354\\\\Скв. 1354 (01.07.2018-31.03.2019).xls'"
      ]
     },
     "execution_count": 65,
     "metadata": {},
     "output_type": "execute_result"
    }
   ],
   "source": [
    "this_file_path"
   ]
  },
  {
   "cell_type": "code",
   "execution_count": 69,
   "metadata": {},
   "outputs": [],
   "source": [
    "test_file = pd.read_excel(this_file_path)\n",
    "test_file.index = pd.to_datetime(test_file['Дата'], dayfirst = True, format = \"%d.%m.%Y\", infer_datetime_format=True)\n",
    "del test_file['Дата']"
   ]
  },
  {
   "cell_type": "code",
   "execution_count": 70,
   "metadata": {},
   "outputs": [
    {
     "data": {
      "text/html": [
       "<div>\n",
       "<style scoped>\n",
       "    .dataframe tbody tr th:only-of-type {\n",
       "        vertical-align: middle;\n",
       "    }\n",
       "\n",
       "    .dataframe tbody tr th {\n",
       "        vertical-align: top;\n",
       "    }\n",
       "\n",
       "    .dataframe thead th {\n",
       "        text-align: right;\n",
       "    }\n",
       "</style>\n",
       "<table border=\"1\" class=\"dataframe\">\n",
       "  <thead>\n",
       "    <tr style=\"text-align: right;\">\n",
       "      <th></th>\n",
       "      <th>Тип</th>\n",
       "      <th>Нсп</th>\n",
       "      <th>ТМ</th>\n",
       "      <th>Дисп</th>\n",
       "      <th>OIS</th>\n",
       "      <th>Qж ТМ</th>\n",
       "      <th>Qн ТМ</th>\n",
       "      <th>Обв ТМ</th>\n",
       "      <th>Рбуф ТМ</th>\n",
       "      <th>Рлин ТМ</th>\n",
       "      <th>...</th>\n",
       "      <th>R изол ТМ</th>\n",
       "      <th>R изоляц.</th>\n",
       "      <th>U раб.</th>\n",
       "      <th>Э/э (Wакт)</th>\n",
       "      <th>Э/э реакт. (ТМ)</th>\n",
       "      <th>Э/э СУ (ТМ)</th>\n",
       "      <th>Э/э счет. (ТМ)</th>\n",
       "      <th>U отп. (ТМ)</th>\n",
       "      <th>УРЭ</th>\n",
       "      <th>УРЭ К</th>\n",
       "    </tr>\n",
       "    <tr>\n",
       "      <th>Дата</th>\n",
       "      <th></th>\n",
       "      <th></th>\n",
       "      <th></th>\n",
       "      <th></th>\n",
       "      <th></th>\n",
       "      <th></th>\n",
       "      <th></th>\n",
       "      <th></th>\n",
       "      <th></th>\n",
       "      <th></th>\n",
       "      <th></th>\n",
       "      <th></th>\n",
       "      <th></th>\n",
       "      <th></th>\n",
       "      <th></th>\n",
       "      <th></th>\n",
       "      <th></th>\n",
       "      <th></th>\n",
       "      <th></th>\n",
       "      <th></th>\n",
       "      <th></th>\n",
       "    </tr>\n",
       "  </thead>\n",
       "  <tbody>\n",
       "    <tr>\n",
       "      <th>2019-03-31</th>\n",
       "      <td>ЭЦН5А-320-1500</td>\n",
       "      <td>830 м</td>\n",
       "      <td>Запуск</td>\n",
       "      <td>NaN</td>\n",
       "      <td>раб.</td>\n",
       "      <td>121.0</td>\n",
       "      <td>88.81</td>\n",
       "      <td>23.16</td>\n",
       "      <td>0</td>\n",
       "      <td>20.0</td>\n",
       "      <td>...</td>\n",
       "      <td>9999.0</td>\n",
       "      <td>NaN</td>\n",
       "      <td>NaN</td>\n",
       "      <td>NaN</td>\n",
       "      <td>NaN</td>\n",
       "      <td>NaN</td>\n",
       "      <td>NaN</td>\n",
       "      <td>NaN</td>\n",
       "      <td>NaN</td>\n",
       "      <td>NaN</td>\n",
       "    </tr>\n",
       "    <tr>\n",
       "      <th>2019-03-30</th>\n",
       "      <td>ЭЦН5А-320-1500</td>\n",
       "      <td>830 м</td>\n",
       "      <td>Запуск</td>\n",
       "      <td>NaN</td>\n",
       "      <td>раб.</td>\n",
       "      <td>120.0</td>\n",
       "      <td>88.95</td>\n",
       "      <td>19.33</td>\n",
       "      <td>0</td>\n",
       "      <td>20.1</td>\n",
       "      <td>...</td>\n",
       "      <td>9999.0</td>\n",
       "      <td>9999.0</td>\n",
       "      <td>NaN</td>\n",
       "      <td>NaN</td>\n",
       "      <td>NaN</td>\n",
       "      <td>NaN</td>\n",
       "      <td>NaN</td>\n",
       "      <td>NaN</td>\n",
       "      <td>NaN</td>\n",
       "      <td>NaN</td>\n",
       "    </tr>\n",
       "    <tr>\n",
       "      <th>2019-03-29</th>\n",
       "      <td>ЭЦН5А-320-1500</td>\n",
       "      <td>830 м</td>\n",
       "      <td>Запуск</td>\n",
       "      <td>NaN</td>\n",
       "      <td>раб.</td>\n",
       "      <td>120.0</td>\n",
       "      <td>88.70</td>\n",
       "      <td>21.77</td>\n",
       "      <td>0</td>\n",
       "      <td>20.2</td>\n",
       "      <td>...</td>\n",
       "      <td>9999.0</td>\n",
       "      <td>NaN</td>\n",
       "      <td>NaN</td>\n",
       "      <td>NaN</td>\n",
       "      <td>NaN</td>\n",
       "      <td>NaN</td>\n",
       "      <td>NaN</td>\n",
       "      <td>NaN</td>\n",
       "      <td>NaN</td>\n",
       "      <td>NaN</td>\n",
       "    </tr>\n",
       "    <tr>\n",
       "      <th>2019-03-28</th>\n",
       "      <td>ЭЦН5А-320-1500</td>\n",
       "      <td>830 м</td>\n",
       "      <td>Запуск</td>\n",
       "      <td>NaN</td>\n",
       "      <td>раб.</td>\n",
       "      <td>127.0</td>\n",
       "      <td>71.33</td>\n",
       "      <td>51.93</td>\n",
       "      <td>0</td>\n",
       "      <td>20.3</td>\n",
       "      <td>...</td>\n",
       "      <td>9999.0</td>\n",
       "      <td>NaN</td>\n",
       "      <td>NaN</td>\n",
       "      <td>NaN</td>\n",
       "      <td>NaN</td>\n",
       "      <td>NaN</td>\n",
       "      <td>NaN</td>\n",
       "      <td>NaN</td>\n",
       "      <td>NaN</td>\n",
       "      <td>NaN</td>\n",
       "    </tr>\n",
       "    <tr>\n",
       "      <th>2019-03-27</th>\n",
       "      <td>ЭЦН5А-320-1500</td>\n",
       "      <td>830 м</td>\n",
       "      <td>Запуск</td>\n",
       "      <td>NaN</td>\n",
       "      <td>раб.</td>\n",
       "      <td>127.0</td>\n",
       "      <td>92.92</td>\n",
       "      <td>21.64</td>\n",
       "      <td>0</td>\n",
       "      <td>20.3</td>\n",
       "      <td>...</td>\n",
       "      <td>9999.0</td>\n",
       "      <td>NaN</td>\n",
       "      <td>NaN</td>\n",
       "      <td>NaN</td>\n",
       "      <td>NaN</td>\n",
       "      <td>NaN</td>\n",
       "      <td>NaN</td>\n",
       "      <td>NaN</td>\n",
       "      <td>NaN</td>\n",
       "      <td>NaN</td>\n",
       "    </tr>\n",
       "  </tbody>\n",
       "</table>\n",
       "<p>5 rows × 45 columns</p>\n",
       "</div>"
      ],
      "text/plain": [
       "                       Тип     Нсп      ТМ Дисп   OIS  Qж ТМ  Qн ТМ  Обв ТМ  \\\n",
       "Дата                                                                          \n",
       "2019-03-31  ЭЦН5А-320-1500   830 м  Запуск  NaN  раб.  121.0  88.81   23.16   \n",
       "2019-03-30  ЭЦН5А-320-1500   830 м  Запуск  NaN  раб.  120.0  88.95   19.33   \n",
       "2019-03-29  ЭЦН5А-320-1500   830 м  Запуск  NaN  раб.  120.0  88.70   21.77   \n",
       "2019-03-28  ЭЦН5А-320-1500   830 м  Запуск  NaN  раб.  127.0  71.33   51.93   \n",
       "2019-03-27  ЭЦН5А-320-1500   830 м  Запуск  NaN  раб.  127.0  92.92   21.64   \n",
       "\n",
       "            Рбуф ТМ  Рлин ТМ  ...  R изол ТМ  R изоляц.  U раб.  Э/э (Wакт)  \\\n",
       "Дата                          ...                                             \n",
       "2019-03-31        0     20.0  ...     9999.0        NaN     NaN         NaN   \n",
       "2019-03-30        0     20.1  ...     9999.0     9999.0     NaN         NaN   \n",
       "2019-03-29        0     20.2  ...     9999.0        NaN     NaN         NaN   \n",
       "2019-03-28        0     20.3  ...     9999.0        NaN     NaN         NaN   \n",
       "2019-03-27        0     20.3  ...     9999.0        NaN     NaN         NaN   \n",
       "\n",
       "            Э/э реакт. (ТМ)  Э/э СУ (ТМ)  Э/э счет. (ТМ)  U отп. (ТМ)  УРЭ  \\\n",
       "Дата                                                                         \n",
       "2019-03-31              NaN          NaN             NaN          NaN  NaN   \n",
       "2019-03-30              NaN          NaN             NaN          NaN  NaN   \n",
       "2019-03-29              NaN          NaN             NaN          NaN  NaN   \n",
       "2019-03-28              NaN          NaN             NaN          NaN  NaN   \n",
       "2019-03-27              NaN          NaN             NaN          NaN  NaN   \n",
       "\n",
       "            УРЭ К  \n",
       "Дата               \n",
       "2019-03-31    NaN  \n",
       "2019-03-30    NaN  \n",
       "2019-03-29    NaN  \n",
       "2019-03-28    NaN  \n",
       "2019-03-27    NaN  \n",
       "\n",
       "[5 rows x 45 columns]"
      ]
     },
     "execution_count": 70,
     "metadata": {},
     "output_type": "execute_result"
    }
   ],
   "source": [
    "test_file.head()"
   ]
  },
  {
   "cell_type": "code",
   "execution_count": 71,
   "metadata": {},
   "outputs": [],
   "source": [
    "test_file = test_file[test_file.columns[5:]]"
   ]
  },
  {
   "cell_type": "code",
   "execution_count": 74,
   "metadata": {},
   "outputs": [],
   "source": [
    "test_file = test_file.resample('3h').mean()\n",
    "test_file = test_file.interpolate()"
   ]
  },
  {
   "cell_type": "code",
   "execution_count": 76,
   "metadata": {},
   "outputs": [
    {
     "data": {
      "text/plain": [
       "Index(['Qж ТМ', 'Qн ТМ', 'Обв ТМ', 'Рбуф ТМ', 'Рлин ТМ', 'Рзатр', 'Рприем',\n",
       "       'Загр. ПЭД (ТМ)', 'Нд', 'Темп. ПЭД', 'Тдвиг ТМ', 'F вращ ТМ', 'Dшт',\n",
       "       'Рбуф', 'Рэцн ТМ', 'Pзаб(Pпр)', 'Qгаз ТМ', 'Cos ф (ТМ)', 'Пл. ж . ТМ ',\n",
       "       'F ТМ', 'U AB (ТМ)', 'I', 'Tуст. (ТМ)', 'Tуст', 'T на приёме нас.',\n",
       "       'Темп. ж. ТМ', 'Тнасос ТМ', 'I A ТМ', 'I C ТМ', 'I В ТМ', 'R изол ТМ',\n",
       "       'R изоляц.', 'U раб.', 'Э/э (Wакт)', 'Э/э реакт. (ТМ)', 'Э/э СУ (ТМ)',\n",
       "       'Э/э счет. (ТМ)', 'U отп. (ТМ)', 'УРЭ', 'УРЭ К'],\n",
       "      dtype='object')"
      ]
     },
     "execution_count": 76,
     "metadata": {},
     "output_type": "execute_result"
    }
   ],
   "source": [
    "test_file.columns"
   ]
  },
  {
   "cell_type": "code",
   "execution_count": 79,
   "metadata": {},
   "outputs": [
    {
     "data": {
      "text/plain": [
       "Дата\n",
       "2018-07-01 00:00:00    32.0\n",
       "2018-07-01 03:00:00    32.0\n",
       "2018-07-01 06:00:00    32.0\n",
       "2018-07-01 09:00:00    32.0\n",
       "2018-07-01 12:00:00    32.0\n",
       "2018-07-01 15:00:00    32.0\n",
       "2018-07-01 18:00:00    32.0\n",
       "2018-07-01 21:00:00    32.0\n",
       "2018-07-02 00:00:00    32.0\n",
       "2018-07-02 03:00:00    32.0\n",
       "2018-07-02 06:00:00    32.0\n",
       "2018-07-02 09:00:00    32.0\n",
       "2018-07-02 12:00:00    32.0\n",
       "2018-07-02 15:00:00    32.0\n",
       "2018-07-02 18:00:00    32.0\n",
       "2018-07-02 21:00:00    32.0\n",
       "2018-07-03 00:00:00    32.0\n",
       "2018-07-03 03:00:00    32.0\n",
       "2018-07-03 06:00:00    32.0\n",
       "2018-07-03 09:00:00    32.0\n",
       "2018-07-03 12:00:00    32.0\n",
       "2018-07-03 15:00:00    32.0\n",
       "2018-07-03 18:00:00    32.0\n",
       "2018-07-03 21:00:00    32.0\n",
       "2018-07-04 00:00:00    32.0\n",
       "2018-07-04 03:00:00    32.0\n",
       "2018-07-04 06:00:00    32.0\n",
       "2018-07-04 09:00:00    32.0\n",
       "2018-07-04 12:00:00    32.0\n",
       "2018-07-04 15:00:00    32.0\n",
       "                       ... \n",
       "2019-03-27 09:00:00    27.0\n",
       "2019-03-27 12:00:00    27.0\n",
       "2019-03-27 15:00:00    27.0\n",
       "2019-03-27 18:00:00    27.0\n",
       "2019-03-27 21:00:00    27.0\n",
       "2019-03-28 00:00:00    27.0\n",
       "2019-03-28 03:00:00    27.0\n",
       "2019-03-28 06:00:00    27.0\n",
       "2019-03-28 09:00:00    27.0\n",
       "2019-03-28 12:00:00    27.0\n",
       "2019-03-28 15:00:00    27.0\n",
       "2019-03-28 18:00:00    27.0\n",
       "2019-03-28 21:00:00    27.0\n",
       "2019-03-29 00:00:00    27.0\n",
       "2019-03-29 03:00:00    27.0\n",
       "2019-03-29 06:00:00    27.0\n",
       "2019-03-29 09:00:00    27.0\n",
       "2019-03-29 12:00:00    27.0\n",
       "2019-03-29 15:00:00    27.0\n",
       "2019-03-29 18:00:00    27.0\n",
       "2019-03-29 21:00:00    27.0\n",
       "2019-03-30 00:00:00    27.0\n",
       "2019-03-30 03:00:00    27.0\n",
       "2019-03-30 06:00:00    27.0\n",
       "2019-03-30 09:00:00    27.0\n",
       "2019-03-30 12:00:00    27.0\n",
       "2019-03-30 15:00:00    27.0\n",
       "2019-03-30 18:00:00    27.0\n",
       "2019-03-30 21:00:00    27.0\n",
       "2019-03-31 00:00:00    27.0\n",
       "Freq: 3H, Name: Рбуф, Length: 2185, dtype: float64"
      ]
     },
     "execution_count": 79,
     "metadata": {},
     "output_type": "execute_result"
    }
   ],
   "source": [
    "test_file['Рбуф']"
   ]
  },
  {
   "cell_type": "code",
   "execution_count": 84,
   "metadata": {},
   "outputs": [],
   "source": [
    "path_to_chess_out = current_path + \"\\\\data\\\\\" + \"1354\" +  \"\\\\\"  + \"1354 \" + 'шахматка обработанная' + \".csv\"\n",
    "print(path_to_chess_out)\n",
    "test_file.to_csv(path_to_chess_out)"
   ]
  },
  {
   "cell_type": "code",
   "execution_count": null,
   "metadata": {},
   "outputs": [],
   "source": []
  },
  {
   "cell_type": "code",
   "execution_count": null,
   "metadata": {},
   "outputs": [],
   "source": []
  },
  {
   "cell_type": "code",
   "execution_count": 88,
   "metadata": {},
   "outputs": [],
   "source": []
  },
  {
   "cell_type": "code",
   "execution_count": null,
   "metadata": {},
   "outputs": [],
   "source": []
  },
  {
   "cell_type": "code",
   "execution_count": null,
   "metadata": {},
   "outputs": [],
   "source": []
  },
  {
   "cell_type": "code",
   "execution_count": null,
   "metadata": {},
   "outputs": [],
   "source": []
  },
  {
   "cell_type": "code",
   "execution_count": null,
   "metadata": {},
   "outputs": [],
   "source": []
  },
  {
   "cell_type": "code",
   "execution_count": null,
   "metadata": {},
   "outputs": [],
   "source": []
  },
  {
   "cell_type": "code",
   "execution_count": null,
   "metadata": {},
   "outputs": [],
   "source": [
    "test_file = pd.read_csv(this_file_path,sep=';', header=None)\n",
    "if type(test_file.iloc[0][2]) == str:\n",
    "    test_file = pd.read_csv(this_file_path,sep=';', header=None, skiprows = 1)"
   ]
  },
  {
   "cell_type": "code",
   "execution_count": null,
   "metadata": {},
   "outputs": [],
   "source": [
    "test_file.head()"
   ]
  },
  {
   "cell_type": "code",
   "execution_count": null,
   "metadata": {},
   "outputs": [],
   "source": [
    "edited_file = initial_editing(test_file, this_file_name)"
   ]
  },
  {
   "cell_type": "code",
   "execution_count": null,
   "metadata": {},
   "outputs": [],
   "source": [
    "edited_file.head()"
   ]
  },
  {
   "cell_type": "code",
   "execution_count": null,
   "metadata": {},
   "outputs": [],
   "source": [
    "big_list_parametrs = np.unique(edited_file[0])"
   ]
  },
  {
   "cell_type": "code",
   "execution_count": null,
   "metadata": {},
   "outputs": [],
   "source": [
    "edited_file = create_edited_df(edited_file, big_list_parametrs)"
   ]
  },
  {
   "cell_type": "code",
   "execution_count": null,
   "metadata": {},
   "outputs": [],
   "source": []
  },
  {
   "cell_type": "code",
   "execution_count": null,
   "metadata": {},
   "outputs": [],
   "source": []
  },
  {
   "cell_type": "code",
   "execution_count": null,
   "metadata": {},
   "outputs": [],
   "source": []
  },
  {
   "cell_type": "code",
   "execution_count": null,
   "metadata": {},
   "outputs": [],
   "source": [
    "error_wells = ['689', '202', '353']"
   ]
  },
  {
   "cell_type": "markdown",
   "metadata": {},
   "source": [
    "Построение графиков для всех скважин"
   ]
  },
  {
   "cell_type": "code",
   "execution_count": null,
   "metadata": {},
   "outputs": [],
   "source": [
    "#for i in files:\n",
    "for i in ['1509']:\n",
    "    if i not in error_wells:\n",
    "        print(\"Построение графиков для скважины \" + i)\n",
    "        well = i\n",
    "        this_file_path = current_path + \"\\\\data\\\\\" + well +  \"\\\\\" + well + \"_first_edit\" +  \".csv\"\n",
    "        try:\n",
    "            test = pd.read_csv(this_file_path, index_col = '1')\n",
    "        except:\n",
    "            test = pd.read_csv(this_file_path)\n",
    "            test = test.rename(columns={\"Unnamed: 0\": \"1\"})\n",
    "            test.index = test[\"1\"]\n",
    "        test.index = pd.to_datetime(test.index)\n",
    "        test_resampled = test.resample('3h').mean()\n",
    "\n",
    "        test_resampled = test_resampled.dropna(subset = ['Объемный дебит жидкости'])\n",
    "\n",
    "        all_traces = pw.create_traces_list_for_all_columms(test_resampled, chosen_mode = 'lines+markers')\n",
    "\n",
    "        data = all_traces\n",
    "        path_to_plot = current_path + \"\\\\data\\\\\" + well +  \"\\\\\" + \\\n",
    "                    'Исходные данные (first_edit) по 3 часа без интерполяции для ' + well +  '.html'\n",
    "        print(\"Сохранение графика в:\")\n",
    "        print(path_to_plot)\n",
    "        pw.plot_subplots(data, path_to_plot, True)\n",
    "        #plot_corr_heatmap(test_resampled, \"Корреляционная карта для данных по 3 часа без интерполяции\")"
   ]
  },
  {
   "cell_type": "code",
   "execution_count": null,
   "metadata": {},
   "outputs": [],
   "source": []
  },
  {
   "cell_type": "code",
   "execution_count": null,
   "metadata": {},
   "outputs": [],
   "source": []
  },
  {
   "cell_type": "code",
   "execution_count": null,
   "metadata": {},
   "outputs": [],
   "source": [
    "#test = pd.read_csv(\"edited_kobzar2.csv\", index_col = \"2\")\n",
    "#test.index = pd.to_datetime(test.index)\n",
    "#\n",
    "#test_resampled = test.resample('3h').mean()\n",
    "#\n",
    "#test_resampled = test_resampled.dropna(subset = [' Объемный дебит жидкости'])\n",
    "#\n",
    "#all_traces = pw.create_traces_list_for_all_columms(test_resampled, chosen_mode = 'lines')\n",
    "#\n",
    "#data = all_traces\n",
    "#pw.plot_subplots(data, 'Исходные данные по 3 часа без интерполяции' + '.html', True)\n",
    "#"
   ]
  },
  {
   "cell_type": "code",
   "execution_count": null,
   "metadata": {},
   "outputs": [],
   "source": []
  }
 ],
 "metadata": {
  "kernelspec": {
   "display_name": "Python 3",
   "language": "python",
   "name": "python3"
  },
  "language_info": {
   "codemirror_mode": {
    "name": "ipython",
    "version": 3
   },
   "file_extension": ".py",
   "mimetype": "text/x-python",
   "name": "python",
   "nbconvert_exporter": "python",
   "pygments_lexer": "ipython3",
   "version": "3.7.3"
  }
 },
 "nbformat": 4,
 "nbformat_minor": 2
}
