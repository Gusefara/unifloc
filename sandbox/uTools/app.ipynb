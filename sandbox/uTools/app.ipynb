{
 "cells": [
  {
   "cell_type": "code",
   "execution_count": null,
   "metadata": {},
   "outputs": [],
   "source": [
    "import os\n",
    "import preprocessor as prep\n",
    "import pandas as pd\n",
    "import unifloc.uniflocpy.uTools.plotly_workflow as pw\n",
    "import datetime\n"
   ]
  },
  {
   "cell_type": "code",
   "execution_count": null,
   "metadata": {},
   "outputs": [],
   "source": [
    "well_name = '507'\n",
    "chess_file_name = 'Скв. 507 (01.07.2018-31.03.2019).xls'\n",
    "\n",
    "read_initial_data = False\n",
    "plot_initial_data = False\n",
    "create_input_data = True\n",
    "created_input_data_type = 1 # 0 - adaptation input, 1 - restore input with calibation coefficients"
   ]
  },
  {
   "cell_type": "code",
   "execution_count": null,
   "metadata": {},
   "outputs": [],
   "source": [
    "current_path = os.getcwd()\n",
    "time_mark = datetime.datetime.today().strftime('%Y_%m_%d_%H_%M_%S')\n",
    "path_to_data = current_path + \"\\\\data\\\\\"\n",
    "path_to_work_dir = current_path + \"\\\\data\\\\\" + well_name +  \"\\\\\"\n",
    "save_dir_name = 'init_edit'\n",
    "path_to_save = path_to_work_dir + save_dir_name + '\\\\'\n",
    "dirnames_list = []\n",
    "for (dirpath, dirnames, filenames) in os.walk(path_to_data):\n",
    "    dirnames_list.extend(dirnames)\n",
    "    break\n",
    "print(dirnames_list)"
   ]
  },
  {
   "cell_type": "markdown",
   "metadata": {},
   "source": [
    "Обработка исходных данных"
   ]
  },
  {
   "cell_type": "code",
   "execution_count": null,
   "metadata": {},
   "outputs": [],
   "source": [
    "\n",
    "if read_initial_data:\n",
    "    try:\n",
    "        os.mkdir(path_to_work_dir + save_dir_name)\n",
    "    except:\n",
    "        pass\n",
    "    data_file_path = path_to_work_dir + well_name + \".csv\"\n",
    "    well_data = pd.read_csv(data_file_path,sep=';', header=None)\n",
    "    well_data = prep.initial_editing(well_data, well_name)\n",
    "    well_data = prep.create_edited_df(well_data)\n",
    "    if plot_initial_data:\n",
    "        plot_file_path = path_to_save + well_name + '_init_sp.html'\n",
    "        well_data_traces = pw.create_traces_list_for_all_columms(well_data, 'lines+markers', low_memory = True)\n",
    "        pw.plot_subplots(well_data_traces, plot_file_path, True)\n",
    "        \n",
    "    well_data.to_csv(path_to_save + well_name + \"_first_edit.csv\")"
   ]
  },
  {
   "cell_type": "markdown",
   "metadata": {},
   "source": [
    "Генерация входных данных в модель для адаптации и восстановления дебитов"
   ]
  },
  {
   "cell_type": "code",
   "execution_count": null,
   "metadata": {},
   "outputs": [],
   "source": [
    "left_boundary = [datetime.datetime(2018,8,3)]#, datetime.datetime(2018,11,29)]\n",
    "right_boundary = [datetime.datetime(2018,8,5)]#, datetime.datetime(2019,2,28)]"
   ]
  },
  {
   "cell_type": "code",
   "execution_count": null,
   "metadata": {},
   "outputs": [],
   "source": [
    "edited_data_cs = pd.read_csv(path_to_save + well_name + \"_first_edit.csv\")\n",
    "edited_data_cs.index = pd.to_datetime(edited_data_cs['Время'])\n",
    "del edited_data_cs['Время']\n",
    "edited_data_cs = edited_data_cs.resample('3h').mean()\n",
    "edited_data_cs['Выходная частота ПЧ'] = edited_data_cs['Выходная частота ПЧ'].fillna(method='ffill')\n",
    "edited_data_cs['Температура на приеме насоса (пласт. жидкость)']  = \\\n",
    "        edited_data_cs['Температура на приеме насоса (пласт. жидкость)'].fillna(method='ffill')\n",
    "if created_input_data_type == 0:\n",
    "    edited_data_cs = edited_data_cs.dropna(subset =['Объемный дебит жидкости'])\n",
    "edited_data_cs = edited_data_cs.fillna(method='ffill')\n",
    "edited_data_cs['ГФ'] = edited_data_cs['Объемный дебит газа'] / edited_data_cs['Объемный дебит нефти']\n",
    "edited_data_cs = prep.mark_df_columns(edited_data_cs, 'СУ')"
   ]
  },
  {
   "cell_type": "code",
   "execution_count": null,
   "metadata": {},
   "outputs": [],
   "source": [
    "chess_data = pd.read_excel(path_to_work_dir + chess_file_name)\n",
    "chess_data.index = pd.to_datetime(chess_data['Дата'], dayfirst = True, format = \"%d.%m.%Y\", infer_datetime_format=True)\n",
    "del chess_data['Дата']\n",
    "chess_data.index.name = 'Время'\n",
    "chess_data = chess_data[chess_data.columns[5:]]\n",
    "chess_data = chess_data.resample('3h').last()\n",
    "chess_data = chess_data.fillna(method='ffill')\n",
    "chess_data = prep.mark_df_columns(chess_data, 'Ш')"
   ]
  },
  {
   "cell_type": "code",
   "execution_count": null,
   "metadata": {},
   "outputs": [],
   "source": [
    "if created_input_data_type == 0:\n",
    "    input_data_dir_name = 'adapt_input_' + time_mark\n",
    "    path_to_input_data = path_to_work_dir + input_data_dir_name + '\\\\'\n",
    "    if create_input_data:\n",
    "        try:\n",
    "            os.mkdir(path_to_work_dir + input_data_dir_name)\n",
    "        except:\n",
    "            pass\n",
    "    created_input_data = edited_data_cs.join(chess_data, how = 'outer')\n",
    "    created_input_data = created_input_data.dropna(subset = ['Объемный дебит жидкости (СУ)'])\n",
    "    created_input_data = prep.cut_df(created_input_data, left_boundary, right_boundary)\n",
    "    plot_file_path = path_to_input_data + well_name + '_adapt_input.html'\n",
    "    input_data_traces = pw.create_traces_list_for_all_columms(created_input_data, 'lines+markers', low_memory = True)\n",
    "    pw.plot_subplots(input_data_traces, plot_file_path, True)\n",
    "    \n",
    "    created_input_data.to_csv(path_to_input_data + well_name + '_adapt_input.csv')"
   ]
  },
  {
   "cell_type": "code",
   "execution_count": null,
   "metadata": {},
   "outputs": [],
   "source": [
    "print(path_to_input_data + well_name + '_adapt_input.csv')\n",
    "    "
   ]
  },
  {
   "cell_type": "code",
   "execution_count": null,
   "metadata": {},
   "outputs": [],
   "source": [
    "dir_name_with_input_data = 'second_edit' + '\\\\'\n",
    "input_data_file_name = '507_adapt_input'\n",
    "dir_name_with_calculated_data = 'adaptation_2019_11_03_16_43' + '\\\\'\n",
    "calculated_data_file_name = '507_adapt_1'"
   ]
  },
  {
   "cell_type": "code",
   "execution_count": null,
   "metadata": {},
   "outputs": [],
   "source": [
    "calculated_data = prep.load_calculated_data_from_csv(path_to_work_dir + dir_name_with_calculated_data +\n",
    "                                                calculated_data_file_name +  '.csv')"
   ]
  },
  {
   "cell_type": "code",
   "execution_count": null,
   "metadata": {},
   "outputs": [],
   "source": [
    "input_data = pd.read_csv(path_to_work_dir + dir_name_with_input_data + input_data_file_name +  '.csv')\n",
    "input_data.index = input_data['Время']\n",
    "del input_data['Время']\n",
    "all_data = input_data.join(calculated_data, how = 'outer')\n",
    "\n",
    "all_data.to_csv(path_to_work_dir + dir_name_with_calculated_data + well_name + '_calc_and_input' +  '.csv' )"
   ]
  },
  {
   "cell_type": "code",
   "execution_count": null,
   "metadata": {},
   "outputs": [],
   "source": [
    "calibr_data = calculated_data[['К. калибровки по напору - множитель (Модель)',\n",
    "                               'К. калибровки по мощности - множитель (Модель)']]\n",
    "calibr_data = prep.mark_df_columns(calibr_data, 'Подготовленные')\n",
    "calibr_data = calibr_data.resample('3h').mean()\n",
    "calibr_data = calibr_data.interpolate()"
   ]
  },
  {
   "cell_type": "code",
   "execution_count": null,
   "metadata": {},
   "outputs": [],
   "source": [
    "if created_input_data_type == 1:\n",
    "    input_data_dir_name = 'restore_input_' + time_mark\n",
    "    path_to_input_data = path_to_work_dir + input_data_dir_name + '\\\\'\n",
    "    if create_input_data:\n",
    "        try:\n",
    "            os.mkdir(path_to_work_dir + input_data_dir_name)\n",
    "        except:\n",
    "            pass\n",
    "    created_input_data = edited_data_cs.join(chess_data, how = 'outer')\n",
    "    created_input_data = created_input_data.join(calibr_data, how ='inner')\n",
    "    created_input_data = prep.cut_df(created_input_data, left_boundary, right_boundary)\n",
    "    plot_file_path = path_to_input_data + well_name + '_restore_input.html'\n",
    "    input_data_traces = pw.create_traces_list_for_all_columms(created_input_data, 'lines+markers', low_memory = True)\n",
    "    pw.plot_subplots(input_data_traces, plot_file_path, True)\n",
    "    created_input_data.to_csv(path_to_input_data + well_name + '_restore_input.csv')"
   ]
  },
  {
   "cell_type": "code",
   "execution_count": null,
   "metadata": {},
   "outputs": [],
   "source": []
  },
  {
   "cell_type": "code",
   "execution_count": null,
   "metadata": {},
   "outputs": [],
   "source": []
  },
  {
   "cell_type": "code",
   "execution_count": null,
   "metadata": {},
   "outputs": [],
   "source": []
  },
  {
   "cell_type": "code",
   "execution_count": null,
   "metadata": {},
   "outputs": [],
   "source": []
  }
 ],
 "metadata": {
  "kernelspec": {
   "display_name": "Python 3",
   "language": "python",
   "name": "python3"
  },
  "language_info": {
   "codemirror_mode": {
    "name": "ipython",
    "version": 3
   },
   "file_extension": ".py",
   "mimetype": "text/x-python",
   "name": "python",
   "nbconvert_exporter": "python",
   "pygments_lexer": "ipython3",
   "version": "3.7.3"
  }
 },
 "nbformat": 4,
 "nbformat_minor": 2
}
