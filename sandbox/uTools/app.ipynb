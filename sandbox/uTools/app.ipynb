{
 "cells": [
  {
   "cell_type": "code",
   "execution_count": null,
   "metadata": {},
   "outputs": [],
   "source": [
    "import os\n",
    "import preprocessor as prep\n",
    "import postprocessor as postp\n",
    "import pandas as pd\n",
    "import unifloc.uniflocpy.uTools.plotly_workflow as pw\n",
    "import datetime\n",
    "from sklearn import metrics"
   ]
  },
  {
   "cell_type": "markdown",
   "metadata": {},
   "source": [
    "Общие настройки и флаги для работы"
   ]
  },
  {
   "cell_type": "code",
   "execution_count": null,
   "metadata": {},
   "outputs": [],
   "source": [
    "well_name = '507'\n",
    "chess_file_name = 'Скв. 507 (01.07.2018-31.03.2019).xls'\n",
    "\n",
    "read_initial_data = False\n",
    "plot_initial_data = False\n",
    "create_input_data = True\n",
    "created_input_data_type = 0 # 0 - adaptation input, 1 - restore input with calibation coefficients"
   ]
  },
  {
   "cell_type": "markdown",
   "metadata": {},
   "source": [
    "Определение путей к данным"
   ]
  },
  {
   "cell_type": "code",
   "execution_count": null,
   "metadata": {},
   "outputs": [],
   "source": [
    "current_path = os.getcwd()\n",
    "time_mark = datetime.datetime.today().strftime('%Y_%m_%d_%H_%M_%S')\n",
    "path_to_data = current_path + \"\\\\data\\\\\"\n",
    "path_to_work_dir = current_path + \"\\\\data\\\\\" + well_name +  \"\\\\\"\n",
    "save_dir_name = 'init_edit'\n",
    "path_to_save = path_to_work_dir + save_dir_name + '\\\\'\n",
    "dirnames_list = []\n",
    "for (dirpath, dirnames, filenames) in os.walk(path_to_data):\n",
    "    dirnames_list.extend(dirnames)\n",
    "    break\n",
    "print(dirnames_list)"
   ]
  },
  {
   "cell_type": "markdown",
   "metadata": {},
   "source": [
    "# Обработка исходных данных"
   ]
  },
  {
   "cell_type": "code",
   "execution_count": null,
   "metadata": {},
   "outputs": [],
   "source": [
    "\n",
    "if read_initial_data:\n",
    "    try:\n",
    "        os.mkdir(path_to_work_dir + save_dir_name)\n",
    "    except:\n",
    "        pass\n",
    "    data_file_path = path_to_work_dir + well_name + \".csv\"\n",
    "    well_data = pd.read_csv(data_file_path,sep=';', header=None)\n",
    "    well_data = prep.initial_editing(well_data, well_name)\n",
    "    well_data = prep.create_edited_df(well_data)\n",
    "    if plot_initial_data:\n",
    "        plot_file_path = path_to_save + well_name + '_init_sp.html'\n",
    "        well_data_traces = pw.create_traces_list_for_all_columms(well_data, 'lines+markers', low_memory = True)\n",
    "        pw.plot_subplots(well_data_traces, plot_file_path, True)\n",
    "        \n",
    "    well_data.to_csv(path_to_save + well_name + \"_first_edit.csv\")"
   ]
  },
  {
   "cell_type": "markdown",
   "metadata": {},
   "source": [
    "# Генерация входных данных для адаптации"
   ]
  },
  {
   "cell_type": "markdown",
   "metadata": {},
   "source": [
    "Задание границ"
   ]
  },
  {
   "cell_type": "code",
   "execution_count": null,
   "metadata": {},
   "outputs": [],
   "source": [
    "left_boundary = [datetime.datetime(2018,8,3)]#, datetime.datetime(2018,11,29)]\n",
    "right_boundary = [datetime.datetime(2018,8,5)]#, datetime.datetime(2019,2,28)]"
   ]
  },
  {
   "cell_type": "markdown",
   "metadata": {},
   "source": [
    "Чтение исходных данных со СУ (в шахмоткоподобном виде)"
   ]
  },
  {
   "cell_type": "code",
   "execution_count": null,
   "metadata": {},
   "outputs": [],
   "source": [
    "edited_data_cs = pd.read_csv(path_to_save + well_name + \"_first_edit.csv\", parse_dates = True, index_col = 'Время')\n",
    "edited_data_cs = edited_data_cs.resample('3h').mean()\n",
    "edited_data_cs['Выходная частота ПЧ'] = edited_data_cs['Выходная частота ПЧ'].fillna(method='ffill')\n",
    "edited_data_cs['Температура на приеме насоса (пласт. жидкость)']  = \\\n",
    "        edited_data_cs['Температура на приеме насоса (пласт. жидкость)'].fillna(method='ffill')\n",
    "if created_input_data_type == 0:\n",
    "    edited_data_cs = edited_data_cs.dropna(subset =['Объемный дебит жидкости'])\n",
    "edited_data_cs = edited_data_cs.fillna(method='ffill')\n",
    "edited_data_cs['ГФ'] = edited_data_cs['Объемный дебит газа'] / edited_data_cs['Объемный дебит нефти']\n",
    "edited_data_cs = prep.mark_df_columns(edited_data_cs, 'СУ')"
   ]
  },
  {
   "cell_type": "markdown",
   "metadata": {},
   "source": [
    "Чтение данных с шахматки"
   ]
  },
  {
   "cell_type": "code",
   "execution_count": null,
   "metadata": {},
   "outputs": [],
   "source": [
    "chess_data = pd.read_excel(path_to_work_dir + chess_file_name)\n",
    "chess_data.index = pd.to_datetime(chess_data['Дата'], dayfirst = True, format = \"%d.%m.%Y\", infer_datetime_format=True)\n",
    "del chess_data['Дата']\n",
    "chess_data.index.name = 'Время'\n",
    "chess_data = chess_data[chess_data.columns[5:]]\n",
    "chess_data = chess_data.resample('3h').last()\n",
    "chess_data = chess_data.fillna(method='ffill')\n",
    "chess_data = prep.mark_df_columns(chess_data, 'Ш')"
   ]
  },
  {
   "cell_type": "markdown",
   "metadata": {},
   "source": [
    "Генерация входных данных для адаптации"
   ]
  },
  {
   "cell_type": "code",
   "execution_count": null,
   "metadata": {},
   "outputs": [],
   "source": [
    "if created_input_data_type == 0:\n",
    "    input_data_dir_name = 'adapt_input_' + time_mark\n",
    "    path_to_input_data = path_to_work_dir + input_data_dir_name + '\\\\'\n",
    "    if create_input_data:\n",
    "        try:\n",
    "            os.mkdir(path_to_work_dir + input_data_dir_name)\n",
    "        except:\n",
    "            pass\n",
    "    created_input_data = edited_data_cs.join(chess_data, how = 'outer')\n",
    "    created_input_data = created_input_data.dropna(subset = ['Объемный дебит жидкости (СУ)'])\n",
    "    created_input_data = prep.cut_df(created_input_data, left_boundary, right_boundary)\n",
    "    plot_file_path = path_to_input_data + well_name + '_adapt_input.html'\n",
    "    input_data_traces = pw.create_traces_list_for_all_columms(created_input_data, 'lines+markers', low_memory = True)\n",
    "    pw.plot_subplots(input_data_traces, plot_file_path, True)\n",
    "    \n",
    "    created_input_data.to_csv(path_to_input_data + well_name + '_adapt_input.csv')"
   ]
  },
  {
   "cell_type": "markdown",
   "metadata": {},
   "source": [
    "Построение только тех данных, которые будут использоваться в модели"
   ]
  },
  {
   "cell_type": "code",
   "execution_count": null,
   "metadata": {},
   "outputs": [],
   "source": [
    "if created_input_data_type == 0:\n",
    "    qliq = {'Объемный дебит жидкости (СУ)':['Объемный дебит жидкости (СУ)']}\n",
    "    pressure_intake = {'Давление на приеме': ['Давление на приеме насоса (пласт. жидкость) (СУ)']}\n",
    "    pressure_wh = {'Рлин ТМ (Ш)': ['Рлин ТМ (Ш)']}\n",
    "    pressure_bf = {'Рбуф (Ш)': ['Рбуф (Ш)']}\n",
    "    temp_intake = {'Температура на приеме насоса (пласт. жидкость) (СУ)': ['Температура на приеме насоса (пласт. жидкость) (СУ)']}\n",
    "    frequencies = {'Частота, Гц':\n",
    "                   ['F вращ ТМ (Ш)', 'Выходная частота ПЧ (СУ)']}\n",
    "    choke = {'Размер штуцера, мм': ['Dшт (Ш)']}\n",
    "    power = {'Активная мощность (СУ)':['Активная мощность (СУ)']}\n",
    "    voltage = {'Напряжение на выходе ТМПН (СУ)':['Напряжение на выходе ТМПН (СУ)']}\n",
    "    cos = {'Коэффициент мощности (СУ)':['Коэффициент мощности (СУ)']}\n",
    "    gor = {'ГФ (СУ)':['ГФ (СУ)']}\n",
    "    wc = {'Процент обводненности (СУ)':['Процент обводненности (СУ)']}\n",
    "    all_banches = [qliq, gor,wc, pressure_intake, pressure_wh, pressure_bf,\n",
    "                   temp_intake, frequencies, choke,power,voltage,cos]\n",
    "    \n",
    "    pw.create_report_html(created_input_data, all_banches, path_to_input_data + well_name + '_adapt_input_report.html')\n",
    "    "
   ]
  },
  {
   "cell_type": "markdown",
   "metadata": {},
   "source": [
    "# Генерация данных для восстановления дебитов"
   ]
  },
  {
   "cell_type": "code",
   "execution_count": null,
   "metadata": {},
   "outputs": [],
   "source": [
    "dir_name_with_input_data = 'adapt_input_2019_11_04_20_10_03' + '\\\\'\n",
    "input_data_file_name = '507_adapt_input'\n",
    "dir_name_with_calculated_data = 'adaptation_2019_11_04_17_46' + '\\\\'\n",
    "calculated_data_file_name = '507_adapt_1'"
   ]
  },
  {
   "cell_type": "markdown",
   "metadata": {},
   "source": [
    "Загрузка данных адаптации после расчета"
   ]
  },
  {
   "cell_type": "code",
   "execution_count": null,
   "metadata": {},
   "outputs": [],
   "source": [
    "calculated_data = prep.load_calculated_data_from_csv(path_to_work_dir + dir_name_with_calculated_data +\n",
    "                                                calculated_data_file_name +  '.csv')"
   ]
  },
  {
   "cell_type": "markdown",
   "metadata": {},
   "source": [
    "Чтение входных данных для адаптации и объединение данных"
   ]
  },
  {
   "cell_type": "code",
   "execution_count": null,
   "metadata": {},
   "outputs": [],
   "source": [
    "input_data = pd.read_csv(path_to_work_dir + dir_name_with_input_data + input_data_file_name +  '.csv')\n",
    "input_data.index = input_data['Время']\n",
    "del input_data['Время']\n",
    "all_data = input_data.join(calculated_data, how = 'outer')\n",
    "\n",
    "all_data.to_csv(path_to_work_dir + dir_name_with_calculated_data + well_name + '_calc_and_input' +  '.csv' )"
   ]
  },
  {
   "cell_type": "markdown",
   "metadata": {},
   "source": [
    "Построение графиков для данных адаптации"
   ]
  },
  {
   "cell_type": "code",
   "execution_count": null,
   "metadata": {},
   "outputs": [],
   "source": [
    "adapt_data_traces = pw.create_traces_list_for_all_columms(all_data, 'lines+markers', low_memory = True)\n",
    "plot_file_path = path_to_work_dir + dir_name_with_calculated_data + well_name + '_calc_and_input' +  '.html'\n",
    "pw.plot_subplots(adapt_data_traces, plot_file_path, True)"
   ]
  },
  {
   "cell_type": "markdown",
   "metadata": {},
   "source": [
    "Работа с калибровками для восстановления дебитов"
   ]
  },
  {
   "cell_type": "code",
   "execution_count": null,
   "metadata": {},
   "outputs": [],
   "source": [
    "calibr_data = calculated_data[['К. калибровки по напору - множитель (Модель)',\n",
    "                               'К. калибровки по мощности - множитель (Модель)']]\n",
    "calibr_data = prep.mark_df_columns(calibr_data, 'Подготовленные')\n",
    "calibr_data = calibr_data.resample('3h').mean()\n",
    "calibr_data = calibr_data.interpolate()"
   ]
  },
  {
   "cell_type": "markdown",
   "metadata": {},
   "source": [
    "Генерация входных данных для модели для восстановления дебитов"
   ]
  },
  {
   "cell_type": "code",
   "execution_count": null,
   "metadata": {},
   "outputs": [],
   "source": [
    "if created_input_data_type == 1:\n",
    "    input_data_dir_name = 'restore_input_' + time_mark\n",
    "    path_to_input_data = path_to_work_dir + input_data_dir_name + '\\\\'\n",
    "    if create_input_data:\n",
    "        try:\n",
    "            os.mkdir(path_to_work_dir + input_data_dir_name)\n",
    "        except:\n",
    "            pass\n",
    "    created_input_data = edited_data_cs.join(chess_data, how = 'outer')\n",
    "    created_input_data = created_input_data.join(calibr_data, how ='inner')\n",
    "    created_input_data = prep.cut_df(created_input_data, left_boundary, right_boundary)\n",
    "    plot_file_path = path_to_input_data + well_name + '_restore_input.html'\n",
    "    input_data_traces = pw.create_traces_list_for_all_columms(created_input_data, 'lines+markers', low_memory = True)\n",
    "    pw.plot_subplots(input_data_traces, plot_file_path, True)\n",
    "    created_input_data.to_csv(path_to_input_data + well_name + '_restore_input.csv')"
   ]
  },
  {
   "cell_type": "markdown",
   "metadata": {},
   "source": [
    "# Работа с данными после восстановления дебитов"
   ]
  },
  {
   "cell_type": "code",
   "execution_count": null,
   "metadata": {},
   "outputs": [],
   "source": [
    "dir_name_with_input_data = 'restore_input_2019_11_03_17_23_04' + '\\\\'\n",
    "input_data_file_name = '507_restore_input'\n",
    "dir_name_with_calculated_data = 'restore_2019_11_04_17_39' + '\\\\'\n",
    "calculated_data_file_name = '507_restore_1'"
   ]
  },
  {
   "cell_type": "markdown",
   "metadata": {},
   "source": [
    "Загрузка данных после восстановления дебитов"
   ]
  },
  {
   "cell_type": "code",
   "execution_count": null,
   "metadata": {},
   "outputs": [],
   "source": [
    "calculated_data = prep.load_calculated_data_from_csv(path_to_work_dir + dir_name_with_calculated_data +\n",
    "                                                calculated_data_file_name +  '.csv')"
   ]
  },
  {
   "cell_type": "markdown",
   "metadata": {},
   "source": [
    "Объединение входных и выходных данным модели"
   ]
  },
  {
   "cell_type": "code",
   "execution_count": null,
   "metadata": {},
   "outputs": [],
   "source": [
    "input_data = pd.read_csv(path_to_work_dir + dir_name_with_input_data + input_data_file_name +  '.csv', parse_dates = True, index_col = 'Время')\n",
    "all_data = input_data.join(calculated_data, how = 'outer')\n",
    "all_data.to_csv(path_to_work_dir + dir_name_with_calculated_data + well_name + '_calc_and_input' +  '.csv' )"
   ]
  },
  {
   "cell_type": "markdown",
   "metadata": {},
   "source": [
    "Построение графиков восстановления дебитов"
   ]
  },
  {
   "cell_type": "code",
   "execution_count": null,
   "metadata": {},
   "outputs": [],
   "source": [
    "input_data_traces = pw.create_traces_list_for_all_columms(all_data, 'lines+markers', low_memory = True)\n",
    "plot_file_path = path_to_work_dir + dir_name_with_calculated_data + well_name + '_calc_and_input' +  '.html'\n",
    "pw.plot_subplots(input_data_traces, plot_file_path, True)"
   ]
  },
  {
   "cell_type": "markdown",
   "metadata": {},
   "source": [
    "# Сведение данных адаптации и восстановления"
   ]
  },
  {
   "cell_type": "code",
   "execution_count": null,
   "metadata": {},
   "outputs": [],
   "source": [
    "path_to_adapt_dir = 'adaptation_2019_11_04_17_46' + '\\\\'\n",
    "path_to_restore_dir = 'restore_2019_11_04_17_39' + '\\\\'"
   ]
  },
  {
   "cell_type": "markdown",
   "metadata": {},
   "source": [
    "Загрузка и слияние данных адаптации и восстановления"
   ]
  },
  {
   "cell_type": "code",
   "execution_count": null,
   "metadata": {},
   "outputs": [],
   "source": [
    "adapt_data_with_input = pd.read_csv(path_to_work_dir + path_to_adapt_dir + well_name + '_calc_and_input' + '.csv' , parse_dates = True, index_col = 'Время')\n",
    "adapt_data_with_input = prep.mark_df_columns(adapt_data_with_input, 'ADAPT')\n",
    "restore_data_with_input = pd.read_csv(path_to_work_dir + path_to_restore_dir + well_name + '_calc_and_input' + '.csv' , parse_dates = True, index_col = 'Время')\n",
    "restore_data_with_input = prep.mark_df_columns(restore_data_with_input, 'RESTORE')\n",
    "overall_data = adapt_data_with_input.join(restore_data_with_input, how = 'outer')\n"
   ]
  },
  {
   "cell_type": "markdown",
   "metadata": {},
   "source": [
    "Заключительная обработка данных"
   ]
  },
  {
   "cell_type": "code",
   "execution_count": null,
   "metadata": {},
   "outputs": [],
   "source": [
    "overall_data['Активная мощность (СУ) (ADAPT)'] = overall_data['Активная мощность (СУ) (ADAPT)'] * 1000\n",
    "overall_data['Загрузка двигателя (СУ) (ADAPT)'] = overall_data['Загрузка двигателя (СУ) (ADAPT)'] / 100\n",
    "overall_data['Относительная ошибка расчетов (Q ж), %'] = postp.relative_error_perc(overall_data['Объемный дебит жидкости (СУ) (ADAPT)'],\n",
    "                                                                      overall_data['Q ж, м3/сут (Модель) (ADAPT)'])\n",
    "overall_data['Относительная ошибка расчетов (N акт), %'] = postp.relative_error_perc(overall_data['Активная мощность (СУ) (ADAPT)'],\n",
    "                                                                      overall_data['Мощность, передаваемая СУ (Модель) (RESTORE)'])"
   ]
  },
  {
   "cell_type": "markdown",
   "metadata": {},
   "source": [
    "Подготовка вывода в отчет"
   ]
  },
  {
   "cell_type": "code",
   "execution_count": null,
   "metadata": {},
   "outputs": [],
   "source": [
    "liquid_rates = {'Дебиты': \n",
    "                ['Qж ТМ (Ш) (ADAPT)','Объемный дебит жидкости (СУ) (ADAPT)', 'Q ж, м3/сут (Модель) (ADAPT)',\n",
    "                  'Q ж, м3/сут (Модель) (RESTORE)'] }\n",
    "\n",
    "calibrs = {'Калибровки по напору и мощности':\n",
    "           ['К. калибровки по напору - множитель (Модель) (ADAPT)',\n",
    "               'К. калибровки по мощности - множитель (Модель) (ADAPT)', \n",
    "                  'К. калибровки по напору - множитель (Модель) (RESTORE)',\n",
    "               'К. калибровки по мощности - множитель (Модель) (RESTORE)']}\n",
    "\n",
    "gor_wc = {'ГФ, м3/м3 и Обводненность, %':\n",
    "          ['ГФ (Модель) (ADAPT)', 'Обв, % (Модель) (ADAPT)',\n",
    "                  'ГФ (Модель) (RESTORE)', 'Обв, % (Модель) (RESTORE)']}\n",
    "\n",
    "temperatures = {'Температура, С':\n",
    "                ['T устья, С (Модель) (ADAPT)', 'T устья, С (Модель) (RESTORE)', \n",
    "                'T прием ЭЦН, C (Модель) (ADAPT)', 'T прием ЭЦН, C (Модель) (RESTORE)']}\n",
    "\n",
    "pressures_up = {'Давления (Устьевое и буферное), атм':\n",
    "                ['Рбуф (Ш) (ADAPT)', 'P буф., атм (Модель) (ADAPT)', 'P буф., атм (Модель) (RESTORE)',\n",
    "             'Рлин ТМ (Ш) (ADAPT)', 'P лин., атм (Модель) (ADAPT)', 'P лин., атм (Модель) (RESTORE)']}\n",
    "\n",
    "pressures_down = {'Давления (На приеме), атм':\n",
    "                  ['P прием ЭЦН, атм (Модель) (ADAPT)', 'P прием ЭЦН, атм (Модель) (RESTORE)']}\n",
    "                 \n",
    "frequencies = {'Частота, Гц':\n",
    "               ['F вращ ТМ (Ш) (ADAPT)', 'Выходная частота ПЧ (СУ) (ADAPT)',\n",
    "               'F тока, ГЦ (Модель) (ADAPT)', 'F тока, ГЦ (Модель) (RESTORE)']}\n",
    "\n",
    "beam_sizes = {'Размер штуцера, мм':\n",
    "              ['Dшт (Ш) (ADAPT)', 'Dшт (Ш) (RESTORE)']}\n",
    "\n",
    "powers = {'Активная мощность, Вт':\n",
    "          ['Активная мощность (СУ) (ADAPT)', 'Мощность, передаваемая СУ (Модель) (ADAPT)', 'Мощность, передаваемая СУ (Модель) (RESTORE)']}\n",
    "                       \n",
    "currents= {'Токи, А':\n",
    "           ['Ток фазы А (СУ) (ADAPT)', 'I, А (Модель) (ADAPT)', 'I, А (Модель) (RESTORE)']}\n",
    "               \n",
    "loads = {'Загрузка, д.ед.':\n",
    "         ['Загрузка двигателя (Модель) (ADAPT)', 'Загрузка двигателя (Модель) (RESTORE)']}\n",
    "\n",
    "efficiency = {'КПД ЭЦН, д.ед.':\n",
    "              ['КПД ЭЦН, д.ед. (Модель) (ADAPT)', 'КПД ЭЦН, д.ед. (Модель) (RESTORE)']}\n",
    "\n",
    "metrics = {'Метрики расчета':\n",
    "           ['Значение функции ошибки (Модель) (ADAPT)',\n",
    "                  'Значение функции ошибки (Модель) (RESTORE)',\n",
    "          'Относительная ошибка расчетов (Q ж), %',\n",
    "          'Относительная ошибка расчетов (N акт), %']}\n",
    "\n",
    "dif_pressure = {'Перепад давления в ЭЦН, атм':\n",
    "                ['Перепад давления в ЭЦН, атм (Модель) (ADAPT)', 'Перепад давления в ЭЦН, атм (Модель) (RESTORE)']}\n",
    "\n",
    "all_banches = [liquid_rates,calibrs, metrics, gor_wc, temperatures,pressures_up, \n",
    "               pressures_down,frequencies, beam_sizes,powers, currents,loads,efficiency, dif_pressure]"
   ]
  },
  {
   "cell_type": "markdown",
   "metadata": {},
   "source": [
    "Создание сводного отчета"
   ]
  },
  {
   "cell_type": "code",
   "execution_count": null,
   "metadata": {},
   "outputs": [],
   "source": [
    "plot_file_path = path_to_work_dir + path_to_restore_dir + well_name + '_adapt_and_restore_report' +  '.html'\n",
    "pw.create_report_html(overall_data, all_banches, plot_file_path)"
   ]
  },
  {
   "cell_type": "code",
   "execution_count": null,
   "metadata": {},
   "outputs": [],
   "source": [
    "\n"
   ]
  }
 ],
 "metadata": {
  "kernelspec": {
   "display_name": "Python 3",
   "language": "python",
   "name": "python3"
  },
  "language_info": {
   "codemirror_mode": {
    "name": "ipython",
    "version": 3
   },
   "file_extension": ".py",
   "mimetype": "text/x-python",
   "name": "python",
   "nbconvert_exporter": "python",
   "pygments_lexer": "ipython3",
   "version": "3.7.3"
  }
 },
 "nbformat": 4,
 "nbformat_minor": 2
}
