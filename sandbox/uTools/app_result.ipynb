{
 "cells": [
  {
   "cell_type": "markdown",
   "metadata": {},
   "source": [
    "# Тетрадка\n",
    "\n",
    "тетрадка для подведения итогов расчета"
   ]
  },
  {
   "cell_type": "code",
   "execution_count": null,
   "metadata": {},
   "outputs": [],
   "source": [
    "import os\n",
    "import sys\n",
    "sys.path.append('../../../')\n",
    "import pandas as pd\n",
    "import unifloc.uniflocpy.uTools.plotly_workflow as pw\n",
    "import datetime\n",
    "from multiprocessing import Pool"
   ]
  },
  {
   "cell_type": "code",
   "execution_count": null,
   "metadata": {},
   "outputs": [],
   "source": [
    "import plot_workflow.plotly_option as pltl_opt\n",
    "import plot_workflow.plotly_workflow as pltl_wf\n",
    "\n",
    "from preproc_p import workflow_cs_data\n",
    "from preproc_p import workflow_chess_data\n",
    "from preproc_p import preproc_tool\n",
    "from preproc_p import workflow_calc_data\n",
    "from preproc_p import workflow_tr_data\n",
    "from preproc_p import filtration\n",
    "from proc_p import processor as proc\n",
    "\n",
    "from ml import calibr_restore as calibr_restore\n",
    "from postproc_p import result_and_metrics as result_and_metrics"
   ]
  },
  {
   "cell_type": "code",
   "execution_count": null,
   "metadata": {},
   "outputs": [],
   "source": [
    "current_path = os.getcwd()\n",
    "time_mark = '' #datetime.datetime.today().strftime('%Y_%m_%d_%H_%M_%S')\n",
    "path_to_data = current_path + \"\\\\data\\\\\"\n",
    "dirnames_list = []\n",
    "for (dirpath, dirnames, filenames) in os.walk(path_to_data):\n",
    "    dirnames_list.extend(dirnames)\n",
    "    break\n",
    "print(dirnames_list)"
   ]
  },
  {
   "cell_type": "code",
   "execution_count": null,
   "metadata": {},
   "outputs": [],
   "source": [
    "calculated_wells =  preproc_tool.find_full_path_by_pattern(os.getcwd(), f\"*_adapt_and_restore_metrics_report.xlsx*\", 'restore')\n"
   ]
  },
  {
   "cell_type": "code",
   "execution_count": null,
   "metadata": {},
   "outputs": [],
   "source": [
    "calculated_wells"
   ]
  },
  {
   "cell_type": "code",
   "execution_count": null,
   "metadata": {},
   "outputs": [],
   "source": [
    "real_calculated_wells =[]\n",
    "for i in calculated_wells:\n",
    "    if len(i) <= len(calculated_wells[0]):\n",
    "        real_calculated_wells.append(i)\n",
    "    "
   ]
  },
  {
   "cell_type": "code",
   "execution_count": null,
   "metadata": {},
   "outputs": [],
   "source": [
    "real_calculated_wells"
   ]
  },
  {
   "cell_type": "code",
   "execution_count": null,
   "metadata": {},
   "outputs": [],
   "source": [
    "metrics = []\n",
    "for this_path in real_calculated_wells:\n",
    "    overall_metrics = pd.read_excel(this_path)\n",
    "    \n",
    "    well_name = this_path.split('\\\\')\n",
    "    well_name = well_name[-1]\n",
    "    well_name = well_name.split('_adapt_and_restore_metrics_')\n",
    "    well_name = well_name[0]\n",
    "    overall_metrics['№ скважины'] = [well_name]\n",
    "    metrics.append(overall_metrics)"
   ]
  },
  {
   "cell_type": "code",
   "execution_count": null,
   "metadata": {},
   "outputs": [],
   "source": [
    "border = datetime.datetime(2020,2,5)"
   ]
  },
  {
   "cell_type": "code",
   "execution_count": null,
   "metadata": {},
   "outputs": [],
   "source": [
    "forecast = []\n",
    "for this_path in real_calculated_wells:\n",
    "    this_dict = {}\n",
    "    \n",
    "    well_name = this_path.split('\\\\')\n",
    "    well_name = well_name[-1]\n",
    "    well_name = well_name.split('_adapt_and_restore_metrics_')\n",
    "    well_name = well_name[0]\n",
    "    \n",
    "    this_dict['Номер скважины'] = [well_name]\n",
    "    \n",
    "    this_forecast = pd.read_csv(this_path, index_col = 'Время', parse_dates = True)\n",
    "    real_df= this_forecast[this_forecast.index < border]\n",
    "    forecast_df = this_forecast[this_forecast.index >= border]\n",
    "    this_dict['Дебит жидкости фактический на конец периода, м3/сут'] = real_df.tail(1)['Дебит жидкости, м3/сут'].values\n",
    "    this_dict['Дебит жидкости предсказанный на конец периода, м3/сут'] = [forecast_df['Дебит жидкости, м3/сут (PREDICTION)'].dropna().values[0]]\n",
    "    this_dict['Дебит жидкости линией тренда, м3/сут'] = forecast_df.head(1)['Дебит жидкости, м3/сут'].values\n",
    "    this_dict['Относительное  изменение дебита жидкости по калибировкам, %'] = ((this_dict['Дебит жидкости предсказанный на конец периода, м3/сут'] - \n",
    "                                                                this_dict['Дебит жидкости фактический на конец периода, м3/сут'])\n",
    "                                                               /this_dict['Дебит жидкости фактический на конец периода, м3/сут'] * 100)\n",
    "    this_dict['Относительное  изменение дебита жидкости по линии тренда, %'] = ((this_dict['Дебит жидкости линией тренда, м3/сут'] - \n",
    "                                                                this_dict['Дебит жидкости фактический на конец периода, м3/сут'])\n",
    "                                                               /this_dict['Дебит жидкости фактический на конец периода, м3/сут'] * 100)\n",
    " \n",
    "    this_dict['Дата прогноза'] = [forecast_df.index[0]]\n",
    "    this_df = pd.DataFrame(this_dict)\n",
    "    forecast.append(this_df)\n",
    "    \n",
    "    \n",
    "\n",
    "    "
   ]
  },
  {
   "cell_type": "code",
   "execution_count": null,
   "metadata": {},
   "outputs": [],
   "source": [
    "result = metrics[0]\n",
    "for i in metrics[1:]:\n",
    "    result = result.append(i)\n",
    "result"
   ]
  },
  {
   "cell_type": "code",
   "execution_count": null,
   "metadata": {},
   "outputs": [],
   "source": [
    "import datetime\n",
    "mark = str(datetime.datetime.today()).replace(':','_')"
   ]
  },
  {
   "cell_type": "code",
   "execution_count": null,
   "metadata": {},
   "outputs": [],
   "source": [
    "result.to_excel(f'result_forecast_{mark}.xlsx')"
   ]
  },
  {
   "cell_type": "code",
   "execution_count": null,
   "metadata": {},
   "outputs": [],
   "source": []
  },
  {
   "cell_type": "code",
   "execution_count": null,
   "metadata": {},
   "outputs": [],
   "source": []
  }
 ],
 "metadata": {
  "kernelspec": {
   "display_name": "Python 3",
   "language": "python",
   "name": "python3"
  },
  "language_info": {
   "codemirror_mode": {
    "name": "ipython",
    "version": 3
   },
   "file_extension": ".py",
   "mimetype": "text/x-python",
   "name": "python",
   "nbconvert_exporter": "python",
   "pygments_lexer": "ipython3",
   "version": "3.7.6"
  }
 },
 "nbformat": 4,
 "nbformat_minor": 2
}
