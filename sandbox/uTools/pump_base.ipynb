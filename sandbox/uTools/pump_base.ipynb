{
 "cells": [
  {
   "cell_type": "code",
   "execution_count": null,
   "metadata": {},
   "outputs": [],
   "source": [
    "import pandas as pd\n",
    "import numpy as np"
   ]
  },
  {
   "cell_type": "code",
   "execution_count": null,
   "metadata": {},
   "outputs": [],
   "source": [
    "true_fond_base = pd.read_excel('Насосы Мехфонда (все).xlsx')"
   ]
  },
  {
   "cell_type": "code",
   "execution_count": null,
   "metadata": {},
   "outputs": [],
   "source": [
    "fond_base = true_fond_base.copy()"
   ]
  },
  {
   "cell_type": "code",
   "execution_count": null,
   "metadata": {},
   "outputs": [],
   "source": [
    "fond_base = true_fond_base"
   ]
  },
  {
   "cell_type": "code",
   "execution_count": null,
   "metadata": {},
   "outputs": [],
   "source": [
    "fond_base = fond_base.drop_duplicates()"
   ]
  },
  {
   "cell_type": "code",
   "execution_count": null,
   "metadata": {},
   "outputs": [],
   "source": [
    "pumps = []"
   ]
  },
  {
   "cell_type": "code",
   "execution_count": null,
   "metadata": {},
   "outputs": [],
   "source": [
    "def get_unique_part_by_column(df, column_name):\n",
    "    unique_parts = []\n",
    "    unique = df[column_name].unique()\n",
    "    for i in unique:\n",
    "        unique_part = df[df[column_name] == i]\n",
    "        unique_parts.append(unique_part)\n",
    "    return unique_parts\n",
    "    "
   ]
  },
  {
   "cell_type": "code",
   "execution_count": null,
   "metadata": {},
   "outputs": [],
   "source": [
    "def separate_from_existence(exist_list, column_name):\n",
    "    new_parts = []\n",
    "    for i in exist_list:\n",
    "        one_parts = get_unique_part_by_column(i, column_name)\n",
    "        new_parts = new_parts + one_parts\n",
    "    return new_parts\n"
   ]
  },
  {
   "cell_type": "code",
   "execution_count": null,
   "metadata": {},
   "outputs": [],
   "source": [
    "fond_base_by_new = get_unique_part_by_column(fond_base, 'Модель')\n",
    "fond_base_by_new = separate_from_existence(fond_base_by_new, 'Источник')\n",
    "fond_base_by_new = separate_from_existence(fond_base_by_new, 'Доступен:1-да,0-нет')\n",
    "fond_base_by_new = separate_from_existence(fond_base_by_new, 'Макс.кол-во ступеней')\n",
    "fond_base_by_new = separate_from_existence(fond_base_by_new, 'Левая граница,м3/сут')\n"
   ]
  },
  {
   "cell_type": "markdown",
   "metadata": {},
   "source": [
    "Объединение отдельных насосов в один DataFrame"
   ]
  },
  {
   "cell_type": "code",
   "execution_count": null,
   "metadata": {},
   "outputs": [],
   "source": [
    "this_id = 0\n",
    "result = fond_base_by_new[0]\n",
    "result['ID'] = this_id\n",
    "this_id += 1\n",
    "for i in fond_base_by_new[1:]:\n",
    "    this_pump = i\n",
    "    this_pump['ID'] = this_id\n",
    "    this_id += 1\n",
    "    result = result.append(this_pump)"
   ]
  },
  {
   "cell_type": "code",
   "execution_count": null,
   "metadata": {},
   "outputs": [],
   "source": [
    "result.head()"
   ]
  },
  {
   "cell_type": "code",
   "execution_count": null,
   "metadata": {},
   "outputs": [],
   "source": [
    "result.to_excel('to_check_base.xlsx')"
   ]
  },
  {
   "cell_type": "markdown",
   "metadata": {},
   "source": [
    "Уникальные случаи, нужно разрешить вручную"
   ]
  },
  {
   "cell_type": "code",
   "execution_count": null,
   "metadata": {},
   "outputs": [],
   "source": [
    "result.columns"
   ]
  },
  {
   "cell_type": "code",
   "execution_count": null,
   "metadata": {
    "scrolled": false
   },
   "outputs": [],
   "source": [
    "for i in result['ID'].unique():\n",
    "    this_pump = result[result['ID'] == i]\n",
    "    if len(this_pump['Дебит,м3/сут'].unique()) != len(this_pump['Дебит,м3/сут']):\n",
    "        print(i)\n"
   ]
  },
  {
   "cell_type": "code",
   "execution_count": null,
   "metadata": {},
   "outputs": [],
   "source": [
    "prepared_base = result[['ID', 'Производитель', 'Модель', 'Макс.кол-во ступеней', \n",
    "                        'Номин-й дебит,м3/сут', 'Левая граница,м3/сут', 'Правая граница,м3/сут',\n",
    "                        'Номин-е обороты,об/мин', 'Номин-я частота,Гц','Макс. КПД,доли',\n",
    "                        'Дебит,м3/сут', 'Напор,м', 'Мощность,л.с', 'КПД'\n",
    "                       ]]"
   ]
  },
  {
   "cell_type": "code",
   "execution_count": null,
   "metadata": {},
   "outputs": [],
   "source": [
    "prepared_base.columns = ['ID', 'Производитель', 'Модель', 'Ступеней макс',\n",
    "                         'Номинал','Левая граница','Правая граница',\n",
    "                         'Обороты номинальные', 'Частота', 'Макс КПД', 'Дебит','Напор','Мощность','КПД']\n"
   ]
  },
  {
   "cell_type": "code",
   "execution_count": null,
   "metadata": {},
   "outputs": [],
   "source": [
    "prepared_base['ID'] = prepared_base['ID'] + 100\n",
    "prepared_base.index = prepared_base.index + 100\n",
    "prepared_base = prepared_base.sort_index()"
   ]
  },
  {
   "cell_type": "code",
   "execution_count": null,
   "metadata": {},
   "outputs": [],
   "source": [
    "prepared_base.to_excel('to_uniflocvba.xlsx')"
   ]
  },
  {
   "cell_type": "code",
   "execution_count": null,
   "metadata": {},
   "outputs": [],
   "source": []
  }
 ],
 "metadata": {
  "kernelspec": {
   "display_name": "Python 3",
   "language": "python",
   "name": "python3"
  },
  "language_info": {
   "codemirror_mode": {
    "name": "ipython",
    "version": 3
   },
   "file_extension": ".py",
   "mimetype": "text/x-python",
   "name": "python",
   "nbconvert_exporter": "python",
   "pygments_lexer": "ipython3",
   "version": "3.7.6"
  }
 },
 "nbformat": 4,
 "nbformat_minor": 2
}
