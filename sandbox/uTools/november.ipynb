{
 "cells": [
  {
   "cell_type": "code",
   "execution_count": null,
   "metadata": {},
   "outputs": [],
   "source": [
    "import pandas as pd"
   ]
  },
  {
   "cell_type": "code",
   "execution_count": null,
   "metadata": {},
   "outputs": [],
   "source": [
    "import os\n",
    "import sys\n",
    "sys.path.append('../../../')\n",
    "import pandas as pd\n",
    "import datetime\n",
    "from multiprocessing import Pool\n",
    "import plot_workflow.plotly_option as pltl_opt\n",
    "import plot_workflow.plotly_workflow as pltl_wf\n",
    "\n",
    "from preproc_p import workflow_cs_data\n",
    "from preproc_p import workflow_chess_data\n",
    "from preproc_p import preproc_tool\n",
    "from preproc_p import workflow_calc_data\n",
    "from preproc_p import workflow_tr_data\n",
    "from preproc_p import filtration\n",
    "from proc_p import processor as proc\n",
    "\n",
    "from ml import calibr_restore as calibr_restore\n",
    "from postproc_p import result_and_metrics as result_and_metrics\n",
    "import numpy as np"
   ]
  },
  {
   "cell_type": "code",
   "execution_count": null,
   "metadata": {},
   "outputs": [],
   "source": []
  },
  {
   "cell_type": "code",
   "execution_count": null,
   "metadata": {},
   "outputs": [],
   "source": [
    "from pathlib import Path\n",
    "import os\n",
    "import pandas as pd\n",
    "import numpy as np\n",
    "def find_full_path_by_pattern(initial_dir, pattern):\n",
    "    full_path_list = []\n",
    "    for filename in Path(initial_dir).rglob(pattern):\n",
    "        full_path_list.append(str(filename))\n",
    "        print(filename)\n",
    "    return full_path_list\n",
    "\n",
    "columns_name_to_rename = {\"Активная мощность\": [\"Активная мощность (ТМ)\", 'Pa,кВт', 'акт.P,кВт', 'Pакт(кВт)'],\n",
    "                          \"Полная мощность\":[\"Pполн,кВт\", 'P, кВА', 'Pполн(кВA)'], \n",
    "                          \"Линейное давление\": [\"Давление линейное (ТМ)\"],\n",
    "                          \n",
    "                          \"Давление на приеме насоса (пласт. жидкость)\": [\"Давление на входе ЭЦН (ТМ)\", 'P на приеме,ат', \n",
    "                                                                          'P, ат.', 'P,atm', 'Pвх(МПа)'],\n",
    "                          \"Температура на приеме насоса (пласт. жидкость)\": [\"Температура двигателя ЭЦН (ТМ)\",\"Тжид,Гр\" , \n",
    "                                                                             'Tжид, °C', 'Твх(°С)'],\n",
    "                            \n",
    "                          'Температура обмоток двигателя': [\"Температура двигателя ЭЦН (ТМ)\",\"ТПЭД,Гр\", 'Tдвиг, °C', 'Тобм(°С)'],\n",
    "                          \n",
    "                          \"Загрузка двигателя\": [\"Загрузка ПЭД (ТМ)\", \"Загр,%\", 'Загр., %', 'Загр., %', 'Загрузка,%', 'Загр(%)'],\n",
    "                          \"Входное напряжение АВ\": [\"Напряжение AB (ТМ)\",\"UAB,В\", 'Uвх.AB,В', 'Uab,В', 'UвхAB(B)'],\n",
    "                          \"Ток фазы А\": [\"Ток фазы A (ТМ)\", \"Ia,А\" , 'Ia, A','Iа(A)'],\n",
    "                          \"Выходная частота ПЧ\": [\"Частота вращения (ТМ)\",\"F,Гц\", 'F, Гц', 'F(Гц)', 'Коэффициент мощности'],\n",
    "\n",
    "                          \"Коэффициент мощности\": [\"Коэффициент мощности (ТМ)\",\"Cos\", 'cos', 'Коэффициент мощности'],\n",
    "\n",
    "                           \"Объемный дебит жидкости\": [\"Дебит жидкости (ТМ)\"],\n",
    "                          \"Объемный дебит газа\": [\"Дебит газа (ТМ)\"],\n",
    "                          \"Процент обводненности\" : [\"Обводненность (ТМ)\"],\n",
    "                          \"Объемный дебит нефти\": [\"Дебит нефти (ТМ)\"]}\n",
    "\n",
    "\n",
    "essential_parameters = [\"Активная мощность\", \"Давление на приеме насоса (пласт. жидкость)\", \n",
    "                       \"Температура на приеме насоса (пласт. жидкость)\", 'Температура обмоток двигателя', \n",
    "                       \"Входное напряжение АВ\", \"Ток фазы А\", \"Выходная частота ПЧ\", \"Коэффициент мощности\"]#, \n",
    "                       #\"Объемный дебит жидкости\", \"Объемный дебит газа\", \"Процент обводненности\", \"Объемный дебит нефти\"]\n",
    "\n",
    "\n",
    "def rename_columns_by_dict(df, columns_name_dict):\n",
    "    \"\"\"\n",
    "    Специальное изменение названий столбцов по словарю\n",
    "    :param df:\n",
    "    :param dict:\n",
    "    :return:\n",
    "    \"\"\"\n",
    "    \n",
    "    for i in df.columns:\n",
    "        for items in columns_name_dict.items():\n",
    "            if i in items[1]:\n",
    "                df = df.rename(columns={i:items[0]})\n",
    "    return df\n",
    "\n",
    "\n",
    "def drop_string_columns(df):\n",
    "    columns_list = df.columns\n",
    "    for i in columns_list:\n",
    "        if type(df[i][0]) == str:\n",
    "            df = df.drop(columns = i)\n",
    "    return df\n",
    "\n",
    "\n",
    "def replace_string_by_nan(value):\n",
    "    try:\n",
    "        float_value = float(value)\n",
    "        return float_value\n",
    "    except:\n",
    "        return None\n",
    "        \n",
    "        \n",
    "def delete_string_axis(df: pd.DataFrame, column_name):\n",
    "    df[column_name] = df[column_name].apply(replace_string_by_nan)\n",
    "    df = df.dropna(subset = [column_name])\n",
    "    return df\n",
    "\n",
    "\n",
    "def clear_df_from_string(df: pd.DataFrame, columns_name = [\"Активная мощность\", \"Полная мощность\",  \"Загрузка двигателя\"]):\n",
    "    delete_all = False\n",
    "    for i in columns_name:\n",
    "        if i in df.columns and not delete_all:\n",
    "            df = delete_string_axis(df, i)\n",
    "            delete_all = True\n",
    "    return df\n",
    "        \n",
    "        \n",
    "        \n",
    "\n",
    "def read_control_station_data(filename):\n",
    "    print(f\"Чтение файла{filename}\")\n",
    "    flash_data = pd.read_excel(filename, header = None)\n",
    "    if flash_data[0][0] == 'Основная страница':\n",
    "        print('Тип данных: Зеленый Борец')\n",
    "        loaded_file = pd.read_excel(filename, skiprows = 4, index_col = 'Дата/Время', parse_dates = True)\n",
    "        loaded_file = loaded_file.replace(to_replace = '###', value = None)\n",
    "        loaded_file = loaded_file[loaded_file['   Состояние   '] == 'Работа']\n",
    "\n",
    "    elif flash_data[0][0] == 'Дата, Время':\n",
    "        print('Тип данных: Почти нормальный тип')\n",
    "        loaded_file = pd.read_excel(filename, index_col = 'Дата, Время', parse_dates = True)\n",
    "        loaded_file = loaded_file.replace(to_replace = '-----', value = None)\n",
    "        loaded_file = loaded_file.dropna(subset = ['P, кВА'])\n",
    "\n",
    "    elif flash_data[0][2] == 'Nп/п':\n",
    "        print('Тип данных: Борец энергетика')\n",
    "        loaded_file = pd.read_excel(filename, skiprows = 2, index_col = 'Дата        Время', parse_dates = True)\n",
    "\n",
    "    elif flash_data[1][1] == 'Информация:':\n",
    "        print('Тип данных: Зеленый Борец с несколькими листами')\n",
    "        loaded_file = pd.read_excel(filename, sheet_name='Журнал', skiprows = 4, index_col = 'Дата/Время', parse_dates = True)\n",
    "        loaded_file = loaded_file.replace(to_replace = '###', value = None)\n",
    "        loaded_file[(loaded_file['   Состояние   '] == 'ПИД реж.') | (loaded_file['   Состояние   '] == 'работа')]\n",
    "    elif flash_data[0][0] == 'ID':\n",
    "        print('Тип данных: почти нормальный с большой точностью')\n",
    "        loaded_file = pd.read_excel(filename, index_col = 'Дата время', parse_dates = True)\n",
    "        loaded_file = loaded_file.dropna(subset = ['№Скв'])\n",
    "    else:\n",
    "        print('Тип данных: тип не распознан')\n",
    "\n",
    "    loaded_file = rename_columns_by_dict(loaded_file, columns_name_to_rename)\n",
    "    loaded_file = drop_string_columns(loaded_file)\n",
    "    loaded_file = clear_df_from_string(loaded_file)\n",
    "    loaded_file.index.name = 'Время'\n",
    "    return loaded_file\n",
    "\n"
   ]
  },
  {
   "cell_type": "code",
   "execution_count": null,
   "metadata": {},
   "outputs": [],
   "source": []
  },
  {
   "cell_type": "code",
   "execution_count": null,
   "metadata": {},
   "outputs": [],
   "source": [
    "\n",
    "flash_names = find_full_path_by_pattern(os.getcwd(), '*флэш-карта*')"
   ]
  },
  {
   "cell_type": "code",
   "execution_count": null,
   "metadata": {},
   "outputs": [],
   "source": [
    "cs_data_dict = {}"
   ]
  },
  {
   "cell_type": "code",
   "execution_count": null,
   "metadata": {},
   "outputs": [],
   "source": [
    "for i in flash_names:\n",
    "    loaded_file = read_control_station_data(i)\n",
    "    cs_data_dict[i] = loaded_file"
   ]
  },
  {
   "cell_type": "code",
   "execution_count": null,
   "metadata": {},
   "outputs": [],
   "source": [
    "missing_parameters_dict = {}"
   ]
  },
  {
   "cell_type": "code",
   "execution_count": null,
   "metadata": {},
   "outputs": [],
   "source": [
    "for i in cs_data_dict.items():\n",
    "    print(i[0])\n",
    "    missed_parameters = []\n",
    "    for j in essential_parameters:\n",
    "        if j not in i[1].columns:\n",
    "            missed_parameters.append(j)\n",
    "    if 'Выходная частота ПЧ' in i[1].columns:\n",
    "        series = i[1]['Выходная частота ПЧ']\n",
    "        value = i[1]['Выходная частота ПЧ'].mean()\n",
    "        print(\"Среднее значение частоты: \" +  str(value))\n",
    "    missing_parameters_dict[i[0]] = missed_parameters\n",
    "\n",
    "    "
   ]
  },
  {
   "cell_type": "code",
   "execution_count": null,
   "metadata": {},
   "outputs": [],
   "source": [
    "for i in missing_parameters_dict.items():\n",
    "    print(i)"
   ]
  },
  {
   "cell_type": "code",
   "execution_count": null,
   "metadata": {},
   "outputs": [],
   "source": []
  },
  {
   "cell_type": "code",
   "execution_count": null,
   "metadata": {},
   "outputs": [],
   "source": []
  },
  {
   "cell_type": "code",
   "execution_count": null,
   "metadata": {},
   "outputs": [],
   "source": []
  },
  {
   "cell_type": "code",
   "execution_count": null,
   "metadata": {},
   "outputs": [],
   "source": []
  },
  {
   "cell_type": "code",
   "execution_count": null,
   "metadata": {},
   "outputs": [],
   "source": []
  }
 ],
 "metadata": {
  "kernelspec": {
   "display_name": "Python 3",
   "language": "python",
   "name": "python3"
  },
  "language_info": {
   "codemirror_mode": {
    "name": "ipython",
    "version": 3
   },
   "file_extension": ".py",
   "mimetype": "text/x-python",
   "name": "python",
   "nbconvert_exporter": "python",
   "pygments_lexer": "ipython3",
   "version": "3.7.6"
  }
 },
 "nbformat": 4,
 "nbformat_minor": 2
}
