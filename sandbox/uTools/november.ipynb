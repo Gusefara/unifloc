{
 "cells": [
  {
   "cell_type": "code",
   "execution_count": null,
   "metadata": {},
   "outputs": [],
   "source": [
    "#import pandas as pd"
   ]
  },
  {
   "cell_type": "code",
   "execution_count": null,
   "metadata": {},
   "outputs": [],
   "source": [
    "#import os\n",
    "#import sys\n",
    "#sys.path.append('../../../')\n",
    "#import pandas as pd\n",
    "#import datetime\n",
    "#from multiprocessing import Pool\n",
    "#import plot_workflow.plotly_option as pltl_opt\n",
    "#import plot_workflow.plotly_workflow as pltl_wf\n",
    "#\n",
    "#from preproc_p import workflow_cs_data\n",
    "#from preproc_p import workflow_chess_data\n",
    "#from preproc_p import preproc_tool\n",
    "#from preproc_p import workflow_calc_data\n",
    "#from preproc_p import workflow_tr_data\n",
    "#from preproc_p import filtration\n",
    "#from proc_p import processor as proc\n",
    "#\n",
    "#from ml import calibr_restore as calibr_restore\n",
    "#from postproc_p import result_and_metrics as result_and_metrics\n",
    "#import numpy as np"
   ]
  },
  {
   "cell_type": "code",
   "execution_count": null,
   "metadata": {},
   "outputs": [],
   "source": []
  },
  {
   "cell_type": "code",
   "execution_count": null,
   "metadata": {},
   "outputs": [],
   "source": [
    "#well_name = '337'\n",
    "#current_path = os.getcwd()\n",
    "#time_mark = '' #datetime.datetime.today().strftime('%Y_%m_%d_%H_%M_%S')\n",
    "#path_to_data = current_path + \"\\\\data\\\\\"\n",
    "#path_to_work_dir = current_path + \"\\\\data\\\\\" + well_name +  \"\\\\\"\n",
    "#save_dir_name = 'init_edit'\n",
    "#path_to_save = path_to_work_dir + save_dir_name + '\\\\'\n",
    "#dirnames_list = []\n",
    "#for (dirpath, dirnames, filenames) in os.walk(path_to_data):\n",
    "#    dirnames_list.extend(dirnames)\n",
    "#    break\n",
    "#print(dirnames_list)\n",
    "#cs_data_filename = path_to_save + well_name + \"_first_edit.csv\""
   ]
  },
  {
   "cell_type": "code",
   "execution_count": null,
   "metadata": {},
   "outputs": [],
   "source": [
    "#well_names = ['337', '1976','1982','1984',\n",
    "#              '2338','2355','3021','3026',\n",
    "#              '3900','3922','6011','6012','6013']\n",
    "#well_names = ['6012']"
   ]
  },
  {
   "cell_type": "code",
   "execution_count": null,
   "metadata": {},
   "outputs": [],
   "source": [
    "#new_well_data = []\n",
    "#for well_name in well_names:\n",
    "#    path_to_work_dir = current_path + \"\\\\data\\\\\" + well_name +  \"\\\\\"\n",
    "#    well_data = workflow_cs_data.read_and_edit_init_cs_data(well_name, path_to_work_dir)\n",
    "#    new_well_data.append(well_data)"
   ]
  },
  {
   "cell_type": "code",
   "execution_count": null,
   "metadata": {},
   "outputs": [],
   "source": [
    "from pathlib import Path\n",
    "import os\n",
    "import pandas as pd\n",
    "import numpy as np\n",
    "def find_full_path_by_pattern(initial_dir, pattern):\n",
    "    full_path_list = []\n",
    "    for filename in Path(initial_dir).rglob(pattern):\n",
    "        full_path_list.append(str(filename))\n",
    "        print(filename)\n",
    "    return full_path_list\n",
    "\n",
    "columns_name_to_rename = {\"Активная мощность\": [\"Активная мощность (ТМ)\", 'Pa,кВт', 'акт.P,кВт', 'Pакт(кВт)'],\n",
    "                          \"Полная мощность\":[\"Pполн,кВт\", 'P, кВА', 'Pполн(кВA)'], \n",
    "                          \"Линейное давление\": [\"Давление линейное (ТМ)\", ],\n",
    "                          \n",
    "                          \"Давление на приеме насоса (пласт. жидкость)\": [\"Давление на входе ЭЦН (ТМ)\", 'P на приеме,ат', \n",
    "                                                                          'P, ат.', 'P,atm', 'Pвх(МПа)'],\n",
    "                          \"Температура на приеме насоса (пласт. жидкость)\": [\"Температура двигателя ЭЦН (ТМ)\",\"Тжид,Гр\" , \n",
    "                                                                             'Tжид, °C', 'Твх(°С)'],\n",
    "                            \n",
    "                          'Температура обмоток двигателя': [\"Температура двигателя ЭЦН (ТМ)\",\"ТПЭД,Гр\", 'Tдвиг, °C', 'Тобм(°С)'],\n",
    "                          \n",
    "                          \"Загрузка двигателя\": [\"Загрузка ПЭД (ТМ)\", \"Загр,%\", 'Загр., %', 'Загр., %', 'Загрузка,%', 'Загр(%)'],\n",
    "                          \"Входное напряжение АВ\": [\"Напряжение AB (ТМ)\",\"UAB,В\", 'Uвх.AB,В', 'Uab,В', 'UвхAB(B)'],\n",
    "                          \"Ток фазы А\": [\"Ток фазы A (ТМ)\", \"Ia,А\" , 'Ia, A','Iа(A)'],\n",
    "                          \"Выходная частота ПЧ\": [\"Частота вращения (ТМ)\",\"F,Гц\", 'F, Гц', 'F(Гц)', 'Коэффициент мощности'],\n",
    "\n",
    "                          \"Коэффициент мощности\": [\"Коэффициент мощности (ТМ)\",\"Cos\", 'cos', 'Коэффициент мощности'],\n",
    "\n",
    "                           \"Объемный дебит жидкости\": [\"Дебит жидкости (ТМ)\"],\n",
    "                          \"Объемный дебит газа\": [\"Дебит газа (ТМ)\"],\n",
    "                          \"Процент обводненности\" : [\"Обводненность (ТМ)\"],\n",
    "                          \"Объемный дебит нефти\": [\"Дебит нефти (ТМ)\"]}\n",
    "\n",
    "\n",
    "['ID', 'Событие', '№Скв', 'F(Гц)', 'V(об/мин)', 'Iа(A)', 'Ib(A)',\n",
    "       'Ic(A)', 'Uдв(В)', 'dIдв(%)', 'Коэффициент мощности', 'Загр(%)',\n",
    "       'Pакт(кВт)', 'Pполн(кВA)', 'UвхAB(B)', 'UвхBС(B)', 'UвхСА(B)',\n",
    "       'dUвх(%)', 'IвхA(A)', 'IвхB(A)', 'IвхC(A)', 'dIвх(%)', 'R(кОм)',\n",
    "       'Iутеч(мА)', 'Тобм(°С)', 'Tмасл(°С)', 'Pвх(МПа)', 'Твх(°С)',\n",
    "       'Pвх.Акт(кВт)', 'Pвх.Полн(кВА)', 'IвыхПЧ(A)', 'UвыхПЧ(В)',\n",
    "       'Eпотр(кВтч)', 'VрДв(мм/с)', 'VосДв(мм/с)', 'Tвых(°С)', 'Pвых(МПа)',\n",
    "       'VрНс(мм/с)', 'VосНс(мм/с)', 'Qнс(м/сут)', 'Трад(°С)', 'Тчрп(°С)',\n",
    "       'Тбу(°С)', 'AI1', 'AI2', 'AI3', 'AI4', 'СостСУ', 'РежимСУ', 'Траб/стоп',\n",
    "       'PSWПк', 'PSWТмс', 'PSWДв', 'Vdcl(В)', 'StatVSD', 'Alarm1', 'Alarm2',\n",
    "       'Warn1', 'Warn2', 'WarnEXT', 'Номер', 'TurbRot(Гц)', 'Q1(м3/сут)',\n",
    "       'Q2(м3/сут)']\n",
    "def rename_columns_by_dict(df, columns_name_dict):\n",
    "    \"\"\"\n",
    "    Специальное изменение названий столбцов по словарю\n",
    "    :param df:\n",
    "    :param dict:\n",
    "    :return:\n",
    "    \"\"\"\n",
    "    \n",
    "    for i in df.columns:\n",
    "        for items in columns_name_dict.items():\n",
    "            if i in items[1]:\n",
    "                df = df.rename(columns={i:items[0]})\n",
    "    return df\n",
    "\n",
    "\n",
    "def drop_string_columns(df):\n",
    "    columns_list = df.columns\n",
    "    for i in columns_list:\n",
    "        if type(df[i][0]) == str:\n",
    "            df = df.drop(columns = i)\n",
    "    return df\n"
   ]
  },
  {
   "cell_type": "code",
   "execution_count": null,
   "metadata": {},
   "outputs": [],
   "source": []
  },
  {
   "cell_type": "code",
   "execution_count": null,
   "metadata": {},
   "outputs": [],
   "source": [
    "\n",
    "flash_names = find_full_path_by_pattern(os.getcwd(), '*флэш-карта*')"
   ]
  },
  {
   "cell_type": "code",
   "execution_count": null,
   "metadata": {},
   "outputs": [],
   "source": [
    "flash_names"
   ]
  },
  {
   "cell_type": "code",
   "execution_count": null,
   "metadata": {},
   "outputs": [],
   "source": [
    "filename = flash_names[0]\n",
    "filename"
   ]
  },
  {
   "cell_type": "code",
   "execution_count": null,
   "metadata": {},
   "outputs": [],
   "source": [
    "flash_data = pd.read_excel(filename, header = None)\n",
    "flash_data.head()"
   ]
  },
  {
   "cell_type": "code",
   "execution_count": null,
   "metadata": {},
   "outputs": [],
   "source": [
    "if flash_data[0][0] == 'Основная страница':\n",
    "    print('Тип данных: Зеленый Борец')\n",
    "    loaded_file = pd.read_excel(filename, skiprows = 4, index_col = 'Дата/Время', parse_dates = True)\n",
    "    loaded_file = loaded_file.replace(to_replace = '###', value = None)\n",
    "    loaded_file = loaded_file[loaded_file['   Состояние   '] == 'Работа']\n",
    "\n",
    "elif flash_data[0][0] == 'Дата, Время':\n",
    "    print('Тип данных: Почти нормальный тип')\n",
    "    loaded_file = pd.read_excel(filename, index_col = 'Дата, Время', parse_dates = True)\n",
    "    loaded_file = loaded_file.replace(to_replace = '-----', value = None)\n",
    "    loaded_file = loaded_file.dropna(subset = ['P, кВА'])\n",
    "\n",
    "elif flash_data[0][2] == 'Nп/п':\n",
    "    print('Тип данных: Борец энергетика')\n",
    "    loaded_file = pd.read_excel(filename, skiprows = 2, index_col = 'Дата        Время', parse_dates = True)\n",
    "\n",
    "elif flash_data[1][1] == 'Информация:':\n",
    "    print('Тип данных: Зеленый Борец с несколькими листами')\n",
    "    loaded_file = pd.read_excel(filename, sheet_name='Журнал', skiprows = 4, index_col = 'Дата/Время', parse_dates = True)\n",
    "    loaded_file = loaded_file.replace(to_replace = '###', value = None)\n",
    "    loaded_file[(loaded_file['   Состояние   '] == 'ПИД реж.') | (loaded_file['   Состояние   '] == 'работа')]\n",
    "elif flash_data[0][0] == 'ID':\n",
    "    print('Тип данных: почти нормальный с большой точностью')\n",
    "    loaded_file = pd.read_excel(filename, index_col = 'Дата время', parse_dates = True)\n",
    "    loaded_file = loaded_file.dropna(subset = ['№Скв'])\n",
    "else:\n",
    "    print('Тип данных: тип не распознан')\n",
    "    \n",
    "loaded_file = rename_columns_by_dict(loaded_file, columns_name_to_rename)\n",
    "loaded_file = drop_string_columns(loaded_file)\n",
    "loaded_file.index.name = 'Время'"
   ]
  },
  {
   "cell_type": "code",
   "execution_count": null,
   "metadata": {},
   "outputs": [],
   "source": [
    "loaded_file.head()"
   ]
  },
  {
   "cell_type": "code",
   "execution_count": null,
   "metadata": {},
   "outputs": [],
   "source": [
    "loaded_file.columns\n"
   ]
  },
  {
   "cell_type": "code",
   "execution_count": null,
   "metadata": {},
   "outputs": [],
   "source": [
    "loaded_file.head()"
   ]
  },
  {
   "cell_type": "code",
   "execution_count": null,
   "metadata": {},
   "outputs": [],
   "source": []
  },
  {
   "cell_type": "code",
   "execution_count": null,
   "metadata": {},
   "outputs": [],
   "source": []
  },
  {
   "cell_type": "code",
   "execution_count": null,
   "metadata": {},
   "outputs": [],
   "source": []
  },
  {
   "cell_type": "code",
   "execution_count": null,
   "metadata": {},
   "outputs": [],
   "source": []
  },
  {
   "cell_type": "code",
   "execution_count": null,
   "metadata": {},
   "outputs": [],
   "source": []
  },
  {
   "cell_type": "code",
   "execution_count": null,
   "metadata": {},
   "outputs": [],
   "source": []
  },
  {
   "cell_type": "code",
   "execution_count": null,
   "metadata": {},
   "outputs": [],
   "source": []
  },
  {
   "cell_type": "code",
   "execution_count": null,
   "metadata": {},
   "outputs": [],
   "source": []
  },
  {
   "cell_type": "code",
   "execution_count": null,
   "metadata": {},
   "outputs": [],
   "source": []
  }
 ],
 "metadata": {
  "kernelspec": {
   "display_name": "Python 3",
   "language": "python",
   "name": "python3"
  },
  "language_info": {
   "codemirror_mode": {
    "name": "ipython",
    "version": 3
   },
   "file_extension": ".py",
   "mimetype": "text/x-python",
   "name": "python",
   "nbconvert_exporter": "python",
   "pygments_lexer": "ipython3",
   "version": "3.7.6"
  }
 },
 "nbformat": 4,
 "nbformat_minor": 2
}
