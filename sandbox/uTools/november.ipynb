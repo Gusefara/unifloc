{
 "cells": [
  {
   "cell_type": "code",
   "execution_count": null,
   "metadata": {},
   "outputs": [],
   "source": [
    "import pandas as pd"
   ]
  },
  {
   "cell_type": "code",
   "execution_count": null,
   "metadata": {},
   "outputs": [],
   "source": [
    "import os\n",
    "import sys\n",
    "sys.path.append('../../../')\n",
    "import pandas as pd\n",
    "import datetime\n",
    "from multiprocessing import Pool\n",
    "import plot_workflow.plotly_option as pltl_opt\n",
    "import plot_workflow.plotly_workflow as pltl_wf\n",
    "\n",
    "from preproc_p import workflow_cs_data\n",
    "from preproc_p import workflow_chess_data\n",
    "from preproc_p import preproc_tool\n",
    "from preproc_p import workflow_calc_data\n",
    "from preproc_p import workflow_tr_data\n",
    "from preproc_p import filtration\n",
    "from proc_p import processor as proc\n",
    "\n",
    "from ml import calibr_restore as calibr_restore\n",
    "from postproc_p import result_and_metrics as result_and_metrics\n",
    "import numpy as np"
   ]
  },
  {
   "cell_type": "code",
   "execution_count": null,
   "metadata": {},
   "outputs": [],
   "source": [
    "from multiprocessing import Pool"
   ]
  },
  {
   "cell_type": "code",
   "execution_count": null,
   "metadata": {},
   "outputs": [],
   "source": [
    "def run_calculation(thread_option_list):\n",
    "    if __name__ == '__main__':\n",
    "        with Pool(amount_of_threads) as p:\n",
    "            p.map(proc.calc,\n",
    "                  thread_option_list)"
   ]
  },
  {
   "cell_type": "code",
   "execution_count": null,
   "metadata": {},
   "outputs": [],
   "source": [
    "flash_names = preproc_tool.find_full_path_by_pattern(os.getcwd(), '*dash\\\\input\\\\*', '_first_edit_cs.csv')"
   ]
  },
  {
   "cell_type": "code",
   "execution_count": null,
   "metadata": {},
   "outputs": [],
   "source": [
    "gn = global_names = preproc_tool.GlobalNames()"
   ]
  },
  {
   "cell_type": "code",
   "execution_count": null,
   "metadata": {},
   "outputs": [],
   "source": [
    "def calculated_regime_time(this_file, regime_column = gn.i_a_motor_a,   return_all = False):\n",
    "    last_time = this_file.index[0]\n",
    "\n",
    "    work_status = []\n",
    "    if this_file[regime_column][0] > 0:\n",
    "        work_status.append(1)\n",
    "    else:\n",
    "        work_status.append(0)\n",
    "\n",
    "    work_timedelta = []\n",
    "    stop_timedelta = []\n",
    "\n",
    "\n",
    "    for i in range(1, this_file.shape[0]):\n",
    "        this_time = this_file.index[i]\n",
    "        this_value = this_file[gn.i_a_motor_a][i]\n",
    "        if this_value > 0:\n",
    "            work_status.append(1)\n",
    "        else:\n",
    "            work_status.append(0)\n",
    "        #print(this_value)\n",
    "        time_delta = this_time - last_time\n",
    "        #time_delta = this_file.index[i-1] - last_time    \n",
    "        if work_status[-1] != work_status[-2]:\n",
    "            last_time = this_time\n",
    "            #print('Переключение')\n",
    "            if work_status[-1] ==1:\n",
    "                #print('Включение')\n",
    "                stop_timedelta.append(time_delta.total_seconds()/60)\n",
    "            else:\n",
    "                #print('Выключение')\n",
    "                work_timedelta.append(time_delta.total_seconds()/60)\n",
    "    work_time_median = np.median(work_timedelta)\n",
    "    stop_timedelta_median = np.median(stop_timedelta)\n",
    "    if not return_all:\n",
    "        return work_time_median, stop_timedelta_median\n",
    "    else:\n",
    "        return work_status, work_timedelta, stop_timedelta"
   ]
  },
  {
   "cell_type": "code",
   "execution_count": null,
   "metadata": {},
   "outputs": [],
   "source": [
    "def create_useful_inf(cs_file_name):\n",
    "    info_dict = {}\n",
    "    this_file = pd.read_csv(cs_file_name, index_col = [0], parse_dates = True)\n",
    "    print(cs_file_name.split('\\\\')[-1].replace('_first_edit_cs.csv',''))\n",
    "    this_file = preproc_tool.rename_columns_by_dict(this_file)\n",
    "    info_dict['Начало записи данных'] = [this_file.index[0]]\n",
    "    info_dict['Конец записи данных'] = [this_file.index[-1]]\n",
    "    info_dict['Продолжительность записи данных'] = [this_file.index[-1] - this_file.index[0]]\n",
    "    info_dict['Общее число записей'] =   [this_file.shape[0]]\n",
    "    info_dict['Средняя дискретность, секунды'] =   [((this_file.index[-1] - this_file.index[0])/this_file.shape[0]).seconds]\n",
    "    info_dict['Медианное время работы, мин'], info_dict['Медианное время простаивания, мин'] = calculated_regime_time(this_file)\n",
    "    if 'F Турб.вращ.,Гц' in this_file.columns:\n",
    "        info_dict['Медианная частота турбинного вращения'] =   [this_file[this_file['F Турб.вращ.,Гц']>0]['F Турб.вращ.,Гц'].median()]\n",
    "        info_dict['Максимальная частота турбинного вращения'] =   [this_file['F Турб.вращ.,Гц'].max()]\n",
    "    else:\n",
    "        info_dict['Медианная частота турбинного вращения'] =   [-1]\n",
    "        info_dict['Максимальная частота турбинного вращения'] =   [-1]\n",
    "    if gn.freq_hz in this_file.columns:\n",
    "        this_file = this_file[this_file[gn.freq_hz]>0]\n",
    "    else:\n",
    "        this_file = this_file[this_file[gn.i_a_motor_a]>0]\n",
    "    \n",
    "    \n",
    "    info_dict['Медианное значение загрузки (Р)'] =   [ this_file[gn.motor_load_perc].median()]\n",
    "    info_dict['Максимальное значение загрузки (Р)'] =   [ this_file[gn.motor_load_perc].max()]\n",
    "    \n",
    "    info_dict['Медианное значение тока (Р)'] =   [this_file[gn.i_a_motor_a].median()]\n",
    "    info_dict['Максимальное значение тока (Р)'] =   [this_file[gn.i_a_motor_a].max()]\n",
    "\n",
    "    info_dict['Медианное значение мощности (Р)'] =   [this_file[gn.active_power_kwt].median()]\n",
    "    info_dict['Максимальное значение мощности (Р)'] =   [this_file[gn.active_power_kwt].max()]\n",
    "    \n",
    "    if gn.freq_hz in this_file.columns:\n",
    "        info_dict['Медианное значение частоты (Р)'] =   [this_file[gn.freq_hz].median()]\n",
    "        info_dict['Максимальное значение частоты (Р)'] =   [this_file[gn.freq_hz].max()]\n",
    "    else:\n",
    "        info_dict['Медианное значение частоты (Р)'] =   [-1]\n",
    "        info_dict['Максимальное значение частоты (Р)'] =   [-1]        \n",
    "    \n",
    "    if gn.p_intake_atm in this_file.columns:\n",
    "        info_dict['Медианное значение давления на приеме (Р)'] =   [this_file[gn.p_intake_atm].median()]\n",
    "        info_dict['Минимальное значение давления на приеме (Р)'] =   [this_file[gn.p_intake_atm].min()]\n",
    "    else:\n",
    "        info_dict['Медианное значение давления на приеме (Р)'] =   [-1]\n",
    "        info_dict['Минимальное значение давления на приеме (Р)'] =   [-1]\n",
    "    \n",
    "    if gn.t_motor_c in this_file.columns:\n",
    "        info_dict['Медианное значение температуры двигателя (Р)'] =   [this_file[gn.t_motor_c].median()]\n",
    "        info_dict['Максимальное значение температуры двигателя (Р)'] =   [this_file[gn.t_motor_c].max()]\n",
    "    else:\n",
    "        info_dict['Медианное значение температуры двигателя (Р)'] =   [-1]\n",
    "        info_dict['Максимальное значение температуры двигателя (Р)'] = [-1]\n",
    "    \n",
    "    info_dict['Медианное значение коэффициента мощности (Р)'] =   [this_file[gn.cos_phi_d].median()]\n",
    "    info_dict['Минимальное значение коэффициента мощности (Р)'] =   [this_file[gn.cos_phi_d].min()]\n",
    "\n",
    "    \n",
    "\n",
    "\n",
    "    \n",
    "    result_df = pd.DataFrame(info_dict)\n",
    "    result_df.index = [cs_file_name.split('\\\\')[-1].replace('_first_edit_cs.csv','')]\n",
    "    result_df.index.name = 'Скважина'\n",
    "    return result_df"
   ]
  },
  {
   "cell_type": "code",
   "execution_count": null,
   "metadata": {},
   "outputs": [],
   "source": [
    "overall_result = None\n",
    "for i in flash_names:\n",
    "    this_df = create_useful_inf(i)\n",
    "    try:\n",
    "        overall_result = overall_result.append(this_df)\n",
    "    except:\n",
    "        overall_result = this_df.copy()"
   ]
  },
  {
   "cell_type": "code",
   "execution_count": null,
   "metadata": {},
   "outputs": [],
   "source": []
  },
  {
   "cell_type": "code",
   "execution_count": null,
   "metadata": {},
   "outputs": [],
   "source": [
    "overall_result.to_excel('ПКВ.xlsx')"
   ]
  },
  {
   "cell_type": "code",
   "execution_count": null,
   "metadata": {},
   "outputs": [],
   "source": []
  },
  {
   "cell_type": "code",
   "execution_count": null,
   "metadata": {},
   "outputs": [],
   "source": [
    "this_name = preproc_tool.find_full_path_by_pattern(os.getcwd(), '*dash\\\\input\\\\*', '898_first_edit_cs.csv')"
   ]
  },
  {
   "cell_type": "code",
   "execution_count": null,
   "metadata": {},
   "outputs": [],
   "source": [
    "this_file = pd.read_csv(this_name[0], index_col = [0], parse_dates = True)\n"
   ]
  },
  {
   "cell_type": "code",
   "execution_count": null,
   "metadata": {},
   "outputs": [],
   "source": [
    "def prepare_data(this_file):\n",
    "    this_file = preproc_tool.rename_columns_by_dict(this_file)\n",
    "    \n",
    "    if this_file[gn.i_a_motor_a].min() == 0.1:\n",
    "        this_file[gn.i_a_motor_a] = this_file[gn.i_a_motor_a].replace(0.1, 0)\n",
    "        \n",
    "        \n",
    "    work_status, work_timedelta, stop_timedelta = calculated_regime_time(this_file, \n",
    "                                                                         regime_column = gn.i_a_motor_a, return_all = True)\n",
    "    this_file['work_status'] = work_status\n",
    "    return this_file\n",
    "\n",
    "def get_true_median_value(df, column, except_zero = True):\n",
    "    this_df = df.copy()\n",
    "    this_df = this_df.resample('1s').mean()\n",
    "    this_df = this_df.interpolate('linear')\n",
    "    if except_zero:    \n",
    "        this_df = this_df[this_df[column]>0]\n",
    "    median_value = this_df[column].median()\n",
    "    if df[column].median() > median_value:\n",
    "        median_value = df[column].median()\n",
    "    \n",
    "    \n",
    "    top_values_len = this_file[this_file[column] > this_file[column].max()*0.9].shape[0]\n",
    "    _, work_timedelta, _ = calculated_regime_time(df, regime_column = column, return_all = True)\n",
    "    if len(work_timedelta) * 2 < top_values_len:\n",
    "        median_value = this_file[this_file[column] > this_file[column].max()*0.9][column].median()\n",
    "    print(median_value)\n",
    "    return median_value\n",
    "\n",
    "\n",
    "def find_stucks(this_file):\n",
    "    median_value = get_true_median_value(this_file, gn.i_a_motor_a)\n",
    "    stuck_times = this_file[this_file[gn.i_a_motor_a] > median_value * 2]\n",
    "    stucks = []\n",
    "    if stuck_times.shape[0] > 0:\n",
    "        left_boundary = stuck_times.index[0]\n",
    "        this_stuck_interval = None\n",
    "        for i in range(stuck_times.shape[0]-1):\n",
    "            right_boundary = stuck_times.index[i+1]\n",
    "            stuck_times_rows = stuck_times[(stuck_times.index >= left_boundary) & (stuck_times.index <= right_boundary)].shape[0]\n",
    "            this_file_rows = this_file[(this_file.index >= left_boundary) & (this_file.index <= right_boundary)].shape[0]\n",
    "            if stuck_times_rows == this_file_rows:\n",
    "                this_stuck_interval = [left_boundary, right_boundary]        \n",
    "            else:\n",
    "                stucks.append(this_stuck_interval)\n",
    "                left_boundary = stuck_times.index[i+1]\n",
    "            if i == stuck_times.shape[0]-2:\n",
    "                stucks.append(this_stuck_interval)\n",
    "    return stucks"
   ]
  },
  {
   "cell_type": "code",
   "execution_count": null,
   "metadata": {},
   "outputs": [],
   "source": [
    "this_file = prepare_data(this_file)"
   ]
  },
  {
   "cell_type": "code",
   "execution_count": null,
   "metadata": {},
   "outputs": [],
   "source": [
    "stucks = find_stucks(this_file)"
   ]
  },
  {
   "cell_type": "code",
   "execution_count": null,
   "metadata": {},
   "outputs": [],
   "source": [
    "this_file['Ток фазы А дельта'] = [0] + list(this_file[gn.i_a_motor_a].values[1::] - this_file[gn.i_a_motor_a].values[0:-1])"
   ]
  },
  {
   "cell_type": "code",
   "execution_count": null,
   "metadata": {},
   "outputs": [],
   "source": [
    "overall_result = None\n",
    "for i in flash_names:\n",
    "    this_file = pd.read_csv(i, index_col = [0], parse_dates = True)\n",
    "    this_file = prepare_data(this_file)\n",
    "    stucks = find_stucks(this_file)\n",
    "    print(i)\n",
    "    print(len(stucks))"
   ]
  },
  {
   "cell_type": "code",
   "execution_count": null,
   "metadata": {},
   "outputs": [],
   "source": []
  },
  {
   "cell_type": "code",
   "execution_count": null,
   "metadata": {},
   "outputs": [],
   "source": []
  },
  {
   "cell_type": "code",
   "execution_count": null,
   "metadata": {},
   "outputs": [],
   "source": [
    "this_file[this_file['Ток фазы А дельта']>0]['Ток фазы А дельта'].median()"
   ]
  },
  {
   "cell_type": "code",
   "execution_count": null,
   "metadata": {},
   "outputs": [],
   "source": [
    "this_file.to_csv('E:\\\\Git\\\\unifloc\\\\sandbox\\\\uTools\\\\dash\\\\input\\\\check.csv')"
   ]
  },
  {
   "cell_type": "code",
   "execution_count": null,
   "metadata": {},
   "outputs": [],
   "source": [
    "work_status, work_timedelta, stop_timedelta = calculated_regime_time(this_file, \n",
    "                                                                         regime_column = gn.i_a_motor_a, return_all = True)"
   ]
  },
  {
   "cell_type": "code",
   "execution_count": null,
   "metadata": {},
   "outputs": [],
   "source": [
    "work_status"
   ]
  },
  {
   "cell_type": "code",
   "execution_count": null,
   "metadata": {},
   "outputs": [],
   "source": [
    "def create_shapes_to_plotly(borders):\n",
    "    shapes = []\n",
    "    for i in borders:\n",
    "        this_shape = dict(\n",
    "            type=\"rect\",\n",
    "            # x-reference is assigned to the x-values\n",
    "            xref=\"x\",\n",
    "            # y-reference is assigned to the plot paper [0,1]\n",
    "            yref=\"paper\",\n",
    "            x0=i[0],\n",
    "            y0=0,\n",
    "            x1=i[1],\n",
    "            y1=1,\n",
    "            fillcolor=\"LightSalmon\",\n",
    "            opacity=0.9,\n",
    "            layer=\"below\",\n",
    "            line_width=1,\n",
    "            line_color=\"LightSalmon\"\n",
    "        )\n",
    "        shapes.append(this_shape)\n",
    "    return shapes\n",
    "        "
   ]
  },
  {
   "cell_type": "code",
   "execution_count": null,
   "metadata": {},
   "outputs": [],
   "source": [
    "stucks"
   ]
  },
  {
   "cell_type": "code",
   "execution_count": null,
   "metadata": {},
   "outputs": [],
   "source": [
    "import plotly.graph_objects as go\n",
    "fig = go.Figure()\n",
    "\n",
    "# Add scatter trace for line\n",
    "fig.add_trace(go.Scatter(\n",
    "    x=this_file[gn.i_a_motor_a].index,\n",
    "    y=this_file[gn.i_a_motor_a],\n",
    "    mode=\"lines\",\n",
    "    name=\"temperature\"\n",
    "))\n",
    "\n",
    "# Add shape regions\n",
    "fig.update_layout(\n",
    "    shapes= create_shapes_to_plotly(stucks)\n",
    ")\n",
    "\n",
    "fig.show()"
   ]
  },
  {
   "cell_type": "code",
   "execution_count": null,
   "metadata": {},
   "outputs": [],
   "source": [
    "this_file.describe()"
   ]
  },
  {
   "cell_type": "code",
   "execution_count": null,
   "metadata": {},
   "outputs": [],
   "source": []
  },
  {
   "cell_type": "code",
   "execution_count": null,
   "metadata": {},
   "outputs": [],
   "source": []
  },
  {
   "cell_type": "code",
   "execution_count": null,
   "metadata": {},
   "outputs": [],
   "source": [
    "import plotly.graph_objects as go\n",
    "import pandas as pd\n",
    "from scipy.signal import find_peaks\n",
    "\n",
    "milk_data = pd.read_csv('https://raw.githubusercontent.com/plotly/datasets/master/monthly-milk-production-pounds.csv')\n",
    "time_series = milk_data['Monthly milk production (pounds per cow)']\n",
    "time_series = this_file[gn.i_a_motor_a]\n",
    "indices = find_peaks(time_series, prominence = [2,None])[0]\n",
    "\n",
    "fig = go.Figure()\n",
    "fig.add_trace(go.Scatter(\n",
    "    y=time_series,\n",
    "    mode='lines+markers',\n",
    "    name='Original Plot'\n",
    "))\n",
    "\n",
    "fig.add_trace(go.Scatter(\n",
    "    x=indices,\n",
    "    y=[time_series[j] for j in indices],\n",
    "    mode='markers',\n",
    "    marker=dict(\n",
    "        size=8,\n",
    "        color='red',\n",
    "        symbol='cross'\n",
    "    ),\n",
    "    name='Detected Peaks'\n",
    "))\n",
    "\n",
    "fig.show()"
   ]
  },
  {
   "cell_type": "code",
   "execution_count": null,
   "metadata": {},
   "outputs": [],
   "source": []
  }
 ],
 "metadata": {
  "kernelspec": {
   "display_name": "Python 3",
   "language": "python",
   "name": "python3"
  },
  "language_info": {
   "codemirror_mode": {
    "name": "ipython",
    "version": 3
   },
   "file_extension": ".py",
   "mimetype": "text/x-python",
   "name": "python",
   "nbconvert_exporter": "python",
   "pygments_lexer": "ipython3",
   "version": "3.7.6"
  }
 },
 "nbformat": 4,
 "nbformat_minor": 2
}
