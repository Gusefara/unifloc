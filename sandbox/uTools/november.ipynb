{
 "cells": [
  {
   "cell_type": "code",
   "execution_count": null,
   "metadata": {},
   "outputs": [],
   "source": [
    "import pandas as pd"
   ]
  },
  {
   "cell_type": "code",
   "execution_count": null,
   "metadata": {},
   "outputs": [],
   "source": [
    "import os\n",
    "import sys\n",
    "sys.path.append('../../../')\n",
    "import pandas as pd\n",
    "import datetime\n",
    "from multiprocessing import Pool\n",
    "import plot_workflow.plotly_option as pltl_opt\n",
    "import plot_workflow.plotly_workflow as pltl_wf\n",
    "\n",
    "from preproc_p import workflow_cs_data\n",
    "from preproc_p import workflow_chess_data\n",
    "from preproc_p import preproc_tool\n",
    "from preproc_p import workflow_calc_data\n",
    "from preproc_p import workflow_tr_data\n",
    "from preproc_p import filtration\n",
    "from preproc_p import workflow_periodic_wells\n",
    "from proc_p import processor as proc\n",
    "\n",
    "from ml import calibr_restore as calibr_restore\n",
    "from postproc_p import result_and_metrics as result_and_metrics\n",
    "import numpy as np"
   ]
  },
  {
   "cell_type": "code",
   "execution_count": null,
   "metadata": {},
   "outputs": [],
   "source": [
    "from multiprocessing import Pool"
   ]
  },
  {
   "cell_type": "code",
   "execution_count": null,
   "metadata": {},
   "outputs": [],
   "source": [
    "def run_calculation(thread_option_list):\n",
    "    if __name__ == '__main__':\n",
    "        with Pool(amount_of_threads) as p:\n",
    "            p.map(proc.calc,\n",
    "                  thread_option_list)"
   ]
  },
  {
   "cell_type": "code",
   "execution_count": null,
   "metadata": {},
   "outputs": [],
   "source": [
    "flash_names = preproc_tool.find_full_path_by_pattern(os.getcwd(), '*dash\\\\input\\\\*', '_first_edit_cs.csv')"
   ]
  },
  {
   "cell_type": "code",
   "execution_count": null,
   "metadata": {},
   "outputs": [],
   "source": [
    "gn = global_names = preproc_tool.GlobalNames()"
   ]
  },
  {
   "cell_type": "code",
   "execution_count": null,
   "metadata": {},
   "outputs": [],
   "source": [
    "overall_result = None\n",
    "for i in flash_names:\n",
    "    this_df = create_useful_inf(i)\n",
    "    try:\n",
    "        overall_result = overall_result.append(this_df)\n",
    "    except:\n",
    "        overall_result = this_df.copy()"
   ]
  },
  {
   "cell_type": "code",
   "execution_count": null,
   "metadata": {},
   "outputs": [],
   "source": [
    "overall_result.to_excel('ПКВ.xlsx')"
   ]
  },
  {
   "cell_type": "code",
   "execution_count": null,
   "metadata": {},
   "outputs": [],
   "source": []
  },
  {
   "cell_type": "markdown",
   "metadata": {},
   "source": [
    "# Поиск событий"
   ]
  },
  {
   "cell_type": "code",
   "execution_count": null,
   "metadata": {},
   "outputs": [],
   "source": []
  },
  {
   "cell_type": "code",
   "execution_count": null,
   "metadata": {},
   "outputs": [],
   "source": [
    "this_name = flash_names =  preproc_tool.find_full_path_by_pattern(os.getcwd(), '*dash\\\\ready_files\\\\*', '.csv')"
   ]
  },
  {
   "cell_type": "code",
   "execution_count": null,
   "metadata": {},
   "outputs": [],
   "source": []
  },
  {
   "cell_type": "code",
   "execution_count": null,
   "metadata": {},
   "outputs": [],
   "source": [
    "this_file = pd.read_csv(this_name[0], index_col = [0], parse_dates = True)\n",
    "this_file = prepare_data(this_file)\n"
   ]
  },
  {
   "cell_type": "code",
   "execution_count": null,
   "metadata": {},
   "outputs": [],
   "source": [
    "this_file['index дельта'] = [0] + list(this_file.index.values[1::] - this_file.index.values[0:-1])\n",
    "this_file['Ток фазы А дельта'] = [0] + list(this_file[gn.i_a_motor_a].values[1::] - this_file[gn.i_a_motor_a].values[0:-1])\n",
    "\n",
    "this_file['Ток фазы А производная'] = [0] + list(this_file['Ток фазы А дельта'][1::] /\n",
    "                                                 this_file['index дельта'][1::].apply(total_seconds))"
   ]
  },
  {
   "cell_type": "code",
   "execution_count": null,
   "metadata": {},
   "outputs": [],
   "source": [
    "this_file.columns"
   ]
  },
  {
   "cell_type": "code",
   "execution_count": null,
   "metadata": {},
   "outputs": [],
   "source": [
    "overall_result = None\n",
    "for j, i in enumerate(flash_names):\n",
    "    this_file = pd.read_csv(i, index_col = [0], parse_dates = True)\n",
    "    this_file = prepare_data(this_file)\n",
    "    stucks = find_stucks(this_file)\n",
    "    print(f\"№ {j}\")\n",
    "    print(i)\n",
    "    print(f\"Количество: {len(stucks)} \\n\")"
   ]
  },
  {
   "cell_type": "markdown",
   "metadata": {},
   "source": [
    "# Подготовка данных"
   ]
  },
  {
   "cell_type": "code",
   "execution_count": null,
   "metadata": {},
   "outputs": [],
   "source": [
    "this_name = preproc_tool.find_full_path_by_pattern(os.getcwd(), '*dash\\\\initial_files\\\\*', '.xlsx')"
   ]
  },
  {
   "cell_type": "code",
   "execution_count": null,
   "metadata": {},
   "outputs": [],
   "source": [
    "for i in this_name:\n",
    "    print(i)\n",
    "    if '~' not in i:\n",
    "        file = parse_cs_data_all_types(i)\n",
    "        new_file_name = i.replace('xlsx', 'csv')\n",
    "        new_file_name = new_file_name.replace('initial_files','ready_files')\n",
    "        file.to_csv(new_file_name)"
   ]
  },
  {
   "cell_type": "code",
   "execution_count": null,
   "metadata": {},
   "outputs": [],
   "source": [
    "file_name = this_name[-4]\n",
    "print(file_name)\n",
    "file = parse_cs_data_all_types(file_name)"
   ]
  },
  {
   "cell_type": "code",
   "execution_count": null,
   "metadata": {},
   "outputs": [],
   "source": [
    "file.to_excel('test.xlsx')"
   ]
  },
  {
   "cell_type": "code",
   "execution_count": null,
   "metadata": {},
   "outputs": [],
   "source": [
    "file.to_csv('test.csv')"
   ]
  },
  {
   "cell_type": "code",
   "execution_count": null,
   "metadata": {},
   "outputs": [],
   "source": []
  },
  {
   "cell_type": "code",
   "execution_count": null,
   "metadata": {},
   "outputs": [],
   "source": [
    "this_series = this_file[gn.i_a_motor_a]"
   ]
  },
  {
   "cell_type": "code",
   "execution_count": null,
   "metadata": {},
   "outputs": [],
   "source": []
  },
  {
   "cell_type": "markdown",
   "metadata": {},
   "source": [
    "# Проверка и построение графиков"
   ]
  },
  {
   "cell_type": "code",
   "execution_count": null,
   "metadata": {},
   "outputs": [],
   "source": [
    "this_name = flash_names[9]\n",
    "print(this_name)\n",
    "this_file = pd.read_csv(this_name, index_col = [0], parse_dates = True)\n",
    "this_file = prepare_data(this_file)\n",
    "stucks = find_stucks(this_file)\n",
    "print(len(stucks))\n",
    "\n",
    "this_file['index дельта'] = [0] + list(this_file.index.values[1::] - this_file.index.values[0:-1])\n",
    "this_file['Ток фазы А дельта'] = [0] + list(this_file[gn.i_a_motor_a].values[1::] - this_file[gn.i_a_motor_a].values[0:-1])\n",
    "\n",
    "this_file['Ток фазы А производная'] = [0] + list(this_file['Ток фазы А дельта'][1::] /\n",
    "                                                 this_file['index дельта'][1::].apply(total_seconds))\n",
    "print(this_file.columns)"
   ]
  },
  {
   "cell_type": "code",
   "execution_count": null,
   "metadata": {},
   "outputs": [],
   "source": [
    "df_to_plot = this_file[[gn.i_a_motor_a,  'Ток фазы А дельта',\n",
    "                        'Ток фазы А производная',\n",
    "                        gn.work_status_number, gn.motor_load_perc, gn.freq_hz\n",
    "                       ]]\n",
    "traces = pltl_wf.create_traces_list_for_all_columms(df_to_plot, \n",
    "                                                         'lines+markers',\n",
    "                                                         use_gl = True)\n",
    "pltl_wf.plot_subplots(traces,  this_name + \"_test.html\", \n",
    "                      two_equal_subplots = False, auto_open = True)"
   ]
  },
  {
   "cell_type": "code",
   "execution_count": null,
   "metadata": {},
   "outputs": [],
   "source": []
  },
  {
   "cell_type": "code",
   "execution_count": null,
   "metadata": {},
   "outputs": [],
   "source": []
  },
  {
   "cell_type": "code",
   "execution_count": null,
   "metadata": {},
   "outputs": [],
   "source": [
    "parameters_list = [gn.freq_hz,  gn.work_status_number,gn.i_a_motor_a,  gn.motor_load_perc,\n",
    "                   gn.p_intake_atm, gn.t_intake_c, gn.t_motor_c, gn.active_power_kwt, gn.cos_phi_d, gn.vibration_xy_msec2, \n",
    "                   gn.vibration_z_msec2, 'Вибрация']"
   ]
  },
  {
   "cell_type": "code",
   "execution_count": null,
   "metadata": {},
   "outputs": [],
   "source": [
    "all_banches = create_banches_for_report(this_file, parameters_list)"
   ]
  },
  {
   "cell_type": "code",
   "execution_count": null,
   "metadata": {},
   "outputs": [],
   "source": [
    "pltl_wf.create_report_html(this_file, all_banches, 'test.html',\n",
    "                           auto_open = True, layout_height=250, vertical_spacing=0.025, borders=stucks)"
   ]
  },
  {
   "cell_type": "code",
   "execution_count": null,
   "metadata": {},
   "outputs": [],
   "source": [
    "this_file.columns"
   ]
  },
  {
   "cell_type": "code",
   "execution_count": null,
   "metadata": {},
   "outputs": [],
   "source": [
    "this_series = this_file[gn.i_a_motor_a].resample('1s').mean()\n",
    "this_series = this_series.interpolate"
   ]
  },
  {
   "cell_type": "code",
   "execution_count": null,
   "metadata": {},
   "outputs": [],
   "source": []
  },
  {
   "cell_type": "code",
   "execution_count": null,
   "metadata": {},
   "outputs": [],
   "source": []
  },
  {
   "cell_type": "markdown",
   "metadata": {},
   "source": [
    "# Построение html\n"
   ]
  },
  {
   "cell_type": "code",
   "execution_count": null,
   "metadata": {},
   "outputs": [],
   "source": [
    "for i in flash_names:\n",
    "    print(i)\n",
    "    this_file = pd.read_csv(i, index_col = [0], parse_dates = True)\n",
    "    this_file = prepare_data(this_file)\n",
    "    stucks = find_stucks(this_file)\n",
    "\n",
    "    this_file['index дельта'] = [0] + list(this_file.index.values[1::] - this_file.index.values[0:-1])\n",
    "    this_file['Ток фазы А дельта'] = [0] + list(this_file[gn.i_a_motor_a].values[1::] - this_file[gn.i_a_motor_a].values[0:-1])\n",
    "\n",
    "    this_file['Ток фазы А производная'] = [0] + list(this_file['Ток фазы А дельта'][1::] /\n",
    "                                             this_file['index дельта'][1::].apply(total_seconds))\n",
    "    html_file_name = i.replace('csv','html')\n",
    "    html_file_name = html_file_name.replace('ready_files','ready_htmls')\n",
    "    \n",
    "    all_banches = create_banches_for_report(this_file, parameters_list)\n",
    "    pltl_wf.create_report_html(this_file, all_banches, html_file_name,\n",
    "                           auto_open = False, layout_height=250, vertical_spacing=0.025, borders=stucks)"
   ]
  },
  {
   "cell_type": "code",
   "execution_count": null,
   "metadata": {},
   "outputs": [],
   "source": []
  },
  {
   "cell_type": "code",
   "execution_count": null,
   "metadata": {},
   "outputs": [],
   "source": []
  },
  {
   "cell_type": "code",
   "execution_count": null,
   "metadata": {},
   "outputs": [],
   "source": []
  },
  {
   "cell_type": "code",
   "execution_count": null,
   "metadata": {},
   "outputs": [],
   "source": []
  },
  {
   "cell_type": "markdown",
   "metadata": {},
   "source": [
    "# Умное осреднение\n"
   ]
  },
  {
   "cell_type": "code",
   "execution_count": null,
   "metadata": {},
   "outputs": [],
   "source": [
    "this_name = preproc_tool.find_full_path_by_pattern(os.getcwd(), '*2355_second_edit.csv*', '.csv')"
   ]
  },
  {
   "cell_type": "code",
   "execution_count": null,
   "metadata": {},
   "outputs": [],
   "source": [
    "this_file = pd.read_csv(this_name[0], index_col = [0], parse_dates = True, dayfirst=True)\n",
    "this_file = smart_resample(this_file.  low_freq_param_name  = gn.q_liq_m3day, this_time_delta = pd.to_timedelta(1, unit = 'hour'))\n"
   ]
  },
  {
   "cell_type": "code",
   "execution_count": null,
   "metadata": {},
   "outputs": [],
   "source": [
    "this_file[gn.q_liq_m3day].dropna().plot()"
   ]
  },
  {
   "cell_type": "code",
   "execution_count": null,
   "metadata": {},
   "outputs": [],
   "source": []
  },
  {
   "cell_type": "code",
   "execution_count": null,
   "metadata": {},
   "outputs": [],
   "source": []
  },
  {
   "cell_type": "markdown",
   "metadata": {},
   "source": [
    "# Преобразование данных для ПКВ режима"
   ]
  },
  {
   "cell_type": "code",
   "execution_count": null,
   "metadata": {},
   "outputs": [],
   "source": [
    "this_name = preproc_tool.find_full_path_by_pattern(os.getcwd(), '*1005_first_edit.csv*', '.csv')"
   ]
  },
  {
   "cell_type": "code",
   "execution_count": null,
   "metadata": {},
   "outputs": [],
   "source": [
    "file = pd.read_csv(this_name[0], index_col = [0], parse_dates = True, dayfirst=True)"
   ]
  },
  {
   "cell_type": "code",
   "execution_count": null,
   "metadata": {},
   "outputs": [],
   "source": [
    "small_file = file[[gn.q_liq_m3day + ' (ГРАД)', gn.i_a_motor_a + ' (СУ)']]"
   ]
  },
  {
   "cell_type": "code",
   "execution_count": null,
   "metadata": {},
   "outputs": [],
   "source": [
    "test_df = small_file.copy()\n",
    "test_df"
   ]
  },
  {
   "cell_type": "code",
   "execution_count": null,
   "metadata": {},
   "outputs": [],
   "source": [
    "test_df = test_df.resample('1min').mean()\n",
    "test_df.columns = [gn.q_liq_m3day, gn.i_a_motor_a]\n",
    "test_df = test_df.dropna(subset = [gn.i_a_motor_a])\n",
    "work_status, work_timedelta, stop_timedelta, work_bounds, stop_bounds = calculated_regime_time(test_df, return_all = True)\n",
    "test_df[gn.work_status_number] = work_status"
   ]
  },
  {
   "cell_type": "code",
   "execution_count": null,
   "metadata": {},
   "outputs": [],
   "source": [
    "traces = pltl_wf.create_traces_list_for_all_columms(test_df, chosen_mode='lines+markers',\n",
    "    use_gl=True)\n",
    "pltl_wf.plot_func(traces, iplot_option = True, plot_title_str='Check')"
   ]
  },
  {
   "cell_type": "code",
   "execution_count": null,
   "metadata": {},
   "outputs": [],
   "source": [
    "from scipy import integrate\n",
    "this_time_delta = pd.to_timedelta(1, unit = 'hour')"
   ]
  },
  {
   "cell_type": "code",
   "execution_count": null,
   "metadata": {},
   "outputs": [],
   "source": [
    "i = test_df[gn.q_liq_m3day].dropna().index[1]\n",
    "super_small_df = test_df[(test_df.index >= i - this_time_delta) & (test_df.index <= i)]"
   ]
  },
  {
   "cell_type": "code",
   "execution_count": null,
   "metadata": {},
   "outputs": [],
   "source": [
    "traces = pltl_wf.create_traces_list_for_all_columms(super_small_df, chosen_mode='lines+markers',\n",
    "    use_gl=True)\n",
    "pltl_wf.plot_func(traces, iplot_option = True, plot_title_str='Check')"
   ]
  },
  {
   "cell_type": "code",
   "execution_count": null,
   "metadata": {},
   "outputs": [],
   "source": [
    "work_status, work_timedelta, stop_timedelta, work_bounds, stop_bounds = calculated_regime_time(super_small_df, return_all = True)"
   ]
  },
  {
   "cell_type": "code",
   "execution_count": null,
   "metadata": {},
   "outputs": [],
   "source": [
    "work_timedelta"
   ]
  },
  {
   "cell_type": "code",
   "execution_count": null,
   "metadata": {},
   "outputs": [],
   "source": [
    "stop_timedelta"
   ]
  },
  {
   "cell_type": "code",
   "execution_count": null,
   "metadata": {},
   "outputs": [],
   "source": [
    "sum(work_timedelta) + sum(stop_timedelta)"
   ]
  },
  {
   "cell_type": "code",
   "execution_count": null,
   "metadata": {},
   "outputs": [],
   "source": [
    "import scipy\n",
    "fsolve = scipy.optimize.fsolve"
   ]
  },
  {
   "cell_type": "code",
   "execution_count": null,
   "metadata": {},
   "outputs": [],
   "source": []
  },
  {
   "cell_type": "code",
   "execution_count": null,
   "metadata": {},
   "outputs": [],
   "source": []
  },
  {
   "cell_type": "code",
   "execution_count": null,
   "metadata": {},
   "outputs": [],
   "source": [
    "super_small_df, result = get_new_df_with_instant_rate(super_small_df, super_small_df[gn.q_liq_m3day][-1]/24)"
   ]
  },
  {
   "cell_type": "code",
   "execution_count": null,
   "metadata": {},
   "outputs": [],
   "source": [
    "work_status, work_timedelta, stop_timedelta, work_bounds, stop_bounds = calculated_regime_time(super_small_df, return_all = True)"
   ]
  },
  {
   "cell_type": "code",
   "execution_count": null,
   "metadata": {},
   "outputs": [],
   "source": [
    "traces = pltl_wf.create_traces_list_for_all_columms(super_small_df, chosen_mode='lines+markers',\n",
    "    use_gl=True)\n",
    "pltl_wf.plot_func(traces, iplot_option = True, plot_title_str='Check')"
   ]
  },
  {
   "cell_type": "code",
   "execution_count": null,
   "metadata": {},
   "outputs": [],
   "source": [
    "test_df = file.copy()\n",
    "test_df = test_df.resample('1min').mean()\n",
    "test_df[gn.i_a_motor_a] = test_df[gn.i_a_motor_a + ' (СУ)']\n",
    "test_df[gn.q_liq_m3day] = test_df[gn.q_liq_m3day + ' (ГРАД)']\n",
    "test_df = test_df.dropna(subset = [gn.i_a_motor_a])\n",
    "work_status, work_timedelta, stop_timedelta, work_bounds, stop_bounds = calculated_regime_time(test_df, return_all = True)\n",
    "test_df[gn.work_status_number] = work_status"
   ]
  },
  {
   "cell_type": "code",
   "execution_count": null,
   "metadata": {},
   "outputs": [],
   "source": [
    "result_df = None\n",
    "for i in test_df[gn.q_liq_m3day].dropna().index:\n",
    "    super_small_df = test_df[(test_df.index >= i - this_time_delta) & (test_df.index <= i)]\n",
    "    super_small_df, result = get_new_df_with_instant_rate(super_small_df, super_small_df[gn.q_liq_m3day][-1]/24)\n",
    "    work_status, work_timedelta, stop_timedelta, work_bounds, stop_bounds = calculated_regime_time(super_small_df, return_all = True)\n",
    "    active_time = sum(work_timedelta) / (sum(work_timedelta) + sum(stop_timedelta))\n",
    "    super_small_df['Рабочая доля времени'] = super_small_df[gn.work_status_number] * 0 + active_time\n",
    "    try:\n",
    "        result_df = result_df.append(super_small_df)\n",
    "    except:\n",
    "        result_df = super_small_df.copy()"
   ]
  },
  {
   "cell_type": "code",
   "execution_count": null,
   "metadata": {},
   "outputs": [],
   "source": [
    "traces = pltl_wf.create_traces_list_for_all_columms(result_df[[gn.q_liq_m3day + ' (ГРАД)',\n",
    "                                                               gn.q_liq_m3day + ' (created)',\n",
    "                                                              gn.i_a_motor_a + ' (СУ)',\n",
    "                                                              gn.work_status_number,\n",
    "                                                              gn.active_power_kwt + ' (СУ)',\n",
    "                                                              'Рабочая доля времени']], chosen_mode='lines+markers',\n",
    "    use_gl=True)\n",
    "pltl_wf.plot_func(traces, iplot_option = True, plot_title_str='Check')"
   ]
  },
  {
   "cell_type": "code",
   "execution_count": null,
   "metadata": {},
   "outputs": [],
   "source": [
    "result_df.to_csv('check_active_time_work.csv')"
   ]
  },
  {
   "cell_type": "code",
   "execution_count": null,
   "metadata": {},
   "outputs": [],
   "source": [
    "result_df[result_df[gn.active_power_kwt + ' (СУ)']>0][gn.active_power_kwt + ' (СУ)'].median()"
   ]
  },
  {
   "cell_type": "code",
   "execution_count": null,
   "metadata": {},
   "outputs": [],
   "source": [
    "super_small_df"
   ]
  },
  {
   "cell_type": "code",
   "execution_count": null,
   "metadata": {},
   "outputs": [],
   "source": []
  },
  {
   "cell_type": "code",
   "execution_count": null,
   "metadata": {},
   "outputs": [],
   "source": []
  },
  {
   "cell_type": "markdown",
   "metadata": {},
   "source": [
    "## Проверка расчета интеграла"
   ]
  },
  {
   "cell_type": "code",
   "execution_count": null,
   "metadata": {},
   "outputs": [],
   "source": [
    "super_small_df_test = super_small_df.copy()"
   ]
  },
  {
   "cell_type": "code",
   "execution_count": null,
   "metadata": {},
   "outputs": [],
   "source": [
    "super_small_df_test.index[-1] - super_small_df_test.index[0]"
   ]
  },
  {
   "cell_type": "code",
   "execution_count": null,
   "metadata": {},
   "outputs": [],
   "source": [
    "super_small_df_test[gn.work_status_number] = super_small_df_test[gn.work_status_number] * 0\n",
    "super_small_df_test[gn.work_status_number] = list(super_small_df_test[gn.work_status_number][0:31] + 1) + \\\n",
    "                                            list(super_small_df_test[gn.work_status_number][31:] * 0)\n",
    "super_small_df_test[gn.q_liq_m3day] = super_small_df_test[gn.q_liq_m3day] * 0 + 24\n",
    "super_small_df_test['Дебит жидкости, м3/час'] = super_small_df_test[gn.q_liq_m3day] / 24"
   ]
  },
  {
   "cell_type": "code",
   "execution_count": null,
   "metadata": {},
   "outputs": [],
   "source": [
    "super_small_df_test, result = get_new_df_with_instant_rate(super_small_df_test, 1)"
   ]
  },
  {
   "cell_type": "code",
   "execution_count": null,
   "metadata": {},
   "outputs": [],
   "source": [
    "traces = pltl_wf.create_traces_list_for_all_columms(super_small_df_test, chosen_mode='lines+markers',\n",
    "    use_gl=True)\n",
    "pltl_wf.plot_func(traces, iplot_option = True, plot_title_str='Check')"
   ]
  },
  {
   "cell_type": "code",
   "execution_count": null,
   "metadata": {},
   "outputs": [],
   "source": [
    "calc_integral(super_small_df_test[gn.work_status_number], True).plot()"
   ]
  },
  {
   "cell_type": "code",
   "execution_count": null,
   "metadata": {},
   "outputs": [],
   "source": []
  },
  {
   "cell_type": "code",
   "execution_count": null,
   "metadata": {},
   "outputs": [],
   "source": []
  },
  {
   "cell_type": "code",
   "execution_count": null,
   "metadata": {},
   "outputs": [],
   "source": []
  },
  {
   "cell_type": "markdown",
   "metadata": {},
   "source": [
    "# Работа над построением крутых html"
   ]
  },
  {
   "cell_type": "code",
   "execution_count": null,
   "metadata": {},
   "outputs": [],
   "source": [
    "flash_names = preproc_tool.find_full_path_by_pattern(os.getcwd(), '*СУ true format\\\\*', 'csv')"
   ]
  },
  {
   "cell_type": "code",
   "execution_count": null,
   "metadata": {},
   "outputs": [],
   "source": [
    "results = []\n",
    "for i in flash_names:\n",
    "    cs_file = pd.read_csv(i, index_col = [0], parse_dates =True, dayfirst = True)\n",
    "    cs_file = preproc_tool.rename_columns_by_dict(cs_file)\n",
    "    cs_file = workflow_periodic_wells.prepare_data(cs_file)\n",
    "    stucks = workflow_periodic_wells.find_stucks(cs_file)\n",
    "    results.append({i: stucks})\n",
    "\n",
    "    \n",
    "    "
   ]
  },
  {
   "cell_type": "code",
   "execution_count": null,
   "metadata": {},
   "outputs": [],
   "source": [
    "results"
   ]
  },
  {
   "cell_type": "code",
   "execution_count": null,
   "metadata": {},
   "outputs": [],
   "source": [
    "bomd_base = 'БОМД. Оборудование актуальных паспортов_Филиал Муравленковскнефть ОАО Газпромнефть-ННГ_04.03.2020 14-57-02.xlsx'\n",
    "well_name = '2079'\n",
    "field_name = 'Романовское'\n",
    "tr_base = 'ТР Январь.xlsx'"
   ]
  },
  {
   "cell_type": "code",
   "execution_count": null,
   "metadata": {},
   "outputs": [],
   "source": [
    "bomd_base_name = preproc_tool.find_full_path_by_pattern(os.getcwd(), f\"*{bomd_base}*\", '')[0]\n",
    "tr_base_name = preproc_tool.find_full_path_by_pattern(os.getcwd(), f\"*{tr_base}*\", '')[0]"
   ]
  },
  {
   "cell_type": "code",
   "execution_count": null,
   "metadata": {},
   "outputs": [],
   "source": [
    "parameters = [ gn.q_liq_m3day, gn.q_oil_mass_tday, gn.q_gas_m3day,\n",
    "              gn.active_power_kwt, gn.i_a_motor_a, gn.motor_load_perc, gn.freq_hz, gn.cos_phi_d,\n",
    "             gn.p_intake_atm, gn.p_lin_atm, gn.t_intake_c, gn.t_motor_c,\n",
    "              gn.vibration_xy_msec2, gn.vibration_z_msec2]"
   ]
  },
  {
   "cell_type": "code",
   "execution_count": null,
   "metadata": {},
   "outputs": [],
   "source": [
    "files = preproc_tool.find_full_path_by_pattern(os.getcwd(), '*grad true format\\\\*', 'csv')"
   ]
  },
  {
   "cell_type": "code",
   "execution_count": null,
   "metadata": {},
   "outputs": [],
   "source": [
    "result_files = []\n",
    "for i in files:\n",
    "    well_name = i.split('\\\\')[-1]\n",
    "    well_name = well_name.split('.')[0]\n",
    "    \n",
    "    grad_file = pd.read_csv(i, index_col = [0], parse_dates =True, dayfirst = True)\n",
    "    grad_file = preproc_tool.rename_columns_by_dict(grad_file)\n",
    "    grad_file = preproc_tool.solve_dimensions(grad_file)\n",
    "    grad_file = preproc_tool.mark_df_columns(grad_file, 'ГРАД')\n",
    "    \n",
    "    cs_filename  = preproc_tool.find_full_path_by_pattern(os.getcwd(), '*СУ true format\\\\*', f\"{well_name}\")[0]\n",
    "    cs_file = pd.read_csv(cs_filename, index_col = [0], parse_dates =True, dayfirst = True)\n",
    "    cs_file = preproc_tool.rename_columns_by_dict(cs_file)\n",
    "    cs_file = preproc_tool.solve_dimensions(cs_file)\n",
    "    cs_file = preproc_tool.mark_df_columns(cs_file, 'СУ')\n",
    "    \n",
    "    result_df  = grad_file.join(cs_file, how = 'outer')\n",
    "    result_df = result_df.sort_index()\n",
    "    \n",
    "    result_df.to_csv(i.replace('grad true format','merged_files'))\n",
    "    \n",
    "    \n",
    "    wellinfo = workflow_tr_data.WellInfo()\n",
    "    real_df = wellinfo.facade_get_all_data_and_return_df(tr_base_name, bomd_base_name, well_name, field_name)\n",
    "    \n",
    "    result_files.append([result_df, real_df])\n",
    "    \n",
    "    \n",
    "    banches = pltl_wf.create_banches_for_report(result_df, parameters, fuzzy_names = True)\n",
    "    pltl_wf.create_report_html(result_df, banches, i.replace('csv','html'), df_for_table = real_df, auto_open=False)\n",
    "    \n",
    "\n",
    "    \n",
    "\n",
    "\n",
    "    \n",
    "    "
   ]
  }
 ],
 "metadata": {
  "kernelspec": {
   "display_name": "Python 3",
   "language": "python",
   "name": "python3"
  },
  "language_info": {
   "codemirror_mode": {
    "name": "ipython",
    "version": 3
   },
   "file_extension": ".py",
   "mimetype": "text/x-python",
   "name": "python",
   "nbconvert_exporter": "python",
   "pygments_lexer": "ipython3",
   "version": "3.7.6"
  }
 },
 "nbformat": 4,
 "nbformat_minor": 2
}
