{
 "cells": [
  {
   "cell_type": "code",
   "execution_count": 1,
   "metadata": {},
   "outputs": [],
   "source": [
    "import pandas as pd"
   ]
  },
  {
   "cell_type": "code",
   "execution_count": 2,
   "metadata": {},
   "outputs": [
    {
     "name": "stdout",
     "output_type": "stream",
     "text": [
      "E:\\Git\\unifloc_vba\\\\\n"
     ]
    }
   ],
   "source": [
    "import os\n",
    "import sys\n",
    "sys.path.append('../../../')\n",
    "import pandas as pd\n",
    "import datetime\n",
    "from multiprocessing import Pool\n",
    "import plot_workflow.plotly_option as pltl_opt\n",
    "import plot_workflow.plotly_workflow as pltl_wf\n",
    "\n",
    "from preproc_p import workflow_cs_data\n",
    "from preproc_p import workflow_chess_data\n",
    "from preproc_p import preproc_tool\n",
    "from preproc_p import workflow_calc_data\n",
    "from preproc_p import workflow_tr_data\n",
    "from preproc_p import filtration\n",
    "from proc_p import processor as proc\n",
    "\n",
    "from ml import calibr_restore as calibr_restore\n",
    "from postproc_p import result_and_metrics as result_and_metrics\n",
    "import numpy as np"
   ]
  },
  {
   "cell_type": "code",
   "execution_count": 3,
   "metadata": {},
   "outputs": [],
   "source": [
    "from multiprocessing import Pool"
   ]
  },
  {
   "cell_type": "code",
   "execution_count": 4,
   "metadata": {},
   "outputs": [],
   "source": [
    "def run_calculation(thread_option_list):\n",
    "    if __name__ == '__main__':\n",
    "        with Pool(amount_of_threads) as p:\n",
    "            p.map(proc.calc,\n",
    "                  thread_option_list)"
   ]
  },
  {
   "cell_type": "code",
   "execution_count": 5,
   "metadata": {},
   "outputs": [
    {
     "name": "stdout",
     "output_type": "stream",
     "text": [
      "Найденные пути по основному паттерну:\n",
      "E:\\Git\\unifloc\\sandbox\\uTools\\dash\\input\\1002_first_edit_cs.csv\n",
      "E:\\Git\\unifloc\\sandbox\\uTools\\dash\\input\\1002_first_edit_grad.csv\n",
      "E:\\Git\\unifloc\\sandbox\\uTools\\dash\\input\\1005_first_edit_cs.csv\n",
      "E:\\Git\\unifloc\\sandbox\\uTools\\dash\\input\\1005_first_edit_grad.csv\n",
      "E:\\Git\\unifloc\\sandbox\\uTools\\dash\\input\\1453_first_edit_cs.csv\n",
      "E:\\Git\\unifloc\\sandbox\\uTools\\dash\\input\\1453_first_edit_grad.csv\n",
      "E:\\Git\\unifloc\\sandbox\\uTools\\dash\\input\\2037_first_edit_cs.csv\n",
      "E:\\Git\\unifloc\\sandbox\\uTools\\dash\\input\\2037_first_edit_grad.csv\n",
      "E:\\Git\\unifloc\\sandbox\\uTools\\dash\\input\\3785_first_edit_cs.csv\n",
      "E:\\Git\\unifloc\\sandbox\\uTools\\dash\\input\\3785_first_edit_grad.csv\n",
      "E:\\Git\\unifloc\\sandbox\\uTools\\dash\\input\\395_first_edit_grad.csv\n",
      "E:\\Git\\unifloc\\sandbox\\uTools\\dash\\input\\439_first_edit_cs.csv\n",
      "E:\\Git\\unifloc\\sandbox\\uTools\\dash\\input\\439_first_edit_grad.csv\n",
      "E:\\Git\\unifloc\\sandbox\\uTools\\dash\\input\\491_first_edit_cs.csv\n",
      "E:\\Git\\unifloc\\sandbox\\uTools\\dash\\input\\491_first_edit_grad.csv\n",
      "E:\\Git\\unifloc\\sandbox\\uTools\\dash\\input\\566_first_edit_cs.csv\n",
      "E:\\Git\\unifloc\\sandbox\\uTools\\dash\\input\\566_first_edit_grad.csv\n",
      "E:\\Git\\unifloc\\sandbox\\uTools\\dash\\input\\6000_first_edit_cs.csv\n",
      "E:\\Git\\unifloc\\sandbox\\uTools\\dash\\input\\6000_first_edit_grad.csv\n",
      "E:\\Git\\unifloc\\sandbox\\uTools\\dash\\input\\6010_first_edit_cs.csv\n",
      "E:\\Git\\unifloc\\sandbox\\uTools\\dash\\input\\6010_first_edit_grad.csv\n",
      "E:\\Git\\unifloc\\sandbox\\uTools\\dash\\input\\6015_first_edit_cs.csv\n",
      "E:\\Git\\unifloc\\sandbox\\uTools\\dash\\input\\6015_first_edit_grad.csv\n",
      "E:\\Git\\unifloc\\sandbox\\uTools\\dash\\input\\7499_first_edit_cs.csv\n",
      "E:\\Git\\unifloc\\sandbox\\uTools\\dash\\input\\7499_first_edit_grad.csv\n",
      "E:\\Git\\unifloc\\sandbox\\uTools\\dash\\input\\796_first_edit_cs.csv\n",
      "E:\\Git\\unifloc\\sandbox\\uTools\\dash\\input\\796_first_edit_grad.csv\n",
      "E:\\Git\\unifloc\\sandbox\\uTools\\dash\\input\\898_first_edit_cs.csv\n",
      "E:\\Git\\unifloc\\sandbox\\uTools\\dash\\input\\898_first_edit_grad.csv\n",
      "E:\\Git\\unifloc\\sandbox\\uTools\\dash\\input\\df_test.csv\n",
      "E:\\Git\\unifloc\\sandbox\\uTools\\dash\\input\\df_test_2.csv\n",
      "Найденные пути по вспомогательному паттерну:\n",
      "['E:\\\\Git\\\\unifloc\\\\sandbox\\\\uTools\\\\dash\\\\input\\\\1002_first_edit_cs.csv', 'E:\\\\Git\\\\unifloc\\\\sandbox\\\\uTools\\\\dash\\\\input\\\\1005_first_edit_cs.csv', 'E:\\\\Git\\\\unifloc\\\\sandbox\\\\uTools\\\\dash\\\\input\\\\1453_first_edit_cs.csv', 'E:\\\\Git\\\\unifloc\\\\sandbox\\\\uTools\\\\dash\\\\input\\\\2037_first_edit_cs.csv', 'E:\\\\Git\\\\unifloc\\\\sandbox\\\\uTools\\\\dash\\\\input\\\\3785_first_edit_cs.csv', 'E:\\\\Git\\\\unifloc\\\\sandbox\\\\uTools\\\\dash\\\\input\\\\439_first_edit_cs.csv', 'E:\\\\Git\\\\unifloc\\\\sandbox\\\\uTools\\\\dash\\\\input\\\\491_first_edit_cs.csv', 'E:\\\\Git\\\\unifloc\\\\sandbox\\\\uTools\\\\dash\\\\input\\\\566_first_edit_cs.csv', 'E:\\\\Git\\\\unifloc\\\\sandbox\\\\uTools\\\\dash\\\\input\\\\6000_first_edit_cs.csv', 'E:\\\\Git\\\\unifloc\\\\sandbox\\\\uTools\\\\dash\\\\input\\\\6010_first_edit_cs.csv', 'E:\\\\Git\\\\unifloc\\\\sandbox\\\\uTools\\\\dash\\\\input\\\\6015_first_edit_cs.csv', 'E:\\\\Git\\\\unifloc\\\\sandbox\\\\uTools\\\\dash\\\\input\\\\7499_first_edit_cs.csv', 'E:\\\\Git\\\\unifloc\\\\sandbox\\\\uTools\\\\dash\\\\input\\\\796_first_edit_cs.csv', 'E:\\\\Git\\\\unifloc\\\\sandbox\\\\uTools\\\\dash\\\\input\\\\898_first_edit_cs.csv']\n"
     ]
    }
   ],
   "source": [
    "flash_names = preproc_tool.find_full_path_by_pattern(os.getcwd(), '*dash\\\\input\\\\*', '_first_edit_cs.csv')"
   ]
  },
  {
   "cell_type": "code",
   "execution_count": 6,
   "metadata": {},
   "outputs": [],
   "source": [
    "gn = global_names = preproc_tool.GlobalNames()"
   ]
  },
  {
   "cell_type": "code",
   "execution_count": 97,
   "metadata": {},
   "outputs": [],
   "source": [
    "def calculated_regime_time(this_file):\n",
    "    last_time = this_file.index[0]\n",
    "\n",
    "    work_status = []\n",
    "    if this_file[gn.i_a_motor_a][0] > 0:\n",
    "        work_status.append(1)\n",
    "    else:\n",
    "        work_status.append(0)\n",
    "\n",
    "    work_timedelta = []\n",
    "    stop_timedelta = []\n",
    "\n",
    "\n",
    "    for i in range(1, this_file.shape[0]):\n",
    "        this_time = this_file.index[i]\n",
    "        this_value = this_file[gn.i_a_motor_a][i]\n",
    "        if this_value > 0:\n",
    "            work_status.append(1)\n",
    "        else:\n",
    "            work_status.append(0)\n",
    "        #print(this_value)\n",
    "        time_delta = this_time - last_time\n",
    "        #time_delta = this_file.index[i-1] - last_time    \n",
    "        if work_status[-1] != work_status[-2]:\n",
    "            last_time = this_time\n",
    "            #print('Переключение')\n",
    "            if work_status[-1] ==1:\n",
    "                #print('Включение')\n",
    "                stop_timedelta.append(time_delta.total_seconds()/60)\n",
    "            else:\n",
    "                #print('Выключение')\n",
    "                work_timedelta.append(time_delta.total_seconds()/60)\n",
    "    work_time_median = np.median(work_timedelta)\n",
    "    stop_timedelta_median = np.median(stop_timedelta)\n",
    "    return work_time_median, stop_timedelta_median"
   ]
  },
  {
   "cell_type": "code",
   "execution_count": 107,
   "metadata": {},
   "outputs": [],
   "source": [
    "def create_useful_inf(cs_file_name):\n",
    "    info_dict = {}\n",
    "    this_file = pd.read_csv(cs_file_name, index_col = [0], parse_dates = True)\n",
    "    print(cs_file_name.split('\\\\')[-1].replace('_first_edit_cs.csv',''))\n",
    "    this_file = preproc_tool.rename_columns_by_dict(this_file)\n",
    "    info_dict['Начало записи данных'] = [this_file.index[0]]\n",
    "    info_dict['Конец записи данных'] = [this_file.index[-1]]\n",
    "    info_dict['Продолжительность записи данных'] = [this_file.index[-1] - this_file.index[0]]\n",
    "    info_dict['Общее число записей'] =   [this_file.shape[0]]\n",
    "    info_dict['Средняя дискретность, секунды'] =   [((this_file.index[-1] - this_file.index[0])/this_file.shape[0]).seconds]\n",
    "    info_dict['Медианное время работы, мин'], info_dict['Медианное время простаивания, мин'] = calculated_regime_time(this_file)\n",
    "    if 'F Турб.вращ.,Гц' in this_file.columns:\n",
    "        info_dict['Медианная частота турбинного вращения'] =   [this_file[this_file['F Турб.вращ.,Гц']>0]['F Турб.вращ.,Гц'].median()]\n",
    "        info_dict['Максимальная частота турбинного вращения'] =   [this_file['F Турб.вращ.,Гц'].max()]\n",
    "    else:\n",
    "        info_dict['Медианная частота турбинного вращения'] =   [-1]\n",
    "        info_dict['Максимальная частота турбинного вращения'] =   [-1]\n",
    "    if gn.freq_hz in this_file.columns:\n",
    "        this_file = this_file[this_file[gn.freq_hz]>0]\n",
    "    else:\n",
    "        this_file = this_file[this_file[gn.i_a_motor_a]>0]\n",
    "    \n",
    "    \n",
    "    info_dict['Медианное значение загрузки (Р)'] =   [ this_file[gn.motor_load_perc].median()]\n",
    "    info_dict['Максимальное значение загрузки (Р)'] =   [ this_file[gn.motor_load_perc].max()]\n",
    "    \n",
    "    info_dict['Медианное значение тока (Р)'] =   [this_file[gn.i_a_motor_a].median()]\n",
    "    info_dict['Максимальное значение тока (Р)'] =   [this_file[gn.i_a_motor_a].max()]\n",
    "\n",
    "    info_dict['Медианное значение мощности (Р)'] =   [this_file[gn.active_power_kwt].median()]\n",
    "    info_dict['Максимальное значение мощности (Р)'] =   [this_file[gn.active_power_kwt].max()]\n",
    "    \n",
    "    if gn.freq_hz in this_file.columns:\n",
    "        info_dict['Медианное значение частоты (Р)'] =   [this_file[gn.freq_hz].median()]\n",
    "        info_dict['Максимальное значение частоты (Р)'] =   [this_file[gn.freq_hz].max()]\n",
    "    else:\n",
    "        info_dict['Медианное значение частоты (Р)'] =   [-1]\n",
    "        info_dict['Максимальное значение частоты (Р)'] =   [-1]        \n",
    "    \n",
    "    if gn.p_intake_atm in this_file.columns:\n",
    "        info_dict['Медианное значение давления на приеме (Р)'] =   [this_file[gn.p_intake_atm].median()]\n",
    "        info_dict['Минимальное значение давления на приеме (Р)'] =   [this_file[gn.p_intake_atm].min()]\n",
    "    else:\n",
    "        info_dict['Медианное значение давления на приеме (Р)'] =   [-1]\n",
    "        info_dict['Минимальное значение давления на приеме (Р)'] =   [-1]\n",
    "    \n",
    "    if gn.t_motor_c in this_file.columns:\n",
    "        info_dict['Медианное значение температуры двигателя (Р)'] =   [this_file[gn.t_motor_c].median()]\n",
    "        info_dict['Максимальное значение температуры двигателя (Р)'] =   [this_file[gn.t_motor_c].max()]\n",
    "    else:\n",
    "        info_dict['Медианное значение температуры двигателя (Р)'] =   [-1]\n",
    "        info_dict['Максимальное значение температуры двигателя (Р)'] = [-1]\n",
    "    \n",
    "    info_dict['Медианное значение коэффициента мощности (Р)'] =   [this_file[gn.cos_phi_d].median()]\n",
    "    info_dict['Минимальное значение коэффициента мощности (Р)'] =   [this_file[gn.cos_phi_d].min()]\n",
    "\n",
    "    \n",
    "\n",
    "\n",
    "    \n",
    "    result_df = pd.DataFrame(info_dict)\n",
    "    result_df.index = [cs_file_name.split('\\\\')[-1].replace('_first_edit_cs.csv','')]\n",
    "    result_df.index.name = 'Скважина'\n",
    "    return result_df"
   ]
  },
  {
   "cell_type": "code",
   "execution_count": 108,
   "metadata": {},
   "outputs": [
    {
     "name": "stdout",
     "output_type": "stream",
     "text": [
      "1002\n",
      "1005\n",
      "1453\n",
      "2037\n",
      "3785\n",
      "439\n",
      "491\n",
      "566\n",
      "6000\n",
      "6010\n",
      "6015\n",
      "7499\n",
      "796\n",
      "898\n"
     ]
    }
   ],
   "source": [
    "overall_result = None\n",
    "for i in flash_names:\n",
    "    this_df = create_useful_inf(i)\n",
    "    try:\n",
    "        overall_result = overall_result.append(this_df)\n",
    "    except:\n",
    "        overall_result = this_df.copy()"
   ]
  },
  {
   "cell_type": "code",
   "execution_count": 109,
   "metadata": {},
   "outputs": [],
   "source": [
    "overall_result.to_excel('ПКВ.xlsx')"
   ]
  },
  {
   "cell_type": "code",
   "execution_count": null,
   "metadata": {},
   "outputs": [],
   "source": []
  }
 ],
 "metadata": {
  "kernelspec": {
   "display_name": "Python 3",
   "language": "python",
   "name": "python3"
  },
  "language_info": {
   "codemirror_mode": {
    "name": "ipython",
    "version": 3
   },
   "file_extension": ".py",
   "mimetype": "text/x-python",
   "name": "python",
   "nbconvert_exporter": "python",
   "pygments_lexer": "ipython3",
   "version": "3.7.6"
  }
 },
 "nbformat": 4,
 "nbformat_minor": 2
}
