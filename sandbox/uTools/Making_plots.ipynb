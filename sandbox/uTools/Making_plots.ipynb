{
 "cells": [
  {
   "cell_type": "code",
   "execution_count": null,
   "metadata": {},
   "outputs": [],
   "source": [
    "import pandas as pd\n",
    "import numpy as np\n",
    "import math\n",
    "import matplotlib.pyplot as plt\n",
    "import matplotlib.dates as mdates\n",
    "from matplotlib.dates import DateFormatter\n",
    "import operator\n",
    "from sklearn.preprocessing import MinMaxScaler\n",
    "import datetime"
   ]
  },
  {
   "cell_type": "code",
   "execution_count": null,
   "metadata": {},
   "outputs": [],
   "source": [
    "def cut_df(df, left_boundary, right_boundary):\n",
    "    \"\"\"\n",
    "    Вырезка из DataFrame временного интервала\n",
    "    :param df:\n",
    "    :param left_boundary:\n",
    "    :param right_boundary:\n",
    "    :return:\n",
    "    \"\"\"\n",
    "    for start, end in zip(left_boundary, right_boundary):\n",
    "        df = df[(df.index >= start) & (df.index <= end)]\n",
    "    return df"
   ]
  },
  {
   "cell_type": "code",
   "execution_count": null,
   "metadata": {},
   "outputs": [],
   "source": [
    "wells = ['569', '601', '1354', '1567', '1602', '1628']\n",
    "\n",
    "\n",
    "time_marks_adaptation = {'252': '_2019_11_16_17_40_20',\n",
    "                         '569': '_2019_11_16_14_59_46',\n",
    "                         '601': '_2019_11_16_18_13_00',\n",
    "                         '1354': '_2019_11_15_14_48_55',\n",
    "                         '1567': '_2019_11_06_19_04_07',\n",
    "                         '1602': '_2019_11_15_19_49_55',\n",
    "                         '1628': '_2019_11_16_17_15_24'\n",
    "                        }\n",
    "time_marks_ad_in = {'252': '_2019_11_16_17_36_10',\n",
    "                    '569': '_2019_11_16_14_57_40',\n",
    "                    '601': '_2019_11_16_18_10_47',\n",
    "                    '1354': '_2019_11_15_14_45_46',\n",
    "                    '1567': '_2019_11_06_18_32_41',\n",
    "                    '1602': '_2019_11_15_15_21_36',\n",
    "                    '1628': '_2019_11_16_15_00_17'\n",
    "                   }"
   ]
  },
  {
   "cell_type": "code",
   "execution_count": null,
   "metadata": {
    "scrolled": false
   },
   "outputs": [],
   "source": [
    "for well in wells:\n",
    "    fig = plt.figure(figsize=(16,9))\n",
    "    w_data_adapt = pd.read_csv(f'data\\\\{well}\\\\adaptation_\\\\{well}_calc_and_input.csv')\n",
    "    w_data_restore = pd.read_csv(f'data\\\\{well}\\\\restore_\\\\{well}_calc_and_input.csv')\n",
    "    \n",
    "    # строим калибровки\n",
    "    ax =plt.subplot(2, 1, 1)\n",
    "    date = pd.to_datetime(w_data_adapt['Время'])\n",
    "    ax.plot(date, w_data_adapt['К. калибровки по мощности - множитель (Модель)'], label='Калибровки по мощности')\n",
    "    ax.plot(date, w_data_adapt['К. калибровки по напору - множитель (Модель)'], label='Калибровки по напору')\n",
    "\n",
    "    date = pd.to_datetime(w_data_restore['Время'])\n",
    "    ax.plot(date, w_data_restore['К. калибровки по мощности - множитель (Модель)'], label='Калибровки по мощности, вост')\n",
    "    ax.plot(date, w_data_restore['К. калибровки по напору - множитель (Модель)'], label='Калибровки по напору, вост')\n",
    "\n",
    "    ax.set(xlabel='Date: day/month', ylabel='dimensionless',\n",
    "           title=f'Калибровки, скважина {well}')\n",
    "    plt.legend(loc='upper right', bbox_to_anchor=(1.37, 0.8))\n",
    "    ax.xaxis.set_major_formatter(DateFormatter('%d/%m'))\n",
    "    \n",
    "    # строим дебиты\n",
    "    \n",
    "    ax = plt.subplot(2, 1, 2)\n",
    "    date = pd.to_datetime(w_data_adapt['Время'])\n",
    "    ax.plot(date, w_data_adapt['Q ж, м3/сут (Модель)'], label='Q ж фактический')\n",
    "    ax.xaxis.set_major_formatter(DateFormatter('%d/%m'))\n",
    "\n",
    "    date = pd.to_datetime(w_data_restore['Время'])\n",
    "    ax.plot(date, w_data_restore['Q ж, м3/сут (Модель)'], label='Qж, вост')\n",
    "\n",
    "    ax.set(xlabel='Date: day/month', ylabel='Q_liq, m3/day',\n",
    "           title=f'Qж, скважина {well}')\n",
    "    plt.legend(loc='upper right', bbox_to_anchor=(1.24, 0.8))\n",
    "    plt.tight_layout()\n",
    "    plt.savefig(f'images/{well}/{well}.png')\n",
    "    plt.show()"
   ]
  },
  {
   "cell_type": "markdown",
   "metadata": {},
   "source": [
    "# На гистограмме покажем ошбки графиков"
   ]
  },
  {
   "cell_type": "code",
   "execution_count": null,
   "metadata": {},
   "outputs": [],
   "source": [
    "'''\n",
    "if '1567' in wells:\n",
    "    wells.remove('1567')\n",
    "'''\n",
    "well_mae_perc = {}\n",
    "for well in wells:\n",
    "    metr_w = pd.read_csv(f'data\\\\{well}\\\\restore_\\\\{well}_adapt_restore_metrics_tr_report.csv')\n",
    "    well_mae_perc[well] = metr_w[metr_w['Unnamed: 0'] == f'{well} (CALIBR)']['Средняя относительная ошибка Q ж'].values[0]"
   ]
  },
  {
   "cell_type": "code",
   "execution_count": null,
   "metadata": {},
   "outputs": [],
   "source": [
    "sorted_d = sorted(well_mae_perc.items(), key=operator.itemgetter(1))\n",
    "sorted_mae_d = {}\n",
    "for i in range(len(sorted_d)):\n",
    "    if sorted_d[i][0] != '1567':\n",
    "        sorted_mae_d[sorted_d[i][0]] = sorted_d[i][1]\n",
    "fig, ax = plt.subplots(figsize=(10, 6))\n",
    "\n",
    "# Define x and y axes\n",
    "ax.bar(sorted_mae_d.keys(), sorted_mae_d.values(), color = 'darkblue')\n",
    "\n",
    "# Set plot title and axes labels\n",
    "ax.set(title = \"Средняя относительная ошибка по дебиту\",\n",
    "       xlabel = \"Номер скважины\",\n",
    "       ylabel = \"%\")\n",
    "\n",
    "\n",
    "plt.savefig(f'images/well_mae_hist.png')\n",
    "plt.show()"
   ]
  },
  {
   "cell_type": "markdown",
   "metadata": {},
   "source": [
    "1. активная мощность и дебит(initedit), адапт инпут тож самое\n",
    "\n",
    "# Построение исходных данных"
   ]
  },
  {
   "cell_type": "code",
   "execution_count": null,
   "metadata": {
    "scrolled": true
   },
   "outputs": [],
   "source": [
    "'''\n",
    "sc = MinMaxScaler()\n",
    "for well in wells:\n",
    "    fig = plt.figure(figsize=(16,9))\n",
    "    w_data_adapt_in = pd.read_csv(f'{well}\\\\{well}\\\\adapt_input{time_marks_ad_in[well]}\\\\{well}_adapt_input.csv')\n",
    "    \n",
    "    ax = plt.subplot(2, 1, 2)\n",
    "    #fig, ax = plt.subplots(figsize=(16, 8))\n",
    "    date = pd.to_datetime(w_data_adapt_in['Время'])\n",
    "    ax.plot(date, sc.fit_transform(w_data_adapt_in['Активная мощность (СУ)'].values.reshape(-1, 1)),\n",
    "            label='Активная мощность (СУ)')\n",
    "    ax.plot(date, sc.fit_transform(w_data_adapt_in['ГФ (СУ)'].values.reshape(-1, 1)),\n",
    "            label='ГФ (СУ)')\n",
    "    ax.plot(date, sc.fit_transform(w_data_adapt_in['Процент обводненности (СУ)'].values.reshape(-1, 1)),\n",
    "            label='Обводненность (СУ)')\n",
    "    ax.xaxis.set_major_formatter(DateFormatter('%d/%m'))\n",
    "\n",
    "    ax.set(xlabel='Date: day/month', ylabel='dimentionless',\n",
    "           title=f'Отмасштабированные входные данные, скважина {well}')\n",
    "    plt.legend(loc='upper right', bbox_to_anchor=(1.24, 0.8))\n",
    "    plt.tight_layout()\n",
    "    plt.savefig(f'images\\\\init_data_with_gf_{well}.png')\n",
    "    plt.show()\n",
    "'''"
   ]
  },
  {
   "cell_type": "code",
   "execution_count": null,
   "metadata": {
    "scrolled": false
   },
   "outputs": [],
   "source": [
    "sc = MinMaxScaler()\n",
    "for well in wells:\n",
    "    fig = plt.figure(figsize=(16,9))\n",
    "    w_data_adapt_in = pd.read_csv(f'data\\\\{well}\\\\adapt_input\\\\{well}_adapt_input.csv')\n",
    "    \n",
    "    ax = plt.subplot(2, 1, 2)\n",
    "    #fig, ax = plt.subplots(figsize=(16, 8))\n",
    "    date = pd.to_datetime(w_data_adapt_in['Время'])\n",
    "    ax.plot(date, sc.fit_transform(w_data_adapt_in['Активная мощность (СУ)'].values.reshape(-1, 1)),\n",
    "            label='Активная мощность (СУ)')\n",
    "    ax.plot(date, sc.fit_transform(w_data_adapt_in['ГФ (СУ)'].values.reshape(-1, 1)),\n",
    "            label='ГФ (СУ)')\n",
    "    ax.xaxis.set_major_formatter(DateFormatter('%d/%m'))\n",
    "\n",
    "    ax.set(xlabel='Date: day/month', ylabel='dimentionless',\n",
    "           title=f'Отмасштабированные входные данные, скважина {well}')\n",
    "    plt.legend(loc='upper right', bbox_to_anchor=(1.28, 0.8))\n",
    "    plt.tight_layout()\n",
    "    plt.savefig(f'images\\\\{well}\\\\init_data_power_and_gf_{well}.png')\n",
    "    plt.show()"
   ]
  },
  {
   "cell_type": "markdown",
   "metadata": {},
   "source": [
    "# 19 слайд инти дата, сделаем норм графики для патернов"
   ]
  }
 ],
 "metadata": {
  "kernelspec": {
   "display_name": "Python 3",
   "language": "python",
   "name": "python3"
  },
  "language_info": {
   "codemirror_mode": {
    "name": "ipython",
    "version": 3
   },
   "file_extension": ".py",
   "mimetype": "text/x-python",
   "name": "python",
   "nbconvert_exporter": "python",
   "pygments_lexer": "ipython3",
   "version": "3.7.3"
  }
 },
 "nbformat": 4,
 "nbformat_minor": 2
}
