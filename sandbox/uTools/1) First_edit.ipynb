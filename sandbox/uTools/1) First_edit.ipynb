{
 "cells": [
  {
   "cell_type": "code",
   "execution_count": 1,
   "metadata": {},
   "outputs": [
    {
     "name": "stdout",
     "output_type": "stream",
     "text": [
      "C:\\Users\\LemikhovAlex\\Documents\\CET\\git\\unifloc_vba\\\\\n",
      "Затрачено времени всего: 0.0\n"
     ]
    }
   ],
   "source": [
    "import os\n",
    "import pandas as pd\n",
    "import numpy as np\n",
    "import preprocessor as prep\n",
    "import postprocessor as postp\n",
    "import processor as proc\n",
    "import pandas as pd\n",
    "import unifloc.uniflocpy.uTools.plotly_workflow as pw\n",
    "import datetime\n",
    "from sklearn import metrics\n",
    "import multiprocessing as mp\n",
    "from multiprocessing import Pool\n",
    "from preprocessor import load_and_edit_chess_data\n",
    "import numpy as np\n",
    "from sklearn import metrics\n",
    "from sklearn.preprocessing import StandardScaler\n",
    "import matplotlib.pyplot as plt\n",
    "\n",
    "from pandas.api.types import is_numeric_dtype"
   ]
  },
  {
   "cell_type": "markdown",
   "metadata": {},
   "source": [
    "Немножко пошалим, тупо запустим все скважины, про которые есть `%well_name%.csv` чтобы протестить работу с шахматками. Не надо забывать закрывать всплывающие вкладки, они убьют компуцкер"
   ]
  },
  {
   "cell_type": "code",
   "execution_count": 2,
   "metadata": {},
   "outputs": [
    {
     "name": "stdout",
     "output_type": "stream",
     "text": [
      "1628 done\n"
     ]
    }
   ],
   "source": [
    "#well_names = ['569', '601', '1354', '1567', '1602', '1628']\n",
    "well_names = ['1628']\n",
    "for well_name in well_names:\n",
    "    chess_file_name = 'Скв. ' + well_name + ' (01.08.2018-28.02.2019).xls'\n",
    "    tr_name = \"Техрежим, , февраль 2019.xls\"\n",
    "    # TODO убрать флаги\n",
    "    read_initial_data = True\n",
    "    plot_initial_data = True\n",
    "    create_input_data = True\n",
    "    multiprocessing_on = True #TODO может быть убрать флаги, как лучше?\n",
    "    created_input_data_type = 0 # 0 - adaptation input, 1 - restore input with calibation coefficients\n",
    "\n",
    "    current_path = os.getcwd()\n",
    "    time_mark = ''  # datetime.datetime.today().strftime('%Y_%m_%d_%H_%M_%S')\n",
    "    path_to_data = current_path + \"\\\\data\\\\\"\n",
    "    path_to_work_dir = current_path + \"\\\\data\\\\\" + well_name +  \"\\\\\"\n",
    "    save_dir_name = 'init_edit'\n",
    "    path_to_save = path_to_work_dir + save_dir_name + '\\\\'\n",
    "\n",
    "    cs_data_filename = path_to_save + well_name + \"_first_edit.csv\"\n",
    "\n",
    "    left_boundary = [datetime.datetime(2019,1,1)]#, datetime.datetime(2018,11,29)]\n",
    "    right_boundary = [datetime.datetime(2019,2,28)]#, datetime.datetime(2019,2,28)]\n",
    "\n",
    "\n",
    "    if read_initial_data:\n",
    "        try:\n",
    "            os.mkdir(path_to_work_dir + save_dir_name)\n",
    "        except:\n",
    "            pass\n",
    "        data_file_path = path_to_work_dir + well_name + \".csv\"\n",
    "        try:\n",
    "            try:\n",
    "                well_data = pd.read_csv(data_file_path,sep=';', header=None, skiprows = 1)\n",
    "            except:\n",
    "                well_data = pd.read_csv(data_file_path,sep='\\\\t', header=None)\n",
    "            well_data = prep.initial_editing(well_data, well_name)\n",
    "            well_data = prep.create_edited_df(well_data)\n",
    "        except:\n",
    "            data_file_path = path_to_work_dir + well_name + \".csv\"\n",
    "            well_data = pd.read_csv(data_file_path, sep='\\\\t', skiprows = 1, skipfooter =1, index_col = 'Названия строк')#, header=None)\n",
    "            well_data.index.name = 'Время'\n",
    "            well_data.index = pd.to_datetime(well_data.index)\n",
    "            del well_data['Общий итог']\n",
    "            well_data.columns = prep.del_inf_in_columns_name(well_data, well_name)\n",
    "\n",
    "    #TODO использовать библиотеку modin вместо pandas\n",
    "    well_data.to_csv(path_to_save + well_name + \"_first_edit.csv\")\n",
    "\n",
    "    well_data['ГФ, м3/м3'] = well_data['Объемный дебит газа'] / well_data['Объемный дебит нефти']\n",
    "    qliq = {'Объемный дебит жидкости':['Объемный дебит жидкости']}\n",
    "    gor = {'ГФ, м3/м3':['ГФ, м3/м3']}\n",
    "    wc = {'Процент обводненности':['Процент обводненности']}\n",
    "    pressure_intake = {'Давление на приеме': ['Давление на приеме насоса (пласт. жидкость)']}\n",
    "    pressure_wh = {'Линейное давление': ['Линейное давление']}\n",
    "    temp_intake = {'Температура на приеме насоса': ['Температура на приеме насоса (пласт. жидкость)']}\n",
    "    frequencies = {'Выходная частота ПЧ':\n",
    "                   ['Выходная частота ПЧ']}\n",
    "    load = {'Загрузка двигателя': ['Загрузка двигателя']}\n",
    "    power = {'Активная мощность':['Активная мощность']}\n",
    "    voltage = {'Напряжение на выходе ТМПН':['Напряжение на выходе ТМПН']}\n",
    "    cos = {'Коэффициент мощности':['Коэффициент мощности']}\n",
    "    time = {'Время замеров':['Время замера фактическое','Время замера плановое']}\n",
    "    current =  {'Ток фазы А':['Ток фазы А']}\n",
    "    all_banches = [qliq,gor, wc, time, pressure_intake, pressure_wh, \n",
    "                   temp_intake, frequencies, load,power, voltage,cos,current]\n",
    "\n",
    "    pw.create_report_html(well_data, all_banches, path_to_save + well_name + \"_first_edit_report.html\")\n",
    "    del well_data['ГФ, м3/м3']\n",
    "\n",
    "    chess_data = prep.load_and_edit_chess_data(path_to_work_dir + chess_file_name,\n",
    "                                         '1d', without_changing = True)\n",
    "    qliq = {'Qж ТМ':['Qж ТМ']}\n",
    "    wc = {'Обв ТМ':['Обв ТМ']}\n",
    "    pressure_intake = {'Рэцн ТМ': ['Рэцн ТМ']}\n",
    "    pressure_wh = {'Рлин ТМ': ['Рлин ТМ']}\n",
    "    pressure_buf = {'Р буферное': ['Рбуф ТМ', 'Рбуф']}\n",
    "    temp_intake = {'Темп. ж. ТМ ': ['Темп. ж. ТМ']}\n",
    "    frequencies = {'F вращ ТМ':\n",
    "                   ['F вращ ТМ']\n",
    "                  }\n",
    "    load = {'Загр. ПЭД (ТМ)': ['Загр. ПЭД (ТМ)']}\n",
    "    cos = {'Cos ф (ТМ)':['Cos ф (ТМ)']}\n",
    "    choke = {'Dшт':['Dшт']}\n",
    "    current =  {'I A ТМ':['I A ТМ']}\n",
    "    all_banches = [qliq, wc, pressure_intake, pressure_wh, pressure_buf,\n",
    "                   temp_intake, frequencies, load,cos,choke, current]\n",
    "\n",
    "    pw.create_report_html(chess_data, all_banches, path_to_save + well_name + \"_chess_report.html\")\n",
    "    print(f'{well_name} done')"
   ]
  },
  {
   "cell_type": "code",
   "execution_count": null,
   "metadata": {},
   "outputs": [],
   "source": []
  }
 ],
 "metadata": {
  "kernelspec": {
   "display_name": "Python 3",
   "language": "python",
   "name": "python3"
  },
  "language_info": {
   "codemirror_mode": {
    "name": "ipython",
    "version": 3
   },
   "file_extension": ".py",
   "mimetype": "text/x-python",
   "name": "python",
   "nbconvert_exporter": "python",
   "pygments_lexer": "ipython3",
   "version": "3.7.4"
  }
 },
 "nbformat": 4,
 "nbformat_minor": 2
}
