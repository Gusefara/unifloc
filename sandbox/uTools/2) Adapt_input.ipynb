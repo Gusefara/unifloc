{
 "cells": [
  {
   "cell_type": "code",
   "execution_count": null,
   "metadata": {},
   "outputs": [],
   "source": [
    "import os\n",
    "import pandas as pd\n",
    "import numpy as np\n",
    "import preprocessor as prep\n",
    "import postprocessor as postp\n",
    "import processor as proc\n",
    "import pandas as pd\n",
    "import unifloc.uniflocpy.uTools.plotly_workflow as pw\n",
    "import datetime\n",
    "from sklearn import metrics\n",
    "import multiprocessing as mp\n",
    "from multiprocessing import Pool\n",
    "from preprocessor import load_and_edit_chess_data\n",
    "import seaborn as sns\n",
    "\n",
    "from sklearn import metrics\n",
    "from sklearn import linear_model\n",
    "from sklearn.model_selection import train_test_split\n",
    "from sklearn.model_selection import GridSearchCV\n",
    "import numpy as np\n",
    "from sklearn import metrics\n",
    "from sklearn.preprocessing import StandardScaler\n",
    "import matplotlib.pyplot as plt\n",
    "from scipy import stats\n",
    "from sklearn.decomposition import PCA\n",
    "from pandas.api.types import is_numeric_dtype"
   ]
  },
  {
   "cell_type": "markdown",
   "metadata": {},
   "source": [
    "Здесь я хочу избавиться от \"временной метки\", она сильно мешает автоматической обработке данных\n",
    "\n",
    "Вместо неё в ячейке ниже есть `mark` - то что припишется в конце папки"
   ]
  },
  {
   "cell_type": "code",
   "execution_count": null,
   "metadata": {},
   "outputs": [],
   "source": [
    "mark = ''\n",
    "left_boundary = [datetime.datetime(2019,1,1)]#, datetime.datetime(2018,11,29)]\n",
    "right_boundary = [datetime.datetime(2019,2,28)]#, datetime.datetime(2019,2,28)]"
   ]
  },
  {
   "cell_type": "code",
   "execution_count": null,
   "metadata": {},
   "outputs": [],
   "source": [
    "time_to_resamle = '3h'\n",
    "created_input_data_type = 0 \n",
    "well_names = ['569', '601', '1354', '1567', '1602', '1628']\n",
    "for well_name in well_names:\n",
    "    path_to_well = f'data/{well_name}'\n",
    "    cs_data_filename = f'{path_to_well}/init_edit/{well_name}_first_edit.csv'\n",
    "    edited_data_cs = prep.load_and_edit_cs_data(cs_data_filename=cs_data_filename,\n",
    "                                                time_to_resamle=time_to_resamle, \n",
    "                                                created_input_data_type=created_input_data_type\n",
    "                                               )\n",
    "    chess_data = prep.load_and_edit_chess_data(f'{path_to_well}/Скв. {well_name} (01.08.2018-28.02.2019).xls',\n",
    "                                               time_to_resamle)\n",
    "    \n",
    "    path_to_input_data = f'{path_to_well}/adapt_input'+mark\n",
    "    try:\n",
    "        os.mkdir(path_to_input_data)\n",
    "    except:\n",
    "        pass\n",
    "    created_input_data = edited_data_cs.join(chess_data, how = 'outer')\n",
    "    created_input_data = created_input_data.dropna(subset = ['Объемный дебит жидкости (СУ)'])\n",
    "    created_input_data = prep.cut_df(created_input_data, left_boundary, right_boundary)\n",
    "    plot_file_path = f'{path_to_input_data}/{well_name}_adapt_input.html'\n",
    "    input_data_traces = pw.create_traces_list_for_all_columms(created_input_data, 'lines+markers', use_gl = True)\n",
    "    pw.plot_subplots(input_data_traces, plot_file_path, True)\n",
    "\n",
    "    created_input_data.to_csv(f'data/{well_name}/adapt_input/{well_name}_adapt_input.csv')\n",
    "    created_input_data['Линейное давление (СУ)'] =  created_input_data['Линейное давление (СУ)'] * 10\n",
    "    \n",
    "    qliq = {'Объемный дебит жидкости (СУ)':['Объемный дебит жидкости (СУ)']}\n",
    "    pressure_intake = {'Давление на приеме': ['Давление на приеме насоса (пласт. жидкость) (СУ)']}\n",
    "    pressure_wh = {'Рлин ТМ (Ш)': ['Рлин ТМ (Ш)', 'Линейное давление (СУ)']}\n",
    "    pressure_bf = {'Рбуф (Ш)': ['Рбуф (Ш)']}\n",
    "    temp_intake = {'Температура на приеме насоса (пласт. жидкость) (СУ)': ['Температура на приеме насоса (пласт. жидкость) (СУ)']}\n",
    "    frequencies = {'Частота, Гц':\n",
    "                   ['F вращ ТМ (Ш)', 'Выходная частота ПЧ (СУ)']}\n",
    "    choke = {'Размер штуцера, мм': ['Dшт (Ш)']}\n",
    "    power = {'Активная мощность (СУ)':['Активная мощность (СУ)']}\n",
    "    voltage = {'Напряжение на выходе ТМПН (СУ)':['Напряжение на выходе ТМПН (СУ)']}\n",
    "    cos = {'Коэффициент мощности (СУ)':['Коэффициент мощности (СУ)']}\n",
    "    gor = {'ГФ (СУ)':['ГФ (СУ)']}\n",
    "    wc = {'Процент обводненности (СУ)':['Процент обводненности (СУ)']}\n",
    "    all_banches = [qliq, gor,wc, pressure_intake, pressure_wh, pressure_bf,\n",
    "                   temp_intake, frequencies, choke,power,voltage,cos]\n",
    "    \n",
    "    plot_file_path = f'{path_to_input_data}/{well_name}_adapt_input_report.html.html'\n",
    "    pw.create_report_html(created_input_data, all_banches, plot_file_path)"
   ]
  },
  {
   "cell_type": "markdown",
   "metadata": {},
   "source": [
    "Фиксим ресэмпл"
   ]
  },
  {
   "cell_type": "code",
   "execution_count": null,
   "metadata": {},
   "outputs": [],
   "source": [
    "prep.read_tr_and_get_data(os.getcwd() + '\\\\data\\\\tr\\\\' + \"Техрежим, , февраль 2019.xls\", '569').esp_name_str"
   ]
  }
 ],
 "metadata": {
  "kernelspec": {
   "display_name": "Python 3",
   "language": "python",
   "name": "python3"
  },
  "language_info": {
   "codemirror_mode": {
    "name": "ipython",
    "version": 3
   },
   "file_extension": ".py",
   "mimetype": "text/x-python",
   "name": "python",
   "nbconvert_exporter": "python",
   "pygments_lexer": "ipython3",
   "version": "3.7.3"
  }
 },
 "nbformat": 4,
 "nbformat_minor": 2
}
