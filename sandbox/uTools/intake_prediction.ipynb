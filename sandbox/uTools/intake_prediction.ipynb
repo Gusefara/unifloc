{
 "cells": [
  {
   "cell_type": "markdown",
   "metadata": {},
   "source": [
    "# Восстановление показания датчиков на приеме (P,T) с помощью ML"
   ]
  },
  {
   "cell_type": "code",
   "execution_count": null,
   "metadata": {},
   "outputs": [],
   "source": [
    "import os\n",
    "import sys\n",
    "sys.path.append('../../../')\n",
    "import pandas as pd\n",
    "import datetime\n",
    "from multiprocessing import Pool"
   ]
  },
  {
   "cell_type": "code",
   "execution_count": null,
   "metadata": {},
   "outputs": [],
   "source": [
    "import plot_workflow.plotly_option as pltl_opt\n",
    "import plot_workflow.plotly_workflow as pltl_wf\n",
    "\n",
    "from preproc_p import workflow_cs_data\n",
    "from preproc_p import workflow_chess_data\n",
    "from preproc_p import preproc_tool\n",
    "from preproc_p import workflow_calc_data\n",
    "from preproc_p import workflow_tr_data\n",
    "from preproc_p import filtration\n",
    "from proc_p import processor as proc\n",
    "\n",
    "from ml import calibr_restore as calibr_restore\n",
    "\n",
    "from postproc_p import result_and_metrics as result_and_metrics"
   ]
  },
  {
   "cell_type": "code",
   "execution_count": null,
   "metadata": {},
   "outputs": [],
   "source": [
    "well_name = '1982'\n",
    "chess_file_name = f'Скв. {well_name} (01.01.2020-29.02.2020).xls'\n",
    "# TODO убрать флаги\n",
    "read_initial_data = True\n",
    "plot_initial_data = True\n",
    "create_input_data = True\n",
    "auto_open_html = True\n",
    "multiprocessing_on = True #TODO может быть убрать флаги, как лучше?"
   ]
  },
  {
   "cell_type": "code",
   "execution_count": null,
   "metadata": {},
   "outputs": [],
   "source": [
    "static_data_full_path = preproc_tool.find_full_path_by_pattern(os.getcwd(), \"*static_data.xlsx*\")[0]"
   ]
  },
  {
   "cell_type": "code",
   "execution_count": null,
   "metadata": {},
   "outputs": [],
   "source": [
    "current_path = os.getcwd()\n",
    "time_mark = '' #datetime.datetime.today().strftime('%Y_%m_%d_%H_%M_%S')\n",
    "path_to_data = current_path + \"\\\\data\\\\\"\n",
    "path_to_work_dir = current_path + \"\\\\data\\\\\" + well_name +  \"\\\\\"\n",
    "save_dir_name = 'init_edit'\n",
    "path_to_save = path_to_work_dir + save_dir_name + '\\\\'\n",
    "dirnames_list = []\n",
    "for (dirpath, dirnames, filenames) in os.walk(path_to_data):\n",
    "    dirnames_list.extend(dirnames)\n",
    "    break\n",
    "print(dirnames_list)\n",
    "dynamic_data_full_path = path_to_save + well_name + \"_first_edit.csv\""
   ]
  },
  {
   "cell_type": "code",
   "execution_count": null,
   "metadata": {},
   "outputs": [],
   "source": [
    "#left_boundary = [datetime.datetime(2018,8,1), datetime.datetime(2018,11,29)]\n",
    "#right_boundary = [datetime.datetime(2018,11,5), datetime.datetime(2019,2,28)]\n",
    "#left_boundary = [datetime.datetime(2018,8,3), datetime.datetime(2018,11,29),   datetime.datetime(2019,2,19)]\n",
    "#right_boundary = [datetime.datetime(2018,11,6), datetime.datetime(2019,2,4),  datetime.datetime(2019,2,28)]\n",
    "#left_boundary = [datetime.datetime(2019,1,30)]\n",
    "#right_boundary = [datetime.datetime(2019,2,28)]\n",
    "left_boundary = [datetime.datetime(2018,6,27)]\n",
    "right_boundary = [datetime.datetime(2020,7,27)]"
   ]
  },
  {
   "cell_type": "code",
   "execution_count": null,
   "metadata": {},
   "outputs": [],
   "source": [
    "def run_calculation(thread_option_list):\n",
    "    if __name__ == '__main__':\n",
    "        with Pool(amount_of_threads) as p:\n",
    "            p.map(proc.calc,\n",
    "                  thread_option_list)"
   ]
  },
  {
   "cell_type": "code",
   "execution_count": null,
   "metadata": {},
   "outputs": [],
   "source": [
    "global_names = preproc_tool.GlobalNames()"
   ]
  },
  {
   "cell_type": "markdown",
   "metadata": {},
   "source": [
    "В начале 3. Подготовка данных к адаптации"
   ]
  },
  {
   "cell_type": "code",
   "execution_count": null,
   "metadata": {},
   "outputs": [],
   "source": [
    "time_to_resamle = '1h'\n",
    "input_data_dir_name = 'adapt_input_' + time_mark\n",
    "path_to_input_data = path_to_work_dir + input_data_dir_name + '\\\\'\n",
    "plot_file_path = path_to_input_data + well_name\n",
    "if create_input_data:\n",
    "    try:\n",
    "        os.mkdir(path_to_work_dir + input_data_dir_name)\n",
    "    except:\n",
    "        pass"
   ]
  },
  {
   "cell_type": "code",
   "execution_count": null,
   "metadata": {},
   "outputs": [],
   "source": [
    "prepared_dynamic_data = pd.read_csv(path_to_save + well_name + \"_second_edit.csv\", index_col = 'Время', parse_dates = True, dayfirst = True)"
   ]
  },
  {
   "cell_type": "code",
   "execution_count": null,
   "metadata": {},
   "outputs": [],
   "source": [
    "left_border_to_train = datetime.datetime(2020,1,21)\n",
    "items_to_median_filtration = 25\n",
    "flot_filtration = True\n",
    "time_to_resample = '1800s'\n",
    "use_time_as_int_in_column = True"
   ]
  },
  {
   "cell_type": "code",
   "execution_count": null,
   "metadata": {},
   "outputs": [],
   "source": [
    "essential_df = prepared_dynamic_data[global_names.return_essential_parameters() + [global_names.i_a_motor_a]]\n",
    "essential_df = essential_df[essential_df.index >=left_border_to_train]\n",
    "\n",
    "for i in global_names.return_essential_parameters():\n",
    "    smooth_df = filtration.check_medfit(essential_df, i, items_to_median_filtration, flot_filtration)\n",
    "    essential_df[i] = smooth_df[i + ' (median)']\n",
    "essential_df_resampled = essential_df.resample(time_to_resample).mean()"
   ]
  },
  {
   "cell_type": "code",
   "execution_count": null,
   "metadata": {},
   "outputs": [],
   "source": [
    "parameters_to_restore_intake = [global_names.p_buf_atm,\n",
    "                                global_names.cos_phi_d,\n",
    "                                global_names.u_motor_v, \n",
    "                                global_names.motor_load_perc, \n",
    "                                global_names.freq_hz,\n",
    "                                global_names.active_power_kwt]\n",
    "predicted_intake_parameters = [global_names.p_intake_atm, global_names.t_intake_c]"
   ]
  },
  {
   "cell_type": "markdown",
   "metadata": {},
   "source": [
    "Проверка метода восстановления на исходных данных"
   ]
  },
  {
   "cell_type": "code",
   "execution_count": null,
   "metadata": {},
   "outputs": [],
   "source": [
    "train_data = essential_df_resampled.dropna(subset = [global_names.p_intake_atm])\n",
    "forecast_data = essential_df_resampled[essential_df_resampled.index >= train_data.index[-1]]\n",
    "forecast_data = forecast_data[parameters_to_restore_intake]\n",
    "forecast_data = forecast_data.dropna()"
   ]
  },
  {
   "cell_type": "code",
   "execution_count": null,
   "metadata": {},
   "outputs": [],
   "source": [
    "train_data = train_data[parameters_to_restore_intake + predicted_intake_parameters]\n",
    "train_data = train_data.dropna()\n",
    "feature_data = train_data[parameters_to_restore_intake]\n",
    "intake_data = train_data[predicted_intake_parameters]"
   ]
  },
  {
   "cell_type": "code",
   "execution_count": null,
   "metadata": {},
   "outputs": [],
   "source": [
    "x_train, x_test, y_train, y_test = calibr_restore.get_test_train_drop_2_points(feature_data,\n",
    "                                                                               intake_data)"
   ]
  },
  {
   "cell_type": "code",
   "execution_count": null,
   "metadata": {},
   "outputs": [],
   "source": [
    "p_intake_predicted = calibr_restore.predict_parameter_in_df(x_train, x_test, y_train[global_names.p_intake_atm], use_time_as_int_in_column) \n",
    "t_intake_predicted = calibr_restore.predict_parameter_in_df(x_train, x_test, y_train[global_names.t_intake_c], use_time_as_int_in_column)\n"
   ]
  },
  {
   "cell_type": "code",
   "execution_count": null,
   "metadata": {},
   "outputs": [],
   "source": [
    "y_test[global_names.p_intake_atm + ' (PREDICTION)'] = p_intake_predicted\n",
    "y_test[global_names.t_intake_c + ' (PREDICTION)'] = t_intake_predicted\n",
    "y = y_test.merge(y_train, how = 'outer')"
   ]
  },
  {
   "cell_type": "code",
   "execution_count": null,
   "metadata": {},
   "outputs": [],
   "source": [
    "y_test[[global_names.p_intake_atm, global_names.p_intake_atm + ' (PREDICTION)']].plot()"
   ]
  },
  {
   "cell_type": "code",
   "execution_count": null,
   "metadata": {},
   "outputs": [],
   "source": [
    "result_and_metrics.relative_error_perc(y_test[global_names.p_intake_atm],\n",
    "                                       y_test[global_names.p_intake_atm + ' (PREDICTION)']).abs().mean()"
   ]
  },
  {
   "cell_type": "code",
   "execution_count": null,
   "metadata": {},
   "outputs": [],
   "source": [
    "y_test[[global_names.t_intake_c, global_names.t_intake_c + ' (PREDICTION)']].plot()"
   ]
  },
  {
   "cell_type": "code",
   "execution_count": null,
   "metadata": {},
   "outputs": [],
   "source": [
    "result_and_metrics.relative_error_perc(y_test[global_names.t_intake_c],\n",
    "                                       y_test[global_names.t_intake_c + ' (PREDICTION)']).abs().mean()"
   ]
  },
  {
   "cell_type": "markdown",
   "metadata": {},
   "source": [
    "## Прогнозирование давления и температуре на приеме"
   ]
  },
  {
   "cell_type": "code",
   "execution_count": null,
   "metadata": {},
   "outputs": [],
   "source": [
    "x_train = train_data[parameters_to_restore_intake]"
   ]
  },
  {
   "cell_type": "code",
   "execution_count": null,
   "metadata": {},
   "outputs": [],
   "source": [
    "y_train = train_data[predicted_intake_parameters]"
   ]
  },
  {
   "cell_type": "code",
   "execution_count": null,
   "metadata": {},
   "outputs": [],
   "source": [
    "x_test = forecast_data"
   ]
  },
  {
   "cell_type": "code",
   "execution_count": null,
   "metadata": {},
   "outputs": [],
   "source": [
    "p_intake_forecast = calibr_restore.predict_parameter_in_df(x_train, x_test, y_train[global_names.p_intake_atm], use_time_as_int_in_column) \n",
    "t_intake_forecast = calibr_restore.predict_parameter_in_df(x_train, x_test, y_train[global_names.t_intake_c], use_time_as_int_in_column)"
   ]
  },
  {
   "cell_type": "code",
   "execution_count": null,
   "metadata": {},
   "outputs": [],
   "source": [
    "forecast = x_test.copy()\n",
    "forecast[global_names.p_intake_atm + ' (PREDICTION)'] = p_intake_forecast\n",
    "forecast[global_names.t_intake_c + ' (PREDICTION)'] = t_intake_forecast"
   ]
  },
  {
   "cell_type": "code",
   "execution_count": null,
   "metadata": {},
   "outputs": [],
   "source": [
    "result = train_data.append(forecast, sort = True)"
   ]
  },
  {
   "cell_type": "code",
   "execution_count": null,
   "metadata": {},
   "outputs": [],
   "source": [
    "result[[global_names.p_intake_atm, global_names.p_intake_atm + ' (PREDICTION)']].plot()"
   ]
  },
  {
   "cell_type": "code",
   "execution_count": null,
   "metadata": {},
   "outputs": [],
   "source": [
    "result[[global_names.t_intake_c, global_names.t_intake_c + ' (PREDICTION)']].plot()"
   ]
  },
  {
   "cell_type": "markdown",
   "metadata": {},
   "source": [
    "## Добавление результатов прогнозирования в общий набор данных"
   ]
  },
  {
   "cell_type": "code",
   "execution_count": null,
   "metadata": {},
   "outputs": [],
   "source": [
    "new_values = list(result[global_names.t_intake_c].dropna().values) + \\\n",
    "list(result[global_names.t_intake_c + ' (PREDICTION)'].dropna().values)"
   ]
  },
  {
   "cell_type": "code",
   "execution_count": null,
   "metadata": {},
   "outputs": [],
   "source": [
    "result[global_names.t_intake_c] = list(result[global_names.t_intake_c].dropna().values) + \\\n",
    "list(result[global_names.t_intake_c + ' (PREDICTION)'].dropna().values)"
   ]
  },
  {
   "cell_type": "code",
   "execution_count": null,
   "metadata": {},
   "outputs": [],
   "source": [
    "result[global_names.p_intake_atm] = list(result[global_names.p_intake_atm].dropna().values) + \\\n",
    "list(result[global_names.p_intake_atm + ' (PREDICTION)'].dropna().values)"
   ]
  },
  {
   "cell_type": "code",
   "execution_count": null,
   "metadata": {},
   "outputs": [],
   "source": [
    "essential_low_freq = essential_df[global_names.return_essential_parameters()[0:3] + \\\n",
    "                                  [global_names.i_a_motor_a]]"
   ]
  },
  {
   "cell_type": "code",
   "execution_count": null,
   "metadata": {},
   "outputs": [],
   "source": [
    "essential_low_freq[global_names.i_a_motor_a] = essential_df[global_names.i_a_motor_a]"
   ]
  },
  {
   "cell_type": "code",
   "execution_count": null,
   "metadata": {},
   "outputs": [],
   "source": [
    "result = result.join(essential_low_freq, how = 'outer')"
   ]
  },
  {
   "cell_type": "code",
   "execution_count": null,
   "metadata": {},
   "outputs": [],
   "source": [
    "result[global_names.d_choke_mm] = result[global_names.p_intake_atm]* 0 + 32"
   ]
  },
  {
   "cell_type": "code",
   "execution_count": null,
   "metadata": {},
   "outputs": [],
   "source": [
    "prepared_dynamic_data[global_names.p_intake_atm].dropna().plot()"
   ]
  },
  {
   "cell_type": "code",
   "execution_count": null,
   "metadata": {},
   "outputs": [],
   "source": [
    "old_p_intake = prepared_dynamic_data[global_names.p_intake_atm]\n",
    "old_p_intake.dropna().plot()"
   ]
  },
  {
   "cell_type": "code",
   "execution_count": null,
   "metadata": {},
   "outputs": [],
   "source": [
    "new_p_intake = forecast[global_names.p_intake_atm + ' (PREDICTION)']\n",
    "new_p_intake.plot()"
   ]
  },
  {
   "cell_type": "code",
   "execution_count": null,
   "metadata": {},
   "outputs": [],
   "source": [
    "combined_p_intake = old_p_intake.append(new_p_intake)\n",
    "combined_p_intake.dropna().plot()"
   ]
  },
  {
   "cell_type": "code",
   "execution_count": null,
   "metadata": {},
   "outputs": [],
   "source": [
    "prepared_dynamic_data[global_names.p_intake_atm].dropna().plot()"
   ]
  },
  {
   "cell_type": "code",
   "execution_count": null,
   "metadata": {},
   "outputs": [],
   "source": [
    "del prepared_dynamic_data[global_names.p_intake_atm]"
   ]
  },
  {
   "cell_type": "code",
   "execution_count": null,
   "metadata": {},
   "outputs": [],
   "source": [
    "combined_p_intake.name = global_names.p_intake_atm"
   ]
  },
  {
   "cell_type": "code",
   "execution_count": null,
   "metadata": {},
   "outputs": [],
   "source": [
    "prepared_dynamic_data = prepared_dynamic_data.join(combined_p_intake, how = 'outer')"
   ]
  },
  {
   "cell_type": "code",
   "execution_count": null,
   "metadata": {},
   "outputs": [],
   "source": [
    "prepared_dynamic_data[global_names.p_intake_atm].dropna().plot()"
   ]
  },
  {
   "cell_type": "code",
   "execution_count": null,
   "metadata": {},
   "outputs": [],
   "source": [
    "prepared_dynamic_data[global_names.d_choke_mm] = prepared_dynamic_data[global_names.p_intake_atm]* 0 + 32"
   ]
  },
  {
   "cell_type": "code",
   "execution_count": null,
   "metadata": {},
   "outputs": [],
   "source": [
    "prepared_dynamic_data.to_csv(path_to_save + well_name + \"_third_edit.csv\")"
   ]
  },
  {
   "cell_type": "code",
   "execution_count": null,
   "metadata": {},
   "outputs": [],
   "source": [
    "all_banches = pltl_opt.create_banches_for_report(report_type = 'second_edit_data')\n",
    "pltl_wf.create_report_html(prepared_dynamic_data, all_banches, path_to_save + well_name +\n",
    "                           \"_third_edit_data.html\",  auto_open = auto_open_html)"
   ]
  },
  {
   "cell_type": "code",
   "execution_count": null,
   "metadata": {},
   "outputs": [],
   "source": []
  }
 ],
 "metadata": {
  "kernelspec": {
   "display_name": "Python 3",
   "language": "python",
   "name": "python3"
  },
  "language_info": {
   "codemirror_mode": {
    "name": "ipython",
    "version": 3
   },
   "file_extension": ".py",
   "mimetype": "text/x-python",
   "name": "python",
   "nbconvert_exporter": "python",
   "pygments_lexer": "ipython3",
   "version": "3.7.6"
  }
 },
 "nbformat": 4,
 "nbformat_minor": 2
}
